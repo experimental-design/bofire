{
 "cells": [
  {
   "cell_type": "code",
   "execution_count": 1,
   "metadata": {},
   "outputs": [
    {
     "name": "stderr",
     "output_type": "stream",
     "text": [
      "/opt/homebrew/Caskroom/miniforge/base/envs/bofire/lib/python3.10/site-packages/tqdm/auto.py:22: TqdmWarning: IProgress not found. Please update jupyter and ipywidgets. See https://ipywidgets.readthedocs.io/en/stable/user_install.html\n",
      "  from .autonotebook import tqdm as notebook_tqdm\n"
     ]
    },
    {
     "name": "stdout",
     "output_type": "stream",
     "text": [
      "tensor([[1.0000, 0.8000, 0.5000]])\n",
      "tensor(2.3000)\n"
     ]
    },
    {
     "name": "stderr",
     "output_type": "stream",
     "text": [
      "/Users/j30607/sandbox/botorch/botorch/models/gpytorch.py:129: UserWarning: The model inputs are of type torch.float32. It is strongly recommended to use double precision in BoTorch, as this improves both precision and stability and can help avoid numerical errors. See https://github.com/pytorch/botorch/discussions/1444\n",
      "  warnings.warn(_get_single_precision_warning(X.dtype), UserWarning)\n"
     ]
    }
   ],
   "source": [
    "import torch\n",
    "from botorch.models import SingleTaskGP\n",
    "from botorch.fit import fit_gpytorch_mll\n",
    "from botorch.utils import standardize\n",
    "from gpytorch.mlls import ExactMarginalLogLikelihood\n",
    "from botorch.utils.sampling import get_polytope_samples\n",
    "\n",
    "def constraint(X):\n",
    "    return torch.sum(X[...,:2], dim=-1) -1.80\n",
    "\n",
    "train_X = torch.rand(10, 3)\n",
    "Y = 1 - torch.norm(train_X[:,:2] - 0.5, dim=-1, keepdim=True)\n",
    "Y = Y + 0.1 * torch.randn_like(Y)  # add some noise\n",
    "train_Y = standardize(Y)\n",
    "\n",
    "gp = SingleTaskGP(train_X, train_Y)\n",
    "mll = ExactMarginalLogLikelihood(gp.likelihood, gp)\n",
    "fit_gpytorch_mll(mll)\n",
    "\n",
    "from botorch.acquisition import UpperConfidenceBound\n",
    "\n",
    "UCB = UpperConfidenceBound(gp, beta=0.1)\n",
    "\n",
    "from botorch.optim import optimize_acqf\n",
    "\n",
    "\n",
    "bounds = torch.stack([torch.zeros(3), torch.ones(3)])\n",
    "\n",
    "batch_initial_conditions = get_polytope_samples(\n",
    "    n=5,\n",
    "    bounds=bounds,\n",
    "    inequality_constraints=[(torch.tensor([0,1]),torch.tensor([1.,1.]),1.8)],\n",
    "    n_burnin=1000\n",
    ").unsqueeze(-2)\n",
    "\n",
    "#batch_initial_conditions[...,-1] = 0.51\n",
    "\n",
    "\n",
    "candidate, acq_value = optimize_acqf(\n",
    "    UCB, \n",
    "    bounds=bounds, \n",
    "    q=1, \n",
    "    num_restarts=5, \n",
    "    raw_samples=20,\n",
    "    fixed_features={2:0.5}, \n",
    "    nonlinear_inequality_constraints = [constraint],\n",
    "    batch_initial_conditions = batch_initial_conditions\n",
    ")\n",
    "print(candidate)  # tensor([0.4887, 0.5063])\n",
    "print(candidate.sum())"
   ]
  },
  {
   "cell_type": "code",
   "execution_count": 18,
   "metadata": {},
   "outputs": [
    {
     "data": {
      "text/plain": [
       "tensor(1.7622)"
      ]
     },
     "execution_count": 18,
     "metadata": {},
     "output_type": "execute_result"
    }
   ],
   "source": [
    "#batch_initial_conditions[...,-1] = 0.51\n",
    "\n",
    "batch_initial_conditions"
   ]
  },
  {
   "cell_type": "code",
   "execution_count": 23,
   "metadata": {},
   "outputs": [
    {
     "data": {
      "text/plain": [
       "0.04289999999999994"
      ]
     },
     "execution_count": 23,
     "metadata": {},
     "output_type": "execute_result"
    }
   ],
   "source": [
    "0.2409+0.3020-0.5"
   ]
  },
  {
   "cell_type": "code",
   "execution_count": 26,
   "metadata": {},
   "outputs": [
    {
     "data": {
      "text/plain": [
       "tensor([[[0.2409, 0.3020, 0.8284],\n",
       "         [0.9964, 0.2340, 0.2588]],\n",
       "\n",
       "        [[0.8168, 0.1836, 0.4096],\n",
       "         [0.9400, 0.1572, 0.7149]],\n",
       "\n",
       "        [[0.8562, 0.6386, 0.2433],\n",
       "         [0.0539, 0.6275, 0.2009]],\n",
       "\n",
       "        [[0.3394, 0.0418, 0.9832],\n",
       "         [0.0866, 0.8408, 0.6403]],\n",
       "\n",
       "        [[0.5344, 0.4981, 0.0286],\n",
       "         [0.3925, 0.0441, 0.2758]],\n",
       "\n",
       "        [[0.4395, 0.7974, 0.1505],\n",
       "         [0.0244, 0.4612, 0.5825]],\n",
       "\n",
       "        [[0.3437, 0.0486, 0.8325],\n",
       "         [0.1474, 0.1788, 0.0014]],\n",
       "\n",
       "        [[0.9382, 0.4493, 0.9168],\n",
       "         [0.3761, 0.5967, 0.8065]]])"
      ]
     },
     "execution_count": 26,
     "metadata": {},
     "output_type": "execute_result"
    }
   ],
   "source": [
    "test"
   ]
  },
  {
   "cell_type": "code",
   "execution_count": 27,
   "metadata": {},
   "outputs": [
    {
     "data": {
      "text/plain": [
       "tensor([[ 0.0429,  0.7304],\n",
       "        [ 0.5004,  0.5972],\n",
       "        [ 0.9947,  0.1813],\n",
       "        [-0.1188,  0.4273],\n",
       "        [ 0.5325, -0.0634],\n",
       "        [ 0.7369, -0.0144],\n",
       "        [-0.1077, -0.1738],\n",
       "        [ 0.8875,  0.4728]])"
      ]
     },
     "execution_count": 27,
     "metadata": {},
     "output_type": "execute_result"
    }
   ],
   "source": [
    "torch.sum(test[...,:2], dim=-1)-0.5"
   ]
  },
  {
   "cell_type": "code",
   "execution_count": 11,
   "metadata": {},
   "outputs": [],
   "source": [
    "from bofire.data_models.surrogates.api import TanimotoGPSurrogate, AnySurrogate\n",
    "from bofire.data_models.features.api import MolecularInput, ContinuousOutput\n",
    "from bofire.data_models.domain.api import Inputs, Outputs\n",
    "from bofire.data_models.molfeatures.api import Fragments\n",
    "\n",
    "import pandas as pd\n",
    "\n",
    "inputs = Inputs(features=[MolecularInput(key=\"x_1\")])\n",
    "outputs = Outputs(features=[ContinuousOutput(key=\"y\")])\n",
    "experiments = [\n",
    "    [\"CC(=O)Oc1ccccc1C(=O)O\", 88.0],\n",
    "    [\"c1ccccc1\", 35.0],\n",
    "    [\"[CH3][CH2][OH]\", 69.0],\n",
    "    [\"N[C@](C)(F)C(=O)O\", 20.0],\n",
    "]\n",
    "experiments = pd.DataFrame(experiments, columns=[\"x_1\", \"y\"])\n",
    "\n",
    "surrogate_data = TanimotoGPSurrogate(\n",
    "        inputs=inputs,\n",
    "        outputs=outputs,\n",
    "        input_preprocessing_specs={\"x_1\": Fragments()},\n",
    "    )\n",
    "\n",
    "\n",
    "# \"kernel, specs\",\n",
    "#     [\n",
    "#         (\n",
    "#             ScaleKernel(base_kernel=TanimotoKernel(ard=False)),\n",
    "#             {\"x_1\": Fingerprints(n_bits=32)},\n",
    "#         ),\n",
    "#         (\n",
    "#             ScaleKernel(base_kernel=TanimotoKernel(ard=True)),\n",
    "#             {\"x_1\": Fragments()},\n",
    "#         ),\n",
    "#         (\n",
    "#             ScaleKernel(base_kernel=TanimotoKernel(ard=False)),\n",
    "#             {\"x_1\": FingerprintsFragments(n_bits=32)},\n",
    "#         ),\n",
    "#         (\n",
    "#             ScaleKernel(base_kernel=RBFKernel(ard=True)),\n",
    "#             {\"x_1\": MordredDescriptors(descriptors=[\"NssCH2\", \"ATSC2d\"])},\n",
    "#         ),\n",
    "#     ],\n",
    "# )\n",
    "# def test_TanimotoGP(kernel, specs):\n",
    "#     inputs = Inputs(features=[MolecularInput(key=\"x_1\")])\n",
    "#     outputs = Outputs(features=[ContinuousOutput(key=\"y\")])\n",
    "#     experiments = [\n",
    "#         [\"CC(=O)Oc1ccccc1C(=O)O\", 88.0],\n",
    "#         [\"c1ccccc1\", 35.0],\n",
    "#         [\"[CH3][CH2][OH]\", 69.0],\n",
    "#         [\"N[C@](C)(F)C(=O)O\", 20.0],\n",
    "#     ]\n",
    "#     experiments = pd.DataFrame(experiments, columns=[\"x_1\", \"y\"])\n",
    "#     experiments[\"valid_y\"] = 1\n",
    "#     model = TanimotoGPSurrogate(\n",
    "#         inputs=inputs,\n",
    "#         outputs=outputs,\n",
    "#         kernel=kernel,\n",
    "#         input_preprocessing_specs=specs,\n",
    "#     )"
   ]
  },
  {
   "cell_type": "code",
   "execution_count": 3,
   "metadata": {},
   "outputs": [
    {
     "data": {
      "text/plain": [
       "{'x_1': Fingerprints(type='Fingerprints', bond_radius=5, n_bits=2048)}"
      ]
     },
     "execution_count": 3,
     "metadata": {},
     "output_type": "execute_result"
    }
   ],
   "source": [
    "surrogate_data.input_preprocessing_specs"
   ]
  },
  {
   "cell_type": "code",
   "execution_count": 7,
   "metadata": {},
   "outputs": [],
   "source": [
    "dump = surrogate_data.dict()"
   ]
  },
  {
   "cell_type": "code",
   "execution_count": 5,
   "metadata": {},
   "outputs": [],
   "source": [
    "from pydantic import parse_obj_as"
   ]
  },
  {
   "cell_type": "code",
   "execution_count": 12,
   "metadata": {},
   "outputs": [
    {
     "data": {
      "text/plain": [
       "{'x_1': Fragments(type='Fragments', fragments=None)}"
      ]
     },
     "execution_count": 12,
     "metadata": {},
     "output_type": "execute_result"
    }
   ],
   "source": [
    "dump = surrogate_data.dict()\n",
    "parse_obj_as(AnySurrogate,dump).input_preprocessing_specs"
   ]
  },
  {
   "cell_type": "code",
   "execution_count": null,
   "metadata": {},
   "outputs": [],
   "source": []
  }
 ],
 "metadata": {
  "kernelspec": {
   "display_name": "bofire",
   "language": "python",
   "name": "python3"
  },
  "language_info": {
   "codemirror_mode": {
    "name": "ipython",
    "version": 3
   },
   "file_extension": ".py",
   "mimetype": "text/x-python",
   "name": "python",
   "nbconvert_exporter": "python",
   "pygments_lexer": "ipython3",
   "version": "3.10.9"
  },
  "orig_nbformat": 4
 },
 "nbformat": 4,
 "nbformat_minor": 2
}
