{
 "cells": [
  {
   "cell_type": "markdown",
   "id": "ac4acbc2",
   "metadata": {},
   "source": [
    "## Himmelblau graphics\n",
    "\n",
    "This section shows the code to produce the Himmelblau graphics in the getting_started.ipynb notebook and the readme section."
   ]
  },
  {
   "cell_type": "code",
   "execution_count": null,
   "id": "7a501f97",
   "metadata": {},
   "outputs": [],
   "source": [
    "import numpy as np\n",
    "import pandas as pd\n",
    "import plotly.graph_objects as go\n",
    "from IPython.display import clear_output\n",
    "from PIL import Image\n",
    "\n",
    "import bofire.strategies.api as strategies\n",
    "from bofire.data_models.acquisition_functions.api import qLogEI\n",
    "from bofire.data_models.domain.api import Domain, Inputs, Outputs\n",
    "from bofire.data_models.features.api import ContinuousInput, ContinuousOutput\n",
    "from bofire.data_models.objectives.api import MinimizeObjective\n",
    "from bofire.data_models.strategies.api import SoboStrategy\n",
    "\n",
    "\n",
    "plotly_config = {\n",
    "    \"toImageButtonOptions\": {\n",
    "        \"format\": \"png\",  # one of png, svg, jpeg, webp\n",
    "        \"filename\": \"custom_image\",\n",
    "        \"scale\": 4,  # Multiply title/legend/axis/canvas sizes by this factor\n",
    "    }\n",
    "}"
   ]
  },
  {
   "cell_type": "markdown",
   "id": "10b398a9",
   "metadata": {},
   "source": [
    "#### Explore Himmelblau Function"
   ]
  },
  {
   "cell_type": "markdown",
   "id": "70e435c8",
   "metadata": {},
   "source": [
    "Let's define the Himmelblau's function to evaluate points in the domain space."
   ]
  },
  {
   "cell_type": "code",
   "execution_count": null,
   "id": "c86f8d20",
   "metadata": {},
   "outputs": [],
   "source": [
    "def himmelblau(x1, x2):\n",
    "    return (x1**2 + x2 - 11) ** 2 + (x1 + x2**2 - 7) ** 2"
   ]
  },
  {
   "cell_type": "markdown",
   "id": "2cb74caf",
   "metadata": {},
   "source": [
    "The function has 4 minima"
   ]
  },
  {
   "cell_type": "code",
   "execution_count": null,
   "id": "8c75bed9",
   "metadata": {},
   "outputs": [],
   "source": [
    "x_1_vec = np.linspace(-6, 6, 100)\n",
    "x_2_vec = np.linspace(-6, 6, 100)\n",
    "\n",
    "x_1, x_2 = np.meshgrid(x_1_vec, x_2_vec)\n",
    "results = himmelblau(x_1, x_2)\n",
    "\n",
    "x_minima = [\n",
    "    [3.0, 2.0],\n",
    "    [-2.805118, 3.131312],\n",
    "    [-3.779310, -3.283186],\n",
    "    [3.584428, -1.848126],\n",
    "]\n",
    "y_minima = np.zeros(4)"
   ]
  },
  {
   "cell_type": "markdown",
   "id": "2ac90391",
   "metadata": {},
   "source": [
    "#### Contour plot"
   ]
  },
  {
   "cell_type": "code",
   "execution_count": null,
   "id": "c5a9e198",
   "metadata": {},
   "outputs": [],
   "source": [
    "fig = go.Figure(\n",
    "    data=go.Contour(\n",
    "        z=results, x=x_1_vec, y=x_2_vec, contours_coloring=\"heatmap\", zmin=0, zmax=600\n",
    "    )\n",
    ")\n",
    "fig.update_layout(\n",
    "    title=\"Himmelblau Function\",\n",
    "    autosize=False,\n",
    "    width=750,\n",
    "    height=750,\n",
    "    margin={\"l\": 65, \"r\": 50, \"b\": 65, \"t\": 90},\n",
    "    scene={\n",
    "        \"xaxis_title\": \"x_1\",\n",
    "        \"yaxis_title\": \"x_2\",\n",
    "        \"zaxis_title\": \"y\",\n",
    "    },\n",
    ")\n",
    "\n",
    "\n",
    "fig.update_xaxes(range=[-5, 5])\n",
    "fig.update_yaxes(range=[-5, 5])\n",
    "\n",
    "for i in range(4):\n",
    "    fig.add_trace(\n",
    "        go.Scatter(\n",
    "            x=[x_minima[i][0]],\n",
    "            y=[x_minima[i][1]],\n",
    "            mode=\"markers\",\n",
    "            showlegend=False,\n",
    "            marker={\"size\": 10, \"color\": \"red\"},\n",
    "        )\n",
    "    )\n",
    "fig.show(config=plotly_config)"
   ]
  },
  {
   "cell_type": "markdown",
   "id": "a2393df5",
   "metadata": {},
   "source": [
    "#### 3D plot"
   ]
  },
  {
   "cell_type": "code",
   "execution_count": null,
   "id": "2da94c25",
   "metadata": {},
   "outputs": [],
   "source": [
    "fig = go.Figure(data=go.Surface(z=results, x=x_1_vec, y=x_2_vec))\n",
    "fig.update_layout(\n",
    "    title=\"Himmelblau Function\",\n",
    "    autosize=False,\n",
    "    width=750,\n",
    "    height=750,\n",
    "    margin={\"l\": 65, \"r\": 50, \"b\": 65, \"t\": 90},\n",
    "    scene={\n",
    "        \"xaxis_title\": \"x_1\",\n",
    "        \"yaxis_title\": \"x_2\",\n",
    "        \"zaxis_title\": \"y\",\n",
    "    },\n",
    ")\n",
    "for i in range(4):\n",
    "    fig.add_trace(\n",
    "        go.Scatter3d(\n",
    "            x=[x_minima[i][0]],\n",
    "            y=[x_minima[i][1]],\n",
    "            z=[y_minima[i]],\n",
    "            mode=\"markers\",\n",
    "            showlegend=False,\n",
    "            marker={\"size\": 10, \"color\": \"red\"},\n",
    "        )\n",
    "    )\n",
    "fig.show()"
   ]
  },
  {
   "cell_type": "markdown",
   "id": "a463ea05",
   "metadata": {},
   "source": [
    "#### Optimization Outputs"
   ]
  },
  {
   "cell_type": "code",
   "execution_count": null,
   "id": "2a6106d3",
   "metadata": {},
   "outputs": [],
   "source": [
    "objective = MinimizeObjective()\n",
    "output_feature = ContinuousOutput(key=\"y\", objective=objective)"
   ]
  },
  {
   "cell_type": "markdown",
   "id": "7645abe0",
   "metadata": {},
   "source": [
    "#### Optimization Inputs\n"
   ]
  },
  {
   "cell_type": "code",
   "execution_count": null,
   "id": "dbc40f1d",
   "metadata": {},
   "outputs": [],
   "source": [
    "input_feature_1 = ContinuousInput(key=\"x1\", bounds=[-6, 6])\n",
    "input_feature_2 = ContinuousInput(key=\"x2\", bounds=[-6, 6])"
   ]
  },
  {
   "cell_type": "markdown",
   "id": "28dad2ca",
   "metadata": {},
   "source": [
    "#### Optimization Domain"
   ]
  },
  {
   "cell_type": "code",
   "execution_count": null,
   "id": "4ec20897",
   "metadata": {},
   "outputs": [],
   "source": [
    "domain = Domain(\n",
    "    inputs=Inputs(features=[input_feature_1, input_feature_2]),\n",
    "    outputs=Outputs(features=[output_feature]),\n",
    ")"
   ]
  },
  {
   "cell_type": "markdown",
   "id": "e8f2d71a",
   "metadata": {},
   "source": [
    "#### Draw candidates and execute experiments"
   ]
  },
  {
   "cell_type": "code",
   "execution_count": null,
   "id": "9dadc7a4",
   "metadata": {},
   "outputs": [],
   "source": [
    "candidates = domain.inputs.sample(10, seed=19)\n",
    "\n",
    "experimental_output = candidates.apply(\n",
    "    lambda row: himmelblau(row[\"x1\"], row[\"x2\"]), axis=1\n",
    ")\n",
    "\n",
    "experiments = candidates.copy()\n",
    "experiments[\"y\"] = experimental_output"
   ]
  },
  {
   "cell_type": "markdown",
   "id": "10f7e66b",
   "metadata": {},
   "source": [
    "#### Defining an optimization strategy"
   ]
  },
  {
   "cell_type": "code",
   "execution_count": null,
   "id": "782ade38",
   "metadata": {},
   "outputs": [],
   "source": [
    "sobo_strategy_data_model = SoboStrategy(\n",
    "    domain=domain, acquisition_function=qLogEI(), seed=19\n",
    ")\n",
    "\n",
    "sobo_strategy = strategies.map(sobo_strategy_data_model)"
   ]
  },
  {
   "cell_type": "markdown",
   "id": "db512ef0",
   "metadata": {},
   "source": [
    "#### Define function to plot model mean prediction"
   ]
  },
  {
   "cell_type": "code",
   "execution_count": null,
   "id": "1f7dec52",
   "metadata": {},
   "outputs": [],
   "source": [
    "def plot_himmelblau_opt(samples, model_prediction, iteration):\n",
    "    fig = go.Figure(\n",
    "        data=go.Contour(\n",
    "            z=model_prediction,\n",
    "            x=x_1_vec,\n",
    "            y=x_2_vec,\n",
    "            contours_coloring=\"heatmap\",\n",
    "            colorbar={\"title\": \"y\"},\n",
    "            zmin=0,\n",
    "            zmax=600,\n",
    "        )\n",
    "    )\n",
    "    fig.update_layout(\n",
    "        title=f\"Optimization iteration: {iteration + 1}\",\n",
    "        autosize=False,\n",
    "        width=400,\n",
    "        height=350,\n",
    "        margin={\"l\": 10, \"r\": 10, \"b\": 10, \"t\": 40},\n",
    "        xaxis_title=\"x1\",\n",
    "        yaxis_title=\"x2\",\n",
    "        legend_title=\"y\",\n",
    "        yaxis={\"range\": [-6, 6]},\n",
    "        xaxis={\"range\": [-6, 6]},\n",
    "    )\n",
    "\n",
    "    for i in range(4):\n",
    "        fig.add_trace(\n",
    "            go.Scatter(\n",
    "                x=[x_minima[i][0]],\n",
    "                y=[x_minima[i][1]],\n",
    "                mode=\"markers\",\n",
    "                showlegend=False,\n",
    "                marker={\"size\": 10, \"color\": \"red\"},\n",
    "            )\n",
    "        )\n",
    "    fig.add_trace(\n",
    "        go.Scatter(\n",
    "            x=samples[\"x1\"],\n",
    "            y=samples[\"x2\"],\n",
    "            mode=\"lines\",\n",
    "            showlegend=False,\n",
    "            line={\"color\": \"blue\", \"width\": 1},\n",
    "        )\n",
    "    )\n",
    "    fig.add_trace(\n",
    "        go.Scatter(\n",
    "            x=samples[\"x1\"],\n",
    "            y=samples[\"x2\"],\n",
    "            mode=\"markers\",\n",
    "            showlegend=False,\n",
    "            marker={\"size\": 5, \"color\": \"white\", \"symbol\": \"circle-open\"},\n",
    "        )\n",
    "    )\n",
    "    return fig"
   ]
  },
  {
   "cell_type": "markdown",
   "id": "d76e01cb",
   "metadata": {},
   "source": [
    "#### Run the optimization loop"
   ]
  },
  {
   "cell_type": "code",
   "execution_count": null,
   "id": "89623ab8",
   "metadata": {},
   "outputs": [],
   "source": [
    "sobo_strategy.tell(experiments=experiments)\n",
    "prediction = sobo_strategy.predict( # type: ignore\n",
    "    pd.DataFrame({\"x1\": x_1.flatten(), \"x2\": x_2.flatten()})\n",
    ")\n",
    "pred = np.array(prediction[\"y_pred\"]).reshape(100, 100)\n",
    "\n",
    "full_experiments = experiments.copy(deep=True)\n",
    "\n",
    "for i in range(30):\n",
    "    new_candidates = sobo_strategy.ask(candidate_count=1)\n",
    "\n",
    "    new_experiments = new_candidates.copy()\n",
    "    new_experiments[\"y\"] = new_candidates.apply(\n",
    "        lambda row: himmelblau(row[\"x1\"], row[\"x2\"]), axis=1\n",
    "    )\n",
    "\n",
    "    sobo_strategy.tell(experiments=new_experiments)\n",
    "\n",
    "    clear_output(wait=True)\n",
    "\n",
    "    # Plot the optimization process\n",
    "    prediction = sobo_strategy.predict( # type: ignore\n",
    "        pd.DataFrame({\"x1\": x_1.flatten(), \"x2\": x_2.flatten()})\n",
    "    )\n",
    "    pred = np.array(prediction[\"y_pred\"]).reshape(100, 100)\n",
    "    full_experiments = pd.concat([full_experiments, new_experiments], ignore_index=True)\n",
    "    fig = plot_himmelblau_opt(full_experiments, pred, i)\n",
    "    fig.show(config=plotly_config)\n",
    "\n",
    "    fig.write_image(f\"himmelblau_{i}.png\", engine=\"orca\")"
   ]
  },
  {
   "cell_type": "markdown",
   "id": "d7b0ab32",
   "metadata": {},
   "source": [
    "#### Generate Himmelblau GIF"
   ]
  },
  {
   "cell_type": "code",
   "execution_count": null,
   "id": "e34561d1",
   "metadata": {},
   "outputs": [],
   "source": [
    "images = []\n",
    "\n",
    "for i in range(30):\n",
    "    try:\n",
    "        img = Image.open(f\"himmelblau_{i}.png\")\n",
    "        images.append(img)\n",
    "    except FileNotFoundError:\n",
    "        print(f\"File himmelblau_{i}.png not found. Skipping this file.\")\n",
    "\n",
    "if images:\n",
    "    images[0].save(\n",
    "        \"himmelblau_optimization.gif\",\n",
    "        save_all=True,\n",
    "        append_images=images[1:],\n",
    "        duration=600,\n",
    "        loop=0,\n",
    "    )\n",
    "    print(\"GIF successfully created as himmelblau_optimization.gif.\")\n",
    "else:\n",
    "    print(\"No images found to create a GIF.\")"
   ]
  }
 ],
 "metadata": {
  "kernelspec": {
   "display_name": "autolc",
   "language": "python",
   "name": "python3"
  },
  "language_info": {
   "codemirror_mode": {
    "name": "ipython",
    "version": 3
   },
   "file_extension": ".py",
   "mimetype": "text/x-python",
   "name": "python",
   "nbconvert_exporter": "python",
   "pygments_lexer": "ipython3",
   "version": "3.11.10"
  }
 },
 "nbformat": 4,
 "nbformat_minor": 5
}
