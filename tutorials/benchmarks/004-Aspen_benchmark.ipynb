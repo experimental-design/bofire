{
 "cells": [
  {
   "attachments": {},
   "cell_type": "markdown",
   "metadata": {},
   "source": [
    "# Aspen Benchmark\n",
    "Tutorial for the Aspen Benchmark interface. Aspen Benchmark connects to an Aspen Plus simulation which then can be optimized by a BO algorithm from BoFire.\n",
    "\n",
    "Make sure to close running Aspen Plus instances in the Task Manager to not cover licenses if not needed."
   ]
  },
  {
   "attachments": {},
   "cell_type": "markdown",
   "metadata": {},
   "source": [
    "## Imports"
   ]
  },
  {
   "cell_type": "code",
   "execution_count": 2,
   "metadata": {},
   "outputs": [
    {
     "name": "stderr",
     "output_type": "stream",
     "text": [
      "C:\\Users\\shafeib\\prj\\bofire\\bofire\\utils\\cheminformatics.py:19: UserWarning: mordred not installed. Mordred molecular descriptors cannot be used.\n",
      "  warnings.warn(\n",
      "C:\\Users\\shafeib\\prj\\bofire\\bofire\\surrogates\\xgb.py:12: UserWarning: xgboost not installed, BoFire's `XGBoostSurrogate` cannot be used.\n",
      "  warnings.warn(\"xgboost not installed, BoFire's `XGBoostSurrogate` cannot be used.\")\n"
     ]
    }
   ],
   "source": [
    "import pandas as pd\n",
    "from IPython.display import Image\n",
    "from functools import partial\n",
    "from bofire.benchmarks.aspen_benchmark import Aspen_benchmark\n",
    "from bofire.utils.multiobjective import compute_hypervolume, get_pareto_front\n",
    "from bofire.runners.api import run\n",
    "from bofire.data_models.api import Domain, Inputs, Outputs\n",
    "from bofire.data_models.domain.constraints import Constraints\n",
    "from bofire.data_models.constraints.api import LinearInequalityConstraint\n",
    "from bofire.data_models.features.api import (\n",
    "    CategoricalInput, \n",
    "    ContinuousInput,\n",
    "    ContinuousOutput,\n",
    ")\n",
    "from bofire.data_models.strategies.api import QnehviStrategy, PolytopeSampler, RandomStrategy\n",
    "from bofire.data_models.objectives.api import MinimizeObjective\n",
    "import bofire.strategies.api as strategies\n",
    "import os\n",
    "\n",
    "SMOKE_TEST = os.environ.get(\"SMOKE_TEST\")"
   ]
  },
  {
   "attachments": {},
   "cell_type": "markdown",
   "metadata": {},
   "source": [
    "## The Optimization case\n",
    "The following Aspen Plus digital twin of a heat pump process is supposed to be optimized. The process includes a simple two-stage heat pump shown in the figure. The degrees of freedom are the cold temperature of the secondary cycle (TW1), the hot temperatures of the secondary cycle after heat absorption in HX-01 and HX-02 (TW2, TW3), the temperatures of the input streams into mentioned heat exchangers (THX1, THX2), the smallest temperature difference for heat flow in HX-03 and HX-04 (delta THX3, delta THX4), the temperature of condensation in HX-04, and most importantly the type of working fluid used by the heat pump (WF)."
   ]
  },
  {
   "cell_type": "markdown",
   "metadata": {},
   "source": [
    "<img src=\"../../graphics/tutorials/aspen_benchmark_flowsheet.svg\" alt=\"heat pump flowsheet\" />"
   ]
  },
  {
   "cell_type": "markdown",
   "metadata": {},
   "source": [
    "## Manual Setup of the model domain"
   ]
  },
  {
   "cell_type": "code",
   "execution_count": 3,
   "metadata": {},
   "outputs": [],
   "source": [
    "# Define the input features that are supposed to be given to Aspen before each simulation run.\n",
    "# These are the parameters that are suggested by the optimizer.\n",
    "\n",
    "input_features = Inputs(\n",
    "    features=[\n",
    "        ContinuousInput(\n",
    "            key=\"THX1\",\n",
    "            bounds=(200, 300)\n",
    "        ),\n",
    "        ContinuousInput(\n",
    "            key=\"TW1\",\n",
    "            bounds=(200, 300)\n",
    "        ),\n",
    "        ContinuousInput(\n",
    "            key=\"TW2\",\n",
    "            bounds=(200, 300)\n",
    "        ),\n",
    "        ContinuousInput(\n",
    "            key=\"TW4\",\n",
    "            bounds=(200, 300)\n",
    "        ),\n",
    "        ContinuousInput(\n",
    "            key=\"DTVAP\",\n",
    "            bounds=(200, 300)\n",
    "        ),\n",
    "        ContinuousInput(\n",
    "            key=\"TCOND\",\n",
    "            bounds=(200, 300)\n",
    "        ),\n",
    "        ContinuousInput(\n",
    "            key=\"DTSG\",\n",
    "            bounds=(200, 300)\n",
    "        ),\n",
    "        ContinuousInput(\n",
    "            key=\"THX2\",\n",
    "            bounds=(200, 300)\n",
    "        ),\n",
    "        CategoricalInput(key=\"WF\", categories=[\"WF1\", \"WF2\", \"WF3\"]),\n",
    "    ]\n",
    ")\n",
    "\n",
    "\n",
    "# Define the ouput values of the Aspen simulation that are supposed to be optimized.\n",
    "# Each values needs a name \"key\" and information about whether it should be minmized \"MinimizeObjective\" or maximized \"MaximizeObjective\".\n",
    "output_features = Outputs(\n",
    "    features=[\n",
    "        ContinuousOutput(\n",
    "            key=\"QIN\",\n",
    "            objective=MinimizeObjective(w=1.0)  # values for heat are returned as a negative value, thus the need to be minimzed\n",
    "        ),\n",
    "        ContinuousOutput(\n",
    "            key=\"PEL\",\n",
    "            objective=MinimizeObjective(w=1.0)\n",
    "        ),\n",
    "        ContinuousOutput(\n",
    "            key=\"CAPEX\",\n",
    "            objective=MinimizeObjective(w=1.0)\n",
    "        ),\n",
    "    ]\n",
    ")\n",
    "\n",
    "\n",
    "# Define constraints that describe relationships between input values and thus limit the input domain.\n",
    "# E.g. x1- 2*x2 <= 0\n",
    "# Linear inequality constraints need to be manipulated into the form \"something <= right-hand-side\".\n",
    "# The involved variable names need to be passed as \"features\" within a list.\n",
    "# Coefficients are passed in the same order in another list, while the right-hand-side is passed as a constant.\n",
    "constraints = Constraints(\n",
    "    constraints=[\n",
    "        LinearInequalityConstraint(\n",
    "            features=[\"THX1\", \"TW1\"],\n",
    "            coefficients=[-1, 1],\n",
    "            rhs=-2,\n",
    "        ),\n",
    "        LinearInequalityConstraint(\n",
    "            features=[\"TW1\", \"THX2\"],\n",
    "            coefficients=[1, -1],\n",
    "            rhs=-8,\n",
    "        ),\n",
    "        LinearInequalityConstraint(\n",
    "            features=[\"TW2\", \"TW1\"],\n",
    "            coefficients=[-1, 1],\n",
    "            rhs=-3,\n",
    "        ),\n",
    "        LinearInequalityConstraint(\n",
    "            features=[\"THX2\", \"TW4\"],\n",
    "            coefficients=[-1, 1],\n",
    "            rhs=-2,\n",
    "        ),\n",
    "        LinearInequalityConstraint(\n",
    "            features=[\"TW4\", \"TW1\"],\n",
    "            coefficients=[-1, 1],\n",
    "            rhs=-3,\n",
    "        ),\n",
    "        LinearInequalityConstraint(\n",
    "            features=[\"TCOND\", \"DTSG\"],\n",
    "            coefficients=[-1, 1],\n",
    "            rhs=-100,\n",
    "        ),\n",
    "    ]\n",
    ")\n",
    "\n",
    "# Create the domain object\n",
    "domain = Domain(\n",
    "    inputs=input_features,\n",
    "    outputs=output_features,\n",
    "    constraints=constraints\n",
    ")"
   ]
  },
  {
   "attachments": {},
   "cell_type": "markdown",
   "metadata": {},
   "source": [
    "## Setup of the Variable Paths to Aspen\n",
    "The transfer of variables between Python and Aspen Plus is based on the Python interface of Aspen. For more info see https://kitchingroup.cheme.cmu.edu/blog/2013/06/14/Running-Aspen-via-Python/. Each simulation variable of Aspen Plus can be accessed manually through the variable explorer in the program \"Customize -> Variable Explorer\". Similarly, Python can read and write values from and into the variable tree. Therefore, the variable paths through that tree need to be provided."
   ]
  },
  {
   "cell_type": "code",
   "execution_count": 4,
   "metadata": {},
   "outputs": [],
   "source": [
    "# Store the paths to each variable within a dictionary with the varaible names as the keys and the paths as the values.\n",
    "\n",
    "paths = {\n",
    "    \"THX1\": \"\\\\Data\\\\Blocks\\\\HX-01-1\\\\Input\\\\VALUE\",\n",
    "    \"TW1\": \"\\\\\\Data\\\\Streams\\\\W1\\\\Input\\\\TEMP\\\\MIXED\",\n",
    "    \"TW2\": \"\\\\Data\\\\Blocks\\\\DUM-01\\\\Input\\\\TEMP\",\n",
    "    \"TW4\": \"\\\\Data\\\\Blocks\\\\DUM-02\\\\Input\\\\TEMP\",\n",
    "    \"DTVAP\": \"\\\\Data\\\\Blocks\\\\DUM-10\\\\Input\\\\DELT\",\n",
    "    \"TCOND\": \"\\\\Data\\\\Blocks\\\\DUM-11\\\\Input\\\\TEMP\",\n",
    "    \"DTSG\": \"\\\\Data\\\\Flowsheeting Options\\\\Calculator\\\\CA-01\\Input\\\\FVN_INIT_VAL\\\\DTSG\",\n",
    "    \"THX2\": \"\\\\Data\\\\Flowsheeting Options\\\\Calculator\\\\CA-06\\Input\\\\FVN_INIT_VAL\\\\TCRYST\",\n",
    "    \"WF\": \"\\\\Data\\\\Flowsheeting Options\\\\Calculator\\\\CA-07\\Input\\\\FVN_INIT_VAL\\\\WF\",\n",
    "    \"QIN\": \"\\\\Data\\\\Flowsheeting Options\\\\Calculator\\\\OBJ-01\\Output\\\\WRITE_VAL\\\\2\",\n",
    "    \"PEL\": \"\\\\Data\\\\Flowsheeting Options\\\\Calculator\\\\OBJ-02\\Output\\\\WRITE_VAL\\\\9\",\n",
    "    \"CAPEX\": \"\\\\Data\\\\Flowsheeting Options\\\\Calculator\\\\OBJ-03\\Output\\\\WRITE_VAL\\\\22\"\n",
    "}"
   ]
  },
  {
   "attachments": {},
   "cell_type": "markdown",
   "metadata": {},
   "source": [
    "## Aspen Readability\n",
    "Depending on the implementation of the simulation in Aspen Plus itself, certain input values can differ between Aspen and BoFire. Categorical inputs for example need to be set as discrete integer values in Aspen whereas BoFire uses strings for each category. To translate into the Aspen-readable version, a conversion function is needed. This is not necessary for continuous inputs."
   ]
  },
  {
   "cell_type": "code",
   "execution_count": 5,
   "metadata": {},
   "outputs": [],
   "source": [
    "# The conversion function is passed to Aspen_benchmark and will be called before new values are going to be passed to the simulation.\n",
    "# It needs the \"domain\" and the input values \"candidates\" as inputs and needs to return the input dataframe containing the translated columns that are aspen-readable.\n",
    "\n",
    "def conversion_function(domain: Domain, candidates: pd.DataFrame) -> pd.DataFrame:\n",
    "    # Iterate through input features to find the inputs, that need to be translated.\n",
    "            for feature in domain.inputs.features:\n",
    "                # Translate \"CategoricalInputs\"\n",
    "                if feature.type == \"CategoricalInput\":\n",
    "                    translated_values = []\n",
    "                    for elem in candidates[feature.key]:\n",
    "                        if elem == \"WF1\":\n",
    "                            value = 1\n",
    "                        elif elem == \"WF2\":\n",
    "                            value = 2\n",
    "                        else:\n",
    "                            value = 3\n",
    "                        translated_values.append(value)\n",
    "                # Add elif for other input types that require a translation.\n",
    "\n",
    "                    candidates[feature.key] = translated_values\n",
    "            \n",
    "            return candidates"
   ]
  },
  {
   "attachments": {},
   "cell_type": "markdown",
   "metadata": {},
   "source": [
    "## Initialization"
   ]
  },
  {
   "cell_type": "code",
   "execution_count": 6,
   "metadata": {},
   "outputs": [
    {
     "ename": "ValueError",
     "evalue": "Unable to find Aspen file ../../../../HeatPump_case_study/python/aspen_simulations/heat_pump_aspen_sim_V5.apwz",
     "output_type": "error",
     "traceback": [
      "\u001b[1;31m---------------------------------------------------------------------------\u001b[0m",
      "\u001b[1;31mValueError\u001b[0m                                Traceback (most recent call last)",
      "Cell \u001b[1;32mIn [6], line 7\u001b[0m\n\u001b[0;32m      3\u001b[0m \u001b[38;5;28;01mif\u001b[39;00m \u001b[38;5;129;01mnot\u001b[39;00m SMOKE_TEST:\n\u001b[0;32m      4\u001b[0m     \u001b[38;5;66;03m# Provide the filename to where the Aspen simulation file is located.\u001b[39;00m\n\u001b[0;32m      5\u001b[0m     \u001b[38;5;66;03m# Make sure it is a .apwz file.\u001b[39;00m\n\u001b[0;32m      6\u001b[0m     filename \u001b[38;5;241m=\u001b[39m \u001b[38;5;124m\"\u001b[39m\u001b[38;5;124m../../../../HeatPump_case_study/python/aspen_simulations/heat_pump_aspen_sim_V5.apwz\u001b[39m\u001b[38;5;124m\"\u001b[39m\n\u001b[1;32m----> 7\u001b[0m     aspen_benchmark \u001b[38;5;241m=\u001b[39m \u001b[43mAspen_benchmark\u001b[49m\u001b[43m(\u001b[49m\n\u001b[0;32m      8\u001b[0m \u001b[43m        \u001b[49m\u001b[43mfilename\u001b[49m\u001b[38;5;241;43m=\u001b[39;49m\u001b[43mfilename\u001b[49m\u001b[43m,\u001b[49m\n\u001b[0;32m      9\u001b[0m \u001b[43m        \u001b[49m\u001b[43mdomain\u001b[49m\u001b[38;5;241;43m=\u001b[39;49m\u001b[43mdomain\u001b[49m\u001b[43m,\u001b[49m\n\u001b[0;32m     10\u001b[0m \u001b[43m        \u001b[49m\u001b[43mpaths\u001b[49m\u001b[38;5;241;43m=\u001b[39;49m\u001b[43mpaths\u001b[49m\u001b[43m,\u001b[49m\n\u001b[0;32m     11\u001b[0m \u001b[43m        \u001b[49m\u001b[43mtranslate_into_aspen_readable\u001b[49m\u001b[38;5;241;43m=\u001b[39;49m\u001b[43mconversion_function\u001b[49m\n\u001b[0;32m     12\u001b[0m \u001b[43m    \u001b[49m\u001b[43m)\u001b[49m\n",
      "File \u001b[1;32m~\\prj\\bofire\\bofire\\benchmarks\\aspen_benchmark.py:61\u001b[0m, in \u001b[0;36mAspen_benchmark.__init__\u001b[1;34m(self, filename, domain, paths, additional_output_keys, translate_into_aspen_readable, **kwargs)\u001b[0m\n\u001b[0;32m     59\u001b[0m     \u001b[38;5;28mself\u001b[39m\u001b[38;5;241m.\u001b[39mfilename \u001b[38;5;241m=\u001b[39m filename\n\u001b[0;32m     60\u001b[0m \u001b[38;5;28;01melse\u001b[39;00m:\n\u001b[1;32m---> 61\u001b[0m     \u001b[38;5;28;01mraise\u001b[39;00m \u001b[38;5;167;01mValueError\u001b[39;00m(\u001b[38;5;124m\"\u001b[39m\u001b[38;5;124mUnable to find Aspen file \u001b[39m\u001b[38;5;124m\"\u001b[39m \u001b[38;5;241m+\u001b[39m filename)\n\u001b[0;32m     63\u001b[0m \u001b[38;5;28mself\u001b[39m\u001b[38;5;241m.\u001b[39mtranslate_into_aspen_readable \u001b[38;5;241m=\u001b[39m translate_into_aspen_readable\n\u001b[0;32m     64\u001b[0m \u001b[38;5;28mself\u001b[39m\u001b[38;5;241m.\u001b[39m_domain \u001b[38;5;241m=\u001b[39m domain\n",
      "\u001b[1;31mValueError\u001b[0m: Unable to find Aspen file ../../../../HeatPump_case_study/python/aspen_simulations/heat_pump_aspen_sim_V5.apwz"
     ]
    }
   ],
   "source": [
    "# if smoke test, this is skipped as no aspen is installed then\n",
    "\n",
    "if not SMOKE_TEST:\n",
    "    # Provide the filename to where the Aspen simulation file is located.\n",
    "    # Make sure it is a .apwz file.\n",
    "    filename = \"../../../../HeatPump_case_study/python/aspen_simulations/heat_pump_aspen_sim_V5.apwz\"\n",
    "    aspen_benchmark = Aspen_benchmark(\n",
    "        filename=filename,\n",
    "        domain=domain,\n",
    "        paths=paths,\n",
    "        translate_into_aspen_readable=conversion_function\n",
    "    )"
   ]
  },
  {
   "attachments": {},
   "cell_type": "markdown",
   "metadata": {},
   "source": [
    "## Sampling and Hypervolume Functions\n",
    "The sampling fuction generates random input values according the the constraints that serve as the start points for the optimizer.\n",
    "\n",
    "To assess the bayesian optimization algorithm, a hypervolume function is needed. The hypervolume function returns the current hypervolume after each run which tells the optimizer the amount of improvement. The hypervolume is computed from a reference point that needs to be derived from a first random run."
   ]
  },
  {
   "cell_type": "code",
   "execution_count": 11,
   "metadata": {},
   "outputs": [],
   "source": [
    "def sample(domain):\n",
    "    datamodel = PolytopeSampler(domain=domain)\n",
    "    sampler = strategies.map(data_model=datamodel)\n",
    "    sampled = sampler.ask(15)\n",
    "    return sampled"
   ]
  },
  {
   "cell_type": "code",
   "execution_count": 12,
   "metadata": {},
   "outputs": [],
   "source": [
    "ref_point = {\n",
    "    \"QIN\": -26,\n",
    "    \"PEL\": 30,\n",
    "    \"CAPEX\" :45\n",
    "}\n",
    "\n",
    "def hypervolume(domain: Domain, experiments: pd.DataFrame) -> float:\n",
    "    pareto_points = get_pareto_front(\n",
    "        domain=domain,\n",
    "        experiments=experiments,\n",
    "        output_feature_keys=domain.outputs.get_keys()\n",
    "    )\n",
    "    hypervolume = compute_hypervolume(\n",
    "                    domain=domain,\n",
    "                    optimal_experiments=pareto_points,\n",
    "                    ref_point=ref_point\n",
    "                )\n",
    "    return hypervolume"
   ]
  },
  {
   "attachments": {},
   "cell_type": "markdown",
   "metadata": {},
   "source": [
    "## Run Random Strategy"
   ]
  },
  {
   "cell_type": "code",
   "execution_count": 1,
   "metadata": {},
   "outputs": [
    {
     "ename": "NameError",
     "evalue": "name 'SMOKE_TEST' is not defined",
     "output_type": "error",
     "traceback": [
      "\u001b[1;31m---------------------------------------------------------------------------\u001b[0m",
      "\u001b[1;31mNameError\u001b[0m                                 Traceback (most recent call last)",
      "Cell \u001b[1;32mIn [1], line 1\u001b[0m\n\u001b[1;32m----> 1\u001b[0m \u001b[38;5;28;01mif\u001b[39;00m \u001b[38;5;129;01mnot\u001b[39;00m \u001b[43mSMOKE_TEST\u001b[49m:\n\u001b[0;32m      2\u001b[0m     random_results \u001b[38;5;241m=\u001b[39m run(\n\u001b[0;32m      3\u001b[0m         aspen_benchmark,\n\u001b[0;32m      4\u001b[0m         strategy_factory\u001b[38;5;241m=\u001b[39m\u001b[38;5;28;01mlambda\u001b[39;00m domain: strategies\u001b[38;5;241m.\u001b[39mmap(RandomStrategy(domain\u001b[38;5;241m=\u001b[39mdomain)),\n\u001b[1;32m   (...)\u001b[0m\n\u001b[0;32m      8\u001b[0m         n_procs\u001b[38;5;241m=\u001b[39m\u001b[38;5;241m1\u001b[39m,\n\u001b[0;32m      9\u001b[0m     )\n",
      "\u001b[1;31mNameError\u001b[0m: name 'SMOKE_TEST' is not defined"
     ]
    }
   ],
   "source": [
    "if not SMOKE_TEST:\n",
    "    random_results = run(\n",
    "        aspen_benchmark,\n",
    "        strategy_factory=lambda domain: strategies.map(RandomStrategy(domain=domain)),\n",
    "        n_iterations=2,\n",
    "        metric=hypervolume,\n",
    "        n_runs=1,\n",
    "        n_procs=1,\n",
    "    )"
   ]
  },
  {
   "attachments": {},
   "cell_type": "markdown",
   "metadata": {},
   "source": [
    "## Run QNEHVI Strategy"
   ]
  },
  {
   "cell_type": "code",
   "execution_count": null,
   "metadata": {},
   "outputs": [],
   "source": [
    "if not SMOKE_TEST:\n",
    "    def strategy_factory(domain: Domain):\n",
    "        data_model = QehviStrategy(domain=domain,  ref_point=ref_point)\n",
    "        return strategies.map(data_model)\n",
    "    results = run(\n",
    "        aspen_benchmark,\n",
    "        strategy_factory=strategy_factory,\n",
    "        n_iterations=15,\n",
    "        metric=hypervolume,\n",
    "        initial_sampler=sample,\n",
    "        n_runs=1,\n",
    "        n_procs=1,\n",
    "    )"
   ]
  },
  {
   "cell_type": "markdown",
   "metadata": {},
   "source": [
    "## Performance Plot"
   ]
  },
  {
   "cell_type": "code",
   "execution_count": null,
   "metadata": {},
   "outputs": [],
   "source": [
    "import plotly.express as px\n",
    "\n",
    "if not SMOKE_TEST:\n",
    "    random_results_df = random_results[0][0]\n",
    "    random_results_df[\"strategy\"] = \"RANDOM\"  # type: ignore\n",
    "    results_df = results[0][0].iloc[:,15:-1]  # type: ignore\n",
    "    # first 15 points are set random by the initial sampler\n",
    "    results_df[\"strategy\"] = \"QNEHVI\"  # type: ignore\n",
    "    ref_df = pd.DataFrame(ref_point, index=[0])\n",
    "    ref_df[\"strategy\"] = \"REF POINT\"\n",
    "    df_to_plot = pd.concat([random_results_df, results_df, ref_df], axis=0)  # type: ignore\n",
    "    df_to_plot.reset_index(inplace=True, drop=True)\n",
    "\n",
    "    df_to_plot"
   ]
  },
  {
   "cell_type": "code",
   "execution_count": null,
   "metadata": {},
   "outputs": [],
   "source": [
    "if not SMOKE_TEST:\n",
    "    px.scatter_matrix(\n",
    "        df_to_plot,\n",
    "        dimensions=[\"PEL\", \"CAPEX\", \"QIN\"],\n",
    "        color=\"strategy\",\n",
    "        width=1200,\n",
    "        height=900\n",
    "    )"
   ]
  }
 ],
 "metadata": {
  "kernelspec": {
   "display_name": "Python 3 (ipykernel)",
   "language": "python",
   "name": "python3"
  },
  "language_info": {
   "codemirror_mode": {
    "name": "ipython",
    "version": 3
   },
   "file_extension": ".py",
   "mimetype": "text/x-python",
   "name": "python",
   "nbconvert_exporter": "python",
   "pygments_lexer": "ipython3",
   "version": "3.10.9"
  }
 },
 "nbformat": 4,
 "nbformat_minor": 4
}
