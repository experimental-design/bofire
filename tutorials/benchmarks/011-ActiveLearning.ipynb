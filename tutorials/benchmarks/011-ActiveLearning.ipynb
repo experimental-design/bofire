{
 "cells": [
  {
   "cell_type": "markdown",
   "metadata": {},
   "source": [
    "# Active Learning"
   ]
  },
  {
   "cell_type": "markdown",
   "metadata": {},
   "source": [
    "Showcase of active learning in bofire. Active learning per definition focusses on fitting the model to the experimental observations best possible in an iterative manner. The ActiveLearningStrategy proposes a set of evaluation points that will gain the most information about the problem each iteration. Thus, an unknown black-box-function can be approximated without optimization. It represents an exploration-only strategy. "
   ]
  },
  {
   "cell_type": "code",
   "execution_count": 21,
   "metadata": {},
   "outputs": [],
   "source": [
    "from bofire.data_models.strategies.api import RandomStrategy\n",
    "import pandas as pd\n",
    "from bofire.runners.api import run\n",
    "import numpy as np\n",
    "from matplotlib import cm\n",
    "import matplotlib.pyplot as plt\n",
    "from bofire.benchmarks.api import GenericBenchmark\n",
    "import multiprocessing\n",
    "\n",
    "import bofire.strategies.api as strategies\n",
    "from bofire.data_models.api import Domain, Outputs, Inputs\n",
    "from bofire.data_models.features.api import ContinuousInput, ContinuousOutput\n",
    "from bofire.data_models.objectives.api import MinimizeObjective\n",
    "from bofire.benchmarks.single import Himmelblau, Ackley\n",
    "import os\n",
    "\n",
    "SMOKE_TEST = os.environ.get(\"SMOKE_TEST\")"
   ]
  },
  {
   "cell_type": "markdown",
   "metadata": {},
   "source": [
    "### 1-D Objective Function"
   ]
  },
  {
   "cell_type": "markdown",
   "metadata": {},
   "source": [
    "For a 1-D objective function. The Himmelblau benchmark is used.\n",
    "\\begin{equation}\n",
    "    f: \\mathbb{R}^2 \\rightarrow \\mathbb{R} \\quad | \\quad f(x_1, x_2) = (x_1^2 + x_2 - 11)^2 + (x_1 + x_2^2) ^2\n",
    "\\end{equation}\n",
    "To start the active learning strategy we need to supply some initial data points to set up the Gaussian Regression Model in the background."
   ]
  },
  {
   "cell_type": "code",
   "execution_count": 2,
   "metadata": {},
   "outputs": [
    {
     "data": {
      "text/html": [
       "<div>\n",
       "<style scoped>\n",
       "    .dataframe tbody tr th:only-of-type {\n",
       "        vertical-align: middle;\n",
       "    }\n",
       "\n",
       "    .dataframe tbody tr th {\n",
       "        vertical-align: top;\n",
       "    }\n",
       "\n",
       "    .dataframe thead th {\n",
       "        text-align: right;\n",
       "    }\n",
       "</style>\n",
       "<table border=\"1\" class=\"dataframe\">\n",
       "  <thead>\n",
       "    <tr style=\"text-align: right;\">\n",
       "      <th></th>\n",
       "      <th>x_1</th>\n",
       "      <th>x_2</th>\n",
       "      <th>y</th>\n",
       "      <th>valid_y</th>\n",
       "    </tr>\n",
       "  </thead>\n",
       "  <tbody>\n",
       "    <tr>\n",
       "      <th>0</th>\n",
       "      <td>-2.897341</td>\n",
       "      <td>2.362057</td>\n",
       "      <td>18.704569</td>\n",
       "      <td>1</td>\n",
       "    </tr>\n",
       "    <tr>\n",
       "      <th>1</th>\n",
       "      <td>-3.626090</td>\n",
       "      <td>-2.081527</td>\n",
       "      <td>39.610578</td>\n",
       "      <td>1</td>\n",
       "    </tr>\n",
       "    <tr>\n",
       "      <th>2</th>\n",
       "      <td>4.016088</td>\n",
       "      <td>-4.975823</td>\n",
       "      <td>474.169690</td>\n",
       "      <td>1</td>\n",
       "    </tr>\n",
       "    <tr>\n",
       "      <th>3</th>\n",
       "      <td>2.172406</td>\n",
       "      <td>5.692955</td>\n",
       "      <td>761.120020</td>\n",
       "      <td>1</td>\n",
       "    </tr>\n",
       "    <tr>\n",
       "      <th>4</th>\n",
       "      <td>-0.647563</td>\n",
       "      <td>0.199895</td>\n",
       "      <td>165.635983</td>\n",
       "      <td>1</td>\n",
       "    </tr>\n",
       "    <tr>\n",
       "      <th>5</th>\n",
       "      <td>-5.383664</td>\n",
       "      <td>1.823791</td>\n",
       "      <td>474.379723</td>\n",
       "      <td>1</td>\n",
       "    </tr>\n",
       "    <tr>\n",
       "      <th>6</th>\n",
       "      <td>1.976446</td>\n",
       "      <td>-2.679271</td>\n",
       "      <td>100.153981</td>\n",
       "      <td>1</td>\n",
       "    </tr>\n",
       "    <tr>\n",
       "      <th>7</th>\n",
       "      <td>1.088783</td>\n",
       "      <td>2.103584</td>\n",
       "      <td>61.667660</td>\n",
       "      <td>1</td>\n",
       "    </tr>\n",
       "    <tr>\n",
       "      <th>8</th>\n",
       "      <td>-5.579040</td>\n",
       "      <td>5.065536</td>\n",
       "      <td>805.700050</td>\n",
       "      <td>1</td>\n",
       "    </tr>\n",
       "    <tr>\n",
       "      <th>9</th>\n",
       "      <td>-1.263844</td>\n",
       "      <td>2.071933</td>\n",
       "      <td>69.508480</td>\n",
       "      <td>1</td>\n",
       "    </tr>\n",
       "  </tbody>\n",
       "</table>\n",
       "</div>"
      ],
      "text/plain": [
       "        x_1       x_2           y  valid_y\n",
       "0 -2.897341  2.362057   18.704569        1\n",
       "1 -3.626090 -2.081527   39.610578        1\n",
       "2  4.016088 -4.975823  474.169690        1\n",
       "3  2.172406  5.692955  761.120020        1\n",
       "4 -0.647563  0.199895  165.635983        1\n",
       "5 -5.383664  1.823791  474.379723        1\n",
       "6  1.976446 -2.679271  100.153981        1\n",
       "7  1.088783  2.103584   61.667660        1\n",
       "8 -5.579040  5.065536  805.700050        1\n",
       "9 -1.263844  2.071933   69.508480        1"
      ]
     },
     "metadata": {},
     "output_type": "display_data"
    }
   ],
   "source": [
    "himmelblau = Himmelblau()\n",
    "def sample(domain: Domain):\n",
    "    datamodel = RandomStrategy(domain=domain)\n",
    "    sampler = strategies.map(data_model=datamodel)\n",
    "    sampled = sampler.ask(10)\n",
    "    return sampled\n",
    "\n",
    "initial_points = sample(domain=himmelblau.domain)\n",
    "initial_experiments = pd.concat([initial_points, himmelblau.f(initial_points)], axis=1)\n",
    "display(initial_experiments)"
   ]
  },
  {
   "cell_type": "markdown",
   "metadata": {},
   "source": [
    "#### ActiveLearningStrategy"
   ]
  },
  {
   "cell_type": "markdown",
   "metadata": {},
   "source": [
    "The `ActiveLearningstrategy` can be set up just as other BO strategies implemented in bofire. Just take a look into the other tutorials. Basic calls are `ask()` to retrieve new evaluation candidates from the acquisition function and `tell()` to train the model with a new observation.\n",
    "\n",
    "Currently, the default active learning acqusition function implemented is `qNegIntegratedPosteriorVariance`. It focuses on minimzing the overall posterior variance by choosing a new candidate.\n",
    "\n",
    "The `ActiveLearningStrategy` uses Monte-Carlo-integration to evaluate the acquisition function. The number of integration nodes significantly influences the speed of the integration. These can be adjusted by changing the paramater `data_model.num_sobol_samples`. Note that a sample size representing a power of $2$ increases performance."
   ]
  },
  {
   "cell_type": "code",
   "execution_count": 9,
   "metadata": {},
   "outputs": [
    {
     "data": {
      "text/html": [
       "<div>\n",
       "<style scoped>\n",
       "    .dataframe tbody tr th:only-of-type {\n",
       "        vertical-align: middle;\n",
       "    }\n",
       "\n",
       "    .dataframe tbody tr th {\n",
       "        vertical-align: top;\n",
       "    }\n",
       "\n",
       "    .dataframe thead th {\n",
       "        text-align: right;\n",
       "    }\n",
       "</style>\n",
       "<table border=\"1\" class=\"dataframe\">\n",
       "  <thead>\n",
       "    <tr style=\"text-align: right;\">\n",
       "      <th></th>\n",
       "      <th>x_1</th>\n",
       "      <th>x_2</th>\n",
       "      <th>y_pred</th>\n",
       "      <th>y_sd</th>\n",
       "      <th>y_des</th>\n",
       "    </tr>\n",
       "  </thead>\n",
       "  <tbody>\n",
       "    <tr>\n",
       "      <th>0</th>\n",
       "      <td>-2.964832</td>\n",
       "      <td>-5.038646</td>\n",
       "      <td>286.855927</td>\n",
       "      <td>322.595099</td>\n",
       "      <td>-286.855927</td>\n",
       "    </tr>\n",
       "  </tbody>\n",
       "</table>\n",
       "</div>"
      ],
      "text/plain": [
       "        x_1       x_2      y_pred        y_sd       y_des\n",
       "0 -2.964832 -5.038646  286.855927  322.595099 -286.855927"
      ]
     },
     "metadata": {},
     "output_type": "display_data"
    }
   ],
   "source": [
    "# Manual set up of ActiveLearning\n",
    "from bofire.data_models.strategies.api import ActiveLearningStrategy\n",
    "from bofire.data_models.surrogates.api import BotorchSurrogates, SingleTaskGPSurrogate\n",
    "from bofire.data_models.acquisition_functions.api import qNegIntPosVar\n",
    "\n",
    "af = qNegIntPosVar(\n",
    "    n_mc_samples = 64  # lower the number of monte carlo samples to improve speed\n",
    ")\n",
    "\n",
    "data_model = ActiveLearningStrategy(\n",
    "    domain=himmelblau.domain,\n",
    "    acquisition_function=af\n",
    ")\n",
    "recommender = strategies.map(data_model=data_model)\n",
    "recommender.tell(experiments=initial_experiments)\n",
    "candidates = recommender.ask(candidate_count=1)\n",
    "display(candidates)"
   ]
  },
  {
   "cell_type": "code",
   "execution_count": 11,
   "metadata": {},
   "outputs": [],
   "source": [
    "# Running the active learning strategy\n",
    "max_iter = 20\n",
    "results = initial_experiments\n",
    "\n",
    "for iter in range(max_iter):\n",
    "    # run active learning strategy\n",
    "    X = recommender.ask(candidate_count=1)[himmelblau.domain.inputs.get_keys()]\n",
    "    Y = himmelblau.f(X)\n",
    "    XY = pd.concat([X, Y], axis=1)\n",
    "    recommender.tell(experiments=XY)  # pass new experimental data\n",
    "    results = pd.concat([results, XY], axis=0, ignore_index=True)"
   ]
  },
  {
   "cell_type": "code",
   "execution_count": 12,
   "metadata": {},
   "outputs": [
    {
     "name": "stderr",
     "output_type": "stream",
     "text": [
      "run 00 with current best 1.000: 100%|██████████| 20/20 [00:00<00:00, 160.46it/s]\n"
     ]
    }
   ],
   "source": [
    "# Running a random strategy for comparison\n",
    "def strategy_factory(domain: Domain):\n",
    "    data_model = RandomStrategy(domain=domain)\n",
    "    return strategies.map(data_model)\n",
    "\n",
    "random_results = run(\n",
    "    himmelblau,\n",
    "    strategy_factory=strategy_factory,\n",
    "    n_iterations=max_iter if not SMOKE_TEST else 1,\n",
    "    metric=lambda domain, experiments: 1.0,\n",
    "    initial_sampler=sample,\n",
    "    n_runs=1,\n",
    "    n_procs=1,\n",
    ")"
   ]
  },
  {
   "cell_type": "markdown",
   "metadata": {},
   "source": [
    "#### Plotting"
   ]
  },
  {
   "cell_type": "code",
   "execution_count": 13,
   "metadata": {},
   "outputs": [
    {
     "data": {
      "text/plain": [
       "Text(0.5, 1.0, 'active learning strategy')"
      ]
     },
     "execution_count": 13,
     "metadata": {},
     "output_type": "execute_result"
    },
    {
     "data": {
      "image/png": "[encoded data removed]",
      "text/plain": [
       "<Figure size 1000x400 with 2 Axes>"
      ]
     },
     "metadata": {},
     "output_type": "display_data"
    }
   ],
   "source": [
    "import matplotlib.pyplot as plt\n",
    "plt.rcParams[\"figure.figsize\"] = (10,4)\n",
    "\n",
    "fig, ax = plt.subplots(1,2)\n",
    "# contour plot of himmelblau\n",
    "def f(grid):\n",
    "    return (grid[0]**2 + grid[1] - 11)**2 + (grid[0] + grid[1]**2)**2\n",
    "X_grid = np.arange(-7, 7, 0.01)\n",
    "Y_grid = np.arange(-7, 7, 0.01)\n",
    "mesh = np.meshgrid(X_grid, Y_grid)\n",
    "Z = f(grid=mesh)\n",
    "levels = np.linspace(Z.min(), Z.max(), 6)\n",
    "\n",
    "\n",
    "ax[0].contourf(\n",
    "    X_grid, Y_grid, Z, cmap=cm.viridis\n",
    ")\n",
    "ax[0].scatter(random_results[0][0].x_1, random_results[0][0].x_2, c=\"white\")\n",
    "ax[1].contourf(\n",
    "    X_grid, Y_grid, Z, cmap=cm.viridis\n",
    ")\n",
    "ax[1].scatter(results.x_1, results.x_2, c=\"white\")\n",
    "\n",
    "ax[0].axis([-7, 7, -7, 7])\n",
    "ax[0].set_xlabel(\"$x_1$\")\n",
    "ax[1].set_xlabel(\"$x_1$\")\n",
    "ax[0].set_ylabel(\"$x_2$\")\n",
    "ax[0].set_title(\"random strategy\")\n",
    "ax[1].set_title(\"active learning strategy\")"
   ]
  },
  {
   "cell_type": "markdown",
   "metadata": {},
   "source": [
    "The plot shows the exploratory behavior of the `ActiveLearningStrategy`."
   ]
  },
  {
   "cell_type": "markdown",
   "metadata": {},
   "source": [
    "### 2-D (n-D) Objective Function"
   ]
  },
  {
   "cell_type": "markdown",
   "metadata": {},
   "source": [
    "Now, we want to actively learn an objective function with a multi-dimensional output space. This is shown by an example function with $2$ output variables. For this, we again utilize the Himmelblau benchmark function and the Ackley function.\n",
    "\n",
    "\\begin{equation}\n",
    "    \\bm{f}: \\mathbb{R}^2 \\rightarrow \\mathbb{R}^2   \\quad | \\quad \n",
    "    \\bm{f}(x_1, x_2) = \n",
    "        \\begin{pmatrix}\n",
    "            (x_1^2 + x_2 - 11)^2 + (x_1 + x_2^2) ^2 \\\\\n",
    "            -20\\exp \\left[-0.2{\\sqrt {0.5\\left(x_1^{2}+x_2^{2}\\right)}}\\right]\n",
    "            -\\exp \\left[0.5\\left(\\cos 2\\pi x_1+\\cos 2\\pi x_2\\right)\\right]+e+20\n",
    "\n",
    "        \\end{pmatrix}\n",
    "\\end{equation}"
   ]
  },
  {
   "cell_type": "code",
   "execution_count": 15,
   "metadata": {},
   "outputs": [],
   "source": [
    "from bofire.benchmarks.single import Ackley\n",
    "from bofire.benchmarks.benchmark import GenericBenchmark\n",
    "\n",
    "inputs = Inputs(\n",
    "    features=[\n",
    "        ContinuousInput(key=\"x_1\", bounds=(-6, 6)),\n",
    "        ContinuousInput(key=\"x_2\", bounds=(-6, 6)),\n",
    "    ]\n",
    ")\n",
    "outputs = Outputs(\n",
    "    features=[\n",
    "        ContinuousOutput(key=\"f_0\", objective=MinimizeObjective()),\n",
    "        ContinuousOutput(key=\"f_1\", objective=MinimizeObjective()),\n",
    "    ]\n",
    ")\n",
    "domain = Domain(\n",
    "    inputs=inputs, outputs=outputs\n",
    ")\n",
    "def benchmark_function(candidates):\n",
    "    f0 = (candidates[\"x_1\"] ** 2 + candidates[\"x_2\"] - 11) ** 2 + (\n",
    "        candidates[\"x_1\"] + candidates[\"x_2\"] ** 2\n",
    "    ) ** 2\n",
    "    f1 = -20 * np.exp(-0.2*np.sqrt(0.5*(candidates[\"x_1\"]**2 + candidates[\"x_2\"]**2)))\n",
    "    - np.exp(0.5*(np.cos(2*np.pi*candidates[\"x_1\"]) + np.cos(2*np.pi*candidates[\"x_2\"]))) + np.exp(1) + 20\n",
    "    return pd.DataFrame({\"f_0\": f0, \"f_1\": f1})\n",
    "\n",
    "\n",
    "function = GenericBenchmark(domain=domain, func=benchmark_function)\n",
    "initial_experiments = pd.concat([initial_points, function.f(candidates=initial_points)], axis=1)"
   ]
  },
  {
   "cell_type": "markdown",
   "metadata": {},
   "source": [
    "For the multi-objective function we need to pass two models to the strategy as each individual output is represented by a separate model.\n",
    "By default, the `ActiveLearningStrategy` focusses on minimizing the negative integrated posterior variance of each model equally. To minimize the variances in a more specific way certain weights can be provided for each output feature. This can be done by passing a `dictionary` containing the individual weights for each output feature with its corresponding key to the parameter `weights`."
   ]
  },
  {
   "cell_type": "code",
   "execution_count": 17,
   "metadata": {},
   "outputs": [
    {
     "data": {
      "text/html": [
       "<div>\n",
       "<style scoped>\n",
       "    .dataframe tbody tr th:only-of-type {\n",
       "        vertical-align: middle;\n",
       "    }\n",
       "\n",
       "    .dataframe tbody tr th {\n",
       "        vertical-align: top;\n",
       "    }\n",
       "\n",
       "    .dataframe thead th {\n",
       "        text-align: right;\n",
       "    }\n",
       "</style>\n",
       "<table border=\"1\" class=\"dataframe\">\n",
       "  <thead>\n",
       "    <tr style=\"text-align: right;\">\n",
       "      <th></th>\n",
       "      <th>x_1</th>\n",
       "      <th>x_2</th>\n",
       "      <th>f_0_pred</th>\n",
       "      <th>f_1_pred</th>\n",
       "      <th>f_0_sd</th>\n",
       "      <th>f_1_sd</th>\n",
       "      <th>f_0_des</th>\n",
       "      <th>f_1_des</th>\n",
       "    </tr>\n",
       "  </thead>\n",
       "  <tbody>\n",
       "    <tr>\n",
       "      <th>0</th>\n",
       "      <td>-4.357656</td>\n",
       "      <td>-4.50736</td>\n",
       "      <td>406.809213</td>\n",
       "      <td>-8.283611</td>\n",
       "      <td>415.41995</td>\n",
       "      <td>2.845754</td>\n",
       "      <td>-406.809213</td>\n",
       "      <td>8.283611</td>\n",
       "    </tr>\n",
       "  </tbody>\n",
       "</table>\n",
       "</div>"
      ],
      "text/plain": [
       "        x_1      x_2    f_0_pred  f_1_pred     f_0_sd    f_1_sd     f_0_des  \\\n",
       "0 -4.357656 -4.50736  406.809213 -8.283611  415.41995  2.845754 -406.809213   \n",
       "\n",
       "    f_1_des  \n",
       "0  8.283611  "
      ]
     },
     "metadata": {},
     "output_type": "display_data"
    }
   ],
   "source": [
    "# Manual set up of ActiveLearning\n",
    "weights = {\n",
    "    \"f_0\": 0.4,\n",
    "    \"f_1\": 0.6,\n",
    "}\n",
    "# create an instance of the aquisition function with distinct weights\n",
    "af = qNegIntPosVar(\n",
    "    weights=weights,\n",
    "    n_mc_samples = 64\n",
    ")\n",
    "\n",
    "data_model = ActiveLearningStrategy(\n",
    "    domain=domain,\n",
    "    surrogate_specs=BotorchSurrogates(\n",
    "        surrogates=[\n",
    "            SingleTaskGPSurrogate(\n",
    "                inputs=domain.inputs,\n",
    "                outputs=Outputs(features=[domain.outputs[0]]),\n",
    "            ),\n",
    "            SingleTaskGPSurrogate(\n",
    "                inputs=domain.inputs,\n",
    "                outputs=Outputs(features=[domain.outputs[1]]),\n",
    "            ),\n",
    "        ]\n",
    "    ),\n",
    "    acquisition_function=af\n",
    ")\n",
    "recommender = strategies.map(data_model=data_model)\n",
    "recommender.tell(experiments=initial_experiments)\n",
    "candidates = recommender.ask(candidate_count=1)\n",
    "display(candidates)"
   ]
  },
  {
   "cell_type": "code",
   "execution_count": 18,
   "metadata": {},
   "outputs": [],
   "source": [
    "# Running the active learning strategy\n",
    "max_iter = 20\n",
    "results = initial_experiments\n",
    "\n",
    "for iter in range(max_iter):\n",
    "    # run active learning strategy\n",
    "    X = recommender.ask(candidate_count=1)[domain.inputs.get_keys()]\n",
    "    Y = function.f(candidates=X)\n",
    "    XY = pd.concat([X, Y], axis=1)\n",
    "    recommender.tell(experiments=XY)  # pass new experimental data\n",
    "    results = pd.concat([results, XY], axis=0, ignore_index=True)"
   ]
  },
  {
   "cell_type": "code",
   "execution_count": 19,
   "metadata": {},
   "outputs": [
    {
     "name": "stderr",
     "output_type": "stream",
     "text": [
      "run 00 with current best 1.000: 100%|██████████| 20/20 [00:00<00:00, 166.15it/s]\n"
     ]
    }
   ],
   "source": [
    "random_results = run(\n",
    "    function,\n",
    "    strategy_factory=strategy_factory,\n",
    "    n_iterations=max_iter if not SMOKE_TEST else 1,\n",
    "    metric=lambda domain, experiments: 1.0,\n",
    "    initial_sampler=sample,\n",
    "    n_runs=1,\n",
    "    n_procs=1,\n",
    ")"
   ]
  },
  {
   "cell_type": "markdown",
   "metadata": {},
   "source": [
    "#### Plotting"
   ]
  },
  {
   "cell_type": "code",
   "execution_count": 20,
   "metadata": {},
   "outputs": [
    {
     "data": {
      "text/plain": [
       "Text(0.5, 1.0, 'active learning strategy')"
      ]
     },
     "execution_count": 20,
     "metadata": {},
     "output_type": "execute_result"
    },
    {
     "data": {
      "image/png": "[encoded data removed]",
      "text/plain": [
       "<Figure size 1000x800 with 4 Axes>"
      ]
     },
     "metadata": {},
     "output_type": "display_data"
    }
   ],
   "source": [
    "plt.rcParams[\"figure.figsize\"] = (10,8)\n",
    "fig, ax = plt.subplots(2,2)\n",
    "def f1(grid):\n",
    "    return -20 * np.exp(-0.2*np.sqrt(0.5*(grid[0]**2 + grid[1]**2))) - np.exp(0.5*(np.cos(2*np.pi*grid[0]) + np.cos(2*np.pi*grid[1]))) + np.exp(1) + 20\n",
    "Z1 = f1(mesh)\n",
    "levels = np.linspace(Z1.min(), Z1.max(), 10)\n",
    "ax[0, 0].contourf(\n",
    "    X_grid, Y_grid, Z, cmap=cm.viridis,\n",
    ")\n",
    "ax[0, 0].scatter(random_results[0][0].x_1, random_results[0][0].x_2, c=\"white\")\n",
    "ax[0, 1].contourf(\n",
    "    X_grid, Y_grid, Z, cmap=cm.viridis,\n",
    ")\n",
    "ax[0, 1].scatter(results.x_1, results.x_2, c=\"white\")\n",
    "ax[1, 0].contourf(\n",
    "    X_grid, Y_grid, Z1, cmap=cm.viridis, levels=levels\n",
    ")\n",
    "ax[1, 0].scatter(random_results[0][0].x_1, random_results[0][0].x_2, c=\"white\", edgecolors='black')\n",
    "ax[1, 1].contourf(\n",
    "    X_grid, Y_grid, Z1, cmap=cm.viridis, levels=levels\n",
    ")\n",
    "ax[1, 1].scatter(results.x_1, results.x_2, c=\"white\", edgecolors='black')\n",
    "\n",
    "ax[0, 0].axis([-7, 7, -7, 7])\n",
    "ax[1, 0].set_xlabel(\"$x_1$\")\n",
    "ax[1, 1].set_xlabel(\"$x_1$\")\n",
    "ax[0, 0].set_ylabel(\"$x_2$\")\n",
    "ax[1, 0].set_ylabel(\"$x_2$\")\n",
    "ax[0, 0].set_title(\"random strategy\")\n",
    "ax[0, 1].set_title(\"active learning strategy\")"
   ]
  }
 ],
 "metadata": {
  "kernelspec": {
   "display_name": "bayse",
   "language": "python",
   "name": "python3"
  },
  "language_info": {
   "codemirror_mode": {
    "name": "ipython",
    "version": 3
   },
   "file_extension": ".py",
   "mimetype": "text/x-python",
   "name": "python",
   "nbconvert_exporter": "python",
   "pygments_lexer": "ipython3",
   "version": "3.10.13"
  }
 },
 "nbformat": 4,
 "nbformat_minor": 2
}
