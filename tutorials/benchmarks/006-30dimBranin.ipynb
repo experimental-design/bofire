{
 "cells": [
  {
   "attachments": {},
   "cell_type": "markdown",
   "metadata": {},
   "source": [
    "# 30dim Branin Benchmark with SAASBO\n",
    "This is a port from https://github.com/pytorch/botorch/blob/main/tutorials/saasbo.ipynb\n",
    "## Imports"
   ]
  },
  {
   "cell_type": "code",
   "execution_count": 1,
   "metadata": {},
   "outputs": [
    {
     "name": "stderr",
     "output_type": "stream",
     "text": [
      "/opt/homebrew/Caskroom/miniforge/base/envs/bofire/lib/python3.10/site-packages/tqdm/auto.py:22: TqdmWarning: IProgress not found. Please update jupyter and ipywidgets. See https://ipywidgets.readthedocs.io/en/stable/user_install.html\n",
      "  from .autonotebook import tqdm as notebook_tqdm\n"
     ]
    }
   ],
   "source": [
    "from bofire.benchmarks.single import Branin30\n",
    "from bofire.benchmarks.benchmark import run\n",
    "from bofire.data_models.strategies.api import SoboStrategy, RandomStrategy, PolytopeSampler\n",
    "from bofire.data_models.surrogates.api import SaasSingleTaskGPSurrogate, BotorchSurrogates\n",
    "from bofire.data_models.acquisition_functions.api import qEI\n",
    "import bofire.strategies.api as strategies\n",
    "from bofire.data_models.api import Domain\n",
    "from functools import partial\n",
    "import pandas as pd\n",
    "import os\n",
    "\n",
    "SMOKE_TEST = os.environ.get(\"SMOKE_TEST\")\n",
    "\n",
    "N_ITERATIONS = 10 if not SMOKE_TEST else 1\n",
    "BATCH_SIZE = 5 if not SMOKE_TEST else 1\n",
    "WARMUP_STEPS = 256 if not SMOKE_TEST else 32\n",
    "NUM_SAMPLES = 128 if not SMOKE_TEST else 16\n",
    "THINNING = 16"
   ]
  },
  {
   "attachments": {},
   "cell_type": "markdown",
   "metadata": {},
   "source": [
    "## Random Optimization"
   ]
  },
  {
   "cell_type": "code",
   "execution_count": 9,
   "metadata": {},
   "outputs": [
    {
     "name": "stderr",
     "output_type": "stream",
     "text": [
      "run 00 with current best 2.097: 100%|██████████| 10/10 [00:00<00:00, 39.90it/s]\n"
     ]
    }
   ],
   "source": [
    "def sample(domain):\n",
    "    datamodel = PolytopeSampler(domain=domain)\n",
    "    sampler = strategies.map(data_model=datamodel)\n",
    "    sampled = sampler.ask(10)\n",
    "    return sampled\n",
    "\n",
    "def best(domain: Domain, experiments: pd.DataFrame) -> float:\n",
    "    return experiments.y.min()\n",
    "\n",
    "random_results = run(\n",
    "    Branin30(),\n",
    "    strategy_factory=RandomStrategy,\n",
    "    n_iterations=N_ITERATIONS,\n",
    "    metric=best,\n",
    "    initial_sampler=sample,\n",
    "    n_candidates_per_proposal=5,\n",
    "    n_runs=1,\n",
    "    n_procs=1,\n",
    ")"
   ]
  },
  {
   "attachments": {},
   "cell_type": "markdown",
   "metadata": {},
   "source": [
    "## SAASBO Optimization"
   ]
  },
  {
   "cell_type": "code",
   "execution_count": 10,
   "metadata": {},
   "outputs": [
    {
     "name": "stderr",
     "output_type": "stream",
     "text": [
      "run 00 with current best 0.399: 100%|██████████| 10/10 [10:10<00:00, 61.05s/it]\n"
     ]
    }
   ],
   "source": [
    "benchmark = Branin30()\n",
    "\n",
    "random_results = run(\n",
    "    Branin30(),\n",
    "    strategy_factory=partial(\n",
    "        SoboStrategy, \n",
    "        acquisition_function=qEI(),\n",
    "        surrogate_specs=BotorchSurrogates(\n",
    "            surrogates=[\n",
    "                SaasSingleTaskGPSurrogate(inputs=benchmark.domain.inputs, outputs=benchmark.domain.outputs,\n",
    "                                          # the following hyperparams do not need to be provided\n",
    "                                          warmup_steps=WARMUP_STEPS,\n",
    "                                          num_samples=NUM_SAMPLES, \n",
    "                                          thinning=THINNING)])\n",
    "    ),\n",
    "    n_iterations=N_ITERATIONS,\n",
    "    metric=best,\n",
    "    initial_sampler=sample,\n",
    "    n_candidates_per_proposal=5,\n",
    "    n_runs=1,\n",
    "    n_procs=1,\n",
    ")"
   ]
  }
 ],
 "metadata": {
  "kernelspec": {
   "display_name": "bofire",
   "language": "python",
   "name": "python3"
  },
  "language_info": {
   "codemirror_mode": {
    "name": "ipython",
    "version": 3
   },
   "file_extension": ".py",
   "mimetype": "text/x-python",
   "name": "python",
   "nbconvert_exporter": "python",
   "pygments_lexer": "ipython3",
   "version": "3.10.9"
  },
  "orig_nbformat": 4
 },
 "nbformat": 4,
 "nbformat_minor": 2
}
