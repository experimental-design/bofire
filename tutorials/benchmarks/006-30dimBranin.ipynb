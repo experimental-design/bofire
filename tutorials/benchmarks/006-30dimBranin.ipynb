{
 "cells": [
  {
   "attachments": {},
   "cell_type": "markdown",
   "metadata": {},
   "source": [
    "# 30dim Branin Benchmark with SAASBO\n",
    "This is a port from https://github.com/pytorch/botorch/blob/main/tutorials/saasbo.ipynb\n",
    "## Imports"
   ]
  },
  {
   "cell_type": "code",
   "execution_count": 13,
   "metadata": {},
   "outputs": [],
   "source": [
    "from bofire.benchmarks.single import Branin30\n",
    "from bofire.runners.api import run\n",
    "from bofire.data_models.strategies.api import SoboStrategy, RandomStrategy\n",
    "from bofire.data_models.surrogates.api import SaasSingleTaskGPSurrogate, BotorchSurrogates\n",
    "from bofire.data_models.acquisition_functions.api import qLogEI\n",
    "import bofire.strategies.api as strategies\n",
    "from bofire.data_models.api import Domain\n",
    "import pandas as pd\n",
    "import os\n",
    "\n",
    "SMOKE_TEST = os.environ.get(\"SMOKE_TEST\")\n",
    "\n",
    "N_ITERATIONS = 10 if not SMOKE_TEST else 1\n",
    "BATCH_SIZE = 5 if not SMOKE_TEST else 1\n",
    "WARMUP_STEPS = 256 if not SMOKE_TEST else 32\n",
    "NUM_SAMPLES = 128 if not SMOKE_TEST else 16\n",
    "THINNING = 16"
   ]
  },
  {
   "attachments": {},
   "cell_type": "markdown",
   "metadata": {},
   "source": [
    "## Random Optimization"
   ]
  },
  {
   "cell_type": "code",
   "execution_count": 5,
   "metadata": {},
   "outputs": [
    {
     "name": "stderr",
     "output_type": "stream",
     "text": [
      "run 00 with current best 6.406: 100%|██████████| 10/10 [00:00<00:00, 33.56it/s]\n"
     ]
    }
   ],
   "source": [
    "def sample(domain):\n",
    "    datamodel = RandomStrategy(domain=domain)\n",
    "    sampler = strategies.map(data_model=datamodel)\n",
    "    sampled = sampler.ask(10)\n",
    "    return sampled\n",
    "\n",
    "def best(domain: Domain, experiments: pd.DataFrame) -> float:\n",
    "    return experiments.y.min()\n",
    "\n",
    "random_results = run(\n",
    "    Branin30(),\n",
    "    strategy_factory=lambda domain: strategies.map(RandomStrategy(domain=domain)),\n",
    "    n_iterations=N_ITERATIONS,\n",
    "    metric=best,\n",
    "    initial_sampler=sample,\n",
    "    n_candidates_per_proposal=5,\n",
    "    n_runs=1,\n",
    "    n_procs=1,\n",
    ")"
   ]
  },
  {
   "attachments": {},
   "cell_type": "markdown",
   "metadata": {},
   "source": [
    "## SAASBO Optimization"
   ]
  },
  {
   "cell_type": "code",
   "execution_count": 9,
   "metadata": {},
   "outputs": [
    {
     "name": "stderr",
     "output_type": "stream",
     "text": [
      "run 00 with current best 0.398: 100%|██████████| 10/10 [18:57<00:00, 113.80s/it]\n"
     ]
    }
   ],
   "source": [
    "benchmark = Branin30()\n",
    "\n",
    "def strategy_factory(domain: Domain):\n",
    "    data_model = SoboStrategy(\n",
    "        domain=domain,\n",
    "        acquisition_function=qLogEI(),\n",
    "        surrogate_specs=BotorchSurrogates(\n",
    "            surrogates=[\n",
    "                SaasSingleTaskGPSurrogate(inputs=benchmark.domain.inputs, outputs=benchmark.domain.outputs,\n",
    "                                          # the following hyperparams do not need to be provided\n",
    "                                          warmup_steps=WARMUP_STEPS,\n",
    "                                          num_samples=NUM_SAMPLES, \n",
    "                                          thinning=THINNING)]))\n",
    "    return strategies.map(data_model)\n",
    "\n",
    "\n",
    "random_results = run(\n",
    "    Branin30(),\n",
    "    strategy_factory=strategy_factory,\n",
    "    n_iterations=N_ITERATIONS,\n",
    "    metric=best,\n",
    "    initial_sampler=sample,\n",
    "    n_candidates_per_proposal=5,\n",
    "    n_runs=1,\n",
    "    n_procs=1,\n",
    ")"
   ]
  }
 ],
 "metadata": {
  "kernelspec": {
   "display_name": "Python 3 (ipykernel)",
   "language": "python",
   "name": "python3"
  },
  "language_info": {
   "codemirror_mode": {
    "name": "ipython",
    "version": 3
   },
   "file_extension": ".py",
   "mimetype": "text/x-python",
   "name": "python",
   "nbconvert_exporter": "python",
   "pygments_lexer": "ipython3",
   "version": "3.10.12"
  }
 },
 "nbformat": 4,
 "nbformat_minor": 4
}
