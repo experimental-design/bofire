{
 "cells": [
  {
   "cell_type": "markdown",
   "metadata": {},
   "source": [
    "# DTLZ2 Benchmark\n",
    "## Imports"
   ]
  },
  {
   "cell_type": "code",
   "execution_count": 8,
   "metadata": {},
   "outputs": [],
   "source": [
    "from bofire.benchmarks.multi import DTLZ2\n",
    "from bofire.runners.api import run\n",
    "from bofire.utils.multiobjective import compute_hypervolume\n",
    "from bofire.data_models.strategies.api import QehviStrategy, QparegoStrategy, RandomStrategy, PolytopeSampler, MoboStrategy\n",
    "import bofire.strategies.api as strategies\n",
    "from bofire.data_models.api import Domain, Outputs, Inputs\n",
    "from bofire.data_models.features.api import ContinuousInput, ContinuousOutput\n",
    "from bofire.data_models.objectives.api import MinimizeObjective\n",
    "from functools import partial\n",
    "import pandas as pd\n",
    "import os\n",
    "\n",
    "SMOKE_TEST = os.environ.get(\"SMOKE_TEST\")"
   ]
  },
  {
   "attachments": {},
   "cell_type": "markdown",
   "metadata": {},
   "source": [
    "## Manual setup of the optimization domain\n",
    "\n",
    "The following cell shows how to manually setup the optimization problem in BoFire for didactic purposes. In the following the implemented benchmark module is then used."
   ]
  },
  {
   "cell_type": "code",
   "execution_count": 9,
   "metadata": {},
   "outputs": [],
   "source": [
    "input_features = Inputs(features=[ContinuousInput(key=f\"x_{i}\", bounds=(0, 1)) for i in range(6)])\n",
    "# here the minimize objective is used, if you want to maximize you have to use the maximize objective.\n",
    "output_features = Outputs(features=[ContinuousOutput(key=f\"f_{i}\", objective=MinimizeObjective(w=1.)) for i in range(2)])\n",
    "# no constraints are present so we can create the domain\n",
    "domain = Domain(inputs=input_features, outputs=output_features)"
   ]
  },
  {
   "attachments": {},
   "cell_type": "markdown",
   "metadata": {},
   "source": [
    "## Random Strategy"
   ]
  },
  {
   "cell_type": "code",
   "execution_count": 10,
   "metadata": {},
   "outputs": [
    {
     "name": "stderr",
     "output_type": "stream",
     "text": [
      "run 00 with current best 0.157: 100%|██████████| 50/50 [00:00<00:00, 73.96it/s]\n"
     ]
    }
   ],
   "source": [
    "def sample(domain):\n",
    "    datamodel = PolytopeSampler(domain=domain)\n",
    "    sampler = strategies.map(data_model=datamodel)\n",
    "    sampled = sampler.ask(10)\n",
    "    return sampled\n",
    "\n",
    "def hypervolume(domain: Domain, experiments: pd.DataFrame) -> float:\n",
    "    return compute_hypervolume(\n",
    "        domain, experiments, ref_point={\"f_0\": 1.1, \"f_1\": 1.1}\n",
    "    )\n",
    "\n",
    "random_results = run(\n",
    "    DTLZ2(dim=6),\n",
    "    strategy_factory=lambda domain: strategies.map(RandomStrategy(domain=domain)),\n",
    "    n_iterations=50 if not SMOKE_TEST else 1,\n",
    "    metric=hypervolume,\n",
    "    initial_sampler=sample,\n",
    "    n_runs=1,\n",
    "    n_procs=1,\n",
    ")"
   ]
  },
  {
   "attachments": {},
   "cell_type": "markdown",
   "metadata": {},
   "source": [
    "## MOBO Strategy\n",
    "### Automatic run"
   ]
  },
  {
   "cell_type": "code",
   "execution_count": 11,
   "metadata": {},
   "outputs": [
    {
     "name": "stderr",
     "output_type": "stream",
     "text": [
      "run 00 with current best 0.387: 100%|██████████| 50/50 [03:31<00:00,  4.22s/it]\n"
     ]
    }
   ],
   "source": [
    "def strategy_factory(domain: Domain):\n",
    "    data_model = MoboStrategy(domain=domain,  ref_point={\"f_0\": 1.1, \"f_1\": 1.1})\n",
    "    return strategies.map(data_model)\n",
    "\n",
    "results = run(\n",
    "    DTLZ2(dim=6),\n",
    "    strategy_factory=strategy_factory,\n",
    "    n_iterations=50 if not SMOKE_TEST else 1,\n",
    "    metric=hypervolume,\n",
    "    initial_sampler=sample,\n",
    "    n_runs=1,\n",
    "    n_procs=1,\n",
    ")"
   ]
  },
  {
   "attachments": {},
   "cell_type": "markdown",
   "metadata": {},
   "source": [
    "### Manual setup\n",
    "\n",
    "#### Using the default Models"
   ]
  },
  {
   "cell_type": "code",
   "execution_count": 12,
   "metadata": {},
   "outputs": [
    {
     "data": {
      "text/html": [
       "<div>\n",
       "<style scoped>\n",
       "    .dataframe tbody tr th:only-of-type {\n",
       "        vertical-align: middle;\n",
       "    }\n",
       "\n",
       "    .dataframe tbody tr th {\n",
       "        vertical-align: top;\n",
       "    }\n",
       "\n",
       "    .dataframe thead th {\n",
       "        text-align: right;\n",
       "    }\n",
       "</style>\n",
       "<table border=\"1\" class=\"dataframe\">\n",
       "  <thead>\n",
       "    <tr style=\"text-align: right;\">\n",
       "      <th></th>\n",
       "      <th>x_0</th>\n",
       "      <th>x_1</th>\n",
       "      <th>x_2</th>\n",
       "      <th>x_3</th>\n",
       "      <th>x_4</th>\n",
       "      <th>x_5</th>\n",
       "      <th>f_0_pred</th>\n",
       "      <th>f_1_pred</th>\n",
       "      <th>f_0_sd</th>\n",
       "      <th>f_1_sd</th>\n",
       "      <th>f_0_des</th>\n",
       "      <th>f_1_des</th>\n",
       "    </tr>\n",
       "  </thead>\n",
       "  <tbody>\n",
       "    <tr>\n",
       "      <th>0</th>\n",
       "      <td>0.613312</td>\n",
       "      <td>0.320123</td>\n",
       "      <td>0.944065</td>\n",
       "      <td>0.115862</td>\n",
       "      <td>0.774695</td>\n",
       "      <td>0.502501</td>\n",
       "      <td>0.82386</td>\n",
       "      <td>0.920911</td>\n",
       "      <td>0.457239</td>\n",
       "      <td>0.364747</td>\n",
       "      <td>-0.82386</td>\n",
       "      <td>-0.920911</td>\n",
       "    </tr>\n",
       "  </tbody>\n",
       "</table>\n",
       "</div>"
      ],
      "text/plain": [
       "        x_0       x_1       x_2  ...    f_1_sd  f_0_des   f_1_des\n",
       "0  0.613312  0.320123  0.944065  ...  0.364747 -0.82386 -0.920911\n",
       "\n",
       "[1 rows x 12 columns]"
      ]
     },
     "metadata": {},
     "output_type": "display_data"
    }
   ],
   "source": [
    "# we get the domain from the benchmark module, in real use case we have to build it on our own\n",
    "# make sure that the objective is set correctly\n",
    "domain = DTLZ2(dim=6).domain\n",
    "# we generate training data\n",
    "experiments = DTLZ2(dim=6).f(domain.inputs.sample(10), return_complete=True)\n",
    "# we setup the strategy\n",
    "# providing of a reference point is not mandatory but can help\n",
    "# the reference point has to be wrt to the assigned objective always worse than the points on the paretofront.\n",
    "data_model = MoboStrategy(domain=domain, ref_point={\"f_0\": 1.1, \"f_1\": 1.1})\n",
    "recommender = strategies.map(data_model=data_model)\n",
    "# we tell the strategy our historical data\n",
    "recommender.tell(experiments=experiments)\n",
    "# we ask for a new point to evaluate\n",
    "candidates = recommender.ask(candidate_count=1)\n",
    "# we show the candidate\n",
    "display(candidates)\n",
    "# this candidate has to be then provided to the benchmark function and evaluated and then told back to the optimizer to get the next candidate\n",
    "\n"
   ]
  },
  {
   "attachments": {},
   "cell_type": "markdown",
   "metadata": {},
   "source": [
    "#### Setup specific models"
   ]
  },
  {
   "cell_type": "code",
   "execution_count": 13,
   "metadata": {},
   "outputs": [
    {
     "data": {
      "text/html": [
       "<div>\n",
       "<style scoped>\n",
       "    .dataframe tbody tr th:only-of-type {\n",
       "        vertical-align: middle;\n",
       "    }\n",
       "\n",
       "    .dataframe tbody tr th {\n",
       "        vertical-align: top;\n",
       "    }\n",
       "\n",
       "    .dataframe thead th {\n",
       "        text-align: right;\n",
       "    }\n",
       "</style>\n",
       "<table border=\"1\" class=\"dataframe\">\n",
       "  <thead>\n",
       "    <tr style=\"text-align: right;\">\n",
       "      <th></th>\n",
       "      <th>x_0</th>\n",
       "      <th>x_1</th>\n",
       "      <th>x_2</th>\n",
       "      <th>x_3</th>\n",
       "      <th>x_4</th>\n",
       "      <th>x_5</th>\n",
       "      <th>f_0_pred</th>\n",
       "      <th>f_1_pred</th>\n",
       "      <th>f_0_sd</th>\n",
       "      <th>f_1_sd</th>\n",
       "      <th>f_0_des</th>\n",
       "      <th>f_1_des</th>\n",
       "    </tr>\n",
       "  </thead>\n",
       "  <tbody>\n",
       "    <tr>\n",
       "      <th>0</th>\n",
       "      <td>0.970739</td>\n",
       "      <td>0.0</td>\n",
       "      <td>1.0</td>\n",
       "      <td>0.0</td>\n",
       "      <td>0.0</td>\n",
       "      <td>0.0</td>\n",
       "      <td>0.134032</td>\n",
       "      <td>0.954235</td>\n",
       "      <td>0.159501</td>\n",
       "      <td>0.357115</td>\n",
       "      <td>-0.134032</td>\n",
       "      <td>-0.954235</td>\n",
       "    </tr>\n",
       "  </tbody>\n",
       "</table>\n",
       "</div>"
      ],
      "text/plain": [
       "        x_0  x_1  x_2  x_3  ...    f_0_sd    f_1_sd   f_0_des   f_1_des\n",
       "0  0.970739  0.0  1.0  0.0  ...  0.159501  0.357115 -0.134032 -0.954235\n",
       "\n",
       "[1 rows x 12 columns]"
      ]
     },
     "metadata": {},
     "output_type": "display_data"
    }
   ],
   "source": [
    "from bofire.data_models.surrogates.api import BotorchSurrogates, SingleTaskGPSurrogate\n",
    "from bofire.data_models.kernels.api import ScaleKernel, RBFKernel\n",
    "\n",
    "# in this case you would use non default kernels for the different outputs\n",
    "# it is also possible to build the models for a subset of the complete features\n",
    "data_model = MoboStrategy(domain=domain, ref_point={\"f_0\": 1.1, \"f_1\": 1.1}, \n",
    "    surrogate_specs=BotorchSurrogates(surrogates=[\n",
    "        SingleTaskGPSurrogate(\n",
    "            inputs=domain.inputs,\n",
    "            outputs=Outputs(features=[domain.outputs[0]]), \n",
    "            kernel=ScaleKernel(base_kernel=RBFKernel(ard=True))),\n",
    "        SingleTaskGPSurrogate(\n",
    "            inputs=domain.inputs,\n",
    "            outputs=Outputs(features=[domain.outputs[1]]),\n",
    "            kernel=ScaleKernel(base_kernel=RBFKernel(ard=False))),\n",
    "    ]))\n",
    "recommender = strategies.map(data_model=data_model)\n",
    "# we tell the strategy our historical data\n",
    "recommender.tell(experiments=experiments)\n",
    "# we ask for a new point to evaluate\n",
    "candidates = recommender.ask(candidate_count=1)\n",
    "# we show the candidate\n",
    "display(candidates)\n"
   ]
  },
  {
   "attachments": {},
   "cell_type": "markdown",
   "metadata": {},
   "source": [
    "## QPAREGO Strategy"
   ]
  },
  {
   "cell_type": "code",
   "execution_count": 14,
   "metadata": {},
   "outputs": [
    {
     "name": "stderr",
     "output_type": "stream",
     "text": [
      "run 00 with current best 0.335: 100%|██████████| 50/50 [00:57<00:00,  1.16s/it]\n"
     ]
    }
   ],
   "source": [
    "results_qparego = run(\n",
    "    DTLZ2(dim=6),\n",
    "    strategy_factory=lambda domain: strategies.map(QparegoStrategy(domain=domain)),\n",
    "    n_iterations=50 if not SMOKE_TEST else 1,\n",
    "    metric=hypervolume,\n",
    "    initial_sampler=sample,\n",
    "    n_runs=1,\n",
    "    n_procs=1,\n",
    ")"
   ]
  },
  {
   "attachments": {},
   "cell_type": "markdown",
   "metadata": {},
   "source": [
    "## Performance Plot"
   ]
  },
  {
   "cell_type": "code",
   "execution_count": 15,
   "metadata": {},
   "outputs": [
    {
     "data": {
      "text/plain": [
       "Text(0, 0.5, 'f_1')"
      ]
     },
     "execution_count": 15,
     "metadata": {},
     "output_type": "execute_result"
    },
    {
     "data": {
      "image/png": "[encoded data removed]",
      "text/plain": [
       "<Figure size 640x480 with 1 Axes>"
      ]
     },
     "metadata": {},
     "output_type": "display_data"
    }
   ],
   "source": [
    "import matplotlib.pyplot as plt\n",
    "\n",
    "fig, ax = plt.subplots()\n",
    "\n",
    "ax.scatter(results[0][0].f_0, results[0][0].f_1, label = \"qehvi\")\n",
    "ax.scatter(results_qparego[0][0].f_0, results_qparego[0][0].f_1, label = \"qparego\")\n",
    "ax.scatter(random_results[0][0].f_0, random_results[0][0].f_1, label = \"random\")\n",
    "\n",
    "ax.legend()\n",
    "\n",
    "ax.set_xlabel(\"f_0\")\n",
    "ax.set_ylabel(\"f_1\")"
   ]
  },
  {
   "cell_type": "code",
   "execution_count": null,
   "metadata": {},
   "outputs": [],
   "source": []
  }
 ],
 "metadata": {
  "kernelspec": {
   "display_name": "Python 3 (ipykernel)",
   "language": "python",
   "name": "python3"
  },
  "language_info": {
   "codemirror_mode": {
    "name": "ipython",
    "version": 3
   },
   "file_extension": ".py",
   "mimetype": "text/x-python",
   "name": "python",
   "nbconvert_exporter": "python",
   "pygments_lexer": "ipython3",
   "version": "3.10.9"
  },
  "vscode": {
   "interpreter": {
    "hash": "6f21737eef49beedf03d74399b47fe38d73eff760737ca33d38b9fe616638e91"
   }
  }
 },
 "nbformat": 4,
 "nbformat_minor": 4
}
