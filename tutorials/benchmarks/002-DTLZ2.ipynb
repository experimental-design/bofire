{
 "cells": [
  {
   "cell_type": "markdown",
   "metadata": {},
   "source": [
    "# DTLZ2 Benchmark\n",
    "## Imports"
   ]
  },
  {
   "cell_type": "code",
   "execution_count": 7,
   "metadata": {},
   "outputs": [],
   "source": [
    "from bofire.benchmarks.multi import DTLZ2\n",
    "from bofire.benchmarks.benchmark import run\n",
    "from bofire.utils.multiobjective import compute_hypervolume\n",
    "from bofire.samplers import PolytopeSampler\n",
    "from bofire.strategies.random import RandomStrategy\n",
    "from bofire.domain.domain import Domain\n",
    "from bofire.domain.features import OutputFeatures,  InputFeatures\n",
    "from bofire.domain.feature import ContinuousOutput, ContinuousInput\n",
    "from bofire.domain.objective import MaximizeObjective\n",
    "from bofire.strategies.botorch.qehvi import BoTorchQehviStrategy\n",
    "from bofire.strategies.botorch.qparego import BoTorchQparegoStrategy\n",
    "from functools import partial"
   ]
  },
  {
   "attachments": {},
   "cell_type": "markdown",
   "metadata": {},
   "source": [
    "## Manual setup of the optimization domain\n",
    "\n",
    "The following cell shows how to manually setup the optimization problem in BoFire for didactic purposes. In the following the implemented benchmark module is then used."
   ]
  },
  {
   "cell_type": "code",
   "execution_count": 3,
   "metadata": {},
   "outputs": [],
   "source": [
    "input_features = InputFeatures(features=[ContinuousInput(key=f\"x_{i}\", lower_bound=0, upper_bound=1) for i in range(6)])\n",
    "# here the minimize objective is used, if you want to maximize you have to use the maximize objective.\n",
    "output_features = OutputFeatures(features=[ContinuousOutput(key=f\"f_{i}\", objective=MaximizeObjective(w=1.)) for i in range(2)])\n",
    "# no constraints are present so we can create the domain\n",
    "domain = Domain(input_features=input_features, output_features=output_features)"
   ]
  },
  {
   "attachments": {},
   "cell_type": "markdown",
   "metadata": {},
   "source": [
    "## Random Strategy"
   ]
  },
  {
   "cell_type": "code",
   "execution_count": 4,
   "metadata": {},
   "outputs": [
    {
     "name": "stderr",
     "output_type": "stream",
     "text": [
      "run 00 with current best 0.157: 100%|██████████| 50/50 [00:00<00:00, 120.10it/s]\n"
     ]
    }
   ],
   "source": [
    "def sample(domain):\n",
    "    sampler = PolytopeSampler(domain=domain)\n",
    "    sampled = sampler.ask(10)\n",
    "    return sampled\n",
    "\n",
    "def hypervolume(domain: Domain) -> float:\n",
    "    assert domain.experiments is not None\n",
    "    return compute_hypervolume(\n",
    "        domain, domain.experiments, ref_point={\"f_0\": 1.1, \"f_1\": 1.1}\n",
    "    )\n",
    "\n",
    "random_results = run(\n",
    "    DTLZ2(dim=6),\n",
    "    strategy_factory=RandomStrategy,\n",
    "    n_iterations=50,\n",
    "    metric=hypervolume,\n",
    "    #initial_sampler=sample,\n",
    "    n_runs=1,\n",
    "    n_procs=1,\n",
    ")"
   ]
  },
  {
   "attachments": {},
   "cell_type": "markdown",
   "metadata": {},
   "source": [
    "## QEHVI Strategy\n",
    "### Automatic run"
   ]
  },
  {
   "cell_type": "code",
   "execution_count": 5,
   "metadata": {},
   "outputs": [
    {
     "name": "stderr",
     "output_type": "stream",
     "text": [
      "run 00 with current best 0.383: 100%|██████████| 50/50 [02:01<00:00,  2.42s/it]\n"
     ]
    }
   ],
   "source": [
    "results = run(\n",
    "    DTLZ2(dim=6),\n",
    "    strategy_factory=partial(BoTorchQehviStrategy, ref_point={\"f_0\": 1.1, \"f_1\": 1.1}),\n",
    "    n_iterations=50,\n",
    "    metric=hypervolume,\n",
    "    initial_sampler=sample,\n",
    "    n_runs=1,\n",
    "    n_procs=1,\n",
    ")"
   ]
  },
  {
   "attachments": {},
   "cell_type": "markdown",
   "metadata": {},
   "source": [
    "### Manual setup\n",
    "\n",
    "#### Using the default Models"
   ]
  },
  {
   "cell_type": "code",
   "execution_count": 6,
   "metadata": {},
   "outputs": [
    {
     "data": {
      "text/html": [
       "<div>\n",
       "<style scoped>\n",
       "    .dataframe tbody tr th:only-of-type {\n",
       "        vertical-align: middle;\n",
       "    }\n",
       "\n",
       "    .dataframe tbody tr th {\n",
       "        vertical-align: top;\n",
       "    }\n",
       "\n",
       "    .dataframe thead th {\n",
       "        text-align: right;\n",
       "    }\n",
       "</style>\n",
       "<table border=\"1\" class=\"dataframe\">\n",
       "  <thead>\n",
       "    <tr style=\"text-align: right;\">\n",
       "      <th></th>\n",
       "      <th>x_0</th>\n",
       "      <th>x_1</th>\n",
       "      <th>x_2</th>\n",
       "      <th>x_3</th>\n",
       "      <th>x_4</th>\n",
       "      <th>x_5</th>\n",
       "      <th>f_0_pred</th>\n",
       "      <th>f_0_sd</th>\n",
       "      <th>f_0_des</th>\n",
       "      <th>f_1_pred</th>\n",
       "      <th>f_1_sd</th>\n",
       "      <th>f_1_des</th>\n",
       "    </tr>\n",
       "  </thead>\n",
       "  <tbody>\n",
       "    <tr>\n",
       "      <th>0</th>\n",
       "      <td>0.900817</td>\n",
       "      <td>0.942544</td>\n",
       "      <td>0.0</td>\n",
       "      <td>0.381987</td>\n",
       "      <td>0.43767</td>\n",
       "      <td>0.475749</td>\n",
       "      <td>0.823798</td>\n",
       "      <td>0.48822</td>\n",
       "      <td>-0.823798</td>\n",
       "      <td>0.86826</td>\n",
       "      <td>0.410369</td>\n",
       "      <td>-0.86826</td>\n",
       "    </tr>\n",
       "  </tbody>\n",
       "</table>\n",
       "</div>"
      ],
      "text/plain": [
       "        x_0       x_1  x_2       x_3      x_4       x_5  f_0_pred   f_0_sd  \\\n",
       "0  0.900817  0.942544  0.0  0.381987  0.43767  0.475749  0.823798  0.48822   \n",
       "\n",
       "    f_0_des  f_1_pred    f_1_sd  f_1_des  \n",
       "0 -0.823798   0.86826  0.410369 -0.86826  "
      ]
     },
     "metadata": {},
     "output_type": "display_data"
    }
   ],
   "source": [
    "# we get the domain from the benchmark module, in real use case we have to build it on our own\n",
    "# make sure that the objective is set correctly\n",
    "domain = DTLZ2(dim=6).domain\n",
    "# we generate training data\n",
    "experiments = DTLZ2(dim=6).f(domain.inputs.sample(10), return_complete=True)\n",
    "# we setup the strategy\n",
    "# providing of a reference point is not mandatory but can help\n",
    "# the reference point has to be wrt to the assigned objective always worse than the points on the paretofront.\n",
    "recommender = BoTorchQehviStrategy(domain=domain, ref_point={\"f_0\": 1.1, \"f_1\": 1.1})\n",
    "# we tell the strategy our historical data\n",
    "recommender.tell(experiments=experiments)\n",
    "# we ask for a new point to evaluate\n",
    "candidates = recommender.ask(candidate_count=1)\n",
    "# we show the candidate\n",
    "display(candidates)\n",
    "# this candidate has to be then provided to the benchmark function and evaluated and then told back to the optimizer to get the next candidate\n",
    "\n"
   ]
  },
  {
   "attachments": {},
   "cell_type": "markdown",
   "metadata": {},
   "source": [
    "#### Setup specific models"
   ]
  },
  {
   "cell_type": "code",
   "execution_count": 10,
   "metadata": {},
   "outputs": [
    {
     "data": {
      "text/html": [
       "<div>\n",
       "<style scoped>\n",
       "    .dataframe tbody tr th:only-of-type {\n",
       "        vertical-align: middle;\n",
       "    }\n",
       "\n",
       "    .dataframe tbody tr th {\n",
       "        vertical-align: top;\n",
       "    }\n",
       "\n",
       "    .dataframe thead th {\n",
       "        text-align: right;\n",
       "    }\n",
       "</style>\n",
       "<table border=\"1\" class=\"dataframe\">\n",
       "  <thead>\n",
       "    <tr style=\"text-align: right;\">\n",
       "      <th></th>\n",
       "      <th>x_0</th>\n",
       "      <th>x_1</th>\n",
       "      <th>x_2</th>\n",
       "      <th>x_3</th>\n",
       "      <th>x_4</th>\n",
       "      <th>x_5</th>\n",
       "      <th>f_0_pred</th>\n",
       "      <th>f_0_sd</th>\n",
       "      <th>f_0_des</th>\n",
       "      <th>f_1_pred</th>\n",
       "      <th>f_1_sd</th>\n",
       "      <th>f_1_des</th>\n",
       "    </tr>\n",
       "  </thead>\n",
       "  <tbody>\n",
       "    <tr>\n",
       "      <th>0</th>\n",
       "      <td>0.821032</td>\n",
       "      <td>0.0</td>\n",
       "      <td>0.554648</td>\n",
       "      <td>1.0</td>\n",
       "      <td>1.0</td>\n",
       "      <td>1.0</td>\n",
       "      <td>0.156237</td>\n",
       "      <td>0.107044</td>\n",
       "      <td>-0.156237</td>\n",
       "      <td>0.811459</td>\n",
       "      <td>0.344258</td>\n",
       "      <td>-0.811459</td>\n",
       "    </tr>\n",
       "  </tbody>\n",
       "</table>\n",
       "</div>"
      ],
      "text/plain": [
       "        x_0  x_1       x_2  x_3  x_4  x_5  f_0_pred    f_0_sd   f_0_des  \\\n",
       "0  0.821032  0.0  0.554648  1.0  1.0  1.0  0.156237  0.107044 -0.156237   \n",
       "\n",
       "   f_1_pred    f_1_sd   f_1_des  \n",
       "0  0.811459  0.344258 -0.811459  "
      ]
     },
     "metadata": {},
     "output_type": "display_data"
    }
   ],
   "source": [
    "from bofire.models.gps import SingleTaskGPModel\n",
    "from bofire.models.gps.kernels import RBFKernel, ScaleKernel\n",
    "from bofire.models.torch_models import BotorchModels\n",
    "\n",
    "# in this case you would use non default kernels for the different outputs\n",
    "# it is also possible to build the models for a subset of the complete features\n",
    "recommender = BoTorchQehviStrategy(domain=domain, ref_point={\"f_0\": 1.1, \"f_1\": 1.1}, \n",
    "    model_specs=BotorchModels(models=[\n",
    "        SingleTaskGPModel(\n",
    "            input_features=domain.inputs,\n",
    "            output_features=OutputFeatures(features=[domain.outputs[0]]), \n",
    "            kernel=ScaleKernel(base_kernel=RBFKernel(ard=True))),\n",
    "        SingleTaskGPModel(\n",
    "            input_features=domain.inputs,\n",
    "            output_features=OutputFeatures(features=[domain.outputs[1]]),\n",
    "            kernel=ScaleKernel(base_kernel=RBFKernel(ard=False))),\n",
    "    ]))\n",
    "# we tell the strategy our historical data\n",
    "recommender.tell(experiments=experiments)\n",
    "# we ask for a new point to evaluate\n",
    "candidates = recommender.ask(candidate_count=1)\n",
    "# we show the candidate\n",
    "display(candidates)\n"
   ]
  },
  {
   "attachments": {},
   "cell_type": "markdown",
   "metadata": {},
   "source": [
    "## QPAREGO Strategy"
   ]
  },
  {
   "cell_type": "code",
   "execution_count": 9,
   "metadata": {},
   "outputs": [
    {
     "name": "stderr",
     "output_type": "stream",
     "text": [
      "run 00 with current best 0.351: 100%|██████████| 50/50 [02:39<00:00,  3.19s/it]\n"
     ]
    }
   ],
   "source": [
    "results_qparego = run(\n",
    "    DTLZ2(dim=6),\n",
    "    strategy_factory=partial(BoTorchQparegoStrategy),\n",
    "    n_iterations=50,\n",
    "    metric=hypervolume,\n",
    "    initial_sampler=sample,\n",
    "    n_runs=1,\n",
    "    n_procs=1,\n",
    ")"
   ]
  },
  {
   "attachments": {},
   "cell_type": "markdown",
   "metadata": {},
   "source": [
    "## Performance Plot"
   ]
  },
  {
   "cell_type": "code",
   "execution_count": 10,
   "metadata": {},
   "outputs": [
    {
     "data": {
      "text/plain": [
       "Text(0, 0.5, 'f_1')"
      ]
     },
     "execution_count": 10,
     "metadata": {},
     "output_type": "execute_result"
    },
    {
     "data": {
      "image/png": "[encoded data removed]",
      "text/plain": [
       "<Figure size 640x480 with 1 Axes>"
      ]
     },
     "metadata": {},
     "output_type": "display_data"
    }
   ],
   "source": [
    "import matplotlib.pyplot as plt\n",
    "\n",
    "fig, ax = plt.subplots()\n",
    "\n",
    "ax.scatter(results[0][0].domain.experiments.f_0, results[0][0].domain.experiments.f_1, label = \"qehvi\")\n",
    "ax.scatter(results_qparego[0][0].domain.experiments.f_0, results_qparego[0][0].domain.experiments.f_1, label = \"qparego\")\n",
    "ax.scatter(random_results[0][0].domain.experiments.f_0, random_results[0][0].domain.experiments.f_1, label = \"random\")\n",
    "\n",
    "ax.legend()\n",
    "\n",
    "ax.set_xlabel(\"f_0\")\n",
    "ax.set_ylabel(\"f_1\")"
   ]
  },
  {
   "cell_type": "code",
   "execution_count": null,
   "metadata": {},
   "outputs": [],
   "source": []
  }
 ],
 "metadata": {
  "kernelspec": {
   "display_name": "bofire",
   "language": "python",
   "name": "python3"
  },
  "language_info": {
   "codemirror_mode": {
    "name": "ipython",
    "version": 3
   },
   "file_extension": ".py",
   "mimetype": "text/x-python",
   "name": "python",
   "nbconvert_exporter": "python",
   "pygments_lexer": "ipython3",
   "version": "3.10.9"
  },
  "orig_nbformat": 4,
  "vscode": {
   "interpreter": {
    "hash": "6f21737eef49beedf03d74399b47fe38d73eff760737ca33d38b9fe616638e91"
   }
  }
 },
 "nbformat": 4,
 "nbformat_minor": 2
}
