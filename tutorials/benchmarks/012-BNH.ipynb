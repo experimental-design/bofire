{
 "cells": [
  {
   "cell_type": "markdown",
   "metadata": {},
   "source": [
    "# BNH Benchmark\n",
    "## Imports"
   ]
  },
  {
   "cell_type": "code",
   "execution_count": 59,
   "metadata": {},
   "outputs": [],
   "source": [
    "from bofire.benchmarks.api import BNH, TNK\n",
    "import warnings\n",
    "warnings.simplefilter('once')\n",
    "import os\n",
    "\n",
    "import matplotlib.pyplot as plt\n",
    "import pandas as pd\n",
    "\n",
    "import bofire.strategies.api as strategies\n",
    "from bofire.data_models.api import Domain, Inputs, Outputs\n",
    "from bofire.data_models.objectives.api import MinimizeObjective, MinimizeSigmoidObjective, MaximizeSigmoidObjective\n",
    "from bofire.data_models.features.api import ContinuousInput, ContinuousOutput\n",
    "from bofire.data_models.strategies.api import MoboStrategy, RandomStrategy\n",
    "from bofire.runners.api import run\n",
    "from bofire.utils.multiobjective import compute_hypervolume\n",
    "from bofire.plot.api import plot_objective_plotly\n",
    "\n",
    "SMOKE_TEST = os.environ.get(\"SMOKE_TEST\")"
   ]
  },
  {
   "attachments": {},
   "cell_type": "markdown",
   "metadata": {},
   "source": [
    "## Random Strategy"
   ]
  },
  {
   "cell_type": "code",
   "execution_count": 29,
   "metadata": {},
   "outputs": [
    {
     "name": "stderr",
     "output_type": "stream",
     "text": [
      "run 00 with current best 5041.640: 100%|██████████| 50/50 [00:00<00:00, 83.99it/s]\n"
     ]
    }
   ],
   "source": [
    "def sample(domain):\n",
    "    datamodel = RandomStrategy(domain=domain)\n",
    "    sampler = strategies.map(data_model=datamodel)\n",
    "    sampled = sampler.ask(10)\n",
    "    return sampled\n",
    "\n",
    "def hypervolume(domain: Domain, experiments: pd.DataFrame) -> float:\n",
    "    if \"c1\" in experiments.columns:\n",
    "        return compute_hypervolume(\n",
    "            domain, experiments.loc[(experiments.c1<=25)&(experiments.c2>=7.7)], ref_point={\"f1\": 140, \"f2\": 50}\n",
    "        )\n",
    "    else:\n",
    "        return compute_hypervolume(domain, experiments, ref_point={\"f1\": 140, \"f2\": 50})\n",
    "\n",
    "random_results = run(\n",
    "    BNH(constraints=True),\n",
    "    strategy_factory=lambda domain: strategies.map(RandomStrategy(domain=domain)),\n",
    "    n_iterations=50 if not SMOKE_TEST else 1,\n",
    "    metric=hypervolume,\n",
    "    initial_sampler=sample,\n",
    "    n_runs=1,\n",
    "    n_procs=1,\n",
    ")"
   ]
  },
  {
   "attachments": {},
   "cell_type": "markdown",
   "metadata": {},
   "source": [
    "## MOBO Strategy\n",
    "### Without Constraints"
   ]
  },
  {
   "cell_type": "code",
   "execution_count": 30,
   "metadata": {},
   "outputs": [
    {
     "name": "stderr",
     "output_type": "stream",
     "text": [
      "run 00 with current best 5242.138: 100%|██████████| 50/50 [05:57<00:00,  7.15s/it]\n"
     ]
    }
   ],
   "source": [
    "def strategy_factory(domain: Domain):\n",
    "    data_model = MoboStrategy(domain=domain,  ref_point={\"f1\": 140, \"f2\": 50})\n",
    "    return strategies.map(data_model)\n",
    "\n",
    "results = run(\n",
    "    BNH(constraints=False),\n",
    "    strategy_factory=strategy_factory,\n",
    "    n_iterations=50 if not SMOKE_TEST else 1,\n",
    "    metric=hypervolume,\n",
    "    initial_sampler=sample,\n",
    "    n_runs=1,\n",
    "    n_procs=1,\n",
    ")"
   ]
  },
  {
   "cell_type": "markdown",
   "metadata": {},
   "source": [
    "### With Constraints\n",
    "\n",
    "#### Manual Setup of the Domain"
   ]
  },
  {
   "cell_type": "code",
   "execution_count": 58,
   "metadata": {},
   "outputs": [],
   "source": [
    "domain = Domain(\n",
    "    inputs=Inputs(\n",
    "        features=[\n",
    "            ContinuousInput(key=\"x1\", bounds=(0, 5)),\n",
    "            ContinuousInput(key=\"x2\", bounds=(0, 3)),\n",
    "        ]\n",
    "    ),\n",
    "    outputs=Outputs(\n",
    "        features=[\n",
    "            ContinuousOutput(key=\"f1\", objective=MinimizeObjective()),\n",
    "            ContinuousOutput(key=\"f2\", objective=MinimizeObjective()),\n",
    "            # these are the output constraints, choose MinimizeSigmoidObjective for lower bound constraints\n",
    "            # and MaximizeSigmoidObjective for upper bound constraints\n",
    "            # tp is the threshold point, steepness is the steepness of the sigmoid that is applied to the constraint\n",
    "            # usually a steepness of 1000 is fine.\n",
    "            ContinuousOutput(\n",
    "                    key=\"c1\",\n",
    "                    objective=MinimizeSigmoidObjective(tp=25, steepness=1000),\n",
    "                ),\n",
    "            ContinuousOutput(\n",
    "                    key=\"c2\",\n",
    "                    objective=MaximizeSigmoidObjective(tp=7.7, steepness=1000),\n",
    "                ),\n",
    "        ]\n",
    "    ),\n",
    ")"
   ]
  },
  {
   "cell_type": "markdown",
   "metadata": {},
   "source": [
    "One can visualize the objectives in the following way:"
   ]
  },
  {
   "cell_type": "code",
   "execution_count": 76,
   "metadata": {},
   "outputs": [
    {
     "name": "stderr",
     "output_type": "stream",
     "text": [
      "/opt/homebrew/Caskroom/miniforge/base/envs/bofire-2/lib/python3.10/site-packages/pandas/core/arraylike.py:396: RuntimeWarning:\n",
      "\n",
      "overflow encountered in exp\n",
      "\n"
     ]
    }
   ],
   "source": [
    "feat = domain.outputs.get_by_key(\"c1\")\n",
    "\n",
    "if not SMOKE_TEST:\n",
    "    plot_objective_plotly(feat, lower=20, upper=30)"
   ]
  },
  {
   "cell_type": "code",
   "execution_count": 77,
   "metadata": {},
   "outputs": [
    {
     "name": "stderr",
     "output_type": "stream",
     "text": [
      "/opt/homebrew/Caskroom/miniforge/base/envs/bofire-2/lib/python3.10/site-packages/pandas/core/arraylike.py:396: RuntimeWarning:\n",
      "\n",
      "overflow encountered in exp\n",
      "\n"
     ]
    }
   ],
   "source": [
    "feat = domain.outputs.get_by_key(\"c2\")\n",
    "\n",
    "if not SMOKE_TEST:\n",
    "    plot_objective_plotly(feat, lower=5, upper=10)"
   ]
  },
  {
   "cell_type": "markdown",
   "metadata": {},
   "source": [
    "#### Run tbe optimization\n",
    "The warnings can be ignored. They are stemming just from an internal postprocessing step and will be removed soon."
   ]
  },
  {
   "cell_type": "code",
   "execution_count": 45,
   "metadata": {},
   "outputs": [
    {
     "name": "stderr",
     "output_type": "stream",
     "text": [
      "  0%|          | 0/50 [00:00<?, ?it/s]/opt/homebrew/Caskroom/miniforge/base/envs/bofire-2/lib/python3.10/site-packages/pandas/core/arraylike.py:396: RuntimeWarning: overflow encountered in exp\n",
      "  result = getattr(ufunc, method)(*inputs, **kwargs)\n",
      "run 00 with current best 4761.235:   2%|▏         | 1/50 [00:02<02:25,  2.96s/it]/opt/homebrew/Caskroom/miniforge/base/envs/bofire-2/lib/python3.10/site-packages/pandas/core/arraylike.py:396: RuntimeWarning: overflow encountered in exp\n",
      "  result = getattr(ufunc, method)(*inputs, **kwargs)\n",
      "run 00 with current best 4820.953:   4%|▍         | 2/50 [00:05<02:21,  2.95s/it]/opt/homebrew/Caskroom/miniforge/base/envs/bofire-2/lib/python3.10/site-packages/pandas/core/arraylike.py:396: RuntimeWarning: overflow encountered in exp\n",
      "  result = getattr(ufunc, method)(*inputs, **kwargs)\n",
      "run 00 with current best 4885.235:   6%|▌         | 3/50 [00:08<02:15,  2.89s/it]/opt/homebrew/Caskroom/miniforge/base/envs/bofire-2/lib/python3.10/site-packages/pandas/core/arraylike.py:396: RuntimeWarning: overflow encountered in exp\n",
      "  result = getattr(ufunc, method)(*inputs, **kwargs)\n",
      "run 00 with current best 4936.160:   8%|▊         | 4/50 [00:12<02:21,  3.08s/it]/opt/homebrew/Caskroom/miniforge/base/envs/bofire-2/lib/python3.10/site-packages/pandas/core/arraylike.py:396: RuntimeWarning: overflow encountered in exp\n",
      "  result = getattr(ufunc, method)(*inputs, **kwargs)\n",
      "run 00 with current best 4992.713:  10%|█         | 5/50 [00:15<02:31,  3.36s/it]/opt/homebrew/Caskroom/miniforge/base/envs/bofire-2/lib/python3.10/site-packages/pandas/core/arraylike.py:396: RuntimeWarning: overflow encountered in exp\n",
      "  result = getattr(ufunc, method)(*inputs, **kwargs)\n",
      "run 00 with current best 5035.176:  12%|█▏        | 6/50 [00:19<02:36,  3.56s/it]/opt/homebrew/Caskroom/miniforge/base/envs/bofire-2/lib/python3.10/site-packages/pandas/core/arraylike.py:396: RuntimeWarning: overflow encountered in exp\n",
      "  result = getattr(ufunc, method)(*inputs, **kwargs)\n",
      "run 00 with current best 5055.033:  14%|█▍        | 7/50 [00:24<02:51,  3.99s/it]/opt/homebrew/Caskroom/miniforge/base/envs/bofire-2/lib/python3.10/site-packages/pandas/core/arraylike.py:396: RuntimeWarning: overflow encountered in exp\n",
      "  result = getattr(ufunc, method)(*inputs, **kwargs)\n",
      "run 00 with current best 5072.888:  16%|█▌        | 8/50 [00:29<02:53,  4.12s/it]/opt/homebrew/Caskroom/miniforge/base/envs/bofire-2/lib/python3.10/site-packages/pandas/core/arraylike.py:396: RuntimeWarning: overflow encountered in exp\n",
      "  result = getattr(ufunc, method)(*inputs, **kwargs)\n",
      "run 00 with current best 5088.422:  18%|█▊        | 9/50 [00:33<02:52,  4.20s/it]/opt/homebrew/Caskroom/miniforge/base/envs/bofire-2/lib/python3.10/site-packages/pandas/core/arraylike.py:396: RuntimeWarning: overflow encountered in exp\n",
      "  result = getattr(ufunc, method)(*inputs, **kwargs)\n",
      "run 00 with current best 5101.352:  20%|██        | 10/50 [00:37<02:49,  4.24s/it]/opt/homebrew/Caskroom/miniforge/base/envs/bofire-2/lib/python3.10/site-packages/pandas/core/arraylike.py:396: RuntimeWarning: overflow encountered in exp\n",
      "  result = getattr(ufunc, method)(*inputs, **kwargs)\n",
      "run 00 with current best 5110.904:  22%|██▏       | 11/50 [00:42<02:47,  4.29s/it]/opt/homebrew/Caskroom/miniforge/base/envs/bofire-2/lib/python3.10/site-packages/pandas/core/arraylike.py:396: RuntimeWarning: overflow encountered in exp\n",
      "  result = getattr(ufunc, method)(*inputs, **kwargs)\n",
      "run 00 with current best 5123.209:  24%|██▍       | 12/50 [00:48<03:09,  5.00s/it]/opt/homebrew/Caskroom/miniforge/base/envs/bofire-2/lib/python3.10/site-packages/pandas/core/arraylike.py:396: RuntimeWarning: overflow encountered in exp\n",
      "  result = getattr(ufunc, method)(*inputs, **kwargs)\n",
      "run 00 with current best 5134.885:  26%|██▌       | 13/50 [00:53<03:04,  4.98s/it]/opt/homebrew/Caskroom/miniforge/base/envs/bofire-2/lib/python3.10/site-packages/pandas/core/arraylike.py:396: RuntimeWarning: overflow encountered in exp\n",
      "  result = getattr(ufunc, method)(*inputs, **kwargs)\n",
      "run 00 with current best 5144.058:  28%|██▊       | 14/50 [00:59<03:12,  5.33s/it]/opt/homebrew/Caskroom/miniforge/base/envs/bofire-2/lib/python3.10/site-packages/pandas/core/arraylike.py:396: RuntimeWarning: overflow encountered in exp\n",
      "  result = getattr(ufunc, method)(*inputs, **kwargs)\n",
      "run 00 with current best 5152.645:  30%|███       | 15/50 [01:05<03:10,  5.44s/it]/opt/homebrew/Caskroom/miniforge/base/envs/bofire-2/lib/python3.10/site-packages/pandas/core/arraylike.py:396: RuntimeWarning: overflow encountered in exp\n",
      "  result = getattr(ufunc, method)(*inputs, **kwargs)\n",
      "run 00 with current best 5161.251:  32%|███▏      | 16/50 [01:11<03:13,  5.70s/it]/opt/homebrew/Caskroom/miniforge/base/envs/bofire-2/lib/python3.10/site-packages/pandas/core/arraylike.py:396: RuntimeWarning: overflow encountered in exp\n",
      "  result = getattr(ufunc, method)(*inputs, **kwargs)\n",
      "run 00 with current best 5165.373:  34%|███▍      | 17/50 [01:20<03:34,  6.49s/it]/opt/homebrew/Caskroom/miniforge/base/envs/bofire-2/lib/python3.10/site-packages/pandas/core/arraylike.py:396: RuntimeWarning: overflow encountered in exp\n",
      "  result = getattr(ufunc, method)(*inputs, **kwargs)\n",
      "run 00 with current best 5173.380:  36%|███▌      | 18/50 [01:26<03:25,  6.41s/it]/opt/homebrew/Caskroom/miniforge/base/envs/bofire-2/lib/python3.10/site-packages/pandas/core/arraylike.py:396: RuntimeWarning: overflow encountered in exp\n",
      "  result = getattr(ufunc, method)(*inputs, **kwargs)\n",
      "run 00 with current best 5177.713:  38%|███▊      | 19/50 [01:35<03:43,  7.20s/it]/opt/homebrew/Caskroom/miniforge/base/envs/bofire-2/lib/python3.10/site-packages/pandas/core/arraylike.py:396: RuntimeWarning: overflow encountered in exp\n",
      "  result = getattr(ufunc, method)(*inputs, **kwargs)\n",
      "run 00 with current best 5182.011:  40%|████      | 20/50 [01:45<04:01,  8.04s/it]/opt/homebrew/Caskroom/miniforge/base/envs/bofire-2/lib/python3.10/site-packages/pandas/core/arraylike.py:396: RuntimeWarning: overflow encountered in exp\n",
      "  result = getattr(ufunc, method)(*inputs, **kwargs)\n",
      "run 00 with current best 5185.108:  42%|████▏     | 21/50 [01:53<03:54,  8.10s/it]/opt/homebrew/Caskroom/miniforge/base/envs/bofire-2/lib/python3.10/site-packages/pandas/core/arraylike.py:396: RuntimeWarning: overflow encountered in exp\n",
      "  result = getattr(ufunc, method)(*inputs, **kwargs)\n",
      "run 00 with current best 5189.381:  44%|████▍     | 22/50 [02:01<03:45,  8.06s/it]/opt/homebrew/Caskroom/miniforge/base/envs/bofire-2/lib/python3.10/site-packages/pandas/core/arraylike.py:396: RuntimeWarning: overflow encountered in exp\n",
      "  result = getattr(ufunc, method)(*inputs, **kwargs)\n",
      "run 00 with current best 5192.529:  46%|████▌     | 23/50 [02:09<03:35,  7.97s/it]/opt/homebrew/Caskroom/miniforge/base/envs/bofire-2/lib/python3.10/site-packages/pandas/core/arraylike.py:396: RuntimeWarning: overflow encountered in exp\n",
      "  result = getattr(ufunc, method)(*inputs, **kwargs)\n",
      "run 00 with current best 5196.240:  48%|████▊     | 24/50 [02:20<03:50,  8.87s/it]/opt/homebrew/Caskroom/miniforge/base/envs/bofire-2/lib/python3.10/site-packages/pandas/core/arraylike.py:396: RuntimeWarning: overflow encountered in exp\n",
      "  result = getattr(ufunc, method)(*inputs, **kwargs)\n",
      "run 00 with current best 5199.179:  50%|█████     | 25/50 [02:28<03:33,  8.54s/it]/opt/homebrew/Caskroom/miniforge/base/envs/bofire-2/lib/python3.10/site-packages/pandas/core/arraylike.py:396: RuntimeWarning: overflow encountered in exp\n",
      "  result = getattr(ufunc, method)(*inputs, **kwargs)\n",
      "run 00 with current best 5202.834:  52%|█████▏    | 26/50 [02:37<03:32,  8.84s/it]/opt/homebrew/Caskroom/miniforge/base/envs/bofire-2/lib/python3.10/site-packages/pandas/core/arraylike.py:396: RuntimeWarning: overflow encountered in exp\n",
      "  result = getattr(ufunc, method)(*inputs, **kwargs)\n",
      "run 00 with current best 5205.719:  54%|█████▍    | 27/50 [02:47<03:31,  9.22s/it]/opt/homebrew/Caskroom/miniforge/base/envs/bofire-2/lib/python3.10/site-packages/pandas/core/arraylike.py:396: RuntimeWarning: overflow encountered in exp\n",
      "  result = getattr(ufunc, method)(*inputs, **kwargs)\n",
      "run 00 with current best 5209.089:  58%|█████▊    | 29/50 [03:08<03:24,  9.73s/it]/opt/homebrew/Caskroom/miniforge/base/envs/bofire-2/lib/python3.10/site-packages/pandas/core/arraylike.py:396: RuntimeWarning: overflow encountered in exp\n",
      "  result = getattr(ufunc, method)(*inputs, **kwargs)\n",
      "run 00 with current best 5211.280:  60%|██████    | 30/50 [03:17<03:14,  9.70s/it]/opt/homebrew/Caskroom/miniforge/base/envs/bofire-2/lib/python3.10/site-packages/pandas/core/arraylike.py:396: RuntimeWarning: overflow encountered in exp\n",
      "  result = getattr(ufunc, method)(*inputs, **kwargs)\n",
      "run 00 with current best 5214.038:  62%|██████▏   | 31/50 [03:29<03:15, 10.28s/it]/opt/homebrew/Caskroom/miniforge/base/envs/bofire-2/lib/python3.10/site-packages/pandas/core/arraylike.py:396: RuntimeWarning: overflow encountered in exp\n",
      "  result = getattr(ufunc, method)(*inputs, **kwargs)\n",
      "run 00 with current best 5216.763:  64%|██████▍   | 32/50 [03:40<03:08, 10.48s/it]/opt/homebrew/Caskroom/miniforge/base/envs/bofire-2/lib/python3.10/site-packages/pandas/core/arraylike.py:396: RuntimeWarning: overflow encountered in exp\n",
      "  result = getattr(ufunc, method)(*inputs, **kwargs)\n",
      "run 00 with current best 5218.783:  66%|██████▌   | 33/50 [03:50<02:55, 10.30s/it]/opt/homebrew/Caskroom/miniforge/base/envs/bofire-2/lib/python3.10/site-packages/pandas/core/arraylike.py:396: RuntimeWarning: overflow encountered in exp\n",
      "  result = getattr(ufunc, method)(*inputs, **kwargs)\n",
      "run 00 with current best 5221.208:  68%|██████▊   | 34/50 [03:59<02:41, 10.09s/it]/opt/homebrew/Caskroom/miniforge/base/envs/bofire-2/lib/python3.10/site-packages/pandas/core/arraylike.py:396: RuntimeWarning: overflow encountered in exp\n",
      "  result = getattr(ufunc, method)(*inputs, **kwargs)\n",
      "run 00 with current best 5223.241:  70%|███████   | 35/50 [04:11<02:40, 10.71s/it]/opt/homebrew/Caskroom/miniforge/base/envs/bofire-2/lib/python3.10/site-packages/pandas/core/arraylike.py:396: RuntimeWarning: overflow encountered in exp\n",
      "  result = getattr(ufunc, method)(*inputs, **kwargs)\n",
      "run 00 with current best 5223.282:  72%|███████▏  | 36/50 [04:25<02:43, 11.66s/it]/opt/homebrew/Caskroom/miniforge/base/envs/bofire-2/lib/python3.10/site-packages/pandas/core/arraylike.py:396: RuntimeWarning: overflow encountered in exp\n",
      "  result = getattr(ufunc, method)(*inputs, **kwargs)\n",
      "run 00 with current best 5224.333:  74%|███████▍  | 37/50 [04:38<02:33, 11.81s/it]/opt/homebrew/Caskroom/miniforge/base/envs/bofire-2/lib/python3.10/site-packages/pandas/core/arraylike.py:396: RuntimeWarning: overflow encountered in exp\n",
      "  result = getattr(ufunc, method)(*inputs, **kwargs)\n",
      "run 00 with current best 5226.237:  76%|███████▌  | 38/50 [04:50<02:25, 12.14s/it]/opt/homebrew/Caskroom/miniforge/base/envs/bofire-2/lib/python3.10/site-packages/pandas/core/arraylike.py:396: RuntimeWarning: overflow encountered in exp\n",
      "  result = getattr(ufunc, method)(*inputs, **kwargs)\n",
      "run 00 with current best 5228.130:  78%|███████▊  | 39/50 [05:02<02:10, 11.87s/it]/opt/homebrew/Caskroom/miniforge/base/envs/bofire-2/lib/python3.10/site-packages/pandas/core/arraylike.py:396: RuntimeWarning: overflow encountered in exp\n",
      "  result = getattr(ufunc, method)(*inputs, **kwargs)\n",
      "run 00 with current best 5230.215:  80%|████████  | 40/50 [05:15<02:03, 12.30s/it]/opt/homebrew/Caskroom/miniforge/base/envs/bofire-2/lib/python3.10/site-packages/pandas/core/arraylike.py:396: RuntimeWarning: overflow encountered in exp\n",
      "  result = getattr(ufunc, method)(*inputs, **kwargs)\n",
      "run 00 with current best 5231.331:  82%|████████▏ | 41/50 [05:28<01:52, 12.46s/it]/opt/homebrew/Caskroom/miniforge/base/envs/bofire-2/lib/python3.10/site-packages/pandas/core/arraylike.py:396: RuntimeWarning: overflow encountered in exp\n",
      "  result = getattr(ufunc, method)(*inputs, **kwargs)\n",
      "run 00 with current best 5232.377:  84%|████████▍ | 42/50 [05:40<01:40, 12.51s/it]/opt/homebrew/Caskroom/miniforge/base/envs/bofire-2/lib/python3.10/site-packages/pandas/core/arraylike.py:396: RuntimeWarning: overflow encountered in exp\n",
      "  result = getattr(ufunc, method)(*inputs, **kwargs)\n",
      "run 00 with current best 5233.432:  86%|████████▌ | 43/50 [05:52<01:24, 12.11s/it]/opt/homebrew/Caskroom/miniforge/base/envs/bofire-2/lib/python3.10/site-packages/pandas/core/arraylike.py:396: RuntimeWarning: overflow encountered in exp\n",
      "  result = getattr(ufunc, method)(*inputs, **kwargs)\n",
      "run 00 with current best 5234.389:  88%|████████▊ | 44/50 [06:03<01:11, 11.86s/it]/opt/homebrew/Caskroom/miniforge/base/envs/bofire-2/lib/python3.10/site-packages/pandas/core/arraylike.py:396: RuntimeWarning: overflow encountered in exp\n",
      "  result = getattr(ufunc, method)(*inputs, **kwargs)\n",
      "run 00 with current best 5235.436:  90%|█████████ | 45/50 [06:15<00:58, 11.79s/it]/opt/homebrew/Caskroom/miniforge/base/envs/bofire-2/lib/python3.10/site-packages/pandas/core/arraylike.py:396: RuntimeWarning: overflow encountered in exp\n",
      "  result = getattr(ufunc, method)(*inputs, **kwargs)\n",
      "run 00 with current best 5235.947:  92%|█████████▏| 46/50 [06:26<00:46, 11.67s/it]/opt/homebrew/Caskroom/miniforge/base/envs/bofire-2/lib/python3.10/site-packages/pandas/core/arraylike.py:396: RuntimeWarning: overflow encountered in exp\n",
      "  result = getattr(ufunc, method)(*inputs, **kwargs)\n",
      "run 00 with current best 5236.853:  94%|█████████▍| 47/50 [06:39<00:36, 12.15s/it]/opt/homebrew/Caskroom/miniforge/base/envs/bofire-2/lib/python3.10/site-packages/pandas/core/arraylike.py:396: RuntimeWarning: overflow encountered in exp\n",
      "  result = getattr(ufunc, method)(*inputs, **kwargs)\n",
      "run 00 with current best 5237.704:  96%|█████████▌| 48/50 [06:55<00:26, 13.29s/it]/opt/homebrew/Caskroom/miniforge/base/envs/bofire-2/lib/python3.10/site-packages/pandas/core/arraylike.py:396: RuntimeWarning: overflow encountered in exp\n",
      "  result = getattr(ufunc, method)(*inputs, **kwargs)\n",
      "run 00 with current best 5238.596:  98%|█████████▊| 49/50 [07:10<00:13, 13.75s/it]/opt/homebrew/Caskroom/miniforge/base/envs/bofire-2/lib/python3.10/site-packages/pandas/core/arraylike.py:396: RuntimeWarning: overflow encountered in exp\n",
      "  result = getattr(ufunc, method)(*inputs, **kwargs)\n",
      "run 00 with current best 5239.553: 100%|██████████| 50/50 [07:28<00:00,  8.97s/it]\n"
     ]
    }
   ],
   "source": [
    "c_results = run(\n",
    "    BNH(constraints=True),\n",
    "    strategy_factory=strategy_factory,\n",
    "    n_iterations=50 if not SMOKE_TEST else 1,\n",
    "    metric=hypervolume,\n",
    "    initial_sampler=sample,\n",
    "    n_runs=1,\n",
    "    n_procs=1,\n",
    ")"
   ]
  },
  {
   "cell_type": "code",
   "execution_count": 55,
   "metadata": {},
   "outputs": [
    {
     "data": {
      "image/png": "[encoded data removed]",
      "text/plain": [
       "<Figure size 640x480 with 1 Axes>"
      ]
     },
     "metadata": {},
     "output_type": "display_data"
    }
   ],
   "source": [
    "if not SMOKE_TEST:\n",
    "    fig, ax = plt.subplots()\n",
    "    ax.plot(results[0][1], label=\"without constraints\")\n",
    "    ax.plot(c_results[0][1], label=\"with constraints\")\n",
    "    ax.set_xlabel(\"iteration\")\n",
    "    ax.set_ylabel(\"hypervolume\")\n",
    "    ax.legend()\n",
    "    plt.show()"
   ]
  }
 ],
 "metadata": {
  "kernelspec": {
   "display_name": "Python 3 (ipykernel)",
   "language": "python",
   "name": "python3"
  },
  "language_info": {
   "codemirror_mode": {
    "name": "ipython",
    "version": 3
   },
   "file_extension": ".py",
   "mimetype": "text/x-python",
   "name": "python",
   "nbconvert_exporter": "python",
   "pygments_lexer": "ipython3",
   "version": "3.10.12"
  },
  "vscode": {
   "interpreter": {
    "hash": "6f21737eef49beedf03d74399b47fe38d73eff760737ca33d38b9fe616638e91"
   }
  }
 },
 "nbformat": 4,
 "nbformat_minor": 4
}
