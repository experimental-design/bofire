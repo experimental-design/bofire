{
 "cells": [
  {
   "cell_type": "markdown",
   "id": "0",
   "metadata": {
    "papermill": {
     "duration": 0.005152,
     "end_time": "2024-10-10T20:35:39.638026",
     "exception": false,
     "start_time": "2024-10-10T20:35:39.632874",
     "status": "completed"
    },
    "tags": []
   },
   "source": [
    "# BNH Benchmark\n",
    "## Imports"
   ]
  },
  {
   "cell_type": "code",
   "execution_count": null,
   "id": "1",
   "metadata": {
    "tags": []
   },
   "outputs": [],
   "source": [
    "import os\n",
    "import warnings\n",
    "\n",
    "import matplotlib.pyplot as plt\n",
    "import pandas as pd\n",
    "\n",
    "import bofire.strategies.api as strategies\n",
    "from bofire.benchmarks.api import BNH\n",
    "from bofire.data_models.api import Domain, Inputs, Outputs\n",
    "from bofire.data_models.features.api import ContinuousInput, ContinuousOutput\n",
    "from bofire.data_models.objectives.api import (\n",
    "    MaximizeSigmoidObjective,\n",
    "    MinimizeObjective,\n",
    "    MinimizeSigmoidObjective,\n",
    ")\n",
    "from bofire.data_models.strategies.api import MoboStrategy, RandomStrategy\n",
    "from bofire.plot.api import plot_objective_plotly\n",
    "from bofire.runners.api import run\n",
    "from bofire.utils.multiobjective import compute_hypervolume\n",
    "\n",
    "\n",
    "warnings.simplefilter(\"once\")\n",
    "SMOKE_TEST = os.environ.get(\"SMOKE_TEST\")"
   ]
  },
  {
   "attachments": {},
   "cell_type": "markdown",
   "id": "2",
   "metadata": {
    "papermill": {
     "duration": 0.001211,
     "end_time": "2024-10-10T20:35:42.882664",
     "exception": false,
     "start_time": "2024-10-10T20:35:42.881453",
     "status": "completed"
    },
    "tags": []
   },
   "source": [
    "## Random Strategy"
   ]
  },
  {
   "cell_type": "code",
   "execution_count": null,
   "id": "3",
   "metadata": {
    "tags": []
   },
   "outputs": [],
   "source": [
    "def sample(domain):\n",
    "    datamodel = RandomStrategy(domain=domain)\n",
    "    sampler = strategies.map(data_model=datamodel)\n",
    "    sampled = sampler.ask(10)\n",
    "    return sampled\n",
    "\n",
    "\n",
    "def hypervolume(domain: Domain, experiments: pd.DataFrame) -> float:\n",
    "    if \"c1\" in experiments.columns:\n",
    "        return compute_hypervolume(\n",
    "            domain,\n",
    "            experiments.loc[(experiments.c1 <= 25) & (experiments.c2 >= 7.7)],\n",
    "            ref_point={\"f1\": 140, \"f2\": 50},\n",
    "        )\n",
    "    return compute_hypervolume(domain, experiments, ref_point={\"f1\": 140, \"f2\": 50})\n",
    "\n",
    "\n",
    "random_results = run(\n",
    "    BNH(constraints=True),\n",
    "    strategy_factory=lambda domain: strategies.map(RandomStrategy(domain=domain)),\n",
    "    n_iterations=50 if not SMOKE_TEST else 1,\n",
    "    metric=hypervolume,\n",
    "    initial_sampler=sample,\n",
    "    n_runs=1,\n",
    "    n_procs=1,\n",
    ")"
   ]
  },
  {
   "attachments": {},
   "cell_type": "markdown",
   "id": "4",
   "metadata": {
    "papermill": {
     "duration": null,
     "end_time": null,
     "exception": null,
     "start_time": null,
     "status": "pending"
    },
    "tags": []
   },
   "source": [
    "## MOBO Strategy\n",
    "### Without Constraints"
   ]
  },
  {
   "cell_type": "code",
   "execution_count": null,
   "id": "5",
   "metadata": {
    "tags": []
   },
   "outputs": [],
   "source": [
    "def strategy_factory(domain: Domain):\n",
    "    data_model = MoboStrategy(domain=domain, ref_point={\"f1\": 140, \"f2\": 50})\n",
    "    return strategies.map(data_model)\n",
    "\n",
    "\n",
    "results = run(\n",
    "    BNH(constraints=False),\n",
    "    strategy_factory=strategy_factory,\n",
    "    n_iterations=50 if not SMOKE_TEST else 1,\n",
    "    metric=hypervolume,\n",
    "    initial_sampler=sample,\n",
    "    n_runs=1,\n",
    "    n_procs=1,\n",
    ")"
   ]
  },
  {
   "cell_type": "markdown",
   "id": "6",
   "metadata": {
    "papermill": {
     "duration": null,
     "end_time": null,
     "exception": null,
     "start_time": null,
     "status": "pending"
    },
    "tags": []
   },
   "source": [
    "### With Constraints\n",
    "\n",
    "#### Manual Setup of the Domain"
   ]
  },
  {
   "cell_type": "code",
   "execution_count": null,
   "id": "7",
   "metadata": {
    "tags": []
   },
   "outputs": [],
   "source": [
    "domain = Domain(\n",
    "    inputs=Inputs(\n",
    "        features=[\n",
    "            ContinuousInput(key=\"x1\", bounds=(0, 5)),\n",
    "            ContinuousInput(key=\"x2\", bounds=(0, 3)),\n",
    "        ],\n",
    "    ),\n",
    "    outputs=Outputs(\n",
    "        features=[\n",
    "            ContinuousOutput(key=\"f1\", objective=MinimizeObjective()),\n",
    "            ContinuousOutput(key=\"f2\", objective=MinimizeObjective()),\n",
    "            # these are the output constraints, choose MinimizeSigmoidObjective for lower bound constraints\n",
    "            # and MaximizeSigmoidObjective for upper bound constraints\n",
    "            # tp is the threshold point, steepness is the steepness of the sigmoid that is applied to the constraint\n",
    "            # usually a steepness of 1000 is fine.\n",
    "            ContinuousOutput(\n",
    "                key=\"c1\",\n",
    "                objective=MinimizeSigmoidObjective(tp=25, steepness=1000),\n",
    "            ),\n",
    "            ContinuousOutput(\n",
    "                key=\"c2\",\n",
    "                objective=MaximizeSigmoidObjective(tp=7.7, steepness=1000),\n",
    "            ),\n",
    "        ],\n",
    "    ),\n",
    ")"
   ]
  },
  {
   "cell_type": "markdown",
   "id": "8",
   "metadata": {
    "papermill": {
     "duration": null,
     "end_time": null,
     "exception": null,
     "start_time": null,
     "status": "pending"
    },
    "tags": []
   },
   "source": [
    "One can visualize the objectives in the following way:"
   ]
  },
  {
   "cell_type": "code",
   "execution_count": null,
   "id": "9",
   "metadata": {
    "tags": []
   },
   "outputs": [],
   "source": [
    "feat = domain.outputs.get_by_key(\"c1\")\n",
    "\n",
    "if not SMOKE_TEST:\n",
    "    plot_objective_plotly(feat, lower=20, upper=30)  # type: ignore"
   ]
  },
  {
   "cell_type": "code",
   "execution_count": null,
   "id": "10",
   "metadata": {
    "tags": []
   },
   "outputs": [],
   "source": [
    "feat = domain.outputs.get_by_key(\"c2\")\n",
    "\n",
    "if not SMOKE_TEST:\n",
    "    plot_objective_plotly(feat, lower=5, upper=10)  # type: ignore"
   ]
  },
  {
   "cell_type": "markdown",
   "id": "11",
   "metadata": {
    "papermill": {
     "duration": null,
     "end_time": null,
     "exception": null,
     "start_time": null,
     "status": "pending"
    },
    "tags": []
   },
   "source": [
    "#### Run tbe optimization\n",
    "The warnings can be ignored. They are stemming just from an internal postprocessing step and will be removed soon."
   ]
  },
  {
   "cell_type": "code",
   "execution_count": null,
   "id": "12",
   "metadata": {
    "tags": []
   },
   "outputs": [],
   "source": [
    "c_results = run(\n",
    "    BNH(constraints=True),\n",
    "    strategy_factory=strategy_factory,\n",
    "    n_iterations=50 if not SMOKE_TEST else 1,\n",
    "    metric=hypervolume,\n",
    "    initial_sampler=sample,\n",
    "    n_runs=1,\n",
    "    n_procs=1,\n",
    ")"
   ]
  },
  {
   "cell_type": "code",
   "execution_count": null,
   "id": "13",
   "metadata": {
    "tags": []
   },
   "outputs": [],
   "source": [
    "if not SMOKE_TEST:\n",
    "    fig, ax = plt.subplots()\n",
    "    ax.plot(results[0][1], label=\"without constraints\")\n",
    "    ax.plot(c_results[0][1], label=\"with constraints\")\n",
    "    ax.set_xlabel(\"iteration\")\n",
    "    ax.set_ylabel(\"hypervolume\")\n",
    "    ax.legend()\n",
    "    plt.show()"
   ]
  }
 ],
 "metadata": {
  "kernelspec": {
   "display_name": "base",
   "language": "python",
   "name": "python3"
  },
  "language_info": {
   "codemirror_mode": {
    "name": "ipython",
    "version": 3
   },
   "file_extension": ".py",
   "mimetype": "text/x-python",
   "name": "python",
   "nbconvert_exporter": "python",
   "pygments_lexer": "ipython3",
   "version": "3.12.7"
  },
  "papermill": {
   "default_parameters": {},
   "duration": 6.81692,
   "end_time": "2024-10-10T20:35:45.726251",
   "environment_variables": {},
   "exception": true,
   "parameters": {},
   "start_time": "2024-10-10T20:35:38.909331",
   "version": "2.6.0"
  }
 },
 "nbformat": 4,
 "nbformat_minor": 5
}
