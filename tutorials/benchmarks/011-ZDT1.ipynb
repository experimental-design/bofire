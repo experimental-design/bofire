{
 "cells": [
  {
   "attachments": {},
   "cell_type": "markdown",
   "metadata": {},
   "source": [
    "# ZDT1\n",
    "\n",
    "## Imports"
   ]
  },
  {
   "cell_type": "code",
   "execution_count": 21,
   "metadata": {},
   "outputs": [],
   "source": [
    "import os\n",
    "\n",
    "import matplotlib.pyplot as plt\n",
    "import pandas as pd\n",
    "\n",
    "import bofire.strategies.api as strategies\n",
    "from bofire.benchmarks.api import ZDT1\n",
    "from bofire.data_models.domain.api import Domain\n",
    "from bofire.data_models.strategies.api import MoboStrategy, RandomStrategy\n",
    "from bofire.data_models.surrogates.api import (\n",
    "    BotorchSurrogates,\n",
    "    SaasSingleTaskGPSurrogate,\n",
    "    SingleTaskGPSurrogate,\n",
    ")\n",
    "from bofire.runners.api import run\n",
    "from bofire.utils.multiobjective import compute_hypervolume, get_pareto_front\n",
    "from bofire.data_models.priors.api import BOTORCH_LENGTHCALE_PRIOR, MBO_LENGTHCALE_PRIOR, DimensionalityScaledLogNormalPrior, LogNormalPrior, BOTORCH_NOISE_PRIOR, MBO_NOISE_PRIOR, MBO_OUTPUTSCALE_PRIOR, BOTORCH_SCALE_PRIOR, HVARFNER_LENGTHSCALE_PRIOR, HVARFNER_NOISE_PRIOR, NormalPrior, GammaPrior\n",
    "from bofire.plot.api import plot_prior_pdf_plotly\n",
    "from bofire.data_models.kernels.api import ScaleKernel, MaternKernel, RBFKernel\n",
    "import bofire.priors.api as priors\n",
    "\n",
    "SMOKE_TEST = os.environ.get(\"SMOKE_TEST\")\n",
    "\n",
    "N_ITERATIONS = 50 if not SMOKE_TEST else 1\n",
    "BATCH_SIZE = 5 if not SMOKE_TEST else 1\n",
    "WARMUP_STEPS = 256 if not SMOKE_TEST else 32\n",
    "NUM_SAMPLES = 128 if not SMOKE_TEST else 16\n",
    "THINNING = 16"
   ]
  },
  {
   "attachments": {},
   "cell_type": "markdown",
   "metadata": {},
   "source": [
    "## Random Optimization"
   ]
  },
  {
   "cell_type": "code",
   "execution_count": 23,
   "metadata": {},
   "outputs": [
    {
     "name": "stderr",
     "output_type": "stream",
     "text": [
      "run 00 with current best 1.555: 100%|██████████| 50/50 [00:01<00:00, 36.85it/s]\n"
     ]
    }
   ],
   "source": [
    "def sample(domain):\n",
    "    datamodel = RandomStrategy(domain=domain)\n",
    "    sampler = strategies.map(data_model=datamodel)\n",
    "    sampled = sampler.ask(10)\n",
    "    return sampled\n",
    "\n",
    "def hypervolume(domain: Domain, experiments: pd.DataFrame) -> float:\n",
    "    return compute_hypervolume(\n",
    "        domain, experiments, ref_point={\"y1\": 1.0, \"y2\": 5.}\n",
    "    )\n",
    "\n",
    "random_results = run(\n",
    "    ZDT1(n_inputs=30),\n",
    "    strategy_factory=lambda domain: strategies.map(RandomStrategy(domain=domain)),\n",
    "    n_iterations=N_ITERATIONS,\n",
    "    metric=hypervolume,\n",
    "    initial_sampler=sample,\n",
    "    n_runs=1,\n",
    "    n_procs=1,\n",
    ")"
   ]
  },
  {
   "cell_type": "markdown",
   "metadata": {},
   "source": [
    "## Optimization with Hvarfner priors"
   ]
  },
  {
   "cell_type": "code",
   "execution_count": 24,
   "metadata": {},
   "outputs": [
    {
     "name": "stderr",
     "output_type": "stream",
     "text": [
      "run 00 with current best 4.378: 100%|██████████| 50/50 [06:07<00:00,  7.34s/it]\n"
     ]
    }
   ],
   "source": [
    "def strategy_factory(domain: Domain):\n",
    "    data_model = MoboStrategy(domain=domain,  ref_point={\"y1\": 1., \"y2\": 5.})\n",
    "    return strategies.map(data_model)\n",
    "\n",
    "benchmark = ZDT1(n_inputs=30)\n",
    "\n",
    "\n",
    "def strategy_factory(domain: Domain):\n",
    "    data_model = MoboStrategy(\n",
    "        domain=domain,\n",
    "        ref_point={\"y1\": 1., \"y2\": 5.},\n",
    "        surrogate_specs=BotorchSurrogates(\n",
    "            surrogates=[\n",
    "                SingleTaskGPSurrogate(inputs=benchmark.domain.inputs, outputs=benchmark.domain.outputs.get_by_keys([\"y1\"]),\n",
    "                                          # the following hyperparams do not need to be provided\n",
    "                                          kernel=RBFKernel(ard=True, lengthscale_prior=DimensionalityScaledLogNormalPrior()),\n",
    "                                          noise_prior=HVARFNER_NOISE_PRIOR()),\n",
    "                SingleTaskGPSurrogate(inputs=benchmark.domain.inputs, outputs=benchmark.domain.outputs.get_by_keys([\"y2\"]),\n",
    "                                          # the following hyperparams do not need to be provided\n",
    "                                          kernel=RBFKernel(ard=True, lengthscale_prior=DimensionalityScaledLogNormalPrior()),\n",
    "                                          noise_prior=HVARFNER_NOISE_PRIOR()),\n",
    "                                          ]))\n",
    "    return strategies.map(data_model)\n",
    "\n",
    "results = run(\n",
    "    ZDT1(n_inputs=30),\n",
    "    strategy_factory=strategy_factory,\n",
    "    n_iterations=N_ITERATIONS,\n",
    "    metric=hypervolume,\n",
    "    initial_sampler=sample,\n",
    "    n_runs=1,\n",
    "    n_procs=1,\n",
    ")"
   ]
  },
  {
   "cell_type": "markdown",
   "metadata": {},
   "source": [
    "## Optimization with default priors"
   ]
  },
  {
   "cell_type": "code",
   "execution_count": 26,
   "metadata": {},
   "outputs": [
    {
     "name": "stderr",
     "output_type": "stream",
     "text": [
      "run 00 with current best 2.331: 100%|██████████| 50/50 [09:56<00:00, 11.92s/it]\n"
     ]
    }
   ],
   "source": [
    "def strategy_factory(domain: Domain):\n",
    "    data_model = MoboStrategy(domain=domain,  ref_point={\"y1\": 1., \"y2\": 5.})\n",
    "    return strategies.map(data_model)\n",
    "\n",
    "benchmark = ZDT1(n_inputs=30)\n",
    "\n",
    "\n",
    "def strategy_factory(domain: Domain):\n",
    "    data_model = MoboStrategy(\n",
    "        domain=domain,\n",
    "        ref_point={\"y1\": 1., \"y2\": 5.},\n",
    "        )\n",
    "    return strategies.map(data_model)\n",
    "\n",
    "results = run(\n",
    "    ZDT1(n_inputs=30),\n",
    "    strategy_factory=strategy_factory,\n",
    "    n_iterations=N_ITERATIONS,\n",
    "    metric=hypervolume,\n",
    "    initial_sampler=sample,\n",
    "    n_runs=1,\n",
    "    n_procs=1,\n",
    ")"
   ]
  },
  {
   "cell_type": "markdown",
   "metadata": {},
   "source": [
    "## SAASBO Optimization"
   ]
  },
  {
   "cell_type": "code",
   "execution_count": 6,
   "metadata": {},
   "outputs": [
    {
     "name": "stderr",
     "output_type": "stream",
     "text": [
      "run 00 with current best 4.578: 100%|██████████| 50/50 [1:32:20<00:00, 110.81s/it]\n"
     ]
    }
   ],
   "source": [
    "def strategy_factory(domain: Domain):\n",
    "    data_model = MoboStrategy(domain=domain,  ref_point={\"y1\": 1., \"y2\": 5.})\n",
    "    return strategies.map(data_model)\n",
    "\n",
    "benchmark = ZDT1(n_inputs=30)\n",
    "\n",
    "\n",
    "def strategy_factory(domain: Domain):\n",
    "    data_model = MoboStrategy(\n",
    "        domain=domain,\n",
    "        ref_point={\"y1\": 1., \"y2\": 5.},\n",
    "        surrogate_specs=BotorchSurrogates(\n",
    "            surrogates=[\n",
    "                SaasSingleTaskGPSurrogate(inputs=benchmark.domain.inputs, outputs=benchmark.domain.outputs.get_by_keys([\"y1\"]),\n",
    "                                          # the following hyperparams do not need to be provided\n",
    "                                          warmup_steps=WARMUP_STEPS,\n",
    "                                          num_samples=NUM_SAMPLES,\n",
    "                                          thinning=THINNING),\n",
    "                SaasSingleTaskGPSurrogate(inputs=benchmark.domain.inputs, outputs=benchmark.domain.outputs.get_by_keys([\"y2\"]),\n",
    "                                          # the following hyperparams do not need to be provided\n",
    "                                          warmup_steps=WARMUP_STEPS,\n",
    "                                          num_samples=NUM_SAMPLES,\n",
    "                                          thinning=THINNING)\n",
    "                                          ]))\n",
    "    return strategies.map(data_model)\n",
    "\n",
    "results = run(\n",
    "    ZDT1(n_inputs=30),\n",
    "    strategy_factory=strategy_factory,\n",
    "    n_iterations=N_ITERATIONS,\n",
    "    metric=hypervolume,\n",
    "    initial_sampler=sample,\n",
    "    n_runs=1,\n",
    "    n_procs=1,\n",
    ")"
   ]
  },
  {
   "cell_type": "markdown",
   "metadata": {},
   "source": [
    "Plot the pareto front."
   ]
  },
  {
   "cell_type": "code",
   "execution_count": 13,
   "metadata": {},
   "outputs": [
    {
     "data": {
      "image/png": "[encoded data removed]",
      "text/plain": [
       "<Figure size 640x480 with 1 Axes>"
      ]
     },
     "metadata": {},
     "output_type": "display_data"
    }
   ],
   "source": [
    "theoretical_front = benchmark.get_optima()\n",
    "front = get_pareto_front(domain=benchmark.domain, experiments=results[0][0])\n",
    "\n",
    "fig, ax = plt.subplots()\n",
    "ax.plot(theoretical_front.y1, theoretical_front.y2, label=\"theoretical Pareto front\")\n",
    "\n",
    "ax.scatter(front.y1, front.y2, label=\"Mobo\")\n",
    "ax.set_xlabel(\"f1\")\n",
    "ax.set_ylabel(\"f2\")\n",
    "\n",
    "\n",
    "ax.legend()\n",
    "\n",
    "plt.show()"
   ]
  },
  {
   "cell_type": "markdown",
   "metadata": {},
   "source": [
    "Show the performance of the optimizer."
   ]
  },
  {
   "cell_type": "code",
   "execution_count": 14,
   "metadata": {},
   "outputs": [
    {
     "data": {
      "text/plain": [
       "<matplotlib.legend.Legend at 0x2b7d05300>"
      ]
     },
     "execution_count": 14,
     "metadata": {},
     "output_type": "execute_result"
    },
    {
     "data": {
      "image/png": "[encoded data removed]",
      "text/plain": [
       "<Figure size 640x480 with 1 Axes>"
      ]
     },
     "metadata": {},
     "output_type": "display_data"
    }
   ],
   "source": [
    "fig, ax = plt.subplots()\n",
    "\n",
    "ax.plot(results[0][1], label=\"Mobo, refpoint=(1, 5)\")\n",
    "\n",
    "ax.set_ylabel(\"Hypervolume\")\n",
    "ax.set_xlabel(\"Iteration\")\n",
    "\n",
    "ax.legend()"
   ]
  }
 ],
 "metadata": {
  "kernelspec": {
   "display_name": "Python 3 (ipykernel)",
   "language": "python",
   "name": "python3"
  },
  "language_info": {
   "codemirror_mode": {
    "name": "ipython",
    "version": 3
   },
   "file_extension": ".py",
   "mimetype": "text/x-python",
   "name": "python",
   "nbconvert_exporter": "python",
   "pygments_lexer": "ipython3",
   "version": "3.10.12"
  }
 },
 "nbformat": 4,
 "nbformat_minor": 4
}
