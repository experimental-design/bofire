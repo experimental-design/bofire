{
 "cells": [
  {
   "cell_type": "markdown",
   "metadata": {},
   "source": [
    "# Local Search Region Bayesian Optimization\n",
    "\n",
    "In this notebook the Branin benchmark from paper about local search region BO (https://www.merl.com/publications/docs/TR2023-057.pdf) is reproduced."
   ]
  },
  {
   "cell_type": "markdown",
   "metadata": {},
   "source": [
    "## Imports and helper methods"
   ]
  },
  {
   "cell_type": "code",
   "execution_count": 20,
   "metadata": {},
   "outputs": [],
   "source": [
    "from bofire.benchmarks.api import Branin\n",
    "from bofire.data_models.strategies.api import SoboStrategy, LSRBO, RandomStrategy\n",
    "import bofire.strategies.api as strategies\n",
    "import pandas as pd\n",
    "from bofire.data_models.domain.api import Domain\n",
    "from bofire.runners.api import run\n",
    "from bofire.data_models.acquisition_functions.api import qEI\n",
    "\n",
    "import warnings\n",
    "warnings.filterwarnings(\"ignore\")\n",
    "\n",
    "bench = Branin(locality_factor=0.5)\n",
    "\n",
    "def sample(domain):\n",
    "    sampled = domain.inputs.sample(10)\n",
    "    return sampled\n",
    "    #sampled = bench.f(sampled, return_complete = True)\n",
    "    #sampled = sampled.sort_values(by=\"y\", ascending=False, ignore_index=True)\n",
    "    #return sampled[bench.domain.inputs.get_keys()].copy()\n",
    "\n",
    "def best(domain: Domain, experiments: pd.DataFrame) -> float:\n",
    "    return experiments.y.min()\n"
   ]
  },
  {
   "cell_type": "markdown",
   "metadata": {},
   "source": [
    "## Random Optimization\n",
    "Here random sampling is performed without any local search region constraints applied."
   ]
  },
  {
   "cell_type": "code",
   "execution_count": 18,
   "metadata": {},
   "outputs": [
    {
     "name": "stderr",
     "output_type": "stream",
     "text": [
      "run 00 with current best 6.942:   0%|          | 0/80 [00:00<?, ?it/s]"
     ]
    },
    {
     "name": "stderr",
     "output_type": "stream",
     "text": [
      "run 00 with current best 1.820: 100%|██████████| 80/80 [00:00<00:00, 145.19it/s]\n",
      "run 00 with current best 0.691: 100%|██████████| 80/80 [00:00<00:00, 157.98it/s]\n",
      "run 00 with current best 0.638: 100%|██████████| 80/80 [00:00<00:00, 157.20it/s]\n",
      "run 00 with current best 0.920: 100%|██████████| 80/80 [00:00<00:00, 156.76it/s]\n",
      "run 00 with current best 0.704: 100%|██████████| 80/80 [00:00<00:00, 156.00it/s]\n"
     ]
    }
   ],
   "source": [
    "random_results = [run(\n",
    "    Branin(locality_factor=0.5),\n",
    "    strategy_factory=lambda domain: strategies.map(RandomStrategy(domain=domain)),\n",
    "    n_iterations=80,\n",
    "    metric=best,\n",
    "    initial_sampler=sample,\n",
    "    n_runs=1,\n",
    "    n_procs=1,\n",
    ")for _ in range(5)]"
   ]
  },
  {
   "cell_type": "markdown",
   "metadata": {},
   "source": [
    "## SOBO Optimization\n",
    "Here standard bayesian optimization is performed without any local search region constraints applied using the qEI acquistion function."
   ]
  },
  {
   "cell_type": "code",
   "execution_count": 9,
   "metadata": {},
   "outputs": [
    {
     "name": "stderr",
     "output_type": "stream",
     "text": [
      "run 00 with current best 0.398: 100%|██████████| 80/80 [00:28<00:00,  2.80it/s]\n",
      "run 00 with current best 0.398: 100%|██████████| 80/80 [00:26<00:00,  3.02it/s]\n",
      "run 00 with current best 0.398: 100%|██████████| 80/80 [00:27<00:00,  2.92it/s]\n",
      "run 00 with current best 0.398: 100%|██████████| 80/80 [00:25<00:00,  3.08it/s]\n",
      "run 00 with current best 0.398: 100%|██████████| 80/80 [00:26<00:00,  2.99it/s]\n"
     ]
    }
   ],
   "source": [
    "sobo_results = [run(\n",
    "    Branin(locality_factor=0.5),\n",
    "    strategy_factory=lambda domain: strategies.map(SoboStrategy(domain=domain, acquisition_function=qEI())),\n",
    "    n_iterations=80,\n",
    "    metric=best,\n",
    "    initial_sampler=sample,\n",
    "    n_runs=1,\n",
    "    n_procs=1,\n",
    ")for _ in range(5)]"
   ]
  },
  {
   "cell_type": "markdown",
   "metadata": {},
   "source": [
    "## Local SOBO Optimization\n",
    "Here bayesian optimization is performed with setting `gamma` parameter of the LSR-BO method to 0 which results in a pure local optimization with respect to the last random sample."
   ]
  },
  {
   "cell_type": "code",
   "execution_count": 3,
   "metadata": {},
   "outputs": [
    {
     "name": "stderr",
     "output_type": "stream",
     "text": [
      "run 00 with current best 1.812: 100%|██████████| 80/80 [00:23<00:00,  3.46it/s]\n",
      "run 00 with current best 1.137: 100%|██████████| 80/80 [00:20<00:00,  3.99it/s]\n",
      "run 00 with current best 3.423: 100%|██████████| 80/80 [00:23<00:00,  3.41it/s]\n",
      "run 00 with current best 0.398: 100%|██████████| 80/80 [00:23<00:00,  3.41it/s]\n",
      "run 00 with current best 0.686: 100%|██████████| 80/80 [00:19<00:00,  4.14it/s]\n"
     ]
    }
   ],
   "source": [
    "local_results = [run(\n",
    "    Branin(locality_factor=0.5),\n",
    "    strategy_factory=lambda domain: strategies.map(SoboStrategy(domain=domain, acquisition_function=qEI(),local_search_config=LSRBO(gamma=0))),\n",
    "    n_iterations=80,\n",
    "    metric=best,\n",
    "    initial_sampler=sample,\n",
    "    n_runs=1,\n",
    "    n_procs=1,\n",
    ")for _ in range(5)]"
   ]
  },
  {
   "cell_type": "markdown",
   "metadata": {},
   "source": [
    "## Global SOBO Optimization (Projection)\n",
    "Here bayesian optimization is performed with setting `gamma` parameter of the LSR-BO method to 500 which results in taking always the biggest step in the direction of the global candidate. In the original paper, this is called \"Projection\"."
   ]
  },
  {
   "cell_type": "code",
   "execution_count": 6,
   "metadata": {},
   "outputs": [
    {
     "name": "stderr",
     "output_type": "stream",
     "text": [
      "run 00 with current best 0.417: 100%|██████████| 80/80 [00:28<00:00,  2.85it/s]\n",
      "run 00 with current best 1.109: 100%|██████████| 80/80 [00:22<00:00,  3.56it/s]\n",
      "run 00 with current best 0.437: 100%|██████████| 80/80 [00:20<00:00,  3.84it/s]\n",
      "run 00 with current best 0.512: 100%|██████████| 80/80 [00:18<00:00,  4.24it/s]\n",
      "run 00 with current best 1.235: 100%|██████████| 80/80 [00:23<00:00,  3.45it/s]\n"
     ]
    }
   ],
   "source": [
    "\n",
    "global_results = [run(\n",
    "    Branin(locality_factor=0.5),\n",
    "    strategy_factory=lambda domain: strategies.map(SoboStrategy(domain=domain, acquisition_function=qEI(),local_search_config=LSRBO(gamma=500))),\n",
    "    n_iterations=80,\n",
    "    metric=best,\n",
    "    initial_sampler=sample,\n",
    "    n_runs=1,\n",
    "    n_procs=1,\n",
    ")for _ in range(5)]"
   ]
  },
  {
   "cell_type": "markdown",
   "metadata": {},
   "source": [
    "## LSR-BO\n",
    "Here the actual method from the paper is performed with setting `gamma` to 0.1."
   ]
  },
  {
   "cell_type": "code",
   "execution_count": 7,
   "metadata": {},
   "outputs": [
    {
     "name": "stderr",
     "output_type": "stream",
     "text": [
      "run 00 with current best 0.402: 100%|██████████| 80/80 [00:21<00:00,  3.79it/s]\n",
      "run 00 with current best 0.398: 100%|██████████| 80/80 [00:23<00:00,  3.43it/s]\n",
      "run 00 with current best 0.422: 100%|██████████| 80/80 [00:25<00:00,  3.19it/s]\n",
      "run 00 with current best 0.398: 100%|██████████| 80/80 [00:22<00:00,  3.62it/s]\n",
      "run 00 with current best 0.399: 100%|██████████| 80/80 [00:23<00:00,  3.39it/s]\n"
     ]
    }
   ],
   "source": [
    "lsr_results = [run(\n",
    "    Branin(locality_factor=0.5),\n",
    "    strategy_factory=lambda domain: strategies.map(SoboStrategy(domain=domain, acquisition_function=qEI(),local_search_config=LSRBO(gamma=0.1))),\n",
    "    n_iterations=80,\n",
    "    metric=best,\n",
    "    initial_sampler=sample,\n",
    "    n_runs=1,\n",
    "    n_procs=1,\n",
    ")for _ in range(5)]"
   ]
  },
  {
   "cell_type": "markdown",
   "metadata": {},
   "source": [
    "## Plot the results"
   ]
  },
  {
   "cell_type": "code",
   "execution_count": 19,
   "metadata": {},
   "outputs": [
    {
     "data": {
      "image/png": "[encoded data removed]",
      "text/plain": [
       "<Figure size 640x480 with 1 Axes>"
      ]
     },
     "metadata": {},
     "output_type": "display_data"
    }
   ],
   "source": [
    "import matplotlib.pyplot as plt\n",
    "import numpy as np\n",
    "\n",
    "fig, ax = plt.subplots()\n",
    "\n",
    "best_random = np.array([random_results[i][0][1] for i in range(len(random_results))])\n",
    "ax.plot(range(0,80), best_random.mean(axis=0), color=\"gray\", label=\"Random\")\n",
    "ax.fill_between(range(0, 80),(best_random.mean(0)-best_random.std(0)), (best_random.mean(0)+best_random.std(0)), alpha = 0.3, color = 'gray')\n",
    "\n",
    "best_global = np.log10(np.array([global_results[i][0][1] for i in range(len(global_results))]) - 0.397887)\n",
    "ax.plot(range(0, 80),best_global.mean(axis=0), color=\"orange\", label=\"Projection\")\n",
    "ax.fill_between(range(0, 80),(best_global.mean(0)-best_global.std(0)), (best_global.mean(0)+best_global.std(0)), alpha = 0.3, color = 'orange')\n",
    "\n",
    "best_local = np.log10(np.array([local_results[i][0][1] for i in range(len(global_results))]) - 0.397887)\n",
    "ax.plot(range(0, 80),best_local.mean(axis=0), color=\"green\", label=\"Local\")\n",
    "ax.fill_between(range(0, 80),(best_local.mean(0)-best_local.std(0)), (best_local.mean(0)+best_local.std(0)), alpha = 0.3, color = 'green')\n",
    "\n",
    "best_lsr = np.log10(np.array([lsr_results[i][0][1] for i in range(len(lsr_results))]) - 0.397887)\n",
    "ax.plot(range(0, 80),best_lsr.mean(axis=0), color=\"blue\", label=\"LSR\")\n",
    "ax.fill_between(range(0, 80),(best_lsr.mean(0)-best_lsr.std(0)), (best_lsr.mean(0)+best_lsr.std(0)), alpha = 0.3, color = 'blue')\n",
    "\n",
    "best_unconstrained = np.log10(np.array([sobo_results[i][0][1] for i in range(len(sobo_results))]) - 0.397887)\n",
    "ax.plot(range(0, 80),best_unconstrained.mean(axis=0), color=\"red\", label=\"Unconstrained\")\n",
    "ax.fill_between(range(0, 80),(best_unconstrained.mean(0)-best_unconstrained.std(0)), (best_unconstrained.mean(0)+best_unconstrained.std(0)), alpha = 0.3, color = 'red')\n",
    "\n",
    "\n",
    "ax.set_xlabel(\"Iteration\")\n",
    "ax.set_ylabel(\"Log10(SimpleRegret)\")\n",
    "ax.legend()\n",
    "\n",
    "plt.show()"
   ]
  }
 ],
 "metadata": {
  "kernelspec": {
   "display_name": "bofire-2",
   "language": "python",
   "name": "python3"
  },
  "language_info": {
   "codemirror_mode": {
    "name": "ipython",
    "version": 3
   },
   "file_extension": ".py",
   "mimetype": "text/x-python",
   "name": "python",
   "nbconvert_exporter": "python",
   "pygments_lexer": "ipython3",
   "version": "3.10.12"
  }
 },
 "nbformat": 4,
 "nbformat_minor": 2
}
