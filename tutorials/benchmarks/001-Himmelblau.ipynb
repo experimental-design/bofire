{
 "cells": [
  {
   "cell_type": "markdown",
   "metadata": {},
   "source": [
    "# Himmelblau Benchmark\n",
    "## Imports"
   ]
  },
  {
   "cell_type": "code",
   "execution_count": 2,
   "metadata": {},
   "outputs": [],
   "source": [
    "from bofire.benchmarks.single import Himmelblau\n",
    "from bofire.runners.api import run\n",
    "from bofire.data_models.strategies.api import SoboStrategy, RandomStrategy, PolytopeSampler\n",
    "from bofire.data_models.acquisition_functions.api import qEI\n",
    "import bofire.strategies.api as strategies\n",
    "from bofire.data_models.api import Domain\n",
    "from functools import partial\n",
    "import pandas as pd\n",
    "import os\n",
    "\n",
    "SMOKE_TEST = os.environ.get(\"SMOKE_TEST\")"
   ]
  },
  {
   "cell_type": "markdown",
   "metadata": {},
   "source": [
    "## Random Optimization"
   ]
  },
  {
   "cell_type": "code",
   "execution_count": 3,
   "metadata": {},
   "outputs": [
    {
     "name": "stderr",
     "output_type": "stream",
     "text": [
      "run 00 with current best 4.352: 100%|██████████████████████████████████████████████████| 50/50 [00:01<00:00, 28.18it/s]\n"
     ]
    }
   ],
   "source": [
    "def sample(domain):\n",
    "    datamodel = PolytopeSampler(domain=domain)\n",
    "    sampler = strategies.map(data_model=datamodel)\n",
    "    sampled = sampler.ask(10)\n",
    "    return sampled\n",
    "\n",
    "def best(domain: Domain, experiments: pd.DataFrame) -> float:\n",
    "    return experiments.y.min()\n",
    "\n",
    "random_results = run(\n",
    "    Himmelblau(),\n",
    "    strategy_factory=lambda domain: strategies.map(RandomStrategy(domain=domain)),\n",
    "    n_iterations=50 if not SMOKE_TEST else 1,\n",
    "    metric=best,\n",
    "    initial_sampler=sample,\n",
    "    n_runs=1,\n",
    "    n_procs=1,\n",
    ")"
   ]
  },
  {
   "cell_type": "markdown",
   "metadata": {},
   "source": [
    "## SOBO (GPEI) Optimization"
   ]
  },
  {
   "cell_type": "code",
   "execution_count": 5,
   "metadata": {},
   "outputs": [
    {
     "name": "stderr",
     "output_type": "stream",
     "text": [
      "run 00 with current best 0.003: 100%|██████████████████████████████████████████████████| 50/50 [07:19<00:00,  8.79s/it]\n"
     ]
    }
   ],
   "source": [
    "def strategy_factory(domain: Domain):\n",
    "    data_model = SoboStrategy(domain=domain, acquisition_function=qEI())\n",
    "    return strategies.map(data_model)\n",
    "\n",
    "bo_results = run(\n",
    "    Himmelblau(),\n",
    "    strategy_factory=strategy_factory,\n",
    "    n_iterations=50 if not SMOKE_TEST else 1,\n",
    "    metric=best,\n",
    "    initial_sampler=sample,\n",
    "    n_runs=1,\n",
    "    n_procs=1,\n",
    ")"
   ]
  }
 ],
 "metadata": {
  "kernelspec": {
   "display_name": "Python 3 (ipykernel)",
   "language": "python",
   "name": "python3"
  },
  "language_info": {
   "codemirror_mode": {
    "name": "ipython",
    "version": 3
   },
   "file_extension": ".py",
   "mimetype": "text/x-python",
   "name": "python",
   "nbconvert_exporter": "python",
   "pygments_lexer": "ipython3",
   "version": "3.10.9"
  }
 },
 "nbformat": 4,
 "nbformat_minor": 4
}
