{
 "cells": [
  {
   "cell_type": "markdown",
   "id": "0",
   "metadata": {
    "papermill": {
     "duration": 0.003931,
     "end_time": "2024-10-10T20:34:38.183260",
     "exception": false,
     "start_time": "2024-10-10T20:34:38.179329",
     "status": "completed"
    },
    "tags": []
   },
   "source": [
    "# Himmelblau Benchmark\n",
    "## Imports"
   ]
  },
  {
   "cell_type": "code",
   "execution_count": null,
   "id": "1",
   "metadata": {
    "papermill": {
     "duration": 2.909057,
     "end_time": "2024-10-10T20:34:41.096329",
     "exception": false,
     "start_time": "2024-10-10T20:34:38.187272",
     "status": "completed"
    },
    "tags": []
   },
   "outputs": [],
   "source": [
    "import os\n",
    "\n",
    "import pandas as pd\n",
    "\n",
    "import bofire.strategies.api as strategies\n",
    "from bofire.benchmarks.single import Himmelblau\n",
    "from bofire.data_models.acquisition_functions.api import qLogEI\n",
    "from bofire.data_models.api import Domain\n",
    "from bofire.data_models.strategies.api import RandomStrategy, SoboStrategy\n",
    "from bofire.runners.api import run\n",
    "\n",
    "\n",
    "SMOKE_TEST = os.environ.get(\"SMOKE_TEST\")"
   ]
  },
  {
   "cell_type": "markdown",
   "id": "2",
   "metadata": {
    "papermill": {
     "duration": 0.000799,
     "end_time": "2024-10-10T20:34:41.098227",
     "exception": false,
     "start_time": "2024-10-10T20:34:41.097428",
     "status": "completed"
    },
    "tags": []
   },
   "source": [
    "## Random Optimization"
   ]
  },
  {
   "cell_type": "code",
   "execution_count": null,
   "id": "3",
   "metadata": {
    "papermill": {
     "duration": 0.274635,
     "end_time": "2024-10-10T20:34:41.373576",
     "exception": false,
     "start_time": "2024-10-10T20:34:41.098941",
     "status": "completed"
    },
    "tags": []
   },
   "outputs": [],
   "source": [
    "def sample(domain):\n",
    "    datamodel = RandomStrategy(domain=domain)\n",
    "    sampler = strategies.map(data_model=datamodel)\n",
    "    sampled = sampler.ask(10)\n",
    "    return sampled\n",
    "\n",
    "\n",
    "def best(domain: Domain, experiments: pd.DataFrame) -> float:\n",
    "    return experiments.y.min()\n",
    "\n",
    "\n",
    "random_results = run(\n",
    "    Himmelblau(),\n",
    "    strategy_factory=lambda domain: strategies.map(RandomStrategy(domain=domain)),\n",
    "    n_iterations=50 if not SMOKE_TEST else 1,\n",
    "    metric=best,\n",
    "    initial_sampler=sample,\n",
    "    n_runs=1,\n",
    "    n_procs=1,\n",
    ")"
   ]
  },
  {
   "cell_type": "markdown",
   "id": "4",
   "metadata": {
    "papermill": {
     "duration": 0.002483,
     "end_time": "2024-10-10T20:34:41.378861",
     "exception": false,
     "start_time": "2024-10-10T20:34:41.376378",
     "status": "completed"
    },
    "tags": []
   },
   "source": [
    "## SOBO (GPEI) Optimization"
   ]
  },
  {
   "cell_type": "code",
   "execution_count": null,
   "id": "5",
   "metadata": {
    "papermill": {
     "duration": 0.314577,
     "end_time": "2024-10-10T20:34:41.695714",
     "exception": true,
     "start_time": "2024-10-10T20:34:41.381137",
     "status": "failed"
    },
    "tags": []
   },
   "outputs": [],
   "source": [
    "def strategy_factory(domain: Domain):\n",
    "    data_model = SoboStrategy(domain=domain, acquisition_function=qLogEI())\n",
    "    return strategies.map(data_model)\n",
    "\n",
    "\n",
    "bo_results = run(\n",
    "    Himmelblau(),\n",
    "    strategy_factory=strategy_factory,\n",
    "    n_iterations=50 if not SMOKE_TEST else 1,\n",
    "    metric=best,\n",
    "    initial_sampler=sample,\n",
    "    n_runs=1,\n",
    "    n_procs=1,\n",
    ")"
   ]
  }
 ],
 "metadata": {
  "kernelspec": {
   "display_name": "base",
   "language": "python",
   "name": "python3"
  },
  "language_info": {
   "codemirror_mode": {
    "name": "ipython",
    "version": 3
   },
   "file_extension": ".py",
   "mimetype": "text/x-python",
   "name": "python",
   "nbconvert_exporter": "python",
   "pygments_lexer": "ipython3",
   "version": "3.12.7"
  },
  "papermill": {
   "default_parameters": {},
   "duration": 7.051842,
   "end_time": "2024-10-10T20:34:44.317537",
   "environment_variables": {},
   "exception": true,
   "parameters": {},
   "start_time": "2024-10-10T20:34:37.265695",
   "version": "2.6.0"
  }
 },
 "nbformat": 4,
 "nbformat_minor": 5
}
