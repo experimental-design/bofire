{
 "cells": [
  {
   "attachments": {},
   "cell_type": "markdown",
   "metadata": {},
   "source": [
    "# Himmelblau Benchmark\n",
    "## Imports"
   ]
  },
  {
   "cell_type": "code",
   "execution_count": 1,
   "metadata": {},
   "outputs": [],
   "source": [
    "from bofire.benchmarks.single import Himmelblau\n",
    "from bofire.benchmarks.benchmark import run\n",
    "from bofire.data_models.strategies.api import (\n",
    "    SoboStrategy,\n",
    "    RandomStrategy,\n",
    "    PolytopeSampler,\n",
    ")\n",
    "from bofire.data_models.domain.api import Outputs\n",
    "from bofire.data_models.acquisition_functions.api import qEI\n",
    "from bofire.data_models.outlier_detection.api import IterativeTrimming, OutlierDetections\n",
    "from bofire.data_models.surrogates.api import SingleTaskGPSurrogate, MixedSingleTaskGPSurrogate\n",
    "from bofire.data_models.features.api import CategoricalInput\n",
    "import bofire.strategies.api as strategies\n",
    "from bofire.data_models.api import Domain\n",
    "from functools import partial\n",
    "import pandas as pd #type: ignore\n",
    "import os\n",
    "\n",
    "SMOKE_TEST = os.environ.get(\"SMOKE_TEST\")"
   ]
  },
  {
   "attachments": {},
   "cell_type": "markdown",
   "metadata": {},
   "source": [
    "## Random Optimization"
   ]
  },
  {
   "cell_type": "code",
   "execution_count": 5,
   "metadata": {},
   "outputs": [
    {
     "name": "stderr",
     "output_type": "stream",
     "text": [
      "run 00 with current best 4.162: 100%|██████████████████████████████████████████████████████████████████████████████████████████████████████████████████████████████████████████████| 50/50 [00:00<00:00, 59.03it/s]\n"
     ]
    }
   ],
   "source": [
    "def sample(domain):\n",
    "    datamodel = PolytopeSampler(domain=domain)\n",
    "    sampler = strategies.map(data_model=datamodel)\n",
    "    sampled = sampler.ask(10)\n",
    "    return sampled\n",
    "\n",
    "\n",
    "def best(domain: Domain, experiments: pd.DataFrame) -> float:\n",
    "    return experiments.y.min()\n",
    "\n",
    "\n",
    "random_results = run(\n",
    "    Himmelblau(),\n",
    "    strategy_factory=RandomStrategy,\n",
    "    n_iterations=50 if not SMOKE_TEST else 1,\n",
    "    metric=best,\n",
    "    initial_sampler=sample,\n",
    "    n_runs=1,\n",
    "    n_procs=1,\n",
    ")"
   ]
  },
  {
   "attachments": {},
   "cell_type": "markdown",
   "metadata": {},
   "source": [
    "## SOBO (GPEI) Optimization"
   ]
  },
  {
   "cell_type": "code",
   "execution_count": 6,
   "metadata": {},
   "outputs": [
    {
     "name": "stderr",
     "output_type": "stream",
     "text": [
      "run 00 with current best 0.015: 100%|██████████████████████████████████████████████████████████████████████████████████████████████████████████████████████████████████████████████| 50/50 [06:21<00:00,  7.63s/it]\n"
     ]
    }
   ],
   "source": [
    "bo_results = run(\n",
    "    Himmelblau(),\n",
    "    strategy_factory=partial(SoboStrategy, acquisition_function=qEI()),\n",
    "    n_iterations=50 if not SMOKE_TEST else 1,\n",
    "    metric=best,\n",
    "    initial_sampler=sample,\n",
    "    n_runs=1,\n",
    "    n_procs=1,\n",
    ")"
   ]
  },
  {
   "attachments": {},
   "cell_type": "markdown",
   "metadata": {},
   "source": [
    "## SOBO (GPEI) Optimization with outlier detection"
   ]
  },
  {
   "cell_type": "code",
   "execution_count": 22,
   "metadata": {},
   "outputs": [],
   "source": [
    "domain = Himmelblau().domain\n",
    "detectors = []\n",
    "for output_feature in domain.outputs.get_keys():\n",
    "    if len(domain.inputs.get(CategoricalInput, exact=True)):\n",
    "               detectors.append(IterativeTrimming(\n",
    "                    base_gp=MixedSingleTaskGPSurrogate(\n",
    "                        inputs=domain.inputs,\n",
    "                        outputs=Outputs(features=[domain.outputs.get_by_key(output_feature)]),  # type: ignore\n",
    "                    ))\n",
    "                )\n",
    "    else:\n",
    "        detectors.append(IterativeTrimming(\n",
    "            base_gp=SingleTaskGPSurrogate(\n",
    "                inputs=domain.inputs,\n",
    "                outputs=Outputs(features=[domain.outputs.get_by_key(output_feature)]),  # type: ignore\n",
    "            ))\n",
    "        )\n",
    "outlier_detection_specs = OutlierDetections(detectors=detectors)"
   ]
  },
  {
   "cell_type": "code",
   "execution_count": 23,
   "metadata": {},
   "outputs": [
    {
     "name": "stderr",
     "output_type": "stream",
     "text": [
      "run 00 with current best 0.012: 100%|██████████████████████████████████████████████████████████████████████████████████████████████████████████████████████████████████████████████| 50/50 [06:33<00:00,  7.86s/it]\n"
     ]
    }
   ],
   "source": [
    "bo_results = run(\n",
    "    Himmelblau(),\n",
    "    strategy_factory=partial(SoboStrategy, acquisition_function=qEI(), outlier_detection_specs = outlier_detection_specs,\n",
    "                             min_experiments_before_outlier_check = 10, \n",
    "                            num_experiments_frequency_outlier_check = 2),\n",
    "    n_iterations=50 if not SMOKE_TEST else 1,\n",
    "    metric=best,\n",
    "    initial_sampler=sample,\n",
    "    n_runs=1,\n",
    "    n_procs=1,\n",
    ")"
   ]
  },
  {
   "cell_type": "code",
   "execution_count": null,
   "metadata": {},
   "outputs": [],
   "source": []
  }
 ],
 "metadata": {
  "kernelspec": {
   "display_name": "Python 3 (ipykernel)",
   "language": "python",
   "name": "python3"
  },
  "language_info": {
   "codemirror_mode": {
    "name": "ipython",
    "version": 3
   },
   "file_extension": ".py",
   "mimetype": "text/x-python",
   "name": "python",
   "nbconvert_exporter": "python",
   "pygments_lexer": "ipython3",
   "version": "3.10.11"
  }
 },
 "nbformat": 4,
 "nbformat_minor": 2
}
