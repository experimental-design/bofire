{
 "cells": [
  {
   "cell_type": "markdown",
   "id": "42d47b6f",
   "metadata": {},
   "source": [
    "## Bayesian Optimisation Over Molecules\n",
    "An example notebook for Bayesian optimisation on a molecular dataset using a Tanimoto fingerprint kernel and the photoswitch dataset.$\\newline$\n",
    "Paper: https://pubs.rsc.org/en/content/articlelanding/2022/sc/d2sc04306h $\\newline$                                                                                      \n",
    "Code: https://github.com/Ryan-Rhys/The-Photoswitch-Dataset $\\newline$                                                                                                    \n",
    "This notebook is adapted from https://github.com/leojklarner/gauche/blob/main/notebooks/Bayesian%20Optimisation%20Over%20Molecules.ipynb $\\newline$                      \n",
    "The method of obtaining new data from a discreet dataset is explained in the notebook and the details of the dataset and the method are explained in the code and the paper repsectively."
   ]
  },
  {
   "cell_type": "markdown",
   "id": "06989b46",
   "metadata": {},
   "source": [
    "## Imports"
   ]
  },
  {
   "cell_type": "code",
   "execution_count": 1,
   "id": "cd970290",
   "metadata": {},
   "outputs": [],
   "source": [
    "import warnings\n",
    "warnings.filterwarnings(\"ignore\")\n",
    "from bofire.benchmarks.LookupTableBenchmark import LookupTableBenchmark\n",
    "from bofire.runners.api import run\n",
    "from bofire.data_models.strategies.api import (\n",
    "    SoboStrategy,\n",
    "    RandomStrategy,\n",
    ")\n",
    "from bofire.data_models.features.api import (\n",
    "    ContinuousOutput,\n",
    "    CategoricalMolecularInput\n",
    ")\n",
    "from bofire.data_models.acquisition_functions.api import qEI\n",
    "from bofire.benchmarks.data.photoswitches import EXPERIMENTS\n",
    "from bofire.data_models.surrogates.api import TanimotoGPSurrogate, BotorchSurrogates\n",
    "import bofire.strategies.api as strategies\n",
    "from bofire.data_models.api import Domain\n",
    "from bofire.data_models.domain.api import Inputs, Outputs\n",
    "from functools import partial\n",
    "import pandas as pd #type: ignore\n",
    "import os\n",
    "from matplotlib import pyplot as plt\n",
    "from bofire.data_models.domain.api import Domain\n",
    "from bofire.data_models.acquisition_functions.api import qEI\n",
    "import pandas as pd\n",
    "import numpy as np\n",
    "from matplotlib import pyplot as plt\n",
    "from bofire.data_models.molfeatures.api import FingerprintsFragments\n",
    "from bofire.data_models.strategies.api import SoboStrategy\n",
    "from bofire.data_models.objectives.api import MaximizeObjective\n",
    "\n",
    "SMOKE_TEST = os.environ.get(\"SMOKE_TEST\")"
   ]
  },
  {
   "cell_type": "markdown",
   "id": "1a66dc7f",
   "metadata": {},
   "source": [
    "## Benchmark \n",
    "input and output feature keys and extract them to get LookUpTable"
   ]
  },
  {
   "cell_type": "code",
   "execution_count": 2,
   "id": "a61fadda",
   "metadata": {},
   "outputs": [],
   "source": [
    "benchmark = {\n",
    "    \"input\": \"SMILES\",\n",
    "    \"output\": \"E isomer pi-pi* wavelength in nm\",}\n",
    "df = pd.read_json(EXPERIMENTS)\n",
    "main_file = pd.DataFrame(\n",
    "    columns=[benchmark[\"input\"], benchmark[\"output\"]]\n",
    ")\n",
    "nans = df[benchmark[\"output\"]].isnull().to_list()\n",
    "nan_indices = [nan for nan, x in enumerate(nans) if x]\n",
    "main_file[benchmark[\"input\"]] = (\n",
    "    df[benchmark[\"input\"]].drop(nan_indices).to_list()\n",
    ")\n",
    "main_file[benchmark[\"output\"]] = (\n",
    "    df[benchmark[\"output\"]].dropna().to_numpy().reshape(-1, 1)\n",
    ")\n",
    "input_feature = CategoricalMolecularInput(\n",
    "    key=benchmark[\"input\"],\n",
    "    categories=list(set(main_file[benchmark[\"input\"]].to_list())),\n",
    ")\n",
    "objective = MaximizeObjective(\n",
    "    w=1.0,\n",
    ")\n",
    "inputs = Inputs(features=[input_feature])\n",
    "output_feature = ContinuousOutput(\n",
    "    key=benchmark[\"output\"], objective=objective\n",
    ")\n",
    "outputs = Outputs(features=[output_feature])\n",
    "domain = Domain(inputs=inputs, outputs=outputs)\n"
   ]
  },
  {
   "cell_type": "markdown",
   "id": "aa9bde30",
   "metadata": {},
   "source": [
    "## Random vs SOBO optimization\n",
    "For molecules, we use Tanimoto GP which has a Tanimoto kernel as default"
   ]
  },
  {
   "cell_type": "code",
   "execution_count": 12,
   "id": "7984dbdb",
   "metadata": {},
   "outputs": [
    {
     "name": "stderr",
     "output_type": "stream",
     "text": [
      "run 00 with current best 565.000: 100%|██████████| 49/49 [00:00<00:00, 54.53it/s]\n",
      "run 00 with current best 623.000: 100%|██████████| 49/49 [00:59<00:00,  1.22s/it]\n",
      "run 00 with current best 592.000: 100%|██████████| 49/49 [00:01<00:00, 40.31it/s]\n",
      "run 00 with current best 623.000: 100%|██████████| 49/49 [01:00<00:00,  1.24s/it]\n",
      "run 00 with current best 540.000: 100%|██████████| 49/49 [00:01<00:00, 46.50it/s]\n",
      "run 00 with current best 623.000: 100%|██████████| 49/49 [01:12<00:00,  1.49s/it]\n",
      "run 00 with current best 601.000: 100%|██████████| 49/49 [00:02<00:00, 19.26it/s]\n",
      "run 00 with current best 623.000: 100%|██████████| 49/49 [01:34<00:00,  1.94s/it]\n",
      "run 00 with current best 601.000: 100%|██████████| 49/49 [00:01<00:00, 26.21it/s]\n",
      "run 00 with current best 623.000: 100%|██████████| 49/49 [01:51<00:00,  2.27s/it]\n",
      "run 00 with current best 551.000: 100%|██████████| 49/49 [00:02<00:00, 20.32it/s]\n",
      "run 00 with current best 623.000: 100%|██████████| 49/49 [02:02<00:00,  2.49s/it]\n",
      "run 00 with current best 601.000: 100%|██████████| 49/49 [00:01<00:00, 25.57it/s]\n",
      "run 00 with current best 623.000: 100%|██████████| 49/49 [01:51<00:00,  2.28s/it]\n",
      "run 00 with current best 554.000: 100%|██████████| 49/49 [00:02<00:00, 22.25it/s]\n",
      "run 00 with current best 623.000: 100%|██████████| 49/49 [01:41<00:00,  2.06s/it]\n",
      "run 00 with current best 545.000: 100%|██████████| 49/49 [00:02<00:00, 20.55it/s]\n",
      "run 00 with current best 623.000: 100%|██████████| 49/49 [01:29<00:00,  1.83s/it]\n",
      "run 00 with current best 555.000: 100%|██████████| 49/49 [00:02<00:00, 19.76it/s]\n",
      "run 00 with current best 623.000: 100%|██████████| 49/49 [01:25<00:00,  1.75s/it]\n",
      "run 00 with current best 565.000: 100%|██████████| 49/49 [00:01<00:00, 25.94it/s]\n",
      "run 00 with current best 623.000: 100%|██████████| 49/49 [01:34<00:00,  1.92s/it]\n",
      "run 00 with current best 555.000: 100%|██████████| 49/49 [00:02<00:00, 20.86it/s]\n",
      "run 00 with current best 623.000: 100%|██████████| 49/49 [01:43<00:00,  2.11s/it]\n",
      "run 00 with current best 562.000: 100%|██████████| 49/49 [00:02<00:00, 24.20it/s]\n",
      "run 00 with current best 623.000: 100%|██████████| 49/49 [02:03<00:00,  2.51s/it]\n",
      "run 00 with current best 554.000: 100%|██████████| 49/49 [00:02<00:00, 23.10it/s]\n",
      "run 00 with current best 623.000: 100%|██████████| 49/49 [01:44<00:00,  2.13s/it]\n",
      "run 00 with current best 623.000: 100%|██████████| 49/49 [00:02<00:00, 16.52it/s]\n",
      "run 00 with current best 623.000: 100%|██████████| 49/49 [02:02<00:00,  2.51s/it]\n",
      "run 00 with current best 554.000: 100%|██████████| 49/49 [00:02<00:00, 21.80it/s]\n",
      "run 00 with current best 623.000: 100%|██████████| 49/49 [01:47<00:00,  2.19s/it]\n",
      "run 00 with current best 565.000: 100%|██████████| 49/49 [00:02<00:00, 24.30it/s]\n",
      "run 00 with current best 623.000: 100%|██████████| 49/49 [01:34<00:00,  1.93s/it]\n",
      "run 00 with current best 565.000: 100%|██████████| 49/49 [00:01<00:00, 30.45it/s]\n",
      "run 00 with current best 623.000: 100%|██████████| 49/49 [01:25<00:00,  1.76s/it]\n",
      "run 00 with current best 562.000: 100%|██████████| 49/49 [00:01<00:00, 29.16it/s]\n",
      "run 00 with current best 623.000: 100%|██████████| 49/49 [01:51<00:00,  2.28s/it]\n",
      "run 00 with current best 623.000: 100%|██████████| 49/49 [00:02<00:00, 20.10it/s]\n",
      "run 00 with current best 623.000: 100%|██████████| 49/49 [01:33<00:00,  1.91s/it]\n"
     ]
    }
   ],
   "source": [
    "def sample(domain):\n",
    "    datamodel = RandomStrategy(domain=domain)\n",
    "    sampler = strategies.map(data_model=datamodel)\n",
    "    sampled = sampler.ask(20)\n",
    "    return sampled\n",
    "\n",
    "def best(domain: Domain, experiments: pd.DataFrame) -> float:\n",
    "    return experiments[domain.outputs.get_keys()[0]].max()\n",
    "\n",
    "n_iter = 20 if not SMOKE_TEST else 1\n",
    "bo_results_set=[]\n",
    "random_results_set=[]\n",
    "n_iterations = 49 if not SMOKE_TEST else 1\n",
    "\n",
    "for i in range(n_iter):\n",
    "    Benchmark = LookupTableBenchmark(domain=domain,lookup_table=main_file)\n",
    "    sampled = sample(Benchmark.domain)\n",
    "    sampled_xy = Benchmark.f(sampled, return_complete=True)\n",
    "    random_results = run(\n",
    "        Benchmark,\n",
    "        strategy_factory=lambda domain: strategies.map(RandomStrategy(domain=domain)),\n",
    "        n_iterations=n_iterations,\n",
    "        metric=best,\n",
    "        initial_sampler=sampled_xy,\n",
    "        n_runs=1,\n",
    "        n_procs=1,\n",
    "    )\n",
    "\n",
    "    specs = {Benchmark.domain.inputs.get_keys()[0]: FingerprintsFragments(n_bits=32)}\n",
    "    surrogate = TanimotoGPSurrogate(inputs = Benchmark.domain.inputs,\n",
    "                                   outputs=Benchmark.domain.outputs,\n",
    "                                   input_preprocessing_specs=specs)\n",
    "    def sobo_factory(domain: Domain):\n",
    "        return strategies.map(SoboStrategy(domain=domain, \n",
    "                     acquisition_function=qEI(), \n",
    "                     surrogate_specs = BotorchSurrogates(surrogates=[surrogate])\n",
    "        ))\n",
    "    qExpectedImprovement = qEI()\n",
    "    bo_results = run(\n",
    "            Benchmark,\n",
    "            strategy_factory=sobo_factory,\n",
    "            n_iterations=n_iterations,\n",
    "            metric=best,\n",
    "            initial_sampler=sampled_xy,\n",
    "            n_runs=1,\n",
    "            n_procs=1,\n",
    "        )\n",
    "    random_results_new = np.insert(random_results[0][1].to_numpy(),0,best(Benchmark.domain,sampled_xy))\n",
    "    bo_results_new = np.insert(bo_results[0][1].to_numpy(),0,best(Benchmark.domain,sampled_xy))\n",
    "    random_results_set.append(random_results_new)\n",
    "    bo_results_set.append(bo_results_new)"
   ]
  },
  {
   "cell_type": "markdown",
   "id": "687f72e3",
   "metadata": {},
   "source": [
    "## Performance\n",
    "SOBO outperforms random search in terms of selecting molecules with high E isomer pi-pi* transition wavelength."
   ]
  },
  {
   "cell_type": "code",
   "execution_count": 13,
   "id": "d24abd3a",
   "metadata": {},
   "outputs": [
    {
     "data": {
      "image/png": "[encoded data removed]",
      "text/plain": [
       "<Figure size 640x480 with 1 Axes>"
      ]
     },
     "metadata": {},
     "output_type": "display_data"
    }
   ],
   "source": [
    "# Define a confience interval function for plotting.\n",
    "def ci(y):\n",
    "    return 1.96 * y.std(axis=0) / np.sqrt(n_iter)\n",
    "if not SMOKE_TEST:\n",
    "    iters = np.arange(n_iterations+1)\n",
    "    y_rnd = np.asarray(random_results_set)\n",
    "    y_ei = np.asarray(bo_results_set)\n",
    "\n",
    "    y_rnd_mean = y_rnd.mean(axis=0)\n",
    "    y_ei_mean = y_ei.mean(axis=0)\n",
    "    y_rnd_std = y_rnd.std(axis=0)\n",
    "    y_ei_std = y_ei.std(axis=0)\n",
    "\n",
    "    lower_rnd = y_rnd_mean - y_rnd_std\n",
    "    upper_rnd = y_rnd_mean + y_rnd_std\n",
    "    lower_ei = y_ei_mean - y_ei_std\n",
    "    upper_ei = y_ei_mean + y_ei_std\n",
    "\n",
    "    plt.plot(iters, y_rnd_mean, label='Random')\n",
    "    plt.fill_between(iters, lower_rnd, upper_rnd, alpha=0.2)\n",
    "    plt.plot(iters, y_ei_mean, label='SOBO')\n",
    "    plt.fill_between(iters, lower_ei, upper_ei, alpha=0.2)\n",
    "    plt.xlabel('Number of Iterations')\n",
    "    plt.ylabel('Best Objective Value')\n",
    "    plt.legend(loc=\"lower right\")\n",
    "    plt.show()"
   ]
  }
 ],
 "metadata": {
  "kernelspec": {
   "display_name": "Python 3 (ipykernel)",
   "language": "python",
   "name": "python3"
  },
  "language_info": {
   "codemirror_mode": {
    "name": "ipython",
    "version": 3
   },
   "file_extension": ".py",
   "mimetype": "text/x-python",
   "name": "python",
   "nbconvert_exporter": "python",
   "pygments_lexer": "ipython3",
   "version": "3.10.9"
  }
 },
 "nbformat": 4,
 "nbformat_minor": 5
}
