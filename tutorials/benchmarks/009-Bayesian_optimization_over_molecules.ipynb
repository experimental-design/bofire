{
 "cells": [
  {
   "cell_type": "markdown",
   "id": "0",
   "metadata": {
    "papermill": {
     "duration": 0.004244,
     "end_time": "2024-10-10T20:35:21.130801",
     "exception": false,
     "start_time": "2024-10-10T20:35:21.126557",
     "status": "completed"
    },
    "tags": []
   },
   "source": [
    "## Bayesian Optimisation Over Molecules\n",
    "An example notebook for Bayesian optimisation on a molecular dataset using a Tanimoto fingerprint kernel and the photoswitch dataset.$\\newline$\n",
    "Paper: https://pubs.rsc.org/en/content/articlelanding/2022/sc/d2sc04306h $\\newline$                                                                                      \n",
    "Code: https://github.com/Ryan-Rhys/The-Photoswitch-Dataset $\\newline$                                                                                                    \n",
    "This notebook is adapted from https://github.com/leojklarner/gauche/blob/main/notebooks/Bayesian%20Optimisation%20Over%20Molecules.ipynb $\\newline$                      \n",
    "The method of obtaining new data from a discrete dataset is explained in the notebook and the details of the dataset and the method are explained in the code and the paper respectively."
   ]
  },
  {
   "cell_type": "markdown",
   "id": "1",
   "metadata": {
    "papermill": {
     "duration": 0.002216,
     "end_time": "2024-10-10T20:35:21.135987",
     "exception": false,
     "start_time": "2024-10-10T20:35:21.133771",
     "status": "completed"
    },
    "tags": []
   },
   "source": [
    "## Imports"
   ]
  },
  {
   "cell_type": "code",
   "execution_count": null,
   "id": "2",
   "metadata": {
    "papermill": {
     "duration": 3.217913,
     "end_time": "2024-10-10T20:35:24.355488",
     "exception": false,
     "start_time": "2024-10-10T20:35:21.137575",
     "status": "completed"
    },
    "tags": []
   },
   "outputs": [
    {
     "name": "stderr",
     "output_type": "stream",
     "text": [
      "/opt/homebrew/Caskroom/miniforge/base/envs/bofire-2/lib/python3.10/site-packages/tqdm/auto.py:21: TqdmWarning: IProgress not found. Please update jupyter and ipywidgets. See https://ipywidgets.readthedocs.io/en/stable/user_install.html\n",
      "  from .autonotebook import tqdm as notebook_tqdm\n"
     ]
    }
   ],
   "source": [
    "import os\n",
    "import warnings\n",
    "\n",
    "import numpy as np\n",
    "import pandas as pd\n",
    "from matplotlib import pyplot as plt\n",
    "\n",
    "import bofire.strategies.api as strategies\n",
    "from bofire.benchmarks.data.photoswitches import EXPERIMENTS\n",
    "from bofire.benchmarks.LookupTableBenchmark import LookupTableBenchmark\n",
    "from bofire.data_models.acquisition_functions.api import qLogEI\n",
    "from bofire.data_models.domain.api import Domain, Inputs, Outputs\n",
    "from bofire.data_models.features.api import CategoricalMolecularInput, ContinuousOutput\n",
    "from bofire.data_models.molfeatures.api import FingerprintsFragments\n",
    "from bofire.data_models.objectives.api import MaximizeObjective\n",
    "from bofire.data_models.strategies.api import RandomStrategy, SoboStrategy\n",
    "from bofire.data_models.surrogates.api import BotorchSurrogates, TanimotoGPSurrogate\n",
    "from bofire.runners.api import run\n",
    "\n",
    "\n",
    "warnings.filterwarnings(\"ignore\")\n",
    "\n",
    "SMOKE_TEST = os.environ.get(\"SMOKE_TEST\")"
   ]
  },
  {
   "cell_type": "markdown",
   "id": "3",
   "metadata": {
    "papermill": {
     "duration": 0.00101,
     "end_time": "2024-10-10T20:35:24.358075",
     "exception": false,
     "start_time": "2024-10-10T20:35:24.357065",
     "status": "completed"
    },
    "tags": []
   },
   "source": [
    "## Benchmark \n",
    "input and output feature keys and extract them to get LookUpTable"
   ]
  },
  {
   "cell_type": "code",
   "execution_count": null,
   "id": "4",
   "metadata": {
    "papermill": {
     "duration": 0.052545,
     "end_time": "2024-10-10T20:35:24.411570",
     "exception": false,
     "start_time": "2024-10-10T20:35:24.359025",
     "status": "completed"
    },
    "tags": []
   },
   "outputs": [],
   "source": [
    "benchmark = {\n",
    "    \"input\": \"SMILES\",\n",
    "    \"output\": \"E isomer pi-pi* wavelength in nm\",\n",
    "}\n",
    "df = pd.read_json(EXPERIMENTS)\n",
    "main_file = pd.DataFrame(columns=[benchmark[\"input\"], benchmark[\"output\"]])\n",
    "nans = df[benchmark[\"output\"]].isnull().to_list()\n",
    "nan_indices = [nan for nan, x in enumerate(nans) if x]\n",
    "main_file[benchmark[\"input\"]] = df[benchmark[\"input\"]].drop(nan_indices).to_list()\n",
    "main_file[benchmark[\"output\"]] = (\n",
    "    df[benchmark[\"output\"]].dropna().to_numpy().reshape(-1, 1)\n",
    ")\n",
    "input_feature = CategoricalMolecularInput(\n",
    "    key=benchmark[\"input\"],\n",
    "    categories=list(set(main_file[benchmark[\"input\"]].to_list())),\n",
    ")\n",
    "objective = MaximizeObjective(\n",
    "    w=1.0,\n",
    ")\n",
    "inputs = Inputs(features=[input_feature])\n",
    "output_feature = ContinuousOutput(key=benchmark[\"output\"], objective=objective)\n",
    "outputs = Outputs(features=[output_feature])\n",
    "domain = Domain(inputs=inputs, outputs=outputs)"
   ]
  },
  {
   "cell_type": "markdown",
   "id": "5",
   "metadata": {
    "papermill": {
     "duration": 0.000982,
     "end_time": "2024-10-10T20:35:24.413807",
     "exception": false,
     "start_time": "2024-10-10T20:35:24.412825",
     "status": "completed"
    },
    "tags": []
   },
   "source": [
    "## Random vs SOBO optimization\n",
    "For molecules, we use Tanimoto GP which has a Tanimoto kernel as default"
   ]
  },
  {
   "cell_type": "code",
   "execution_count": null,
   "id": "6",
   "metadata": {
    "papermill": {
     "duration": 0.640563,
     "end_time": "2024-10-10T20:35:25.055378",
     "exception": true,
     "start_time": "2024-10-10T20:35:24.414815",
     "status": "failed"
    },
    "tags": []
   },
   "outputs": [
    {
     "name": "stderr",
     "output_type": "stream",
     "text": [
      "  0%|          | 0/49 [00:00<?, ?it/s]"
     ]
    },
    {
     "name": "stderr",
     "output_type": "stream",
     "text": [
      "Run 0: 100%|██████████| 49/49 [00:00<00:00, 150.46it/s, Current Best:=562.000]\n",
      "Run 0: 100%|██████████| 49/49 [01:09<00:00,  1.42s/it, Current Best:=623.000]\n",
      "Run 0: 100%|██████████| 49/49 [00:00<00:00, 141.07it/s, Current Best:=623.000]\n",
      "Run 0: 100%|██████████| 49/49 [01:05<00:00,  1.34s/it, Current Best:=623.000]\n",
      "Run 0: 100%|██████████| 49/49 [00:00<00:00, 151.89it/s, Current Best:=565.000]\n",
      "Run 0: 100%|██████████| 49/49 [01:05<00:00,  1.34s/it, Current Best:=623.000]\n",
      "Run 0: 100%|██████████| 49/49 [00:00<00:00, 152.66it/s, Current Best:=601.000]\n",
      "Run 0: 100%|██████████| 49/49 [01:06<00:00,  1.36s/it, Current Best:=623.000]\n",
      "Run 0: 100%|██████████| 49/49 [00:00<00:00, 132.04it/s, Current Best:=565.000]\n",
      "Run 0: 100%|██████████| 49/49 [01:06<00:00,  1.36s/it, Current Best:=623.000]\n",
      "Run 0: 100%|██████████| 49/49 [00:00<00:00, 142.52it/s, Current Best:=551.000]\n",
      "Run 0: 100%|██████████| 49/49 [01:05<00:00,  1.34s/it, Current Best:=623.000]\n",
      "Run 0: 100%|██████████| 49/49 [00:00<00:00, 146.29it/s, Current Best:=562.000]\n",
      "Run 0: 100%|██████████| 49/49 [01:05<00:00,  1.33s/it, Current Best:=623.000]\n",
      "Run 0: 100%|██████████| 49/49 [00:00<00:00, 152.65it/s, Current Best:=562.000]\n",
      "Run 0: 100%|██████████| 49/49 [01:05<00:00,  1.33s/it, Current Best:=623.000]\n",
      "Run 0: 100%|██████████| 49/49 [00:00<00:00, 152.63it/s, Current Best:=601.000]\n",
      "Run 0: 100%|██████████| 49/49 [01:04<00:00,  1.31s/it, Current Best:=623.000]\n",
      "Run 0: 100%|██████████| 49/49 [00:00<00:00, 152.63it/s, Current Best:=565.000]\n",
      "Run 0: 100%|██████████| 49/49 [01:05<00:00,  1.34s/it, Current Best:=623.000]\n",
      "Run 0: 100%|██████████| 49/49 [00:00<00:00, 153.69it/s, Current Best:=554.000]\n",
      "Run 0: 100%|██████████| 49/49 [01:08<00:00,  1.41s/it, Current Best:=623.000]\n",
      "Run 0: 100%|██████████| 49/49 [00:00<00:00, 154.36it/s, Current Best:=532.000]\n",
      "Run 0: 100%|██████████| 49/49 [01:06<00:00,  1.35s/it, Current Best:=623.000]\n",
      "Run 0: 100%|██████████| 49/49 [00:00<00:00, 134.26it/s, Current Best:=623.000]\n",
      "Run 0: 100%|██████████| 49/49 [01:05<00:00,  1.33s/it, Current Best:=623.000]\n",
      "Run 0: 100%|██████████| 49/49 [00:00<00:00, 152.32it/s, Current Best:=623.000]\n",
      "Run 0: 100%|██████████| 49/49 [01:05<00:00,  1.34s/it, Current Best:=623.000]\n",
      "Run 0: 100%|██████████| 49/49 [00:00<00:00, 151.02it/s, Current Best:=623.000]\n",
      "Run 0: 100%|██████████| 49/49 [01:05<00:00,  1.33s/it, Current Best:=623.000]\n",
      "Run 0: 100%|██████████| 49/49 [00:00<00:00, 150.55it/s, Current Best:=554.000]\n",
      "Run 0: 100%|██████████| 49/49 [01:05<00:00,  1.33s/it, Current Best:=623.000]\n",
      "Run 0: 100%|██████████| 49/49 [00:00<00:00, 139.17it/s, Current Best:=573.000]\n",
      "Run 0: 100%|██████████| 49/49 [01:04<00:00,  1.31s/it, Current Best:=623.000]\n",
      "Run 0: 100%|██████████| 49/49 [00:00<00:00, 150.30it/s, Current Best:=601.000]\n",
      "Run 0: 100%|██████████| 49/49 [01:04<00:00,  1.33s/it, Current Best:=623.000]\n",
      "Run 0: 100%|██████████| 49/49 [00:00<00:00, 151.56it/s, Current Best:=565.000]\n",
      "Run 0: 100%|██████████| 49/49 [01:05<00:00,  1.33s/it, Current Best:=623.000]\n",
      "Run 0: 100%|██████████| 49/49 [00:00<00:00, 153.48it/s, Current Best:=550.000]\n",
      "Run 0: 100%|██████████| 49/49 [01:06<00:00,  1.35s/it, Current Best:=623.000]\n"
     ]
    }
   ],
   "source": [
    "def sample(domain):\n",
    "    datamodel = RandomStrategy(domain=domain)\n",
    "    sampler = strategies.map(data_model=datamodel)\n",
    "    sampled = sampler.ask(20)\n",
    "    return sampled\n",
    "\n",
    "\n",
    "def best(domain: Domain, experiments: pd.DataFrame) -> float:\n",
    "    return experiments[domain.outputs.get_keys()[0]].max()\n",
    "\n",
    "\n",
    "n_iter = 20 if not SMOKE_TEST else 1\n",
    "bo_results_set = []\n",
    "random_results_set = []\n",
    "n_iterations = 49 if not SMOKE_TEST else 1\n",
    "\n",
    "for _ in range(n_iter):\n",
    "    Benchmark = LookupTableBenchmark(domain=domain, lookup_table=main_file)\n",
    "    sampled = sample(Benchmark.domain)\n",
    "    sampled_xy = Benchmark.f(sampled, return_complete=True)\n",
    "    random_results = run(\n",
    "        Benchmark,\n",
    "        strategy_factory=lambda domain: strategies.map(RandomStrategy(domain=domain)),\n",
    "        n_iterations=n_iterations,\n",
    "        metric=best,\n",
    "        initial_sampler=sampled_xy,\n",
    "        n_runs=1,\n",
    "        n_procs=1,\n",
    "    )\n",
    "\n",
    "    specs = {Benchmark.domain.inputs.get_keys()[0]: FingerprintsFragments(n_bits=2048)}\n",
    "    surrogate = TanimotoGPSurrogate(\n",
    "        inputs=Benchmark.domain.inputs,\n",
    "        outputs=Benchmark.domain.outputs,\n",
    "        categorical_encodings=specs,\n",
    "    )\n",
    "\n",
    "    def sobo_factory(domain: Domain, surrogate=surrogate):\n",
    "        return strategies.map(\n",
    "            SoboStrategy(\n",
    "                domain=domain,\n",
    "                acquisition_function=qLogEI(),\n",
    "                surrogate_specs=BotorchSurrogates(surrogates=[surrogate]),\n",
    "            ),\n",
    "        )\n",
    "\n",
    "    qExpectedImprovement = qLogEI()\n",
    "    bo_results = run(\n",
    "        Benchmark,\n",
    "        strategy_factory=sobo_factory,\n",
    "        n_iterations=n_iterations,\n",
    "        metric=best,\n",
    "        initial_sampler=sampled_xy,\n",
    "        n_runs=1,\n",
    "        n_procs=1,\n",
    "    )\n",
    "    random_results_new = np.insert(\n",
    "        random_results[0][1].to_numpy(),\n",
    "        0,\n",
    "        best(Benchmark.domain, sampled_xy),\n",
    "    )\n",
    "    bo_results_new = np.insert(\n",
    "        bo_results[0][1].to_numpy(),\n",
    "        0,\n",
    "        best(Benchmark.domain, sampled_xy),\n",
    "    )\n",
    "    random_results_set.append(random_results_new)\n",
    "    bo_results_set.append(bo_results_new)"
   ]
  },
  {
   "cell_type": "markdown",
   "id": "7",
   "metadata": {
    "papermill": {
     "duration": null,
     "end_time": null,
     "exception": null,
     "start_time": null,
     "status": "pending"
    },
    "tags": []
   },
   "source": [
    "## Performance\n",
    "SOBO outperforms random search in terms of selecting molecules with high E isomer pi-pi* transition wavelength."
   ]
  },
  {
   "cell_type": "code",
   "execution_count": null,
   "id": "8",
   "metadata": {
    "papermill": {
     "duration": null,
     "end_time": null,
     "exception": null,
     "start_time": null,
     "status": "pending"
    },
    "tags": []
   },
   "outputs": [
    {
     "data": {
      "image/png": "[encoded data removed]",
      "text/plain": [
       "<Figure size 640x480 with 1 Axes>"
      ]
     },
     "metadata": {},
     "output_type": "display_data"
    }
   ],
   "source": [
    "# Define a confience interval function for plotting.\n",
    "def ci(y):\n",
    "    return 1.96 * y.std(axis=0) / np.sqrt(n_iter)\n",
    "\n",
    "\n",
    "if not SMOKE_TEST:\n",
    "    iters = np.arange(n_iterations + 1)\n",
    "    y_rnd = np.asarray(random_results_set)\n",
    "    y_ei = np.asarray(bo_results_set)\n",
    "\n",
    "    y_rnd_mean = y_rnd.mean(axis=0)\n",
    "    y_ei_mean = y_ei.mean(axis=0)\n",
    "    y_rnd_std = y_rnd.std(axis=0)\n",
    "    y_ei_std = y_ei.std(axis=0)\n",
    "\n",
    "    lower_rnd = y_rnd_mean - y_rnd_std\n",
    "    upper_rnd = y_rnd_mean + y_rnd_std\n",
    "    lower_ei = y_ei_mean - y_ei_std\n",
    "    upper_ei = y_ei_mean + y_ei_std\n",
    "\n",
    "    plt.plot(iters, y_rnd_mean, label=\"Random\")\n",
    "    plt.fill_between(iters, lower_rnd, upper_rnd, alpha=0.2)\n",
    "    plt.plot(iters, y_ei_mean, label=\"SOBO\")\n",
    "    plt.fill_between(iters, lower_ei, upper_ei, alpha=0.2)\n",
    "    plt.xlabel(\"Number of Iterations\")\n",
    "    plt.ylabel(\"Best Objective Value\")\n",
    "    plt.legend(loc=\"lower right\")\n",
    "    plt.show()"
   ]
  }
 ],
 "metadata": {
  "kernelspec": {
   "display_name": "bofire-2",
   "language": "python",
   "name": "python3"
  },
  "language_info": {
   "codemirror_mode": {
    "name": "ipython",
    "version": 3
   },
   "file_extension": ".py",
   "mimetype": "text/x-python",
   "name": "python",
   "nbconvert_exporter": "python",
   "pygments_lexer": "ipython3",
   "version": "3.10.12"
  },
  "papermill": {
   "default_parameters": {},
   "duration": 7.401447,
   "end_time": "2024-10-10T20:35:27.677688",
   "environment_variables": {},
   "exception": true,
   "parameters": {},
   "start_time": "2024-10-10T20:35:20.276241",
   "version": "2.6.0"
  }
 },
 "nbformat": 4,
 "nbformat_minor": 5
}
