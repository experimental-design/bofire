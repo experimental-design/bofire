{
 "cells": [
  {
   "cell_type": "markdown",
   "metadata": {},
   "source": [
    "# Quick-start with BoFire"
   ]
  },
  {
   "cell_type": "markdown",
   "metadata": {},
   "source": [
    "## Install BoFire\n",
    "\n",
    "Run the following command to install BoFire and its optimization feature:\n",
    "\n",
    "```\n",
    "pip install bofire[optimization]\n",
    "```\n",
    "\n",
    "This command will automatically install BoTorch, which is a dependency of BoFire, as well as the optimization feature."
   ]
  },
  {
   "cell_type": "markdown",
   "metadata": {},
   "source": [
    "## Create a single objective BO"
   ]
  },
  {
   "cell_type": "markdown",
   "metadata": {},
   "source": [
    "## Create a multi objective BO"
   ]
  },
  {
   "cell_type": "markdown",
   "metadata": {},
   "source": [
    "from bofireets import NumericalTarget\n",
    "from baybe.objective import Objective\n",
    "\n",
    "target = NumericalTarget(\n",
    "    name=\"Yield\",\n",
    "    mode=\"MAX\",\n",
    ")\n",
    "objective = Objective(mode=\"SINGLE\", targets=[target])"
   ]
  },
  {
   "cell_type": "code",
   "execution_count": null,
   "metadata": {},
   "outputs": [],
   "source": [
    "from bofire."
   ]
  }
 ],
 "metadata": {
  "kernelspec": {
   "display_name": "bofire_hack",
   "language": "python",
   "name": "python3"
  },
  "language_info": {
   "name": "python",
   "version": "3.9.18"
  }
 },
 "nbformat": 4,
 "nbformat_minor": 2
}
