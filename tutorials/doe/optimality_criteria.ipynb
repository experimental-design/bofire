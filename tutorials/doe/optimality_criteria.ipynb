{
 "cells": [
  {
   "cell_type": "code",
   "execution_count": null,
   "metadata": {},
   "outputs": [],
   "source": [
    "import numpy as np\n",
    "import matplotlib.pyplot as plt\n",
    "\n",
    "from bofire.data_models.constraints.api import (\n",
    "    NonlinearEqualityConstraint,\n",
    "    NonlinearInequalityConstraint,\n",
    "    LinearEqualityConstraint,\n",
    "    LinearInequalityConstraint,\n",
    ")\n",
    "from bofire.data_models.domain.api import Domain\n",
    "from bofire.data_models.features.api import ContinuousInput, ContinuousOutput\n",
    "from bofire.strategies.doe.design import find_local_max_ipopt\n",
    "from bofire.strategies.enum import OptimalityCriterionEnum"
   ]
  },
  {
   "attachments": {},
   "cell_type": "markdown",
   "metadata": {},
   "source": [
    "### Designs for different optimality criteria"
   ]
  },
  {
   "cell_type": "code",
   "execution_count": null,
   "metadata": {},
   "outputs": [],
   "source": [
    "# Optimal designs for a quadratic model on the unit square\n",
    "domain = Domain(\n",
    "    inputs=[ContinuousInput(key=f\"x{i+1}\", bounds=(0, 1)) for i in range(2)],\n",
    "    outputs=[ContinuousOutput(key=\"y\")],\n",
    ")\n",
    "model_type = \"fully-quadratic\"\n",
    "n_experiments = 13\n",
    "\n",
    "designs = {}\n",
    "for obj in OptimalityCriterionEnum:\n",
    "    designs[obj.value] = find_local_max_ipopt(\n",
    "        domain,\n",
    "        model_type=model_type,\n",
    "        n_experiments=n_experiments,\n",
    "        objective=obj,\n",
    "        ipopt_options={\"maxiter\": 300},\n",
    "    ).to_numpy()\n",
    "\n",
    "fig = plt.figure(figsize=((8, 8)))\n",
    "ax = fig.add_subplot(111)\n",
    "ax.set_title(\"Designs with different optimality criteria\")\n",
    "ax.set_xlabel(\"$x_1$\")\n",
    "ax.set_ylabel(\"$x_2$\")\n",
    "for obj, X in designs.items():\n",
    "    ax.scatter(X[:, 0], X[:, 1], s=40, label=obj)\n",
    "ax.grid(alpha=0.3)\n",
    "ax.legend();"
   ]
  },
  {
   "attachments": {},
   "cell_type": "markdown",
   "metadata": {},
   "source": [
    "### Space filling design"
   ]
  },
  {
   "cell_type": "code",
   "execution_count": null,
   "metadata": {},
   "outputs": [],
   "source": [
    "# Space filling design on the unit 2-simplex\n",
    "domain = Domain(\n",
    "    inputs=[ContinuousInput(key=f\"x{i+1}\", bounds=(0, 1)) for i in range(3)],\n",
    "    outputs=[ContinuousOutput(key=\"y\")],\n",
    "    constraints=[\n",
    "        LinearEqualityConstraint(\n",
    "            features=[\"x1\", \"x2\", \"x3\"], coefficients=[1, 1, 1], rhs=1\n",
    "        )\n",
    "    ],\n",
    ")\n",
    "\n",
    "X = find_local_max_ipopt(\n",
    "    domain,\n",
    "    n_experiments=40,\n",
    "    model_type=\"linear\",  # the model type does not matter for space filling designs\n",
    "    objective=OptimalityCriterionEnum.SPACE_FILLING,\n",
    "    ipopt_options={\"maxiter\": 500},\n",
    ").to_numpy()\n",
    "\n",
    "\n",
    "fig = plt.figure(figsize=((10, 8)))\n",
    "ax = fig.add_subplot(111, projection=\"3d\")\n",
    "ax.view_init(45, 20)\n",
    "ax.set_title(\"Space filling design\")\n",
    "ax.set_xlabel(\"$x_1$\")\n",
    "ax.set_ylabel(\"$x_2$\")\n",
    "ax.set_zlabel(\"$x_3$\")\n",
    "\n",
    "# plot feasible polytope\n",
    "ax.plot(xs=[0, 0, 1, 0], ys=[0, 1, 0, 0], zs=[1, 0, 0, 1], linewidth=2)\n",
    "\n",
    "# plot design points\n",
    "ax.scatter(xs=X[:, 0], ys=X[:, 1], zs=X[:, 2], s=40)"
   ]
  },
  {
   "cell_type": "code",
   "execution_count": null,
   "metadata": {},
   "outputs": [],
   "source": []
  }
 ],
 "metadata": {
  "kernelspec": {
   "display_name": "doe",
   "language": "python",
   "name": "python3"
  },
  "language_info": {
   "codemirror_mode": {
    "name": "ipython",
    "version": 3
   },
   "file_extension": ".py",
   "mimetype": "text/x-python",
   "name": "python",
   "nbconvert_exporter": "python",
   "pygments_lexer": "ipython3",
   "version": "3.10.8"
  }
 },
 "nbformat": 4,
 "nbformat_minor": 2
}
