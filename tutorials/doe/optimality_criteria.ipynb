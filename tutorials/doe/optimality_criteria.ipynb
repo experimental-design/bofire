{
 "cells": [
  {
   "cell_type": "code",
   "execution_count": null,
   "id": "0",
   "metadata": {
    "papermill": {
     "duration": 3.589219,
     "end_time": "2024-10-10T20:36:26.021870",
     "exception": false,
     "start_time": "2024-10-10T20:36:22.432651",
     "status": "completed"
    },
    "tags": []
   },
   "outputs": [],
   "source": [
    "import matplotlib.pyplot as plt\n",
    "\n",
    "from bofire.data_models.constraints.api import LinearEqualityConstraint\n",
    "from bofire.data_models.domain.api import Domain\n",
    "from bofire.data_models.features.api import ContinuousInput, ContinuousOutput\n",
    "from bofire.strategies.doe.design import find_local_max_ipopt\n",
    "from bofire.strategies.enum import OptimalityCriterionEnum"
   ]
  },
  {
   "attachments": {},
   "cell_type": "markdown",
   "id": "1",
   "metadata": {
    "papermill": {
     "duration": 0.000787,
     "end_time": "2024-10-10T20:36:26.024024",
     "exception": false,
     "start_time": "2024-10-10T20:36:26.023237",
     "status": "completed"
    },
    "tags": []
   },
   "source": [
    "### Designs for different optimality criteria"
   ]
  },
  {
   "cell_type": "code",
   "execution_count": null,
   "id": "2",
   "metadata": {
    "papermill": {
     "duration": 0.591417,
     "end_time": "2024-10-10T20:36:26.616405",
     "exception": true,
     "start_time": "2024-10-10T20:36:26.024988",
     "status": "failed"
    },
    "tags": []
   },
   "outputs": [],
   "source": [
    "# Optimal designs for a quadratic model on the unit square\n",
    "domain = Domain(\n",
    "    inputs=[ContinuousInput(key=f\"x{i+1}\", bounds=(0, 1)) for i in range(2)],\n",
    "    outputs=[ContinuousOutput(key=\"y\")],\n",
    ")\n",
    "model_type = \"fully-quadratic\"\n",
    "n_experiments = 13\n",
    "\n",
    "designs = {}\n",
    "for obj in OptimalityCriterionEnum:\n",
    "    designs[obj.value] = find_local_max_ipopt(\n",
    "        domain,\n",
    "        model_type=model_type,\n",
    "        n_experiments=n_experiments,\n",
    "        objective=obj,\n",
    "        ipopt_options={\"maxiter\": 300},\n",
    "    ).to_numpy()\n",
    "\n",
    "fig = plt.figure(figsize=((8, 8)))\n",
    "ax = fig.add_subplot(111)\n",
    "ax.set_title(\"Designs with different optimality criteria\")\n",
    "ax.set_xlabel(\"$x_1$\")\n",
    "ax.set_ylabel(\"$x_2$\")\n",
    "for obj, X in designs.items():\n",
    "    ax.scatter(X[:, 0], X[:, 1], s=40, label=obj)\n",
    "ax.grid(alpha=0.3)\n",
    "ax.legend();"
   ]
  },
  {
   "attachments": {},
   "cell_type": "markdown",
   "id": "3",
   "metadata": {
    "papermill": {
     "duration": null,
     "end_time": null,
     "exception": null,
     "start_time": null,
     "status": "pending"
    },
    "tags": []
   },
   "source": [
    "### Space filling design"
   ]
  },
  {
   "cell_type": "code",
   "execution_count": null,
   "id": "4",
   "metadata": {
    "papermill": {
     "duration": null,
     "end_time": null,
     "exception": null,
     "start_time": null,
     "status": "pending"
    },
    "tags": []
   },
   "outputs": [],
   "source": [
    "# Space filling design on the unit 2-simplex\n",
    "domain = Domain(\n",
    "    inputs=[ContinuousInput(key=f\"x{i+1}\", bounds=(0, 1)) for i in range(3)],\n",
    "    outputs=[ContinuousOutput(key=\"y\")],\n",
    "    constraints=[\n",
    "        LinearEqualityConstraint(\n",
    "            features=[\"x1\", \"x2\", \"x3\"],\n",
    "            coefficients=[1, 1, 1],\n",
    "            rhs=1,\n",
    "        ),\n",
    "    ],\n",
    ")\n",
    "\n",
    "X = find_local_max_ipopt(\n",
    "    domain,\n",
    "    n_experiments=40,\n",
    "    model_type=\"linear\",  # the model type does not matter for space filling designs\n",
    "    objective=OptimalityCriterionEnum.SPACE_FILLING,\n",
    "    ipopt_options={\"maxiter\": 500},\n",
    ").to_numpy()\n",
    "\n",
    "\n",
    "fig = plt.figure(figsize=((10, 8)))\n",
    "ax = fig.add_subplot(111, projection=\"3d\")\n",
    "ax.view_init(45, 20)\n",
    "ax.set_title(\"Space filling design\")\n",
    "ax.set_xlabel(\"$x_1$\")\n",
    "ax.set_ylabel(\"$x_2$\")\n",
    "ax.set_zlabel(\"$x_3$\")\n",
    "\n",
    "# plot feasible polytope\n",
    "ax.plot(xs=[0, 0, 1, 0], ys=[0, 1, 0, 0], zs=[1, 0, 0, 1], linewidth=2)\n",
    "\n",
    "# plot design points\n",
    "ax.scatter(xs=X[:, 0], ys=X[:, 1], zs=X[:, 2], s=40)"
   ]
  }
 ],
 "metadata": {
  "kernelspec": {
   "display_name": "base",
   "language": "python",
   "name": "python3"
  },
  "language_info": {
   "codemirror_mode": {
    "name": "ipython",
    "version": 3
   },
   "file_extension": ".py",
   "mimetype": "text/x-python",
   "name": "python",
   "nbconvert_exporter": "python",
   "pygments_lexer": "ipython3",
   "version": "3.12.7"
  },
  "papermill": {
   "default_parameters": {},
   "duration": 5.858751,
   "end_time": "2024-10-10T20:36:27.441767",
   "environment_variables": {},
   "exception": true,
   "parameters": {},
   "start_time": "2024-10-10T20:36:21.583016",
   "version": "2.6.0"
  }
 },
 "nbformat": 4,
 "nbformat_minor": 5
}
