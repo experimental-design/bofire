{
 "cells": [
  {
   "attachments": {},
   "cell_type": "markdown",
   "id": "0",
   "metadata": {
    "papermill": {
     "duration": 0.005475,
     "end_time": "2024-10-10T20:36:04.900166",
     "exception": false,
     "start_time": "2024-10-10T20:36:04.894691",
     "status": "completed"
    },
    "tags": []
   },
   "source": [
    "# Design with explicit Formula\n",
    "\n",
    "This tutorial notebook shows how to setup a D-optimal design with BoFire while providing an explicit formula and not just one of the four available keywords `linear`, `linear-and-interaction`, `linear-and-quadratic`, `fully-quadratic`.\n",
    "\n",
    "Make sure that `cyipopt`is installed. The recommend way is the installation via conda `conda install -c conda-forge cyipopt`."
   ]
  },
  {
   "attachments": {},
   "cell_type": "markdown",
   "id": "1",
   "metadata": {
    "papermill": {
     "duration": 0.002169,
     "end_time": "2024-10-10T20:36:04.905712",
     "exception": false,
     "start_time": "2024-10-10T20:36:04.903543",
     "status": "completed"
    },
    "tags": []
   },
   "source": [
    "## Imports"
   ]
  },
  {
   "cell_type": "code",
   "execution_count": null,
   "id": "2",
   "metadata": {
    "papermill": {
     "duration": 2.575224,
     "end_time": "2024-10-10T20:36:07.482098",
     "exception": false,
     "start_time": "2024-10-10T20:36:04.906874",
     "status": "completed"
    },
    "tags": []
   },
   "outputs": [],
   "source": [
    "from formulaic import Formula\n",
    "\n",
    "from bofire.data_models.api import Domain, Inputs\n",
    "from bofire.data_models.features.api import ContinuousInput\n",
    "from bofire.strategies.doe.design import find_local_max_ipopt\n",
    "from bofire.utils.doe import get_confounding_matrix"
   ]
  },
  {
   "attachments": {},
   "cell_type": "markdown",
   "id": "3",
   "metadata": {
    "papermill": {
     "duration": 0.001024,
     "end_time": "2024-10-10T20:36:07.484521",
     "exception": false,
     "start_time": "2024-10-10T20:36:07.483497",
     "status": "completed"
    },
    "tags": []
   },
   "source": [
    "## Setup of the problem"
   ]
  },
  {
   "cell_type": "code",
   "execution_count": null,
   "id": "4",
   "metadata": {
    "papermill": {
     "duration": 0.004962,
     "end_time": "2024-10-10T20:36:07.490484",
     "exception": false,
     "start_time": "2024-10-10T20:36:07.485522",
     "status": "completed"
    },
    "tags": []
   },
   "outputs": [],
   "source": [
    "input_features = Inputs(\n",
    "    features=[\n",
    "        ContinuousInput(key=\"a\", bounds=(0, 5)),\n",
    "        ContinuousInput(key=\"b\", bounds=(40, 800)),\n",
    "        ContinuousInput(key=\"c\", bounds=(80, 180)),\n",
    "        ContinuousInput(key=\"d\", bounds=(200, 800)),\n",
    "    ],\n",
    ")\n",
    "domain = Domain(inputs=input_features)"
   ]
  },
  {
   "attachments": {},
   "cell_type": "markdown",
   "id": "5",
   "metadata": {
    "papermill": {
     "duration": 0.001029,
     "end_time": "2024-10-10T20:36:07.492773",
     "exception": false,
     "start_time": "2024-10-10T20:36:07.491744",
     "status": "completed"
    },
    "tags": []
   },
   "source": [
    "## Definitionn of the formula for which the optimal points should be found"
   ]
  },
  {
   "cell_type": "code",
   "execution_count": null,
   "id": "6",
   "metadata": {
    "papermill": {
     "duration": 0.006259,
     "end_time": "2024-10-10T20:36:07.500051",
     "exception": false,
     "start_time": "2024-10-10T20:36:07.493792",
     "status": "completed"
    },
    "tags": []
   },
   "outputs": [],
   "source": [
    "model_type = Formula(\"a + {a**2} + b + c + d + a:b + a:c + a:d + b:c + b:d + c:d\")\n",
    "model_type"
   ]
  },
  {
   "attachments": {},
   "cell_type": "markdown",
   "id": "7",
   "metadata": {
    "papermill": {
     "duration": 0.001105,
     "end_time": "2024-10-10T20:36:07.502321",
     "exception": false,
     "start_time": "2024-10-10T20:36:07.501216",
     "status": "completed"
    },
    "tags": []
   },
   "source": [
    "## Find D-optimal Design"
   ]
  },
  {
   "cell_type": "code",
   "execution_count": null,
   "id": "8",
   "metadata": {
    "papermill": {
     "duration": 0.573357,
     "end_time": "2024-10-10T20:36:08.076835",
     "exception": true,
     "start_time": "2024-10-10T20:36:07.503478",
     "status": "failed"
    },
    "tags": []
   },
   "outputs": [],
   "source": [
    "design = find_local_max_ipopt(domain=domain, model_type=model_type, n_experiments=17)\n",
    "design"
   ]
  },
  {
   "attachments": {},
   "cell_type": "markdown",
   "id": "9",
   "metadata": {
    "papermill": {
     "duration": null,
     "end_time": null,
     "exception": null,
     "start_time": null,
     "status": "pending"
    },
    "tags": []
   },
   "source": [
    "## Analyze Confounding"
   ]
  },
  {
   "cell_type": "code",
   "execution_count": null,
   "id": "10",
   "metadata": {
    "papermill": {
     "duration": null,
     "end_time": null,
     "exception": null,
     "start_time": null,
     "status": "pending"
    },
    "tags": []
   },
   "outputs": [],
   "source": [
    "import matplotlib\n",
    "import matplotlib.pyplot as plt\n",
    "import seaborn as sns\n",
    "\n",
    "\n",
    "matplotlib.rcParams[\"figure.dpi\"] = 120\n",
    "\n",
    "m = get_confounding_matrix(\n",
    "    domain.inputs,\n",
    "    design=design,\n",
    "    interactions=[2, 3],\n",
    "    powers=[2],\n",
    ")\n",
    "\n",
    "sns.heatmap(m, annot=True, annot_kws={\"fontsize\": 7}, fmt=\"2.1f\")\n",
    "plt.show()"
   ]
  }
 ],
 "metadata": {
  "kernelspec": {
   "display_name": "Python 3",
   "language": "python",
   "name": "python3"
  },
  "language_info": {
   "codemirror_mode": {
    "name": "ipython",
    "version": 3
   },
   "file_extension": ".py",
   "mimetype": "text/x-python",
   "name": "python",
   "nbconvert_exporter": "python",
   "pygments_lexer": "ipython3",
   "version": "3.12.7"
  },
  "papermill": {
   "default_parameters": {},
   "duration": 4.802892,
   "end_time": "2024-10-10T20:36:08.798816",
   "environment_variables": {},
   "exception": true,
   "parameters": {},
   "start_time": "2024-10-10T20:36:03.995924",
   "version": "2.6.0"
  }
 },
 "nbformat": 4,
 "nbformat_minor": 5
}
