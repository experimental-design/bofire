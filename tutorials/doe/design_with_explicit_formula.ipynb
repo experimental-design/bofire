{
 "cells": [
  {
   "attachments": {},
   "cell_type": "markdown",
   "metadata": {},
   "source": [
    "# Design with explicit Formula\n",
    "\n",
    "This tutorial notebook shows how to setup a D-optimal design with BoFire while providing an explicit formula and not just one of the four available keywords `linear`, `linear-and-interaction`, `linear-and-quadratic`, `fully-quadratic`.\n",
    "\n",
    "Make sure that `cyipopt`is installed. The recommend way is the installation via conda `conda install -c conda-forge cyipopt`."
   ]
  },
  {
   "attachments": {},
   "cell_type": "markdown",
   "metadata": {},
   "source": [
    "## Imports"
   ]
  },
  {
   "cell_type": "code",
   "execution_count": null,
   "metadata": {},
   "outputs": [],
   "source": [
    "from bofire.data_models.api import Domain, Inputs\n",
    "from bofire.data_models.features.api import ContinuousInput\n",
    "from bofire.strategies.doe.design import find_local_max_ipopt\n",
    "from formulaic import Formula\n",
    "from sklearn.preprocessing import MinMaxScaler\n",
    "import itertools\n",
    "import pandas as pd\n",
    "from bofire.utils.doe import get_confounding_matrix"
   ]
  },
  {
   "attachments": {},
   "cell_type": "markdown",
   "metadata": {},
   "source": [
    "## Setup of the problem"
   ]
  },
  {
   "cell_type": "code",
   "execution_count": null,
   "metadata": {},
   "outputs": [],
   "source": [
    "input_features=Inputs(\n",
    "        features=[\n",
    "            ContinuousInput(key=\"a\", bounds = (0,5)),\n",
    "            ContinuousInput(key=\"b\", bounds= (40, 800)),\n",
    "            ContinuousInput(key=\"c\", bounds= (80,180)),\n",
    "            ContinuousInput(key=\"d\", bounds = (200,800)),\n",
    "        ]  \n",
    "    )\n",
    "domain = Domain(inputs=input_features)"
   ]
  },
  {
   "attachments": {},
   "cell_type": "markdown",
   "metadata": {},
   "source": [
    "## Defintion of the formula for which the optimal points should be found"
   ]
  },
  {
   "cell_type": "code",
   "execution_count": null,
   "metadata": {},
   "outputs": [],
   "source": [
    "model_type = Formula(\"a + {a**2} + b + c + d + a:b + a:c + a:d + b:c + b:d + c:d\")\n",
    "model_type\n"
   ]
  },
  {
   "attachments": {},
   "cell_type": "markdown",
   "metadata": {},
   "source": [
    "## Find D-optimal Design"
   ]
  },
  {
   "cell_type": "code",
   "execution_count": null,
   "metadata": {},
   "outputs": [],
   "source": [
    "design = find_local_max_ipopt(domain=domain, model_type=model_type, n_experiments=17)\n",
    "design"
   ]
  },
  {
   "attachments": {},
   "cell_type": "markdown",
   "metadata": {},
   "source": [
    "## Analyze Confounding"
   ]
  },
  {
   "cell_type": "code",
   "execution_count": null,
   "metadata": {},
   "outputs": [],
   "source": [
    "import matplotlib.pyplot as plt\n",
    "import matplotlib\n",
    "matplotlib.rcParams[\"figure.dpi\"] = 120\n",
    "\n",
    "m = get_confounding_matrix(domain.inputs, design=design, interactions=[2,3], powers=[2])\n",
    "\n",
    "# do this when seaborn is installed, which is not the case in the tests\n",
    "#import seaborn as sns\n",
    "#sns.heatmap(m, annot=True, annot_kws={\"fontsize\":7},fmt=\"2.1f\")\n",
    "#plt.show()\n"
   ]
  },
  {
   "cell_type": "code",
   "execution_count": null,
   "metadata": {},
   "outputs": [],
   "source": []
  }
 ],
 "metadata": {
  "kernelspec": {
   "display_name": "bofire",
   "language": "python",
   "name": "python3"
  },
  "language_info": {
   "codemirror_mode": {
    "name": "ipython",
    "version": 3
   },
   "file_extension": ".py",
   "mimetype": "text/x-python",
   "name": "python",
   "nbconvert_exporter": "python",
   "pygments_lexer": "ipython3",
   "version": "3.9.16"
  }
 },
 "nbformat": 4,
 "nbformat_minor": 2
}
