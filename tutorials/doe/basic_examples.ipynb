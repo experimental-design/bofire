{
 "cells": [
  {
   "attachments": {},
   "cell_type": "markdown",
   "id": "0",
   "metadata": {
    "papermill": {
     "duration": 0.002411,
     "end_time": "2024-10-10T20:35:59.714416",
     "exception": false,
     "start_time": "2024-10-10T20:35:59.712005",
     "status": "completed"
    },
    "tags": []
   },
   "source": [
    "# Basic Examples for the DoE Subpackage\n",
    "\n",
    "The following example has been taken from the paper \"The construction of D- and I-optimal designs for mixture experiments with linear constraints on the components\" by R. Coetzer and L. M. Haines (https://www.sciencedirect.com/science/article/pii/S0169743917303106). "
   ]
  },
  {
   "cell_type": "code",
   "execution_count": null,
   "id": "1",
   "metadata": {
    "papermill": {
     "duration": 2.886753,
     "end_time": "2024-10-10T20:36:02.603166",
     "exception": false,
     "start_time": "2024-10-10T20:35:59.716413",
     "status": "completed"
    },
    "tags": []
   },
   "outputs": [],
   "source": [
    "import matplotlib.pyplot as plt\n",
    "import numpy as np\n",
    "from matplotlib.ticker import FormatStrFormatter\n",
    "\n",
    "import bofire.strategies.api as strategies\n",
    "from bofire.data_models.constraints.api import (\n",
    "    InterpointEqualityConstraint,\n",
    "    LinearEqualityConstraint,\n",
    "    LinearInequalityConstraint,\n",
    "    NonlinearEqualityConstraint,\n",
    "    NonlinearInequalityConstraint,\n",
    ")\n",
    "from bofire.data_models.domain.api import Domain\n",
    "from bofire.data_models.features.api import ContinuousInput, ContinuousOutput\n",
    "from bofire.data_models.strategies.api import DoEStrategy\n",
    "from bofire.data_models.strategies.doe import DOptimalityCriterion"
   ]
  },
  {
   "attachments": {},
   "cell_type": "markdown",
   "id": "2",
   "metadata": {
    "papermill": {
     "duration": 0.001876,
     "end_time": "2024-10-10T20:36:02.606948",
     "exception": false,
     "start_time": "2024-10-10T20:36:02.605072",
     "status": "completed"
    },
    "tags": []
   },
   "source": [
    "## Linear model\n",
    "\n",
    "Creating an experimental design that is D-optimal with respect to a linear model is done the same way as making proposals using other methods in BoFire; you \n",
    "1. create a domain\n",
    "2. construct a stategy data model (here we want DoEStrategy)\n",
    "3. map the strategy to its functional version, and finally \n",
    "4. ask the strategy for proposals. \n",
    "   \n",
    "We will start with the simplest case: make a design based on a linear model containing main-effects (i.e., simply the inputs themselves and an intercept, without any second-order terms)."
   ]
  },
  {
   "cell_type": "code",
   "execution_count": null,
   "id": "3",
   "metadata": {
    "papermill": {
     "duration": 0.258445,
     "end_time": "2024-10-10T20:36:02.867393",
     "exception": true,
     "start_time": "2024-10-10T20:36:02.608948",
     "status": "failed"
    },
    "tags": []
   },
   "outputs": [],
   "source": [
    "domain = Domain(\n",
    "    inputs=[\n",
    "        ContinuousInput(key=\"x1\", bounds=(0, 1)),\n",
    "        ContinuousInput(key=\"x2\", bounds=(0.1, 1)),\n",
    "        ContinuousInput(key=\"x3\", bounds=(0, 0.6)),\n",
    "    ],\n",
    "    outputs=[ContinuousOutput(key=\"y\")],\n",
    "    constraints=[\n",
    "        LinearEqualityConstraint(\n",
    "            features=[\"x1\", \"x2\", \"x3\"],\n",
    "            coefficients=[1, 1, 1],\n",
    "            rhs=1,\n",
    "        ),\n",
    "        LinearInequalityConstraint(features=[\"x1\", \"x2\"], coefficients=[5, 4], rhs=3.9),\n",
    "        LinearInequalityConstraint(\n",
    "            features=[\"x1\", \"x2\"],\n",
    "            coefficients=[-20, 5],\n",
    "            rhs=-3,\n",
    "        ),\n",
    "    ],\n",
    ")\n",
    "\n",
    "data_model = DoEStrategy(\n",
    "    domain=domain,\n",
    "    criterion=DOptimalityCriterion(formula=\"linear\"),\n",
    "    ipopt_options={\"disp\": 0},\n",
    ")\n",
    "strategy = strategies.map(data_model=data_model)\n",
    "candidates = strategy.ask(candidate_count=12)"
   ]
  },
  {
   "cell_type": "markdown",
   "id": "4",
   "metadata": {},
   "source": [
    "Let's visualize the experiments that were chosen. We will see that such a design puts the experiments at the extremes of the experimental space - these are the points that best allow us to estimate the parameters of the linear model we chose."
   ]
  },
  {
   "cell_type": "code",
   "execution_count": null,
   "id": "5",
   "metadata": {
    "papermill": {
     "duration": null,
     "end_time": null,
     "exception": null,
     "start_time": null,
     "status": "pending"
    },
    "tags": []
   },
   "outputs": [],
   "source": [
    "fig = plt.figure(figsize=((10, 10)))\n",
    "ax = fig.add_subplot(111, projection=\"3d\")\n",
    "ax.view_init(45, 45)\n",
    "ax.set_title(\"Linear model\")\n",
    "ax.set_xlabel(\"$x_1$\")\n",
    "ax.set_ylabel(\"$x_2$\")\n",
    "ax.set_zlabel(\"$x_3$\")\n",
    "plt.rcParams[\"figure.figsize\"] = (10, 8)\n",
    "\n",
    "# plot feasible polytope\n",
    "ax.plot(\n",
    "    xs=[7 / 10, 3 / 10, 1 / 5, 3 / 10, 7 / 10],\n",
    "    ys=[1 / 10, 3 / 5, 1 / 5, 1 / 10, 1 / 10],\n",
    "    zs=[1 / 5, 1 / 10, 3 / 5, 3 / 5, 1 / 5],\n",
    "    linewidth=2,\n",
    ")\n",
    "\n",
    "# plot D-optimal solutions\n",
    "ax.scatter(\n",
    "    xs=candidates[\"x1\"],\n",
    "    ys=candidates[\"x2\"],\n",
    "    zs=candidates[\"x3\"],\n",
    "    marker=\"o\",\n",
    "    s=40,\n",
    "    color=\"orange\",\n",
    "    label=\"optimal_design solution, 12 points\",\n",
    ")\n",
    "\n",
    "plt.legend()"
   ]
  },
  {
   "attachments": {},
   "cell_type": "markdown",
   "id": "6",
   "metadata": {
    "papermill": {
     "duration": null,
     "end_time": null,
     "exception": null,
     "start_time": null,
     "status": "pending"
    },
    "tags": []
   },
   "source": [
    "## cubic model\n",
    "\n",
    "While the previous design is optimal for the main-effects model, we might prefer to see something that does not allocate all the experimental effort to values at the boundary of the space. This implies that we think there might be some higher-order effects present in the system - if we were sure that the target variable would follow straight-line behavior across the domain, we would not need to investigate any points away from the extremes.\n",
    "\n",
    "We can address this by specifying our own linear model that includes higher-order terms. "
   ]
  },
  {
   "cell_type": "code",
   "execution_count": null,
   "id": "7",
   "metadata": {
    "papermill": {
     "duration": null,
     "end_time": null,
     "exception": null,
     "start_time": null,
     "status": "pending"
    },
    "tags": []
   },
   "outputs": [],
   "source": [
    "data_model = DoEStrategy(\n",
    "    domain=domain,\n",
    "    criterion=DOptimalityCriterion(\n",
    "        formula=\"x1 + x2 + x3 + {x1**2} + {x2**2} + {x3**2} + {x1**3} + {x2**3} + {x3**3} + x1:x2 + x1:x3 + x2:x3 + x1:x2:x3\"\n",
    "    ),\n",
    "    ipopt_options={\"disp\": 0},\n",
    ")\n",
    "strategy = strategies.map(data_model=data_model)\n",
    "candidates = strategy.ask(12)"
   ]
  },
  {
   "cell_type": "markdown",
   "id": "8",
   "metadata": {},
   "source": [
    "In this case we can compare with the result reported in the paper of Coetzer and Haines."
   ]
  },
  {
   "cell_type": "code",
   "execution_count": null,
   "id": "9",
   "metadata": {},
   "outputs": [],
   "source": [
    "d_opt = np.array(\n",
    "    [\n",
    "        [\n",
    "            0.7,\n",
    "            0.3,\n",
    "            0.2,\n",
    "            0.3,\n",
    "            0.5902,\n",
    "            0.4098,\n",
    "            0.2702,\n",
    "            0.2279,\n",
    "            0.4118,\n",
    "            0.5738,\n",
    "            0.4211,\n",
    "            0.3360,\n",
    "        ],\n",
    "        [0.1, 0.6, 0.2, 0.1, 0.2373, 0.4628, 0.4808, 0.3117, 0.1, 0.1, 0.2911, 0.2264],\n",
    "        [\n",
    "            0.2,\n",
    "            0.1,\n",
    "            0.6,\n",
    "            0.6,\n",
    "            0.1725,\n",
    "            0.1274,\n",
    "            0.249,\n",
    "            0.4604,\n",
    "            0.4882,\n",
    "            0.3262,\n",
    "            0.2878,\n",
    "            0.4376,\n",
    "        ],\n",
    "    ],\n",
    ")  # values taken from paper\n",
    "\n",
    "\n",
    "fig = plt.figure(figsize=((10, 10)))\n",
    "ax = fig.add_subplot(111, projection=\"3d\")\n",
    "ax.set_title(\"cubic model\")\n",
    "ax.view_init(45, 45)\n",
    "ax.set_xlabel(\"$x_1$\")\n",
    "ax.set_ylabel(\"$x_2$\")\n",
    "ax.set_zlabel(\"$x_3$\")\n",
    "plt.rcParams[\"figure.figsize\"] = (10, 8)\n",
    "\n",
    "# plot feasible polytope\n",
    "ax.plot(\n",
    "    xs=[7 / 10, 3 / 10, 1 / 5, 3 / 10, 7 / 10],\n",
    "    ys=[1 / 10, 3 / 5, 1 / 5, 1 / 10, 1 / 10],\n",
    "    zs=[1 / 5, 1 / 10, 3 / 5, 3 / 5, 1 / 5],\n",
    "    linewidth=2,\n",
    ")\n",
    "\n",
    "# plot D-optimal solution\n",
    "ax.scatter(\n",
    "    xs=d_opt[0],\n",
    "    ys=d_opt[1],\n",
    "    zs=d_opt[2],\n",
    "    marker=\"o\",\n",
    "    s=40,\n",
    "    color=\"darkgreen\",\n",
    "    label=\"D-optimal design, 12 points\",\n",
    ")\n",
    "\n",
    "ax.scatter(\n",
    "    xs=candidates[\"x1\"],\n",
    "    ys=candidates[\"x2\"],\n",
    "    zs=candidates[\"x3\"],\n",
    "    marker=\"o\",\n",
    "    s=40,\n",
    "    color=\"orange\",\n",
    "    label=\"optimal_design solution, 12 points\",\n",
    ")\n",
    "\n",
    "plt.legend()"
   ]
  },
  {
   "attachments": {},
   "cell_type": "markdown",
   "id": "10",
   "metadata": {
    "papermill": {
     "duration": null,
     "end_time": null,
     "exception": null,
     "start_time": null,
     "status": "pending"
    },
    "tags": []
   },
   "source": [
    "## Nonlinear Constraints\n",
    "\n",
    "Design generation also supports nonlinear constraints. The following 3 examples show what is possible.\n",
    "\n",
    "First, a convenience function for plotting."
   ]
  },
  {
   "cell_type": "code",
   "execution_count": null,
   "id": "11",
   "metadata": {
    "papermill": {
     "duration": null,
     "end_time": null,
     "exception": null,
     "start_time": null,
     "status": "pending"
    },
    "tags": []
   },
   "outputs": [],
   "source": [
    "def plot_results_3d(result, surface_func):\n",
    "    u, v = np.mgrid[0 : 2 * np.pi : 100j, 0 : np.pi : 80j]\n",
    "    X = np.cos(u) * np.sin(v)\n",
    "    Y = np.sin(u) * np.sin(v)\n",
    "    Z = surface_func(X, Y)\n",
    "\n",
    "    fig = plt.figure(figsize=(8, 8))\n",
    "    ax = fig.add_subplot(111, projection=\"3d\")\n",
    "    ax.plot_surface(X, Y, Z, alpha=0.3)\n",
    "    ax.scatter(\n",
    "        xs=result[\"x1\"],\n",
    "        ys=result[\"x2\"],\n",
    "        zs=result[\"x3\"],\n",
    "        marker=\"o\",\n",
    "        s=40,\n",
    "        color=\"red\",\n",
    "    )\n",
    "    ax.set(xlabel=\"x1\", ylabel=\"x2\", zlabel=\"x3\")\n",
    "    ax.xaxis.set_major_formatter(FormatStrFormatter(\"%.2f\"))\n",
    "    ax.yaxis.set_major_formatter(FormatStrFormatter(\"%.2f\"))"
   ]
  },
  {
   "attachments": {},
   "cell_type": "markdown",
   "id": "12",
   "metadata": {
    "papermill": {
     "duration": null,
     "end_time": null,
     "exception": null,
     "start_time": null,
     "status": "pending"
    },
    "tags": []
   },
   "source": [
    "### Example 1: Design inside a cone / nonlinear inequality\n",
    "\n",
    "In the following example we have three design variables. \n",
    "We impose the constraint that all experiments have to be contained in the interior of a cone, which corresponds to the nonlinear inequality constraint\n",
    "$\\sqrt{x_1^2 + x_2^2} - x_3 \\leq 0$.\n",
    "The optimization is done for a linear model and we will see that it places the points on the surface of the cone so as to maximize the distance between them (although this is not explicitly the objective of the optimization)."
   ]
  },
  {
   "cell_type": "code",
   "execution_count": null,
   "id": "13",
   "metadata": {
    "papermill": {
     "duration": null,
     "end_time": null,
     "exception": null,
     "start_time": null,
     "status": "pending"
    },
    "tags": []
   },
   "outputs": [],
   "source": [
    "domain = Domain(\n",
    "    inputs=[\n",
    "        ContinuousInput(key=\"x1\", bounds=(-1, 1)),\n",
    "        ContinuousInput(key=\"x2\", bounds=(-1, 1)),\n",
    "        ContinuousInput(key=\"x3\", bounds=(0, 1)),\n",
    "    ],\n",
    "    outputs=[ContinuousOutput(key=\"y\")],\n",
    "    constraints=[\n",
    "        NonlinearInequalityConstraint(\n",
    "            expression=\"(x1**2 + x2**2)**0.5 - x3\",\n",
    "            features=[\"x1\", \"x2\", \"x3\"],\n",
    "        ),\n",
    "    ],\n",
    ")\n",
    "\n",
    "data_model = DoEStrategy(\n",
    "    domain=domain,\n",
    "    criterion=DOptimalityCriterion(formula=\"linear\"),\n",
    "    ipopt_options={\"maxiter\": 100, \"disp\": 0},\n",
    ")\n",
    "strategy = strategies.map(data_model=data_model)\n",
    "result = strategy.ask(strategy.get_required_number_of_experiments())\n",
    "result.round(3)\n",
    "plot_results_3d(result, surface_func=lambda x1, x2: np.sqrt(x1**2 + x2**2))"
   ]
  },
  {
   "attachments": {},
   "cell_type": "markdown",
   "id": "14",
   "metadata": {
    "papermill": {
     "duration": null,
     "end_time": null,
     "exception": null,
     "start_time": null,
     "status": "pending"
    },
    "tags": []
   },
   "source": [
    "We can do the same for a design space limited by an elliptical cone $x_1^2 + x_2^2 - x_3 \\leq 0$.\n"
   ]
  },
  {
   "cell_type": "code",
   "execution_count": null,
   "id": "15",
   "metadata": {
    "papermill": {
     "duration": null,
     "end_time": null,
     "exception": null,
     "start_time": null,
     "status": "pending"
    },
    "tags": []
   },
   "outputs": [],
   "source": [
    "domain = Domain(\n",
    "    inputs=[\n",
    "        ContinuousInput(key=\"x1\", bounds=(-1, 1)),\n",
    "        ContinuousInput(key=\"x2\", bounds=(-1, 1)),\n",
    "        ContinuousInput(key=\"x3\", bounds=(0, 1)),\n",
    "    ],\n",
    "    outputs=[ContinuousOutput(key=\"y\")],\n",
    "    constraints=[\n",
    "        NonlinearInequalityConstraint(\n",
    "            expression=\"x1**2 + x2**2 - x3\",\n",
    "            features=[\"x1\", \"x2\", \"x3\"],\n",
    "        ),\n",
    "    ],\n",
    ")\n",
    "data_model = DoEStrategy(\n",
    "    domain=domain,\n",
    "    criterion=DOptimalityCriterion(formula=\"linear\"),\n",
    "    ipopt_options={\"maxiter\": 100, \"disp\": 0},\n",
    ")\n",
    "strategy = strategies.map(data_model=data_model)\n",
    "result = strategy.ask(strategy.get_required_number_of_experiments())\n",
    "result.round(3)\n",
    "plot_results_3d(result, surface_func=lambda x1, x2: x1**2 + x2**2)"
   ]
  },
  {
   "attachments": {},
   "cell_type": "markdown",
   "id": "16",
   "metadata": {
    "papermill": {
     "duration": null,
     "end_time": null,
     "exception": null,
     "start_time": null,
     "status": "pending"
    },
    "tags": []
   },
   "source": [
    "### Example 2: Design on the surface of a cone / nonlinear equality\n",
    "\n",
    "We can also limit the design space to the surface of a cone, defined by the equality constraint $\\sqrt{x_1^2 + x_2^2} - x_3 = 0$. Before, we observed that the experimental proposals happened to be on the surface of the cone, but now they are constrained so that this must be the case.\n",
    "\n",
    "Remark: Due to missing sampling methods, the initial points provided to IPOPT don't satisfy the constraints. But this does not matter for the solution.\n"
   ]
  },
  {
   "cell_type": "code",
   "execution_count": null,
   "id": "17",
   "metadata": {
    "papermill": {
     "duration": null,
     "end_time": null,
     "exception": null,
     "start_time": null,
     "status": "pending"
    },
    "tags": []
   },
   "outputs": [],
   "source": [
    "domain = Domain(\n",
    "    inputs=[\n",
    "        ContinuousInput(key=\"x1\", bounds=(-1, 1)),\n",
    "        ContinuousInput(key=\"x2\", bounds=(-1, 1)),\n",
    "        ContinuousInput(key=\"x3\", bounds=(0, 1)),\n",
    "    ],\n",
    "    outputs=[ContinuousOutput(key=\"y\")],\n",
    "    constraints=[\n",
    "        NonlinearEqualityConstraint(\n",
    "            expression=\"(x1**2 + x2**2)**0.5 - x3\",\n",
    "            features=[\"x1\", \"x2\", \"x3\"],\n",
    "        ),\n",
    "    ],\n",
    ")\n",
    "data_model = DoEStrategy(\n",
    "    domain=domain,\n",
    "    criterion=DOptimalityCriterion(formula=\"linear\"),\n",
    "    ipopt_options={\"maxiter\": 100, \"disp\": 0},\n",
    ")\n",
    "strategy = strategies.map(data_model=data_model)\n",
    "result = strategy.ask(12)\n",
    "result.round(3)\n",
    "plot_results_3d(result, surface_func=lambda x1, x2: np.sqrt(x1**2 + x2**2))"
   ]
  },
  {
   "cell_type": "markdown",
   "id": "18",
   "metadata": {
    "papermill": {
     "duration": null,
     "end_time": null,
     "exception": null,
     "start_time": null,
     "status": "pending"
    },
    "tags": []
   },
   "source": [
    "### Example 3: Batch constraints\n",
    "Batch constraints can be used to create designs where each set of `multiplicity` subsequent experiments have the same value for a certain feature. This can be useful for setups where experiments are done in parallel and some parameters must be shared by experiments in the same parallel batch.\n",
    "\n",
    "In the following example we fix the value of the decision variable `x1` for each batch of 3 experiments.   "
   ]
  },
  {
   "cell_type": "code",
   "execution_count": null,
   "id": "19",
   "metadata": {
    "papermill": {
     "duration": null,
     "end_time": null,
     "exception": null,
     "start_time": null,
     "status": "pending"
    },
    "tags": []
   },
   "outputs": [],
   "source": [
    "domain = Domain(\n",
    "    inputs=[\n",
    "        ContinuousInput(key=\"x1\", bounds=(0, 1)),\n",
    "        ContinuousInput(key=\"x2\", bounds=(0, 1)),\n",
    "        ContinuousInput(key=\"x3\", bounds=(0, 1)),\n",
    "    ],\n",
    "    outputs=[ContinuousOutput(key=\"y\")],\n",
    "    constraints=[InterpointEqualityConstraint(feature=\"x1\", multiplicity=3)],\n",
    ")\n",
    "data_model = DoEStrategy(\n",
    "    domain=domain,\n",
    "    criterion=DOptimalityCriterion(formula=\"linear\"),\n",
    "    ipopt_options={\"maxiter\": 100, \"disp\": 0},\n",
    ")\n",
    "strategy = strategies.map(data_model=data_model)\n",
    "result = strategy.ask(12)\n",
    "result.round(3)"
   ]
  }
 ],
 "metadata": {
  "kernelspec": {
   "display_name": "bofire",
   "language": "python",
   "name": "python3"
  },
  "language_info": {
   "codemirror_mode": {
    "name": "ipython",
    "version": 3
   },
   "file_extension": ".py",
   "mimetype": "text/x-python",
   "name": "python",
   "nbconvert_exporter": "python",
   "pygments_lexer": "ipython3",
   "version": "3.11.11"
  },
  "papermill": {
   "default_parameters": {},
   "duration": 4.728012,
   "end_time": "2024-10-10T20:36:03.591436",
   "environment_variables": {},
   "exception": true,
   "parameters": {},
   "start_time": "2024-10-10T20:35:58.863424",
   "version": "2.6.0"
  }
 },
 "nbformat": 4,
 "nbformat_minor": 5
}
