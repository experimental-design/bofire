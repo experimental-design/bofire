{
 "cells": [
  {
   "attachments": {},
   "cell_type": "markdown",
   "id": "0",
   "metadata": {
    "papermill": {
     "duration": 0.003897,
     "end_time": "2024-10-10T20:36:17.456830",
     "exception": false,
     "start_time": "2024-10-10T20:36:17.452933",
     "status": "completed"
    },
    "tags": []
   },
   "source": [
    "## Design with NChooseK constraint\n",
    "\n",
    "The doe subpackage also supports problems with NChooseK constraints. Since IPOPT has problems finding feasible solutions\n",
    "using the gradient of the NChooseK constraint violation, a closely related (but stricter) constraint that suffices\n",
    "to fulfill the NChooseK constraint is imposed onto the problem: For each experiment $j$\n",
    "N-K decision variables $x_{i_1,j},...,x_{i_{N-K,j}}$ from the NChooseK constraints' names attribute are picked\n",
    "that are forced to be zero. This is done by setting the upper and lower bounds of the picked variables are set to 0\n",
    "in the corresponding experiments. This causes IPOPT to treat them as \"fixed variables\" (i.e. it will not optimize for them)\n",
    "and will always stick to the only feasible value (which is 0 here).\n",
    "However, this constraint is stricter than the original NChooseK constraint. In combination with other\n",
    "constraints on the same decision variables this can result in a situation where the constraints cannot be fulfilled\n",
    "even though the original constraints would allow for a solution. For example consider a problem with four decision\n",
    "variables $x_1, x_2, x_3, x_4$, an NChooseK constraint on the first four variable that restricts the number of nonzero variables\n",
    "to two. Additionally, we have a linear constraint\n",
    "$$\n",
    "x_3 + x_4 \\geq 0.1\n",
    "$$\n",
    "We can easily find points that fulfill both constraints (e.g. $(0,0,0,0.1)$). Now consider the stricter, linear constraint\n",
    "from above. Eventually, it will happen that $x_3$ and $x_4$ are chosen to be zero for one experiment. For this experiment\n",
    "it is impossible to fulfill the linear constraint $x_3 + x_4 \\geq 0.1$ since $x_3 = x_4 = 0$.\n",
    "\n",
    "Therefore one has to be very careful when imposing linear constraints upon decision variables that already show up in an NChooseK constraint.\n",
    "\n",
    "For practical reasons it necessary that two NChooseK constraints of the same problem must not share any variables.\n",
    "\n",
    "You can find an example for a problem with NChooseK constraints and additional linear constraints imposed on the same variables.\n"
   ]
  },
  {
   "cell_type": "code",
   "execution_count": null,
   "id": "1",
   "metadata": {
    "papermill": {
     "duration": 2.941079,
     "end_time": "2024-10-10T20:36:20.399927",
     "exception": true,
     "start_time": "2024-10-10T20:36:17.458848",
     "status": "failed"
    },
    "tags": []
   },
   "outputs": [],
   "source": [
    "import numpy as np\n",
    "\n",
    "from bofire.data_models.constraints.api import (\n",
    "    LinearEqualityConstraint,\n",
    "    LinearInequalityConstraint,\n",
    "    NChooseKConstraint,\n",
    ")\n",
    "from bofire.data_models.domain.api import Domain\n",
    "from bofire.data_models.features.api import ContinuousInput, ContinuousOutput\n",
    "from bofire.strategies.doe.design import find_local_max_ipopt\n",
    "\n",
    "\n",
    "domain = Domain(\n",
    "    inputs=[ContinuousInput(key=f\"x{i+1}\", bounds=(0, 1)) for i in range(8)],\n",
    "    outputs=[ContinuousOutput(key=\"y\")],\n",
    "    constraints=[\n",
    "        LinearEqualityConstraint(\n",
    "            features=[f\"x{i+1}\" for i in range(8)],\n",
    "            coefficients=[1, 1, 1, 1, 1, 1, 1, 1],\n",
    "            rhs=1,\n",
    "        ),\n",
    "        NChooseKConstraint(\n",
    "            features=[\"x1\", \"x2\", \"x3\"],\n",
    "            min_count=0,\n",
    "            max_count=1,\n",
    "            none_also_valid=True,\n",
    "        ),\n",
    "        LinearInequalityConstraint(\n",
    "            features=[\"x1\", \"x2\", \"x3\"],\n",
    "            coefficients=[1, 1, 1],\n",
    "            rhs=0.7,\n",
    "        ),\n",
    "        LinearInequalityConstraint(\n",
    "            features=[\"x7\", \"x8\"],\n",
    "            coefficients=[-1, -1],\n",
    "            rhs=-0.1,\n",
    "        ),\n",
    "        LinearInequalityConstraint(features=[\"x7\", \"x8\"], coefficients=[1, 1], rhs=0.9),\n",
    "    ],\n",
    ")\n",
    "\n",
    "res = find_local_max_ipopt(\n",
    "    domain=domain,\n",
    "    model_type=\"fully-quadratic\",\n",
    "    ipopt_options={\"maxiter\": 500},\n",
    ")\n",
    "np.round(res, 3)"
   ]
  }
 ],
 "metadata": {
  "kernelspec": {
   "display_name": "Python 3",
   "language": "python",
   "name": "python3"
  },
  "language_info": {
   "codemirror_mode": {
    "name": "ipython",
    "version": 3
   },
   "file_extension": ".py",
   "mimetype": "text/x-python",
   "name": "python",
   "nbconvert_exporter": "python",
   "pygments_lexer": "ipython3",
   "version": "3.12.7"
  },
  "papermill": {
   "default_parameters": {},
   "duration": 4.57789,
   "end_time": "2024-10-10T20:36:21.124099",
   "environment_variables": {},
   "exception": true,
   "parameters": {},
   "start_time": "2024-10-10T20:36:16.546209",
   "version": "2.6.0"
  }
 },
 "nbformat": 4,
 "nbformat_minor": 5
}
