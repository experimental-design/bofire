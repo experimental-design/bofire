{
 "cells": [
  {
   "attachments": {},
   "cell_type": "markdown",
   "metadata": {},
   "source": [
    "# Tentative NChooseK constraint support\n",
    "\n",
    "doe also supports problems with NChooseK constraints. Since IPOPT has problems finding feasible solutions\n",
    "using the gradient of the NChooseK constraint violation, a closely related (but stricter) constraint that suffices\n",
    "to fulfill the NChooseK constraint is imposed onto the problem: For each experiment $j$\n",
    "N-K decision variables $x_{i_1,j},...,x_{i_{N-K,j}}$ from the NChooseK constraints' names attribute are picked\n",
    "that are forced to be zero. This is done by setting the upper and lower bounds of the picked variables are set to 0\n",
    "in the corresponding experiments. This causes IPOPT to treat them as \"fixed variables\" (i.e. it will not optimize for them)\n",
    "and will always stick to the only feasible value (which is 0 here).\n",
    "However, this constraint is stricter than the original NChooseK constraint. In combination with other\n",
    "constraints on the same decision variables this can result in a situation where the constraints cannot be fulfilled\n",
    "even though the original constraints would allow for a solution. For example consider a problem with four decision\n",
    "variables $x_1, x_2, x_3, x_4$, an NChooseK constraint on the first four variable that restricts the number of nonzero variables\n",
    "to two. Additionally, we have a linear constraint\n",
    "$$\n",
    "x_3 + x_4 \\geq 0.1\n",
    "$$\n",
    "We can easily find points that fulfill both constraints (e.g. $(0,0,0,0.1)$). Now consider the stricter, linear constraint\n",
    "from above. Eventually, it will happen that $x_3$ and $x_4$ are chosen to be zero for one experiment. For this experiment\n",
    "it is impossible to fulfill the linear constraint $x_3 + x_4 \\geq 0.1$ since $x_3 = x_4 = 0$.\n",
    "\n",
    "Therefore one has to be very careful when imposing linear constraints upon decision variables that already show up in an NChooseK constraint.\n",
    "\n",
    "For practical reasons it necessary that two NChooseK constraints of the same problem must not share any variables.\n",
    "\n",
    "You can find an example for a problem with NChooseK constraints and additional linear constraints imposed on the same variables.\n"
   ]
  },
  {
   "cell_type": "code",
   "execution_count": null,
   "metadata": {},
   "outputs": [],
   "source": [
    "from bofire.strategies.doe.design import find_local_max_ipopt\n",
    "from bofire.data_models.domain.api import Domain\n",
    "from bofire.data_models.constraints.api import NChooseKConstraint, LinearEqualityConstraint, LinearInequalityConstraint\n",
    "from bofire.data_models.features.api import ContinuousInput, ContinuousOutput\n",
    "\n",
    "\n",
    "problem = Domain(\n",
    "    inputs = [ContinuousInput(f\"x{i+1}\", [0,1]) for i in range(8)],\n",
    "    outputs = [ContinuousOutput(\"y\")],\n",
    "    constraints = [\n",
    "        LinearEqualityConstraint(names=[f\"x{i+1}\" for i in range(8)], coefficients=[1,1,1,1,1,1,1,1], rhs=1),\n",
    "        NChooseKConstraint(names=[\"x1\",\"x2\",\"x3\"], max_active=1),\n",
    "        LinearInequalityConstraint(features=[\"x1\",\"x2\",\"x3\"], coefficients=[1,1,1], rhs=0.7),\n",
    "        LinearInequalityConstraint(features=[\"x7\",\"x8\"], coefficients=[-1,-1], rhs=-0.1),\n",
    "        LinearInequalityConstraint(features=[\"x7\",\"x8\"], coefficients=[1,1], rhs=0.9),\n",
    "    ]\n",
    ")\n",
    "\n",
    "res = find_local_max_ipopt(\n",
    "    problem=problem,\n",
    "    model_type=\"fully-quadratic\",\n",
    "    ipopt_options={\"maxiter\":500, \"disp\":5},\n",
    ")"
   ]
  }
 ],
 "metadata": {
  "language_info": {
   "name": "python"
  },
  "orig_nbformat": 4
 },
 "nbformat": 4,
 "nbformat_minor": 2
}
