{
 "cells": [
  {
   "cell_type": "markdown",
   "id": "0",
   "metadata": {
    "papermill": {
     "duration": 0.005475,
     "end_time": "2024-10-10T20:36:10.093785",
     "exception": false,
     "start_time": "2024-10-10T20:36:10.088310",
     "status": "completed"
    },
    "tags": []
   },
   "source": [
    "# Full and Fractional Factorial Designs\n",
    "\n",
    "BoFire can be used to setup full (two level) and fractional factorial designs (https://en.wikipedia.org/wiki/Fractional_factorial_design). This tutorial notebook shows how."
   ]
  },
  {
   "cell_type": "markdown",
   "id": "1",
   "metadata": {
    "papermill": {
     "duration": 0.001724,
     "end_time": "2024-10-10T20:36:10.098780",
     "exception": false,
     "start_time": "2024-10-10T20:36:10.097056",
     "status": "completed"
    },
    "tags": []
   },
   "source": [
    "## Imports and helper functions"
   ]
  },
  {
   "cell_type": "code",
   "execution_count": null,
   "id": "2",
   "metadata": {
    "papermill": {
     "duration": 4.584683,
     "end_time": "2024-10-10T20:36:14.685114",
     "exception": false,
     "start_time": "2024-10-10T20:36:10.100431",
     "status": "completed"
    },
    "tags": []
   },
   "outputs": [],
   "source": [
    "import matplotlib.pyplot as plt\n",
    "import pandas as pd\n",
    "import seaborn as sns\n",
    "\n",
    "import bofire.strategies.api as strategies\n",
    "from bofire.data_models.domain.api import Domain\n",
    "from bofire.data_models.features.api import ContinuousInput\n",
    "from bofire.data_models.strategies.api import FractionalFactorialStrategy\n",
    "from bofire.utils.doe import get_alias_structure, get_confounding_matrix, get_generator\n",
    "\n",
    "\n",
    "def plot_design(design: pd.DataFrame):\n",
    "    # we do a plot with three subplots in one row in which the three degrees of freedom (temperature, time and ph) are plotted\n",
    "    _, axs = plt.subplots(1, 3, figsize=(15, 5))\n",
    "    axs[0].scatter(design[\"temperature\"], design[\"time\"])\n",
    "    axs[0].set_xlabel(\"Temperature\")\n",
    "    axs[0].set_ylabel(\"Time\")\n",
    "    axs[1].scatter(design[\"temperature\"], design[\"ph\"])\n",
    "    axs[1].set_xlabel(\"Temperature\")\n",
    "    axs[1].set_ylabel(\"pH\")\n",
    "    axs[2].scatter(design[\"time\"], design[\"ph\"])\n",
    "    axs[2].set_xlabel(\"Time\")\n",
    "    axs[2].set_ylabel(\"pH\")\n",
    "    plt.show()"
   ]
  },
  {
   "cell_type": "markdown",
   "id": "3",
   "metadata": {
    "papermill": {
     "duration": 0.001724,
     "end_time": "2024-10-10T20:36:14.689046",
     "exception": false,
     "start_time": "2024-10-10T20:36:14.687322",
     "status": "completed"
    },
    "tags": []
   },
   "source": [
    "## Setup the problem domain\n",
    "\n",
    "The designs are generated for a simple three dimensional problem comprised of three continuous factors/features."
   ]
  },
  {
   "cell_type": "code",
   "execution_count": null,
   "id": "4",
   "metadata": {
    "papermill": {
     "duration": 0.007239,
     "end_time": "2024-10-10T20:36:14.698521",
     "exception": false,
     "start_time": "2024-10-10T20:36:14.691282",
     "status": "completed"
    },
    "tags": []
   },
   "outputs": [],
   "source": [
    "domain = Domain(\n",
    "    inputs=[\n",
    "        ContinuousInput(key=\"temperature\", bounds=(20, 80)),\n",
    "        ContinuousInput(key=\"time\", bounds=(60, 120)),\n",
    "        ContinuousInput(key=\"ph\", bounds=(7, 13)),\n",
    "    ],\n",
    ")"
   ]
  },
  {
   "cell_type": "markdown",
   "id": "5",
   "metadata": {
    "papermill": {
     "duration": 0.00232,
     "end_time": "2024-10-10T20:36:14.702857",
     "exception": false,
     "start_time": "2024-10-10T20:36:14.700537",
     "status": "completed"
    },
    "tags": []
   },
   "source": [
    "## Setup a full factorial design\n",
    "\n",
    "Here we setup a full two-level factorial design including a center point and plot it. "
   ]
  },
  {
   "cell_type": "code",
   "execution_count": null,
   "id": "6",
   "metadata": {
    "papermill": {
     "duration": 0.193231,
     "end_time": "2024-10-10T20:36:14.897979",
     "exception": false,
     "start_time": "2024-10-10T20:36:14.704748",
     "status": "completed"
    },
    "tags": []
   },
   "outputs": [],
   "source": [
    "strategy_data = FractionalFactorialStrategy(\n",
    "    domain=domain,\n",
    "    n_center=1,  # number of center points\n",
    "    n_repetitions=1,  # number of repetitions, we do only one round here\n",
    ")\n",
    "strategy = strategies.map(strategy_data)\n",
    "design = strategy.ask()\n",
    "display(design)\n",
    "\n",
    "plot_design(design=design)"
   ]
  },
  {
   "cell_type": "markdown",
   "id": "7",
   "metadata": {
    "papermill": {
     "duration": 0.002419,
     "end_time": "2024-10-10T20:36:14.902853",
     "exception": false,
     "start_time": "2024-10-10T20:36:14.900434",
     "status": "completed"
    },
    "tags": []
   },
   "source": [
    "The confounding structure is shown below, as expected for a full factorial design, no confound is present."
   ]
  },
  {
   "cell_type": "code",
   "execution_count": null,
   "id": "8",
   "metadata": {
    "papermill": {
     "duration": 0.107183,
     "end_time": "2024-10-10T20:36:15.012084",
     "exception": false,
     "start_time": "2024-10-10T20:36:14.904901",
     "status": "completed"
    },
    "tags": []
   },
   "outputs": [],
   "source": [
    "m = get_confounding_matrix(domain.inputs, design=design, interactions=[2])\n",
    "\n",
    "sns.heatmap(m, annot=True, annot_kws={\"fontsize\": 7}, fmt=\"2.1f\")\n",
    "plt.show()"
   ]
  },
  {
   "cell_type": "markdown",
   "id": "9",
   "metadata": {
    "papermill": {
     "duration": 0.002257,
     "end_time": "2024-10-10T20:36:15.017092",
     "exception": false,
     "start_time": "2024-10-10T20:36:15.014835",
     "status": "completed"
    },
    "tags": []
   },
   "source": [
    "## Setup a fractional factorial design"
   ]
  },
  {
   "cell_type": "markdown",
   "id": "10",
   "metadata": {
    "papermill": {
     "duration": 0.002338,
     "end_time": "2024-10-10T20:36:15.021986",
     "exception": false,
     "start_time": "2024-10-10T20:36:15.019648",
     "status": "completed"
    },
    "tags": []
   },
   "source": [
    "Here a fractional factorial design of the form $2^{3-1}$ is setup by specifying the number of generators (here 1). In comparison to the full factorial design with 9 candidates, it features only 5 experiments."
   ]
  },
  {
   "cell_type": "code",
   "execution_count": null,
   "id": "11",
   "metadata": {
    "papermill": {
     "duration": 0.012973,
     "end_time": "2024-10-10T20:36:15.037263",
     "exception": false,
     "start_time": "2024-10-10T20:36:15.024290",
     "status": "completed"
    },
    "tags": []
   },
   "outputs": [],
   "source": [
    "strategy_data = FractionalFactorialStrategy(\n",
    "    domain=domain,\n",
    "    n_center=1,  # number of center points\n",
    "    n_repetitions=1,  # number of repetitions, we do only one round here\n",
    "    n_generators=1,  # number of generators, ie number of reducing factors\n",
    ")\n",
    "strategy = strategies.map(strategy_data)\n",
    "design = strategy.ask()\n",
    "display(design)"
   ]
  },
  {
   "cell_type": "markdown",
   "id": "12",
   "metadata": {
    "papermill": {
     "duration": 0.002241,
     "end_time": "2024-10-10T20:36:15.042109",
     "exception": false,
     "start_time": "2024-10-10T20:36:15.039868",
     "status": "completed"
    },
    "tags": []
   },
   "source": [
    "The generator string is automatically generated by making use of the method `get_generator` and specifying the total number of factors (here 3) and the number of generators (here 1)."
   ]
  },
  {
   "cell_type": "code",
   "execution_count": null,
   "id": "13",
   "metadata": {
    "papermill": {
     "duration": 0.008137,
     "end_time": "2024-10-10T20:36:15.052737",
     "exception": false,
     "start_time": "2024-10-10T20:36:15.044600",
     "status": "completed"
    },
    "tags": []
   },
   "outputs": [],
   "source": [
    "get_generator(n_factors=3, n_generators=1)"
   ]
  },
  {
   "cell_type": "markdown",
   "id": "14",
   "metadata": {
    "papermill": {
     "duration": 0.002569,
     "end_time": "2024-10-10T20:36:15.058068",
     "exception": false,
     "start_time": "2024-10-10T20:36:15.055499",
     "status": "completed"
    },
    "tags": []
   },
   "source": [
    "As expected for a type III design the main effects are confounded with the two factor interactions:"
   ]
  },
  {
   "cell_type": "code",
   "execution_count": null,
   "id": "15",
   "metadata": {
    "papermill": {
     "duration": 0.107571,
     "end_time": "2024-10-10T20:36:15.168255",
     "exception": false,
     "start_time": "2024-10-10T20:36:15.060684",
     "status": "completed"
    },
    "tags": []
   },
   "outputs": [],
   "source": [
    "m = get_confounding_matrix(domain.inputs, design=design, interactions=[2])\n",
    "\n",
    "sns.heatmap(m, annot=True, annot_kws={\"fontsize\": 7}, fmt=\"2.1f\")\n",
    "plt.show()"
   ]
  },
  {
   "cell_type": "markdown",
   "id": "16",
   "metadata": {
    "papermill": {
     "duration": 0.002295,
     "end_time": "2024-10-10T20:36:15.173328",
     "exception": false,
     "start_time": "2024-10-10T20:36:15.171033",
     "status": "completed"
    },
    "tags": []
   },
   "source": [
    "This can also be expressed by the so called alias structure that can be calculated as following:"
   ]
  },
  {
   "cell_type": "code",
   "execution_count": null,
   "id": "17",
   "metadata": {
    "papermill": {
     "duration": 0.006933,
     "end_time": "2024-10-10T20:36:15.183147",
     "exception": false,
     "start_time": "2024-10-10T20:36:15.176214",
     "status": "completed"
    },
    "tags": []
   },
   "outputs": [],
   "source": [
    "get_alias_structure(\"a b ab\")"
   ]
  },
  {
   "cell_type": "markdown",
   "id": "18",
   "metadata": {
    "papermill": {
     "duration": 0.002679,
     "end_time": "2024-10-10T20:36:15.188879",
     "exception": false,
     "start_time": "2024-10-10T20:36:15.186200",
     "status": "completed"
    },
    "tags": []
   },
   "source": [
    "Here again a fractional factorial design of the form $2^{3-1}$ is setup by providing the complete generator string of the form `a b -ab` explicitly to the strategy."
   ]
  },
  {
   "cell_type": "code",
   "execution_count": null,
   "id": "19",
   "metadata": {
    "papermill": {
     "duration": 0.012145,
     "end_time": "2024-10-10T20:36:15.203578",
     "exception": false,
     "start_time": "2024-10-10T20:36:15.191433",
     "status": "completed"
    },
    "tags": []
   },
   "outputs": [],
   "source": [
    "strategy_data = FractionalFactorialStrategy(\n",
    "    domain=domain,\n",
    "    n_center=1,  # number of center points\n",
    "    n_repetitions=1,  # number of repetitions, we do only one round here\n",
    "    generator=\"a b -ab\",  # the exact generator\n",
    ")\n",
    "strategy = strategies.map(strategy_data)\n",
    "design = strategy.ask()\n",
    "display(design)"
   ]
  },
  {
   "cell_type": "markdown",
   "id": "20",
   "metadata": {
    "papermill": {
     "duration": 0.002823,
     "end_time": "2024-10-10T20:36:15.209420",
     "exception": false,
     "start_time": "2024-10-10T20:36:15.206597",
     "status": "completed"
    },
    "tags": []
   },
   "source": [
    "The last two designs differ only in the last feature `time`, since the generator strings are different. In the first one it holds `time=ph x temperature` whereas in the second it holds `time=-ph x temperature`, which is also reflected in the confounding structure."
   ]
  },
  {
   "cell_type": "code",
   "execution_count": null,
   "id": "21",
   "metadata": {
    "papermill": {
     "duration": 0.112252,
     "end_time": "2024-10-10T20:36:15.324464",
     "exception": false,
     "start_time": "2024-10-10T20:36:15.212212",
     "status": "completed"
    },
    "tags": []
   },
   "outputs": [],
   "source": [
    "m = get_confounding_matrix(domain.inputs, design=design, interactions=[2])\n",
    "\n",
    "sns.heatmap(m, annot=True, annot_kws={\"fontsize\": 7}, fmt=\"2.1f\")\n",
    "plt.show()"
   ]
  }
 ],
 "metadata": {
  "kernelspec": {
   "display_name": "Python 3",
   "language": "python",
   "name": "python3"
  },
  "language_info": {
   "codemirror_mode": {
    "name": "ipython",
    "version": 3
   },
   "file_extension": ".py",
   "mimetype": "text/x-python",
   "name": "python",
   "nbconvert_exporter": "python",
   "pygments_lexer": "ipython3",
   "version": "3.12.7"
  },
  "papermill": {
   "default_parameters": {},
   "duration": 6.946847,
   "end_time": "2024-10-10T20:36:16.151402",
   "environment_variables": {},
   "exception": null,
   "parameters": {},
   "start_time": "2024-10-10T20:36:09.204555",
   "version": "2.6.0"
  }
 },
 "nbformat": 4,
 "nbformat_minor": 5
}
