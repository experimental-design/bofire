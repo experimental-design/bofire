{
 "cells": [
  {
   "attachments": {},
   "cell_type": "markdown",
   "id": "0",
   "metadata": {
    "papermill": {
     "duration": 0.003398,
     "end_time": "2024-10-10T20:36:35.989332",
     "exception": false,
     "start_time": "2024-10-10T20:36:35.985934",
     "status": "completed"
    },
    "tags": []
   },
   "source": [
    "# Model Building with BoFire\n",
    "\n",
    "This notebooks shows how to setup and analyze models trained with BoFire. It is still WIP."
   ]
  },
  {
   "attachments": {},
   "cell_type": "markdown",
   "id": "1",
   "metadata": {
    "papermill": {
     "duration": 0.002746,
     "end_time": "2024-10-10T20:36:35.996098",
     "exception": false,
     "start_time": "2024-10-10T20:36:35.993352",
     "status": "completed"
    },
    "tags": []
   },
   "source": [
    "## Imports"
   ]
  },
  {
   "cell_type": "code",
   "execution_count": null,
   "id": "2",
   "metadata": {
    "papermill": {
     "duration": 2.815003,
     "end_time": "2024-10-10T20:36:38.814413",
     "exception": false,
     "start_time": "2024-10-10T20:36:35.999410",
     "status": "completed"
    },
    "tags": []
   },
   "outputs": [
    {
     "name": "stderr",
     "output_type": "stream",
     "text": [
      "/usr/local/lib/python3.10/dist-packages/tqdm/auto.py:21: TqdmWarning: IProgress not found. Please update jupyter and ipywidgets. See https://ipywidgets.readthedocs.io/en/stable/user_install.html\n",
      "  from .autonotebook import tqdm as notebook_tqdm\n"
     ]
    }
   ],
   "source": [
    "from pydantic import TypeAdapter\n",
    "\n",
    "import bofire.surrogates.api as surrogates\n",
    "from bofire.benchmarks.multi import CrossCoupling\n",
    "from bofire.benchmarks.single import Himmelblau\n",
    "from bofire.data_models.domain.api import Outputs\n",
    "from bofire.data_models.enum import CategoricalEncodingEnum\n",
    "from bofire.data_models.surrogates.api import (\n",
    "    AnySurrogate,\n",
    "    EmpiricalSurrogate,\n",
    "    MixedSingleTaskGPSurrogate,\n",
    "    RandomForestSurrogate,\n",
    "    RegressionMLPEnsemble,\n",
    "    SingleTaskGPSurrogate,\n",
    ")"
   ]
  },
  {
   "attachments": {},
   "cell_type": "markdown",
   "id": "3",
   "metadata": {
    "papermill": {
     "duration": 0.002693,
     "end_time": "2024-10-10T20:36:38.820280",
     "exception": false,
     "start_time": "2024-10-10T20:36:38.817587",
     "status": "completed"
    },
    "tags": []
   },
   "source": [
    "## Problem Setup\n",
    "\n",
    "For didactic purposes, we sample data from a Himmelblau benchmark function and use them to train a SingleTaskGP."
   ]
  },
  {
   "cell_type": "code",
   "execution_count": null,
   "id": "4",
   "metadata": {
    "papermill": {
     "duration": 0.016598,
     "end_time": "2024-10-10T20:36:38.839445",
     "exception": false,
     "start_time": "2024-10-10T20:36:38.822847",
     "status": "completed"
    },
    "tags": []
   },
   "outputs": [
    {
     "data": {
      "text/html": [
       "<div>\n",
       "<style scoped>\n",
       "    .dataframe tbody tr th:only-of-type {\n",
       "        vertical-align: middle;\n",
       "    }\n",
       "\n",
       "    .dataframe tbody tr th {\n",
       "        vertical-align: top;\n",
       "    }\n",
       "\n",
       "    .dataframe thead th {\n",
       "        text-align: right;\n",
       "    }\n",
       "</style>\n",
       "<table border=\"1\" class=\"dataframe\">\n",
       "  <thead>\n",
       "    <tr style=\"text-align: right;\">\n",
       "      <th></th>\n",
       "      <th>x_1</th>\n",
       "      <th>x_2</th>\n",
       "      <th>y</th>\n",
       "      <th>valid_y</th>\n",
       "    </tr>\n",
       "  </thead>\n",
       "  <tbody>\n",
       "    <tr>\n",
       "      <th>0</th>\n",
       "      <td>0.131252</td>\n",
       "      <td>-1.536419</td>\n",
       "      <td>177.053711</td>\n",
       "      <td>1</td>\n",
       "    </tr>\n",
       "    <tr>\n",
       "      <th>1</th>\n",
       "      <td>4.808422</td>\n",
       "      <td>2.379815</td>\n",
       "      <td>222.325793</td>\n",
       "      <td>1</td>\n",
       "    </tr>\n",
       "    <tr>\n",
       "      <th>2</th>\n",
       "      <td>-0.955496</td>\n",
       "      <td>-4.661948</td>\n",
       "      <td>407.372846</td>\n",
       "      <td>1</td>\n",
       "    </tr>\n",
       "    <tr>\n",
       "      <th>3</th>\n",
       "      <td>0.796825</td>\n",
       "      <td>-1.194805</td>\n",
       "      <td>156.437195</td>\n",
       "      <td>1</td>\n",
       "    </tr>\n",
       "    <tr>\n",
       "      <th>4</th>\n",
       "      <td>-3.436179</td>\n",
       "      <td>-4.443213</td>\n",
       "      <td>99.820556</td>\n",
       "      <td>1</td>\n",
       "    </tr>\n",
       "    <tr>\n",
       "      <th>5</th>\n",
       "      <td>-3.003938</td>\n",
       "      <td>1.832697</td>\n",
       "      <td>44.178770</td>\n",
       "      <td>1</td>\n",
       "    </tr>\n",
       "    <tr>\n",
       "      <th>6</th>\n",
       "      <td>-4.514828</td>\n",
       "      <td>3.934144</td>\n",
       "      <td>193.066827</td>\n",
       "      <td>1</td>\n",
       "    </tr>\n",
       "    <tr>\n",
       "      <th>7</th>\n",
       "      <td>1.680641</td>\n",
       "      <td>-1.750335</td>\n",
       "      <td>103.609234</td>\n",
       "      <td>1</td>\n",
       "    </tr>\n",
       "    <tr>\n",
       "      <th>8</th>\n",
       "      <td>-1.293610</td>\n",
       "      <td>-4.111140</td>\n",
       "      <td>254.667469</td>\n",
       "      <td>1</td>\n",
       "    </tr>\n",
       "    <tr>\n",
       "      <th>9</th>\n",
       "      <td>-4.948297</td>\n",
       "      <td>-3.226115</td>\n",
       "      <td>107.630899</td>\n",
       "      <td>1</td>\n",
       "    </tr>\n",
       "  </tbody>\n",
       "</table>\n",
       "</div>"
      ],
      "text/plain": [
       "        x_1       x_2           y  valid_y\n",
       "0  0.131252 -1.536419  177.053711        1\n",
       "1  4.808422  2.379815  222.325793        1\n",
       "2 -0.955496 -4.661948  407.372846        1\n",
       "3  0.796825 -1.194805  156.437195        1\n",
       "4 -3.436179 -4.443213   99.820556        1\n",
       "5 -3.003938  1.832697   44.178770        1\n",
       "6 -4.514828  3.934144  193.066827        1\n",
       "7  1.680641 -1.750335  103.609234        1\n",
       "8 -1.293610 -4.111140  254.667469        1\n",
       "9 -4.948297 -3.226115  107.630899        1"
      ]
     },
     "execution_count": null,
     "metadata": {},
     "output_type": "execute_result"
    }
   ],
   "source": [
    "benchmark = Himmelblau()\n",
    "samples = benchmark.domain.inputs.sample(n=50)\n",
    "experiments = benchmark.f(samples, return_complete=True)\n",
    "\n",
    "experiments.head(10)"
   ]
  },
  {
   "attachments": {},
   "cell_type": "markdown",
   "id": "5",
   "metadata": {
    "papermill": {
     "duration": 0.002819,
     "end_time": "2024-10-10T20:36:38.845514",
     "exception": false,
     "start_time": "2024-10-10T20:36:38.842695",
     "status": "completed"
    },
    "tags": []
   },
   "source": [
    "## Model Fitting\n"
   ]
  },
  {
   "cell_type": "code",
   "execution_count": null,
   "id": "6",
   "metadata": {
    "papermill": {
     "duration": 0.006643,
     "end_time": "2024-10-10T20:36:38.855747",
     "exception": false,
     "start_time": "2024-10-10T20:36:38.849104",
     "status": "completed"
    },
    "tags": []
   },
   "outputs": [],
   "source": [
    "input_features = benchmark.domain.inputs\n",
    "output_features = benchmark.domain.outputs"
   ]
  },
  {
   "cell_type": "code",
   "execution_count": null,
   "id": "7",
   "metadata": {
    "papermill": {
     "duration": 0.008751,
     "end_time": "2024-10-10T20:36:38.867475",
     "exception": false,
     "start_time": "2024-10-10T20:36:38.858724",
     "status": "completed"
    },
    "tags": []
   },
   "outputs": [
    {
     "data": {
      "text/plain": [
       "'{\"type\":\"Inputs\",\"features\":[{\"type\":\"ContinuousInput\",\"key\":\"x_1\",\"unit\":null,\"bounds\":[-6.0,6.0],\"local_relative_bounds\":null,\"stepsize\":null},{\"type\":\"ContinuousInput\",\"key\":\"x_2\",\"unit\":null,\"bounds\":[-6.0,6.0],\"local_relative_bounds\":null,\"stepsize\":null}]}'"
      ]
     },
     "execution_count": null,
     "metadata": {},
     "output_type": "execute_result"
    }
   ],
   "source": [
    "input_features.model_dump_json()"
   ]
  },
  {
   "cell_type": "code",
   "execution_count": null,
   "id": "8",
   "metadata": {
    "papermill": {
     "duration": 0.006762,
     "end_time": "2024-10-10T20:36:38.877170",
     "exception": false,
     "start_time": "2024-10-10T20:36:38.870408",
     "status": "completed"
    },
    "tags": []
   },
   "outputs": [
    {
     "data": {
      "text/plain": [
       "'{\"type\":\"Outputs\",\"features\":[{\"type\":\"ContinuousOutput\",\"key\":\"y\",\"unit\":null,\"objective\":{\"type\":\"MinimizeObjective\",\"w\":1.0,\"bounds\":[0.0,1.0]}}]}'"
      ]
     },
     "execution_count": null,
     "metadata": {},
     "output_type": "execute_result"
    }
   ],
   "source": [
    "output_features.model_dump_json()"
   ]
  },
  {
   "attachments": {},
   "cell_type": "markdown",
   "id": "9",
   "metadata": {
    "papermill": {
     "duration": 0.002947,
     "end_time": "2024-10-10T20:36:38.883189",
     "exception": false,
     "start_time": "2024-10-10T20:36:38.880242",
     "status": "completed"
    },
    "tags": []
   },
   "source": [
    "### Single Task GP\n",
    "\n",
    "Generate the json spec"
   ]
  },
  {
   "cell_type": "code",
   "execution_count": null,
   "id": "10",
   "metadata": {
    "papermill": {
     "duration": 0.008037,
     "end_time": "2024-10-10T20:36:38.894071",
     "exception": false,
     "start_time": "2024-10-10T20:36:38.886034",
     "status": "completed"
    },
    "tags": []
   },
   "outputs": [
    {
     "name": "stderr",
     "output_type": "stream",
     "text": [
      "/tmp/ipykernel_21103/1013463551.py:5: PydanticDeprecatedSince20: The `json` method is deprecated; use `model_dump_json` instead. Deprecated in Pydantic V2.0 to be removed in V3.0. See Pydantic V2 Migration Guide at https://errors.pydantic.dev/2.10/migration/\n",
      "  jspec = surrogate_data.json()\n"
     ]
    },
    {
     "data": {
      "text/plain": [
       "'{\"hyperconfig\":{\"type\":\"SingleTaskGPHyperconfig\",\"hyperstrategy\":\"FractionalFactorialStrategy\",\"inputs\":{\"type\":\"Inputs\",\"features\":[{\"type\":\"CategoricalInput\",\"key\":\"kernel\",\"categories\":[\"rbf\",\"matern_1.5\",\"matern_2.5\"],\"allowed\":[true,true,true]},{\"type\":\"CategoricalInput\",\"key\":\"prior\",\"categories\":[\"mbo\",\"threesix\",\"hvarfner\"],\"allowed\":[true,true,true]},{\"type\":\"CategoricalInput\",\"key\":\"scalekernel\",\"categories\":[\"True\",\"False\"],\"allowed\":[true,true]},{\"type\":\"CategoricalInput\",\"key\":\"ard\",\"categories\":[\"True\",\"False\"],\"allowed\":[true,true]}]},\"n_iterations\":null,\"target_metric\":\"MAE\"},\"aggregations\":null,\"type\":\"SingleTaskGPSurrogate\",\"inputs\":{\"type\":\"Inputs\",\"features\":[{\"type\":\"ContinuousInput\",\"key\":\"x_1\",\"unit\":null,\"bounds\":[-6.0,6.0],\"local_relative_bounds\":null,\"stepsize\":null},{\"type\":\"ContinuousInput\",\"key\":\"x_2\",\"unit\":null,\"bounds\":[-6.0,6.0],\"local_relative_bounds\":null,\"stepsize\":null}]},\"outputs\":{\"type\":\"Outputs\",\"features\":[{\"type\":\"ContinuousOutput\",\"key\":\"y\",\"unit\":null,\"objective\":{\"type\":\"MinimizeObjective\",\"w\":1.0,\"bounds\":[0.0,1.0]}}]},\"input_preprocessing_specs\":{},\"dump\":null,\"scaler\":\"NORMALIZE\",\"output_scaler\":\"STANDARDIZE\",\"kernel\":{\"type\":\"RBFKernel\",\"features\":null,\"ard\":true,\"lengthscale_prior\":{\"type\":\"DimensionalityScaledLogNormalPrior\",\"loc\":1.4142135623730951,\"loc_scaling\":0.5,\"scale\":1.7320508075688772,\"scale_scaling\":0.0}},\"noise_prior\":{\"type\":\"LogNormalPrior\",\"loc\":-4.0,\"scale\":1.0}}'"
      ]
     },
     "execution_count": null,
     "metadata": {},
     "output_type": "execute_result"
    }
   ],
   "source": [
    "# we setup the data model, here a Single Task GP\n",
    "surrogate_data = SingleTaskGPSurrogate(inputs=input_features, outputs=output_features)\n",
    "\n",
    "# we generate the json spec\n",
    "jspec = surrogate_data.model_dump_json()\n",
    "\n",
    "jspec"
   ]
  },
  {
   "attachments": {},
   "cell_type": "markdown",
   "id": "11",
   "metadata": {
    "papermill": {
     "duration": 0.003105,
     "end_time": "2024-10-10T20:36:38.900999",
     "exception": false,
     "start_time": "2024-10-10T20:36:38.897894",
     "status": "completed"
    },
    "tags": []
   },
   "source": [
    "Load it from the spec"
   ]
  },
  {
   "cell_type": "code",
   "execution_count": null,
   "id": "12",
   "metadata": {
    "papermill": {
     "duration": 0.081247,
     "end_time": "2024-10-10T20:36:38.985423",
     "exception": false,
     "start_time": "2024-10-10T20:36:38.904176",
     "status": "completed"
    },
    "tags": []
   },
   "outputs": [],
   "source": [
    "surrogate_data = TypeAdapter(AnySurrogate).validate_json(jspec)"
   ]
  },
  {
   "attachments": {},
   "cell_type": "markdown",
   "id": "13",
   "metadata": {
    "papermill": {
     "duration": 0.003013,
     "end_time": "2024-10-10T20:36:38.991994",
     "exception": false,
     "start_time": "2024-10-10T20:36:38.988981",
     "status": "completed"
    },
    "tags": []
   },
   "source": [
    "Map it "
   ]
  },
  {
   "cell_type": "code",
   "execution_count": null,
   "id": "14",
   "metadata": {
    "papermill": {
     "duration": 0.006211,
     "end_time": "2024-10-10T20:36:39.001350",
     "exception": false,
     "start_time": "2024-10-10T20:36:38.995139",
     "status": "completed"
    },
    "tags": []
   },
   "outputs": [],
   "source": [
    "surrogate = surrogates.map(surrogate_data)"
   ]
  },
  {
   "attachments": {},
   "cell_type": "markdown",
   "id": "15",
   "metadata": {
    "papermill": {
     "duration": 0.002898,
     "end_time": "2024-10-10T20:36:39.007558",
     "exception": false,
     "start_time": "2024-10-10T20:36:39.004660",
     "status": "completed"
    },
    "tags": []
   },
   "source": [
    "Fit it. This is not 100% finished. In the future we will call here hyperfit which will return the CV results etc. This has to be finished. So ignore this for now and just call fit."
   ]
  },
  {
   "cell_type": "code",
   "execution_count": null,
   "id": "16",
   "metadata": {
    "papermill": {
     "duration": 0.239008,
     "end_time": "2024-10-10T20:36:39.250076",
     "exception": true,
     "start_time": "2024-10-10T20:36:39.011068",
     "status": "failed"
    },
    "tags": []
   },
   "outputs": [],
   "source": [
    "surrogate.fit(experiments=experiments)"
   ]
  },
  {
   "attachments": {},
   "cell_type": "markdown",
   "id": "17",
   "metadata": {
    "papermill": {
     "duration": null,
     "end_time": null,
     "exception": null,
     "start_time": null,
     "status": "pending"
    },
    "tags": []
   },
   "source": [
    "Dump it."
   ]
  },
  {
   "cell_type": "code",
   "execution_count": null,
   "id": "18",
   "metadata": {
    "papermill": {
     "duration": null,
     "end_time": null,
     "exception": null,
     "start_time": null,
     "status": "pending"
    },
    "tags": []
   },
   "outputs": [],
   "source": [
    "# dump it\n",
    "dump = surrogate.dumps()"
   ]
  },
  {
   "attachments": {},
   "cell_type": "markdown",
   "id": "19",
   "metadata": {
    "papermill": {
     "duration": null,
     "end_time": null,
     "exception": null,
     "start_time": null,
     "status": "pending"
    },
    "tags": []
   },
   "source": [
    "Make predictions."
   ]
  },
  {
   "cell_type": "code",
   "execution_count": null,
   "id": "20",
   "metadata": {
    "papermill": {
     "duration": null,
     "end_time": null,
     "exception": null,
     "start_time": null,
     "status": "pending"
    },
    "tags": []
   },
   "outputs": [],
   "source": [
    "# predict with it\n",
    "df_predictions = surrogate.predict(experiments)\n",
    "# transform to spec\n",
    "predictions = surrogate.to_predictions(predictions=df_predictions)"
   ]
  },
  {
   "attachments": {},
   "cell_type": "markdown",
   "id": "21",
   "metadata": {
    "papermill": {
     "duration": null,
     "end_time": null,
     "exception": null,
     "start_time": null,
     "status": "pending"
    },
    "tags": []
   },
   "source": [
    "Load again from spec and dump and make predictions."
   ]
  },
  {
   "cell_type": "code",
   "execution_count": null,
   "id": "22",
   "metadata": {
    "papermill": {
     "duration": null,
     "end_time": null,
     "exception": null,
     "start_time": null,
     "status": "pending"
    },
    "tags": []
   },
   "outputs": [
    {
     "data": {
      "text/plain": [
       "True"
      ]
     },
     "execution_count": null,
     "metadata": {},
     "output_type": "execute_result"
    }
   ],
   "source": [
    "surrogate_data = TypeAdapter(AnySurrogate).validate_json(jspec)\n",
    "surrogate = surrogates.map(surrogate_data)\n",
    "surrogate.loads(dump)\n",
    "\n",
    "# predict with it\n",
    "df_predictions2 = surrogate.predict(experiments)\n",
    "# transform to spec\n",
    "predictions2 = surrogate.to_predictions(predictions=df_predictions2)\n",
    "\n",
    "# check for equality\n",
    "predictions == predictions2"
   ]
  },
  {
   "attachments": {},
   "cell_type": "markdown",
   "id": "23",
   "metadata": {
    "papermill": {
     "duration": null,
     "end_time": null,
     "exception": null,
     "start_time": null,
     "status": "pending"
    },
    "tags": []
   },
   "source": [
    "### Random Forest\n",
    "\n",
    "Generate the json spec"
   ]
  },
  {
   "cell_type": "code",
   "execution_count": null,
   "id": "24",
   "metadata": {
    "papermill": {
     "duration": null,
     "end_time": null,
     "exception": null,
     "start_time": null,
     "status": "pending"
    },
    "tags": []
   },
   "outputs": [
    {
     "name": "stderr",
     "output_type": "stream",
     "text": [
      "/tmp/ipykernel_21103/942209632.py:9: PydanticDeprecatedSince20: The `json` method is deprecated; use `model_dump_json` instead. Deprecated in Pydantic V2.0 to be removed in V3.0. See Pydantic V2 Migration Guide at https://errors.pydantic.dev/2.10/migration/\n",
      "  jspec = surrogate_data.json()\n"
     ]
    },
    {
     "data": {
      "text/plain": [
       "'{\"hyperconfig\":null,\"aggregations\":null,\"type\":\"RandomForestSurrogate\",\"inputs\":{\"type\":\"Inputs\",\"features\":[{\"type\":\"ContinuousInput\",\"key\":\"x_1\",\"unit\":null,\"bounds\":[-6.0,6.0],\"local_relative_bounds\":null,\"stepsize\":null},{\"type\":\"ContinuousInput\",\"key\":\"x_2\",\"unit\":null,\"bounds\":[-6.0,6.0],\"local_relative_bounds\":null,\"stepsize\":null}]},\"outputs\":{\"type\":\"Outputs\",\"features\":[{\"type\":\"ContinuousOutput\",\"key\":\"y\",\"unit\":null,\"objective\":{\"type\":\"MinimizeObjective\",\"w\":1.0,\"bounds\":[0.0,1.0]}}]},\"input_preprocessing_specs\":{},\"dump\":null,\"scaler\":\"NORMALIZE\",\"output_scaler\":\"STANDARDIZE\",\"n_estimators\":100,\"criterion\":\"squared_error\",\"max_depth\":null,\"min_samples_split\":2,\"min_samples_leaf\":1,\"min_weight_fraction_leaf\":0.0,\"max_features\":1.0,\"max_leaf_nodes\":null,\"min_impurity_decrease\":0.0,\"bootstrap\":true,\"oob_score\":false,\"random_state\":42,\"ccp_alpha\":0.0,\"max_samples\":null}'"
      ]
     },
     "execution_count": null,
     "metadata": {},
     "output_type": "execute_result"
    }
   ],
   "source": [
    "# we setup the data model, here a Single Task GP\n",
    "surrogate_data = RandomForestSurrogate(\n",
    "    inputs=input_features,\n",
    "    outputs=output_features,\n",
    "    random_state=42,\n",
    ")\n",
    "\n",
    "# we generate the json spec\n",
    "jspec = surrogate_data.model_dump_json()\n",
    "\n",
    "jspec"
   ]
  },
  {
   "cell_type": "code",
   "execution_count": null,
   "id": "25",
   "metadata": {
    "papermill": {
     "duration": null,
     "end_time": null,
     "exception": null,
     "start_time": null,
     "status": "pending"
    },
    "tags": []
   },
   "outputs": [
    {
     "name": "stderr",
     "output_type": "stream",
     "text": [
      "/usr/local/lib/python3.10/dist-packages/botorch/models/ensemble.py:69: RuntimeWarning: Could not update `train_inputs` with transformed inputs since _RandomForest does not have a `train_inputs` attribute. Make sure that the `input_transform` is applied to both the train inputs and test inputs.\n",
      "  self.eval()\n",
      "/usr/local/lib/python3.10/dist-packages/torch/nn/modules/module.py:2862: RuntimeWarning: Could not update `train_inputs` with transformed inputs since _RandomForest does not have a `train_inputs` attribute. Make sure that the `input_transform` is applied to both the train inputs and test inputs.\n",
      "  return self.train(False)\n",
      "/usr/local/lib/python3.10/dist-packages/botorch/models/ensemble.py:69: RuntimeWarning: Could not update `train_inputs` with transformed inputs since _RandomForest does not have a `train_inputs` attribute. Make sure that the `input_transform` is applied to both the train inputs and test inputs.\n",
      "  self.eval()\n",
      "/usr/local/lib/python3.10/dist-packages/torch/nn/modules/module.py:2862: RuntimeWarning: Could not update `train_inputs` with transformed inputs since _RandomForest does not have a `train_inputs` attribute. Make sure that the `input_transform` is applied to both the train inputs and test inputs.\n",
      "  return self.train(False)\n"
     ]
    }
   ],
   "source": [
    "# Load it from the spec\n",
    "surrogate_data = TypeAdapter(AnySurrogate).validate_json(jspec)\n",
    "# Map it\n",
    "surrogate = surrogates.map(surrogate_data)\n",
    "# Fit it\n",
    "surrogate.fit(experiments=experiments)\n",
    "# dump it\n",
    "dump = surrogate.dumps()\n",
    "# predict with it\n",
    "df_predictions = surrogate.predict(experiments)\n",
    "# transform to spec\n",
    "predictions = surrogate.to_predictions(predictions=df_predictions)"
   ]
  },
  {
   "cell_type": "code",
   "execution_count": null,
   "id": "26",
   "metadata": {
    "papermill": {
     "duration": null,
     "end_time": null,
     "exception": null,
     "start_time": null,
     "status": "pending"
    },
    "tags": []
   },
   "outputs": [
    {
     "name": "stderr",
     "output_type": "stream",
     "text": [
      "/usr/local/lib/python3.10/dist-packages/botorch/models/ensemble.py:69: RuntimeWarning: Could not update `train_inputs` with transformed inputs since _RandomForest does not have a `train_inputs` attribute. Make sure that the `input_transform` is applied to both the train inputs and test inputs.\n",
      "  self.eval()\n",
      "/usr/local/lib/python3.10/dist-packages/torch/nn/modules/module.py:2862: RuntimeWarning: Could not update `train_inputs` with transformed inputs since _RandomForest does not have a `train_inputs` attribute. Make sure that the `input_transform` is applied to both the train inputs and test inputs.\n",
      "  return self.train(False)\n",
      "/usr/local/lib/python3.10/dist-packages/botorch/models/ensemble.py:69: RuntimeWarning: Could not update `train_inputs` with transformed inputs since _RandomForest does not have a `train_inputs` attribute. Make sure that the `input_transform` is applied to both the train inputs and test inputs.\n",
      "  self.eval()\n",
      "/usr/local/lib/python3.10/dist-packages/torch/nn/modules/module.py:2862: RuntimeWarning: Could not update `train_inputs` with transformed inputs since _RandomForest does not have a `train_inputs` attribute. Make sure that the `input_transform` is applied to both the train inputs and test inputs.\n",
      "  return self.train(False)\n"
     ]
    },
    {
     "data": {
      "text/plain": [
       "True"
      ]
     },
     "execution_count": null,
     "metadata": {},
     "output_type": "execute_result"
    }
   ],
   "source": [
    "surrogate_data = TypeAdapter(AnySurrogate).validate_json(jspec)\n",
    "surrogate = surrogates.map(surrogate_data)\n",
    "surrogate.loads(dump)\n",
    "\n",
    "# predict with it\n",
    "df_predictions2 = surrogate.predict(experiments)\n",
    "# transform to spec\n",
    "predictions2 = surrogate.to_predictions(predictions=df_predictions2)\n",
    "\n",
    "# check for equality\n",
    "predictions == predictions2"
   ]
  },
  {
   "attachments": {},
   "cell_type": "markdown",
   "id": "27",
   "metadata": {
    "papermill": {
     "duration": null,
     "end_time": null,
     "exception": null,
     "start_time": null,
     "status": "pending"
    },
    "tags": []
   },
   "source": [
    "### MLP Ensemble\n",
    "\n",
    "Generate the json spec"
   ]
  },
  {
   "cell_type": "code",
   "execution_count": null,
   "id": "28",
   "metadata": {
    "papermill": {
     "duration": null,
     "end_time": null,
     "exception": null,
     "start_time": null,
     "status": "pending"
    },
    "tags": []
   },
   "outputs": [
    {
     "name": "stderr",
     "output_type": "stream",
     "text": [
      "/tmp/ipykernel_21103/915472921.py:9: PydanticDeprecatedSince20: The `json` method is deprecated; use `model_dump_json` instead. Deprecated in Pydantic V2.0 to be removed in V3.0. See Pydantic V2 Migration Guide at https://errors.pydantic.dev/2.10/migration/\n",
      "  jspec = surrogate_data.json()\n"
     ]
    },
    {
     "data": {
      "text/plain": [
       "'{\"hyperconfig\":null,\"aggregations\":null,\"type\":\"RegressionMLPEnsemble\",\"inputs\":{\"type\":\"Inputs\",\"features\":[{\"type\":\"ContinuousInput\",\"key\":\"x_1\",\"unit\":null,\"bounds\":[-6.0,6.0],\"local_relative_bounds\":null,\"stepsize\":null},{\"type\":\"ContinuousInput\",\"key\":\"x_2\",\"unit\":null,\"bounds\":[-6.0,6.0],\"local_relative_bounds\":null,\"stepsize\":null}]},\"outputs\":{\"type\":\"Outputs\",\"features\":[{\"type\":\"ContinuousOutput\",\"key\":\"y\",\"unit\":null,\"objective\":{\"type\":\"MinimizeObjective\",\"w\":1.0,\"bounds\":[0.0,1.0]}}]},\"input_preprocessing_specs\":{},\"dump\":null,\"scaler\":\"IDENTITY\",\"output_scaler\":\"IDENTITY\",\"n_estimators\":2,\"hidden_layer_sizes\":[100],\"activation\":\"relu\",\"dropout\":0.0,\"batch_size\":10,\"n_epochs\":200,\"lr\":0.0001,\"weight_decay\":0.0,\"subsample_fraction\":1.0,\"shuffle\":true,\"final_activation\":\"identity\"}'"
      ]
     },
     "execution_count": null,
     "metadata": {},
     "output_type": "execute_result"
    }
   ],
   "source": [
    "# we setup the data model, here a Single Task GP\n",
    "surrogate_data = RegressionMLPEnsemble(\n",
    "    inputs=input_features,\n",
    "    outputs=output_features,\n",
    "    n_estimators=2,\n",
    ")\n",
    "\n",
    "# we generate the json spec\n",
    "jspec = surrogate_data.model_dump_json()\n",
    "\n",
    "jspec"
   ]
  },
  {
   "cell_type": "code",
   "execution_count": null,
   "id": "29",
   "metadata": {
    "papermill": {
     "duration": null,
     "end_time": null,
     "exception": null,
     "start_time": null,
     "status": "pending"
    },
    "tags": []
   },
   "outputs": [],
   "source": [
    "# Load it from the spec\n",
    "surrogate_data = TypeAdapter(AnySurrogate).validate_json(jspec)\n",
    "# Map it\n",
    "surrogate = surrogates.map(surrogate_data)\n",
    "# Fit it\n",
    "surrogate.fit(experiments=experiments)\n",
    "# dump it\n",
    "dump = surrogate.dumps()\n",
    "# predict with it\n",
    "df_predictions = surrogate.predict(experiments)\n",
    "# transform to spec\n",
    "predictions = surrogate.to_predictions(predictions=df_predictions)"
   ]
  },
  {
   "cell_type": "code",
   "execution_count": null,
   "id": "30",
   "metadata": {
    "papermill": {
     "duration": null,
     "end_time": null,
     "exception": null,
     "start_time": null,
     "status": "pending"
    },
    "tags": []
   },
   "outputs": [
    {
     "data": {
      "text/plain": [
       "True"
      ]
     },
     "execution_count": null,
     "metadata": {},
     "output_type": "execute_result"
    }
   ],
   "source": [
    "surrogate_data = TypeAdapter(AnySurrogate).validate_json(jspec)\n",
    "surrogate = surrogates.map(surrogate_data)\n",
    "surrogate.loads(dump)\n",
    "\n",
    "# predict with it\n",
    "df_predictions2 = surrogate.predict(experiments)\n",
    "# transform to spec\n",
    "predictions2 = surrogate.to_predictions(predictions=df_predictions2)\n",
    "\n",
    "# check for equality\n",
    "predictions == predictions2"
   ]
  },
  {
   "attachments": {},
   "cell_type": "markdown",
   "id": "31",
   "metadata": {
    "papermill": {
     "duration": null,
     "end_time": null,
     "exception": null,
     "start_time": null,
     "status": "pending"
    },
    "tags": []
   },
   "source": [
    "## Empirical Surrogate\n",
    "\n",
    "The empirical model is special as it has per default no fit and you need cloudpickle. There can be empirical models which implement a fit, but for this they also have to inherit from `Trainable`. The current example is the default without any fit functionality."
   ]
  },
  {
   "cell_type": "code",
   "execution_count": null,
   "id": "32",
   "metadata": {
    "papermill": {
     "duration": null,
     "end_time": null,
     "exception": null,
     "start_time": null,
     "status": "pending"
    },
    "tags": []
   },
   "outputs": [],
   "source": [
    "from botorch.models.deterministic import DeterministicModel\n",
    "from torch import Tensor\n",
    "\n",
    "\n",
    "class HimmelblauModel(DeterministicModel):\n",
    "    def __init__(self):\n",
    "        super().__init__()\n",
    "        self._num_outputs = 1\n",
    "\n",
    "    def forward(self, X: Tensor) -> Tensor:\n",
    "        return (\n",
    "            (X[..., 0] ** 2 + X[..., 1] - 11.0) ** 2\n",
    "            + (X[..., 0] + X[..., 1] ** 2 - 7.0) ** 2\n",
    "        ).unsqueeze(-1)"
   ]
  },
  {
   "cell_type": "code",
   "execution_count": null,
   "id": "33",
   "metadata": {
    "papermill": {
     "duration": null,
     "end_time": null,
     "exception": null,
     "start_time": null,
     "status": "pending"
    },
    "tags": []
   },
   "outputs": [
    {
     "data": {
      "text/plain": [
       "'{\"type\":\"EmpiricalSurrogate\",\"inputs\":{\"type\":\"Inputs\",\"features\":[{\"type\":\"ContinuousInput\",\"key\":\"x_1\",\"unit\":null,\"bounds\":[-6.0,6.0],\"local_relative_bounds\":null,\"stepsize\":null},{\"type\":\"ContinuousInput\",\"key\":\"x_2\",\"unit\":null,\"bounds\":[-6.0,6.0],\"local_relative_bounds\":null,\"stepsize\":null}]},\"outputs\":{\"type\":\"Outputs\",\"features\":[{\"type\":\"ContinuousOutput\",\"key\":\"y\",\"unit\":null,\"objective\":{\"type\":\"MinimizeObjective\",\"w\":1.0,\"bounds\":[0.0,1.0]}}]},\"input_preprocessing_specs\":{},\"dump\":null}'"
      ]
     },
     "execution_count": null,
     "metadata": {},
     "output_type": "execute_result"
    }
   ],
   "source": [
    "# we setup the data model, here a Single Task GP\n",
    "surrogate_data = EmpiricalSurrogate(\n",
    "    inputs=input_features,\n",
    "    outputs=output_features,\n",
    ")\n",
    "\n",
    "# we generate the json spec\n",
    "jspec = surrogate_data.model_dump_json()\n",
    "\n",
    "jspec"
   ]
  },
  {
   "cell_type": "code",
   "execution_count": null,
   "id": "34",
   "metadata": {
    "papermill": {
     "duration": null,
     "end_time": null,
     "exception": null,
     "start_time": null,
     "status": "pending"
    },
    "tags": []
   },
   "outputs": [],
   "source": [
    "# Load it from the spec\n",
    "surrogate_data = TypeAdapter(AnySurrogate).validate_json(jspec)\n",
    "# Map it\n",
    "surrogate = surrogates.map(surrogate_data)\n",
    "# attach the actual model to it\n",
    "surrogate.model = HimmelblauModel()\n",
    "# dump it\n",
    "dump = surrogate.dumps()\n",
    "# predict with it\n",
    "df_predictions = surrogate.predict(experiments)\n",
    "# transform to spec\n",
    "predictions = surrogate.to_predictions(predictions=df_predictions)"
   ]
  },
  {
   "cell_type": "code",
   "execution_count": null,
   "id": "35",
   "metadata": {
    "papermill": {
     "duration": null,
     "end_time": null,
     "exception": null,
     "start_time": null,
     "status": "pending"
    },
    "tags": []
   },
   "outputs": [
    {
     "data": {
      "text/plain": [
       "True"
      ]
     },
     "execution_count": null,
     "metadata": {},
     "output_type": "execute_result"
    }
   ],
   "source": [
    "surrogate_data = TypeAdapter(AnySurrogate).validate_json(jspec)\n",
    "surrogate = surrogates.map(surrogate_data)\n",
    "surrogate.loads(dump)\n",
    "\n",
    "# predict with it\n",
    "df_predictions2 = surrogate.predict(experiments)\n",
    "# transform to spec\n",
    "predictions2 = surrogate.to_predictions(predictions=df_predictions2)\n",
    "\n",
    "# check for equality\n",
    "predictions == predictions2"
   ]
  },
  {
   "attachments": {},
   "cell_type": "markdown",
   "id": "36",
   "metadata": {
    "papermill": {
     "duration": null,
     "end_time": null,
     "exception": null,
     "start_time": null,
     "status": "pending"
    },
    "tags": []
   },
   "source": [
    "### Mixed GP\n",
    "\n",
    "Generate data for a mixed problem."
   ]
  },
  {
   "cell_type": "code",
   "execution_count": null,
   "id": "37",
   "metadata": {
    "papermill": {
     "duration": null,
     "end_time": null,
     "exception": null,
     "start_time": null,
     "status": "pending"
    },
    "tags": []
   },
   "outputs": [
    {
     "data": {
      "text/html": [
       "<div>\n",
       "<style scoped>\n",
       "    .dataframe tbody tr th:only-of-type {\n",
       "        vertical-align: middle;\n",
       "    }\n",
       "\n",
       "    .dataframe tbody tr th {\n",
       "        vertical-align: top;\n",
       "    }\n",
       "\n",
       "    .dataframe thead th {\n",
       "        text-align: right;\n",
       "    }\n",
       "</style>\n",
       "<table border=\"1\" class=\"dataframe\">\n",
       "  <thead>\n",
       "    <tr style=\"text-align: right;\">\n",
       "      <th></th>\n",
       "      <th>base_eq</th>\n",
       "      <th>t_res</th>\n",
       "      <th>temperature</th>\n",
       "      <th>base</th>\n",
       "      <th>catalyst</th>\n",
       "      <th>yield</th>\n",
       "      <th>cost</th>\n",
       "      <th>valid_cost</th>\n",
       "      <th>valid_yield</th>\n",
       "    </tr>\n",
       "  </thead>\n",
       "  <tbody>\n",
       "    <tr>\n",
       "      <th>0</th>\n",
       "      <td>1.374247</td>\n",
       "      <td>492.599785</td>\n",
       "      <td>58.420573</td>\n",
       "      <td>TEA</td>\n",
       "      <td>tBuBrettPhos</td>\n",
       "      <td>0.004352</td>\n",
       "      <td>0.278771</td>\n",
       "      <td>1</td>\n",
       "      <td>1</td>\n",
       "    </tr>\n",
       "    <tr>\n",
       "      <th>1</th>\n",
       "      <td>1.063386</td>\n",
       "      <td>1731.091276</td>\n",
       "      <td>56.750287</td>\n",
       "      <td>TEA</td>\n",
       "      <td>tBuBrettPhos</td>\n",
       "      <td>0.057925</td>\n",
       "      <td>0.278657</td>\n",
       "      <td>1</td>\n",
       "      <td>1</td>\n",
       "    </tr>\n",
       "    <tr>\n",
       "      <th>2</th>\n",
       "      <td>2.491246</td>\n",
       "      <td>1551.254392</td>\n",
       "      <td>93.990817</td>\n",
       "      <td>BTMG</td>\n",
       "      <td>tBuBrettPhos</td>\n",
       "      <td>1.029776</td>\n",
       "      <td>0.387088</td>\n",
       "      <td>1</td>\n",
       "      <td>1</td>\n",
       "    </tr>\n",
       "    <tr>\n",
       "      <th>3</th>\n",
       "      <td>2.169111</td>\n",
       "      <td>1183.468590</td>\n",
       "      <td>67.968924</td>\n",
       "      <td>TMG</td>\n",
       "      <td>tBuXPhos</td>\n",
       "      <td>0.366023</td>\n",
       "      <td>0.248318</td>\n",
       "      <td>1</td>\n",
       "      <td>1</td>\n",
       "    </tr>\n",
       "    <tr>\n",
       "      <th>4</th>\n",
       "      <td>1.804704</td>\n",
       "      <td>1245.839979</td>\n",
       "      <td>54.131462</td>\n",
       "      <td>BTMG</td>\n",
       "      <td>tBuXPhos</td>\n",
       "      <td>0.927048</td>\n",
       "      <td>0.327069</td>\n",
       "      <td>1</td>\n",
       "      <td>1</td>\n",
       "    </tr>\n",
       "    <tr>\n",
       "      <th>5</th>\n",
       "      <td>1.810389</td>\n",
       "      <td>670.955481</td>\n",
       "      <td>57.040379</td>\n",
       "      <td>BTMG</td>\n",
       "      <td>tBuXPhos</td>\n",
       "      <td>0.916650</td>\n",
       "      <td>0.327317</td>\n",
       "      <td>1</td>\n",
       "      <td>1</td>\n",
       "    </tr>\n",
       "    <tr>\n",
       "      <th>6</th>\n",
       "      <td>1.801976</td>\n",
       "      <td>161.034233</td>\n",
       "      <td>73.525948</td>\n",
       "      <td>TEA</td>\n",
       "      <td>AlPhos</td>\n",
       "      <td>0.078976</td>\n",
       "      <td>0.419667</td>\n",
       "      <td>1</td>\n",
       "      <td>1</td>\n",
       "    </tr>\n",
       "    <tr>\n",
       "      <th>7</th>\n",
       "      <td>1.376320</td>\n",
       "      <td>1195.753101</td>\n",
       "      <td>73.906544</td>\n",
       "      <td>BTMG</td>\n",
       "      <td>tBuBrettPhos</td>\n",
       "      <td>0.986825</td>\n",
       "      <td>0.338388</td>\n",
       "      <td>1</td>\n",
       "      <td>1</td>\n",
       "    </tr>\n",
       "    <tr>\n",
       "      <th>8</th>\n",
       "      <td>1.692970</td>\n",
       "      <td>1212.800306</td>\n",
       "      <td>67.439643</td>\n",
       "      <td>DBU</td>\n",
       "      <td>AlPhos</td>\n",
       "      <td>0.910160</td>\n",
       "      <td>0.420860</td>\n",
       "      <td>1</td>\n",
       "      <td>1</td>\n",
       "    </tr>\n",
       "    <tr>\n",
       "      <th>9</th>\n",
       "      <td>1.612036</td>\n",
       "      <td>1584.051631</td>\n",
       "      <td>52.741135</td>\n",
       "      <td>DBU</td>\n",
       "      <td>tBuXPhos</td>\n",
       "      <td>0.425525</td>\n",
       "      <td>0.250000</td>\n",
       "      <td>1</td>\n",
       "      <td>1</td>\n",
       "    </tr>\n",
       "  </tbody>\n",
       "</table>\n",
       "</div>"
      ],
      "text/plain": [
       "    base_eq        t_res  temperature  base      catalyst     yield      cost  \\\n",
       "0  1.374247   492.599785    58.420573   TEA  tBuBrettPhos  0.004352  0.278771   \n",
       "1  1.063386  1731.091276    56.750287   TEA  tBuBrettPhos  0.057925  0.278657   \n",
       "2  2.491246  1551.254392    93.990817  BTMG  tBuBrettPhos  1.029776  0.387088   \n",
       "3  2.169111  1183.468590    67.968924   TMG      tBuXPhos  0.366023  0.248318   \n",
       "4  1.804704  1245.839979    54.131462  BTMG      tBuXPhos  0.927048  0.327069   \n",
       "5  1.810389   670.955481    57.040379  BTMG      tBuXPhos  0.916650  0.327317   \n",
       "6  1.801976   161.034233    73.525948   TEA        AlPhos  0.078976  0.419667   \n",
       "7  1.376320  1195.753101    73.906544  BTMG  tBuBrettPhos  0.986825  0.338388   \n",
       "8  1.692970  1212.800306    67.439643   DBU        AlPhos  0.910160  0.420860   \n",
       "9  1.612036  1584.051631    52.741135   DBU      tBuXPhos  0.425525  0.250000   \n",
       "\n",
       "   valid_cost  valid_yield  \n",
       "0           1            1  \n",
       "1           1            1  \n",
       "2           1            1  \n",
       "3           1            1  \n",
       "4           1            1  \n",
       "5           1            1  \n",
       "6           1            1  \n",
       "7           1            1  \n",
       "8           1            1  \n",
       "9           1            1  "
      ]
     },
     "execution_count": null,
     "metadata": {},
     "output_type": "execute_result"
    }
   ],
   "source": [
    "benchmark = CrossCoupling()\n",
    "samples = benchmark.domain.inputs.sample(n=50)\n",
    "experiments = benchmark.f(samples, return_complete=True)\n",
    "\n",
    "experiments.head(10)"
   ]
  },
  {
   "cell_type": "code",
   "execution_count": null,
   "id": "38",
   "metadata": {
    "papermill": {
     "duration": null,
     "end_time": null,
     "exception": null,
     "start_time": null,
     "status": "pending"
    },
    "tags": []
   },
   "outputs": [
    {
     "name": "stderr",
     "output_type": "stream",
     "text": [
      "/tmp/ipykernel_21103/130712100.py:9: PydanticDeprecatedSince20: The `json` method is deprecated; use `model_dump_json` instead. Deprecated in Pydantic V2.0 to be removed in V3.0. See Pydantic V2 Migration Guide at https://errors.pydantic.dev/2.10/migration/\n",
      "  jspec = surrogate_data.json()\n"
     ]
    },
    {
     "data": {
      "text/plain": [
       "'{\"hyperconfig\":{\"type\":\"MixedSingleTaskGPHyperconfig\",\"hyperstrategy\":\"FractionalFactorialStrategy\",\"inputs\":{\"type\":\"Inputs\",\"features\":[{\"type\":\"CategoricalInput\",\"key\":\"continuous_kernel\",\"categories\":[\"rbf\",\"matern_1.5\",\"matern_2.5\"],\"allowed\":[true,true,true]},{\"type\":\"CategoricalInput\",\"key\":\"prior\",\"categories\":[\"mbo\",\"botorch\"],\"allowed\":[true,true]},{\"type\":\"CategoricalInput\",\"key\":\"ard\",\"categories\":[\"True\",\"False\"],\"allowed\":[true,true]}]},\"n_iterations\":null,\"target_metric\":\"MAE\"},\"aggregations\":null,\"type\":\"MixedSingleTaskGPSurrogate\",\"inputs\":{\"type\":\"Inputs\",\"features\":[{\"type\":\"CategoricalDescriptorInput\",\"key\":\"catalyst\",\"categories\":[\"tBuXPhos\",\"tBuBrettPhos\",\"AlPhos\"],\"allowed\":[true,true,true],\"descriptors\":[\"area_cat\",\"M2_cat\"],\"values\":[[460.7543,67.2057],[518.8408,89.8738],[819.933,129.0808]]},{\"type\":\"CategoricalDescriptorInput\",\"key\":\"base\",\"categories\":[\"TEA\",\"TMG\",\"BTMG\",\"DBU\"],\"allowed\":[true,true,true,true],\"descriptors\":[\"area\",\"M2\"],\"values\":[[162.2992,25.8165],[165.5447,81.4847],[227.3523,30.554],[192.4693,59.8367]]},{\"type\":\"ContinuousInput\",\"key\":\"base_eq\",\"unit\":null,\"bounds\":[1.0,2.5],\"local_relative_bounds\":null,\"stepsize\":null},{\"type\":\"ContinuousInput\",\"key\":\"temperature\",\"unit\":null,\"bounds\":[30.0,100.0],\"local_relative_bounds\":null,\"stepsize\":null},{\"type\":\"ContinuousInput\",\"key\":\"t_res\",\"unit\":null,\"bounds\":[60.0,1800.0],\"local_relative_bounds\":null,\"stepsize\":null}]},\"outputs\":{\"type\":\"Outputs\",\"features\":[{\"type\":\"ContinuousOutput\",\"key\":\"yield\",\"unit\":null,\"objective\":{\"type\":\"MaximizeObjective\",\"w\":1.0,\"bounds\":[0.0,1.0]}}]},\"input_preprocessing_specs\":{\"catalyst\":\"ONE_HOT\",\"base\":\"DESCRIPTOR\"},\"dump\":null,\"scaler\":\"NORMALIZE\",\"output_scaler\":\"STANDARDIZE\",\"continuous_kernel\":{\"type\":\"MaternKernel\",\"features\":null,\"ard\":true,\"nu\":2.5,\"lengthscale_prior\":{\"type\":\"GammaPrior\",\"concentration\":3.0,\"rate\":6.0}},\"categorical_kernel\":{\"type\":\"HammingDistanceKernel\",\"features\":null,\"ard\":true},\"noise_prior\":{\"type\":\"GammaPrior\",\"concentration\":1.1,\"rate\":0.05}}'"
      ]
     },
     "execution_count": null,
     "metadata": {},
     "output_type": "execute_result"
    }
   ],
   "source": [
    "# we setup the data model, here a Single Task GP\n",
    "surrogate_data = MixedSingleTaskGPSurrogate(\n",
    "    inputs=benchmark.domain.inputs,\n",
    "    outputs=Outputs(features=[benchmark.domain.outputs.features[0]]),\n",
    "    input_preprocessing_specs={\"catalyst\": CategoricalEncodingEnum.ONE_HOT},\n",
    ")\n",
    "\n",
    "# we generate the json spec\n",
    "jspec = surrogate_data.model_dump_json()\n",
    "\n",
    "jspec"
   ]
  },
  {
   "cell_type": "code",
   "execution_count": null,
   "id": "39",
   "metadata": {
    "papermill": {
     "duration": null,
     "end_time": null,
     "exception": null,
     "start_time": null,
     "status": "pending"
    },
    "tags": []
   },
   "outputs": [],
   "source": [
    "# Load it from the spec\n",
    "surrogate_data = TypeAdapter(AnySurrogate).validate_json(jspec)\n",
    "# Map it\n",
    "surrogate = surrogates.map(surrogate_data)\n",
    "# Fit it\n",
    "surrogate.fit(experiments=experiments)\n",
    "# dump it\n",
    "dump = surrogate.dumps()\n",
    "# predict with it\n",
    "df_predictions = surrogate.predict(experiments)\n",
    "# transform to spec\n",
    "predictions = surrogate.to_predictions(predictions=df_predictions)"
   ]
  },
  {
   "cell_type": "code",
   "execution_count": null,
   "id": "40",
   "metadata": {
    "papermill": {
     "duration": null,
     "end_time": null,
     "exception": null,
     "start_time": null,
     "status": "pending"
    },
    "tags": []
   },
   "outputs": [
    {
     "data": {
      "text/plain": [
       "True"
      ]
     },
     "execution_count": null,
     "metadata": {},
     "output_type": "execute_result"
    }
   ],
   "source": [
    "surrogate_data = TypeAdapter(AnySurrogate).validate_json(jspec)\n",
    "surrogate = surrogates.map(surrogate_data)\n",
    "surrogate.loads(dump)\n",
    "\n",
    "# predict with it\n",
    "df_predictions2 = surrogate.predict(experiments)\n",
    "# transform to spec\n",
    "predictions2 = surrogate.to_predictions(predictions=df_predictions2)\n",
    "\n",
    "# check for equality\n",
    "predictions == predictions2"
   ]
  }
 ],
 "metadata": {
  "kernelspec": {
   "display_name": "Python 3",
   "language": "python",
   "name": "python3"
  },
  "language_info": {
   "codemirror_mode": {
    "name": "ipython",
    "version": 3
   },
   "file_extension": ".py",
   "mimetype": "text/x-python",
   "name": "python",
   "nbconvert_exporter": "python",
   "pygments_lexer": "ipython3",
   "version": "3.10.12"
  },
  "papermill": {
   "default_parameters": {},
   "duration": 4.788119,
   "end_time": "2024-10-10T20:36:39.874745",
   "environment_variables": {},
   "exception": true,
   "parameters": {},
   "start_time": "2024-10-10T20:36:35.086626",
   "version": "2.6.0"
  }
 },
 "nbformat": 4,
 "nbformat_minor": 5
}
