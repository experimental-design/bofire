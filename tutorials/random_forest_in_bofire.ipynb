{
 "cells": [
  {
   "attachments": {},
   "cell_type": "markdown",
   "metadata": {},
   "source": [
    "# Random Forest in BoFire\n",
    "## Imports"
   ]
  },
  {
   "cell_type": "code",
   "execution_count": 1,
   "metadata": {},
   "outputs": [
    {
     "name": "stderr",
     "output_type": "stream",
     "text": [
      "/opt/homebrew/Caskroom/miniforge/base/envs/bofire/lib/python3.10/site-packages/tqdm/auto.py:22: TqdmWarning: IProgress not found. Please update jupyter and ipywidgets. See https://ipywidgets.readthedocs.io/en/stable/user_install.html\n",
      "  from .autonotebook import tqdm as notebook_tqdm\n"
     ]
    }
   ],
   "source": [
    "from bofire.benchmarks.multi import DTLZ2\n",
    "\n",
    "\n",
    "from bofire.data_models.domain.api import Outputs\n",
    "from bofire.data_models.surrogates.api import RandomForestSurrogate, BotorchSurrogates\n",
    "import bofire.surrogates.api as surrogates\n",
    "\n",
    "from bofire.data_models.strategies.api import QnehviStrategy\n",
    "import bofire.strategies.api as strategies"
   ]
  },
  {
   "attachments": {},
   "cell_type": "markdown",
   "metadata": {},
   "source": [
    "## Setup a RF"
   ]
  },
  {
   "cell_type": "code",
   "execution_count": 2,
   "metadata": {},
   "outputs": [
    {
     "data": {
      "text/html": [
       "<div>\n",
       "<style scoped>\n",
       "    .dataframe tbody tr th:only-of-type {\n",
       "        vertical-align: middle;\n",
       "    }\n",
       "\n",
       "    .dataframe tbody tr th {\n",
       "        vertical-align: top;\n",
       "    }\n",
       "\n",
       "    .dataframe thead th {\n",
       "        text-align: right;\n",
       "    }\n",
       "</style>\n",
       "<table border=\"1\" class=\"dataframe\">\n",
       "  <thead>\n",
       "    <tr style=\"text-align: right;\">\n",
       "      <th></th>\n",
       "      <th>MAE</th>\n",
       "      <th>MSD</th>\n",
       "      <th>R2</th>\n",
       "      <th>MAPE</th>\n",
       "      <th>PEARSON</th>\n",
       "      <th>SPEARMAN</th>\n",
       "      <th>FISHER</th>\n",
       "    </tr>\n",
       "  </thead>\n",
       "  <tbody>\n",
       "    <tr>\n",
       "      <th>0</th>\n",
       "      <td>0.136963</td>\n",
       "      <td>0.032584</td>\n",
       "      <td>0.621454</td>\n",
       "      <td>0.355673</td>\n",
       "      <td>0.794675</td>\n",
       "      <td>0.821053</td>\n",
       "      <td>0.000547</td>\n",
       "    </tr>\n",
       "  </tbody>\n",
       "</table>\n",
       "</div>"
      ],
      "text/plain": [
       "        MAE       MSD        R2      MAPE   PEARSON  SPEARMAN    FISHER\n",
       "0  0.136963  0.032584  0.621454  0.355673  0.794675  0.821053  0.000547"
      ]
     },
     "execution_count": 2,
     "metadata": {},
     "output_type": "execute_result"
    }
   ],
   "source": [
    "benchmark = DTLZ2(dim=6)\n",
    "\n",
    "experiments = benchmark.f(benchmark.domain.inputs.sample(20), return_complete=True)\n",
    "\n",
    "# you can use the hyperparams from sklearn\n",
    "rf_data_model = RandomForestSurrogate(\n",
    "    inputs=benchmark.domain.inputs,\n",
    "    outputs=Outputs(features=[benchmark.domain.outputs[0]]),\n",
    "    n_estimators=100\n",
    "    )\n",
    "\n",
    "rf = surrogates.map(rf_data_model)\n",
    "\n",
    "cv_train, cv_test, _ = rf.cross_validate(experiments)\n",
    "\n",
    "cv_test.get_metrics()\n"
   ]
  },
  {
   "cell_type": "markdown",
   "metadata": {},
   "source": [
    "## Setup an optimization"
   ]
  },
  {
   "cell_type": "code",
   "execution_count": 3,
   "metadata": {},
   "outputs": [],
   "source": [
    "benchmark = DTLZ2(dim=6)\n",
    "\n",
    "data_model = QnehviStrategy(domain=benchmark.domain, ref_point={\"f_0\": 1.1, \"f_1\": 1.1}, \n",
    "    surrogate_specs=BotorchSurrogates(surrogates=[\n",
    "        RandomForestSurrogate(\n",
    "            inputs=benchmark.domain.inputs,\n",
    "            outputs=Outputs(features=[benchmark.domain.outputs[0]])), \n",
    "        RandomForestSurrogate(\n",
    "            inputs=benchmark.domain.inputs,\n",
    "            outputs=Outputs(features=[benchmark.domain.outputs[1]])),\n",
    "    ]))\n",
    "\n",
    "recommender = strategies.map(data_model=data_model)\n",
    "\n",
    "experiments = benchmark.f(benchmark.domain.inputs.sample(10), return_complete=True)\n",
    "recommender.tell(experiments=experiments)\n",
    "\n",
    "\n",
    "# currently not supported\n",
    "# for i in range(10):\n",
    "#     samples = benchmark.domain.inputs.sample(512, method=SamplingMethodEnum.SOBOL)\n",
    "#     candidates = recommender.ask(1, candidate_pool=samples)\n",
    "#     candidates = candidates.reset_index(drop=True)\n",
    "#     new_experiments = benchmark.f(candidates[benchmark.domain.inputs.get_keys().copy()], return_complete=True)\n",
    "#     recommender.tell(experiments=new_experiments)\n",
    "\n"
   ]
  },
  {
   "cell_type": "code",
   "execution_count": null,
   "metadata": {},
   "outputs": [],
   "source": []
  }
 ],
 "metadata": {
  "kernelspec": {
   "display_name": "Python 3.8.12 ('everest_env')",
   "language": "python",
   "name": "python3"
  },
  "language_info": {
   "codemirror_mode": {
    "name": "ipython",
    "version": 3
   },
   "file_extension": ".py",
   "mimetype": "text/x-python",
   "name": "python",
   "nbconvert_exporter": "python",
   "pygments_lexer": "ipython3",
   "version": "3.10.9"
  },
  "orig_nbformat": 4,
  "vscode": {
   "interpreter": {
    "hash": "50077122d83430e029bf2362124cf3928cfea0c9d2b42539f789dcb8b3dbe07c"
   }
  }
 },
 "nbformat": 4,
 "nbformat_minor": 2
}
