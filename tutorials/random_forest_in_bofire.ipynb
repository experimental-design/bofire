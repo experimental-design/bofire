{
 "cells": [
  {
   "attachments": {},
   "cell_type": "markdown",
   "metadata": {},
   "source": [
    "# Random Forest in BoFire\n",
    "## Imports"
   ]
  },
  {
   "cell_type": "code",
   "execution_count": 2,
   "metadata": {},
   "outputs": [],
   "source": [
    "from bofire.benchmarks.multi import DTLZ2\n",
    "from bofire.benchmarks.benchmark import run\n",
    "from bofire.utils.multiobjective import compute_hypervolume\n",
    "from bofire.samplers import PolytopeSampler\n",
    "from bofire.strategies.random import RandomStrategy\n",
    "from bofire.domain.domain import Domain\n",
    "from bofire.domain.features import OutputFeatures, ContinuousOutput, ContinuousInput, InputFeatures\n",
    "from bofire.strategies.botorch.qehvi import BoTorchQehviStrategy\n",
    "from functools import partial\n",
    "from bofire.models.random_forest import RandomForest\n",
    "from bofire.models.torch_models import BotorchModels\n",
    "from bofire.utils.enum import SamplingMethodEnum\n",
    "import matplotlib.pyplot as plt\n",
    "\n"
   ]
  },
  {
   "attachments": {},
   "cell_type": "markdown",
   "metadata": {},
   "source": [
    "## Setup a RF"
   ]
  },
  {
   "cell_type": "code",
   "execution_count": 3,
   "metadata": {},
   "outputs": [
    {
     "ename": "ValidationError",
     "evalue": "1 validation error for RandomForest\ntype\n  field required (type=value_error.missing)",
     "output_type": "error",
     "traceback": [
      "\u001b[0;31m---------------------------------------------------------------------------\u001b[0m",
      "\u001b[0;31mValidationError\u001b[0m                           Traceback (most recent call last)",
      "Cell \u001b[0;32mIn [3], line 6\u001b[0m\n\u001b[1;32m      3\u001b[0m experiments \u001b[39m=\u001b[39m benchmark\u001b[39m.\u001b[39mf(benchmark\u001b[39m.\u001b[39mdomain\u001b[39m.\u001b[39minputs\u001b[39m.\u001b[39msample(\u001b[39m20\u001b[39m), return_complete\u001b[39m=\u001b[39m\u001b[39mTrue\u001b[39;00m)\n\u001b[1;32m      5\u001b[0m \u001b[39m# you can use the hyperparams from sklearn\u001b[39;00m\n\u001b[0;32m----> 6\u001b[0m rf \u001b[39m=\u001b[39m RandomForest(\n\u001b[1;32m      7\u001b[0m     input_features\u001b[39m=\u001b[39;49mbenchmark\u001b[39m.\u001b[39;49mdomain\u001b[39m.\u001b[39;49minputs,\n\u001b[1;32m      8\u001b[0m     output_features\u001b[39m=\u001b[39;49mOutputFeatures(features\u001b[39m=\u001b[39;49m[benchmark\u001b[39m.\u001b[39;49mdomain\u001b[39m.\u001b[39;49moutputs[\u001b[39m0\u001b[39;49m]]),\n\u001b[1;32m      9\u001b[0m     n_estimators\u001b[39m=\u001b[39;49m\u001b[39m100\u001b[39;49m\n\u001b[1;32m     10\u001b[0m     )\n\u001b[1;32m     12\u001b[0m cv_train, cv_test, _ \u001b[39m=\u001b[39m rf\u001b[39m.\u001b[39mcross_validate(experiments)\n\u001b[1;32m     14\u001b[0m cv_test\u001b[39m.\u001b[39mget_metrics()\n",
      "File \u001b[0;32m/opt/homebrew/Caskroom/miniforge/base/envs/everest_env/lib/python3.8/site-packages/pydantic/main.py:342\u001b[0m, in \u001b[0;36mpydantic.main.BaseModel.__init__\u001b[0;34m()\u001b[0m\n",
      "\u001b[0;31mValidationError\u001b[0m: 1 validation error for RandomForest\ntype\n  field required (type=value_error.missing)"
     ]
    }
   ],
   "source": [
    "benchmark = DTLZ2(dim=6)\n",
    "\n",
    "experiments = benchmark.f(benchmark.domain.inputs.sample(20), return_complete=True)\n",
    "\n",
    "# you can use the hyperparams from sklearn\n",
    "rf = RandomForest(\n",
    "    input_features=benchmark.domain.inputs,\n",
    "    output_features=OutputFeatures(features=[benchmark.domain.outputs[0]]),\n",
    "    n_estimators=100\n",
    "    )\n",
    "\n",
    "cv_train, cv_test, _ = rf.cross_validate(experiments)\n",
    "\n",
    "cv_test.get_metrics()\n"
   ]
  },
  {
   "cell_type": "markdown",
   "metadata": {},
   "source": [
    "## Setup an optimization"
   ]
  },
  {
   "cell_type": "code",
   "execution_count": 16,
   "metadata": {},
   "outputs": [],
   "source": [
    "## Random Forest\n",
    "\n",
    "benchmark = DTLZ2(dim=6)\n",
    "\n",
    "recommender = BoTorchQehviStrategy(domain=benchmark.domain, ref_point={\"f_0\": 1.1, \"f_1\": 1.1}, \n",
    "    model_specs=BotorchModels(models=[\n",
    "        RandomForest(\n",
    "            input_features=benchmark.domain.inputs,\n",
    "            output_features=OutputFeatures(features=[benchmark.domain.outputs[0]])), \n",
    "        RandomForest(\n",
    "            input_features=benchmark.domain.inputs,\n",
    "            output_features=OutputFeatures(features=[benchmark.domain.outputs[1]])),\n",
    "    ]))\n",
    "\n",
    "experiments = benchmark.f(benchmark.domain.inputs.sample(10), return_complete=True)\n",
    "recommender.tell(experiments=experiments)\n",
    "\n",
    "for i in range(10):\n",
    "    samples = benchmark.domain.inputs.sample(512, method=SamplingMethodEnum.SOBOL)\n",
    "    candidates = recommender.ask(1, candidate_pool=samples)\n",
    "    candidates = candidates.reset_index(drop=True)\n",
    "    new_experiments = benchmark.f(candidates[benchmark.domain.inputs.get_keys().copy()], return_complete=True)\n",
    "    recommender.tell(experiments=new_experiments)\n",
    "\n"
   ]
  },
  {
   "attachments": {},
   "cell_type": "markdown",
   "metadata": {},
   "source": [
    "## Plot the Performance\n",
    "\n",
    "Comparing with random in the `/bechmarks/002-DLZ2.ipynb` notebook shows wors perfomance than the Random Strategy with is due to the pure performance of the non hyperoptimized RF."
   ]
  },
  {
   "cell_type": "code",
   "execution_count": 17,
   "metadata": {},
   "outputs": [
    {
     "data": {
      "text/plain": [
       "Text(0, 0.5, 'f_1')"
      ]
     },
     "execution_count": 17,
     "metadata": {},
     "output_type": "execute_result"
    },
    {
     "data": {
      "image/png": "[encoded data removed]",
      "text/plain": [
       "<Figure size 640x480 with 1 Axes>"
      ]
     },
     "metadata": {},
     "output_type": "display_data"
    }
   ],
   "source": [
    "\n",
    "fig, ax = plt.subplots()\n",
    "\n",
    "ax.scatter(benchmark.domain.experiments.f_0, benchmark.domain.experiments.f_1, label = \"rf\")\n",
    "\n",
    "ax.legend()\n",
    "\n",
    "ax.set_xlabel(\"f_0\")\n",
    "ax.set_ylabel(\"f_1\")"
   ]
  },
  {
   "cell_type": "code",
   "execution_count": null,
   "metadata": {},
   "outputs": [],
   "source": []
  }
 ],
 "metadata": {
  "kernelspec": {
   "display_name": "Python 3.8.12 ('everest_env')",
   "language": "python",
   "name": "python3"
  },
  "language_info": {
   "codemirror_mode": {
    "name": "ipython",
    "version": 3
   },
   "file_extension": ".py",
   "mimetype": "text/x-python",
   "name": "python",
   "nbconvert_exporter": "python",
   "pygments_lexer": "ipython3",
   "version": "3.8.12"
  },
  "orig_nbformat": 4,
  "vscode": {
   "interpreter": {
    "hash": "50077122d83430e029bf2362124cf3928cfea0c9d2b42539f789dcb8b3dbe07c"
   }
  }
 },
 "nbformat": 4,
 "nbformat_minor": 2
}
