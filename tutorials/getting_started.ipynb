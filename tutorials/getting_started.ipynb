{
 "cells": [
  {
   "attachments": {},
   "cell_type": "markdown",
   "id": "0",
   "metadata": {
    "papermill": {
     "duration": 0.007209,
     "end_time": "2024-10-10T20:36:28.634858",
     "exception": false,
     "start_time": "2024-10-10T20:36:28.627649",
     "status": "completed"
    },
    "tags": []
   },
   "source": [
    "# Getting started\n",
    "\n",
    "In the following it is showed how to setup optimization problems in BoFire and how to use strategies to solve them."
   ]
  },
  {
   "attachments": {},
   "cell_type": "markdown",
   "id": "1",
   "metadata": {
    "papermill": {
     "duration": 0.005929,
     "end_time": "2024-10-10T20:36:28.647560",
     "exception": false,
     "start_time": "2024-10-10T20:36:28.641631",
     "status": "completed"
    },
    "tags": []
   },
   "source": [
    "## Setting up the optimization problem\n",
    "\n",
    "In BoFire, an optimization problem is defined by defining a domain containing input and output features as well as constraints (optional)."
   ]
  },
  {
   "attachments": {},
   "cell_type": "markdown",
   "id": "2",
   "metadata": {
    "papermill": {
     "duration": 0.004101,
     "end_time": "2024-10-10T20:36:28.656401",
     "exception": false,
     "start_time": "2024-10-10T20:36:28.652300",
     "status": "completed"
    },
    "tags": []
   },
   "source": [
    "### Features\n",
    "\n",
    "Input features can be continuous, discrete, categorical, or categorical with descriptors:"
   ]
  },
  {
   "cell_type": "code",
   "execution_count": null,
   "id": "3",
   "metadata": {
    "papermill": {
     "duration": 0.769684,
     "end_time": "2024-10-10T20:36:29.430820",
     "exception": false,
     "start_time": "2024-10-10T20:36:28.661136",
     "status": "completed"
    },
    "tags": []
   },
   "outputs": [],
   "source": [
    "from bofire.data_models.features.api import (\n",
    "    CategoricalDescriptorInput,\n",
    "    CategoricalInput,\n",
    "    ContinuousInput,\n",
    "    DiscreteInput,\n",
    ")\n",
    "\n",
    "\n",
    "x1 = ContinuousInput(key=\"x1\", bounds=(0, 1))\n",
    "x2 = ContinuousInput(key=\"x2\", bounds=(0, 1))\n",
    "x3 = ContinuousInput(key=\"x3\", bounds=(0, 1))\n",
    "x4 = DiscreteInput(key=\"x4\", values=[1, 2, 5, 7.5])\n",
    "x5 = CategoricalInput(key=\"x5\", categories=[\"A\", \"B\", \"C\"], allowed=[True, True, False])\n",
    "x6 = CategoricalDescriptorInput(\n",
    "    key=\"x6\",\n",
    "    categories=[\"c1\", \"c2\", \"c3\"],\n",
    "    descriptors=[\"d1\", \"d2\"],\n",
    "    values=[[1, 2], [2, 5], [1, 7]],\n",
    ")"
   ]
  },
  {
   "attachments": {},
   "cell_type": "markdown",
   "id": "4",
   "metadata": {
    "papermill": {
     "duration": 0.004097,
     "end_time": "2024-10-10T20:36:29.439673",
     "exception": false,
     "start_time": "2024-10-10T20:36:29.435576",
     "status": "completed"
    },
    "tags": []
   },
   "source": [
    "As output features, currently only continuous output features are supported. Each output feature should have an objective, which can be a minimize or maximize objective. Furthermore, we can define weights between 0 and 1 in case the objectives should not be weighted equally."
   ]
  },
  {
   "cell_type": "code",
   "execution_count": null,
   "id": "5",
   "metadata": {
    "papermill": {
     "duration": 0.008613,
     "end_time": "2024-10-10T20:36:29.452617",
     "exception": false,
     "start_time": "2024-10-10T20:36:29.444004",
     "status": "completed"
    },
    "tags": []
   },
   "outputs": [],
   "source": [
    "from bofire.data_models.features.api import ContinuousOutput\n",
    "from bofire.data_models.objectives.api import MaximizeObjective, MinimizeObjective\n",
    "\n",
    "\n",
    "objective1 = MaximizeObjective(\n",
    "    w=1.0,\n",
    "    bounds=[0.0, 1.0],\n",
    ")\n",
    "y1 = ContinuousOutput(key=\"y1\", objective=objective1)\n",
    "\n",
    "objective2 = MinimizeObjective(w=1.0)\n",
    "y2 = ContinuousOutput(key=\"y2\", objective=objective2)"
   ]
  },
  {
   "attachments": {},
   "cell_type": "markdown",
   "id": "6",
   "metadata": {
    "papermill": {
     "duration": 0.004004,
     "end_time": "2024-10-10T20:36:29.460832",
     "exception": false,
     "start_time": "2024-10-10T20:36:29.456828",
     "status": "completed"
    },
    "tags": []
   },
   "source": [
    "In- and output features are collected in respective feature lists."
   ]
  },
  {
   "cell_type": "code",
   "execution_count": null,
   "id": "7",
   "metadata": {
    "papermill": {
     "duration": 0.398482,
     "end_time": "2024-10-10T20:36:29.863506",
     "exception": false,
     "start_time": "2024-10-10T20:36:29.465024",
     "status": "completed"
    },
    "tags": []
   },
   "outputs": [],
   "source": [
    "from bofire.data_models.domain.api import Inputs, Outputs\n",
    "\n",
    "\n",
    "input_features = Inputs(features=[x1, x2, x3, x4, x5, x6])\n",
    "output_features = Outputs(features=[y1, y2])"
   ]
  },
  {
   "cell_type": "markdown",
   "id": "8",
   "metadata": {
    "papermill": {
     "duration": 0.004129,
     "end_time": "2024-10-10T20:36:29.872162",
     "exception": false,
     "start_time": "2024-10-10T20:36:29.868033",
     "status": "completed"
    },
    "tags": []
   },
   "source": [
    "A summary of the constraints can be obtained by the method `get_reps_df`:"
   ]
  },
  {
   "cell_type": "code",
   "execution_count": null,
   "id": "9",
   "metadata": {
    "papermill": {
     "duration": 0.012773,
     "end_time": "2024-10-10T20:36:29.889723",
     "exception": false,
     "start_time": "2024-10-10T20:36:29.876950",
     "status": "completed"
    },
    "tags": []
   },
   "outputs": [],
   "source": [
    "input_features.get_reps_df()"
   ]
  },
  {
   "cell_type": "code",
   "execution_count": null,
   "id": "10",
   "metadata": {
    "papermill": {
     "duration": 0.009683,
     "end_time": "2024-10-10T20:36:29.904163",
     "exception": false,
     "start_time": "2024-10-10T20:36:29.894480",
     "status": "completed"
    },
    "tags": []
   },
   "outputs": [],
   "source": [
    "output_features.get_reps_df()"
   ]
  },
  {
   "attachments": {},
   "cell_type": "markdown",
   "id": "11",
   "metadata": {
    "papermill": {
     "duration": 0.004332,
     "end_time": "2024-10-10T20:36:29.913112",
     "exception": false,
     "start_time": "2024-10-10T20:36:29.908780",
     "status": "completed"
    },
    "tags": []
   },
   "source": [
    "Individual features can be retrieved by name.\n"
   ]
  },
  {
   "cell_type": "code",
   "execution_count": null,
   "id": "12",
   "metadata": {
    "papermill": {
     "duration": 0.008096,
     "end_time": "2024-10-10T20:36:29.925815",
     "exception": false,
     "start_time": "2024-10-10T20:36:29.917719",
     "status": "completed"
    },
    "tags": []
   },
   "outputs": [],
   "source": [
    "x5 = input_features.get_by_key(\"x5\")\n",
    "x5"
   ]
  },
  {
   "attachments": {},
   "cell_type": "markdown",
   "id": "13",
   "metadata": {
    "papermill": {
     "duration": 0.004352,
     "end_time": "2024-10-10T20:36:29.934775",
     "exception": false,
     "start_time": "2024-10-10T20:36:29.930423",
     "status": "completed"
    },
    "tags": []
   },
   "source": [
    "This is also possible with list of feature names."
   ]
  },
  {
   "cell_type": "code",
   "execution_count": null,
   "id": "14",
   "metadata": {
    "papermill": {
     "duration": 0.008321,
     "end_time": "2024-10-10T20:36:29.947436",
     "exception": false,
     "start_time": "2024-10-10T20:36:29.939115",
     "status": "completed"
    },
    "tags": []
   },
   "outputs": [],
   "source": [
    "input_features.get_by_keys([\"x5\", \"x2\"])"
   ]
  },
  {
   "attachments": {},
   "cell_type": "markdown",
   "id": "15",
   "metadata": {
    "papermill": {
     "duration": 0.004355,
     "end_time": "2024-10-10T20:36:29.956599",
     "exception": false,
     "start_time": "2024-10-10T20:36:29.952244",
     "status": "completed"
    },
    "tags": []
   },
   "source": [
    "Features of a specific type can be returned by the `get` method, by default it returns all features that are an instance of the provided class."
   ]
  },
  {
   "cell_type": "code",
   "execution_count": null,
   "id": "16",
   "metadata": {
    "papermill": {
     "duration": 0.008406,
     "end_time": "2024-10-10T20:36:29.970809",
     "exception": false,
     "start_time": "2024-10-10T20:36:29.962403",
     "status": "completed"
    },
    "tags": []
   },
   "outputs": [],
   "source": [
    "input_features.get(CategoricalInput)"
   ]
  },
  {
   "attachments": {},
   "cell_type": "markdown",
   "id": "17",
   "metadata": {
    "papermill": {
     "duration": 0.004507,
     "end_time": "2024-10-10T20:36:29.980141",
     "exception": false,
     "start_time": "2024-10-10T20:36:29.975634",
     "status": "completed"
    },
    "tags": []
   },
   "source": [
    "By using the `exact` argument one can force it to only return feature of the exact same class."
   ]
  },
  {
   "cell_type": "code",
   "execution_count": null,
   "id": "18",
   "metadata": {
    "papermill": {
     "duration": 0.008519,
     "end_time": "2024-10-10T20:36:29.993081",
     "exception": false,
     "start_time": "2024-10-10T20:36:29.984562",
     "status": "completed"
    },
    "tags": []
   },
   "outputs": [],
   "source": [
    "input_features.get(CategoricalInput, exact=True)"
   ]
  },
  {
   "attachments": {},
   "cell_type": "markdown",
   "id": "19",
   "metadata": {
    "papermill": {
     "duration": 0.00457,
     "end_time": "2024-10-10T20:36:30.002340",
     "exception": false,
     "start_time": "2024-10-10T20:36:29.997770",
     "status": "completed"
    },
    "tags": []
   },
   "source": [
    "The `get_keys` method follows the same logic as the `get` method but returns just the keys of the features instead of the features itself."
   ]
  },
  {
   "cell_type": "code",
   "execution_count": null,
   "id": "20",
   "metadata": {
    "papermill": {
     "duration": 0.008301,
     "end_time": "2024-10-10T20:36:30.015887",
     "exception": false,
     "start_time": "2024-10-10T20:36:30.007586",
     "status": "completed"
    },
    "tags": []
   },
   "outputs": [],
   "source": [
    "input_features.get_keys(CategoricalInput)"
   ]
  },
  {
   "attachments": {},
   "cell_type": "markdown",
   "id": "21",
   "metadata": {
    "papermill": {
     "duration": 0.004421,
     "end_time": "2024-10-10T20:36:30.025155",
     "exception": false,
     "start_time": "2024-10-10T20:36:30.020734",
     "status": "completed"
    },
    "tags": []
   },
   "source": [
    "The input feature container further provides methods to return a feature container with only all fixed or all free features."
   ]
  },
  {
   "cell_type": "code",
   "execution_count": null,
   "id": "22",
   "metadata": {
    "papermill": {
     "duration": 0.008271,
     "end_time": "2024-10-10T20:36:30.039024",
     "exception": false,
     "start_time": "2024-10-10T20:36:30.030753",
     "status": "completed"
    },
    "tags": []
   },
   "outputs": [],
   "source": [
    "free_inputs = input_features.get_free()\n",
    "fixed_inputs = input_features.get_fixed()"
   ]
  },
  {
   "attachments": {},
   "cell_type": "markdown",
   "id": "23",
   "metadata": {
    "papermill": {
     "duration": 0.004387,
     "end_time": "2024-10-10T20:36:30.048131",
     "exception": false,
     "start_time": "2024-10-10T20:36:30.043744",
     "status": "completed"
    },
    "tags": []
   },
   "source": [
    "One can uniformly sample from individual input features."
   ]
  },
  {
   "cell_type": "code",
   "execution_count": null,
   "id": "24",
   "metadata": {
    "papermill": {
     "duration": 0.009305,
     "end_time": "2024-10-10T20:36:30.062977",
     "exception": false,
     "start_time": "2024-10-10T20:36:30.053672",
     "status": "completed"
    },
    "tags": []
   },
   "outputs": [],
   "source": [
    "x5.sample(2)"
   ]
  },
  {
   "attachments": {},
   "cell_type": "markdown",
   "id": "25",
   "metadata": {
    "papermill": {
     "duration": 0.004579,
     "end_time": "2024-10-10T20:36:30.072634",
     "exception": false,
     "start_time": "2024-10-10T20:36:30.068055",
     "status": "completed"
    },
    "tags": []
   },
   "source": [
    "Or directly from input feature containers, uniform, sobol and LHS sampling is possible. A default, uniform sampling is used."
   ]
  },
  {
   "cell_type": "code",
   "execution_count": null,
   "id": "26",
   "metadata": {
    "papermill": {
     "duration": 0.016638,
     "end_time": "2024-10-10T20:36:30.094262",
     "exception": false,
     "start_time": "2024-10-10T20:36:30.077624",
     "status": "completed"
    },
    "tags": []
   },
   "outputs": [],
   "source": [
    "from bofire.data_models.enum import SamplingMethodEnum\n",
    "\n",
    "\n",
    "X = input_features.sample(n=10, method=SamplingMethodEnum.LHS)\n",
    "\n",
    "X"
   ]
  },
  {
   "attachments": {},
   "cell_type": "markdown",
   "id": "27",
   "metadata": {
    "papermill": {
     "duration": 0.004753,
     "end_time": "2024-10-10T20:36:30.104242",
     "exception": false,
     "start_time": "2024-10-10T20:36:30.099489",
     "status": "completed"
    },
    "tags": []
   },
   "source": [
    "### Constraints\n",
    "\n",
    "The search space can be further defined by constraints on the input features. BoFire supports linear equality and inequality constraints, as well as non-linear equality and inequality constraints."
   ]
  },
  {
   "attachments": {},
   "cell_type": "markdown",
   "id": "28",
   "metadata": {
    "papermill": {
     "duration": 0.004684,
     "end_time": "2024-10-10T20:36:30.113627",
     "exception": false,
     "start_time": "2024-10-10T20:36:30.108943",
     "status": "completed"
    },
    "tags": []
   },
   "source": [
    "#### Linear constraints\n",
    "\n",
    "`LinearEqualityConstraint` and `LinearInequalityConstraint` are expressions of the form $\\sum_i a_i x_i = b$ or $\\leq b$ for equality and inequality constraints respectively.\n",
    "They take a list of names of the input features they are operating on, a list of left-hand-side coefficients $a_i$ and a right-hand-side constant $b$."
   ]
  },
  {
   "cell_type": "code",
   "execution_count": null,
   "id": "29",
   "metadata": {
    "papermill": {
     "duration": 0.025392,
     "end_time": "2024-10-10T20:36:30.143809",
     "exception": false,
     "start_time": "2024-10-10T20:36:30.118417",
     "status": "completed"
    },
    "tags": []
   },
   "outputs": [],
   "source": [
    "from bofire.data_models.constraints.api import (\n",
    "    LinearEqualityConstraint,\n",
    "    LinearInequalityConstraint,\n",
    ")\n",
    "\n",
    "\n",
    "# A mixture: x1 + x2 + x3 = 1\n",
    "constr1 = LinearEqualityConstraint(\n",
    "    features=[\"x1\", \"x2\", \"x3\"],\n",
    "    coefficients=[1, 1, 1],\n",
    "    rhs=1,\n",
    ")\n",
    "\n",
    "# x1 + 2 * x3 < 0.8\n",
    "constr2 = LinearInequalityConstraint(\n",
    "    features=[\"x1\", \"x3\"],\n",
    "    coefficients=[1, 2],\n",
    "    rhs=0.8,\n",
    ")"
   ]
  },
  {
   "attachments": {},
   "cell_type": "markdown",
   "id": "30",
   "metadata": {
    "papermill": {
     "duration": 0.004902,
     "end_time": "2024-10-10T20:36:30.154010",
     "exception": false,
     "start_time": "2024-10-10T20:36:30.149108",
     "status": "completed"
    },
    "tags": []
   },
   "source": [
    "Linear constraints can only operate on `ContinuousInput` features."
   ]
  },
  {
   "attachments": {},
   "cell_type": "markdown",
   "id": "31",
   "metadata": {
    "papermill": {
     "duration": 0.004568,
     "end_time": "2024-10-10T20:36:30.163323",
     "exception": false,
     "start_time": "2024-10-10T20:36:30.158755",
     "status": "completed"
    },
    "tags": []
   },
   "source": [
    "#### Nonlinear constraints "
   ]
  },
  {
   "attachments": {},
   "cell_type": "markdown",
   "id": "32",
   "metadata": {
    "papermill": {
     "duration": 0.005036,
     "end_time": "2024-10-10T20:36:30.174005",
     "exception": false,
     "start_time": "2024-10-10T20:36:30.168969",
     "status": "completed"
    },
    "tags": []
   },
   "source": [
    "`NonlinearEqualityConstraint` and `NonlinearInequalityConstraint` take any expression that can be evaluated by [pandas.eval](https://pandas.pydata.org/pandas-docs/stable/reference/api/pandas.eval.html), including mathematical operators such as `sin`, `exp`, `log10` or exponentiation. So far, they cannot be used in any optimizations."
   ]
  },
  {
   "cell_type": "code",
   "execution_count": null,
   "id": "33",
   "metadata": {
    "papermill": {
     "duration": 0.182596,
     "end_time": "2024-10-10T20:36:30.361772",
     "exception": false,
     "start_time": "2024-10-10T20:36:30.179176",
     "status": "completed"
    },
    "tags": []
   },
   "outputs": [],
   "source": [
    "from bofire.data_models.constraints.api import NonlinearEqualityConstraint\n",
    "\n",
    "\n",
    "# The unit circle: x1**2 + x2**2 = 1\n",
    "const3 = NonlinearEqualityConstraint(expression=\"x1**2 + x2**2 - 1\")\n",
    "const3"
   ]
  },
  {
   "attachments": {},
   "cell_type": "markdown",
   "id": "34",
   "metadata": {
    "papermill": {
     "duration": 0.005039,
     "end_time": "2024-10-10T20:36:30.372077",
     "exception": false,
     "start_time": "2024-10-10T20:36:30.367038",
     "status": "completed"
    },
    "tags": []
   },
   "source": [
    "#### Combinatorial constraint\n",
    "\n",
    "Use `NChooseKConstraint` to express that we only want to have $k$ out of the $n$ parameters to take positive values.\n",
    "Think of a mixture, where we have long list of possible ingredients, but want to limit number of ingredients in any given recipe."
   ]
  },
  {
   "cell_type": "code",
   "execution_count": null,
   "id": "35",
   "metadata": {
    "papermill": {
     "duration": 0.009512,
     "end_time": "2024-10-10T20:36:30.386610",
     "exception": false,
     "start_time": "2024-10-10T20:36:30.377098",
     "status": "completed"
    },
    "tags": []
   },
   "outputs": [],
   "source": [
    "from bofire.data_models.constraints.api import NChooseKConstraint\n",
    "\n",
    "\n",
    "# Only 2 or 3 out of 3 parameters can be greater than zero\n",
    "constr5 = NChooseKConstraint(\n",
    "    features=[\"x1\", \"x2\", \"x3\"],\n",
    "    min_count=2,\n",
    "    max_count=3,\n",
    "    none_also_valid=True,\n",
    ")\n",
    "constr5"
   ]
  },
  {
   "attachments": {},
   "cell_type": "markdown",
   "id": "36",
   "metadata": {
    "papermill": {
     "duration": 0.00488,
     "end_time": "2024-10-10T20:36:30.397597",
     "exception": false,
     "start_time": "2024-10-10T20:36:30.392717",
     "status": "completed"
    },
    "tags": []
   },
   "source": [
    "Note that we have to set a boolean, if None is also a valid selection, e.g. if we want to have 2 or 3 or none of the ingredients in our recipe.\n",
    "\n",
    "Similar to the features, constraints can be grouped in a container which acts as the union constraints."
   ]
  },
  {
   "cell_type": "code",
   "execution_count": null,
   "id": "37",
   "metadata": {
    "papermill": {
     "duration": 0.008133,
     "end_time": "2024-10-10T20:36:30.410819",
     "exception": false,
     "start_time": "2024-10-10T20:36:30.402686",
     "status": "completed"
    },
    "tags": []
   },
   "outputs": [],
   "source": [
    "from bofire.data_models.domain.api import Constraints\n",
    "\n",
    "\n",
    "constraints = Constraints(constraints=[constr1, constr2])"
   ]
  },
  {
   "cell_type": "markdown",
   "id": "38",
   "metadata": {
    "papermill": {
     "duration": 0.005401,
     "end_time": "2024-10-10T20:36:30.422017",
     "exception": false,
     "start_time": "2024-10-10T20:36:30.416616",
     "status": "completed"
    },
    "tags": []
   },
   "source": [
    "A summary of the constraints can be obtained by the method `get_reps_df`:"
   ]
  },
  {
   "cell_type": "code",
   "execution_count": null,
   "id": "39",
   "metadata": {
    "papermill": {
     "duration": 0.011042,
     "end_time": "2024-10-10T20:36:30.438540",
     "exception": false,
     "start_time": "2024-10-10T20:36:30.427498",
     "status": "completed"
    },
    "tags": []
   },
   "outputs": [],
   "source": [
    "constraints.get_reps_df()"
   ]
  },
  {
   "attachments": {},
   "cell_type": "markdown",
   "id": "40",
   "metadata": {
    "papermill": {
     "duration": 0.005048,
     "end_time": "2024-10-10T20:36:30.449179",
     "exception": false,
     "start_time": "2024-10-10T20:36:30.444131",
     "status": "completed"
    },
    "tags": []
   },
   "source": [
    "We can check whether a point satisfies individual constraints or the list of constraints."
   ]
  },
  {
   "cell_type": "code",
   "execution_count": null,
   "id": "41",
   "metadata": {
    "papermill": {
     "duration": 0.010048,
     "end_time": "2024-10-10T20:36:30.464463",
     "exception": false,
     "start_time": "2024-10-10T20:36:30.454415",
     "status": "completed"
    },
    "tags": []
   },
   "outputs": [],
   "source": [
    "constr2.is_fulfilled(X).values"
   ]
  },
  {
   "attachments": {},
   "cell_type": "markdown",
   "id": "42",
   "metadata": {
    "papermill": {
     "duration": 0.005285,
     "end_time": "2024-10-10T20:36:30.475253",
     "exception": false,
     "start_time": "2024-10-10T20:36:30.469968",
     "status": "completed"
    },
    "tags": []
   },
   "source": [
    "Output constraints can be setup via sigmoid-shaped objectives passed as argument to the respective feature, which can then also be plotted.\n"
   ]
  },
  {
   "cell_type": "code",
   "execution_count": null,
   "id": "43",
   "metadata": {
    "papermill": {
     "duration": 1.414213,
     "end_time": "2024-10-10T20:36:31.895159",
     "exception": false,
     "start_time": "2024-10-10T20:36:30.480946",
     "status": "completed"
    },
    "tags": []
   },
   "outputs": [],
   "source": [
    "from bofire.data_models.objectives.api import MinimizeSigmoidObjective\n",
    "from bofire.plot.api import plot_objective_plotly\n",
    "\n",
    "\n",
    "output_constraint = MinimizeSigmoidObjective(w=1.0, steepness=10, tp=0.5)\n",
    "y3 = ContinuousOutput(key=\"y3\", objective=output_constraint)\n",
    "\n",
    "output_features = Outputs(features=[y1, y2, y3])\n",
    "\n",
    "fig = plot_objective_plotly(feature=y3, lower=0, upper=1)\n",
    "\n",
    "fig.show()"
   ]
  },
  {
   "attachments": {},
   "cell_type": "markdown",
   "id": "44",
   "metadata": {
    "papermill": {
     "duration": 0.039776,
     "end_time": "2024-10-10T20:36:31.977743",
     "exception": false,
     "start_time": "2024-10-10T20:36:31.937967",
     "status": "completed"
    },
    "tags": []
   },
   "source": [
    "### The domain\n",
    "\n",
    "The domain holds then all information about an optimization problem and can be understood as a search space definition."
   ]
  },
  {
   "cell_type": "code",
   "execution_count": null,
   "id": "45",
   "metadata": {
    "papermill": {
     "duration": 0.042249,
     "end_time": "2024-10-10T20:36:32.058183",
     "exception": false,
     "start_time": "2024-10-10T20:36:32.015934",
     "status": "completed"
    },
    "tags": []
   },
   "outputs": [],
   "source": [
    "from bofire.data_models.domain.api import Domain\n",
    "\n",
    "\n",
    "domain = Domain(inputs=input_features, outputs=output_features, constraints=constraints)"
   ]
  },
  {
   "attachments": {},
   "cell_type": "markdown",
   "id": "46",
   "metadata": {
    "papermill": {
     "duration": 0.03817,
     "end_time": "2024-10-10T20:36:32.133480",
     "exception": false,
     "start_time": "2024-10-10T20:36:32.095310",
     "status": "completed"
    },
    "tags": []
   },
   "source": [
    "In addition one can instantiate the domain also just from lists."
   ]
  },
  {
   "cell_type": "code",
   "execution_count": null,
   "id": "47",
   "metadata": {
    "papermill": {
     "duration": 0.040091,
     "end_time": "2024-10-10T20:36:32.233500",
     "exception": false,
     "start_time": "2024-10-10T20:36:32.193409",
     "status": "completed"
    },
    "tags": []
   },
   "outputs": [],
   "source": [
    "domain_single_objective = Domain.from_lists(\n",
    "    inputs=[x1, x2, x3, x4, x5, x6],\n",
    "    outputs=[y1],\n",
    "    constraints=[],\n",
    ")"
   ]
  },
  {
   "attachments": {},
   "cell_type": "markdown",
   "id": "48",
   "metadata": {
    "papermill": {
     "duration": 0.036485,
     "end_time": "2024-10-10T20:36:32.305565",
     "exception": false,
     "start_time": "2024-10-10T20:36:32.269080",
     "status": "completed"
    },
    "tags": []
   },
   "source": [
    "## Optimization\n",
    "\n",
    "To solve the optimization problem, we further need a solving strategy. BoFire supports strategies without a prediction model such as a random strategy and predictive strategies which are based on a prediction model.\n",
    "\n",
    "All strategies contain an `ask` method returning a defined number of candidate experiments."
   ]
  },
  {
   "attachments": {},
   "cell_type": "markdown",
   "id": "49",
   "metadata": {
    "papermill": {
     "duration": 0.036081,
     "end_time": "2024-10-10T20:36:32.378559",
     "exception": false,
     "start_time": "2024-10-10T20:36:32.342478",
     "status": "completed"
    },
    "tags": []
   },
   "source": [
    "### Random Strategy"
   ]
  },
  {
   "cell_type": "code",
   "execution_count": null,
   "id": "50",
   "metadata": {
    "papermill": {
     "duration": 1.342557,
     "end_time": "2024-10-10T20:36:33.757836",
     "exception": true,
     "start_time": "2024-10-10T20:36:32.415279",
     "status": "failed"
    },
    "tags": []
   },
   "outputs": [],
   "source": [
    "import bofire.strategies.api as strategies\n",
    "from bofire.data_models.strategies.api import RandomStrategy\n",
    "\n",
    "\n",
    "strategy_data_model = RandomStrategy(domain=domain)\n",
    "\n",
    "random_strategy = strategies.map(strategy_data_model)\n",
    "random_candidates = random_strategy.ask(2)\n",
    "\n",
    "random_candidates"
   ]
  },
  {
   "attachments": {},
   "cell_type": "markdown",
   "id": "51",
   "metadata": {
    "papermill": {
     "duration": null,
     "end_time": null,
     "exception": null,
     "start_time": null,
     "status": "pending"
    },
    "tags": []
   },
   "source": [
    "### Single objective Bayesian Optimization strategy\n",
    "\n",
    "Since a predictive strategy includes a prediction model, we need to generate some historical data, which we can afterwards pass as training data to the strategy via the tell method.\n",
    "\n",
    "For didactic purposes we just choose here from one of our benchmark methods."
   ]
  },
  {
   "cell_type": "code",
   "execution_count": null,
   "id": "52",
   "metadata": {
    "papermill": {
     "duration": null,
     "end_time": null,
     "exception": null,
     "start_time": null,
     "status": "pending"
    },
    "tags": []
   },
   "outputs": [],
   "source": [
    "from bofire.benchmarks.single import Himmelblau\n",
    "\n",
    "\n",
    "benchmark = Himmelblau()\n",
    "\n",
    "(benchmark.domain.inputs + benchmark.domain.outputs).get_reps_df()"
   ]
  },
  {
   "attachments": {},
   "cell_type": "markdown",
   "id": "53",
   "metadata": {
    "papermill": {
     "duration": null,
     "end_time": null,
     "exception": null,
     "start_time": null,
     "status": "pending"
    },
    "tags": []
   },
   "source": [
    "Generating some initial data works as follows:"
   ]
  },
  {
   "cell_type": "code",
   "execution_count": null,
   "id": "54",
   "metadata": {
    "papermill": {
     "duration": null,
     "end_time": null,
     "exception": null,
     "start_time": null,
     "status": "pending"
    },
    "tags": []
   },
   "outputs": [],
   "source": [
    "samples = benchmark.domain.inputs.sample(10)\n",
    "\n",
    "experiments = benchmark.f(samples, return_complete=True)\n",
    "\n",
    "experiments"
   ]
  },
  {
   "attachments": {},
   "cell_type": "markdown",
   "id": "55",
   "metadata": {
    "papermill": {
     "duration": null,
     "end_time": null,
     "exception": null,
     "start_time": null,
     "status": "pending"
    },
    "tags": []
   },
   "source": [
    "Let's setup the SOBO strategy and ask for a candidate."
   ]
  },
  {
   "cell_type": "code",
   "execution_count": null,
   "id": "56",
   "metadata": {
    "papermill": {
     "duration": null,
     "end_time": null,
     "exception": null,
     "start_time": null,
     "status": "pending"
    },
    "tags": []
   },
   "outputs": [],
   "source": [
    "from bofire.data_models.acquisition_functions.api import qLogNEI\n",
    "from bofire.data_models.strategies.api import SoboStrategy\n",
    "\n",
    "\n",
    "sobo_strategy_data_model = SoboStrategy(\n",
    "    domain=benchmark.domain,\n",
    "    acquisition_function=qLogNEI(),\n",
    ")\n",
    "\n",
    "sobo_strategy = strategies.map(sobo_strategy_data_model)\n",
    "\n",
    "sobo_strategy.tell(experiments=experiments)\n",
    "\n",
    "sobo_strategy.ask(candidate_count=1)"
   ]
  },
  {
   "attachments": {},
   "cell_type": "markdown",
   "id": "57",
   "metadata": {
    "papermill": {
     "duration": null,
     "end_time": null,
     "exception": null,
     "start_time": null,
     "status": "pending"
    },
    "tags": []
   },
   "source": [
    "### Design of Experiments\n",
    "\n",
    "As a simple example for the DoE functionalities we consider the task of finding a D-optimal design for a fully-quadratic model with three design variables with bounds (0,1) and a mixture constraint.\n",
    "\n",
    "We define the design space including the constraint as a domain. Then we pass it to the optimization routine and specify the model. If the user does not indicate a number of experiments it will be chosen automatically based on the number of model terms."
   ]
  },
  {
   "cell_type": "code",
   "execution_count": null,
   "id": "58",
   "metadata": {
    "papermill": {
     "duration": null,
     "end_time": null,
     "exception": null,
     "start_time": null,
     "status": "pending"
    },
    "tags": []
   },
   "outputs": [],
   "source": [
    "import numpy as np\n",
    "\n",
    "from bofire.strategies.doe.design import find_local_max_ipopt\n",
    "\n",
    "\n",
    "domain = Domain(inputs=[x1, x2, x3], outputs=[y1], constraints=[constr1])\n",
    "\n",
    "res = find_local_max_ipopt(domain, \"fully-quadratic\")\n",
    "np.round(res, 3)"
   ]
  },
  {
   "attachments": {},
   "cell_type": "markdown",
   "id": "59",
   "metadata": {
    "papermill": {
     "duration": null,
     "end_time": null,
     "exception": null,
     "start_time": null,
     "status": "pending"
    },
    "tags": []
   },
   "source": [
    "The resulting design looks like this:"
   ]
  },
  {
   "cell_type": "code",
   "execution_count": null,
   "id": "60",
   "metadata": {
    "papermill": {
     "duration": null,
     "end_time": null,
     "exception": null,
     "start_time": null,
     "status": "pending"
    },
    "tags": []
   },
   "outputs": [],
   "source": [
    "import matplotlib.pyplot as plt\n",
    "\n",
    "\n",
    "fig = plt.figure(figsize=((10, 10)))\n",
    "ax = fig.add_subplot(111, projection=\"3d\")\n",
    "ax.view_init(45, 45)\n",
    "ax.set_title(\"fully-quadratic model\")\n",
    "ax.set_xlabel(\"$x_1$\")\n",
    "ax.set_ylabel(\"$x_2$\")\n",
    "ax.set_zlabel(\"$x_3$\")\n",
    "plt.rcParams[\"figure.figsize\"] = (10, 8)\n",
    "\n",
    "# plot feasible polytope\n",
    "ax.plot(xs=[1, 0, 0, 1], ys=[0, 1, 0, 0], zs=[0, 0, 1, 0], linewidth=2)\n",
    "\n",
    "# plot D-optimal solutions\n",
    "ax.scatter(xs=res[\"x1\"], ys=res[\"x2\"], zs=res[\"x3\"], marker=\"o\", s=40, color=\"orange\")"
   ]
  }
 ],
 "metadata": {
  "kernelspec": {
   "display_name": "base",
   "language": "python",
   "name": "python3"
  },
  "language_info": {
   "codemirror_mode": {
    "name": "ipython",
    "version": 3
   },
   "file_extension": ".py",
   "mimetype": "text/x-python",
   "name": "python",
   "nbconvert_exporter": "python",
   "pygments_lexer": "ipython3",
   "version": "3.12.7"
  },
  "papermill": {
   "default_parameters": {},
   "duration": 6.717886,
   "end_time": "2024-10-10T20:36:34.618971",
   "environment_variables": {},
   "exception": true,
   "parameters": {},
   "start_time": "2024-10-10T20:36:27.901085",
   "version": "2.6.0"
  }
 },
 "nbformat": 4,
 "nbformat_minor": 5
}
