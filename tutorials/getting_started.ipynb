{
 "cells": [
  {
   "attachments": {},
   "cell_type": "markdown",
   "metadata": {},
   "source": [
    "# Getting started\n",
    "\n",
    "In the following it is showed how to setup optimization problems in BoFire and how to use strategies to solve them."
   ]
  },
  {
   "attachments": {},
   "cell_type": "markdown",
   "metadata": {},
   "source": [
    "## Setting up the optimization problem\n",
    "\n",
    "In BoFire, an optimization problem is defined by defining a domain containing input and output features as well as constraints (optional)."
   ]
  },
  {
   "attachments": {},
   "cell_type": "markdown",
   "metadata": {},
   "source": [
    "### Features\n",
    "\n",
    "Input features can be continuous, discrete, categorical, or categorical with descriptors:"
   ]
  },
  {
   "cell_type": "code",
   "execution_count": null,
   "metadata": {},
   "outputs": [],
   "source": [
    "from bofire.data_models.features.api import ContinuousInput, DiscreteInput, CategoricalInput, CategoricalDescriptorInput\n",
    "\n",
    "x1 = ContinuousInput(key=\"x1\", bounds=(0,1))\n",
    "x2 = ContinuousInput(key=\"x2\", bounds=(0,1))\n",
    "x3 = ContinuousInput(key=\"x3\", bounds=(0,1))\n",
    "x4 = DiscreteInput(key=\"x4\", values=[1, 2, 5, 7.5])\n",
    "x5 = CategoricalInput(key=\"x5\", categories=[\"A\", \"B\", \"C\"], allowed=[True,True,False])\n",
    "x6 = CategoricalDescriptorInput(key=\"x6\", categories=[\"c1\", \"c2\", \"c3\"], descriptors=[\"d1\", \"d2\"], values = [[1,2],[2,5],[1,7]])"
   ]
  },
  {
   "attachments": {},
   "cell_type": "markdown",
   "metadata": {},
   "source": [
    "As output features, currently only continuous output features are supported. Each output feature should have an objective, which can be a minimize or maximize objective. Furthermore, we can define weights between 0 and 1 in case the objectives should not be weighted equally."
   ]
  },
  {
   "cell_type": "code",
   "execution_count": null,
   "metadata": {},
   "outputs": [],
   "source": [
    "from bofire.data_models.features.api import ContinuousOutput\n",
    "from bofire.data_models.objectives.api import MaximizeObjective, MinimizeObjective\n",
    "\n",
    "objective1 = MaximizeObjective(\n",
    "    w=1.0, \n",
    "    bounds= [0.0,1.0],\n",
    ")\n",
    "y1 = ContinuousOutput(key=\"y1\", objective=objective1)\n",
    "\n",
    "objective2 = MinimizeObjective(\n",
    "    w=1.0\n",
    ")\n",
    "y2 = ContinuousOutput(key=\"y2\", objective=objective2)"
   ]
  },
  {
   "attachments": {},
   "cell_type": "markdown",
   "metadata": {},
   "source": [
    "In- and output features are collected in respective feature lists."
   ]
  },
  {
   "cell_type": "code",
   "execution_count": null,
   "metadata": {},
   "outputs": [],
   "source": [
    "from bofire.data_models.domain.api import Inputs, Outputs\n",
    "\n",
    "input_features = Inputs(features = [x1, x2, x3, x4, x5, x6])\n",
    "output_features = Outputs(features=[y1, y2])"
   ]
  },
  {
   "attachments": {},
   "cell_type": "markdown",
   "metadata": {},
   "source": [
    "Individual features can be retrieved by name.\n"
   ]
  },
  {
   "cell_type": "code",
   "execution_count": null,
   "metadata": {},
   "outputs": [],
   "source": [
    "x5 = input_features.get_by_key('x5')\n",
    "x5"
   ]
  },
  {
   "attachments": {},
   "cell_type": "markdown",
   "metadata": {},
   "source": [
    "This is also possible with list of feature names."
   ]
  },
  {
   "cell_type": "code",
   "execution_count": null,
   "metadata": {},
   "outputs": [],
   "source": [
    "input_features.get_by_keys(['x5', 'x2'])"
   ]
  },
  {
   "attachments": {},
   "cell_type": "markdown",
   "metadata": {},
   "source": [
    "Features of a specific type can be returned by the `get` method, by default it returns all features that are an instance of the provided class."
   ]
  },
  {
   "cell_type": "code",
   "execution_count": null,
   "metadata": {},
   "outputs": [],
   "source": [
    "input_features.get(CategoricalInput)"
   ]
  },
  {
   "attachments": {},
   "cell_type": "markdown",
   "metadata": {},
   "source": [
    "By using the `exact` argument one can force it to only return feature of the exact same class."
   ]
  },
  {
   "cell_type": "code",
   "execution_count": null,
   "metadata": {},
   "outputs": [],
   "source": [
    "input_features.get(CategoricalInput, exact=True)"
   ]
  },
  {
   "attachments": {},
   "cell_type": "markdown",
   "metadata": {},
   "source": [
    "The `get_keys` method follows the same logic as the `get` method but returns just the keys of the features instead of the features itself."
   ]
  },
  {
   "cell_type": "code",
   "execution_count": null,
   "metadata": {},
   "outputs": [],
   "source": [
    "input_features.get_keys(CategoricalInput)"
   ]
  },
  {
   "attachments": {},
   "cell_type": "markdown",
   "metadata": {},
   "source": [
    "The input feature container further provides methods to return a feature container with only all fixed or all free features."
   ]
  },
  {
   "cell_type": "code",
   "execution_count": null,
   "metadata": {},
   "outputs": [],
   "source": [
    "free_inputs = input_features.get_free()\n",
    "fixed_inputs = input_features.get_fixed()"
   ]
  },
  {
   "attachments": {},
   "cell_type": "markdown",
   "metadata": {},
   "source": [
    "One can uniformly sample from individual input features."
   ]
  },
  {
   "cell_type": "code",
   "execution_count": null,
   "metadata": {},
   "outputs": [],
   "source": [
    "x5.sample(2)"
   ]
  },
  {
   "attachments": {},
   "cell_type": "markdown",
   "metadata": {},
   "source": [
    "Or directly from input feature containers, uniform, sobol and LHS sampling is possible. A default, uniform sampling is used."
   ]
  },
  {
   "cell_type": "code",
   "execution_count": null,
   "metadata": {},
   "outputs": [],
   "source": [
    "from bofire.data_models.enum import SamplingMethodEnum\n",
    "\n",
    "X = input_features.sample(n=10, method=SamplingMethodEnum.LHS)\n",
    "\n",
    "X"
   ]
  },
  {
   "attachments": {},
   "cell_type": "markdown",
   "metadata": {},
   "source": [
    "### Constraints\n",
    "\n",
    "The search space can be further defined by constraints on the input features. BoFire supports linear equality and inequality constraints, as well as non-linear equality and inequality constraints."
   ]
  },
  {
   "attachments": {},
   "cell_type": "markdown",
   "metadata": {},
   "source": [
    "#### Linear constraints\n",
    "\n",
    "`LinearEqualityConstraint` and `LinearInequalityConstraint` are expressions of the form $\\sum_i a_i x_i = b$ or $\\leq b$ for equality and inequality constraints respectively.\n",
    "They take a list of names of the input features they are operating on, a list of left-hand-side coefficients $a_i$ and a right-hand-side constant $b$."
   ]
  },
  {
   "cell_type": "code",
   "execution_count": null,
   "metadata": {},
   "outputs": [],
   "source": [
    "from bofire.data_models.constraints.api import LinearEqualityConstraint, LinearInequalityConstraint\n",
    "\n",
    "# A mixture: x1 + x2 + x3 = 1\n",
    "constr1 = LinearEqualityConstraint(features=[\"x1\", \"x2\", \"x3\"], coefficients=[1,1,1], rhs=1)\n",
    "\n",
    "# x1 + 2 * x3 < 0.8\n",
    "constr2 = LinearInequalityConstraint(features=[\"x1\", \"x3\"], coefficients=[1, 2], rhs=0.8)"
   ]
  },
  {
   "attachments": {},
   "cell_type": "markdown",
   "metadata": {},
   "source": [
    "Linear constraints can only operate on `ContinuousInput` features."
   ]
  },
  {
   "attachments": {},
   "cell_type": "markdown",
   "metadata": {},
   "source": [
    "#### Nonlinear constraints "
   ]
  },
  {
   "attachments": {},
   "cell_type": "markdown",
   "metadata": {},
   "source": [
    "`NonlinearEqualityConstraint` and `NonlinearInequalityConstraint` take any expression that can be evaluated by [pandas.eval](https://pandas.pydata.org/pandas-docs/stable/reference/api/pandas.eval.html), including mathematical operators such as `sin`, `exp`, `log10` or exponentiation. So far, they cannot be used in any optimizations."
   ]
  },
  {
   "cell_type": "code",
   "execution_count": null,
   "metadata": {},
   "outputs": [],
   "source": [
    "from bofire.data_models.constraints.api import NonlinearEqualityConstraint, NonlinearInequalityConstraint\n",
    "\n",
    "# The unit circle: x1**2 + x2**2 = 1\n",
    "const3 = NonlinearEqualityConstraint(expression=\"x1**2 + x2**2 - 1\")\n",
    "const3"
   ]
  },
  {
   "attachments": {},
   "cell_type": "markdown",
   "metadata": {},
   "source": [
    "#### Combinatorial constraint\n",
    "\n",
    "Use `NChooseKConstraint` to express that we only want to have $k$ out of the $n$ parameters to take positive values.\n",
    "Think of a mixture, where we have long list of possible ingredients, but want to limit number of ingredients in any given recipe."
   ]
  },
  {
   "cell_type": "code",
   "execution_count": null,
   "metadata": {},
   "outputs": [],
   "source": [
    "from bofire.data_models.constraints.api import NChooseKConstraint\n",
    "\n",
    "# Only 2 or 3 out of 3 parameters can be greater than zero\n",
    "constr5 = NChooseKConstraint(features=[\"x1\", \"x2\", \"x3\"], min_count=2, max_count=3, none_also_valid=True)\n",
    "constr5"
   ]
  },
  {
   "attachments": {},
   "cell_type": "markdown",
   "metadata": {},
   "source": [
    "Note that we have to set a boolean, if None is also a valid selection, e.g. if we want to have 2 or 3 or none of the ingredients in our recipe.\n",
    "\n",
    "Similar to the features, constraints can be grouped in a container which acts as the union constraints."
   ]
  },
  {
   "cell_type": "code",
   "execution_count": null,
   "metadata": {},
   "outputs": [],
   "source": [
    "from bofire.data_models.domain.api import Constraints\n",
    "\n",
    "\n",
    "constraints = Constraints(constraints=[constr1, constr2])\n"
   ]
  },
  {
   "attachments": {},
   "cell_type": "markdown",
   "metadata": {},
   "source": [
    "We can check whether a point satisfies individual constraints or the list of constraints."
   ]
  },
  {
   "cell_type": "code",
   "execution_count": null,
   "metadata": {},
   "outputs": [],
   "source": [
    "constr2.is_fulfilled(X).values"
   ]
  },
  {
   "attachments": {},
   "cell_type": "markdown",
   "metadata": {},
   "source": [
    "Output constraints can be setup via sigmoid-shaped objectives passed as argument to the respective feature, which can then also be plotted.\n"
   ]
  },
  {
   "cell_type": "code",
   "execution_count": null,
   "metadata": {},
   "outputs": [],
   "source": [
    "from bofire.data_models.objectives.api import MinimizeSigmoidObjective\n",
    "from bofire.plot.api import plot_objective_plotly\n",
    "\n",
    "output_constraint = MinimizeSigmoidObjective(\n",
    "    w=1.0, \n",
    "    steepness=10,\n",
    "    tp=0.5\n",
    ")\n",
    "y3= ContinuousOutput(key=\"y3\", objective=output_constraint)\n",
    "\n",
    "output_features = Outputs(features=[y1, y2, y3])\n",
    "\n",
    "fig = plot_objective_plotly(feature=y3, lower=0, upper=1)\n",
    "\n",
    "fig.show()"
   ]
  },
  {
   "attachments": {},
   "cell_type": "markdown",
   "metadata": {},
   "source": [
    "### The domain\n",
    "\n",
    "The domain holds then all information about an optimization problem and can be understood as a search space defintion."
   ]
  },
  {
   "cell_type": "code",
   "execution_count": null,
   "metadata": {},
   "outputs": [],
   "source": [
    "from bofire.data_models.domain.api import Domain\n",
    "\n",
    "domain = Domain(\n",
    "    inputs=input_features, \n",
    "    outputs=output_features, \n",
    "    constraints=constraints\n",
    "    )"
   ]
  },
  {
   "attachments": {},
   "cell_type": "markdown",
   "metadata": {},
   "source": [
    "In addition one can instantiate the domain also just from lists."
   ]
  },
  {
   "cell_type": "code",
   "execution_count": null,
   "metadata": {},
   "outputs": [],
   "source": [
    "domain_single_objective = Domain.from_lists(\n",
    "    inputs=[x1, x2, x3, x4, x5, x6], \n",
    "    outputs=[y1], \n",
    "    constraints=[]\n",
    "    )"
   ]
  },
  {
   "attachments": {},
   "cell_type": "markdown",
   "metadata": {},
   "source": [
    "A summary of the defined features and constraints can be obtained by the methods `get_feature_reps_df()` and `get_constraint_reps_df()`:"
   ]
  },
  {
   "cell_type": "code",
   "execution_count": null,
   "metadata": {},
   "outputs": [],
   "source": [
    "domain.get_feature_reps_df()"
   ]
  },
  {
   "cell_type": "code",
   "execution_count": null,
   "metadata": {},
   "outputs": [],
   "source": [
    "domain.get_constraint_reps_df()"
   ]
  },
  {
   "attachments": {},
   "cell_type": "markdown",
   "metadata": {},
   "source": [
    "## Optimization\n",
    "\n",
    "To solve the optimization problem, we further need a solving strategy. BoFire supports strategies without a prediction model such as a random strategy and predictive strategies which are based on a prediction model.\n",
    "\n",
    "All strategies contain an `ask` method returning a defined number of candidate experiments."
   ]
  },
  {
   "attachments": {},
   "cell_type": "markdown",
   "metadata": {},
   "source": [
    "### Random Strategy"
   ]
  },
  {
   "cell_type": "code",
   "execution_count": null,
   "metadata": {},
   "outputs": [],
   "source": [
    "from bofire.data_models.strategies.api import RandomStrategy\n",
    "\n",
    "import bofire.strategies.mapper as strategy_mapper\n",
    "\n",
    "strategy_data_model = RandomStrategy(domain=domain)\n",
    "\n",
    "random_strategy = strategy_mapper.map(strategy_data_model)\n",
    "random_candidates = random_strategy.ask(2)\n",
    "\n",
    "random_candidates"
   ]
  },
  {
   "attachments": {},
   "cell_type": "markdown",
   "metadata": {},
   "source": [
    "### Single objective Bayesian Optimization strategy\n",
    "\n",
    "Since a predictive strategy includes a prediction model, we need to generate some historical data, which we can afterwards pass as training data to the strategy via the tell method.\n",
    "\n",
    "For didactic purposes we just choose here from one of our benchmark methods."
   ]
  },
  {
   "cell_type": "code",
   "execution_count": null,
   "metadata": {},
   "outputs": [],
   "source": [
    "from bofire.benchmarks.single import Himmelblau\n",
    "\n",
    "benchmark = Himmelblau()\n",
    "\n",
    "benchmark.domain.get_feature_reps_df()"
   ]
  },
  {
   "attachments": {},
   "cell_type": "markdown",
   "metadata": {},
   "source": [
    "Generating some initial data works as follows:"
   ]
  },
  {
   "cell_type": "code",
   "execution_count": null,
   "metadata": {},
   "outputs": [],
   "source": [
    "samples = benchmark.domain.inputs.sample(10)\n",
    "\n",
    "experiments = benchmark.f(samples, return_complete=True)\n",
    "\n",
    "experiments"
   ]
  },
  {
   "attachments": {},
   "cell_type": "markdown",
   "metadata": {},
   "source": [
    "Let's setup the SOBO strategy and ask for a candidate."
   ]
  },
  {
   "cell_type": "code",
   "execution_count": null,
   "metadata": {},
   "outputs": [],
   "source": [
    "from bofire.data_models.strategies.api import SoboStrategy\n",
    "from bofire.data_models.acquisition_functions.api import qNEI\n",
    "\n",
    "sobo_strategy_data_model = SoboStrategy(domain=benchmark.domain, acquisition_function=qNEI())\n",
    "\n",
    "sobo_strategy = strategy_mapper.map(sobo_strategy_data_model)\n",
    "\n",
    "sobo_strategy.tell(experiments=experiments)\n",
    "\n",
    "sobo_strategy.ask(candidate_count=1)\n"
   ]
  },
  {
   "attachments": {},
   "cell_type": "markdown",
   "metadata": {},
   "source": [
    "### Design of Experiments\n",
    "\n",
    "As a simple example for the DoE functionalities we consider the task of finding a D-optimal design for a fully-quadratic model with three design variables with bounds (0,1) and a mixture constraint.\n",
    "\n",
    "We define the design space including the constraint as a domain. Then we pass it to the optimization routine and specify the model. If the user does not indicate a number of experiments it will be chosen automatically based on the number of model terms."
   ]
  },
  {
   "cell_type": "code",
   "execution_count": null,
   "metadata": {},
   "outputs": [],
   "source": [
    "from bofire.strategies.doe.design import find_local_max_ipopt\n",
    "import numpy as np\n",
    "\n",
    "domain = Domain(\n",
    "    inputs=[x1,x2,x3],\n",
    "    outputs=[y1],\n",
    "    constraints=[constr1]\n",
    "    )\n",
    "\n",
    "res = find_local_max_ipopt(domain, \"fully-quadratic\")\n",
    "np.round(res,3)"
   ]
  },
  {
   "attachments": {},
   "cell_type": "markdown",
   "metadata": {},
   "source": [
    "The resulting design looks like this:"
   ]
  },
  {
   "cell_type": "code",
   "execution_count": null,
   "metadata": {},
   "outputs": [],
   "source": [
    "import matplotlib.pyplot as plt\n",
    "\n",
    "fig = plt.figure(figsize=((10,10)))\n",
    "ax = fig.add_subplot(111, projection='3d')\n",
    "ax.view_init(45, 45)\n",
    "ax.set_title(\"fully-quadratic model\")\n",
    "ax.set_xlabel(\"$x_1$\")\n",
    "ax.set_ylabel(\"$x_2$\")\n",
    "ax.set_zlabel(\"$x_3$\")\n",
    "plt.rcParams[\"figure.figsize\"] = (10,8)\n",
    "\n",
    "#plot feasible polytope\n",
    "ax.plot(\n",
    "    xs=[1,0,0,1],\n",
    "    ys=[0,1,0,0],\n",
    "    zs=[0,0,1,0],\n",
    "    linewidth=2\n",
    ")\n",
    "\n",
    "#plot D-optimal solutions\n",
    "ax.scatter(xs=res[\"x1\"], ys=res[\"x2\"], zs=res[\"x3\"], marker=\"o\", s=40, color=\"orange\")"
   ]
  },
  {
   "cell_type": "code",
   "execution_count": null,
   "metadata": {},
   "outputs": [],
   "source": []
  }
 ],
 "metadata": {
  "kernelspec": {
   "display_name": "bofire",
   "language": "python",
   "name": "python3"
  },
  "language_info": {
   "codemirror_mode": {
    "name": "ipython",
    "version": 3
   },
   "file_extension": ".py",
   "mimetype": "text/x-python",
   "name": "python",
   "nbconvert_exporter": "python",
   "pygments_lexer": "ipython3",
   "version": "3.11.3"
  }
 },
 "nbformat": 4,
 "nbformat_minor": 2
}
