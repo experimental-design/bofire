{
 "cells": [
  {
   "cell_type": "markdown",
   "metadata": {},
   "source": [
    "# Input Features as Output Objectives\n",
    "\n",
    "This notebook demonstrates how to put objectives on input features or a combination of input features. Possible usecases are favoring lower or higher amounts of an ingredient or to take into account a known (linear) cost function."
   ]
  },
  {
   "cell_type": "markdown",
   "metadata": {},
   "source": [
    "## Imports"
   ]
  },
  {
   "cell_type": "code",
   "execution_count": null,
   "metadata": {},
   "outputs": [],
   "source": [
    "import bofire.strategies.api as strategies\n",
    "import bofire.surrogates.api as surrogates\n",
    "from bofire.benchmarks.api import Himmelblau\n",
    "from bofire.data_models.features.api import ContinuousOutput\n",
    "from bofire.data_models.objectives.api import MaximizeSigmoidObjective\n",
    "from bofire.data_models.strategies.api import SoboStrategy\n",
    "from bofire.data_models.surrogates.api import (\n",
    "    BotorchSurrogates,\n",
    "    LinearDeterministicSurrogate,\n",
    ")"
   ]
  },
  {
   "cell_type": "markdown",
   "metadata": {},
   "source": [
    "## Setup an Example\n",
    "\n",
    "We use Himmelblau as example with an additional objective on `x_2` which pushes it to be larger 3 during the optimization."
   ]
  },
  {
   "cell_type": "code",
   "execution_count": null,
   "metadata": {},
   "outputs": [],
   "source": [
    "bench = Himmelblau()\n",
    "experiments = bench.f(bench.domain.inputs.sample(10), return_complete=True)\n",
    "\n",
    "domain = bench.domain\n",
    "domain.outputs.features.append(\n",
    "    ContinuousOutput(key=\"y_x2\", objective=MaximizeSigmoidObjective(tp=3, steepness=10))\n",
    ")\n",
    "\n",
    "experiments[\"y_x2\"] = experiments.x_2"
   ]
  },
  {
   "cell_type": "markdown",
   "metadata": {},
   "source": [
    "The `LinearDeterministicSurrogate` can be used to model that `y_x2 = x_2`."
   ]
  },
  {
   "cell_type": "code",
   "execution_count": null,
   "metadata": {},
   "outputs": [
    {
     "data": {
      "text/html": [
       "<div>\n",
       "<style scoped>\n",
       "    .dataframe tbody tr th:only-of-type {\n",
       "        vertical-align: middle;\n",
       "    }\n",
       "\n",
       "    .dataframe tbody tr th {\n",
       "        vertical-align: top;\n",
       "    }\n",
       "\n",
       "    .dataframe thead th {\n",
       "        text-align: right;\n",
       "    }\n",
       "</style>\n",
       "<table border=\"1\" class=\"dataframe\">\n",
       "  <thead>\n",
       "    <tr style=\"text-align: right;\">\n",
       "      <th></th>\n",
       "      <th>y_x2_pred</th>\n",
       "      <th>y_x2_sd</th>\n",
       "    </tr>\n",
       "  </thead>\n",
       "  <tbody>\n",
       "    <tr>\n",
       "      <th>0</th>\n",
       "      <td>-2.869398</td>\n",
       "      <td>0.0</td>\n",
       "    </tr>\n",
       "    <tr>\n",
       "      <th>1</th>\n",
       "      <td>-4.738913</td>\n",
       "      <td>0.0</td>\n",
       "    </tr>\n",
       "    <tr>\n",
       "      <th>2</th>\n",
       "      <td>-4.631332</td>\n",
       "      <td>0.0</td>\n",
       "    </tr>\n",
       "    <tr>\n",
       "      <th>3</th>\n",
       "      <td>-0.431255</td>\n",
       "      <td>0.0</td>\n",
       "    </tr>\n",
       "    <tr>\n",
       "      <th>4</th>\n",
       "      <td>4.296524</td>\n",
       "      <td>0.0</td>\n",
       "    </tr>\n",
       "    <tr>\n",
       "      <th>5</th>\n",
       "      <td>-2.488800</td>\n",
       "      <td>0.0</td>\n",
       "    </tr>\n",
       "    <tr>\n",
       "      <th>6</th>\n",
       "      <td>4.985624</td>\n",
       "      <td>0.0</td>\n",
       "    </tr>\n",
       "    <tr>\n",
       "      <th>7</th>\n",
       "      <td>-4.761821</td>\n",
       "      <td>0.0</td>\n",
       "    </tr>\n",
       "    <tr>\n",
       "      <th>8</th>\n",
       "      <td>-3.709402</td>\n",
       "      <td>0.0</td>\n",
       "    </tr>\n",
       "    <tr>\n",
       "      <th>9</th>\n",
       "      <td>4.985643</td>\n",
       "      <td>0.0</td>\n",
       "    </tr>\n",
       "  </tbody>\n",
       "</table>\n",
       "</div>"
      ],
      "text/plain": [
       "   y_x2_pred  y_x2_sd\n",
       "0  -2.869398      0.0\n",
       "1  -4.738913      0.0\n",
       "2  -4.631332      0.0\n",
       "3  -0.431255      0.0\n",
       "4   4.296524      0.0\n",
       "5  -2.488800      0.0\n",
       "6   4.985624      0.0\n",
       "7  -4.761821      0.0\n",
       "8  -3.709402      0.0\n",
       "9   4.985643      0.0"
      ]
     },
     "execution_count": null,
     "metadata": {},
     "output_type": "execute_result"
    }
   ],
   "source": [
    "surrogate_data = LinearDeterministicSurrogate(\n",
    "    inputs=domain.inputs.get_by_keys([\"x_2\"]),\n",
    "    outputs=domain.outputs.get_by_keys([\"y_x2\"]),\n",
    "    coefficients={\"x_2\": 1},\n",
    "    intercept=0,\n",
    ")\n",
    "surrogate = surrogates.map(surrogate_data)\n",
    "surrogate.predict(experiments[domain.inputs.get_keys()].copy())"
   ]
  },
  {
   "cell_type": "markdown",
   "metadata": {},
   "source": [
    "Next we setup a `SoboStrategy` using the custom surrogate for output `y_x2` and ask for a candidate. Note that the surrogate specs for output `y` is automatically generated and defaulted to be a `SingleTaskGPSurrogate`."
   ]
  },
  {
   "cell_type": "code",
   "execution_count": null,
   "metadata": {},
   "outputs": [
    {
     "name": "stderr",
     "output_type": "stream",
     "text": [
      "/Users/j30607/sandbox/botorch/botorch/models/ensemble.py:69: RuntimeWarning: Could not update `train_inputs` with transformed inputs since AffineDeterministicModel does not have a `train_inputs` attribute. Make sure that the `input_transform` is applied to both the train inputs and test inputs.\n",
      "  self.eval()\n",
      "/opt/homebrew/Caskroom/miniforge/base/envs/bofire-2/lib/python3.10/site-packages/torch/nn/modules/module.py:2417: RuntimeWarning: Could not update `train_inputs` with transformed inputs since AffineDeterministicModel does not have a `train_inputs` attribute. Make sure that the `input_transform` is applied to both the train inputs and test inputs.\n",
      "  return self.train(False)\n",
      "/Users/j30607/sandbox/botorch/botorch/models/ensemble.py:69: RuntimeWarning: Could not update `train_inputs` with transformed inputs since AffineDeterministicModel does not have a `train_inputs` attribute. Make sure that the `input_transform` is applied to both the train inputs and test inputs.\n",
      "  self.eval()\n",
      "/opt/homebrew/Caskroom/miniforge/base/envs/bofire-2/lib/python3.10/site-packages/torch/nn/modules/module.py:2417: RuntimeWarning: Could not update `train_inputs` with transformed inputs since AffineDeterministicModel does not have a `train_inputs` attribute. Make sure that the `input_transform` is applied to both the train inputs and test inputs.\n",
      "  return self.train(False)\n"
     ]
    },
    {
     "data": {
      "text/html": [
       "<div>\n",
       "<style scoped>\n",
       "    .dataframe tbody tr th:only-of-type {\n",
       "        vertical-align: middle;\n",
       "    }\n",
       "\n",
       "    .dataframe tbody tr th {\n",
       "        vertical-align: top;\n",
       "    }\n",
       "\n",
       "    .dataframe thead th {\n",
       "        text-align: right;\n",
       "    }\n",
       "</style>\n",
       "<table border=\"1\" class=\"dataframe\">\n",
       "  <thead>\n",
       "    <tr style=\"text-align: right;\">\n",
       "      <th></th>\n",
       "      <th>x_1</th>\n",
       "      <th>x_2</th>\n",
       "      <th>y_pred</th>\n",
       "      <th>y_x2_pred</th>\n",
       "      <th>y_sd</th>\n",
       "      <th>y_x2_sd</th>\n",
       "      <th>y_des</th>\n",
       "      <th>y_x2_des</th>\n",
       "    </tr>\n",
       "  </thead>\n",
       "  <tbody>\n",
       "    <tr>\n",
       "      <th>0</th>\n",
       "      <td>-6.0</td>\n",
       "      <td>3.515752</td>\n",
       "      <td>177.233702</td>\n",
       "      <td>3.515752</td>\n",
       "      <td>126.032483</td>\n",
       "      <td>0.0</td>\n",
       "      <td>-177.233702</td>\n",
       "      <td>0.994277</td>\n",
       "    </tr>\n",
       "  </tbody>\n",
       "</table>\n",
       "</div>"
      ],
      "text/plain": [
       "   x_1       x_2      y_pred  y_x2_pred        y_sd  y_x2_sd       y_des  \\\n",
       "0 -6.0  3.515752  177.233702   3.515752  126.032483      0.0 -177.233702   \n",
       "\n",
       "   y_x2_des  \n",
       "0  0.994277  "
      ]
     },
     "execution_count": null,
     "metadata": {},
     "output_type": "execute_result"
    }
   ],
   "source": [
    "strategy_data = SoboStrategy(\n",
    "    domain=domain, surrogate_specs=BotorchSurrogates(surrogates=[surrogate_data])\n",
    ")\n",
    "strategy = strategies.map(strategy_data)\n",
    "strategy.tell(experiments)\n",
    "strategy.ask(1)"
   ]
  }
 ],
 "metadata": {
  "kernelspec": {
   "display_name": "bofire-2",
   "language": "python",
   "name": "python3"
  },
  "language_info": {
   "codemirror_mode": {
    "name": "ipython",
    "version": 3
   },
   "file_extension": ".py",
   "mimetype": "text/x-python",
   "name": "python",
   "nbconvert_exporter": "python",
   "pygments_lexer": "ipython3",
   "version": "3.10.12"
  }
 },
 "nbformat": 4,
 "nbformat_minor": 2
}
