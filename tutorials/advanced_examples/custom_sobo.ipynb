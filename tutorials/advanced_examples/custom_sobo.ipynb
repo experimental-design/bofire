{
 "cells": [
  {
   "cell_type": "markdown",
   "metadata": {},
   "source": [
    "# Custom Sobo Strategy\n",
    "\n",
    "The `CustomSoboStrategy` can be used to design custom objectives or objective combinations for optimizations. In this tutorial notebook, it is shown how to use it to optimize a quantity that depends on a combination of an inferred quantity and one of the inputs."
   ]
  },
  {
   "cell_type": "markdown",
   "metadata": {},
   "source": [
    "## Imports"
   ]
  },
  {
   "cell_type": "code",
   "execution_count": null,
   "metadata": {},
   "outputs": [],
   "source": [
    "import torch\n",
    "\n",
    "import bofire.strategies.api as strategies\n",
    "from bofire.benchmarks.api import Himmelblau\n",
    "from bofire.data_models.strategies.api import CustomSoboStrategy\n",
    "from bofire.utils.torch_tools import tkwargs"
   ]
  },
  {
   "cell_type": "markdown",
   "metadata": {},
   "source": [
    "## Setup the optimization\n",
    "\n",
    "For the optimization, we want to subtract the inferred quantity by the value of feature `x_0`."
   ]
  },
  {
   "cell_type": "code",
   "execution_count": null,
   "metadata": {},
   "outputs": [
    {
     "data": {
      "text/html": [
       "<div>\n",
       "<style scoped>\n",
       "    .dataframe tbody tr th:only-of-type {\n",
       "        vertical-align: middle;\n",
       "    }\n",
       "\n",
       "    .dataframe tbody tr th {\n",
       "        vertical-align: top;\n",
       "    }\n",
       "\n",
       "    .dataframe thead th {\n",
       "        text-align: right;\n",
       "    }\n",
       "</style>\n",
       "<table border=\"1\" class=\"dataframe\">\n",
       "  <thead>\n",
       "    <tr style=\"text-align: right;\">\n",
       "      <th></th>\n",
       "      <th>x_1</th>\n",
       "      <th>x_2</th>\n",
       "      <th>y_pred</th>\n",
       "      <th>y_sd</th>\n",
       "      <th>y_des</th>\n",
       "    </tr>\n",
       "  </thead>\n",
       "  <tbody>\n",
       "    <tr>\n",
       "      <th>0</th>\n",
       "      <td>-3.804637</td>\n",
       "      <td>-3.284681</td>\n",
       "      <td>0.063537</td>\n",
       "      <td>3.625033</td>\n",
       "      <td>-0.063537</td>\n",
       "    </tr>\n",
       "  </tbody>\n",
       "</table>\n",
       "</div>"
      ],
      "text/plain": [
       "        x_1       x_2    y_pred      y_sd     y_des\n",
       "0 -3.804637 -3.284681  0.063537  3.625033 -0.063537"
      ]
     },
     "execution_count": null,
     "metadata": {},
     "output_type": "execute_result"
    }
   ],
   "source": [
    "benchmark = Himmelblau()\n",
    "experiments = benchmark.f(benchmark.domain.inputs.sample(10), return_complete=True)\n",
    "\n",
    "strategy_data = CustomSoboStrategy(domain=benchmark.domain)\n",
    "strategy = strategies.map(strategy_data)\n",
    "\n",
    "\n",
    "# here we find out what is the index of the input feature in the input tensor `X`\n",
    "# in the manipulation function below\n",
    "feature2index, _ = strategy.domain.inputs._get_transform_info(\n",
    "    strategy.input_preprocessing_specs\n",
    ")\n",
    "feat_idx = feature2index[\"x_1\"][0]\n",
    "\n",
    "\n",
    "# we assign now a torch based function to the strategy which performs the custom manipulation of the objective\n",
    "# the signature has to be understood in the following way:\n",
    "# - samples: the samples to evaluate the objective on, these are the predicted Y/output values of the model(s)\n",
    "# - callables: the botorch callables associated to objectives associated to the features\n",
    "#   (have a look at `get_objective_callable` in `bofire/utils/torch_tools.py`)\n",
    "# - weights: the weights associated to the objectives\n",
    "#   (have a look here: `_callables_and_weights` in `bofire/utils/torch_tools.py`)\n",
    "# - X: a tensor of input values associated to the output values  samples, associated to the Y/output values (`samples`)\n",
    "\n",
    "\n",
    "def f(samples, callables, weights, X):\n",
    "    val = torch.tensor(0.0).to(**tkwargs)\n",
    "    for c, w in zip(callables, weights):\n",
    "        val = val + c(samples, None) * w\n",
    "    # here, you have to implement the custom manipulation of the objective\n",
    "    # in this example, we subtract the value of the first feature from the objective\n",
    "    val = val - X[..., feat_idx]\n",
    "    return val\n",
    "\n",
    "\n",
    "strategy.f = f\n",
    "\n",
    "strategy.tell(experiments)\n",
    "strategy.ask(1)"
   ]
  }
 ],
 "metadata": {
  "kernelspec": {
   "display_name": "bofire-2",
   "language": "python",
   "name": "python3"
  },
  "language_info": {
   "codemirror_mode": {
    "name": "ipython",
    "version": 3
   },
   "file_extension": ".py",
   "mimetype": "text/x-python",
   "name": "python",
   "nbconvert_exporter": "python",
   "pygments_lexer": "ipython3",
   "version": "3.10.12"
  }
 },
 "nbformat": 4,
 "nbformat_minor": 2
}
