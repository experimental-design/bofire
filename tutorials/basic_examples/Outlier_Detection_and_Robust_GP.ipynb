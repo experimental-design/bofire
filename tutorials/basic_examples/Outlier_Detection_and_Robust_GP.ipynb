{
 "cells": [
  {
   "cell_type": "markdown",
   "id": "0",
   "metadata": {},
   "source": [
    "### Outlier Detection and Robust GP\n",
    "\n",
    "This notebook shows how to use RobustSingleTaskGPSurrogate in Bofire to autmomatically detect outliers in your data and/or fit Gaussian process models robust to outliers.\n",
    "\n",
    "It is based on the [Robust Gaussian Processes via Relevance Pursuit](https://arxiv.org/pdf/2410.24222) paper and is based on the accompanying implementation and tutorial in [BoTorch](https://botorch.org/docs/tutorials/relevance_pursuit_robust_regression/)\n",
    "\n",
    "In this approach, the typical GP observation noise $\\sigma^2$ is extended with data-point-specific noise variances $\\rho$. A prior distribution is placed over the number of outliers $S$, and through a sequential greedy optimization algorithm (see for details the links above) a list of models with variying sparsity levels $|S|$ are obtained. The most promising model can then be selected through Bayesian model selection.\n",
    "\n",
    "This tutorial will show how to use the model, how to obtain the data-point specific noise levels, and how to obtain the full model trace."
   ]
  },
  {
   "cell_type": "markdown",
   "id": "1",
   "metadata": {},
   "source": [
    "### Imports"
   ]
  },
  {
   "cell_type": "code",
   "execution_count": null,
   "id": "2",
   "metadata": {},
   "outputs": [],
   "source": [
    "# Model imports\n",
    "import matplotlib.pyplot as plt\n",
    "import numpy as np\n",
    "import pandas as pd\n",
    "import torch\n",
    "from torch import Tensor\n",
    "\n",
    "import bofire.surrogates.api as surrogates\n",
    "from bofire.data_models.domain.api import Inputs, Outputs\n",
    "from bofire.data_models.features.api import ContinuousInput, ContinuousOutput\n",
    "from bofire.data_models.surrogates.api import (\n",
    "    RobustSingleTaskGPSurrogate,\n",
    "    SingleTaskGPSurrogate,\n",
    ")"
   ]
  },
  {
   "cell_type": "markdown",
   "id": "3",
   "metadata": {},
   "source": [
    "### Setting up a Synthetic example"
   ]
  },
  {
   "cell_type": "code",
   "execution_count": null,
   "id": "4",
   "metadata": {},
   "outputs": [],
   "source": [
    "input_features = Inputs(\n",
    "    features=[ContinuousInput(key=f\"x_{i+1}\", bounds=(-4, 4)) for i in range(1)],\n",
    ")\n",
    "output_features = Outputs(features=[ContinuousOutput(key=\"y_1\")])\n",
    "\n",
    "experiments = input_features.sample(n=10)\n",
    "experiments[\"y_1\"] = np.sin(experiments[\"x_1\"])\n",
    "\n",
    "experiments[\"valid_y_1\"] = 1\n",
    "experiments[\"valid_y_2\"] = 1\n",
    "\n",
    "# prediction grid\n",
    "x = pd.DataFrame(pd.Series(np.linspace(-4, 4, 100), name=\"x_1\"))"
   ]
  },
  {
   "cell_type": "markdown",
   "id": "5",
   "metadata": {},
   "source": [
    "### Let's add two clear outliers\n"
   ]
  },
  {
   "cell_type": "code",
   "execution_count": null,
   "id": "6",
   "metadata": {},
   "outputs": [],
   "source": [
    "experiments.loc[0, \"y_1\"] = 5\n",
    "experiments.loc[1, \"y_1\"] = -5"
   ]
  },
  {
   "cell_type": "code",
   "execution_count": null,
   "id": "7",
   "metadata": {},
   "outputs": [],
   "source": [
    "plt.plot(experiments[\"x_1\"], experiments[\"y_1\"], \"o\")\n",
    "\n",
    "# plot the last two points in red\n",
    "plt.plot(\n",
    "    experiments[\"x_1\"].iloc[:2],\n",
    "    experiments[\"y_1\"].iloc[:2],\n",
    "    \"ro\",\n",
    "    label=\"outliers\",\n",
    ")\n",
    "\n",
    "plt.legend()\n",
    "plt.show()"
   ]
  },
  {
   "cell_type": "markdown",
   "id": "8",
   "metadata": {},
   "source": [
    "### Testing a SingleTaskGP"
   ]
  },
  {
   "cell_type": "code",
   "execution_count": null,
   "id": "9",
   "metadata": {},
   "outputs": [],
   "source": [
    "stgp_data_model = SingleTaskGPSurrogate(\n",
    "    inputs=input_features,\n",
    "    outputs=output_features,\n",
    ")\n",
    "\n",
    "stgp_model = surrogates.map(data_model=stgp_data_model)\n",
    "stgp_model.fit(experiments)\n",
    "stgp_predictions = stgp_model.predict(x)"
   ]
  },
  {
   "cell_type": "code",
   "execution_count": null,
   "id": "10",
   "metadata": {},
   "outputs": [],
   "source": [
    "# plot the surrogate\n",
    "plt.figure(figsize=(10, 5))\n",
    "plt.plot(experiments[\"x_1\"], experiments[\"y_1\"], \"o\", label=\"observations\")\n",
    "\n",
    "# plot the outliers in red\n",
    "plt.plot(\n",
    "    experiments[\"x_1\"].iloc[:2],\n",
    "    experiments[\"y_1\"].iloc[:2],\n",
    "    \"ro\",\n",
    "    label=\"outliers\",\n",
    ")\n",
    "\n",
    "plt.plot(x[\"x_1\"], stgp_predictions[\"y_1_pred\"], label=\"predictions\")\n",
    "plt.fill_between(\n",
    "    x[\"x_1\"],\n",
    "    stgp_predictions[\"y_1_pred\"] - 2 * stgp_predictions[\"y_1_sd\"],\n",
    "    stgp_predictions[\"y_1_pred\"] + 2 * stgp_predictions[\"y_1_sd\"],\n",
    "    alpha=0.2,\n",
    "    label=\"95% confidence interval\",\n",
    ")\n",
    "plt.xlabel(\"x_1\")\n",
    "plt.ylabel(\"y_1\")\n",
    "plt.title(\"Single Task GP Predictions\")\n",
    "plt.legend()\n",
    "plt.show()"
   ]
  },
  {
   "cell_type": "markdown",
   "id": "11",
   "metadata": {},
   "source": [
    "### Testing the Robust GP"
   ]
  },
  {
   "cell_type": "code",
   "execution_count": null,
   "id": "12",
   "metadata": {},
   "outputs": [],
   "source": [
    "data_model = RobustSingleTaskGPSurrogate(\n",
    "    inputs=input_features,\n",
    "    outputs=output_features,\n",
    ")\n",
    "\n",
    "model = surrogates.map(data_model=data_model)\n",
    "model.fit(experiments)\n",
    "predictions = model.predict(x)"
   ]
  },
  {
   "cell_type": "code",
   "execution_count": null,
   "id": "13",
   "metadata": {},
   "outputs": [],
   "source": [
    "# plot the surrogate\n",
    "plt.figure(figsize=(10, 5))\n",
    "plt.plot(experiments[\"x_1\"], experiments[\"y_1\"], \"o\", label=\"observations\")\n",
    "plt.plot(x[\"x_1\"], predictions[\"y_1_pred\"], label=\"predictions\")\n",
    "\n",
    "# plot the outliers in red\n",
    "plt.plot(\n",
    "    experiments[\"x_1\"].iloc[:2],\n",
    "    experiments[\"y_1\"].iloc[:2],\n",
    "    \"ro\",\n",
    "    label=\"outliers\",\n",
    ")\n",
    "\n",
    "plt.fill_between(\n",
    "    x[\"x_1\"],\n",
    "    predictions[\"y_1_pred\"] - 2 * predictions[\"y_1_sd\"],\n",
    "    predictions[\"y_1_pred\"] + 2 * predictions[\"y_1_sd\"],\n",
    "    alpha=0.2,\n",
    "    label=\"95% confidence interval\",\n",
    ")\n",
    "plt.xlabel(\"x_1\")\n",
    "plt.ylabel(\"y_1\")\n",
    "plt.title(\"Robust Single Task GP Predictions\")\n",
    "plt.legend()\n",
    "plt.show()"
   ]
  },
  {
   "cell_type": "markdown",
   "id": "14",
   "metadata": {},
   "source": [
    "### Returning data point specific noise values $\\rho$"
   ]
  },
  {
   "cell_type": "code",
   "execution_count": null,
   "id": "15",
   "metadata": {},
   "outputs": [],
   "source": [
    "model.predict_outliers(experiments)"
   ]
  },
  {
   "cell_type": "markdown",
   "id": "16",
   "metadata": {},
   "source": [
    "### Plotting the data point specific noise values"
   ]
  },
  {
   "cell_type": "code",
   "execution_count": null,
   "id": "17",
   "metadata": {},
   "outputs": [],
   "source": [
    "# Get the outlier scores (rho) from the robust GP model\n",
    "outlier_scores = model.predict_outliers(experiments)\n",
    "\n",
    "# Plot the surrogate predictions\n",
    "plt.figure(figsize=(10, 5))\n",
    "plt.plot(experiments[\"x_1\"], experiments[\"y_1\"], \"o\", label=\"observations\")\n",
    "plt.plot(x[\"x_1\"], predictions[\"y_1_pred\"], label=\"predictions\")\n",
    "\n",
    "# plot the outliers in red\n",
    "plt.plot(\n",
    "    experiments[\"x_1\"].iloc[:2],\n",
    "    experiments[\"y_1\"].iloc[:2],\n",
    "    \"ro\",\n",
    "    label=\"outliers\",\n",
    ")\n",
    "\n",
    "# Plot sqrt(rho) as error bars on the observations\n",
    "plt.errorbar(\n",
    "    experiments[\"x_1\"],\n",
    "    experiments[\"y_1\"],\n",
    "    yerr=outlier_scores[\"y_1_rho\"].values,\n",
    "    fmt=\"none\",\n",
    "    ecolor=\"orange\",\n",
    "    alpha=0.7,\n",
    "    label=\"rho\",\n",
    ")\n",
    "\n",
    "plt.fill_between(\n",
    "    x[\"x_1\"],\n",
    "    predictions[\"y_1_pred\"] - 2 * predictions[\"y_1_sd\"],\n",
    "    predictions[\"y_1_pred\"] + 2 * predictions[\"y_1_sd\"],\n",
    "    alpha=0.2,\n",
    "    label=\"95% confidence interval\",\n",
    ")\n",
    "plt.xlabel(\"x_1\")\n",
    "plt.ylabel(\"y_1\")\n",
    "plt.title(\"Robust Single Task GP Predictions with sqrt(rho) errorbars\")\n",
    "plt.legend()\n",
    "plt.show()"
   ]
  },
  {
   "cell_type": "markdown",
   "id": "18",
   "metadata": {},
   "source": [
    "### Hyperparameter optimization\n",
    "\n",
    "The RobustSingleTaskGPSurrogate also support hyperparameter optimization over different kernels, priors, etc."
   ]
  },
  {
   "cell_type": "code",
   "execution_count": null,
   "id": "19",
   "metadata": {},
   "outputs": [],
   "source": [
    "# opt_surrogate_data, perf = hyperoptimize(surrogate_data=data_model, training_data=experiments, folds=4)\n",
    "# surrogate = surrogates.map(opt_surrogate_data)"
   ]
  },
  {
   "cell_type": "markdown",
   "id": "20",
   "metadata": {},
   "source": [
    "### Obtaining the full model trace"
   ]
  },
  {
   "cell_type": "code",
   "execution_count": null,
   "id": "21",
   "metadata": {},
   "outputs": [],
   "source": [
    "def bmc_plot(bmc_support_sizes: Tensor, bmc_probabilities: Tensor) -> None:\n",
    "    cmap = plt.colormaps[\"viridis\"]\n",
    "    bar_width = 1\n",
    "    plt.title(\"Model Evidence\")\n",
    "    for i, ss in enumerate(bmc_support_sizes):\n",
    "        color = cmap((1 - (len(bmc_support_sizes) - i) / (2 * len(bmc_support_sizes))))\n",
    "        plt.bar(ss, bmc_probabilities[i], color=color, width=bar_width)\n",
    "\n",
    "    i = bmc_probabilities.argmax()\n",
    "    map_color = cmap((1 - (len(bmc_support_sizes) - i) / (2 * len(bmc_support_sizes))))\n",
    "    plt.bar(\n",
    "        bmc_support_sizes[i],\n",
    "        bmc_probabilities[i],\n",
    "        color=map_color,\n",
    "        label=\"MAP\",\n",
    "        edgecolor=\"black\",\n",
    "        linewidth=1.5,\n",
    "        width=bar_width,\n",
    "    )\n",
    "\n",
    "    support_prior = torch.exp(-bmc_support_sizes / model.model.prior_mean_of_support)\n",
    "    support_prior = support_prior / support_prior.sum()\n",
    "    plt.plot(bmc_support_sizes, support_prior, \"D\", color=\"black\", label=\"Prior\", ms=2)\n",
    "\n",
    "    plt.xlabel(\n",
    "        f\"Support Size (Prior = Exponential(mean={model.model.prior_mean_of_support:.1f}))\"\n",
    "    )\n",
    "    plt.ylabel(\"Posterior Marginal Likelihood (%)\")\n",
    "    plt.legend(loc=\"upper right\")"
   ]
  },
  {
   "cell_type": "code",
   "execution_count": null,
   "id": "22",
   "metadata": {},
   "outputs": [],
   "source": [
    "data_model = RobustSingleTaskGPSurrogate(\n",
    "    inputs=input_features,\n",
    "    outputs=output_features,\n",
    "    cache_model_trace=True,\n",
    ")\n",
    "\n",
    "model = surrogates.map(data_model=data_model)\n",
    "model.fit(experiments)\n",
    "predictions = model.predict(x)"
   ]
  },
  {
   "cell_type": "code",
   "execution_count": null,
   "id": "23",
   "metadata": {},
   "outputs": [],
   "source": [
    "figsize = (6, 4)\n",
    "fig = plt.figure(dpi=100, figsize=figsize)\n",
    "bmc_plot(model.model.bmc_support_sizes.detach(), model.model.bmc_probabilities.detach())"
   ]
  }
 ],
 "metadata": {
  "kernelspec": {
   "display_name": "AutoLC",
   "language": "python",
   "name": "python3"
  },
  "language_info": {
   "codemirror_mode": {
    "name": "ipython",
    "version": 3
   },
   "file_extension": ".py",
   "mimetype": "text/x-python",
   "name": "python",
   "nbconvert_exporter": "python",
   "pygments_lexer": "ipython3",
   "version": "3.11.11"
  }
 },
 "nbformat": 4,
 "nbformat_minor": 5
}
