{
 "cells": [
  {
   "cell_type": "markdown",
   "metadata": {},
   "source": [
    "# Classification Surrogate Tests\n",
    "\n",
    "We are interested in testing whether or not a surrogate model can correctly identify unknown constraints based on binary feasibility/infeasibility. This involves new models which produce `CategoricalOutput`s rather than continuous outputs. Mathematically, instead of multiplying the objective by $\\sigma(x)\\in(0,1)$, we multiply by $I(x)$ which is 1 if $x\\in X$ otherwise it is 0. Since currently BoTorch does not offer support for discrete feasibility constraints (see: [here](https://github.com/pytorch/botorch/blob/main/botorch/utils/objective.py#L122)), we will instead always multiply our objective directly by the feasibility value\n",
    "\n",
    "In our toy example, the feasible points satisfy $x_1+x_2<= 1.0$."
   ]
  },
  {
   "cell_type": "code",
   "execution_count": 1,
   "metadata": {},
   "outputs": [
    {
     "name": "stderr",
     "output_type": "stream",
     "text": [
      "c:\\ProgramData\\Anaconda3\\envs\\bofire-env\\lib\\site-packages\\tqdm\\auto.py:21: TqdmWarning: IProgress not found. Please update jupyter and ipywidgets. See https://ipywidgets.readthedocs.io/en/stable/user_install.html\n",
      "  from .autonotebook import tqdm as notebook_tqdm\n"
     ]
    }
   ],
   "source": [
    "# Import packages\n",
    "import bofire.strategies.api as strategies\n",
    "from bofire.data_models.api import Domain, Outputs, Inputs\n",
    "from bofire.data_models.features.api import ContinuousInput, ContinuousOutput, CategoricalOutput, CategoricalInput\n",
    "from bofire.data_models.objectives.api import MinimizeObjective, MinimizeSigmoidObjective\n",
    "import numpy as np"
   ]
  },
  {
   "attachments": {},
   "cell_type": "markdown",
   "metadata": {},
   "source": [
    "## Manual setup of the optimization domain\n",
    "\n",
    "The following cell shows how to manually setup the optimization problem in BoFire for didactic purposes. We design a feasible set and output constraints for example."
   ]
  },
  {
   "cell_type": "code",
   "execution_count": 2,
   "metadata": {},
   "outputs": [
    {
     "data": {
      "text/html": [
       "<div>\n",
       "<style scoped>\n",
       "    .dataframe tbody tr th:only-of-type {\n",
       "        vertical-align: middle;\n",
       "    }\n",
       "\n",
       "    .dataframe tbody tr th {\n",
       "        vertical-align: top;\n",
       "    }\n",
       "\n",
       "    .dataframe thead th {\n",
       "        text-align: right;\n",
       "    }\n",
       "</style>\n",
       "<table border=\"1\" class=\"dataframe\">\n",
       "  <thead>\n",
       "    <tr style=\"text-align: right;\">\n",
       "      <th></th>\n",
       "      <th>x_0</th>\n",
       "      <th>x_1</th>\n",
       "      <th>x_2</th>\n",
       "      <th>x_3</th>\n",
       "      <th>x_4</th>\n",
       "      <th>x_5</th>\n",
       "      <th>f_0</th>\n",
       "      <th>f_1</th>\n",
       "    </tr>\n",
       "  </thead>\n",
       "  <tbody>\n",
       "    <tr>\n",
       "      <th>0</th>\n",
       "      <td>0.502015</td>\n",
       "      <td>0.556355</td>\n",
       "      <td>0.184407</td>\n",
       "      <td>0.135966</td>\n",
       "      <td>0.191290</td>\n",
       "      <td>0.0</td>\n",
       "      <td>0.000763</td>\n",
       "      <td>infeasible</td>\n",
       "    </tr>\n",
       "    <tr>\n",
       "      <th>1</th>\n",
       "      <td>0.400085</td>\n",
       "      <td>0.351817</td>\n",
       "      <td>0.848917</td>\n",
       "      <td>0.924594</td>\n",
       "      <td>0.657947</td>\n",
       "      <td>0.5</td>\n",
       "      <td>-0.856798</td>\n",
       "      <td>feasible</td>\n",
       "    </tr>\n",
       "    <tr>\n",
       "      <th>2</th>\n",
       "      <td>0.694559</td>\n",
       "      <td>0.481801</td>\n",
       "      <td>0.239983</td>\n",
       "      <td>0.528414</td>\n",
       "      <td>0.642616</td>\n",
       "      <td>0.0</td>\n",
       "      <td>-0.850312</td>\n",
       "      <td>infeasible</td>\n",
       "    </tr>\n",
       "    <tr>\n",
       "      <th>3</th>\n",
       "      <td>0.678207</td>\n",
       "      <td>0.840033</td>\n",
       "      <td>0.298988</td>\n",
       "      <td>0.925851</td>\n",
       "      <td>0.740847</td>\n",
       "      <td>0.5</td>\n",
       "      <td>-0.665724</td>\n",
       "      <td>infeasible</td>\n",
       "    </tr>\n",
       "    <tr>\n",
       "      <th>4</th>\n",
       "      <td>0.006785</td>\n",
       "      <td>0.787913</td>\n",
       "      <td>0.778813</td>\n",
       "      <td>0.861638</td>\n",
       "      <td>0.290225</td>\n",
       "      <td>0.5</td>\n",
       "      <td>-0.996492</td>\n",
       "      <td>feasible</td>\n",
       "    </tr>\n",
       "  </tbody>\n",
       "</table>\n",
       "</div>"
      ],
      "text/plain": [
       "        x_0       x_1       x_2       x_3       x_4  x_5       f_0         f_1\n",
       "0  0.502015  0.556355  0.184407  0.135966  0.191290  0.0  0.000763  infeasible\n",
       "1  0.400085  0.351817  0.848917  0.924594  0.657947  0.5 -0.856798    feasible\n",
       "2  0.694559  0.481801  0.239983  0.528414  0.642616  0.0 -0.850312  infeasible\n",
       "3  0.678207  0.840033  0.298988  0.925851  0.740847  0.5 -0.665724  infeasible\n",
       "4  0.006785  0.787913  0.778813  0.861638  0.290225  0.5 -0.996492    feasible"
      ]
     },
     "execution_count": 2,
     "metadata": {},
     "output_type": "execute_result"
    }
   ],
   "source": [
    "# Set-up the inputs and outputs, use categorical domain just as an example\n",
    "input_features = Inputs(features=[ContinuousInput(key=f\"x_{i}\", bounds=(0, 1)) for i in range(5)] + [CategoricalInput(key=f\"x_5\", categories=(0.5, 0.0))])\n",
    "\n",
    "# here the minimize objective is used, if you want to maximize you have to use the maximize objective.\n",
    "output_features = Outputs(features=[\n",
    "        ContinuousOutput(key=f\"f_{0}\", objective=MinimizeObjective(w=1.)),\n",
    "        # ContinuousOutput(key=f\"f_{2}\", objective=MinimizeSigmoidObjective(w=1., tp=0.0, steepness=0.5)),\n",
    "        CategoricalOutput(key=f\"f_{1}\", categories=[\"infeasible\", \"feasible\"], objective=[0, 1]) # This function will be associated with learning the feasibility/infeasibility\n",
    "    ]\n",
    ")\n",
    "\n",
    "# Create domain\n",
    "domain1 = Domain(inputs=input_features, outputs=output_features)\n",
    "\n",
    "# Sample random points\n",
    "sample_df = domain1.inputs.sample(20).astype(float) # Sample x's\n",
    "\n",
    "# Write a function which outputs one continuous variable and another discrete based on some logic\n",
    "# Here, feasible points are points whose first two components sum to less then 1.0 - in real experiments, these would not be known\n",
    "sample_df[\"f_0\"] = np.cos(sample_df.values.sum(1))\n",
    "sample_df[\"f_1\"] = \"infeasible\"\n",
    "sample_df.loc[sample_df[\"x_0\"]+sample_df[\"x_1\"] <= 1.0, \"f_1\"] = \"feasible\"\n",
    "# sample_df[\"f_2\"] = np.random.uniform(size=(len(sample_df),))\n",
    "\n",
    "sample_df.head(5)"
   ]
  },
  {
   "cell_type": "markdown",
   "metadata": {},
   "source": [
    "## Setup of the Strategy and ask for Candidates\n",
    "\n"
   ]
  },
  {
   "cell_type": "code",
   "execution_count": 3,
   "metadata": {},
   "outputs": [],
   "source": [
    "from bofire.data_models.acquisition_functions.api import qNEI, qUCB, qSR, qEI\n",
    "from bofire.data_models.strategies.api import QparegoStrategy, MultiplicativeSoboStrategy, SoboStrategy\n",
    "from bofire.data_models.surrogates.api import BotorchSurrogates, MLPClassifierEnsemble, MixedSingleTaskGPSurrogate\n",
    "from bofire.data_models.domain.api import Outputs\n",
    "\n",
    "strategy_data = SoboStrategy(domain=domain1, \n",
    "                             acquisition_function=qEI(), \n",
    "                             surrogate_specs=BotorchSurrogates(surrogates=\n",
    "                                    [\n",
    "                                        MLPClassifierEnsemble(inputs=domain1.inputs, outputs=Outputs(features=[domain1.outputs[-1]]), lr=1.0, n_epochs=100, hidden_layer_sizes=(20,)),\n",
    "                                        # MixedSingleTaskGPSurrogate(inputs=domain1.inputs, outputs=Outputs(features=[domain1.outputs[1]]))\n",
    "                                    ]\n",
    "                                )\n",
    "                            )\n",
    "\n",
    "strategy = strategies.map(strategy_data)\n",
    "\n",
    "strategy.tell(sample_df)"
   ]
  },
  {
   "cell_type": "code",
   "execution_count": 4,
   "metadata": {},
   "outputs": [
    {
     "name": "stderr",
     "output_type": "stream",
     "text": [
      "c:\\ProgramData\\Anaconda3\\envs\\bofire-env\\lib\\site-packages\\botorch\\models\\model.py:214: RuntimeWarning: Could not update `train_inputs` with transformed inputs since _MLPClassifierEnsemble does not have a `train_inputs` attribute. Make sure that the `input_transform` is applied to both the train inputs and test inputs.\n",
      "  warnings.warn(\n",
      "c:\\ProgramData\\Anaconda3\\envs\\bofire-env\\lib\\site-packages\\botorch\\models\\model.py:214: RuntimeWarning: Could not update `train_inputs` with transformed inputs since _MLPClassifierEnsemble does not have a `train_inputs` attribute. Make sure that the `input_transform` is applied to both the train inputs and test inputs.\n",
      "  warnings.warn(\n",
      "c:\\ProgramData\\Anaconda3\\envs\\bofire-env\\lib\\site-packages\\botorch\\models\\model.py:214: RuntimeWarning: Could not update `train_inputs` with transformed inputs since _MLPClassifierEnsemble does not have a `train_inputs` attribute. Make sure that the `input_transform` is applied to both the train inputs and test inputs.\n",
      "  warnings.warn(\n"
     ]
    },
    {
     "data": {
      "text/html": [
       "<div>\n",
       "<style scoped>\n",
       "    .dataframe tbody tr th:only-of-type {\n",
       "        vertical-align: middle;\n",
       "    }\n",
       "\n",
       "    .dataframe tbody tr th {\n",
       "        vertical-align: top;\n",
       "    }\n",
       "\n",
       "    .dataframe thead th {\n",
       "        text-align: right;\n",
       "    }\n",
       "</style>\n",
       "<table border=\"1\" class=\"dataframe\">\n",
       "  <thead>\n",
       "    <tr style=\"text-align: right;\">\n",
       "      <th></th>\n",
       "      <th>x_0</th>\n",
       "      <th>x_1</th>\n",
       "      <th>x_2</th>\n",
       "      <th>x_3</th>\n",
       "      <th>x_4</th>\n",
       "      <th>x_5</th>\n",
       "      <th>f_0_pred</th>\n",
       "      <th>f_1_pred</th>\n",
       "      <th>f_0_sd</th>\n",
       "      <th>f_1_sd</th>\n",
       "      <th>f_0_des</th>\n",
       "      <th>f_1_des</th>\n",
       "    </tr>\n",
       "  </thead>\n",
       "  <tbody>\n",
       "    <tr>\n",
       "      <th>0</th>\n",
       "      <td>0.723341</td>\n",
       "      <td>1.0</td>\n",
       "      <td>0.703635</td>\n",
       "      <td>0.426167</td>\n",
       "      <td>0.328014</td>\n",
       "      <td>0.5</td>\n",
       "      <td>-1.267539</td>\n",
       "      <td>feasible</td>\n",
       "      <td>0.042117</td>\n",
       "      <td>0.547723</td>\n",
       "      <td>1.267539</td>\n",
       "      <td>1.0</td>\n",
       "    </tr>\n",
       "    <tr>\n",
       "      <th>1</th>\n",
       "      <td>0.000000</td>\n",
       "      <td>1.0</td>\n",
       "      <td>0.312203</td>\n",
       "      <td>0.450019</td>\n",
       "      <td>0.388926</td>\n",
       "      <td>0.5</td>\n",
       "      <td>-1.250402</td>\n",
       "      <td>feasible</td>\n",
       "      <td>0.042963</td>\n",
       "      <td>0.547723</td>\n",
       "      <td>1.250402</td>\n",
       "      <td>1.0</td>\n",
       "    </tr>\n",
       "  </tbody>\n",
       "</table>\n",
       "</div>"
      ],
      "text/plain": [
       "        x_0  x_1       x_2       x_3       x_4  x_5  f_0_pred  f_1_pred  \\\n",
       "0  0.723341  1.0  0.703635  0.426167  0.328014  0.5 -1.267539  feasible   \n",
       "1  0.000000  1.0  0.312203  0.450019  0.388926  0.5 -1.250402  feasible   \n",
       "\n",
       "     f_0_sd    f_1_sd   f_0_des  f_1_des  \n",
       "0  0.042117  0.547723  1.267539      1.0  \n",
       "1  0.042963  0.547723  1.250402      1.0  "
      ]
     },
     "execution_count": 4,
     "metadata": {},
     "output_type": "execute_result"
    }
   ],
   "source": [
    "candidates = strategy.ask(2)\n",
    "\n",
    "candidates"
   ]
  },
  {
   "cell_type": "markdown",
   "metadata": {},
   "source": [
    "# Add Classification Models for Surrogates\n",
    "\n",
    "Updating the surrogates to allow for classification of output values (i.e. 'feasible' or 'infeasible').\n",
    "\n",
    "### Housekeeping changes\n",
    "\n",
    "1. Update the categorical input/outputs ('bofire/data_models/features/categorical.py') to always return a tuple instead of a list for `categories` and attribute (to prevent mutation)\n",
    "    - Associated test are changed in 'tests/bofire/data_models/specs/features.py'\n",
    "2. \n",
    "\n",
    "### Classification Models\n",
    "\n",
    "Initially, we are only interested in checking whether or not certain points are feasible or infeasible, hence this is a binary classification problem. \n",
    "\n",
    "\n",
    "### Questions\n",
    "\n",
    "1. Should we force `allowed` to be a tuple for the categorical input/outputs? If so, we need to refactor indexing for Pandas DFs..."
   ]
  }
 ],
 "metadata": {
  "kernelspec": {
   "display_name": "bofire",
   "language": "python",
   "name": "python3"
  },
  "language_info": {
   "codemirror_mode": {
    "name": "ipython",
    "version": 3
   },
   "file_extension": ".py",
   "mimetype": "text/x-python",
   "name": "python",
   "nbconvert_exporter": "python",
   "pygments_lexer": "ipython3",
   "version": "3.9.0"
  },
  "orig_nbformat": 4,
  "vscode": {
   "interpreter": {
    "hash": "6f21737eef49beedf03d74399b47fe38d73eff760737ca33d38b9fe616638e91"
   }
  }
 },
 "nbformat": 4,
 "nbformat_minor": 2
}
