{
 "cells": [
  {
   "attachments": {},
   "cell_type": "markdown",
   "id": "0",
   "metadata": {
    "papermill": {
     "duration": 0.004632,
     "end_time": "2024-10-10T20:34:21.983830",
     "exception": false,
     "start_time": "2024-10-10T20:34:21.979198",
     "status": "completed"
    },
    "tags": []
   },
   "source": [
    "# Model Building with BoFire\n",
    "\n",
    "This notebooks shows how to setup and analyze models trained with BoFire. It is still WIP."
   ]
  },
  {
   "attachments": {},
   "cell_type": "markdown",
   "id": "1",
   "metadata": {
    "papermill": {
     "duration": 0.003229,
     "end_time": "2024-10-10T20:34:21.990541",
     "exception": false,
     "start_time": "2024-10-10T20:34:21.987312",
     "status": "completed"
    },
    "tags": []
   },
   "source": [
    "## Imports"
   ]
  },
  {
   "cell_type": "code",
   "execution_count": null,
   "id": "2",
   "metadata": {
    "papermill": {
     "duration": 2.690868,
     "end_time": "2024-10-10T20:34:24.683197",
     "exception": false,
     "start_time": "2024-10-10T20:34:21.992329",
     "status": "completed"
    },
    "tags": []
   },
   "outputs": [],
   "source": [
    "import bofire.surrogates.api as surrogates\n",
    "from bofire.data_models.domain.api import Inputs, Outputs\n",
    "from bofire.data_models.enum import RegressionMetricsEnum\n",
    "from bofire.data_models.features.api import ContinuousInput, ContinuousOutput\n",
    "from bofire.data_models.surrogates.api import SingleTaskGPSurrogate\n",
    "from bofire.plot.feature_importance import plot_feature_importance_by_feature_plotly\n",
    "from bofire.surrogates.feature_importance import (\n",
    "    combine_lengthscale_importances,\n",
    "    combine_permutation_importances,\n",
    "    lengthscale_importance_hook,\n",
    "    permutation_importance_hook,\n",
    ")"
   ]
  },
  {
   "attachments": {},
   "cell_type": "markdown",
   "id": "3",
   "metadata": {
    "papermill": {
     "duration": 0.001001,
     "end_time": "2024-10-10T20:34:24.685565",
     "exception": false,
     "start_time": "2024-10-10T20:34:24.684564",
     "status": "completed"
    },
    "tags": []
   },
   "source": [
    "## Problem Setup\n",
    "\n",
    "For didactic purposes, we sample data from a Himmelblau benchmark function and use them to train a SingleTaskGP."
   ]
  },
  {
   "cell_type": "code",
   "execution_count": null,
   "id": "4",
   "metadata": {
    "papermill": {
     "duration": 0.010285,
     "end_time": "2024-10-10T20:34:24.696815",
     "exception": false,
     "start_time": "2024-10-10T20:34:24.686530",
     "status": "completed"
    },
    "tags": []
   },
   "outputs": [],
   "source": [
    "# TODO: replace this after JDs PR is ready.\n",
    "input_features = Inputs(\n",
    "    features=[ContinuousInput(key=f\"x_{i+1}\", bounds=(-4, 4)) for i in range(3)],\n",
    ")\n",
    "output_features = Outputs(features=[ContinuousOutput(key=\"y\")])\n",
    "experiments = input_features.sample(n=50)\n",
    "experiments.eval(\"y=((x_1**2 + x_2 - 11)**2+(x_1 + x_2**2 -7)**2)\", inplace=True)\n",
    "experiments[\"valid_y\"] = 1"
   ]
  },
  {
   "attachments": {},
   "cell_type": "markdown",
   "id": "5",
   "metadata": {
    "papermill": {
     "duration": 0.001026,
     "end_time": "2024-10-10T20:34:24.699120",
     "exception": false,
     "start_time": "2024-10-10T20:34:24.698094",
     "status": "completed"
    },
    "tags": []
   },
   "source": [
    "## Cross Validation\n",
    "### Run the cross validation"
   ]
  },
  {
   "cell_type": "code",
   "execution_count": null,
   "id": "6",
   "metadata": {
    "papermill": {
     "duration": 0.229142,
     "end_time": "2024-10-10T20:34:24.929279",
     "exception": true,
     "start_time": "2024-10-10T20:34:24.700137",
     "status": "failed"
    },
    "tags": []
   },
   "outputs": [],
   "source": [
    "data_model = SingleTaskGPSurrogate(\n",
    "    inputs=input_features,\n",
    "    outputs=output_features,\n",
    ")\n",
    "\n",
    "model = surrogates.map(data_model=data_model)\n",
    "train_cv, test_cv, pi = model.cross_validate(\n",
    "    experiments,\n",
    "    folds=5,\n",
    "    hooks={\n",
    "        \"permutation_importance\": permutation_importance_hook,\n",
    "        \"lengthscale_importance\": lengthscale_importance_hook,\n",
    "    },\n",
    ")"
   ]
  },
  {
   "cell_type": "code",
   "execution_count": null,
   "id": "7",
   "metadata": {
    "papermill": {
     "duration": null,
     "end_time": null,
     "exception": null,
     "start_time": null,
     "status": "pending"
    },
    "tags": []
   },
   "outputs": [],
   "source": [
    "combined_importances = {\n",
    "    m.name: combine_permutation_importances(pi[\"permutation_importance\"], m).describe()\n",
    "    for m in RegressionMetricsEnum\n",
    "}\n",
    "combined_importances[\"lengthscale\"] = combine_lengthscale_importances(\n",
    "    pi[\"lengthscale_importance\"],\n",
    ").describe()\n",
    "plot_feature_importance_by_feature_plotly(\n",
    "    combined_importances,\n",
    "    relative=False,\n",
    "    caption=\"Permutation Feature Importances\",\n",
    "    show_std=True,\n",
    "    importance_measure=\"Permutation Feature Importance\",\n",
    ")"
   ]
  },
  {
   "cell_type": "markdown",
   "id": "8",
   "metadata": {
    "papermill": {
     "duration": null,
     "end_time": null,
     "exception": null,
     "start_time": null,
     "status": "pending"
    },
    "tags": []
   },
   "source": [
    "### Analyze the cross validation\n",
    "\n",
    "Plots are added in a future PR."
   ]
  },
  {
   "cell_type": "code",
   "execution_count": null,
   "id": "9",
   "metadata": {
    "papermill": {
     "duration": null,
     "end_time": null,
     "exception": null,
     "start_time": null,
     "status": "pending"
    },
    "tags": []
   },
   "outputs": [],
   "source": [
    "# Performance on test sets\n",
    "test_cv.get_metrics(combine_folds=True)"
   ]
  },
  {
   "cell_type": "code",
   "execution_count": null,
   "id": "10",
   "metadata": {
    "papermill": {
     "duration": null,
     "end_time": null,
     "exception": null,
     "start_time": null,
     "status": "pending"
    },
    "tags": []
   },
   "outputs": [],
   "source": [
    "display(test_cv.get_metrics(combine_folds=False))\n",
    "display(test_cv.get_metrics(combine_folds=False).describe())"
   ]
  }
 ],
 "metadata": {
  "kernelspec": {
   "display_name": "base",
   "language": "python",
   "name": "python3"
  },
  "language_info": {
   "codemirror_mode": {
    "name": "ipython",
    "version": 3
   },
   "file_extension": ".py",
   "mimetype": "text/x-python",
   "name": "python",
   "nbconvert_exporter": "python",
   "pygments_lexer": "ipython3",
   "version": "3.12.7"
  },
  "papermill": {
   "default_parameters": {},
   "duration": 4.387449,
   "end_time": "2024-10-10T20:34:25.450157",
   "environment_variables": {},
   "exception": true,
   "parameters": {},
   "start_time": "2024-10-10T20:34:21.062708",
   "version": "2.6.0"
  }
 },
 "nbformat": 4,
 "nbformat_minor": 5
}
