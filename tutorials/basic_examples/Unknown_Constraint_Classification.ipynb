{
 "cells": [
  {
   "cell_type": "markdown",
   "id": "0",
   "metadata": {
    "papermill": {
     "duration": 0.005873,
     "end_time": "2024-10-10T20:34:32.182482",
     "exception": false,
     "start_time": "2024-10-10T20:34:32.176609",
     "status": "completed"
    },
    "tags": []
   },
   "source": [
    "# Classification Surrogate Tests\n",
    "\n",
    "We are interested in testing whether or not a surrogate model can correctly identify unknown constraints based on categorical criteria with classification surrogates. Essentially, we want to account for scenarios where specialists can look at a set of experiments and label outcomes as 'acceptable', 'unacceptable', 'ideal', etc. \n",
    "\n",
    "This involves new models that produce `CategoricalOutput`'s rather than continuous outputs. Mathematically, if $g_{\\theta}:\\mathbb{R}^d\\to[0,1]^c$ represents the function governed by learnable parameters $\\theta$ which outputs a probability vector over $c$ potential classes (i.e. for input $x\\in\\mathbb{R}^d$, $g_{\\theta}(x)^\\top\\mathbf{1}=1$ where $\\mathbf{1}$ is the vector of all 1's) and we have acceptibility criteria for the corresponding classes given by $a\\in\\{0,1\\}^c$, we can compute the scalar output $g_{\\theta}(x)^\\top a\\in[0,1]$ which represents the expected value of acceptance as an objective value to be passed in as a constrained function.\n",
    "\n",
    "In this script, we look at the [Rosenbrock function constrained to a disk](https://en.wikipedia.org/wiki/Test_functions_for_optimization#cite_note-12) which attains a global minima at $(x_0^*,x_1^*)=(1.0, 1.0)$. To facilitate testing the functionality offered by BoFire, we label all points inside of the circle $x_0^2+x_1^2\\le2$ as 'acceptable' and further label anything inside of the intersection of this circle and the circle $(x_0-1)^2+(x_1-1)^2\\le1.0$ as 'ideal'; points lying outside of these two locations are labeled as \"unacceptable.\""
   ]
  },
  {
   "cell_type": "code",
   "execution_count": null,
   "id": "1",
   "metadata": {
    "papermill": {
     "duration": 2.996427,
     "end_time": "2024-10-10T20:34:35.182910",
     "exception": false,
     "start_time": "2024-10-10T20:34:32.186483",
     "status": "completed"
    },
    "tags": []
   },
   "outputs": [],
   "source": [
    "# Import packages\n",
    "import numpy as np\n",
    "import pandas as pd\n",
    "\n",
    "import bofire.strategies.api as strategies\n",
    "from bofire.data_models.api import Domain, Inputs, Outputs\n",
    "from bofire.data_models.features.api import (\n",
    "    CategoricalInput,\n",
    "    CategoricalOutput,\n",
    "    ContinuousInput,\n",
    "    ContinuousOutput,\n",
    ")\n",
    "from bofire.data_models.objectives.api import (\n",
    "    ConstrainedCategoricalObjective,\n",
    "    MinimizeObjective,\n",
    "    MinimizeSigmoidObjective,\n",
    ")"
   ]
  },
  {
   "attachments": {},
   "cell_type": "markdown",
   "id": "2",
   "metadata": {
    "papermill": {
     "duration": 0.001646,
     "end_time": "2024-10-10T20:34:35.186389",
     "exception": false,
     "start_time": "2024-10-10T20:34:35.184743",
     "status": "completed"
    },
    "tags": []
   },
   "source": [
    "## Manual setup of the optimization domain\n",
    "\n",
    "The following cells show how to manually setup the optimization problem in BoFire for didactic purposes."
   ]
  },
  {
   "cell_type": "code",
   "execution_count": null,
   "id": "3",
   "metadata": {
    "papermill": {
     "duration": 0.005827,
     "end_time": "2024-10-10T20:34:35.193653",
     "exception": false,
     "start_time": "2024-10-10T20:34:35.187826",
     "status": "completed"
    },
    "tags": []
   },
   "outputs": [],
   "source": [
    "# Write helper functions which give the objective and the constraints\n",
    "def rosenbrock(x: pd.Series) -> pd.Series:\n",
    "    assert \"x_0\" in x.columns\n",
    "    assert \"x_1\" in x.columns\n",
    "    return (1 - x[\"x_0\"]) ** 2 + 100 * (x[\"x_1\"] - x[\"x_0\"] ** 2) ** 2\n",
    "\n",
    "\n",
    "def constraints(x: pd.Series) -> pd.Series:\n",
    "    assert \"x_0\" in x.columns\n",
    "    assert \"x_1\" in x.columns\n",
    "    feasiblity_vector = []\n",
    "    for _, row in x.iterrows():\n",
    "        if (row[\"x_0\"] ** 2 + row[\"x_1\"] ** 2 <= 2.0) and (\n",
    "            (row[\"x_0\"] - 1.0) ** 2 + (row[\"x_1\"] - 1.0) ** 2 <= 1.0\n",
    "        ):\n",
    "            feasiblity_vector.append(\"ideal\")\n",
    "        elif row[\"x_0\"] ** 2 + row[\"x_1\"] ** 2 <= 2.0:\n",
    "            feasiblity_vector.append(\"acceptable\")\n",
    "        else:\n",
    "            feasiblity_vector.append(\"unacceptable\")\n",
    "    return feasiblity_vector"
   ]
  },
  {
   "cell_type": "code",
   "execution_count": null,
   "id": "4",
   "metadata": {
    "papermill": {
     "duration": 0.01961,
     "end_time": "2024-10-10T20:34:35.214891",
     "exception": false,
     "start_time": "2024-10-10T20:34:35.195281",
     "status": "completed"
    },
    "tags": []
   },
   "outputs": [],
   "source": [
    "# Set-up the inputs and outputs, use categorical domain just as an example\n",
    "input_features = Inputs(\n",
    "    features=[ContinuousInput(key=f\"x_{i}\", bounds=(-1.75, 1.75)) for i in range(2)]\n",
    "    + [CategoricalInput(key=\"x_3\", categories=[\"0\", \"1\"], allowed=[True, True])],\n",
    ")\n",
    "\n",
    "# here the minimize objective is used, if you want to maximize you have to use the maximize objective.\n",
    "output_features = Outputs(\n",
    "    features=[\n",
    "        ContinuousOutput(key=f\"f_{0}\", objective=MinimizeObjective(w=1.0)),\n",
    "        CategoricalOutput(\n",
    "            key=f\"f_{1}\",\n",
    "            categories=[\"unacceptable\", \"acceptable\", \"ideal\"],\n",
    "            objective=ConstrainedCategoricalObjective(\n",
    "                categories=[\"unacceptable\", \"acceptable\", \"ideal\"],\n",
    "                desirability=[False, True, True],\n",
    "            ),\n",
    "        ),  # This function will be associated with learning the categories\n",
    "        ContinuousOutput(\n",
    "            key=f\"f_{2}\",\n",
    "            objective=MinimizeSigmoidObjective(w=1.0, tp=0.0, steepness=0.5),\n",
    "        ),\n",
    "    ],\n",
    ")\n",
    "\n",
    "# Create domain\n",
    "domain1 = Domain(inputs=input_features, outputs=output_features)\n",
    "\n",
    "# Sample random points\n",
    "sample_df = domain1.inputs.sample(100)\n",
    "\n",
    "# Write a function which outputs one continuous variable and another discrete based on some logic\n",
    "sample_df[\"f_0\"] = rosenbrock(x=sample_df)\n",
    "sample_df[\"f_1\"] = constraints(x=sample_df)\n",
    "sample_df[\"f_2\"] = sample_df[\"x_3\"].astype(float) + 1e-2 * np.random.uniform(\n",
    "    size=(len(sample_df),),\n",
    ")\n",
    "sample_df.head(5)"
   ]
  },
  {
   "cell_type": "code",
   "execution_count": null,
   "id": "5",
   "metadata": {
    "papermill": {
     "duration": 0.600439,
     "end_time": "2024-10-10T20:34:35.816921",
     "exception": false,
     "start_time": "2024-10-10T20:34:35.216482",
     "status": "completed"
    },
    "tags": []
   },
   "outputs": [],
   "source": [
    "# Plot the sample df\n",
    "import math\n",
    "\n",
    "import plotly.express as px\n",
    "\n",
    "\n",
    "fig = px.scatter(\n",
    "    sample_df,\n",
    "    x=\"x_0\",\n",
    "    y=\"x_1\",\n",
    "    color=\"f_1\",\n",
    "    width=550,\n",
    "    height=525,\n",
    "    title=\"Samples with labels\",\n",
    ")\n",
    "fig.add_shape(\n",
    "    type=\"circle\",\n",
    "    xref=\"x\",\n",
    "    yref=\"y\",\n",
    "    opacity=0.1,\n",
    "    fillcolor=\"red\",\n",
    "    x0=-math.sqrt(2),\n",
    "    y0=-math.sqrt(2),\n",
    "    x1=math.sqrt(2),\n",
    "    y1=math.sqrt(2),\n",
    "    line_color=\"red\",\n",
    ")\n",
    "fig.add_shape(\n",
    "    type=\"circle\",\n",
    "    xref=\"x\",\n",
    "    yref=\"y\",\n",
    "    opacity=0.2,\n",
    "    fillcolor=\"LightSeaGreen\",\n",
    "    x0=0,\n",
    "    y0=0,\n",
    "    x1=2,\n",
    "    y1=2,\n",
    "    line_color=\"LightSeaGreen\",\n",
    ")\n",
    "fig.show()"
   ]
  },
  {
   "cell_type": "markdown",
   "id": "6",
   "metadata": {
    "papermill": {
     "duration": 0.023509,
     "end_time": "2024-10-10T20:34:35.866206",
     "exception": false,
     "start_time": "2024-10-10T20:34:35.842697",
     "status": "completed"
    },
    "tags": []
   },
   "source": [
    "## Evaluate the classification model performance (outside of the optimization procedure)"
   ]
  },
  {
   "cell_type": "code",
   "execution_count": null,
   "id": "7",
   "metadata": {
    "papermill": {
     "duration": 0.208408,
     "end_time": "2024-10-10T20:34:36.095990",
     "exception": true,
     "start_time": "2024-10-10T20:34:35.887582",
     "status": "failed"
    },
    "tags": []
   },
   "outputs": [],
   "source": [
    "# Import packages\n",
    "import bofire.surrogates.api as surrogates\n",
    "from bofire.data_models.surrogates.api import ClassificationMLPEnsemble\n",
    "from bofire.surrogates.diagnostics import ClassificationMetricsEnum\n",
    "\n",
    "\n",
    "# Instantiate the surrogate model\n",
    "model = ClassificationMLPEnsemble(\n",
    "    inputs=domain1.inputs,\n",
    "    outputs=Outputs(features=[domain1.outputs.get_by_key(\"f_1\")]),\n",
    "    lr=0.03,\n",
    "    n_epochs=100,\n",
    "    hidden_layer_sizes=(\n",
    "        4,\n",
    "        2,\n",
    "    ),\n",
    "    weight_decay=0.0,\n",
    "    batch_size=10,\n",
    "    activation=\"tanh\",\n",
    ")\n",
    "surrogate = surrogates.map(model)\n",
    "\n",
    "# Fit the model to the classification data\n",
    "cv_df = sample_df.drop([\"f_0\", \"f_2\"], axis=1)\n",
    "cv_df[\"valid_f_1\"] = 1\n",
    "cv = surrogate.cross_validate(cv_df, folds=3)"
   ]
  },
  {
   "cell_type": "code",
   "execution_count": null,
   "id": "8",
   "metadata": {
    "papermill": {
     "duration": null,
     "end_time": null,
     "exception": null,
     "start_time": null,
     "status": "pending"
    },
    "tags": []
   },
   "outputs": [],
   "source": [
    "# Print results\n",
    "cv[0].get_metrics(\n",
    "    metrics=ClassificationMetricsEnum,\n",
    "    combine_folds=True,\n",
    ")  # print training set performance"
   ]
  },
  {
   "cell_type": "code",
   "execution_count": null,
   "id": "9",
   "metadata": {
    "papermill": {
     "duration": null,
     "end_time": null,
     "exception": null,
     "start_time": null,
     "status": "pending"
    },
    "tags": []
   },
   "outputs": [],
   "source": [
    "cv[1].get_metrics(\n",
    "    metrics=ClassificationMetricsEnum,\n",
    "    combine_folds=True,\n",
    ")  # print test set performance"
   ]
  },
  {
   "cell_type": "markdown",
   "id": "10",
   "metadata": {
    "papermill": {
     "duration": null,
     "end_time": null,
     "exception": null,
     "start_time": null,
     "status": "pending"
    },
    "tags": []
   },
   "source": [
    "## Setup strategy and ask for candidates\n",
    "\n"
   ]
  },
  {
   "cell_type": "code",
   "execution_count": null,
   "id": "11",
   "metadata": {
    "papermill": {
     "duration": null,
     "end_time": null,
     "exception": null,
     "start_time": null,
     "status": "pending"
    },
    "tags": []
   },
   "outputs": [],
   "source": [
    "from bofire.data_models.acquisition_functions.api import qLogEI\n",
    "from bofire.data_models.domain.api import Outputs\n",
    "from bofire.data_models.strategies.api import SoboStrategy\n",
    "from bofire.data_models.surrogates.api import (\n",
    "    BotorchSurrogates,\n",
    "    ClassificationMLPEnsemble,\n",
    "    MixedSingleTaskGPSurrogate,\n",
    ")\n",
    "\n",
    "\n",
    "strategy_data = SoboStrategy(\n",
    "    domain=domain1,\n",
    "    acquisition_function=qLogEI(),\n",
    "    surrogate_specs=BotorchSurrogates(\n",
    "        surrogates=[\n",
    "            ClassificationMLPEnsemble(\n",
    "                inputs=domain1.inputs,\n",
    "                outputs=Outputs(features=[domain1.outputs.get_by_key(\"f_1\")]),\n",
    "                lr=0.03,\n",
    "                n_epochs=100,\n",
    "                hidden_layer_sizes=(\n",
    "                    4,\n",
    "                    2,\n",
    "                ),\n",
    "                weight_decay=0.0,\n",
    "                batch_size=10,\n",
    "                activation=\"tanh\",\n",
    "            ),\n",
    "            MixedSingleTaskGPSurrogate(\n",
    "                inputs=domain1.inputs,\n",
    "                outputs=Outputs(features=[domain1.outputs.get_by_key(\"f_2\")]),\n",
    "            ),\n",
    "        ],\n",
    "    ),\n",
    ")\n",
    "\n",
    "strategy = strategies.map(strategy_data)\n",
    "\n",
    "strategy.tell(sample_df)"
   ]
  },
  {
   "cell_type": "code",
   "execution_count": null,
   "id": "12",
   "metadata": {
    "papermill": {
     "duration": null,
     "end_time": null,
     "exception": null,
     "start_time": null,
     "status": "pending"
    },
    "tags": []
   },
   "outputs": [],
   "source": [
    "candidates = strategy.ask(10)\n",
    "candidates"
   ]
  },
  {
   "cell_type": "markdown",
   "id": "13",
   "metadata": {
    "papermill": {
     "duration": null,
     "end_time": null,
     "exception": null,
     "start_time": null,
     "status": "pending"
    },
    "tags": []
   },
   "source": [
    "## Check classification of proposed candidates\n",
    "\n",
    "Use the logic from above to verify the classification values"
   ]
  },
  {
   "cell_type": "code",
   "execution_count": null,
   "id": "14",
   "metadata": {
    "papermill": {
     "duration": null,
     "end_time": null,
     "exception": null,
     "start_time": null,
     "status": "pending"
    },
    "tags": []
   },
   "outputs": [],
   "source": [
    "# Append to the candidates\n",
    "candidates[\"f_1_true\"] = constraints(x=candidates)"
   ]
  },
  {
   "cell_type": "code",
   "execution_count": null,
   "id": "15",
   "metadata": {
    "papermill": {
     "duration": null,
     "end_time": null,
     "exception": null,
     "start_time": null,
     "status": "pending"
    },
    "tags": []
   },
   "outputs": [],
   "source": [
    "# Print results\n",
    "candidates[[\"x_0\", \"x_1\", \"f_1_pred\", \"f_1_true\"]]"
   ]
  }
 ],
 "metadata": {
  "kernelspec": {
   "display_name": "base",
   "language": "python",
   "name": "python3"
  },
  "language_info": {
   "codemirror_mode": {
    "name": "ipython",
    "version": 3
   },
   "file_extension": ".py",
   "mimetype": "text/x-python",
   "name": "python",
   "nbconvert_exporter": "python",
   "pygments_lexer": "ipython3",
   "version": "3.12.7"
  },
  "papermill": {
   "default_parameters": {},
   "duration": 5.540047,
   "end_time": "2024-10-10T20:34:36.838633",
   "environment_variables": {},
   "exception": true,
   "parameters": {},
   "start_time": "2024-10-10T20:34:31.298586",
   "version": "2.6.0"
  }
 },
 "nbformat": 4,
 "nbformat_minor": 5
}
