{
 "cells": [
  {
   "cell_type": "markdown",
   "metadata": {},
   "source": [
    "# Classification Surrogate Tests\n",
    "\n",
    "We are interested in testing whether or not a surrogate model can correctly identify unknown constraints based on categorical criteria with classification surrogates. Essentially, we want to account for scenarios where specialists can look at a set of experiments and label outcomes as 'acceptable', 'unacceptable', 'ideal', etc. \n",
    "\n",
    "This involves new models that produce `CategoricalOutput`'s rather than continuous outputs. Mathematically, if $g_{\\theta}:\\mathbb{R}^d\\to[0,1]^c$ represents the function governed by learnable parameters $\\theta$ which outputs a probability vector over $c$ potential classes (i.e. for input $x\\in\\mathbb{R}^d$, $g_{\\theta}(x)^\\top\\mathbf{1}=1$ where $\\mathbf{1}$ is the vector of all 1's) and we have acceptibility criteria for the corresponding classes given by $a\\in\\{0,1\\}^c$, we can compute the scalar output $g_{\\theta}(x)^\\top a\\in[0,1]$ which represents the expected value of acceptance as an objective value to be passed in as a constrained function.\n",
    "\n",
    "In this script, we look at the [Rosenbrock function constrained to a disk](https://en.wikipedia.org/wiki/Test_functions_for_optimization#cite_note-12) which attains a global minima at $(x_0^*,x_1^*)=(1.0, 1.0)$. To facilitate testing the functionality offered by BoFire, we label all points inside of the circle $x_0^2+x_1^2\\le2$ as 'acceptable' and futher label anything inside of the interesction of this circle and the circle $(x_0-1)^2+(x_1-1)^2\\le1.0$ as 'ideal'; points lying outside of these two locations are labeled as \"unacceptable.\""
   ]
  },
  {
   "cell_type": "code",
   "execution_count": 1,
   "metadata": {},
   "outputs": [
    {
     "name": "stderr",
     "output_type": "stream",
     "text": [
      "c:\\ProgramData\\Anaconda3\\envs\\bofire-env\\lib\\site-packages\\tqdm\\auto.py:21: TqdmWarning: IProgress not found. Please update jupyter and ipywidgets. See https://ipywidgets.readthedocs.io/en/stable/user_install.html\n",
      "  from .autonotebook import tqdm as notebook_tqdm\n"
     ]
    }
   ],
   "source": [
    "# Import packages\n",
    "import bofire.strategies.api as strategies\n",
    "from bofire.data_models.api import Domain, Outputs, Inputs\n",
    "from bofire.data_models.features.api import ContinuousInput, ContinuousOutput, CategoricalOutput, CategoricalInput\n",
    "from bofire.data_models.objectives.api import MinimizeObjective, MinimizeSigmoidObjective, ConstrainedCategoricalObjective\n",
    "import numpy as np\n",
    "import pandas as pd"
   ]
  },
  {
   "attachments": {},
   "cell_type": "markdown",
   "metadata": {},
   "source": [
    "## Manual setup of the optimization domain\n",
    "\n",
    "The following cells show how to manually setup the optimization problem in BoFire for didactic purposes."
   ]
  },
  {
   "cell_type": "code",
   "execution_count": 2,
   "metadata": {},
   "outputs": [],
   "source": [
    "# Write helper functions which give the objective and the constraints\n",
    "def rosenbrock(x: pd.Series) -> pd.Series:\n",
    "    assert \"x_0\" in x.columns\n",
    "    assert \"x_1\" in x.columns\n",
    "    return (1 - x[\"x_0\"]) ** 2 + 100 * (x[\"x_1\"] - x[\"x_0\"] ** 2) ** 2\n",
    "\n",
    "def constraints(x: pd.Series) -> pd.Series:\n",
    "    assert \"x_0\" in x.columns\n",
    "    assert \"x_1\" in x.columns\n",
    "    feasiblity_vector = []\n",
    "    for _, row in x.iterrows():\n",
    "        if (row[\"x_0\"] ** 2 + row[\"x_1\"] ** 2 <= 2.0) and ((row[\"x_0\"] - 1.0) ** 2 + (row[\"x_1\"] - 1.0) ** 2 <= 1.0):\n",
    "            feasiblity_vector.append(\"ideal\")\n",
    "        elif row[\"x_0\"] ** 2 + row[\"x_1\"] ** 2 <= 2.0:\n",
    "            feasiblity_vector.append(\"acceptable\")\n",
    "        else:\n",
    "            feasiblity_vector.append(\"unacceptable\")\n",
    "    return feasiblity_vector"
   ]
  },
  {
   "cell_type": "code",
   "execution_count": 3,
   "metadata": {},
   "outputs": [
    {
     "data": {
      "text/html": [
       "<div>\n",
       "<style scoped>\n",
       "    .dataframe tbody tr th:only-of-type {\n",
       "        vertical-align: middle;\n",
       "    }\n",
       "\n",
       "    .dataframe tbody tr th {\n",
       "        vertical-align: top;\n",
       "    }\n",
       "\n",
       "    .dataframe thead th {\n",
       "        text-align: right;\n",
       "    }\n",
       "</style>\n",
       "<table border=\"1\" class=\"dataframe\">\n",
       "  <thead>\n",
       "    <tr style=\"text-align: right;\">\n",
       "      <th></th>\n",
       "      <th>x_0</th>\n",
       "      <th>x_1</th>\n",
       "      <th>x_3</th>\n",
       "      <th>f_0</th>\n",
       "      <th>f_1</th>\n",
       "      <th>f_2</th>\n",
       "    </tr>\n",
       "  </thead>\n",
       "  <tbody>\n",
       "    <tr>\n",
       "      <th>0</th>\n",
       "      <td>-0.350619</td>\n",
       "      <td>0.504052</td>\n",
       "      <td>1</td>\n",
       "      <td>16.349300</td>\n",
       "      <td>acceptable</td>\n",
       "      <td>1.009714</td>\n",
       "    </tr>\n",
       "    <tr>\n",
       "      <th>1</th>\n",
       "      <td>0.115844</td>\n",
       "      <td>0.947509</td>\n",
       "      <td>0</td>\n",
       "      <td>88.034069</td>\n",
       "      <td>ideal</td>\n",
       "      <td>0.005132</td>\n",
       "    </tr>\n",
       "    <tr>\n",
       "      <th>2</th>\n",
       "      <td>-0.556177</td>\n",
       "      <td>-0.459197</td>\n",
       "      <td>1</td>\n",
       "      <td>61.485379</td>\n",
       "      <td>acceptable</td>\n",
       "      <td>1.000490</td>\n",
       "    </tr>\n",
       "    <tr>\n",
       "      <th>3</th>\n",
       "      <td>-1.635584</td>\n",
       "      <td>0.905708</td>\n",
       "      <td>1</td>\n",
       "      <td>320.033865</td>\n",
       "      <td>unacceptable</td>\n",
       "      <td>1.006897</td>\n",
       "    </tr>\n",
       "    <tr>\n",
       "      <th>4</th>\n",
       "      <td>-1.474244</td>\n",
       "      <td>0.855846</td>\n",
       "      <td>0</td>\n",
       "      <td>179.715811</td>\n",
       "      <td>unacceptable</td>\n",
       "      <td>0.005518</td>\n",
       "    </tr>\n",
       "  </tbody>\n",
       "</table>\n",
       "</div>"
      ],
      "text/plain": [
       "        x_0       x_1 x_3         f_0           f_1       f_2\n",
       "0 -0.350619  0.504052   1   16.349300    acceptable  1.009714\n",
       "1  0.115844  0.947509   0   88.034069         ideal  0.005132\n",
       "2 -0.556177 -0.459197   1   61.485379    acceptable  1.000490\n",
       "3 -1.635584  0.905708   1  320.033865  unacceptable  1.006897\n",
       "4 -1.474244  0.855846   0  179.715811  unacceptable  0.005518"
      ]
     },
     "execution_count": 3,
     "metadata": {},
     "output_type": "execute_result"
    }
   ],
   "source": [
    "# Set-up the inputs and outputs, use categorical domain just as an example\n",
    "input_features = Inputs(features=[ContinuousInput(key=f\"x_{i}\", bounds=(-1.75, 1.75)) for i in range(2)] + [CategoricalInput(key=f\"x_3\", categories=[\"0\", \"1\"], allowed=[True, True])])\n",
    "\n",
    "# here the minimize objective is used, if you want to maximize you have to use the maximize objective.\n",
    "output_features = Outputs(features=[\n",
    "        ContinuousOutput(key=f\"f_{0}\", objective=MinimizeObjective(w=1.)),\n",
    "        CategoricalOutput(key=f\"f_{1}\", categories=[\"unacceptable\", \"acceptable\", \"ideal\"], objective=ConstrainedCategoricalObjective(categories=[\"unacceptable\", \"acceptable\", \"ideal\"], desirability=[False, True, True])), # This function will be associated with learning the categories\n",
    "        ContinuousOutput(key=f\"f_{2}\", objective=MinimizeSigmoidObjective(w=1., tp=0.0, steepness=0.5)),\n",
    "    ]\n",
    ")\n",
    "\n",
    "# Create domain\n",
    "domain1 = Domain(inputs=input_features, outputs=output_features)\n",
    "\n",
    "# Sample random points\n",
    "sample_df = domain1.inputs.sample(100)\n",
    "\n",
    "# Write a function which outputs one continuous variable and another discrete based on some logic\n",
    "sample_df[\"f_0\"] = rosenbrock(x=sample_df)\n",
    "sample_df[\"f_1\"] = constraints(x=sample_df)\n",
    "sample_df[\"f_2\"] = sample_df[\"x_3\"].astype(float) + 1e-2 * np.random.uniform(size=(len(sample_df),))\n",
    "sample_df.head(5)"
   ]
  },
  {
   "cell_type": "code",
   "execution_count": 4,
   "metadata": {},
   "outputs": [
    {
     "data": {
      "application/vnd.plotly.v1+json": {
       "config": {
        "plotlyServerURL": "https://plot.ly"
       },
       "data": [
        {
         "hovertemplate": "f_1=acceptable<br>x_0=%{x}<br>x_1=%{y}<extra></extra>",
         "legendgroup": "acceptable",
         "marker": {
          "color": "#636efa",
          "symbol": "circle"
         },
         "mode": "markers",
         "name": "acceptable",
         "orientation": "v",
         "showlegend": true,
         "type": "scatter",
         "x": [
          -0.35061926427297285,
          -0.5561765809009358,
          0.42159282278448273,
          -0.14506555699220236,
          1.0353008249274431,
          0.3454444836674355,
          -0.7680788452262832,
          -0.9933224816259388,
          -1.0750262968274997,
          0.7461911958641041,
          -0.7476273482445326,
          0.4462467901093472,
          -0.07013883971177926,
          -0.7613373765433603,
          -0.20793189372038778,
          -0.7126880256050545,
          -0.4298026069294787,
          -0.2926997442891148,
          -0.48304637342466483,
          0.08633019936772834,
          -0.275665340089877,
          0.13163143755446582,
          -0.032200237982807245,
          0.630156543011732,
          -0.16589247459195278,
          -0.11312470103711392,
          1.0905345858791655,
          0.20275804836531774,
          0.3338996521298583,
          0.424736503060791,
          0.09844039335599075
         ],
         "xaxis": "x",
         "y": [
          0.5040523211718617,
          -0.45919668429740934,
          -0.43223105338024803,
          -0.5989964538201493,
          -0.5649500247669095,
          -0.5355390267695426,
          0.9550083378879219,
          0.39901716758574235,
          -0.6999593792729817,
          -0.6234513037416309,
          0.6181801617811384,
          -0.8593732637207796,
          -0.7322677185785165,
          -1.1687864901526548,
          0.20233627906121776,
          -1.1278268495317838,
          0.5197761747103247,
          1.0172863322035508,
          -0.23399463937541132,
          0.31703732293322284,
          -1.2846423115547891,
          0.4365633647242215,
          0.8598355161979865,
          -1.2156493776606054,
          -0.6155534138636449,
          -0.15102340108948908,
          -0.007804401336033662,
          -1.1909885140068746,
          -1.0674680087818904,
          -0.9005255478079787,
          -1.3402079733707999
         ],
         "yaxis": "y"
        },
        {
         "hovertemplate": "f_1=ideal<br>x_0=%{x}<br>x_1=%{y}<extra></extra>",
         "legendgroup": "ideal",
         "marker": {
          "color": "#EF553B",
          "symbol": "circle"
         },
         "mode": "markers",
         "name": "ideal",
         "orientation": "v",
         "showlegend": true,
         "type": "scatter",
         "x": [
          0.11584353456460073,
          0.1724670780831814,
          0.539818540333588,
          0.15873339655513652,
          1.2444600831177084,
          0.999781463467607,
          1.1787431301713105,
          0.20622111629978224,
          1.1595275447276538
         ],
         "xaxis": "x",
         "y": [
          0.9475093155136509,
          1.1526019287770612,
          0.3540271307917444,
          1.0991475451214328,
          0.618585769140207,
          0.135534043926683,
          0.676481578469553,
          1.2930076238613046,
          0.09014125654752259
         ],
         "yaxis": "y"
        },
        {
         "hovertemplate": "f_1=unacceptable<br>x_0=%{x}<br>x_1=%{y}<extra></extra>",
         "legendgroup": "unacceptable",
         "marker": {
          "color": "#00cc96",
          "symbol": "circle"
         },
         "mode": "markers",
         "name": "unacceptable",
         "orientation": "v",
         "showlegend": true,
         "type": "scatter",
         "x": [
          -1.635584388534313,
          -1.4742444296046657,
          -0.15729314694102903,
          1.5070853560854864,
          1.2101965364760718,
          -1.5831812018666418,
          -1.3957357203071692,
          1.613078214961829,
          1.4254239036801257,
          -1.2787167270583444,
          -1.4023268999370018,
          1.7378096362285174,
          0.6296633849190485,
          1.6560265107086973,
          -1.4604637134929277,
          1.3954194906359776,
          -0.3273878127686993,
          1.5426483753054665,
          0.7725626061807955,
          1.5974661747883538,
          1.688121615826073,
          -1.5816687013750201,
          -1.3669080002392295,
          -0.933603434080167,
          0.4822506956934074,
          -1.4195045992551758,
          -1.5862157185428094,
          -0.6113354136054985,
          -0.04870290118977216,
          -1.3475465180331827,
          1.4165738521389044,
          -0.7433524285306379,
          -0.9790834992740071,
          0.4177249330842745,
          -1.5065150315297096,
          0.8379155379744967,
          -1.6748335190020076,
          1.732364494283424,
          1.6746380993561396,
          -1.6486196321522595,
          -1.6923451290787777,
          1.0735234059299241,
          1.6026120196380926,
          1.6368331859404996,
          1.344210315200074,
          0.5756493888406227,
          1.0955596911970198,
          1.1989776196979713,
          1.6443171102633003,
          -1.2980309445061669,
          1.0537367958501087,
          -1.2500086281626677,
          0.38230323278127143,
          -1.6985134148647894,
          1.7156174130125836,
          1.6853737833769693,
          -0.294642574709699,
          1.1650211575724394,
          -0.6805240325421535,
          -0.8809593972969152
         ],
         "xaxis": "x",
         "y": [
          0.905708248434292,
          0.8558461621953355,
          -1.682916252803905,
          -0.3787532353125016,
          0.8582593276903339,
          -0.5950896738838634,
          -0.5940137871920919,
          -1.1106762625595035,
          1.749844877144934,
          -0.7745816878526347,
          -1.0080154738799716,
          0.26464782707414836,
          1.469231740752055,
          -1.6208934974410696,
          -0.07648992450843961,
          -1.0433090911846108,
          -1.4790774655942789,
          -1.0982882152772908,
          -1.241192967822959,
          -0.5220349756706821,
          -0.3558204214616887,
          0.2092233051309027,
          -1.3578044601398707,
          1.7264947346866033,
          1.5894671117819081,
          -1.744256531724441,
          -0.7461734234273045,
          1.7424015284023127,
          -1.5287936583164727,
          -0.6814323944749845,
          1.266759433319939,
          1.5399709474328813,
          -1.5645549489253556,
          -1.5196196260358157,
          0.44194322574419287,
          1.3477204637842641,
          1.7295610322135961,
          -1.1974130031498986,
          0.49951459600915626,
          0.11526237063394973,
          -1.7248874050370138,
          1.5908887950885897,
          0.27689415663406214,
          -0.31530244091173354,
          -1.6932092535195582,
          1.3482667568433095,
          1.5726556777198932,
          -0.9488385694367101,
          0.2919559196715964,
          1.7065717592720269,
          1.5139353043217532,
          -1.6001644269256965,
          -1.7115693621588608,
          -0.38867144542644105,
          0.6923493546148185,
          0.1427173148876928,
          1.4870813273250616,
          -0.9737357252558907,
          1.2417204272219675,
          1.740049552575495
         ],
         "yaxis": "y"
        }
       ],
       "layout": {
        "height": 525,
        "legend": {
         "title": {
          "text": "f_1"
         },
         "tracegroupgap": 0
        },
        "shapes": [
         {
          "fillcolor": "red",
          "line": {
           "color": "red"
          },
          "opacity": 0.1,
          "type": "circle",
          "x0": -1.4142135623730951,
          "x1": 1.4142135623730951,
          "xref": "x",
          "y0": -1.4142135623730951,
          "y1": 1.4142135623730951,
          "yref": "y"
         },
         {
          "fillcolor": "LightSeaGreen",
          "line": {
           "color": "LightSeaGreen"
          },
          "opacity": 0.2,
          "type": "circle",
          "x0": 0,
          "x1": 2,
          "xref": "x",
          "y0": 0,
          "y1": 2,
          "yref": "y"
         }
        ],
        "template": {
         "data": {
          "bar": [
           {
            "error_x": {
             "color": "#2a3f5f"
            },
            "error_y": {
             "color": "#2a3f5f"
            },
            "marker": {
             "line": {
              "color": "#E5ECF6",
              "width": 0.5
             },
             "pattern": {
              "fillmode": "overlay",
              "size": 10,
              "solidity": 0.2
             }
            },
            "type": "bar"
           }
          ],
          "barpolar": [
           {
            "marker": {
             "line": {
              "color": "#E5ECF6",
              "width": 0.5
             },
             "pattern": {
              "fillmode": "overlay",
              "size": 10,
              "solidity": 0.2
             }
            },
            "type": "barpolar"
           }
          ],
          "carpet": [
           {
            "aaxis": {
             "endlinecolor": "#2a3f5f",
             "gridcolor": "white",
             "linecolor": "white",
             "minorgridcolor": "white",
             "startlinecolor": "#2a3f5f"
            },
            "baxis": {
             "endlinecolor": "#2a3f5f",
             "gridcolor": "white",
             "linecolor": "white",
             "minorgridcolor": "white",
             "startlinecolor": "#2a3f5f"
            },
            "type": "carpet"
           }
          ],
          "choropleth": [
           {
            "colorbar": {
             "outlinewidth": 0,
             "ticks": ""
            },
            "type": "choropleth"
           }
          ],
          "contour": [
           {
            "colorbar": {
             "outlinewidth": 0,
             "ticks": ""
            },
            "colorscale": [
             [
              0,
              "#0d0887"
             ],
             [
              0.1111111111111111,
              "#46039f"
             ],
             [
              0.2222222222222222,
              "#7201a8"
             ],
             [
              0.3333333333333333,
              "#9c179e"
             ],
             [
              0.4444444444444444,
              "#bd3786"
             ],
             [
              0.5555555555555556,
              "#d8576b"
             ],
             [
              0.6666666666666666,
              "#ed7953"
             ],
             [
              0.7777777777777778,
              "#fb9f3a"
             ],
             [
              0.8888888888888888,
              "#fdca26"
             ],
             [
              1,
              "#f0f921"
             ]
            ],
            "type": "contour"
           }
          ],
          "contourcarpet": [
           {
            "colorbar": {
             "outlinewidth": 0,
             "ticks": ""
            },
            "type": "contourcarpet"
           }
          ],
          "heatmap": [
           {
            "colorbar": {
             "outlinewidth": 0,
             "ticks": ""
            },
            "colorscale": [
             [
              0,
              "#0d0887"
             ],
             [
              0.1111111111111111,
              "#46039f"
             ],
             [
              0.2222222222222222,
              "#7201a8"
             ],
             [
              0.3333333333333333,
              "#9c179e"
             ],
             [
              0.4444444444444444,
              "#bd3786"
             ],
             [
              0.5555555555555556,
              "#d8576b"
             ],
             [
              0.6666666666666666,
              "#ed7953"
             ],
             [
              0.7777777777777778,
              "#fb9f3a"
             ],
             [
              0.8888888888888888,
              "#fdca26"
             ],
             [
              1,
              "#f0f921"
             ]
            ],
            "type": "heatmap"
           }
          ],
          "heatmapgl": [
           {
            "colorbar": {
             "outlinewidth": 0,
             "ticks": ""
            },
            "colorscale": [
             [
              0,
              "#0d0887"
             ],
             [
              0.1111111111111111,
              "#46039f"
             ],
             [
              0.2222222222222222,
              "#7201a8"
             ],
             [
              0.3333333333333333,
              "#9c179e"
             ],
             [
              0.4444444444444444,
              "#bd3786"
             ],
             [
              0.5555555555555556,
              "#d8576b"
             ],
             [
              0.6666666666666666,
              "#ed7953"
             ],
             [
              0.7777777777777778,
              "#fb9f3a"
             ],
             [
              0.8888888888888888,
              "#fdca26"
             ],
             [
              1,
              "#f0f921"
             ]
            ],
            "type": "heatmapgl"
           }
          ],
          "histogram": [
           {
            "marker": {
             "pattern": {
              "fillmode": "overlay",
              "size": 10,
              "solidity": 0.2
             }
            },
            "type": "histogram"
           }
          ],
          "histogram2d": [
           {
            "colorbar": {
             "outlinewidth": 0,
             "ticks": ""
            },
            "colorscale": [
             [
              0,
              "#0d0887"
             ],
             [
              0.1111111111111111,
              "#46039f"
             ],
             [
              0.2222222222222222,
              "#7201a8"
             ],
             [
              0.3333333333333333,
              "#9c179e"
             ],
             [
              0.4444444444444444,
              "#bd3786"
             ],
             [
              0.5555555555555556,
              "#d8576b"
             ],
             [
              0.6666666666666666,
              "#ed7953"
             ],
             [
              0.7777777777777778,
              "#fb9f3a"
             ],
             [
              0.8888888888888888,
              "#fdca26"
             ],
             [
              1,
              "#f0f921"
             ]
            ],
            "type": "histogram2d"
           }
          ],
          "histogram2dcontour": [
           {
            "colorbar": {
             "outlinewidth": 0,
             "ticks": ""
            },
            "colorscale": [
             [
              0,
              "#0d0887"
             ],
             [
              0.1111111111111111,
              "#46039f"
             ],
             [
              0.2222222222222222,
              "#7201a8"
             ],
             [
              0.3333333333333333,
              "#9c179e"
             ],
             [
              0.4444444444444444,
              "#bd3786"
             ],
             [
              0.5555555555555556,
              "#d8576b"
             ],
             [
              0.6666666666666666,
              "#ed7953"
             ],
             [
              0.7777777777777778,
              "#fb9f3a"
             ],
             [
              0.8888888888888888,
              "#fdca26"
             ],
             [
              1,
              "#f0f921"
             ]
            ],
            "type": "histogram2dcontour"
           }
          ],
          "mesh3d": [
           {
            "colorbar": {
             "outlinewidth": 0,
             "ticks": ""
            },
            "type": "mesh3d"
           }
          ],
          "parcoords": [
           {
            "line": {
             "colorbar": {
              "outlinewidth": 0,
              "ticks": ""
             }
            },
            "type": "parcoords"
           }
          ],
          "pie": [
           {
            "automargin": true,
            "type": "pie"
           }
          ],
          "scatter": [
           {
            "fillpattern": {
             "fillmode": "overlay",
             "size": 10,
             "solidity": 0.2
            },
            "type": "scatter"
           }
          ],
          "scatter3d": [
           {
            "line": {
             "colorbar": {
              "outlinewidth": 0,
              "ticks": ""
             }
            },
            "marker": {
             "colorbar": {
              "outlinewidth": 0,
              "ticks": ""
             }
            },
            "type": "scatter3d"
           }
          ],
          "scattercarpet": [
           {
            "marker": {
             "colorbar": {
              "outlinewidth": 0,
              "ticks": ""
             }
            },
            "type": "scattercarpet"
           }
          ],
          "scattergeo": [
           {
            "marker": {
             "colorbar": {
              "outlinewidth": 0,
              "ticks": ""
             }
            },
            "type": "scattergeo"
           }
          ],
          "scattergl": [
           {
            "marker": {
             "colorbar": {
              "outlinewidth": 0,
              "ticks": ""
             }
            },
            "type": "scattergl"
           }
          ],
          "scattermapbox": [
           {
            "marker": {
             "colorbar": {
              "outlinewidth": 0,
              "ticks": ""
             }
            },
            "type": "scattermapbox"
           }
          ],
          "scatterpolar": [
           {
            "marker": {
             "colorbar": {
              "outlinewidth": 0,
              "ticks": ""
             }
            },
            "type": "scatterpolar"
           }
          ],
          "scatterpolargl": [
           {
            "marker": {
             "colorbar": {
              "outlinewidth": 0,
              "ticks": ""
             }
            },
            "type": "scatterpolargl"
           }
          ],
          "scatterternary": [
           {
            "marker": {
             "colorbar": {
              "outlinewidth": 0,
              "ticks": ""
             }
            },
            "type": "scatterternary"
           }
          ],
          "surface": [
           {
            "colorbar": {
             "outlinewidth": 0,
             "ticks": ""
            },
            "colorscale": [
             [
              0,
              "#0d0887"
             ],
             [
              0.1111111111111111,
              "#46039f"
             ],
             [
              0.2222222222222222,
              "#7201a8"
             ],
             [
              0.3333333333333333,
              "#9c179e"
             ],
             [
              0.4444444444444444,
              "#bd3786"
             ],
             [
              0.5555555555555556,
              "#d8576b"
             ],
             [
              0.6666666666666666,
              "#ed7953"
             ],
             [
              0.7777777777777778,
              "#fb9f3a"
             ],
             [
              0.8888888888888888,
              "#fdca26"
             ],
             [
              1,
              "#f0f921"
             ]
            ],
            "type": "surface"
           }
          ],
          "table": [
           {
            "cells": {
             "fill": {
              "color": "#EBF0F8"
             },
             "line": {
              "color": "white"
             }
            },
            "header": {
             "fill": {
              "color": "#C8D4E3"
             },
             "line": {
              "color": "white"
             }
            },
            "type": "table"
           }
          ]
         },
         "layout": {
          "annotationdefaults": {
           "arrowcolor": "#2a3f5f",
           "arrowhead": 0,
           "arrowwidth": 1
          },
          "autotypenumbers": "strict",
          "coloraxis": {
           "colorbar": {
            "outlinewidth": 0,
            "ticks": ""
           }
          },
          "colorscale": {
           "diverging": [
            [
             0,
             "#8e0152"
            ],
            [
             0.1,
             "#c51b7d"
            ],
            [
             0.2,
             "#de77ae"
            ],
            [
             0.3,
             "#f1b6da"
            ],
            [
             0.4,
             "#fde0ef"
            ],
            [
             0.5,
             "#f7f7f7"
            ],
            [
             0.6,
             "#e6f5d0"
            ],
            [
             0.7,
             "#b8e186"
            ],
            [
             0.8,
             "#7fbc41"
            ],
            [
             0.9,
             "#4d9221"
            ],
            [
             1,
             "#276419"
            ]
           ],
           "sequential": [
            [
             0,
             "#0d0887"
            ],
            [
             0.1111111111111111,
             "#46039f"
            ],
            [
             0.2222222222222222,
             "#7201a8"
            ],
            [
             0.3333333333333333,
             "#9c179e"
            ],
            [
             0.4444444444444444,
             "#bd3786"
            ],
            [
             0.5555555555555556,
             "#d8576b"
            ],
            [
             0.6666666666666666,
             "#ed7953"
            ],
            [
             0.7777777777777778,
             "#fb9f3a"
            ],
            [
             0.8888888888888888,
             "#fdca26"
            ],
            [
             1,
             "#f0f921"
            ]
           ],
           "sequentialminus": [
            [
             0,
             "#0d0887"
            ],
            [
             0.1111111111111111,
             "#46039f"
            ],
            [
             0.2222222222222222,
             "#7201a8"
            ],
            [
             0.3333333333333333,
             "#9c179e"
            ],
            [
             0.4444444444444444,
             "#bd3786"
            ],
            [
             0.5555555555555556,
             "#d8576b"
            ],
            [
             0.6666666666666666,
             "#ed7953"
            ],
            [
             0.7777777777777778,
             "#fb9f3a"
            ],
            [
             0.8888888888888888,
             "#fdca26"
            ],
            [
             1,
             "#f0f921"
            ]
           ]
          },
          "colorway": [
           "#636efa",
           "#EF553B",
           "#00cc96",
           "#ab63fa",
           "#FFA15A",
           "#19d3f3",
           "#FF6692",
           "#B6E880",
           "#FF97FF",
           "#FECB52"
          ],
          "font": {
           "color": "#2a3f5f"
          },
          "geo": {
           "bgcolor": "white",
           "lakecolor": "white",
           "landcolor": "#E5ECF6",
           "showlakes": true,
           "showland": true,
           "subunitcolor": "white"
          },
          "hoverlabel": {
           "align": "left"
          },
          "hovermode": "closest",
          "mapbox": {
           "style": "light"
          },
          "paper_bgcolor": "white",
          "plot_bgcolor": "#E5ECF6",
          "polar": {
           "angularaxis": {
            "gridcolor": "white",
            "linecolor": "white",
            "ticks": ""
           },
           "bgcolor": "#E5ECF6",
           "radialaxis": {
            "gridcolor": "white",
            "linecolor": "white",
            "ticks": ""
           }
          },
          "scene": {
           "xaxis": {
            "backgroundcolor": "#E5ECF6",
            "gridcolor": "white",
            "gridwidth": 2,
            "linecolor": "white",
            "showbackground": true,
            "ticks": "",
            "zerolinecolor": "white"
           },
           "yaxis": {
            "backgroundcolor": "#E5ECF6",
            "gridcolor": "white",
            "gridwidth": 2,
            "linecolor": "white",
            "showbackground": true,
            "ticks": "",
            "zerolinecolor": "white"
           },
           "zaxis": {
            "backgroundcolor": "#E5ECF6",
            "gridcolor": "white",
            "gridwidth": 2,
            "linecolor": "white",
            "showbackground": true,
            "ticks": "",
            "zerolinecolor": "white"
           }
          },
          "shapedefaults": {
           "line": {
            "color": "#2a3f5f"
           }
          },
          "ternary": {
           "aaxis": {
            "gridcolor": "white",
            "linecolor": "white",
            "ticks": ""
           },
           "baxis": {
            "gridcolor": "white",
            "linecolor": "white",
            "ticks": ""
           },
           "bgcolor": "#E5ECF6",
           "caxis": {
            "gridcolor": "white",
            "linecolor": "white",
            "ticks": ""
           }
          },
          "title": {
           "x": 0.05
          },
          "xaxis": {
           "automargin": true,
           "gridcolor": "white",
           "linecolor": "white",
           "ticks": "",
           "title": {
            "standoff": 15
           },
           "zerolinecolor": "white",
           "zerolinewidth": 2
          },
          "yaxis": {
           "automargin": true,
           "gridcolor": "white",
           "linecolor": "white",
           "ticks": "",
           "title": {
            "standoff": 15
           },
           "zerolinecolor": "white",
           "zerolinewidth": 2
          }
         }
        },
        "title": {
         "text": "Samples with labels"
        },
        "width": 550,
        "xaxis": {
         "anchor": "y",
         "domain": [
          0,
          1
         ],
         "title": {
          "text": "x_0"
         }
        },
        "yaxis": {
         "anchor": "x",
         "domain": [
          0,
          1
         ],
         "title": {
          "text": "x_1"
         }
        }
       }
      }
     },
     "metadata": {},
     "output_type": "display_data"
    }
   ],
   "source": [
    "# Plot the sample df\n",
    "import math\n",
    "import plotly.express as px \n",
    "fig = px.scatter(sample_df, x=\"x_0\", y=\"x_1\", color=\"f_1\", width=550, height=525, title=\"Samples with labels\")\n",
    "fig.add_shape(type=\"circle\",\n",
    "    xref=\"x\", yref=\"y\",\n",
    "    opacity=0.1,\n",
    "    fillcolor=\"red\",\n",
    "    x0=-math.sqrt(2), y0=-math.sqrt(2), x1=math.sqrt(2), y1=math.sqrt(2),\n",
    "    line_color=\"red\",\n",
    ")\n",
    "fig.add_shape(type=\"circle\",\n",
    "    xref=\"x\", yref=\"y\",\n",
    "    opacity=0.2,\n",
    "    fillcolor=\"LightSeaGreen\",\n",
    "    x0=0, y0=0, x1=2, y1=2,\n",
    "    line_color=\"LightSeaGreen\",\n",
    ")\n",
    "fig.show()"
   ]
  },
  {
   "cell_type": "markdown",
   "metadata": {},
   "source": [
    "## Evaluate the classification model performance (outside of the optimization procedure)"
   ]
  },
  {
   "cell_type": "code",
   "execution_count": 5,
   "metadata": {},
   "outputs": [
    {
     "name": "stderr",
     "output_type": "stream",
     "text": [
      "c:\\ProgramData\\Anaconda3\\envs\\bofire-env\\lib\\site-packages\\botorch\\models\\model.py:230: RuntimeWarning:\n",
      "\n",
      "Could not update `train_inputs` with transformed inputs since _MLPEnsemble does not have a `train_inputs` attribute. Make sure that the `input_transform` is applied to both the train inputs and test inputs.\n",
      "\n",
      "c:\\ProgramData\\Anaconda3\\envs\\bofire-env\\lib\\site-packages\\botorch\\models\\model.py:230: RuntimeWarning:\n",
      "\n",
      "Could not update `train_inputs` with transformed inputs since _MLPEnsemble does not have a `train_inputs` attribute. Make sure that the `input_transform` is applied to both the train inputs and test inputs.\n",
      "\n",
      "c:\\ProgramData\\Anaconda3\\envs\\bofire-env\\lib\\site-packages\\botorch\\models\\model.py:230: RuntimeWarning:\n",
      "\n",
      "Could not update `train_inputs` with transformed inputs since _MLPEnsemble does not have a `train_inputs` attribute. Make sure that the `input_transform` is applied to both the train inputs and test inputs.\n",
      "\n",
      "c:\\ProgramData\\Anaconda3\\envs\\bofire-env\\lib\\site-packages\\botorch\\models\\model.py:230: RuntimeWarning:\n",
      "\n",
      "Could not update `train_inputs` with transformed inputs since _MLPEnsemble does not have a `train_inputs` attribute. Make sure that the `input_transform` is applied to both the train inputs and test inputs.\n",
      "\n",
      "c:\\ProgramData\\Anaconda3\\envs\\bofire-env\\lib\\site-packages\\botorch\\models\\model.py:230: RuntimeWarning:\n",
      "\n",
      "Could not update `train_inputs` with transformed inputs since _MLPEnsemble does not have a `train_inputs` attribute. Make sure that the `input_transform` is applied to both the train inputs and test inputs.\n",
      "\n",
      "c:\\ProgramData\\Anaconda3\\envs\\bofire-env\\lib\\site-packages\\botorch\\models\\model.py:230: RuntimeWarning:\n",
      "\n",
      "Could not update `train_inputs` with transformed inputs since _MLPEnsemble does not have a `train_inputs` attribute. Make sure that the `input_transform` is applied to both the train inputs and test inputs.\n",
      "\n"
     ]
    }
   ],
   "source": [
    "# Import packages\n",
    "import bofire.surrogates.api as surrogates\n",
    "from bofire.data_models.surrogates.api import ClassificationMLPEnsemble\n",
    "from bofire.surrogates.diagnostics import ClassificationMetricsEnum\n",
    "\n",
    "# Instantiate the surrogate model \n",
    "model = ClassificationMLPEnsemble(inputs=domain1.inputs, outputs=Outputs(features=[domain1.outputs.get_by_key(\"f_1\")]), lr=0.03, n_epochs=100, hidden_layer_sizes=(4,2,), weight_decay=0.0, batch_size=10, activation=\"tanh\")\n",
    "surrogate = surrogates.map(model)\n",
    "\n",
    "# Fit the model to the classification data\n",
    "cv_df = sample_df.drop([\"f_0\", \"f_2\"], axis=1)\n",
    "cv_df[\"valid_f_1\"] = 1\n",
    "cv = surrogate.cross_validate(cv_df, folds=3)\n"
   ]
  },
  {
   "cell_type": "code",
   "execution_count": 6,
   "metadata": {},
   "outputs": [
    {
     "data": {
      "text/html": [
       "<div>\n",
       "<style scoped>\n",
       "    .dataframe tbody tr th:only-of-type {\n",
       "        vertical-align: middle;\n",
       "    }\n",
       "\n",
       "    .dataframe tbody tr th {\n",
       "        vertical-align: top;\n",
       "    }\n",
       "\n",
       "    .dataframe thead th {\n",
       "        text-align: right;\n",
       "    }\n",
       "</style>\n",
       "<table border=\"1\" class=\"dataframe\">\n",
       "  <thead>\n",
       "    <tr style=\"text-align: right;\">\n",
       "      <th></th>\n",
       "      <th>ACCURACY</th>\n",
       "      <th>F1</th>\n",
       "    </tr>\n",
       "  </thead>\n",
       "  <tbody>\n",
       "    <tr>\n",
       "      <th>0</th>\n",
       "      <td>0.72</td>\n",
       "      <td>0.72</td>\n",
       "    </tr>\n",
       "  </tbody>\n",
       "</table>\n",
       "</div>"
      ],
      "text/plain": [
       "   ACCURACY    F1\n",
       "0      0.72  0.72"
      ]
     },
     "execution_count": 6,
     "metadata": {},
     "output_type": "execute_result"
    }
   ],
   "source": [
    "# Print results\n",
    "cv[0].get_metrics(metrics=ClassificationMetricsEnum, combine_folds=True) # print training set performance"
   ]
  },
  {
   "cell_type": "code",
   "execution_count": 7,
   "metadata": {},
   "outputs": [
    {
     "data": {
      "text/html": [
       "<div>\n",
       "<style scoped>\n",
       "    .dataframe tbody tr th:only-of-type {\n",
       "        vertical-align: middle;\n",
       "    }\n",
       "\n",
       "    .dataframe tbody tr th {\n",
       "        vertical-align: top;\n",
       "    }\n",
       "\n",
       "    .dataframe thead th {\n",
       "        text-align: right;\n",
       "    }\n",
       "</style>\n",
       "<table border=\"1\" class=\"dataframe\">\n",
       "  <thead>\n",
       "    <tr style=\"text-align: right;\">\n",
       "      <th></th>\n",
       "      <th>ACCURACY</th>\n",
       "      <th>F1</th>\n",
       "    </tr>\n",
       "  </thead>\n",
       "  <tbody>\n",
       "    <tr>\n",
       "      <th>0</th>\n",
       "      <td>0.65</td>\n",
       "      <td>0.65</td>\n",
       "    </tr>\n",
       "  </tbody>\n",
       "</table>\n",
       "</div>"
      ],
      "text/plain": [
       "   ACCURACY    F1\n",
       "0      0.65  0.65"
      ]
     },
     "execution_count": 7,
     "metadata": {},
     "output_type": "execute_result"
    }
   ],
   "source": [
    "cv[1].get_metrics(metrics=ClassificationMetricsEnum, combine_folds=True) # print test set performance"
   ]
  },
  {
   "cell_type": "markdown",
   "metadata": {},
   "source": [
    "## Setup strategy and ask for candidates\n",
    "\n"
   ]
  },
  {
   "cell_type": "code",
   "execution_count": 8,
   "metadata": {},
   "outputs": [],
   "source": [
    "from bofire.data_models.acquisition_functions.api import qEI\n",
    "from bofire.data_models.strategies.api import SoboStrategy\n",
    "from bofire.data_models.surrogates.api import BotorchSurrogates, ClassificationMLPEnsemble, MixedSingleTaskGPSurrogate\n",
    "from bofire.data_models.domain.api import Outputs\n",
    "\n",
    "strategy_data = SoboStrategy(domain=domain1, \n",
    "                             acquisition_function=qEI(), \n",
    "                             surrogate_specs=BotorchSurrogates(surrogates=\n",
    "                                    [\n",
    "                                        ClassificationMLPEnsemble(inputs=domain1.inputs, outputs=Outputs(features=[domain1.outputs.get_by_key(\"f_1\")]), lr=0.03, n_epochs=100, hidden_layer_sizes=(4,2,), weight_decay=0.0, batch_size=10, activation=\"tanh\"),\n",
    "                                        MixedSingleTaskGPSurrogate(inputs=domain1.inputs, outputs=Outputs(features=[domain1.outputs.get_by_key(\"f_2\")]))\n",
    "                                    ]\n",
    "                                )\n",
    "                            )\n",
    "\n",
    "strategy = strategies.map(strategy_data)\n",
    "\n",
    "strategy.tell(sample_df)"
   ]
  },
  {
   "cell_type": "code",
   "execution_count": 9,
   "metadata": {},
   "outputs": [
    {
     "name": "stderr",
     "output_type": "stream",
     "text": [
      "c:\\ProgramData\\Anaconda3\\envs\\bofire-env\\lib\\site-packages\\botorch\\models\\model.py:230: RuntimeWarning:\n",
      "\n",
      "Could not update `train_inputs` with transformed inputs since _MLPEnsemble does not have a `train_inputs` attribute. Make sure that the `input_transform` is applied to both the train inputs and test inputs.\n",
      "\n",
      "c:\\ProgramData\\Anaconda3\\envs\\bofire-env\\lib\\site-packages\\botorch\\models\\model.py:230: RuntimeWarning:\n",
      "\n",
      "Could not update `train_inputs` with transformed inputs since _MLPEnsemble does not have a `train_inputs` attribute. Make sure that the `input_transform` is applied to both the train inputs and test inputs.\n",
      "\n",
      "c:\\ProgramData\\Anaconda3\\envs\\bofire-env\\lib\\site-packages\\botorch\\models\\model.py:230: RuntimeWarning:\n",
      "\n",
      "Could not update `train_inputs` with transformed inputs since _MLPEnsemble does not have a `train_inputs` attribute. Make sure that the `input_transform` is applied to both the train inputs and test inputs.\n",
      "\n"
     ]
    },
    {
     "data": {
      "text/html": [
       "<div>\n",
       "<style scoped>\n",
       "    .dataframe tbody tr th:only-of-type {\n",
       "        vertical-align: middle;\n",
       "    }\n",
       "\n",
       "    .dataframe tbody tr th {\n",
       "        vertical-align: top;\n",
       "    }\n",
       "\n",
       "    .dataframe thead th {\n",
       "        text-align: right;\n",
       "    }\n",
       "</style>\n",
       "<table border=\"1\" class=\"dataframe\">\n",
       "  <thead>\n",
       "    <tr style=\"text-align: right;\">\n",
       "      <th></th>\n",
       "      <th>x_0</th>\n",
       "      <th>x_1</th>\n",
       "      <th>x_3</th>\n",
       "      <th>f_1_pred</th>\n",
       "      <th>f_1_sd</th>\n",
       "      <th>f_1_unacceptable_prob</th>\n",
       "      <th>f_1_acceptable_prob</th>\n",
       "      <th>f_1_ideal_prob</th>\n",
       "      <th>f_0_pred</th>\n",
       "      <th>f_2_pred</th>\n",
       "      <th>f_1_unacceptable_sd</th>\n",
       "      <th>f_1_acceptable_sd</th>\n",
       "      <th>f_1_ideal_sd</th>\n",
       "      <th>f_0_sd</th>\n",
       "      <th>f_2_sd</th>\n",
       "      <th>f_0_des</th>\n",
       "      <th>f_2_des</th>\n",
       "      <th>f_1_des</th>\n",
       "    </tr>\n",
       "  </thead>\n",
       "  <tbody>\n",
       "    <tr>\n",
       "      <th>0</th>\n",
       "      <td>0.154314</td>\n",
       "      <td>-0.001118</td>\n",
       "      <td>1</td>\n",
       "      <td>acceptable</td>\n",
       "      <td>0.0</td>\n",
       "      <td>0.425532</td>\n",
       "      <td>1.004986</td>\n",
       "      <td>0.639645</td>\n",
       "      <td>0.357941</td>\n",
       "      <td>0.002414</td>\n",
       "      <td>6.588467</td>\n",
       "      <td>0.003142</td>\n",
       "      <td>0.476779</td>\n",
       "      <td>0.473279</td>\n",
       "      <td>0.004336</td>\n",
       "      <td>-0.357941</td>\n",
       "      <td>0.499698</td>\n",
       "      <td>1.644631</td>\n",
       "    </tr>\n",
       "    <tr>\n",
       "      <th>1</th>\n",
       "      <td>0.149196</td>\n",
       "      <td>0.013251</td>\n",
       "      <td>0</td>\n",
       "      <td>ideal</td>\n",
       "      <td>0.0</td>\n",
       "      <td>0.465530</td>\n",
       "      <td>0.005402</td>\n",
       "      <td>0.795662</td>\n",
       "      <td>0.204113</td>\n",
       "      <td>0.000226</td>\n",
       "      <td>3.777311</td>\n",
       "      <td>0.003156</td>\n",
       "      <td>0.430231</td>\n",
       "      <td>0.430007</td>\n",
       "      <td>0.000242</td>\n",
       "      <td>-0.204113</td>\n",
       "      <td>0.499972</td>\n",
       "      <td>0.801064</td>\n",
       "    </tr>\n",
       "    <tr>\n",
       "      <th>2</th>\n",
       "      <td>-1.333767</td>\n",
       "      <td>1.750000</td>\n",
       "      <td>0</td>\n",
       "      <td>ideal</td>\n",
       "      <td>0.0</td>\n",
       "      <td>0.623769</td>\n",
       "      <td>0.007608</td>\n",
       "      <td>0.795045</td>\n",
       "      <td>0.204738</td>\n",
       "      <td>0.000217</td>\n",
       "      <td>11.252150</td>\n",
       "      <td>0.003407</td>\n",
       "      <td>0.431594</td>\n",
       "      <td>0.431392</td>\n",
       "      <td>0.000222</td>\n",
       "      <td>-0.204738</td>\n",
       "      <td>0.499973</td>\n",
       "      <td>0.802653</td>\n",
       "    </tr>\n",
       "    <tr>\n",
       "      <th>3</th>\n",
       "      <td>-0.630759</td>\n",
       "      <td>0.390813</td>\n",
       "      <td>1</td>\n",
       "      <td>unacceptable</td>\n",
       "      <td>0.0</td>\n",
       "      <td>2.985411</td>\n",
       "      <td>1.005220</td>\n",
       "      <td>0.638927</td>\n",
       "      <td>0.359041</td>\n",
       "      <td>0.002033</td>\n",
       "      <td>6.575972</td>\n",
       "      <td>0.003180</td>\n",
       "      <td>0.478100</td>\n",
       "      <td>0.475209</td>\n",
       "      <td>0.003490</td>\n",
       "      <td>-0.359041</td>\n",
       "      <td>0.499746</td>\n",
       "      <td>1.644147</td>\n",
       "    </tr>\n",
       "    <tr>\n",
       "      <th>4</th>\n",
       "      <td>-1.114157</td>\n",
       "      <td>1.209882</td>\n",
       "      <td>0</td>\n",
       "      <td>unacceptable</td>\n",
       "      <td>0.0</td>\n",
       "      <td>8.030368</td>\n",
       "      <td>0.006634</td>\n",
       "      <td>0.795048</td>\n",
       "      <td>0.204736</td>\n",
       "      <td>0.000216</td>\n",
       "      <td>14.069044</td>\n",
       "      <td>0.003171</td>\n",
       "      <td>0.431596</td>\n",
       "      <td>0.431394</td>\n",
       "      <td>0.000222</td>\n",
       "      <td>-0.204736</td>\n",
       "      <td>0.499973</td>\n",
       "      <td>0.801682</td>\n",
       "    </tr>\n",
       "    <tr>\n",
       "      <th>5</th>\n",
       "      <td>-0.358540</td>\n",
       "      <td>0.102376</td>\n",
       "      <td>1</td>\n",
       "      <td>unacceptable</td>\n",
       "      <td>0.0</td>\n",
       "      <td>1.546216</td>\n",
       "      <td>1.004791</td>\n",
       "      <td>0.638009</td>\n",
       "      <td>0.360123</td>\n",
       "      <td>0.001868</td>\n",
       "      <td>4.052824</td>\n",
       "      <td>0.003159</td>\n",
       "      <td>0.479443</td>\n",
       "      <td>0.476816</td>\n",
       "      <td>0.003129</td>\n",
       "      <td>-0.360123</td>\n",
       "      <td>0.499766</td>\n",
       "      <td>1.642799</td>\n",
       "    </tr>\n",
       "    <tr>\n",
       "      <th>6</th>\n",
       "      <td>0.736046</td>\n",
       "      <td>0.516076</td>\n",
       "      <td>1</td>\n",
       "      <td>acceptable</td>\n",
       "      <td>0.0</td>\n",
       "      <td>-0.240881</td>\n",
       "      <td>1.004885</td>\n",
       "      <td>0.819717</td>\n",
       "      <td>0.173096</td>\n",
       "      <td>0.007188</td>\n",
       "      <td>8.248212</td>\n",
       "      <td>0.003162</td>\n",
       "      <td>0.331533</td>\n",
       "      <td>0.333793</td>\n",
       "      <td>0.014980</td>\n",
       "      <td>-0.173096</td>\n",
       "      <td>0.499102</td>\n",
       "      <td>1.824602</td>\n",
       "    </tr>\n",
       "    <tr>\n",
       "      <th>7</th>\n",
       "      <td>-0.558970</td>\n",
       "      <td>0.322902</td>\n",
       "      <td>0</td>\n",
       "      <td>unacceptable</td>\n",
       "      <td>0.0</td>\n",
       "      <td>2.070167</td>\n",
       "      <td>0.005272</td>\n",
       "      <td>0.795045</td>\n",
       "      <td>0.204738</td>\n",
       "      <td>0.000217</td>\n",
       "      <td>4.657032</td>\n",
       "      <td>0.003146</td>\n",
       "      <td>0.431604</td>\n",
       "      <td>0.431400</td>\n",
       "      <td>0.000224</td>\n",
       "      <td>-0.204738</td>\n",
       "      <td>0.499973</td>\n",
       "      <td>0.800317</td>\n",
       "    </tr>\n",
       "    <tr>\n",
       "      <th>8</th>\n",
       "      <td>0.303819</td>\n",
       "      <td>0.044806</td>\n",
       "      <td>1</td>\n",
       "      <td>acceptable</td>\n",
       "      <td>0.0</td>\n",
       "      <td>0.656479</td>\n",
       "      <td>1.005106</td>\n",
       "      <td>0.644744</td>\n",
       "      <td>0.351593</td>\n",
       "      <td>0.003664</td>\n",
       "      <td>6.172526</td>\n",
       "      <td>0.003141</td>\n",
       "      <td>0.468581</td>\n",
       "      <td>0.463146</td>\n",
       "      <td>0.007114</td>\n",
       "      <td>-0.351593</td>\n",
       "      <td>0.499542</td>\n",
       "      <td>1.649849</td>\n",
       "    </tr>\n",
       "    <tr>\n",
       "      <th>9</th>\n",
       "      <td>-0.992659</td>\n",
       "      <td>0.943164</td>\n",
       "      <td>0</td>\n",
       "      <td>unacceptable</td>\n",
       "      <td>0.0</td>\n",
       "      <td>6.008622</td>\n",
       "      <td>0.006171</td>\n",
       "      <td>0.795048</td>\n",
       "      <td>0.204736</td>\n",
       "      <td>0.000216</td>\n",
       "      <td>10.497928</td>\n",
       "      <td>0.003149</td>\n",
       "      <td>0.431597</td>\n",
       "      <td>0.431395</td>\n",
       "      <td>0.000222</td>\n",
       "      <td>-0.204736</td>\n",
       "      <td>0.499973</td>\n",
       "      <td>0.801219</td>\n",
       "    </tr>\n",
       "  </tbody>\n",
       "</table>\n",
       "</div>"
      ],
      "text/plain": [
       "        x_0       x_1 x_3      f_1_pred  f_1_sd  f_1_unacceptable_prob  \\\n",
       "0  0.154314 -0.001118   1    acceptable     0.0               0.425532   \n",
       "1  0.149196  0.013251   0         ideal     0.0               0.465530   \n",
       "2 -1.333767  1.750000   0         ideal     0.0               0.623769   \n",
       "3 -0.630759  0.390813   1  unacceptable     0.0               2.985411   \n",
       "4 -1.114157  1.209882   0  unacceptable     0.0               8.030368   \n",
       "5 -0.358540  0.102376   1  unacceptable     0.0               1.546216   \n",
       "6  0.736046  0.516076   1    acceptable     0.0              -0.240881   \n",
       "7 -0.558970  0.322902   0  unacceptable     0.0               2.070167   \n",
       "8  0.303819  0.044806   1    acceptable     0.0               0.656479   \n",
       "9 -0.992659  0.943164   0  unacceptable     0.0               6.008622   \n",
       "\n",
       "   f_1_acceptable_prob  f_1_ideal_prob  f_0_pred  f_2_pred  \\\n",
       "0             1.004986        0.639645  0.357941  0.002414   \n",
       "1             0.005402        0.795662  0.204113  0.000226   \n",
       "2             0.007608        0.795045  0.204738  0.000217   \n",
       "3             1.005220        0.638927  0.359041  0.002033   \n",
       "4             0.006634        0.795048  0.204736  0.000216   \n",
       "5             1.004791        0.638009  0.360123  0.001868   \n",
       "6             1.004885        0.819717  0.173096  0.007188   \n",
       "7             0.005272        0.795045  0.204738  0.000217   \n",
       "8             1.005106        0.644744  0.351593  0.003664   \n",
       "9             0.006171        0.795048  0.204736  0.000216   \n",
       "\n",
       "   f_1_unacceptable_sd  f_1_acceptable_sd  f_1_ideal_sd    f_0_sd    f_2_sd  \\\n",
       "0             6.588467           0.003142      0.476779  0.473279  0.004336   \n",
       "1             3.777311           0.003156      0.430231  0.430007  0.000242   \n",
       "2            11.252150           0.003407      0.431594  0.431392  0.000222   \n",
       "3             6.575972           0.003180      0.478100  0.475209  0.003490   \n",
       "4            14.069044           0.003171      0.431596  0.431394  0.000222   \n",
       "5             4.052824           0.003159      0.479443  0.476816  0.003129   \n",
       "6             8.248212           0.003162      0.331533  0.333793  0.014980   \n",
       "7             4.657032           0.003146      0.431604  0.431400  0.000224   \n",
       "8             6.172526           0.003141      0.468581  0.463146  0.007114   \n",
       "9            10.497928           0.003149      0.431597  0.431395  0.000222   \n",
       "\n",
       "    f_0_des   f_2_des   f_1_des  \n",
       "0 -0.357941  0.499698  1.644631  \n",
       "1 -0.204113  0.499972  0.801064  \n",
       "2 -0.204738  0.499973  0.802653  \n",
       "3 -0.359041  0.499746  1.644147  \n",
       "4 -0.204736  0.499973  0.801682  \n",
       "5 -0.360123  0.499766  1.642799  \n",
       "6 -0.173096  0.499102  1.824602  \n",
       "7 -0.204738  0.499973  0.800317  \n",
       "8 -0.351593  0.499542  1.649849  \n",
       "9 -0.204736  0.499973  0.801219  "
      ]
     },
     "execution_count": 9,
     "metadata": {},
     "output_type": "execute_result"
    }
   ],
   "source": [
    "candidates = strategy.ask(10)\n",
    "candidates"
   ]
  },
  {
   "cell_type": "markdown",
   "metadata": {},
   "source": [
    "## Check classification of proposed candidates\n",
    "\n",
    "Use the logic from above to verify the classification values"
   ]
  },
  {
   "cell_type": "code",
   "execution_count": 10,
   "metadata": {},
   "outputs": [],
   "source": [
    "# Append to the candidates\n",
    "candidates[\"f_1_true\"] = constraints(x=candidates)"
   ]
  },
  {
   "cell_type": "code",
   "execution_count": 12,
   "metadata": {},
   "outputs": [
    {
     "data": {
      "text/html": [
       "<div>\n",
       "<style scoped>\n",
       "    .dataframe tbody tr th:only-of-type {\n",
       "        vertical-align: middle;\n",
       "    }\n",
       "\n",
       "    .dataframe tbody tr th {\n",
       "        vertical-align: top;\n",
       "    }\n",
       "\n",
       "    .dataframe thead th {\n",
       "        text-align: right;\n",
       "    }\n",
       "</style>\n",
       "<table border=\"1\" class=\"dataframe\">\n",
       "  <thead>\n",
       "    <tr style=\"text-align: right;\">\n",
       "      <th></th>\n",
       "      <th>x_0</th>\n",
       "      <th>x_1</th>\n",
       "      <th>f_1_pred</th>\n",
       "      <th>f_1_true</th>\n",
       "    </tr>\n",
       "  </thead>\n",
       "  <tbody>\n",
       "    <tr>\n",
       "      <th>0</th>\n",
       "      <td>0.154314</td>\n",
       "      <td>-0.001118</td>\n",
       "      <td>acceptable</td>\n",
       "      <td>acceptable</td>\n",
       "    </tr>\n",
       "    <tr>\n",
       "      <th>1</th>\n",
       "      <td>0.149196</td>\n",
       "      <td>0.013251</td>\n",
       "      <td>ideal</td>\n",
       "      <td>acceptable</td>\n",
       "    </tr>\n",
       "    <tr>\n",
       "      <th>2</th>\n",
       "      <td>-1.333767</td>\n",
       "      <td>1.750000</td>\n",
       "      <td>ideal</td>\n",
       "      <td>unacceptable</td>\n",
       "    </tr>\n",
       "    <tr>\n",
       "      <th>3</th>\n",
       "      <td>-0.630759</td>\n",
       "      <td>0.390813</td>\n",
       "      <td>unacceptable</td>\n",
       "      <td>acceptable</td>\n",
       "    </tr>\n",
       "    <tr>\n",
       "      <th>4</th>\n",
       "      <td>-1.114157</td>\n",
       "      <td>1.209882</td>\n",
       "      <td>unacceptable</td>\n",
       "      <td>unacceptable</td>\n",
       "    </tr>\n",
       "    <tr>\n",
       "      <th>5</th>\n",
       "      <td>-0.358540</td>\n",
       "      <td>0.102376</td>\n",
       "      <td>unacceptable</td>\n",
       "      <td>acceptable</td>\n",
       "    </tr>\n",
       "    <tr>\n",
       "      <th>6</th>\n",
       "      <td>0.736046</td>\n",
       "      <td>0.516076</td>\n",
       "      <td>acceptable</td>\n",
       "      <td>ideal</td>\n",
       "    </tr>\n",
       "    <tr>\n",
       "      <th>7</th>\n",
       "      <td>-0.558970</td>\n",
       "      <td>0.322902</td>\n",
       "      <td>unacceptable</td>\n",
       "      <td>acceptable</td>\n",
       "    </tr>\n",
       "    <tr>\n",
       "      <th>8</th>\n",
       "      <td>0.303819</td>\n",
       "      <td>0.044806</td>\n",
       "      <td>acceptable</td>\n",
       "      <td>acceptable</td>\n",
       "    </tr>\n",
       "    <tr>\n",
       "      <th>9</th>\n",
       "      <td>-0.992659</td>\n",
       "      <td>0.943164</td>\n",
       "      <td>unacceptable</td>\n",
       "      <td>acceptable</td>\n",
       "    </tr>\n",
       "  </tbody>\n",
       "</table>\n",
       "</div>"
      ],
      "text/plain": [
       "        x_0       x_1      f_1_pred      f_1_true\n",
       "0  0.154314 -0.001118    acceptable    acceptable\n",
       "1  0.149196  0.013251         ideal    acceptable\n",
       "2 -1.333767  1.750000         ideal  unacceptable\n",
       "3 -0.630759  0.390813  unacceptable    acceptable\n",
       "4 -1.114157  1.209882  unacceptable  unacceptable\n",
       "5 -0.358540  0.102376  unacceptable    acceptable\n",
       "6  0.736046  0.516076    acceptable         ideal\n",
       "7 -0.558970  0.322902  unacceptable    acceptable\n",
       "8  0.303819  0.044806    acceptable    acceptable\n",
       "9 -0.992659  0.943164  unacceptable    acceptable"
      ]
     },
     "execution_count": 12,
     "metadata": {},
     "output_type": "execute_result"
    }
   ],
   "source": [
    "# Print results\n",
    "candidates[[\"x_0\", \"x_1\", \"f_1_pred\", \"f_1_true\"]]"
   ]
  }
 ],
 "metadata": {
  "kernelspec": {
   "display_name": "bofire",
   "language": "python",
   "name": "python3"
  },
  "language_info": {
   "codemirror_mode": {
    "name": "ipython",
    "version": 3
   },
   "file_extension": ".py",
   "mimetype": "text/x-python",
   "name": "python",
   "nbconvert_exporter": "python",
   "pygments_lexer": "ipython3",
   "version": "3.9.0"
  },
  "orig_nbformat": 4,
  "vscode": {
   "interpreter": {
    "hash": "6f21737eef49beedf03d74399b47fe38d73eff760737ca33d38b9fe616638e91"
   }
  }
 },
 "nbformat": 4,
 "nbformat_minor": 2
}
