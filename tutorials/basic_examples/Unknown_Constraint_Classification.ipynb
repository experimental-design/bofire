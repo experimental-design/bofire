{
 "cells": [
  {
   "cell_type": "markdown",
   "metadata": {},
   "source": [
    "# Classification Surrogate Tests\n",
    "\n",
    "We are interested in testing whether or not a surrogate model can correctly identify unknown constraints based on categorical criteria with classification surrogates. Essentially, we want to account for scenarios where specialists can look at a set of experiments and label outcomes as 'acceptable', 'unacceptable', 'ideal', etc. \n",
    "\n",
    "This involves new models that produce `CategoricalOutput`'s rather than continuous outputs. Mathematically, if $g_{\\theta}:\\mathbb{R}^d\\to[0,1]^c$ represents the function governed by learnable parameters $\\theta$ which outputs a probability vector over $c$ potential classes (i.e. for input $x\\in\\mathbb{R}^d$, $g_{\\theta}(x)^\\top\\mathbf{1}=1$ where $\\mathbf{1}$ is the vector of all 1's) and we have acceptibility criteria for the corresponding classes given by $a\\in\\{0,1\\}^c$, we can compute the scalar output $g_{\\theta}(x)^\\top a\\in[0,1]$ which represents the expected value of acceptance as an objective value to be passed in as a constrained function.\n",
    "\n",
    "In this script, we look at the [Rosenbrock function constrained to a disk](https://en.wikipedia.org/wiki/Test_functions_for_optimization#cite_note-12) which attains a global minima at $(x_0^*,x_1^*)=(1.0, 1.0)$. To facilitate testing the functionality offered by BoFire, we label all points inside of the circle $x_0^2+x_1^2\\le2$ as 'acceptable' and futher label anything inside of the interesction of this circle and the circle $(x_0-1)^2+(x_1-1)^2\\le1.0$ as 'ideal'; points lying outside of these two locations are labeled as \"unacceptable.\""
   ]
  },
  {
   "cell_type": "code",
   "execution_count": 12,
   "metadata": {},
   "outputs": [],
   "source": [
    "# Import packages\n",
    "import bofire.strategies.api as strategies\n",
    "from bofire.data_models.api import Domain, Outputs, Inputs\n",
    "from bofire.data_models.features.api import ContinuousInput, ContinuousOutput, CategoricalOutput, CategoricalInput\n",
    "from bofire.data_models.objectives.api import MinimizeObjective, MinimizeSigmoidObjective, ConstrainedCategoricalObjective\n",
    "import numpy as np\n",
    "import pandas as pd"
   ]
  },
  {
   "attachments": {},
   "cell_type": "markdown",
   "metadata": {},
   "source": [
    "## Manual setup of the optimization domain\n",
    "\n",
    "The following cells show how to manually setup the optimization problem in BoFire for didactic purposes."
   ]
  },
  {
   "cell_type": "code",
   "execution_count": 13,
   "metadata": {},
   "outputs": [],
   "source": [
    "# Write helper functions which give the objective and the constraints\n",
    "def rosenbrock(x: pd.Series) -> pd.Series:\n",
    "    assert \"x_0\" in x.columns\n",
    "    assert \"x_1\" in x.columns\n",
    "    return (1 - x[\"x_0\"]) ** 2 + 100 * (x[\"x_1\"] - x[\"x_0\"] ** 2) ** 2\n",
    "\n",
    "def constraints(x: pd.Series) -> pd.Series:\n",
    "    assert \"x_0\" in x.columns\n",
    "    assert \"x_1\" in x.columns\n",
    "    feasiblity_vector = []\n",
    "    for _, row in x.iterrows():\n",
    "        if (row[\"x_0\"] ** 2 + row[\"x_1\"] ** 2 <= 2.0) and ((row[\"x_0\"] - 1.0) ** 2 + (row[\"x_1\"] - 1.0) ** 2 <= 1.0):\n",
    "            feasiblity_vector.append(\"ideal\")\n",
    "        elif row[\"x_0\"] ** 2 + row[\"x_1\"] ** 2 <= 2.0:\n",
    "            feasiblity_vector.append(\"acceptable\")\n",
    "        else:\n",
    "            feasiblity_vector.append(\"unacceptable\")\n",
    "    return feasiblity_vector"
   ]
  },
  {
   "cell_type": "code",
   "execution_count": 14,
   "metadata": {},
   "outputs": [
    {
     "data": {
      "text/html": [
       "<div>\n",
       "<style scoped>\n",
       "    .dataframe tbody tr th:only-of-type {\n",
       "        vertical-align: middle;\n",
       "    }\n",
       "\n",
       "    .dataframe tbody tr th {\n",
       "        vertical-align: top;\n",
       "    }\n",
       "\n",
       "    .dataframe thead th {\n",
       "        text-align: right;\n",
       "    }\n",
       "</style>\n",
       "<table border=\"1\" class=\"dataframe\">\n",
       "  <thead>\n",
       "    <tr style=\"text-align: right;\">\n",
       "      <th></th>\n",
       "      <th>x_0</th>\n",
       "      <th>x_1</th>\n",
       "      <th>x_3</th>\n",
       "      <th>f_0</th>\n",
       "      <th>f_1</th>\n",
       "      <th>f_2</th>\n",
       "    </tr>\n",
       "  </thead>\n",
       "  <tbody>\n",
       "    <tr>\n",
       "      <th>0</th>\n",
       "      <td>-0.073213</td>\n",
       "      <td>-0.173816</td>\n",
       "      <td>0</td>\n",
       "      <td>4.362194</td>\n",
       "      <td>acceptable</td>\n",
       "      <td>0.007990</td>\n",
       "    </tr>\n",
       "    <tr>\n",
       "      <th>1</th>\n",
       "      <td>-0.558842</td>\n",
       "      <td>0.940771</td>\n",
       "      <td>0</td>\n",
       "      <td>41.927069</td>\n",
       "      <td>acceptable</td>\n",
       "      <td>0.005296</td>\n",
       "    </tr>\n",
       "    <tr>\n",
       "      <th>2</th>\n",
       "      <td>-1.663016</td>\n",
       "      <td>-0.422555</td>\n",
       "      <td>0</td>\n",
       "      <td>1023.539326</td>\n",
       "      <td>unacceptable</td>\n",
       "      <td>0.005456</td>\n",
       "    </tr>\n",
       "    <tr>\n",
       "      <th>3</th>\n",
       "      <td>-1.286946</td>\n",
       "      <td>1.150658</td>\n",
       "      <td>0</td>\n",
       "      <td>30.790510</td>\n",
       "      <td>unacceptable</td>\n",
       "      <td>0.007460</td>\n",
       "    </tr>\n",
       "    <tr>\n",
       "      <th>4</th>\n",
       "      <td>0.756959</td>\n",
       "      <td>0.342372</td>\n",
       "      <td>0</td>\n",
       "      <td>5.377383</td>\n",
       "      <td>ideal</td>\n",
       "      <td>0.003363</td>\n",
       "    </tr>\n",
       "  </tbody>\n",
       "</table>\n",
       "</div>"
      ],
      "text/plain": [
       "        x_0       x_1 x_3          f_0           f_1       f_2\n",
       "0 -0.073213 -0.173816   0     4.362194    acceptable  0.007990\n",
       "1 -0.558842  0.940771   0    41.927069    acceptable  0.005296\n",
       "2 -1.663016 -0.422555   0  1023.539326  unacceptable  0.005456\n",
       "3 -1.286946  1.150658   0    30.790510  unacceptable  0.007460\n",
       "4  0.756959  0.342372   0     5.377383         ideal  0.003363"
      ]
     },
     "execution_count": 14,
     "metadata": {},
     "output_type": "execute_result"
    }
   ],
   "source": [
    "# Set-up the inputs and outputs, use categorical domain just as an example\n",
    "input_features = Inputs(features=[ContinuousInput(key=f\"x_{i}\", bounds=(-1.75, 1.75)) for i in range(2)] + [CategoricalInput(key=f\"x_3\", categories=[\"0\", \"1\"], allowed=[True, True])])\n",
    "\n",
    "# here the minimize objective is used, if you want to maximize you have to use the maximize objective.\n",
    "output_features = Outputs(features=[\n",
    "        ContinuousOutput(key=f\"f_{0}\", objective=MinimizeObjective(w=1.)),\n",
    "        CategoricalOutput(key=f\"f_{1}\", categories=[\"unacceptable\", \"acceptable\", \"ideal\"], objective=ConstrainedCategoricalObjective(categories=[\"unacceptable\", \"acceptable\", \"ideal\"], desirability=[False, True, True])), # This function will be associated with learning the categories\n",
    "        ContinuousOutput(key=f\"f_{2}\", objective=MinimizeSigmoidObjective(w=1., tp=0.0, steepness=0.5)),\n",
    "    ]\n",
    ")\n",
    "\n",
    "# Create domain\n",
    "domain1 = Domain(inputs=input_features, outputs=output_features)\n",
    "\n",
    "# Sample random points\n",
    "sample_df = domain1.inputs.sample(100)\n",
    "\n",
    "# Write a function which outputs one continuous variable and another discrete based on some logic\n",
    "sample_df[\"f_0\"] = rosenbrock(x=sample_df)\n",
    "sample_df[\"f_1\"] = constraints(x=sample_df)\n",
    "sample_df[\"f_2\"] = sample_df[\"x_3\"].astype(float) + 1e-2 * np.random.uniform(size=(len(sample_df),))\n",
    "sample_df.head(5)"
   ]
  },
  {
   "cell_type": "code",
   "execution_count": 15,
   "metadata": {},
   "outputs": [
    {
     "data": {
      "application/vnd.plotly.v1+json": {
       "config": {
        "plotlyServerURL": "https://plot.ly"
       },
       "data": [
        {
         "hovertemplate": "f_1=acceptable<br>x_0=%{x}<br>x_1=%{y}<extra></extra>",
         "legendgroup": "acceptable",
         "marker": {
          "color": "#636efa",
          "symbol": "circle"
         },
         "mode": "markers",
         "name": "acceptable",
         "orientation": "v",
         "showlegend": true,
         "type": "scatter",
         "x": [
          -0.07321318049019965,
          -0.5588419893731316,
          -0.8985230467616341,
          -1.0292058348995758,
          0.35244862279577305,
          0.9528048806523377,
          -1.1646259264294618,
          -0.042087482980167845,
          0.4039809383037536,
          -1.0307240210015078,
          -0.1560715060200324,
          -1.1049138766739544,
          -0.06810459837939531,
          -0.34754085919972844,
          0.9283633902161212,
          -1.0436371217335334,
          -1.0546493075448813,
          0.02494438460292603,
          -0.1710270775439422,
          -0.0013368667688371527,
          -0.392453180338423,
          -0.8647353336778001,
          -1.0847911352150188,
          -0.42142878734689226,
          1.2496701479105563,
          -1.2948654582931687,
          -0.3051286802687181,
          0.3662905154646685,
          0.3074010270419505,
          -0.7803326707031792,
          0.03260906153286447,
          0.6109573086447044,
          -0.43864798001160876,
          0.5438019840565453,
          -0.8265360983870151,
          0.37264481028879093,
          -0.3281250548835608,
          -0.4167203675788893,
          -0.0657892829207547
         ],
         "xaxis": "x",
         "y": [
          -0.17381593448062027,
          0.9407713973498608,
          0.020726174078847137,
          0.913310979582409,
          -0.3661492308705969,
          -0.09940322024898673,
          0.5508334055831456,
          -0.05418903548597043,
          -0.8227839556914979,
          0.1457624938904325,
          1.147833506871621,
          -0.6869957196475109,
          -1.4056893033808622,
          0.0718887572832887,
          -0.6790577296916382,
          -0.15584601306358925,
          0.4876389137502479,
          0.7475805215463804,
          -0.6273661151308012,
          0.03222974761832331,
          -0.5555262316869118,
          0.8877236548358565,
          -0.2629103743044927,
          0.19134278742538058,
          0.013239929092230263,
          0.5397028293175845,
          0.2035004923467727,
          -1.2377668011422878,
          -0.6462284326270806,
          0.05582182979174766,
          0.236334433477269,
          -1.103983091579659,
          1.0587162308079088,
          -1.0355728036529377,
          -0.7568147674837169,
          -0.45150202629320724,
          -0.9243292819936946,
          -1.1460364580489035,
          1.0692357670790393
         ],
         "yaxis": "y"
        },
        {
         "hovertemplate": "f_1=unacceptable<br>x_0=%{x}<br>x_1=%{y}<extra></extra>",
         "legendgroup": "unacceptable",
         "marker": {
          "color": "#EF553B",
          "symbol": "circle"
         },
         "mode": "markers",
         "name": "unacceptable",
         "orientation": "v",
         "showlegend": true,
         "type": "scatter",
         "x": [
          -1.6630162760045795,
          -1.286946137400366,
          -1.1931846597891524,
          1.2146613347296635,
          1.7000891922760921,
          1.4872678080585287,
          -1.4804637110018204,
          1.1699124133484027,
          1.516602066498184,
          -0.9909446226396376,
          -1.5378141242498566,
          1.5954528965403396,
          -1.5294381480146355,
          1.4594978431768837,
          -0.3577423022945294,
          1.620229456555938,
          -1.664431954673963,
          1.4160944727551756,
          -1.5482048479807955,
          1.1924918084084961,
          -1.731761227261967,
          1.404936688277174,
          1.0947766973891762,
          -0.519276259387774,
          0.6730885610273702,
          0.915988953919344,
          1.1752917242186087,
          1.3637226302449381,
          1.6785214915139632,
          1.58105290419071,
          1.4691098470484172,
          -1.6563050260430705,
          -1.270415941962483,
          0.2099876083549137,
          -1.1662504899545398,
          1.518607456866964,
          0.8441218222783702,
          -1.559056742958962,
          -1.5939434136412012,
          1.3689384384883678,
          -1.6053436462630795,
          0.008220829197049806
         ],
         "xaxis": "x",
         "y": [
          -0.422554511553753,
          1.150657542953963,
          -1.1410548182715137,
          -1.3472181218753596,
          0.11396236358195266,
          1.0691736792669388,
          -1.5004165302144574,
          -1.4892754744616727,
          1.3480308717512366,
          1.3080579840997544,
          -0.685289399058566,
          1.2498147025055397,
          0.9462210918878791,
          -1.1355527818651603,
          1.7213059768850618,
          -0.7557851364023072,
          -0.6890348617836524,
          1.6603265875448114,
          1.6760989802647415,
          -1.2484894932822872,
          1.1512686965592982,
          -0.20575815864446456,
          -1.703770113900696,
          -1.3505322003913427,
          -1.248301135898829,
          1.0888210192742083,
          1.6211428734674747,
          0.7952815061305452,
          -0.04727366650452258,
          0.9285271910202479,
          -0.16942296469152174,
          0.6418882271459929,
          -0.7121367703504429,
          -1.4394070766626794,
          -1.0653570065486102,
          -1.7155959760444761,
          1.6390645504126615,
          0.7405404555502035,
          0.7745426501661656,
          -0.892754487596001,
          -0.20459051213543078,
          -1.7000574034009923
         ],
         "yaxis": "y"
        },
        {
         "hovertemplate": "f_1=ideal<br>x_0=%{x}<br>x_1=%{y}<extra></extra>",
         "legendgroup": "ideal",
         "marker": {
          "color": "#00cc96",
          "symbol": "circle"
         },
         "mode": "markers",
         "name": "ideal",
         "orientation": "v",
         "showlegend": true,
         "type": "scatter",
         "x": [
          0.7569591284188575,
          0.93010764779936,
          0.5603523538456492,
          0.9792953410787515,
          0.10392338145894309,
          0.8683091101696028,
          0.26744273616884895,
          0.6855353177932879,
          0.10899662399819876,
          0.6268617084110515,
          1.153891059773529,
          0.13595914708052836,
          0.6246997131763035,
          0.2709624813181275,
          1.1659237387592172,
          0.2416269711683232,
          0.25385854534216046,
          0.2922839428499806,
          0.07904362548010702
         ],
         "xaxis": "x",
         "y": [
          0.3423724207639953,
          0.6464112742365464,
          1.1292454853281328,
          0.3232307548157345,
          0.6755389021646168,
          0.5375652067425829,
          1.2131514639239276,
          0.9910921631319534,
          0.6557939575342395,
          1.088247143412076,
          0.2244959943276288,
          0.8790756393547463,
          0.3947077652057054,
          0.5872178792073877,
          0.5167616872242884,
          1.2043027308846912,
          0.9056486121924587,
          1.1191673592578,
          1.0616664303067846
         ],
         "yaxis": "y"
        }
       ],
       "layout": {
        "height": 525,
        "legend": {
         "title": {
          "text": "f_1"
         },
         "tracegroupgap": 0
        },
        "shapes": [
         {
          "fillcolor": "red",
          "line": {
           "color": "red"
          },
          "opacity": 0.1,
          "type": "circle",
          "x0": -1.4142135623730951,
          "x1": 1.4142135623730951,
          "xref": "x",
          "y0": -1.4142135623730951,
          "y1": 1.4142135623730951,
          "yref": "y"
         },
         {
          "fillcolor": "LightSeaGreen",
          "line": {
           "color": "LightSeaGreen"
          },
          "opacity": 0.2,
          "type": "circle",
          "x0": 0,
          "x1": 2,
          "xref": "x",
          "y0": 0,
          "y1": 2,
          "yref": "y"
         }
        ],
        "template": {
         "data": {
          "bar": [
           {
            "error_x": {
             "color": "#2a3f5f"
            },
            "error_y": {
             "color": "#2a3f5f"
            },
            "marker": {
             "line": {
              "color": "#E5ECF6",
              "width": 0.5
             },
             "pattern": {
              "fillmode": "overlay",
              "size": 10,
              "solidity": 0.2
             }
            },
            "type": "bar"
           }
          ],
          "barpolar": [
           {
            "marker": {
             "line": {
              "color": "#E5ECF6",
              "width": 0.5
             },
             "pattern": {
              "fillmode": "overlay",
              "size": 10,
              "solidity": 0.2
             }
            },
            "type": "barpolar"
           }
          ],
          "carpet": [
           {
            "aaxis": {
             "endlinecolor": "#2a3f5f",
             "gridcolor": "white",
             "linecolor": "white",
             "minorgridcolor": "white",
             "startlinecolor": "#2a3f5f"
            },
            "baxis": {
             "endlinecolor": "#2a3f5f",
             "gridcolor": "white",
             "linecolor": "white",
             "minorgridcolor": "white",
             "startlinecolor": "#2a3f5f"
            },
            "type": "carpet"
           }
          ],
          "choropleth": [
           {
            "colorbar": {
             "outlinewidth": 0,
             "ticks": ""
            },
            "type": "choropleth"
           }
          ],
          "contour": [
           {
            "colorbar": {
             "outlinewidth": 0,
             "ticks": ""
            },
            "colorscale": [
             [
              0,
              "#0d0887"
             ],
             [
              0.1111111111111111,
              "#46039f"
             ],
             [
              0.2222222222222222,
              "#7201a8"
             ],
             [
              0.3333333333333333,
              "#9c179e"
             ],
             [
              0.4444444444444444,
              "#bd3786"
             ],
             [
              0.5555555555555556,
              "#d8576b"
             ],
             [
              0.6666666666666666,
              "#ed7953"
             ],
             [
              0.7777777777777778,
              "#fb9f3a"
             ],
             [
              0.8888888888888888,
              "#fdca26"
             ],
             [
              1,
              "#f0f921"
             ]
            ],
            "type": "contour"
           }
          ],
          "contourcarpet": [
           {
            "colorbar": {
             "outlinewidth": 0,
             "ticks": ""
            },
            "type": "contourcarpet"
           }
          ],
          "heatmap": [
           {
            "colorbar": {
             "outlinewidth": 0,
             "ticks": ""
            },
            "colorscale": [
             [
              0,
              "#0d0887"
             ],
             [
              0.1111111111111111,
              "#46039f"
             ],
             [
              0.2222222222222222,
              "#7201a8"
             ],
             [
              0.3333333333333333,
              "#9c179e"
             ],
             [
              0.4444444444444444,
              "#bd3786"
             ],
             [
              0.5555555555555556,
              "#d8576b"
             ],
             [
              0.6666666666666666,
              "#ed7953"
             ],
             [
              0.7777777777777778,
              "#fb9f3a"
             ],
             [
              0.8888888888888888,
              "#fdca26"
             ],
             [
              1,
              "#f0f921"
             ]
            ],
            "type": "heatmap"
           }
          ],
          "heatmapgl": [
           {
            "colorbar": {
             "outlinewidth": 0,
             "ticks": ""
            },
            "colorscale": [
             [
              0,
              "#0d0887"
             ],
             [
              0.1111111111111111,
              "#46039f"
             ],
             [
              0.2222222222222222,
              "#7201a8"
             ],
             [
              0.3333333333333333,
              "#9c179e"
             ],
             [
              0.4444444444444444,
              "#bd3786"
             ],
             [
              0.5555555555555556,
              "#d8576b"
             ],
             [
              0.6666666666666666,
              "#ed7953"
             ],
             [
              0.7777777777777778,
              "#fb9f3a"
             ],
             [
              0.8888888888888888,
              "#fdca26"
             ],
             [
              1,
              "#f0f921"
             ]
            ],
            "type": "heatmapgl"
           }
          ],
          "histogram": [
           {
            "marker": {
             "pattern": {
              "fillmode": "overlay",
              "size": 10,
              "solidity": 0.2
             }
            },
            "type": "histogram"
           }
          ],
          "histogram2d": [
           {
            "colorbar": {
             "outlinewidth": 0,
             "ticks": ""
            },
            "colorscale": [
             [
              0,
              "#0d0887"
             ],
             [
              0.1111111111111111,
              "#46039f"
             ],
             [
              0.2222222222222222,
              "#7201a8"
             ],
             [
              0.3333333333333333,
              "#9c179e"
             ],
             [
              0.4444444444444444,
              "#bd3786"
             ],
             [
              0.5555555555555556,
              "#d8576b"
             ],
             [
              0.6666666666666666,
              "#ed7953"
             ],
             [
              0.7777777777777778,
              "#fb9f3a"
             ],
             [
              0.8888888888888888,
              "#fdca26"
             ],
             [
              1,
              "#f0f921"
             ]
            ],
            "type": "histogram2d"
           }
          ],
          "histogram2dcontour": [
           {
            "colorbar": {
             "outlinewidth": 0,
             "ticks": ""
            },
            "colorscale": [
             [
              0,
              "#0d0887"
             ],
             [
              0.1111111111111111,
              "#46039f"
             ],
             [
              0.2222222222222222,
              "#7201a8"
             ],
             [
              0.3333333333333333,
              "#9c179e"
             ],
             [
              0.4444444444444444,
              "#bd3786"
             ],
             [
              0.5555555555555556,
              "#d8576b"
             ],
             [
              0.6666666666666666,
              "#ed7953"
             ],
             [
              0.7777777777777778,
              "#fb9f3a"
             ],
             [
              0.8888888888888888,
              "#fdca26"
             ],
             [
              1,
              "#f0f921"
             ]
            ],
            "type": "histogram2dcontour"
           }
          ],
          "mesh3d": [
           {
            "colorbar": {
             "outlinewidth": 0,
             "ticks": ""
            },
            "type": "mesh3d"
           }
          ],
          "parcoords": [
           {
            "line": {
             "colorbar": {
              "outlinewidth": 0,
              "ticks": ""
             }
            },
            "type": "parcoords"
           }
          ],
          "pie": [
           {
            "automargin": true,
            "type": "pie"
           }
          ],
          "scatter": [
           {
            "fillpattern": {
             "fillmode": "overlay",
             "size": 10,
             "solidity": 0.2
            },
            "type": "scatter"
           }
          ],
          "scatter3d": [
           {
            "line": {
             "colorbar": {
              "outlinewidth": 0,
              "ticks": ""
             }
            },
            "marker": {
             "colorbar": {
              "outlinewidth": 0,
              "ticks": ""
             }
            },
            "type": "scatter3d"
           }
          ],
          "scattercarpet": [
           {
            "marker": {
             "colorbar": {
              "outlinewidth": 0,
              "ticks": ""
             }
            },
            "type": "scattercarpet"
           }
          ],
          "scattergeo": [
           {
            "marker": {
             "colorbar": {
              "outlinewidth": 0,
              "ticks": ""
             }
            },
            "type": "scattergeo"
           }
          ],
          "scattergl": [
           {
            "marker": {
             "colorbar": {
              "outlinewidth": 0,
              "ticks": ""
             }
            },
            "type": "scattergl"
           }
          ],
          "scattermapbox": [
           {
            "marker": {
             "colorbar": {
              "outlinewidth": 0,
              "ticks": ""
             }
            },
            "type": "scattermapbox"
           }
          ],
          "scatterpolar": [
           {
            "marker": {
             "colorbar": {
              "outlinewidth": 0,
              "ticks": ""
             }
            },
            "type": "scatterpolar"
           }
          ],
          "scatterpolargl": [
           {
            "marker": {
             "colorbar": {
              "outlinewidth": 0,
              "ticks": ""
             }
            },
            "type": "scatterpolargl"
           }
          ],
          "scatterternary": [
           {
            "marker": {
             "colorbar": {
              "outlinewidth": 0,
              "ticks": ""
             }
            },
            "type": "scatterternary"
           }
          ],
          "surface": [
           {
            "colorbar": {
             "outlinewidth": 0,
             "ticks": ""
            },
            "colorscale": [
             [
              0,
              "#0d0887"
             ],
             [
              0.1111111111111111,
              "#46039f"
             ],
             [
              0.2222222222222222,
              "#7201a8"
             ],
             [
              0.3333333333333333,
              "#9c179e"
             ],
             [
              0.4444444444444444,
              "#bd3786"
             ],
             [
              0.5555555555555556,
              "#d8576b"
             ],
             [
              0.6666666666666666,
              "#ed7953"
             ],
             [
              0.7777777777777778,
              "#fb9f3a"
             ],
             [
              0.8888888888888888,
              "#fdca26"
             ],
             [
              1,
              "#f0f921"
             ]
            ],
            "type": "surface"
           }
          ],
          "table": [
           {
            "cells": {
             "fill": {
              "color": "#EBF0F8"
             },
             "line": {
              "color": "white"
             }
            },
            "header": {
             "fill": {
              "color": "#C8D4E3"
             },
             "line": {
              "color": "white"
             }
            },
            "type": "table"
           }
          ]
         },
         "layout": {
          "annotationdefaults": {
           "arrowcolor": "#2a3f5f",
           "arrowhead": 0,
           "arrowwidth": 1
          },
          "autotypenumbers": "strict",
          "coloraxis": {
           "colorbar": {
            "outlinewidth": 0,
            "ticks": ""
           }
          },
          "colorscale": {
           "diverging": [
            [
             0,
             "#8e0152"
            ],
            [
             0.1,
             "#c51b7d"
            ],
            [
             0.2,
             "#de77ae"
            ],
            [
             0.3,
             "#f1b6da"
            ],
            [
             0.4,
             "#fde0ef"
            ],
            [
             0.5,
             "#f7f7f7"
            ],
            [
             0.6,
             "#e6f5d0"
            ],
            [
             0.7,
             "#b8e186"
            ],
            [
             0.8,
             "#7fbc41"
            ],
            [
             0.9,
             "#4d9221"
            ],
            [
             1,
             "#276419"
            ]
           ],
           "sequential": [
            [
             0,
             "#0d0887"
            ],
            [
             0.1111111111111111,
             "#46039f"
            ],
            [
             0.2222222222222222,
             "#7201a8"
            ],
            [
             0.3333333333333333,
             "#9c179e"
            ],
            [
             0.4444444444444444,
             "#bd3786"
            ],
            [
             0.5555555555555556,
             "#d8576b"
            ],
            [
             0.6666666666666666,
             "#ed7953"
            ],
            [
             0.7777777777777778,
             "#fb9f3a"
            ],
            [
             0.8888888888888888,
             "#fdca26"
            ],
            [
             1,
             "#f0f921"
            ]
           ],
           "sequentialminus": [
            [
             0,
             "#0d0887"
            ],
            [
             0.1111111111111111,
             "#46039f"
            ],
            [
             0.2222222222222222,
             "#7201a8"
            ],
            [
             0.3333333333333333,
             "#9c179e"
            ],
            [
             0.4444444444444444,
             "#bd3786"
            ],
            [
             0.5555555555555556,
             "#d8576b"
            ],
            [
             0.6666666666666666,
             "#ed7953"
            ],
            [
             0.7777777777777778,
             "#fb9f3a"
            ],
            [
             0.8888888888888888,
             "#fdca26"
            ],
            [
             1,
             "#f0f921"
            ]
           ]
          },
          "colorway": [
           "#636efa",
           "#EF553B",
           "#00cc96",
           "#ab63fa",
           "#FFA15A",
           "#19d3f3",
           "#FF6692",
           "#B6E880",
           "#FF97FF",
           "#FECB52"
          ],
          "font": {
           "color": "#2a3f5f"
          },
          "geo": {
           "bgcolor": "white",
           "lakecolor": "white",
           "landcolor": "#E5ECF6",
           "showlakes": true,
           "showland": true,
           "subunitcolor": "white"
          },
          "hoverlabel": {
           "align": "left"
          },
          "hovermode": "closest",
          "mapbox": {
           "style": "light"
          },
          "paper_bgcolor": "white",
          "plot_bgcolor": "#E5ECF6",
          "polar": {
           "angularaxis": {
            "gridcolor": "white",
            "linecolor": "white",
            "ticks": ""
           },
           "bgcolor": "#E5ECF6",
           "radialaxis": {
            "gridcolor": "white",
            "linecolor": "white",
            "ticks": ""
           }
          },
          "scene": {
           "xaxis": {
            "backgroundcolor": "#E5ECF6",
            "gridcolor": "white",
            "gridwidth": 2,
            "linecolor": "white",
            "showbackground": true,
            "ticks": "",
            "zerolinecolor": "white"
           },
           "yaxis": {
            "backgroundcolor": "#E5ECF6",
            "gridcolor": "white",
            "gridwidth": 2,
            "linecolor": "white",
            "showbackground": true,
            "ticks": "",
            "zerolinecolor": "white"
           },
           "zaxis": {
            "backgroundcolor": "#E5ECF6",
            "gridcolor": "white",
            "gridwidth": 2,
            "linecolor": "white",
            "showbackground": true,
            "ticks": "",
            "zerolinecolor": "white"
           }
          },
          "shapedefaults": {
           "line": {
            "color": "#2a3f5f"
           }
          },
          "ternary": {
           "aaxis": {
            "gridcolor": "white",
            "linecolor": "white",
            "ticks": ""
           },
           "baxis": {
            "gridcolor": "white",
            "linecolor": "white",
            "ticks": ""
           },
           "bgcolor": "#E5ECF6",
           "caxis": {
            "gridcolor": "white",
            "linecolor": "white",
            "ticks": ""
           }
          },
          "title": {
           "x": 0.05
          },
          "xaxis": {
           "automargin": true,
           "gridcolor": "white",
           "linecolor": "white",
           "ticks": "",
           "title": {
            "standoff": 15
           },
           "zerolinecolor": "white",
           "zerolinewidth": 2
          },
          "yaxis": {
           "automargin": true,
           "gridcolor": "white",
           "linecolor": "white",
           "ticks": "",
           "title": {
            "standoff": 15
           },
           "zerolinecolor": "white",
           "zerolinewidth": 2
          }
         }
        },
        "title": {
         "text": "Samples with labels"
        },
        "width": 550,
        "xaxis": {
         "anchor": "y",
         "domain": [
          0,
          1
         ],
         "title": {
          "text": "x_0"
         }
        },
        "yaxis": {
         "anchor": "x",
         "domain": [
          0,
          1
         ],
         "title": {
          "text": "x_1"
         }
        }
       }
      }
     },
     "metadata": {},
     "output_type": "display_data"
    }
   ],
   "source": [
    "# Plot the sample df\n",
    "import math\n",
    "import plotly.express as px \n",
    "fig = px.scatter(sample_df, x=\"x_0\", y=\"x_1\", color=\"f_1\", width=550, height=525, title=\"Samples with labels\")\n",
    "fig.add_shape(type=\"circle\",\n",
    "    xref=\"x\", yref=\"y\",\n",
    "    opacity=0.1,\n",
    "    fillcolor=\"red\",\n",
    "    x0=-math.sqrt(2), y0=-math.sqrt(2), x1=math.sqrt(2), y1=math.sqrt(2),\n",
    "    line_color=\"red\",\n",
    ")\n",
    "fig.add_shape(type=\"circle\",\n",
    "    xref=\"x\", yref=\"y\",\n",
    "    opacity=0.2,\n",
    "    fillcolor=\"LightSeaGreen\",\n",
    "    x0=0, y0=0, x1=2, y1=2,\n",
    "    line_color=\"LightSeaGreen\",\n",
    ")\n",
    "fig.show()"
   ]
  },
  {
   "cell_type": "markdown",
   "metadata": {},
   "source": [
    "## Evaluate the classification model performance (outside of the optimization procedure)"
   ]
  },
  {
   "cell_type": "code",
   "execution_count": 16,
   "metadata": {},
   "outputs": [
    {
     "name": "stderr",
     "output_type": "stream",
     "text": [
      "c:\\ProgramData\\Anaconda3\\envs\\bofire-env\\lib\\site-packages\\botorch\\models\\model.py:230: RuntimeWarning:\n",
      "\n",
      "Could not update `train_inputs` with transformed inputs since _MLPEnsemble does not have a `train_inputs` attribute. Make sure that the `input_transform` is applied to both the train inputs and test inputs.\n",
      "\n",
      "c:\\ProgramData\\Anaconda3\\envs\\bofire-env\\lib\\site-packages\\botorch\\models\\model.py:230: RuntimeWarning:\n",
      "\n",
      "Could not update `train_inputs` with transformed inputs since _MLPEnsemble does not have a `train_inputs` attribute. Make sure that the `input_transform` is applied to both the train inputs and test inputs.\n",
      "\n",
      "c:\\ProgramData\\Anaconda3\\envs\\bofire-env\\lib\\site-packages\\botorch\\models\\model.py:230: RuntimeWarning:\n",
      "\n",
      "Could not update `train_inputs` with transformed inputs since _MLPEnsemble does not have a `train_inputs` attribute. Make sure that the `input_transform` is applied to both the train inputs and test inputs.\n",
      "\n",
      "c:\\ProgramData\\Anaconda3\\envs\\bofire-env\\lib\\site-packages\\botorch\\models\\model.py:230: RuntimeWarning:\n",
      "\n",
      "Could not update `train_inputs` with transformed inputs since _MLPEnsemble does not have a `train_inputs` attribute. Make sure that the `input_transform` is applied to both the train inputs and test inputs.\n",
      "\n",
      "c:\\ProgramData\\Anaconda3\\envs\\bofire-env\\lib\\site-packages\\botorch\\models\\model.py:230: RuntimeWarning:\n",
      "\n",
      "Could not update `train_inputs` with transformed inputs since _MLPEnsemble does not have a `train_inputs` attribute. Make sure that the `input_transform` is applied to both the train inputs and test inputs.\n",
      "\n",
      "c:\\ProgramData\\Anaconda3\\envs\\bofire-env\\lib\\site-packages\\botorch\\models\\model.py:230: RuntimeWarning:\n",
      "\n",
      "Could not update `train_inputs` with transformed inputs since _MLPEnsemble does not have a `train_inputs` attribute. Make sure that the `input_transform` is applied to both the train inputs and test inputs.\n",
      "\n"
     ]
    }
   ],
   "source": [
    "# Import packages\n",
    "import bofire.surrogates.api as surrogates\n",
    "from bofire.data_models.surrogates.api import ClassificationMLPEnsemble\n",
    "from bofire.surrogates.diagnostics import ClassificationMetricsEnum\n",
    "\n",
    "# Instantiate the surrogate model \n",
    "model = ClassificationMLPEnsemble(inputs=domain1.inputs, outputs=Outputs(features=[domain1.outputs.get_by_key(\"f_1\")]), lr=0.03, n_epochs=100, hidden_layer_sizes=(4,2,), weight_decay=0.0, batch_size=10, activation=\"tanh\")\n",
    "surrogate = surrogates.map(model)\n",
    "\n",
    "# Fit the model to the classification data\n",
    "cv_df = sample_df.drop([\"f_0\", \"f_2\"], axis=1)\n",
    "cv_df[\"valid_f_1\"] = 1\n",
    "cv = surrogate.cross_validate(cv_df, folds=3)\n"
   ]
  },
  {
   "cell_type": "code",
   "execution_count": 17,
   "metadata": {},
   "outputs": [
    {
     "data": {
      "text/html": [
       "<div>\n",
       "<style scoped>\n",
       "    .dataframe tbody tr th:only-of-type {\n",
       "        vertical-align: middle;\n",
       "    }\n",
       "\n",
       "    .dataframe tbody tr th {\n",
       "        vertical-align: top;\n",
       "    }\n",
       "\n",
       "    .dataframe thead th {\n",
       "        text-align: right;\n",
       "    }\n",
       "</style>\n",
       "<table border=\"1\" class=\"dataframe\">\n",
       "  <thead>\n",
       "    <tr style=\"text-align: right;\">\n",
       "      <th></th>\n",
       "      <th>ACCURACY</th>\n",
       "      <th>F1</th>\n",
       "    </tr>\n",
       "  </thead>\n",
       "  <tbody>\n",
       "    <tr>\n",
       "      <th>0</th>\n",
       "      <td>0.725</td>\n",
       "      <td>0.725</td>\n",
       "    </tr>\n",
       "  </tbody>\n",
       "</table>\n",
       "</div>"
      ],
      "text/plain": [
       "   ACCURACY     F1\n",
       "0     0.725  0.725"
      ]
     },
     "execution_count": 17,
     "metadata": {},
     "output_type": "execute_result"
    }
   ],
   "source": [
    "# Print results\n",
    "cv[0].get_metrics(metrics=ClassificationMetricsEnum, combine_folds=True) # print training set performance"
   ]
  },
  {
   "cell_type": "code",
   "execution_count": 18,
   "metadata": {},
   "outputs": [
    {
     "data": {
      "text/html": [
       "<div>\n",
       "<style scoped>\n",
       "    .dataframe tbody tr th:only-of-type {\n",
       "        vertical-align: middle;\n",
       "    }\n",
       "\n",
       "    .dataframe tbody tr th {\n",
       "        vertical-align: top;\n",
       "    }\n",
       "\n",
       "    .dataframe thead th {\n",
       "        text-align: right;\n",
       "    }\n",
       "</style>\n",
       "<table border=\"1\" class=\"dataframe\">\n",
       "  <thead>\n",
       "    <tr style=\"text-align: right;\">\n",
       "      <th></th>\n",
       "      <th>ACCURACY</th>\n",
       "      <th>F1</th>\n",
       "    </tr>\n",
       "  </thead>\n",
       "  <tbody>\n",
       "    <tr>\n",
       "      <th>0</th>\n",
       "      <td>0.56</td>\n",
       "      <td>0.56</td>\n",
       "    </tr>\n",
       "  </tbody>\n",
       "</table>\n",
       "</div>"
      ],
      "text/plain": [
       "   ACCURACY    F1\n",
       "0      0.56  0.56"
      ]
     },
     "execution_count": 18,
     "metadata": {},
     "output_type": "execute_result"
    }
   ],
   "source": [
    "cv[1].get_metrics(metrics=ClassificationMetricsEnum, combine_folds=True) # print test set performance"
   ]
  },
  {
   "cell_type": "markdown",
   "metadata": {},
   "source": [
    "## Setup strategy and ask for candidates\n",
    "\n"
   ]
  },
  {
   "cell_type": "code",
   "execution_count": 19,
   "metadata": {},
   "outputs": [
    {
     "name": "stderr",
     "output_type": "stream",
     "text": [
      "c:\\ProgramData\\Anaconda3\\envs\\bofire-env\\lib\\site-packages\\botorch\\optim\\fit.py:102: OptimizationWarning:\n",
      "\n",
      "`scipy_minimize` terminated with status 3, displaying original message from `scipy.optimize.minimize`: ABNORMAL_TERMINATION_IN_LNSRCH\n",
      "\n"
     ]
    }
   ],
   "source": [
    "from bofire.data_models.acquisition_functions.api import qEI\n",
    "from bofire.data_models.strategies.api import SoboStrategy\n",
    "from bofire.data_models.surrogates.api import BotorchSurrogates, ClassificationMLPEnsemble, MixedSingleTaskGPSurrogate\n",
    "from bofire.data_models.domain.api import Outputs\n",
    "\n",
    "strategy_data = SoboStrategy(domain=domain1, \n",
    "                             acquisition_function=qEI(), \n",
    "                             surrogate_specs=BotorchSurrogates(surrogates=\n",
    "                                    [\n",
    "                                        ClassificationMLPEnsemble(inputs=domain1.inputs, outputs=Outputs(features=[domain1.outputs.get_by_key(\"f_1\")]), lr=0.03, n_epochs=100, hidden_layer_sizes=(4,2,), weight_decay=0.0, batch_size=10, activation=\"tanh\"),\n",
    "                                        MixedSingleTaskGPSurrogate(inputs=domain1.inputs, outputs=Outputs(features=[domain1.outputs.get_by_key(\"f_2\")]))\n",
    "                                    ]\n",
    "                                )\n",
    "                            )\n",
    "\n",
    "strategy = strategies.map(strategy_data)\n",
    "\n",
    "strategy.tell(sample_df)"
   ]
  },
  {
   "cell_type": "code",
   "execution_count": 20,
   "metadata": {},
   "outputs": [
    {
     "name": "stderr",
     "output_type": "stream",
     "text": [
      "c:\\ProgramData\\Anaconda3\\envs\\bofire-env\\lib\\site-packages\\botorch\\models\\model.py:230: RuntimeWarning:\n",
      "\n",
      "Could not update `train_inputs` with transformed inputs since _MLPEnsemble does not have a `train_inputs` attribute. Make sure that the `input_transform` is applied to both the train inputs and test inputs.\n",
      "\n",
      "c:\\ProgramData\\Anaconda3\\envs\\bofire-env\\lib\\site-packages\\botorch\\models\\model.py:230: RuntimeWarning:\n",
      "\n",
      "Could not update `train_inputs` with transformed inputs since _MLPEnsemble does not have a `train_inputs` attribute. Make sure that the `input_transform` is applied to both the train inputs and test inputs.\n",
      "\n",
      "c:\\ProgramData\\Anaconda3\\envs\\bofire-env\\lib\\site-packages\\botorch\\models\\model.py:230: RuntimeWarning:\n",
      "\n",
      "Could not update `train_inputs` with transformed inputs since _MLPEnsemble does not have a `train_inputs` attribute. Make sure that the `input_transform` is applied to both the train inputs and test inputs.\n",
      "\n"
     ]
    },
    {
     "data": {
      "text/html": [
       "<div>\n",
       "<style scoped>\n",
       "    .dataframe tbody tr th:only-of-type {\n",
       "        vertical-align: middle;\n",
       "    }\n",
       "\n",
       "    .dataframe tbody tr th {\n",
       "        vertical-align: top;\n",
       "    }\n",
       "\n",
       "    .dataframe thead th {\n",
       "        text-align: right;\n",
       "    }\n",
       "</style>\n",
       "<table border=\"1\" class=\"dataframe\">\n",
       "  <thead>\n",
       "    <tr style=\"text-align: right;\">\n",
       "      <th></th>\n",
       "      <th>x_0</th>\n",
       "      <th>x_1</th>\n",
       "      <th>x_3</th>\n",
       "      <th>f_1_pred</th>\n",
       "      <th>f_1_sd</th>\n",
       "      <th>f_1_unacceptable_prob</th>\n",
       "      <th>f_1_acceptable_prob</th>\n",
       "      <th>f_1_ideal_prob</th>\n",
       "      <th>f_0_pred</th>\n",
       "      <th>f_2_pred</th>\n",
       "      <th>f_1_unacceptable_sd</th>\n",
       "      <th>f_1_acceptable_sd</th>\n",
       "      <th>f_1_ideal_sd</th>\n",
       "      <th>f_0_sd</th>\n",
       "      <th>f_2_sd</th>\n",
       "      <th>f_0_des</th>\n",
       "      <th>f_2_des</th>\n",
       "      <th>f_1_des</th>\n",
       "    </tr>\n",
       "  </thead>\n",
       "  <tbody>\n",
       "    <tr>\n",
       "      <th>0</th>\n",
       "      <td>0.445121</td>\n",
       "      <td>0.203488</td>\n",
       "      <td>1</td>\n",
       "      <td>acceptable</td>\n",
       "      <td>0.0</td>\n",
       "      <td>-0.193104</td>\n",
       "      <td>1.006308</td>\n",
       "      <td>0.104767</td>\n",
       "      <td>0.144256</td>\n",
       "      <td>0.750977</td>\n",
       "      <td>4.968438</td>\n",
       "      <td>0.003073</td>\n",
       "      <td>0.203727</td>\n",
       "      <td>0.219485</td>\n",
       "      <td>0.421818</td>\n",
       "      <td>-0.144256</td>\n",
       "      <td>0.407216</td>\n",
       "      <td>1.111075</td>\n",
       "    </tr>\n",
       "    <tr>\n",
       "      <th>1</th>\n",
       "      <td>-1.309524</td>\n",
       "      <td>1.750000</td>\n",
       "      <td>0</td>\n",
       "      <td>unacceptable</td>\n",
       "      <td>0.0</td>\n",
       "      <td>0.730642</td>\n",
       "      <td>0.006611</td>\n",
       "      <td>0.368515</td>\n",
       "      <td>0.630446</td>\n",
       "      <td>0.001039</td>\n",
       "      <td>16.560211</td>\n",
       "      <td>0.003667</td>\n",
       "      <td>0.348812</td>\n",
       "      <td>0.347461</td>\n",
       "      <td>0.001424</td>\n",
       "      <td>-0.630446</td>\n",
       "      <td>0.499870</td>\n",
       "      <td>0.375126</td>\n",
       "    </tr>\n",
       "    <tr>\n",
       "      <th>2</th>\n",
       "      <td>-1.258058</td>\n",
       "      <td>1.750000</td>\n",
       "      <td>1</td>\n",
       "      <td>acceptable</td>\n",
       "      <td>0.0</td>\n",
       "      <td>-10.671111</td>\n",
       "      <td>1.006274</td>\n",
       "      <td>0.339735</td>\n",
       "      <td>0.471522</td>\n",
       "      <td>0.188743</td>\n",
       "      <td>19.401399</td>\n",
       "      <td>0.003533</td>\n",
       "      <td>0.410371</td>\n",
       "      <td>0.431353</td>\n",
       "      <td>0.417536</td>\n",
       "      <td>-0.471522</td>\n",
       "      <td>0.476425</td>\n",
       "      <td>1.346009</td>\n",
       "    </tr>\n",
       "    <tr>\n",
       "      <th>3</th>\n",
       "      <td>1.292107</td>\n",
       "      <td>1.750000</td>\n",
       "      <td>1</td>\n",
       "      <td>acceptable</td>\n",
       "      <td>0.0</td>\n",
       "      <td>-5.226207</td>\n",
       "      <td>1.005614</td>\n",
       "      <td>0.263137</td>\n",
       "      <td>0.002680</td>\n",
       "      <td>0.734182</td>\n",
       "      <td>6.172339</td>\n",
       "      <td>0.003671</td>\n",
       "      <td>0.427584</td>\n",
       "      <td>0.003406</td>\n",
       "      <td>0.425910</td>\n",
       "      <td>-0.002680</td>\n",
       "      <td>0.409244</td>\n",
       "      <td>1.268751</td>\n",
       "    </tr>\n",
       "    <tr>\n",
       "      <th>4</th>\n",
       "      <td>0.498312</td>\n",
       "      <td>0.254918</td>\n",
       "      <td>0</td>\n",
       "      <td>ideal</td>\n",
       "      <td>0.0</td>\n",
       "      <td>0.202863</td>\n",
       "      <td>0.005522</td>\n",
       "      <td>0.363525</td>\n",
       "      <td>0.237623</td>\n",
       "      <td>0.398852</td>\n",
       "      <td>5.107777</td>\n",
       "      <td>0.003061</td>\n",
       "      <td>0.343516</td>\n",
       "      <td>0.236302</td>\n",
       "      <td>0.546131</td>\n",
       "      <td>-0.237623</td>\n",
       "      <td>0.450308</td>\n",
       "      <td>0.369047</td>\n",
       "    </tr>\n",
       "    <tr>\n",
       "      <th>5</th>\n",
       "      <td>-1.430995</td>\n",
       "      <td>1.750000</td>\n",
       "      <td>0</td>\n",
       "      <td>unacceptable</td>\n",
       "      <td>0.0</td>\n",
       "      <td>15.038112</td>\n",
       "      <td>0.007034</td>\n",
       "      <td>0.367135</td>\n",
       "      <td>0.631857</td>\n",
       "      <td>0.001008</td>\n",
       "      <td>22.077586</td>\n",
       "      <td>0.003766</td>\n",
       "      <td>0.347731</td>\n",
       "      <td>0.346423</td>\n",
       "      <td>0.001392</td>\n",
       "      <td>-0.631857</td>\n",
       "      <td>0.499874</td>\n",
       "      <td>0.374169</td>\n",
       "    </tr>\n",
       "    <tr>\n",
       "      <th>6</th>\n",
       "      <td>-1.501348</td>\n",
       "      <td>1.627440</td>\n",
       "      <td>0</td>\n",
       "      <td>unacceptable</td>\n",
       "      <td>0.0</td>\n",
       "      <td>49.375552</td>\n",
       "      <td>0.007131</td>\n",
       "      <td>0.364155</td>\n",
       "      <td>0.634857</td>\n",
       "      <td>0.000988</td>\n",
       "      <td>21.504947</td>\n",
       "      <td>0.003674</td>\n",
       "      <td>0.345456</td>\n",
       "      <td>0.344176</td>\n",
       "      <td>0.001372</td>\n",
       "      <td>-0.634857</td>\n",
       "      <td>0.499877</td>\n",
       "      <td>0.371287</td>\n",
       "    </tr>\n",
       "    <tr>\n",
       "      <th>7</th>\n",
       "      <td>-1.468474</td>\n",
       "      <td>1.695817</td>\n",
       "      <td>0</td>\n",
       "      <td>unacceptable</td>\n",
       "      <td>0.0</td>\n",
       "      <td>29.651239</td>\n",
       "      <td>0.007100</td>\n",
       "      <td>0.365440</td>\n",
       "      <td>0.633564</td>\n",
       "      <td>0.000996</td>\n",
       "      <td>22.143859</td>\n",
       "      <td>0.003728</td>\n",
       "      <td>0.346425</td>\n",
       "      <td>0.345133</td>\n",
       "      <td>0.001380</td>\n",
       "      <td>-0.633564</td>\n",
       "      <td>0.499875</td>\n",
       "      <td>0.372539</td>\n",
       "    </tr>\n",
       "    <tr>\n",
       "      <th>8</th>\n",
       "      <td>-1.518190</td>\n",
       "      <td>1.517966</td>\n",
       "      <td>0</td>\n",
       "      <td>unacceptable</td>\n",
       "      <td>0.0</td>\n",
       "      <td>72.020318</td>\n",
       "      <td>0.007057</td>\n",
       "      <td>0.363156</td>\n",
       "      <td>0.635863</td>\n",
       "      <td>0.000981</td>\n",
       "      <td>18.759220</td>\n",
       "      <td>0.003571</td>\n",
       "      <td>0.344707</td>\n",
       "      <td>0.343437</td>\n",
       "      <td>0.001366</td>\n",
       "      <td>-0.635863</td>\n",
       "      <td>0.499877</td>\n",
       "      <td>0.370213</td>\n",
       "    </tr>\n",
       "    <tr>\n",
       "      <th>9</th>\n",
       "      <td>-1.459283</td>\n",
       "      <td>1.442226</td>\n",
       "      <td>0</td>\n",
       "      <td>unacceptable</td>\n",
       "      <td>0.0</td>\n",
       "      <td>54.177939</td>\n",
       "      <td>0.006770</td>\n",
       "      <td>0.362903</td>\n",
       "      <td>0.636116</td>\n",
       "      <td>0.000981</td>\n",
       "      <td>13.822711</td>\n",
       "      <td>0.003457</td>\n",
       "      <td>0.344511</td>\n",
       "      <td>0.343241</td>\n",
       "      <td>0.001366</td>\n",
       "      <td>-0.636116</td>\n",
       "      <td>0.499877</td>\n",
       "      <td>0.369673</td>\n",
       "    </tr>\n",
       "  </tbody>\n",
       "</table>\n",
       "</div>"
      ],
      "text/plain": [
       "        x_0       x_1 x_3      f_1_pred  f_1_sd  f_1_unacceptable_prob  \\\n",
       "0  0.445121  0.203488   1    acceptable     0.0              -0.193104   \n",
       "1 -1.309524  1.750000   0  unacceptable     0.0               0.730642   \n",
       "2 -1.258058  1.750000   1    acceptable     0.0             -10.671111   \n",
       "3  1.292107  1.750000   1    acceptable     0.0              -5.226207   \n",
       "4  0.498312  0.254918   0         ideal     0.0               0.202863   \n",
       "5 -1.430995  1.750000   0  unacceptable     0.0              15.038112   \n",
       "6 -1.501348  1.627440   0  unacceptable     0.0              49.375552   \n",
       "7 -1.468474  1.695817   0  unacceptable     0.0              29.651239   \n",
       "8 -1.518190  1.517966   0  unacceptable     0.0              72.020318   \n",
       "9 -1.459283  1.442226   0  unacceptable     0.0              54.177939   \n",
       "\n",
       "   f_1_acceptable_prob  f_1_ideal_prob  f_0_pred  f_2_pred  \\\n",
       "0             1.006308        0.104767  0.144256  0.750977   \n",
       "1             0.006611        0.368515  0.630446  0.001039   \n",
       "2             1.006274        0.339735  0.471522  0.188743   \n",
       "3             1.005614        0.263137  0.002680  0.734182   \n",
       "4             0.005522        0.363525  0.237623  0.398852   \n",
       "5             0.007034        0.367135  0.631857  0.001008   \n",
       "6             0.007131        0.364155  0.634857  0.000988   \n",
       "7             0.007100        0.365440  0.633564  0.000996   \n",
       "8             0.007057        0.363156  0.635863  0.000981   \n",
       "9             0.006770        0.362903  0.636116  0.000981   \n",
       "\n",
       "   f_1_unacceptable_sd  f_1_acceptable_sd  f_1_ideal_sd    f_0_sd    f_2_sd  \\\n",
       "0             4.968438           0.003073      0.203727  0.219485  0.421818   \n",
       "1            16.560211           0.003667      0.348812  0.347461  0.001424   \n",
       "2            19.401399           0.003533      0.410371  0.431353  0.417536   \n",
       "3             6.172339           0.003671      0.427584  0.003406  0.425910   \n",
       "4             5.107777           0.003061      0.343516  0.236302  0.546131   \n",
       "5            22.077586           0.003766      0.347731  0.346423  0.001392   \n",
       "6            21.504947           0.003674      0.345456  0.344176  0.001372   \n",
       "7            22.143859           0.003728      0.346425  0.345133  0.001380   \n",
       "8            18.759220           0.003571      0.344707  0.343437  0.001366   \n",
       "9            13.822711           0.003457      0.344511  0.343241  0.001366   \n",
       "\n",
       "    f_0_des   f_2_des   f_1_des  \n",
       "0 -0.144256  0.407216  1.111075  \n",
       "1 -0.630446  0.499870  0.375126  \n",
       "2 -0.471522  0.476425  1.346009  \n",
       "3 -0.002680  0.409244  1.268751  \n",
       "4 -0.237623  0.450308  0.369047  \n",
       "5 -0.631857  0.499874  0.374169  \n",
       "6 -0.634857  0.499877  0.371287  \n",
       "7 -0.633564  0.499875  0.372539  \n",
       "8 -0.635863  0.499877  0.370213  \n",
       "9 -0.636116  0.499877  0.369673  "
      ]
     },
     "execution_count": 20,
     "metadata": {},
     "output_type": "execute_result"
    }
   ],
   "source": [
    "candidates = strategy.ask(10)\n",
    "candidates"
   ]
  },
  {
   "cell_type": "markdown",
   "metadata": {},
   "source": [
    "## Check classification of proposed candidates\n",
    "\n",
    "Use the logic from above to verify the classification values"
   ]
  },
  {
   "cell_type": "code",
   "execution_count": 21,
   "metadata": {},
   "outputs": [],
   "source": [
    "# Append to the candidates\n",
    "candidates[\"f_1_true\"] = constraints(x=candidates)"
   ]
  },
  {
   "cell_type": "code",
   "execution_count": 22,
   "metadata": {},
   "outputs": [
    {
     "data": {
      "text/html": [
       "<div>\n",
       "<style scoped>\n",
       "    .dataframe tbody tr th:only-of-type {\n",
       "        vertical-align: middle;\n",
       "    }\n",
       "\n",
       "    .dataframe tbody tr th {\n",
       "        vertical-align: top;\n",
       "    }\n",
       "\n",
       "    .dataframe thead th {\n",
       "        text-align: right;\n",
       "    }\n",
       "</style>\n",
       "<table border=\"1\" class=\"dataframe\">\n",
       "  <thead>\n",
       "    <tr style=\"text-align: right;\">\n",
       "      <th></th>\n",
       "      <th>x_0</th>\n",
       "      <th>x_1</th>\n",
       "      <th>f_1_pred</th>\n",
       "      <th>f_1_true</th>\n",
       "    </tr>\n",
       "  </thead>\n",
       "  <tbody>\n",
       "    <tr>\n",
       "      <th>0</th>\n",
       "      <td>0.445121</td>\n",
       "      <td>0.203488</td>\n",
       "      <td>acceptable</td>\n",
       "      <td>ideal</td>\n",
       "    </tr>\n",
       "    <tr>\n",
       "      <th>1</th>\n",
       "      <td>-1.309524</td>\n",
       "      <td>1.750000</td>\n",
       "      <td>unacceptable</td>\n",
       "      <td>unacceptable</td>\n",
       "    </tr>\n",
       "    <tr>\n",
       "      <th>2</th>\n",
       "      <td>-1.258058</td>\n",
       "      <td>1.750000</td>\n",
       "      <td>acceptable</td>\n",
       "      <td>unacceptable</td>\n",
       "    </tr>\n",
       "    <tr>\n",
       "      <th>3</th>\n",
       "      <td>1.292107</td>\n",
       "      <td>1.750000</td>\n",
       "      <td>acceptable</td>\n",
       "      <td>unacceptable</td>\n",
       "    </tr>\n",
       "    <tr>\n",
       "      <th>4</th>\n",
       "      <td>0.498312</td>\n",
       "      <td>0.254918</td>\n",
       "      <td>ideal</td>\n",
       "      <td>ideal</td>\n",
       "    </tr>\n",
       "    <tr>\n",
       "      <th>5</th>\n",
       "      <td>-1.430995</td>\n",
       "      <td>1.750000</td>\n",
       "      <td>unacceptable</td>\n",
       "      <td>unacceptable</td>\n",
       "    </tr>\n",
       "    <tr>\n",
       "      <th>6</th>\n",
       "      <td>-1.501348</td>\n",
       "      <td>1.627440</td>\n",
       "      <td>unacceptable</td>\n",
       "      <td>unacceptable</td>\n",
       "    </tr>\n",
       "    <tr>\n",
       "      <th>7</th>\n",
       "      <td>-1.468474</td>\n",
       "      <td>1.695817</td>\n",
       "      <td>unacceptable</td>\n",
       "      <td>unacceptable</td>\n",
       "    </tr>\n",
       "    <tr>\n",
       "      <th>8</th>\n",
       "      <td>-1.518190</td>\n",
       "      <td>1.517966</td>\n",
       "      <td>unacceptable</td>\n",
       "      <td>unacceptable</td>\n",
       "    </tr>\n",
       "    <tr>\n",
       "      <th>9</th>\n",
       "      <td>-1.459283</td>\n",
       "      <td>1.442226</td>\n",
       "      <td>unacceptable</td>\n",
       "      <td>unacceptable</td>\n",
       "    </tr>\n",
       "  </tbody>\n",
       "</table>\n",
       "</div>"
      ],
      "text/plain": [
       "        x_0       x_1      f_1_pred      f_1_true\n",
       "0  0.445121  0.203488    acceptable         ideal\n",
       "1 -1.309524  1.750000  unacceptable  unacceptable\n",
       "2 -1.258058  1.750000    acceptable  unacceptable\n",
       "3  1.292107  1.750000    acceptable  unacceptable\n",
       "4  0.498312  0.254918         ideal         ideal\n",
       "5 -1.430995  1.750000  unacceptable  unacceptable\n",
       "6 -1.501348  1.627440  unacceptable  unacceptable\n",
       "7 -1.468474  1.695817  unacceptable  unacceptable\n",
       "8 -1.518190  1.517966  unacceptable  unacceptable\n",
       "9 -1.459283  1.442226  unacceptable  unacceptable"
      ]
     },
     "execution_count": 22,
     "metadata": {},
     "output_type": "execute_result"
    }
   ],
   "source": [
    "# Print results\n",
    "candidates[[\"x_0\", \"x_1\", \"f_1_pred\", \"f_1_true\"]]"
   ]
  }
 ],
 "metadata": {
  "kernelspec": {
   "display_name": "bofire",
   "language": "python",
   "name": "python3"
  },
  "language_info": {
   "codemirror_mode": {
    "name": "ipython",
    "version": 3
   },
   "file_extension": ".py",
   "mimetype": "text/x-python",
   "name": "python",
   "nbconvert_exporter": "python",
   "pygments_lexer": "ipython3",
   "version": "3.9.0"
  },
  "orig_nbformat": 4,
  "vscode": {
   "interpreter": {
    "hash": "6f21737eef49beedf03d74399b47fe38d73eff760737ca33d38b9fe616638e91"
   }
  }
 },
 "nbformat": 4,
 "nbformat_minor": 2
}
