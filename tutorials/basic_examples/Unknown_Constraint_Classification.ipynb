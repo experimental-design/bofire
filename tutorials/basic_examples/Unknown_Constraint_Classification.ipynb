{
 "cells": [
  {
   "cell_type": "markdown",
   "id": "0",
   "metadata": {
    "papermill": {
     "duration": 0.005873,
     "end_time": "2024-10-10T20:34:32.182482",
     "exception": false,
     "start_time": "2024-10-10T20:34:32.176609",
     "status": "completed"
    },
    "tags": []
   },
   "source": [
    "# Classification Surrogate Tests\n",
    "\n",
    "We are interested in testing whether or not a surrogate model can correctly identify unknown constraints based on categorical criteria with classification surrogates. Essentially, we want to account for scenarios where specialists can look at a set of experiments and label outcomes as 'acceptable', 'unacceptable', 'ideal', etc. \n",
    "\n",
    "This involves new models that produce `CategoricalOutput`'s rather than continuous outputs. Mathematically, if $g_{\\theta}:\\mathbb{R}^d\\to[0,1]^c$ represents the function governed by learnable parameters $\\theta$ which outputs a probability vector over $c$ potential classes (i.e. for input $x\\in\\mathbb{R}^d$, $g_{\\theta}(x)^\\top\\mathbf{1}=1$ where $\\mathbf{1}$ is the vector of all 1's) and we have acceptibility criteria for the corresponding classes given by $a\\in\\{0,1\\}^c$, we can compute the scalar output $g_{\\theta}(x)^\\top a\\in[0,1]$ which represents the expected value of acceptance as an objective value to be passed in as a constrained function.\n",
    "\n",
    "In this script, we look at the [Rosenbrock function constrained to a disk](https://en.wikipedia.org/wiki/Test_functions_for_optimization#cite_note-12) which attains a global minima at $(x_0^*,x_1^*)=(1.0, 1.0)$. To facilitate testing the functionality offered by BoFire, we label all points inside of the circle $x_0^2+x_1^2\\le2$ as 'acceptable' and further label anything inside of the intersection of this circle and the circle $(x_0-1)^2+(x_1-1)^2\\le1.0$ as 'ideal'; points lying outside of these two locations are labeled as \"unacceptable.\""
   ]
  },
  {
   "cell_type": "code",
   "execution_count": null,
   "id": "1",
   "metadata": {
    "papermill": {
     "duration": 2.996427,
     "end_time": "2024-10-10T20:34:35.182910",
     "exception": false,
     "start_time": "2024-10-10T20:34:32.186483",
     "status": "completed"
    },
    "tags": []
   },
   "outputs": [],
   "source": [
    "# Import packages\n",
    "import numpy as np\n",
    "import pandas as pd\n",
    "\n",
    "import bofire.strategies.api as strategies\n",
    "from bofire.data_models.api import Domain, Inputs, Outputs\n",
    "from bofire.data_models.features.api import (\n",
    "    CategoricalInput,\n",
    "    CategoricalOutput,\n",
    "    ContinuousInput,\n",
    "    ContinuousOutput,\n",
    ")\n",
    "from bofire.data_models.objectives.api import (\n",
    "    ConstrainedCategoricalObjective,\n",
    "    MinimizeObjective,\n",
    "    MinimizeSigmoidObjective,\n",
    ")"
   ]
  },
  {
   "attachments": {},
   "cell_type": "markdown",
   "id": "2",
   "metadata": {
    "papermill": {
     "duration": 0.001646,
     "end_time": "2024-10-10T20:34:35.186389",
     "exception": false,
     "start_time": "2024-10-10T20:34:35.184743",
     "status": "completed"
    },
    "tags": []
   },
   "source": [
    "## Manual setup of the optimization domain\n",
    "\n",
    "The following cells show how to manually setup the optimization problem in BoFire for didactic purposes."
   ]
  },
  {
   "cell_type": "code",
   "execution_count": null,
   "id": "3",
   "metadata": {
    "papermill": {
     "duration": 0.005827,
     "end_time": "2024-10-10T20:34:35.193653",
     "exception": false,
     "start_time": "2024-10-10T20:34:35.187826",
     "status": "completed"
    },
    "tags": []
   },
   "outputs": [],
   "source": [
    "# Write helper functions which give the objective and the constraints\n",
    "def rosenbrock(x: pd.Series) -> pd.Series:\n",
    "    assert \"x_0\" in x.columns\n",
    "    assert \"x_1\" in x.columns\n",
    "    return (1 - x[\"x_0\"]) ** 2 + 100 * (x[\"x_1\"] - x[\"x_0\"] ** 2) ** 2\n",
    "\n",
    "\n",
    "def constraints(x: pd.Series) -> pd.Series:\n",
    "    assert \"x_0\" in x.columns\n",
    "    assert \"x_1\" in x.columns\n",
    "    feasiblity_vector = []\n",
    "    for _, row in x.iterrows():\n",
    "        if (row[\"x_0\"] ** 2 + row[\"x_1\"] ** 2 <= 2.0) and (\n",
    "            (row[\"x_0\"] - 1.0) ** 2 + (row[\"x_1\"] - 1.0) ** 2 <= 1.0\n",
    "        ):\n",
    "            feasiblity_vector.append(\"ideal\")\n",
    "        elif row[\"x_0\"] ** 2 + row[\"x_1\"] ** 2 <= 2.0:\n",
    "            feasiblity_vector.append(\"acceptable\")\n",
    "        else:\n",
    "            feasiblity_vector.append(\"unacceptable\")\n",
    "    return feasiblity_vector"
   ]
  },
  {
   "cell_type": "code",
   "execution_count": null,
   "id": "4",
   "metadata": {
    "papermill": {
     "duration": 0.01961,
     "end_time": "2024-10-10T20:34:35.214891",
     "exception": false,
     "start_time": "2024-10-10T20:34:35.195281",
     "status": "completed"
    },
    "tags": []
   },
   "outputs": [
    {
     "data": {
      "text/html": [
       "<div>\n",
       "<style scoped>\n",
       "    .dataframe tbody tr th:only-of-type {\n",
       "        vertical-align: middle;\n",
       "    }\n",
       "\n",
       "    .dataframe tbody tr th {\n",
       "        vertical-align: top;\n",
       "    }\n",
       "\n",
       "    .dataframe thead th {\n",
       "        text-align: right;\n",
       "    }\n",
       "</style>\n",
       "<table border=\"1\" class=\"dataframe\">\n",
       "  <thead>\n",
       "    <tr style=\"text-align: right;\">\n",
       "      <th></th>\n",
       "      <th>x_0</th>\n",
       "      <th>x_1</th>\n",
       "      <th>x_3</th>\n",
       "      <th>f_0</th>\n",
       "      <th>f_1</th>\n",
       "      <th>f_2</th>\n",
       "    </tr>\n",
       "  </thead>\n",
       "  <tbody>\n",
       "    <tr>\n",
       "      <th>0</th>\n",
       "      <td>0.895917</td>\n",
       "      <td>0.153962</td>\n",
       "      <td>0</td>\n",
       "      <td>42.092749</td>\n",
       "      <td>ideal</td>\n",
       "      <td>0.006245</td>\n",
       "    </tr>\n",
       "    <tr>\n",
       "      <th>1</th>\n",
       "      <td>-0.247675</td>\n",
       "      <td>-0.996756</td>\n",
       "      <td>1</td>\n",
       "      <td>113.514085</td>\n",
       "      <td>acceptable</td>\n",
       "      <td>1.009216</td>\n",
       "    </tr>\n",
       "    <tr>\n",
       "      <th>2</th>\n",
       "      <td>1.170557</td>\n",
       "      <td>1.694727</td>\n",
       "      <td>0</td>\n",
       "      <td>10.560566</td>\n",
       "      <td>unacceptable</td>\n",
       "      <td>0.006636</td>\n",
       "    </tr>\n",
       "    <tr>\n",
       "      <th>3</th>\n",
       "      <td>1.348852</td>\n",
       "      <td>-0.967109</td>\n",
       "      <td>0</td>\n",
       "      <td>776.586073</td>\n",
       "      <td>unacceptable</td>\n",
       "      <td>0.001465</td>\n",
       "    </tr>\n",
       "    <tr>\n",
       "      <th>4</th>\n",
       "      <td>-0.767254</td>\n",
       "      <td>-1.614315</td>\n",
       "      <td>1</td>\n",
       "      <td>488.441092</td>\n",
       "      <td>unacceptable</td>\n",
       "      <td>1.006189</td>\n",
       "    </tr>\n",
       "  </tbody>\n",
       "</table>\n",
       "</div>"
      ],
      "text/plain": [
       "        x_0       x_1 x_3         f_0           f_1       f_2\n",
       "0  0.895917  0.153962   0   42.092749         ideal  0.006245\n",
       "1 -0.247675 -0.996756   1  113.514085    acceptable  1.009216\n",
       "2  1.170557  1.694727   0   10.560566  unacceptable  0.006636\n",
       "3  1.348852 -0.967109   0  776.586073  unacceptable  0.001465\n",
       "4 -0.767254 -1.614315   1  488.441092  unacceptable  1.006189"
      ]
     },
     "execution_count": null,
     "metadata": {},
     "output_type": "execute_result"
    }
   ],
   "source": [
    "# Set-up the inputs and outputs, use categorical domain just as an example\n",
    "input_features = Inputs(\n",
    "    features=[ContinuousInput(key=f\"x_{i}\", bounds=(-1.75, 1.75)) for i in range(2)]\n",
    "    + [CategoricalInput(key=\"x_3\", categories=[\"0\", \"1\"], allowed=[True, True])],\n",
    ")\n",
    "\n",
    "# here the minimize objective is used, if you want to maximize you have to use the maximize objective.\n",
    "output_features = Outputs(\n",
    "    features=[\n",
    "        ContinuousOutput(key=f\"f_{0}\", objective=MinimizeObjective(w=1.0)),\n",
    "        CategoricalOutput(\n",
    "            key=f\"f_{1}\",\n",
    "            categories=[\"unacceptable\", \"acceptable\", \"ideal\"],\n",
    "            objective=ConstrainedCategoricalObjective(\n",
    "                categories=[\"unacceptable\", \"acceptable\", \"ideal\"],\n",
    "                desirability=[False, True, True],\n",
    "            ),\n",
    "        ),  # This function will be associated with learning the categories\n",
    "        ContinuousOutput(\n",
    "            key=f\"f_{2}\",\n",
    "            objective=MinimizeSigmoidObjective(w=1.0, tp=0.0, steepness=0.5),\n",
    "        ),\n",
    "    ],\n",
    ")\n",
    "\n",
    "# Create domain\n",
    "domain1 = Domain(inputs=input_features, outputs=output_features)\n",
    "\n",
    "# Sample random points\n",
    "sample_df = domain1.inputs.sample(100)\n",
    "\n",
    "# Write a function which outputs one continuous variable and another discrete based on some logic\n",
    "sample_df[\"f_0\"] = rosenbrock(x=sample_df)\n",
    "sample_df[\"f_1\"] = constraints(x=sample_df)\n",
    "sample_df[\"f_2\"] = sample_df[\"x_3\"].astype(float) + 1e-2 * np.random.uniform(\n",
    "    size=(len(sample_df),),\n",
    ")\n",
    "sample_df.head(5)"
   ]
  },
  {
   "cell_type": "code",
   "execution_count": null,
   "id": "5",
   "metadata": {
    "papermill": {
     "duration": 0.600439,
     "end_time": "2024-10-10T20:34:35.816921",
     "exception": false,
     "start_time": "2024-10-10T20:34:35.216482",
     "status": "completed"
    },
    "tags": []
   },
   "outputs": [
    {
     "data": {
      "application/vnd.plotly.v1+json": {
       "config": {
        "plotlyServerURL": "https://plot.ly"
       },
       "data": [
        {
         "hovertemplate": "f_1=ideal<br>x_0=%{x}<br>x_1=%{y}<extra></extra>",
         "legendgroup": "ideal",
         "marker": {
          "color": "#636efa",
          "symbol": "circle"
         },
         "mode": "markers",
         "name": "ideal",
         "orientation": "v",
         "showlegend": true,
         "type": "scatter",
         "x": [
          0.8959171477026402,
          0.6190938655445803,
          0.5021407851128723,
          0.36069262485960785,
          0.2807879361393093,
          0.4245566147983304,
          0.3597216900977456,
          1.0528106415638256
         ],
         "xaxis": "x",
         "y": [
          0.15396178232646895,
          0.8683596571036905,
          1.2439295007633637,
          1.3167039036259212,
          1.3148499272901235,
          0.8707941705082658,
          0.6568591089386415,
          0.260338328849544
         ],
         "yaxis": "y"
        },
        {
         "hovertemplate": "f_1=acceptable<br>x_0=%{x}<br>x_1=%{y}<extra></extra>",
         "legendgroup": "acceptable",
         "marker": {
          "color": "#EF553B",
          "symbol": "circle"
         },
         "mode": "markers",
         "name": "acceptable",
         "orientation": "v",
         "showlegend": true,
         "type": "scatter",
         "x": [
          -0.24767499172701157,
          0.29886561122028255,
          -0.805870442923172,
          0.2147354776698247,
          0.7765279478482077,
          -0.2791548969907425,
          -0.6163482286631172,
          -0.39173460720995723,
          0.36289067315030277,
          -0.3078712980785825,
          0.11699431633020252,
          -0.3617875733965634,
          1.2959374727046948,
          -0.25341442107028245,
          -1.27310417718093,
          0.04770477047269894,
          -0.042863964790091025,
          -0.7275949383626996,
          0.210216623215004,
          -0.1489893763031933,
          -0.9573166797452899,
          -0.7189521726942707,
          0.15127764938001853,
          0.05624440261483077,
          -0.2140341003108217,
          -1.1114013337703441,
          1.149640048630927,
          1.2850816904398439,
          -0.8539949288741502,
          -0.2703075212684585,
          -1.0596448181303977,
          -0.9474602849652829,
          -0.6233384236506407,
          0.09556747823211165,
          -1.1642382546542527,
          0.9634992132154894,
          -0.6379693077809665,
          -0.1759727533960609,
          1.0054381198917661
         ],
         "xaxis": "x",
         "y": [
          -0.9967563024736019,
          -0.34240551387382867,
          -0.4316532350265141,
          -0.06948821345412481,
          -0.17028886363675366,
          -1.0262146169991286,
          1.2576230368712573,
          -0.3768666130315268,
          -1.1013039344159776,
          -0.7546105011005895,
          -1.2151534341803176,
          0.767755089241017,
          -0.33535221256584236,
          0.5401719529635582,
          0.5699708867897728,
          0.41360582993646533,
          0.7051617142879683,
          0.746207629319763,
          -0.025018285801138074,
          -0.9037778882394077,
          -0.1064392118730888,
          -1.1921009855927756,
          -1.128389051112166,
          -0.5418530554809018,
          0.4563418696832664,
          -0.14407256168889382,
          -0.33598700878620713,
          -0.443768709058898,
          -1.0396185208736597,
          -0.21847836910546148,
          -0.9004469181805723,
          0.04094848101317927,
          -0.9740333407392373,
          -0.8254744140028851,
          -0.6702646522306697,
          -0.858396581645795,
          1.23802608592357,
          -0.9374454388313403,
          -0.2578678801214389
         ],
         "yaxis": "y"
        },
        {
         "hovertemplate": "f_1=unacceptable<br>x_0=%{x}<br>x_1=%{y}<extra></extra>",
         "legendgroup": "unacceptable",
         "marker": {
          "color": "#00cc96",
          "symbol": "circle"
         },
         "mode": "markers",
         "name": "unacceptable",
         "orientation": "v",
         "showlegend": true,
         "type": "scatter",
         "x": [
          1.1705574105481995,
          1.3488522690884448,
          -0.7672537245860833,
          1.5165984936326926,
          1.560384900817517,
          0.7766753325399263,
          0.7006034284866316,
          -0.1781586145459808,
          1.4511732853533936,
          1.4117739662213644,
          1.6157782332055417,
          1.227568790706263,
          -1.624791542606619,
          -1.27551040273831,
          -1.6550058476386416,
          1.6285247818740674,
          -0.38058232566119066,
          0.9909862647578884,
          -1.6281986813988665,
          -1.615753317395562,
          -1.0167198592806097,
          1.522880659136285,
          -1.268555983925847,
          1.6326593734319985,
          0.8376025588600391,
          1.3343966470136657,
          -1.232415657454364,
          1.669410142517687,
          -1.6211568261061475,
          1.5989186722205497,
          0.2808698618698884,
          -1.6913224259964654,
          1.3885464949555146,
          -1.7106896412444623,
          -1.4874869268898725,
          -1.684956211779637,
          1.293637623074392,
          -1.6312180469419537,
          1.1255175749332627,
          0.9002425755062178,
          1.3909444825121433,
          1.2660455579280674,
          -0.22178358947782173,
          -1.5185769180000235,
          -1.61456785169737,
          -1.4362954753384927,
          -1.4478551206542676,
          -0.5207033064075848,
          -0.8630295724501835,
          -1.0648781260300293,
          0.9686634153195994,
          -1.6125200655873375,
          -1.065959722888572
         ],
         "xaxis": "x",
         "y": [
          1.6947270045071958,
          -0.9671085910384288,
          -1.6143149272983761,
          1.3062839310601317,
          -0.331740967013626,
          1.6951941458056634,
          1.5866714030121827,
          1.6342641519982362,
          0.9035451391911464,
          1.297527276893394,
          -1.0782524273969718,
          1.6319809488163992,
          -1.4576272018713585,
          -0.806879607008149,
          -0.3879259325864477,
          -0.027711184446850057,
          1.6206448055567768,
          -1.137158381665556,
          -0.7335267639752994,
          0.12984821515963096,
          -1.4659662169725551,
          -0.658295290562908,
          1.274310540273437,
          -1.200429890555649,
          1.592629415003704,
          0.6950211560791781,
          -0.7814489426660902,
          -1.253087588053116,
          -1.0410016001681877,
          -1.2301020626939287,
          1.5882770655749439,
          -1.6509414180028419,
          0.723124429009844,
          -0.19553960475172216,
          1.309432286726493,
          -0.8464802175614834,
          0.6713025001805444,
          -0.6499739859978726,
          1.6462268539032068,
          1.126892451383473,
          0.9184806890131063,
          -0.8534708991778219,
          -1.6355772844857934,
          0.9186898493589677,
          -1.655808992154965,
          0.7440771459067488,
          -1.5851370930326998,
          -1.6820881503902338,
          -1.3840705537408642,
          -1.1010913532129945,
          -1.6482385320317556,
          -0.6166922332848275,
          1.4448220280506234
         ],
         "yaxis": "y"
        }
       ],
       "layout": {
        "height": 525,
        "legend": {
         "title": {
          "text": "f_1"
         },
         "tracegroupgap": 0
        },
        "shapes": [
         {
          "fillcolor": "red",
          "line": {
           "color": "red"
          },
          "opacity": 0.1,
          "type": "circle",
          "x0": -1.4142135623730951,
          "x1": 1.4142135623730951,
          "xref": "x",
          "y0": -1.4142135623730951,
          "y1": 1.4142135623730951,
          "yref": "y"
         },
         {
          "fillcolor": "LightSeaGreen",
          "line": {
           "color": "LightSeaGreen"
          },
          "opacity": 0.2,
          "type": "circle",
          "x0": 0,
          "x1": 2,
          "xref": "x",
          "y0": 0,
          "y1": 2,
          "yref": "y"
         }
        ],
        "template": {
         "data": {
          "bar": [
           {
            "error_x": {
             "color": "#2a3f5f"
            },
            "error_y": {
             "color": "#2a3f5f"
            },
            "marker": {
             "line": {
              "color": "#E5ECF6",
              "width": 0.5
             },
             "pattern": {
              "fillmode": "overlay",
              "size": 10,
              "solidity": 0.2
             }
            },
            "type": "bar"
           }
          ],
          "barpolar": [
           {
            "marker": {
             "line": {
              "color": "#E5ECF6",
              "width": 0.5
             },
             "pattern": {
              "fillmode": "overlay",
              "size": 10,
              "solidity": 0.2
             }
            },
            "type": "barpolar"
           }
          ],
          "carpet": [
           {
            "aaxis": {
             "endlinecolor": "#2a3f5f",
             "gridcolor": "white",
             "linecolor": "white",
             "minorgridcolor": "white",
             "startlinecolor": "#2a3f5f"
            },
            "baxis": {
             "endlinecolor": "#2a3f5f",
             "gridcolor": "white",
             "linecolor": "white",
             "minorgridcolor": "white",
             "startlinecolor": "#2a3f5f"
            },
            "type": "carpet"
           }
          ],
          "choropleth": [
           {
            "colorbar": {
             "outlinewidth": 0,
             "ticks": ""
            },
            "type": "choropleth"
           }
          ],
          "contour": [
           {
            "colorbar": {
             "outlinewidth": 0,
             "ticks": ""
            },
            "colorscale": [
             [
              0,
              "#0d0887"
             ],
             [
              0.1111111111111111,
              "#46039f"
             ],
             [
              0.2222222222222222,
              "#7201a8"
             ],
             [
              0.3333333333333333,
              "#9c179e"
             ],
             [
              0.4444444444444444,
              "#bd3786"
             ],
             [
              0.5555555555555556,
              "#d8576b"
             ],
             [
              0.6666666666666666,
              "#ed7953"
             ],
             [
              0.7777777777777778,
              "#fb9f3a"
             ],
             [
              0.8888888888888888,
              "#fdca26"
             ],
             [
              1,
              "#f0f921"
             ]
            ],
            "type": "contour"
           }
          ],
          "contourcarpet": [
           {
            "colorbar": {
             "outlinewidth": 0,
             "ticks": ""
            },
            "type": "contourcarpet"
           }
          ],
          "heatmap": [
           {
            "colorbar": {
             "outlinewidth": 0,
             "ticks": ""
            },
            "colorscale": [
             [
              0,
              "#0d0887"
             ],
             [
              0.1111111111111111,
              "#46039f"
             ],
             [
              0.2222222222222222,
              "#7201a8"
             ],
             [
              0.3333333333333333,
              "#9c179e"
             ],
             [
              0.4444444444444444,
              "#bd3786"
             ],
             [
              0.5555555555555556,
              "#d8576b"
             ],
             [
              0.6666666666666666,
              "#ed7953"
             ],
             [
              0.7777777777777778,
              "#fb9f3a"
             ],
             [
              0.8888888888888888,
              "#fdca26"
             ],
             [
              1,
              "#f0f921"
             ]
            ],
            "type": "heatmap"
           }
          ],
          "heatmapgl": [
           {
            "colorbar": {
             "outlinewidth": 0,
             "ticks": ""
            },
            "colorscale": [
             [
              0,
              "#0d0887"
             ],
             [
              0.1111111111111111,
              "#46039f"
             ],
             [
              0.2222222222222222,
              "#7201a8"
             ],
             [
              0.3333333333333333,
              "#9c179e"
             ],
             [
              0.4444444444444444,
              "#bd3786"
             ],
             [
              0.5555555555555556,
              "#d8576b"
             ],
             [
              0.6666666666666666,
              "#ed7953"
             ],
             [
              0.7777777777777778,
              "#fb9f3a"
             ],
             [
              0.8888888888888888,
              "#fdca26"
             ],
             [
              1,
              "#f0f921"
             ]
            ],
            "type": "heatmapgl"
           }
          ],
          "histogram": [
           {
            "marker": {
             "pattern": {
              "fillmode": "overlay",
              "size": 10,
              "solidity": 0.2
             }
            },
            "type": "histogram"
           }
          ],
          "histogram2d": [
           {
            "colorbar": {
             "outlinewidth": 0,
             "ticks": ""
            },
            "colorscale": [
             [
              0,
              "#0d0887"
             ],
             [
              0.1111111111111111,
              "#46039f"
             ],
             [
              0.2222222222222222,
              "#7201a8"
             ],
             [
              0.3333333333333333,
              "#9c179e"
             ],
             [
              0.4444444444444444,
              "#bd3786"
             ],
             [
              0.5555555555555556,
              "#d8576b"
             ],
             [
              0.6666666666666666,
              "#ed7953"
             ],
             [
              0.7777777777777778,
              "#fb9f3a"
             ],
             [
              0.8888888888888888,
              "#fdca26"
             ],
             [
              1,
              "#f0f921"
             ]
            ],
            "type": "histogram2d"
           }
          ],
          "histogram2dcontour": [
           {
            "colorbar": {
             "outlinewidth": 0,
             "ticks": ""
            },
            "colorscale": [
             [
              0,
              "#0d0887"
             ],
             [
              0.1111111111111111,
              "#46039f"
             ],
             [
              0.2222222222222222,
              "#7201a8"
             ],
             [
              0.3333333333333333,
              "#9c179e"
             ],
             [
              0.4444444444444444,
              "#bd3786"
             ],
             [
              0.5555555555555556,
              "#d8576b"
             ],
             [
              0.6666666666666666,
              "#ed7953"
             ],
             [
              0.7777777777777778,
              "#fb9f3a"
             ],
             [
              0.8888888888888888,
              "#fdca26"
             ],
             [
              1,
              "#f0f921"
             ]
            ],
            "type": "histogram2dcontour"
           }
          ],
          "mesh3d": [
           {
            "colorbar": {
             "outlinewidth": 0,
             "ticks": ""
            },
            "type": "mesh3d"
           }
          ],
          "parcoords": [
           {
            "line": {
             "colorbar": {
              "outlinewidth": 0,
              "ticks": ""
             }
            },
            "type": "parcoords"
           }
          ],
          "pie": [
           {
            "automargin": true,
            "type": "pie"
           }
          ],
          "scatter": [
           {
            "fillpattern": {
             "fillmode": "overlay",
             "size": 10,
             "solidity": 0.2
            },
            "type": "scatter"
           }
          ],
          "scatter3d": [
           {
            "line": {
             "colorbar": {
              "outlinewidth": 0,
              "ticks": ""
             }
            },
            "marker": {
             "colorbar": {
              "outlinewidth": 0,
              "ticks": ""
             }
            },
            "type": "scatter3d"
           }
          ],
          "scattercarpet": [
           {
            "marker": {
             "colorbar": {
              "outlinewidth": 0,
              "ticks": ""
             }
            },
            "type": "scattercarpet"
           }
          ],
          "scattergeo": [
           {
            "marker": {
             "colorbar": {
              "outlinewidth": 0,
              "ticks": ""
             }
            },
            "type": "scattergeo"
           }
          ],
          "scattergl": [
           {
            "marker": {
             "colorbar": {
              "outlinewidth": 0,
              "ticks": ""
             }
            },
            "type": "scattergl"
           }
          ],
          "scattermapbox": [
           {
            "marker": {
             "colorbar": {
              "outlinewidth": 0,
              "ticks": ""
             }
            },
            "type": "scattermapbox"
           }
          ],
          "scatterpolar": [
           {
            "marker": {
             "colorbar": {
              "outlinewidth": 0,
              "ticks": ""
             }
            },
            "type": "scatterpolar"
           }
          ],
          "scatterpolargl": [
           {
            "marker": {
             "colorbar": {
              "outlinewidth": 0,
              "ticks": ""
             }
            },
            "type": "scatterpolargl"
           }
          ],
          "scatterternary": [
           {
            "marker": {
             "colorbar": {
              "outlinewidth": 0,
              "ticks": ""
             }
            },
            "type": "scatterternary"
           }
          ],
          "surface": [
           {
            "colorbar": {
             "outlinewidth": 0,
             "ticks": ""
            },
            "colorscale": [
             [
              0,
              "#0d0887"
             ],
             [
              0.1111111111111111,
              "#46039f"
             ],
             [
              0.2222222222222222,
              "#7201a8"
             ],
             [
              0.3333333333333333,
              "#9c179e"
             ],
             [
              0.4444444444444444,
              "#bd3786"
             ],
             [
              0.5555555555555556,
              "#d8576b"
             ],
             [
              0.6666666666666666,
              "#ed7953"
             ],
             [
              0.7777777777777778,
              "#fb9f3a"
             ],
             [
              0.8888888888888888,
              "#fdca26"
             ],
             [
              1,
              "#f0f921"
             ]
            ],
            "type": "surface"
           }
          ],
          "table": [
           {
            "cells": {
             "fill": {
              "color": "#EBF0F8"
             },
             "line": {
              "color": "white"
             }
            },
            "header": {
             "fill": {
              "color": "#C8D4E3"
             },
             "line": {
              "color": "white"
             }
            },
            "type": "table"
           }
          ]
         },
         "layout": {
          "annotationdefaults": {
           "arrowcolor": "#2a3f5f",
           "arrowhead": 0,
           "arrowwidth": 1
          },
          "autotypenumbers": "strict",
          "coloraxis": {
           "colorbar": {
            "outlinewidth": 0,
            "ticks": ""
           }
          },
          "colorscale": {
           "diverging": [
            [
             0,
             "#8e0152"
            ],
            [
             0.1,
             "#c51b7d"
            ],
            [
             0.2,
             "#de77ae"
            ],
            [
             0.3,
             "#f1b6da"
            ],
            [
             0.4,
             "#fde0ef"
            ],
            [
             0.5,
             "#f7f7f7"
            ],
            [
             0.6,
             "#e6f5d0"
            ],
            [
             0.7,
             "#b8e186"
            ],
            [
             0.8,
             "#7fbc41"
            ],
            [
             0.9,
             "#4d9221"
            ],
            [
             1,
             "#276419"
            ]
           ],
           "sequential": [
            [
             0,
             "#0d0887"
            ],
            [
             0.1111111111111111,
             "#46039f"
            ],
            [
             0.2222222222222222,
             "#7201a8"
            ],
            [
             0.3333333333333333,
             "#9c179e"
            ],
            [
             0.4444444444444444,
             "#bd3786"
            ],
            [
             0.5555555555555556,
             "#d8576b"
            ],
            [
             0.6666666666666666,
             "#ed7953"
            ],
            [
             0.7777777777777778,
             "#fb9f3a"
            ],
            [
             0.8888888888888888,
             "#fdca26"
            ],
            [
             1,
             "#f0f921"
            ]
           ],
           "sequentialminus": [
            [
             0,
             "#0d0887"
            ],
            [
             0.1111111111111111,
             "#46039f"
            ],
            [
             0.2222222222222222,
             "#7201a8"
            ],
            [
             0.3333333333333333,
             "#9c179e"
            ],
            [
             0.4444444444444444,
             "#bd3786"
            ],
            [
             0.5555555555555556,
             "#d8576b"
            ],
            [
             0.6666666666666666,
             "#ed7953"
            ],
            [
             0.7777777777777778,
             "#fb9f3a"
            ],
            [
             0.8888888888888888,
             "#fdca26"
            ],
            [
             1,
             "#f0f921"
            ]
           ]
          },
          "colorway": [
           "#636efa",
           "#EF553B",
           "#00cc96",
           "#ab63fa",
           "#FFA15A",
           "#19d3f3",
           "#FF6692",
           "#B6E880",
           "#FF97FF",
           "#FECB52"
          ],
          "font": {
           "color": "#2a3f5f"
          },
          "geo": {
           "bgcolor": "white",
           "lakecolor": "white",
           "landcolor": "#E5ECF6",
           "showlakes": true,
           "showland": true,
           "subunitcolor": "white"
          },
          "hoverlabel": {
           "align": "left"
          },
          "hovermode": "closest",
          "mapbox": {
           "style": "light"
          },
          "paper_bgcolor": "white",
          "plot_bgcolor": "#E5ECF6",
          "polar": {
           "angularaxis": {
            "gridcolor": "white",
            "linecolor": "white",
            "ticks": ""
           },
           "bgcolor": "#E5ECF6",
           "radialaxis": {
            "gridcolor": "white",
            "linecolor": "white",
            "ticks": ""
           }
          },
          "scene": {
           "xaxis": {
            "backgroundcolor": "#E5ECF6",
            "gridcolor": "white",
            "gridwidth": 2,
            "linecolor": "white",
            "showbackground": true,
            "ticks": "",
            "zerolinecolor": "white"
           },
           "yaxis": {
            "backgroundcolor": "#E5ECF6",
            "gridcolor": "white",
            "gridwidth": 2,
            "linecolor": "white",
            "showbackground": true,
            "ticks": "",
            "zerolinecolor": "white"
           },
           "zaxis": {
            "backgroundcolor": "#E5ECF6",
            "gridcolor": "white",
            "gridwidth": 2,
            "linecolor": "white",
            "showbackground": true,
            "ticks": "",
            "zerolinecolor": "white"
           }
          },
          "shapedefaults": {
           "line": {
            "color": "#2a3f5f"
           }
          },
          "ternary": {
           "aaxis": {
            "gridcolor": "white",
            "linecolor": "white",
            "ticks": ""
           },
           "baxis": {
            "gridcolor": "white",
            "linecolor": "white",
            "ticks": ""
           },
           "bgcolor": "#E5ECF6",
           "caxis": {
            "gridcolor": "white",
            "linecolor": "white",
            "ticks": ""
           }
          },
          "title": {
           "x": 0.05
          },
          "xaxis": {
           "automargin": true,
           "gridcolor": "white",
           "linecolor": "white",
           "ticks": "",
           "title": {
            "standoff": 15
           },
           "zerolinecolor": "white",
           "zerolinewidth": 2
          },
          "yaxis": {
           "automargin": true,
           "gridcolor": "white",
           "linecolor": "white",
           "ticks": "",
           "title": {
            "standoff": 15
           },
           "zerolinecolor": "white",
           "zerolinewidth": 2
          }
         }
        },
        "title": {
         "text": "Samples with labels"
        },
        "width": 550,
        "xaxis": {
         "anchor": "y",
         "domain": [
          0,
          1
         ],
         "title": {
          "text": "x_0"
         }
        },
        "yaxis": {
         "anchor": "x",
         "domain": [
          0,
          1
         ],
         "title": {
          "text": "x_1"
         }
        }
       }
      }
     },
     "metadata": {},
     "output_type": "display_data"
    }
   ],
   "source": [
    "# Plot the sample df\n",
    "import math\n",
    "\n",
    "import plotly.express as px\n",
    "\n",
    "\n",
    "fig = px.scatter(\n",
    "    sample_df,\n",
    "    x=\"x_0\",\n",
    "    y=\"x_1\",\n",
    "    color=\"f_1\",\n",
    "    width=550,\n",
    "    height=525,\n",
    "    title=\"Samples with labels\",\n",
    ")\n",
    "fig.add_shape(\n",
    "    type=\"circle\",\n",
    "    xref=\"x\",\n",
    "    yref=\"y\",\n",
    "    opacity=0.1,\n",
    "    fillcolor=\"red\",\n",
    "    x0=-math.sqrt(2),\n",
    "    y0=-math.sqrt(2),\n",
    "    x1=math.sqrt(2),\n",
    "    y1=math.sqrt(2),\n",
    "    line_color=\"red\",\n",
    ")\n",
    "fig.add_shape(\n",
    "    type=\"circle\",\n",
    "    xref=\"x\",\n",
    "    yref=\"y\",\n",
    "    opacity=0.2,\n",
    "    fillcolor=\"LightSeaGreen\",\n",
    "    x0=0,\n",
    "    y0=0,\n",
    "    x1=2,\n",
    "    y1=2,\n",
    "    line_color=\"LightSeaGreen\",\n",
    ")\n",
    "fig.show()"
   ]
  },
  {
   "cell_type": "markdown",
   "id": "6",
   "metadata": {
    "papermill": {
     "duration": 0.023509,
     "end_time": "2024-10-10T20:34:35.866206",
     "exception": false,
     "start_time": "2024-10-10T20:34:35.842697",
     "status": "completed"
    },
    "tags": []
   },
   "source": [
    "## Evaluate the classification model performance (outside of the optimization procedure)"
   ]
  },
  {
   "cell_type": "code",
   "execution_count": null,
   "id": "7",
   "metadata": {
    "papermill": {
     "duration": 0.208408,
     "end_time": "2024-10-10T20:34:36.095990",
     "exception": true,
     "start_time": "2024-10-10T20:34:35.887582",
     "status": "failed"
    },
    "tags": []
   },
   "outputs": [],
   "source": [
    "# Import packages\n",
    "import bofire.surrogates.api as surrogates\n",
    "from bofire.data_models.surrogates.api import ClassificationMLPEnsemble\n",
    "from bofire.surrogates.diagnostics import ClassificationMetricsEnum\n",
    "\n",
    "\n",
    "# Instantiate the surrogate data model\n",
    "surrogate_data = ClassificationMLPEnsemble(\n",
    "    inputs=domain1.inputs,\n",
    "    outputs=Outputs(features=[domain1.outputs.get_by_key(\"f_1\")]),\n",
    "    lr=0.03,\n",
    "    n_epochs=100,\n",
    "    hidden_layer_sizes=(\n",
    "        4,\n",
    "        2,\n",
    "    ),\n",
    "    weight_decay=0.0,\n",
    "    batch_size=10,\n",
    "    activation=\"tanh\",\n",
    ")\n",
    "surrogate = surrogates.map(surrogate_data)\n",
    "\n",
    "# Fit the surrogate to the classification data\n",
    "cv_df = sample_df.drop([\"f_0\", \"f_2\"], axis=1)\n",
    "cv_df[\"valid_f_1\"] = 1\n",
    "cv_train, cv_test, _ = surrogate.cross_validate(cv_df, folds=3)"
   ]
  },
  {
   "cell_type": "code",
   "execution_count": null,
   "id": "8",
   "metadata": {
    "papermill": {
     "duration": null,
     "end_time": null,
     "exception": null,
     "start_time": null,
     "status": "pending"
    },
    "tags": []
   },
   "outputs": [
    {
     "data": {
      "text/html": [
       "<div>\n",
       "<style scoped>\n",
       "    .dataframe tbody tr th:only-of-type {\n",
       "        vertical-align: middle;\n",
       "    }\n",
       "\n",
       "    .dataframe tbody tr th {\n",
       "        vertical-align: top;\n",
       "    }\n",
       "\n",
       "    .dataframe thead th {\n",
       "        text-align: right;\n",
       "    }\n",
       "</style>\n",
       "<table border=\"1\" class=\"dataframe\">\n",
       "  <thead>\n",
       "    <tr style=\"text-align: right;\">\n",
       "      <th></th>\n",
       "      <th>ACCURACY</th>\n",
       "      <th>F1</th>\n",
       "    </tr>\n",
       "  </thead>\n",
       "  <tbody>\n",
       "    <tr>\n",
       "      <th>0</th>\n",
       "      <td>0.85</td>\n",
       "      <td>0.85</td>\n",
       "    </tr>\n",
       "  </tbody>\n",
       "</table>\n",
       "</div>"
      ],
      "text/plain": [
       "   ACCURACY    F1\n",
       "0      0.85  0.85"
      ]
     },
     "execution_count": null,
     "metadata": {},
     "output_type": "execute_result"
    }
   ],
   "source": [
    "# Print training performance\n",
    "cv_train.get_metrics(\n",
    "    metrics=ClassificationMetricsEnum,\n",
    "    combine_folds=True,\n",
    ")"
   ]
  },
  {
   "cell_type": "code",
   "execution_count": null,
   "id": "9",
   "metadata": {
    "papermill": {
     "duration": null,
     "end_time": null,
     "exception": null,
     "start_time": null,
     "status": "pending"
    },
    "tags": []
   },
   "outputs": [
    {
     "data": {
      "text/html": [
       "<div>\n",
       "<style scoped>\n",
       "    .dataframe tbody tr th:only-of-type {\n",
       "        vertical-align: middle;\n",
       "    }\n",
       "\n",
       "    .dataframe tbody tr th {\n",
       "        vertical-align: top;\n",
       "    }\n",
       "\n",
       "    .dataframe thead th {\n",
       "        text-align: right;\n",
       "    }\n",
       "</style>\n",
       "<table border=\"1\" class=\"dataframe\">\n",
       "  <thead>\n",
       "    <tr style=\"text-align: right;\">\n",
       "      <th></th>\n",
       "      <th>ACCURACY</th>\n",
       "      <th>F1</th>\n",
       "    </tr>\n",
       "  </thead>\n",
       "  <tbody>\n",
       "    <tr>\n",
       "      <th>0</th>\n",
       "      <td>0.7</td>\n",
       "      <td>0.7</td>\n",
       "    </tr>\n",
       "  </tbody>\n",
       "</table>\n",
       "</div>"
      ],
      "text/plain": [
       "   ACCURACY   F1\n",
       "0       0.7  0.7"
      ]
     },
     "execution_count": null,
     "metadata": {},
     "output_type": "execute_result"
    }
   ],
   "source": [
    "# Print test performance\n",
    "cv_test.get_metrics(\n",
    "    metrics=ClassificationMetricsEnum,\n",
    "    combine_folds=True,\n",
    ")"
   ]
  },
  {
   "cell_type": "markdown",
   "id": "10",
   "metadata": {
    "papermill": {
     "duration": null,
     "end_time": null,
     "exception": null,
     "start_time": null,
     "status": "pending"
    },
    "tags": []
   },
   "source": [
    "## Setup strategy and ask for candidates\n",
    "\n",
    "Now we setup a `SoboStrategy` for generating candidates, the categorical output is modelled using the surrogate from above. The categorical output is modelled as an output constraint in the acquistion function optimization (constrained expected improvement). For more details have a look at this notebook: https://github.com/pytorch/botorch/blob/main/notebooks_community/clf_constrained_bo.ipynb and/or this paper: https://arxiv.org/abs/2402.07692.\n"
   ]
  },
  {
   "cell_type": "code",
   "execution_count": null,
   "id": "11",
   "metadata": {
    "papermill": {
     "duration": null,
     "end_time": null,
     "exception": null,
     "start_time": null,
     "status": "pending"
    },
    "tags": []
   },
   "outputs": [],
   "source": [
    "from bofire.data_models.acquisition_functions.api import qLogEI\n",
    "from bofire.data_models.strategies.api import SoboStrategy\n",
    "from bofire.data_models.surrogates.api import BotorchSurrogates\n",
    "\n",
    "\n",
    "strategy_data = SoboStrategy(\n",
    "    domain=domain1,\n",
    "    acquisition_function=qLogEI(),\n",
    "    surrogate_specs=BotorchSurrogates(\n",
    "        surrogates=[surrogate_data],\n",
    "    ),\n",
    ")\n",
    "\n",
    "strategy = strategies.map(strategy_data)\n",
    "\n",
    "strategy.tell(sample_df)"
   ]
  },
  {
   "cell_type": "code",
   "execution_count": null,
   "id": "12",
   "metadata": {
    "papermill": {
     "duration": null,
     "end_time": null,
     "exception": null,
     "start_time": null,
     "status": "pending"
    },
    "tags": []
   },
   "outputs": [
    {
     "data": {
      "text/html": [
       "<div>\n",
       "<style scoped>\n",
       "    .dataframe tbody tr th:only-of-type {\n",
       "        vertical-align: middle;\n",
       "    }\n",
       "\n",
       "    .dataframe tbody tr th {\n",
       "        vertical-align: top;\n",
       "    }\n",
       "\n",
       "    .dataframe thead th {\n",
       "        text-align: right;\n",
       "    }\n",
       "</style>\n",
       "<table border=\"1\" class=\"dataframe\">\n",
       "  <thead>\n",
       "    <tr style=\"text-align: right;\">\n",
       "      <th></th>\n",
       "      <th>x_0</th>\n",
       "      <th>x_1</th>\n",
       "      <th>x_3</th>\n",
       "      <th>f_1_pred</th>\n",
       "      <th>f_1_sd</th>\n",
       "      <th>f_1_unacceptable_prob</th>\n",
       "      <th>f_1_acceptable_prob</th>\n",
       "      <th>f_1_ideal_prob</th>\n",
       "      <th>f_0_pred</th>\n",
       "      <th>f_2_pred</th>\n",
       "      <th>f_1_unacceptable_sd</th>\n",
       "      <th>f_1_acceptable_sd</th>\n",
       "      <th>f_1_ideal_sd</th>\n",
       "      <th>f_0_sd</th>\n",
       "      <th>f_2_sd</th>\n",
       "      <th>f_0_des</th>\n",
       "      <th>f_2_des</th>\n",
       "      <th>f_1_des</th>\n",
       "    </tr>\n",
       "  </thead>\n",
       "  <tbody>\n",
       "    <tr>\n",
       "      <th>0</th>\n",
       "      <td>0.521210</td>\n",
       "      <td>0.269344</td>\n",
       "      <td>0</td>\n",
       "      <td>acceptable</td>\n",
       "      <td>0.0</td>\n",
       "      <td>-0.599523</td>\n",
       "      <td>0.006038</td>\n",
       "      <td>0.000453</td>\n",
       "      <td>0.801745</td>\n",
       "      <td>0.197802</td>\n",
       "      <td>8.447225</td>\n",
       "      <td>0.005222</td>\n",
       "      <td>0.000587</td>\n",
       "      <td>0.439619</td>\n",
       "      <td>0.439731</td>\n",
       "      <td>-0.801745</td>\n",
       "      <td>0.475295</td>\n",
       "      <td>0.006491</td>\n",
       "    </tr>\n",
       "    <tr>\n",
       "      <th>1</th>\n",
       "      <td>-0.534604</td>\n",
       "      <td>0.281354</td>\n",
       "      <td>0</td>\n",
       "      <td>unacceptable</td>\n",
       "      <td>0.0</td>\n",
       "      <td>0.992266</td>\n",
       "      <td>0.005395</td>\n",
       "      <td>0.000284</td>\n",
       "      <td>0.998946</td>\n",
       "      <td>0.000770</td>\n",
       "      <td>8.983122</td>\n",
       "      <td>0.005228</td>\n",
       "      <td>0.000315</td>\n",
       "      <td>0.001168</td>\n",
       "      <td>0.000942</td>\n",
       "      <td>-0.998946</td>\n",
       "      <td>0.499904</td>\n",
       "      <td>0.005679</td>\n",
       "    </tr>\n",
       "    <tr>\n",
       "      <th>2</th>\n",
       "      <td>-1.310769</td>\n",
       "      <td>1.750000</td>\n",
       "      <td>0</td>\n",
       "      <td>unacceptable</td>\n",
       "      <td>0.0</td>\n",
       "      <td>1.591719</td>\n",
       "      <td>0.006466</td>\n",
       "      <td>0.399993</td>\n",
       "      <td>0.599155</td>\n",
       "      <td>0.000852</td>\n",
       "      <td>16.280403</td>\n",
       "      <td>0.006001</td>\n",
       "      <td>0.546267</td>\n",
       "      <td>0.546940</td>\n",
       "      <td>0.000798</td>\n",
       "      <td>-0.599155</td>\n",
       "      <td>0.499893</td>\n",
       "      <td>0.406459</td>\n",
       "    </tr>\n",
       "    <tr>\n",
       "      <th>3</th>\n",
       "      <td>-0.051340</td>\n",
       "      <td>-0.000077</td>\n",
       "      <td>0</td>\n",
       "      <td>unacceptable</td>\n",
       "      <td>0.0</td>\n",
       "      <td>0.696201</td>\n",
       "      <td>0.005941</td>\n",
       "      <td>0.000278</td>\n",
       "      <td>0.998960</td>\n",
       "      <td>0.000762</td>\n",
       "      <td>7.099107</td>\n",
       "      <td>0.005202</td>\n",
       "      <td>0.000313</td>\n",
       "      <td>0.001147</td>\n",
       "      <td>0.000927</td>\n",
       "      <td>-0.998960</td>\n",
       "      <td>0.499905</td>\n",
       "      <td>0.006219</td>\n",
       "    </tr>\n",
       "    <tr>\n",
       "      <th>4</th>\n",
       "      <td>0.320754</td>\n",
       "      <td>0.112356</td>\n",
       "      <td>0</td>\n",
       "      <td>acceptable</td>\n",
       "      <td>0.0</td>\n",
       "      <td>-0.130758</td>\n",
       "      <td>0.006143</td>\n",
       "      <td>0.000301</td>\n",
       "      <td>0.998758</td>\n",
       "      <td>0.000941</td>\n",
       "      <td>6.648483</td>\n",
       "      <td>0.005214</td>\n",
       "      <td>0.000342</td>\n",
       "      <td>0.001474</td>\n",
       "      <td>0.001270</td>\n",
       "      <td>-0.998758</td>\n",
       "      <td>0.499882</td>\n",
       "      <td>0.006444</td>\n",
       "    </tr>\n",
       "    <tr>\n",
       "      <th>5</th>\n",
       "      <td>0.798712</td>\n",
       "      <td>0.635166</td>\n",
       "      <td>0</td>\n",
       "      <td>ideal</td>\n",
       "      <td>0.0</td>\n",
       "      <td>-0.338928</td>\n",
       "      <td>0.005531</td>\n",
       "      <td>0.596170</td>\n",
       "      <td>0.202582</td>\n",
       "      <td>0.201248</td>\n",
       "      <td>7.134383</td>\n",
       "      <td>0.005218</td>\n",
       "      <td>0.544056</td>\n",
       "      <td>0.445691</td>\n",
       "      <td>0.445637</td>\n",
       "      <td>-0.202582</td>\n",
       "      <td>0.474865</td>\n",
       "      <td>0.601701</td>\n",
       "    </tr>\n",
       "    <tr>\n",
       "      <th>6</th>\n",
       "      <td>0.619285</td>\n",
       "      <td>0.342774</td>\n",
       "      <td>0</td>\n",
       "      <td>ideal</td>\n",
       "      <td>0.0</td>\n",
       "      <td>-0.461361</td>\n",
       "      <td>0.005945</td>\n",
       "      <td>0.008842</td>\n",
       "      <td>0.626766</td>\n",
       "      <td>0.364392</td>\n",
       "      <td>8.069609</td>\n",
       "      <td>0.005224</td>\n",
       "      <td>0.013143</td>\n",
       "      <td>0.494871</td>\n",
       "      <td>0.499344</td>\n",
       "      <td>-0.626766</td>\n",
       "      <td>0.454577</td>\n",
       "      <td>0.014787</td>\n",
       "    </tr>\n",
       "    <tr>\n",
       "      <th>7</th>\n",
       "      <td>-0.650821</td>\n",
       "      <td>0.401533</td>\n",
       "      <td>0</td>\n",
       "      <td>unacceptable</td>\n",
       "      <td>0.0</td>\n",
       "      <td>1.701163</td>\n",
       "      <td>0.005345</td>\n",
       "      <td>0.000310</td>\n",
       "      <td>0.998893</td>\n",
       "      <td>0.000797</td>\n",
       "      <td>8.275364</td>\n",
       "      <td>0.005238</td>\n",
       "      <td>0.000327</td>\n",
       "      <td>0.001250</td>\n",
       "      <td>0.000996</td>\n",
       "      <td>-0.998893</td>\n",
       "      <td>0.499900</td>\n",
       "      <td>0.005655</td>\n",
       "    </tr>\n",
       "    <tr>\n",
       "      <th>8</th>\n",
       "      <td>-1.331060</td>\n",
       "      <td>1.750000</td>\n",
       "      <td>0</td>\n",
       "      <td>unacceptable</td>\n",
       "      <td>0.0</td>\n",
       "      <td>2.129736</td>\n",
       "      <td>0.006499</td>\n",
       "      <td>0.399992</td>\n",
       "      <td>0.599152</td>\n",
       "      <td>0.000855</td>\n",
       "      <td>16.455936</td>\n",
       "      <td>0.006021</td>\n",
       "      <td>0.546263</td>\n",
       "      <td>0.546937</td>\n",
       "      <td>0.000796</td>\n",
       "      <td>-0.599152</td>\n",
       "      <td>0.499893</td>\n",
       "      <td>0.406491</td>\n",
       "    </tr>\n",
       "    <tr>\n",
       "      <th>9</th>\n",
       "      <td>-0.969561</td>\n",
       "      <td>0.933397</td>\n",
       "      <td>0</td>\n",
       "      <td>unacceptable</td>\n",
       "      <td>0.0</td>\n",
       "      <td>5.872413</td>\n",
       "      <td>0.005596</td>\n",
       "      <td>0.376938</td>\n",
       "      <td>0.622362</td>\n",
       "      <td>0.000700</td>\n",
       "      <td>9.472464</td>\n",
       "      <td>0.005270</td>\n",
       "      <td>0.517200</td>\n",
       "      <td>0.517651</td>\n",
       "      <td>0.000990</td>\n",
       "      <td>-0.622362</td>\n",
       "      <td>0.499912</td>\n",
       "      <td>0.382533</td>\n",
       "    </tr>\n",
       "  </tbody>\n",
       "</table>\n",
       "</div>"
      ],
      "text/plain": [
       "        x_0       x_1 x_3      f_1_pred  f_1_sd  f_1_unacceptable_prob  \\\n",
       "0  0.521210  0.269344   0    acceptable     0.0              -0.599523   \n",
       "1 -0.534604  0.281354   0  unacceptable     0.0               0.992266   \n",
       "2 -1.310769  1.750000   0  unacceptable     0.0               1.591719   \n",
       "3 -0.051340 -0.000077   0  unacceptable     0.0               0.696201   \n",
       "4  0.320754  0.112356   0    acceptable     0.0              -0.130758   \n",
       "5  0.798712  0.635166   0         ideal     0.0              -0.338928   \n",
       "6  0.619285  0.342774   0         ideal     0.0              -0.461361   \n",
       "7 -0.650821  0.401533   0  unacceptable     0.0               1.701163   \n",
       "8 -1.331060  1.750000   0  unacceptable     0.0               2.129736   \n",
       "9 -0.969561  0.933397   0  unacceptable     0.0               5.872413   \n",
       "\n",
       "   f_1_acceptable_prob  f_1_ideal_prob  f_0_pred  f_2_pred  \\\n",
       "0             0.006038        0.000453  0.801745  0.197802   \n",
       "1             0.005395        0.000284  0.998946  0.000770   \n",
       "2             0.006466        0.399993  0.599155  0.000852   \n",
       "3             0.005941        0.000278  0.998960  0.000762   \n",
       "4             0.006143        0.000301  0.998758  0.000941   \n",
       "5             0.005531        0.596170  0.202582  0.201248   \n",
       "6             0.005945        0.008842  0.626766  0.364392   \n",
       "7             0.005345        0.000310  0.998893  0.000797   \n",
       "8             0.006499        0.399992  0.599152  0.000855   \n",
       "9             0.005596        0.376938  0.622362  0.000700   \n",
       "\n",
       "   f_1_unacceptable_sd  f_1_acceptable_sd  f_1_ideal_sd    f_0_sd    f_2_sd  \\\n",
       "0             8.447225           0.005222      0.000587  0.439619  0.439731   \n",
       "1             8.983122           0.005228      0.000315  0.001168  0.000942   \n",
       "2            16.280403           0.006001      0.546267  0.546940  0.000798   \n",
       "3             7.099107           0.005202      0.000313  0.001147  0.000927   \n",
       "4             6.648483           0.005214      0.000342  0.001474  0.001270   \n",
       "5             7.134383           0.005218      0.544056  0.445691  0.445637   \n",
       "6             8.069609           0.005224      0.013143  0.494871  0.499344   \n",
       "7             8.275364           0.005238      0.000327  0.001250  0.000996   \n",
       "8            16.455936           0.006021      0.546263  0.546937  0.000796   \n",
       "9             9.472464           0.005270      0.517200  0.517651  0.000990   \n",
       "\n",
       "    f_0_des   f_2_des   f_1_des  \n",
       "0 -0.801745  0.475295  0.006491  \n",
       "1 -0.998946  0.499904  0.005679  \n",
       "2 -0.599155  0.499893  0.406459  \n",
       "3 -0.998960  0.499905  0.006219  \n",
       "4 -0.998758  0.499882  0.006444  \n",
       "5 -0.202582  0.474865  0.601701  \n",
       "6 -0.626766  0.454577  0.014787  \n",
       "7 -0.998893  0.499900  0.005655  \n",
       "8 -0.599152  0.499893  0.406491  \n",
       "9 -0.622362  0.499912  0.382533  "
      ]
     },
     "execution_count": null,
     "metadata": {},
     "output_type": "execute_result"
    }
   ],
   "source": [
    "candidates = strategy.ask(10)\n",
    "candidates"
   ]
  },
  {
   "cell_type": "markdown",
   "id": "13",
   "metadata": {
    "papermill": {
     "duration": null,
     "end_time": null,
     "exception": null,
     "start_time": null,
     "status": "pending"
    },
    "tags": []
   },
   "source": [
    "## Check classification of proposed candidates\n",
    "\n",
    "Use the logic from above to verify the classification values"
   ]
  },
  {
   "cell_type": "code",
   "execution_count": null,
   "id": "14",
   "metadata": {
    "papermill": {
     "duration": null,
     "end_time": null,
     "exception": null,
     "start_time": null,
     "status": "pending"
    },
    "tags": []
   },
   "outputs": [],
   "source": [
    "# Append to the candidates\n",
    "candidates[\"f_1_true\"] = constraints(x=candidates)"
   ]
  },
  {
   "cell_type": "code",
   "execution_count": null,
   "id": "15",
   "metadata": {
    "papermill": {
     "duration": null,
     "end_time": null,
     "exception": null,
     "start_time": null,
     "status": "pending"
    },
    "tags": []
   },
   "outputs": [
    {
     "data": {
      "text/html": [
       "<div>\n",
       "<style scoped>\n",
       "    .dataframe tbody tr th:only-of-type {\n",
       "        vertical-align: middle;\n",
       "    }\n",
       "\n",
       "    .dataframe tbody tr th {\n",
       "        vertical-align: top;\n",
       "    }\n",
       "\n",
       "    .dataframe thead th {\n",
       "        text-align: right;\n",
       "    }\n",
       "</style>\n",
       "<table border=\"1\" class=\"dataframe\">\n",
       "  <thead>\n",
       "    <tr style=\"text-align: right;\">\n",
       "      <th></th>\n",
       "      <th>x_0</th>\n",
       "      <th>x_1</th>\n",
       "      <th>f_1_pred</th>\n",
       "      <th>f_1_true</th>\n",
       "    </tr>\n",
       "  </thead>\n",
       "  <tbody>\n",
       "    <tr>\n",
       "      <th>0</th>\n",
       "      <td>0.521210</td>\n",
       "      <td>0.269344</td>\n",
       "      <td>acceptable</td>\n",
       "      <td>ideal</td>\n",
       "    </tr>\n",
       "    <tr>\n",
       "      <th>1</th>\n",
       "      <td>-0.534604</td>\n",
       "      <td>0.281354</td>\n",
       "      <td>unacceptable</td>\n",
       "      <td>acceptable</td>\n",
       "    </tr>\n",
       "    <tr>\n",
       "      <th>2</th>\n",
       "      <td>-1.310769</td>\n",
       "      <td>1.750000</td>\n",
       "      <td>unacceptable</td>\n",
       "      <td>unacceptable</td>\n",
       "    </tr>\n",
       "    <tr>\n",
       "      <th>3</th>\n",
       "      <td>-0.051340</td>\n",
       "      <td>-0.000077</td>\n",
       "      <td>unacceptable</td>\n",
       "      <td>acceptable</td>\n",
       "    </tr>\n",
       "    <tr>\n",
       "      <th>4</th>\n",
       "      <td>0.320754</td>\n",
       "      <td>0.112356</td>\n",
       "      <td>acceptable</td>\n",
       "      <td>acceptable</td>\n",
       "    </tr>\n",
       "    <tr>\n",
       "      <th>5</th>\n",
       "      <td>0.798712</td>\n",
       "      <td>0.635166</td>\n",
       "      <td>ideal</td>\n",
       "      <td>ideal</td>\n",
       "    </tr>\n",
       "    <tr>\n",
       "      <th>6</th>\n",
       "      <td>0.619285</td>\n",
       "      <td>0.342774</td>\n",
       "      <td>ideal</td>\n",
       "      <td>ideal</td>\n",
       "    </tr>\n",
       "    <tr>\n",
       "      <th>7</th>\n",
       "      <td>-0.650821</td>\n",
       "      <td>0.401533</td>\n",
       "      <td>unacceptable</td>\n",
       "      <td>acceptable</td>\n",
       "    </tr>\n",
       "    <tr>\n",
       "      <th>8</th>\n",
       "      <td>-1.331060</td>\n",
       "      <td>1.750000</td>\n",
       "      <td>unacceptable</td>\n",
       "      <td>unacceptable</td>\n",
       "    </tr>\n",
       "    <tr>\n",
       "      <th>9</th>\n",
       "      <td>-0.969561</td>\n",
       "      <td>0.933397</td>\n",
       "      <td>unacceptable</td>\n",
       "      <td>acceptable</td>\n",
       "    </tr>\n",
       "  </tbody>\n",
       "</table>\n",
       "</div>"
      ],
      "text/plain": [
       "        x_0       x_1      f_1_pred      f_1_true\n",
       "0  0.521210  0.269344    acceptable         ideal\n",
       "1 -0.534604  0.281354  unacceptable    acceptable\n",
       "2 -1.310769  1.750000  unacceptable  unacceptable\n",
       "3 -0.051340 -0.000077  unacceptable    acceptable\n",
       "4  0.320754  0.112356    acceptable    acceptable\n",
       "5  0.798712  0.635166         ideal         ideal\n",
       "6  0.619285  0.342774         ideal         ideal\n",
       "7 -0.650821  0.401533  unacceptable    acceptable\n",
       "8 -1.331060  1.750000  unacceptable  unacceptable\n",
       "9 -0.969561  0.933397  unacceptable    acceptable"
      ]
     },
     "execution_count": null,
     "metadata": {},
     "output_type": "execute_result"
    }
   ],
   "source": [
    "# Print results\n",
    "candidates[[\"x_0\", \"x_1\", \"f_1_pred\", \"f_1_true\"]]"
   ]
  }
 ],
 "metadata": {
  "kernelspec": {
   "display_name": "bofire-2",
   "language": "python",
   "name": "python3"
  },
  "language_info": {
   "codemirror_mode": {
    "name": "ipython",
    "version": 3
   },
   "file_extension": ".py",
   "mimetype": "text/x-python",
   "name": "python",
   "nbconvert_exporter": "python",
   "pygments_lexer": "ipython3",
   "version": "3.10.12"
  },
  "papermill": {
   "default_parameters": {},
   "duration": 5.540047,
   "end_time": "2024-10-10T20:34:36.838633",
   "environment_variables": {},
   "exception": true,
   "parameters": {},
   "start_time": "2024-10-10T20:34:31.298586",
   "version": "2.6.0"
  }
 },
 "nbformat": 4,
 "nbformat_minor": 5
}
