{
 "cells": [
  {
   "cell_type": "markdown",
   "metadata": {},
   "source": [
    "# Classification Surrogate Tests\n",
    "\n",
    "We are interested in testing whether or not a surrogate model can correctly identify unknown constraints based on categorical criteria with classification surrogates. Essentially, we want to account for scenarios where specialists can look at a set of experiments and label outcomes as 'acceptable', 'unacceptable', 'ideal', etc. \n",
    "\n",
    "This involves new models that produce `CategoricalOutput`'s rather than continuous outputs. Mathematically, if $g_{\\theta}:\\mathbb{R}^d\\to[0,1]^c$ represents the function governed by learnable parameters $\\theta$ which outputs a probability vector over $c$ potential classes (i.e. for input $x\\in\\mathbb{R}^d$, $g_{\\theta}(x)^\\top\\mathbf{1}=1$ where $\\mathbf{1}$ is the vector of all 1's) and we have acceptibility criteria for the corresponding classes given by $a\\in\\{0,1\\}^c$, we can compute the scalar output $g_{\\theta}(x)^\\top a\\in[0,1]$ which represents the expected value of acceptance as an objective value to be passed in as a constrained function.\n",
    "\n",
    "In this script, we look at the [Rosenbrock function constrained to a disk](https://en.wikipedia.org/wiki/Test_functions_for_optimization#cite_note-12) which attains a global minima at $(x_0^*,x_1^*)=(1.0, 1.0)$. To facilitate testing the functionality offered by BoFire, we label all points inside of the circle $x_0^2+x_1^2\\le2$ as 'acceptable' and futher label anything inside of the interesction of this circle and the circle $(x_0-1)^2+(x_1-1)^2\\le1.0$ as 'ideal'; points lying outside of these two locations are labeled as \"unacceptable.\""
   ]
  },
  {
   "cell_type": "code",
   "execution_count": 1,
   "metadata": {},
   "outputs": [
    {
     "name": "stderr",
     "output_type": "stream",
     "text": [
      "c:\\ProgramData\\Anaconda3\\envs\\bofire-env\\lib\\site-packages\\tqdm\\auto.py:21: TqdmWarning: IProgress not found. Please update jupyter and ipywidgets. See https://ipywidgets.readthedocs.io/en/stable/user_install.html\n",
      "  from .autonotebook import tqdm as notebook_tqdm\n"
     ]
    }
   ],
   "source": [
    "# Import packages\n",
    "import bofire.strategies.api as strategies\n",
    "from bofire.data_models.api import Domain, Outputs, Inputs\n",
    "from bofire.data_models.features.api import ContinuousInput, ContinuousOutput, CategoricalOutput, CategoricalInput\n",
    "from bofire.data_models.objectives.api import MinimizeObjective, MinimizeSigmoidObjective, ConstrainedCategoricalObjective\n",
    "import numpy as np\n",
    "import pandas as pd"
   ]
  },
  {
   "attachments": {},
   "cell_type": "markdown",
   "metadata": {},
   "source": [
    "## Manual setup of the optimization domain\n",
    "\n",
    "The following cells show how to manually setup the optimization problem in BoFire for didactic purposes."
   ]
  },
  {
   "cell_type": "code",
   "execution_count": 9,
   "metadata": {},
   "outputs": [],
   "source": [
    "# Write helper functions which give the objective and the constraints\n",
    "def rosenbrock(x: pd.Series) -> pd.Series:\n",
    "    assert \"x_0\" in x.columns\n",
    "    assert \"x_1\" in x.columns\n",
    "    return (1 - x[\"x_0\"]) ** 2 + 100 * (x[\"x_1\"] - x[\"x_0\"] ** 2) ** 2\n",
    "\n",
    "def constraints(x: pd.Series) -> pd.Series:\n",
    "    assert \"x_0\" in x.columns\n",
    "    assert \"x_1\" in x.columns\n",
    "    feasiblity_vector = []\n",
    "    for _, row in x.iterrows():\n",
    "        if (row[\"x_0\"] ** 2 + row[\"x_1\"] ** 2 <= 2.0) and ((row[\"x_0\"] - 1.0) ** 2 + (row[\"x_1\"] - 1.0) ** 2 <= 1.0):\n",
    "            feasiblity_vector.append(\"ideal\")\n",
    "        elif row[\"x_0\"] ** 2 + row[\"x_1\"] ** 2 <= 2.0:\n",
    "            feasiblity_vector.append(\"acceptable\")\n",
    "        else:\n",
    "            feasiblity_vector.append(\"unacceptable\")\n",
    "    return feasiblity_vector"
   ]
  },
  {
   "cell_type": "code",
   "execution_count": 158,
   "metadata": {},
   "outputs": [
    {
     "data": {
      "text/html": [
       "<div>\n",
       "<style scoped>\n",
       "    .dataframe tbody tr th:only-of-type {\n",
       "        vertical-align: middle;\n",
       "    }\n",
       "\n",
       "    .dataframe tbody tr th {\n",
       "        vertical-align: top;\n",
       "    }\n",
       "\n",
       "    .dataframe thead th {\n",
       "        text-align: right;\n",
       "    }\n",
       "</style>\n",
       "<table border=\"1\" class=\"dataframe\">\n",
       "  <thead>\n",
       "    <tr style=\"text-align: right;\">\n",
       "      <th></th>\n",
       "      <th>x_0</th>\n",
       "      <th>x_1</th>\n",
       "      <th>x_3</th>\n",
       "      <th>f_0</th>\n",
       "      <th>f_1</th>\n",
       "      <th>f_2</th>\n",
       "    </tr>\n",
       "  </thead>\n",
       "  <tbody>\n",
       "    <tr>\n",
       "      <th>0</th>\n",
       "      <td>-0.149953</td>\n",
       "      <td>-0.704143</td>\n",
       "      <td>1</td>\n",
       "      <td>54.121306</td>\n",
       "      <td>acceptable</td>\n",
       "      <td>1.009579</td>\n",
       "    </tr>\n",
       "    <tr>\n",
       "      <th>1</th>\n",
       "      <td>-0.625311</td>\n",
       "      <td>-0.463190</td>\n",
       "      <td>0</td>\n",
       "      <td>75.608036</td>\n",
       "      <td>acceptable</td>\n",
       "      <td>0.001819</td>\n",
       "    </tr>\n",
       "    <tr>\n",
       "      <th>2</th>\n",
       "      <td>-0.765853</td>\n",
       "      <td>0.927654</td>\n",
       "      <td>1</td>\n",
       "      <td>14.754710</td>\n",
       "      <td>acceptable</td>\n",
       "      <td>1.006574</td>\n",
       "    </tr>\n",
       "    <tr>\n",
       "      <th>3</th>\n",
       "      <td>-1.447047</td>\n",
       "      <td>-0.059688</td>\n",
       "      <td>1</td>\n",
       "      <td>469.801324</td>\n",
       "      <td>unacceptable</td>\n",
       "      <td>1.002428</td>\n",
       "    </tr>\n",
       "    <tr>\n",
       "      <th>4</th>\n",
       "      <td>-0.540554</td>\n",
       "      <td>1.090780</td>\n",
       "      <td>1</td>\n",
       "      <td>66.146436</td>\n",
       "      <td>acceptable</td>\n",
       "      <td>1.004633</td>\n",
       "    </tr>\n",
       "  </tbody>\n",
       "</table>\n",
       "</div>"
      ],
      "text/plain": [
       "        x_0       x_1 x_3         f_0           f_1       f_2\n",
       "0 -0.149953 -0.704143   1   54.121306    acceptable  1.009579\n",
       "1 -0.625311 -0.463190   0   75.608036    acceptable  0.001819\n",
       "2 -0.765853  0.927654   1   14.754710    acceptable  1.006574\n",
       "3 -1.447047 -0.059688   1  469.801324  unacceptable  1.002428\n",
       "4 -0.540554  1.090780   1   66.146436    acceptable  1.004633"
      ]
     },
     "execution_count": 158,
     "metadata": {},
     "output_type": "execute_result"
    }
   ],
   "source": [
    "# Set-up the inputs and outputs, use categorical domain just as an example\n",
    "input_features = Inputs(features=[ContinuousInput(key=f\"x_{i}\", bounds=(-1.75, 1.75)) for i in range(2)] + [CategoricalInput(key=f\"x_3\", categories=[\"0\", \"1\"], allowed=[True, True])])\n",
    "\n",
    "# here the minimize objective is used, if you want to maximize you have to use the maximize objective.\n",
    "output_features = Outputs(features=[\n",
    "        ContinuousOutput(key=f\"f_{0}\", objective=MinimizeObjective(w=1.)),\n",
    "        CategoricalOutput(key=f\"f_{1}\", categories=[\"unacceptable\", \"acceptable\", \"ideal\"], objective=ConstrainedCategoricalObjective(categories=[\"unacceptable\", \"acceptable\", \"ideal\"], desirability=[False, True, True])), # This function will be associated with learning the categories\n",
    "        ContinuousOutput(key=f\"f_{2}\", objective=MinimizeSigmoidObjective(w=1., tp=0.0, steepness=0.5)),\n",
    "    ]\n",
    ")\n",
    "\n",
    "# Create domain\n",
    "domain1 = Domain(inputs=input_features, outputs=output_features)\n",
    "\n",
    "# Sample random points\n",
    "sample_df = domain1.inputs.sample(100)\n",
    "\n",
    "# Write a function which outputs one continuous variable and another discrete based on some logic\n",
    "sample_df[\"f_0\"] = rosenbrock(x=sample_df)\n",
    "sample_df[\"f_1\"] = constraints(x=sample_df)\n",
    "sample_df[\"f_2\"] = sample_df[\"x_3\"].astype(float) + 1e-2 * np.random.uniform(size=(len(sample_df),))\n",
    "sample_df.head(5)"
   ]
  },
  {
   "cell_type": "code",
   "execution_count": 159,
   "metadata": {},
   "outputs": [
    {
     "data": {
      "application/vnd.plotly.v1+json": {
       "config": {
        "plotlyServerURL": "https://plot.ly"
       },
       "data": [
        {
         "hovertemplate": "f_1=acceptable<br>x_0=%{x}<br>x_1=%{y}<extra></extra>",
         "legendgroup": "acceptable",
         "marker": {
          "color": "#636efa",
          "symbol": "circle"
         },
         "mode": "markers",
         "name": "acceptable",
         "orientation": "v",
         "showlegend": true,
         "type": "scatter",
         "x": [
          -0.14995258503883457,
          -0.6253111311588586,
          -0.765853028108006,
          -0.5405541311965942,
          0.9894994728281232,
          -0.865978521372166,
          -1.0217962106629315,
          -0.4014156739458248,
          -0.12059424146260334,
          -1.0084908064927265,
          -0.9349526862095585,
          0.9458316530354285,
          -0.5320149984993212,
          -0.4689036742689612,
          -0.07833150213004725,
          -0.9793104434929384,
          0.5788385198054735,
          -0.9481124505558867,
          -1.1878657259442678,
          0.7035953005643529,
          0.2579234370307777,
          -1.2867733344241161,
          -0.3218188759641296,
          -0.29215910785338806,
          -0.8088505843334085,
          -0.16053526753142844,
          0.6219324521230791,
          0.03371532152549417,
          -0.18044427816549646,
          0.6672898005757197,
          0.36287033501092125,
          -0.5410845636765149,
          0.6184934671940714,
          0.79958184162304,
          0.6854423654922401,
          -0.32974185478696016,
          -0.5158328238096581,
          -0.8267714092240124,
          -0.9304400399308963,
          0.29751211472578376,
          -1.0674027719621937,
          -0.7640154931359711
         ],
         "xaxis": "x",
         "y": [
          -0.7041428419544369,
          -0.4631897120601236,
          0.9276536133420858,
          1.0907795664450228,
          -0.20189922968971485,
          0.8873233761755905,
          0.7368573002639325,
          0.7110972468528676,
          -0.43418666628890823,
          0.08216578094828186,
          -0.5657310098005697,
          -1.0505195679349209,
          0.4106824576035617,
          -1.1004617179921463,
          0.9644868021314426,
          0.8813719192174521,
          0.006476845776403506,
          0.2047160309884497,
          -0.48721762585284756,
          -0.8694642189151136,
          -0.8858761844683214,
          -0.26450926092801574,
          0.7700394750617825,
          0.7931467073831526,
          -1.099688304768781,
          1.2163564957070103,
          -0.021834260403785777,
          0.5629070883753866,
          -0.8868851959550068,
          -1.2323026418478094,
          -0.9954921557404812,
          -0.7890090665021279,
          -1.1629674424244054,
          -0.4567118757180961,
          -0.634972965145935,
          0.6601685944241988,
          -0.6391884645670298,
          -0.9719722439473206,
          -0.744901749184502,
          -0.9803760720872019,
          -0.5942335372991383,
          0.23621357099645968
         ],
         "yaxis": "y"
        },
        {
         "hovertemplate": "f_1=unacceptable<br>x_0=%{x}<br>x_1=%{y}<extra></extra>",
         "legendgroup": "unacceptable",
         "marker": {
          "color": "#EF553B",
          "symbol": "circle"
         },
         "mode": "markers",
         "name": "unacceptable",
         "orientation": "v",
         "showlegend": true,
         "type": "scatter",
         "x": [
          -1.4470467658262591,
          -1.6009504802388597,
          1.4204895481210702,
          1.3489227092112688,
          -0.639284790399812,
          1.575648155774772,
          1.7270515387294698,
          -1.1378584773675158,
          -0.4870902364848939,
          1.3433379011252464,
          1.6525833048685383,
          0.052856077835125026,
          -1.718194617060083,
          1.2519082611394308,
          -1.3754185446920677,
          -0.18322045819850907,
          1.327292051993207,
          1.0733856862440985,
          0.9008441174905695,
          0.47167063168201295,
          -1.28379343444775,
          -1.225041501040866,
          -0.9879804926500095,
          -1.7123070859149068,
          -0.8222878848033226,
          1.698340355837336,
          -0.40510921927474874,
          -1.139666414607729,
          1.669256729311793,
          -0.5749235839074829,
          1.3532335670733184,
          1.410971842195503,
          1.2552385529823566,
          -1.0402317158880352,
          -1.400659402027841,
          1.6382339166896722,
          -1.3547647166845345,
          1.1865185162807816,
          -1.4333442355901473,
          1.646587754792467,
          0.582077673409676,
          1.380227103874569,
          1.3622158395068897,
          1.1921850110333656,
          -1.2624798548187615,
          1.70645818280738
         ],
         "xaxis": "x",
         "y": [
          -0.05968813763014724,
          -0.08203263567781471,
          -1.7256511732407582,
          -1.3062738654746688,
          -1.380758573136951,
          1.3698035388942658,
          -0.14646898218101168,
          1.1472779541835205,
          -1.546055723303492,
          1.2777644377843878,
          -1.0947398765543759,
          -1.691760325948563,
          0.2847825778795654,
          -1.7156770939939636,
          -1.3464909491716763,
          1.689598233686933,
          -0.7777149658959187,
          -1.457321100538615,
          1.7237444956486576,
          -1.7222531301544601,
          1.4804621415248884,
          -1.0312548094743161,
          1.464230692511908,
          1.727604973119779,
          -1.4420228070981478,
          1.026409514853559,
          1.4523235910972625,
          1.6510720743055476,
          0.5237495796359455,
          1.6473828157610697,
          -0.6903014501907374,
          1.3866811498163663,
          -1.1832663015708027,
          1.3995479124379653,
          0.4939162310211662,
          1.6967495852807661,
          0.4613230281774947,
          -1.1777089751033198,
          0.09067972703617566,
          0.5611805367913849,
          -1.5872277904858516,
          0.39999239270670284,
          -0.6292457424969355,
          1.2082895149675292,
          -1.6847143997552474,
          -1.454374296036075
         ],
         "yaxis": "y"
        },
        {
         "hovertemplate": "f_1=ideal<br>x_0=%{x}<br>x_1=%{y}<extra></extra>",
         "legendgroup": "ideal",
         "marker": {
          "color": "#00cc96",
          "symbol": "circle"
         },
         "mode": "markers",
         "name": "ideal",
         "orientation": "v",
         "showlegend": true,
         "type": "scatter",
         "x": [
          0.9061821719090513,
          0.5162826776143459,
          0.5094335938756926,
          0.6859698250145936,
          0.5823600872410029,
          1.0858917598939684,
          1.3205055890138766,
          0.14878500290037744,
          0.7581455463744304,
          1.1678712726745357,
          0.6653414272221312,
          0.2300548458979994
         ],
         "xaxis": "x",
         "y": [
          0.886718714624303,
          0.39576812610714196,
          0.5122034490809124,
          0.7226512509233372,
          0.7116114473585995,
          0.7731429665448246,
          0.40197976993092377,
          0.5202938254854113,
          0.24505092339428747,
          0.5559493377544111,
          0.28496872065832335,
          0.8280874889772782
         ],
         "yaxis": "y"
        }
       ],
       "layout": {
        "height": 525,
        "legend": {
         "title": {
          "text": "f_1"
         },
         "tracegroupgap": 0
        },
        "shapes": [
         {
          "fillcolor": "red",
          "line": {
           "color": "red"
          },
          "opacity": 0.1,
          "type": "circle",
          "x0": -1.4142135623730951,
          "x1": 1.4142135623730951,
          "xref": "x",
          "y0": -1.4142135623730951,
          "y1": 1.4142135623730951,
          "yref": "y"
         },
         {
          "fillcolor": "LightSeaGreen",
          "line": {
           "color": "LightSeaGreen"
          },
          "opacity": 0.2,
          "type": "circle",
          "x0": 0,
          "x1": 2,
          "xref": "x",
          "y0": 0,
          "y1": 2,
          "yref": "y"
         }
        ],
        "template": {
         "data": {
          "bar": [
           {
            "error_x": {
             "color": "#2a3f5f"
            },
            "error_y": {
             "color": "#2a3f5f"
            },
            "marker": {
             "line": {
              "color": "#E5ECF6",
              "width": 0.5
             },
             "pattern": {
              "fillmode": "overlay",
              "size": 10,
              "solidity": 0.2
             }
            },
            "type": "bar"
           }
          ],
          "barpolar": [
           {
            "marker": {
             "line": {
              "color": "#E5ECF6",
              "width": 0.5
             },
             "pattern": {
              "fillmode": "overlay",
              "size": 10,
              "solidity": 0.2
             }
            },
            "type": "barpolar"
           }
          ],
          "carpet": [
           {
            "aaxis": {
             "endlinecolor": "#2a3f5f",
             "gridcolor": "white",
             "linecolor": "white",
             "minorgridcolor": "white",
             "startlinecolor": "#2a3f5f"
            },
            "baxis": {
             "endlinecolor": "#2a3f5f",
             "gridcolor": "white",
             "linecolor": "white",
             "minorgridcolor": "white",
             "startlinecolor": "#2a3f5f"
            },
            "type": "carpet"
           }
          ],
          "choropleth": [
           {
            "colorbar": {
             "outlinewidth": 0,
             "ticks": ""
            },
            "type": "choropleth"
           }
          ],
          "contour": [
           {
            "colorbar": {
             "outlinewidth": 0,
             "ticks": ""
            },
            "colorscale": [
             [
              0,
              "#0d0887"
             ],
             [
              0.1111111111111111,
              "#46039f"
             ],
             [
              0.2222222222222222,
              "#7201a8"
             ],
             [
              0.3333333333333333,
              "#9c179e"
             ],
             [
              0.4444444444444444,
              "#bd3786"
             ],
             [
              0.5555555555555556,
              "#d8576b"
             ],
             [
              0.6666666666666666,
              "#ed7953"
             ],
             [
              0.7777777777777778,
              "#fb9f3a"
             ],
             [
              0.8888888888888888,
              "#fdca26"
             ],
             [
              1,
              "#f0f921"
             ]
            ],
            "type": "contour"
           }
          ],
          "contourcarpet": [
           {
            "colorbar": {
             "outlinewidth": 0,
             "ticks": ""
            },
            "type": "contourcarpet"
           }
          ],
          "heatmap": [
           {
            "colorbar": {
             "outlinewidth": 0,
             "ticks": ""
            },
            "colorscale": [
             [
              0,
              "#0d0887"
             ],
             [
              0.1111111111111111,
              "#46039f"
             ],
             [
              0.2222222222222222,
              "#7201a8"
             ],
             [
              0.3333333333333333,
              "#9c179e"
             ],
             [
              0.4444444444444444,
              "#bd3786"
             ],
             [
              0.5555555555555556,
              "#d8576b"
             ],
             [
              0.6666666666666666,
              "#ed7953"
             ],
             [
              0.7777777777777778,
              "#fb9f3a"
             ],
             [
              0.8888888888888888,
              "#fdca26"
             ],
             [
              1,
              "#f0f921"
             ]
            ],
            "type": "heatmap"
           }
          ],
          "heatmapgl": [
           {
            "colorbar": {
             "outlinewidth": 0,
             "ticks": ""
            },
            "colorscale": [
             [
              0,
              "#0d0887"
             ],
             [
              0.1111111111111111,
              "#46039f"
             ],
             [
              0.2222222222222222,
              "#7201a8"
             ],
             [
              0.3333333333333333,
              "#9c179e"
             ],
             [
              0.4444444444444444,
              "#bd3786"
             ],
             [
              0.5555555555555556,
              "#d8576b"
             ],
             [
              0.6666666666666666,
              "#ed7953"
             ],
             [
              0.7777777777777778,
              "#fb9f3a"
             ],
             [
              0.8888888888888888,
              "#fdca26"
             ],
             [
              1,
              "#f0f921"
             ]
            ],
            "type": "heatmapgl"
           }
          ],
          "histogram": [
           {
            "marker": {
             "pattern": {
              "fillmode": "overlay",
              "size": 10,
              "solidity": 0.2
             }
            },
            "type": "histogram"
           }
          ],
          "histogram2d": [
           {
            "colorbar": {
             "outlinewidth": 0,
             "ticks": ""
            },
            "colorscale": [
             [
              0,
              "#0d0887"
             ],
             [
              0.1111111111111111,
              "#46039f"
             ],
             [
              0.2222222222222222,
              "#7201a8"
             ],
             [
              0.3333333333333333,
              "#9c179e"
             ],
             [
              0.4444444444444444,
              "#bd3786"
             ],
             [
              0.5555555555555556,
              "#d8576b"
             ],
             [
              0.6666666666666666,
              "#ed7953"
             ],
             [
              0.7777777777777778,
              "#fb9f3a"
             ],
             [
              0.8888888888888888,
              "#fdca26"
             ],
             [
              1,
              "#f0f921"
             ]
            ],
            "type": "histogram2d"
           }
          ],
          "histogram2dcontour": [
           {
            "colorbar": {
             "outlinewidth": 0,
             "ticks": ""
            },
            "colorscale": [
             [
              0,
              "#0d0887"
             ],
             [
              0.1111111111111111,
              "#46039f"
             ],
             [
              0.2222222222222222,
              "#7201a8"
             ],
             [
              0.3333333333333333,
              "#9c179e"
             ],
             [
              0.4444444444444444,
              "#bd3786"
             ],
             [
              0.5555555555555556,
              "#d8576b"
             ],
             [
              0.6666666666666666,
              "#ed7953"
             ],
             [
              0.7777777777777778,
              "#fb9f3a"
             ],
             [
              0.8888888888888888,
              "#fdca26"
             ],
             [
              1,
              "#f0f921"
             ]
            ],
            "type": "histogram2dcontour"
           }
          ],
          "mesh3d": [
           {
            "colorbar": {
             "outlinewidth": 0,
             "ticks": ""
            },
            "type": "mesh3d"
           }
          ],
          "parcoords": [
           {
            "line": {
             "colorbar": {
              "outlinewidth": 0,
              "ticks": ""
             }
            },
            "type": "parcoords"
           }
          ],
          "pie": [
           {
            "automargin": true,
            "type": "pie"
           }
          ],
          "scatter": [
           {
            "fillpattern": {
             "fillmode": "overlay",
             "size": 10,
             "solidity": 0.2
            },
            "type": "scatter"
           }
          ],
          "scatter3d": [
           {
            "line": {
             "colorbar": {
              "outlinewidth": 0,
              "ticks": ""
             }
            },
            "marker": {
             "colorbar": {
              "outlinewidth": 0,
              "ticks": ""
             }
            },
            "type": "scatter3d"
           }
          ],
          "scattercarpet": [
           {
            "marker": {
             "colorbar": {
              "outlinewidth": 0,
              "ticks": ""
             }
            },
            "type": "scattercarpet"
           }
          ],
          "scattergeo": [
           {
            "marker": {
             "colorbar": {
              "outlinewidth": 0,
              "ticks": ""
             }
            },
            "type": "scattergeo"
           }
          ],
          "scattergl": [
           {
            "marker": {
             "colorbar": {
              "outlinewidth": 0,
              "ticks": ""
             }
            },
            "type": "scattergl"
           }
          ],
          "scattermapbox": [
           {
            "marker": {
             "colorbar": {
              "outlinewidth": 0,
              "ticks": ""
             }
            },
            "type": "scattermapbox"
           }
          ],
          "scatterpolar": [
           {
            "marker": {
             "colorbar": {
              "outlinewidth": 0,
              "ticks": ""
             }
            },
            "type": "scatterpolar"
           }
          ],
          "scatterpolargl": [
           {
            "marker": {
             "colorbar": {
              "outlinewidth": 0,
              "ticks": ""
             }
            },
            "type": "scatterpolargl"
           }
          ],
          "scatterternary": [
           {
            "marker": {
             "colorbar": {
              "outlinewidth": 0,
              "ticks": ""
             }
            },
            "type": "scatterternary"
           }
          ],
          "surface": [
           {
            "colorbar": {
             "outlinewidth": 0,
             "ticks": ""
            },
            "colorscale": [
             [
              0,
              "#0d0887"
             ],
             [
              0.1111111111111111,
              "#46039f"
             ],
             [
              0.2222222222222222,
              "#7201a8"
             ],
             [
              0.3333333333333333,
              "#9c179e"
             ],
             [
              0.4444444444444444,
              "#bd3786"
             ],
             [
              0.5555555555555556,
              "#d8576b"
             ],
             [
              0.6666666666666666,
              "#ed7953"
             ],
             [
              0.7777777777777778,
              "#fb9f3a"
             ],
             [
              0.8888888888888888,
              "#fdca26"
             ],
             [
              1,
              "#f0f921"
             ]
            ],
            "type": "surface"
           }
          ],
          "table": [
           {
            "cells": {
             "fill": {
              "color": "#EBF0F8"
             },
             "line": {
              "color": "white"
             }
            },
            "header": {
             "fill": {
              "color": "#C8D4E3"
             },
             "line": {
              "color": "white"
             }
            },
            "type": "table"
           }
          ]
         },
         "layout": {
          "annotationdefaults": {
           "arrowcolor": "#2a3f5f",
           "arrowhead": 0,
           "arrowwidth": 1
          },
          "autotypenumbers": "strict",
          "coloraxis": {
           "colorbar": {
            "outlinewidth": 0,
            "ticks": ""
           }
          },
          "colorscale": {
           "diverging": [
            [
             0,
             "#8e0152"
            ],
            [
             0.1,
             "#c51b7d"
            ],
            [
             0.2,
             "#de77ae"
            ],
            [
             0.3,
             "#f1b6da"
            ],
            [
             0.4,
             "#fde0ef"
            ],
            [
             0.5,
             "#f7f7f7"
            ],
            [
             0.6,
             "#e6f5d0"
            ],
            [
             0.7,
             "#b8e186"
            ],
            [
             0.8,
             "#7fbc41"
            ],
            [
             0.9,
             "#4d9221"
            ],
            [
             1,
             "#276419"
            ]
           ],
           "sequential": [
            [
             0,
             "#0d0887"
            ],
            [
             0.1111111111111111,
             "#46039f"
            ],
            [
             0.2222222222222222,
             "#7201a8"
            ],
            [
             0.3333333333333333,
             "#9c179e"
            ],
            [
             0.4444444444444444,
             "#bd3786"
            ],
            [
             0.5555555555555556,
             "#d8576b"
            ],
            [
             0.6666666666666666,
             "#ed7953"
            ],
            [
             0.7777777777777778,
             "#fb9f3a"
            ],
            [
             0.8888888888888888,
             "#fdca26"
            ],
            [
             1,
             "#f0f921"
            ]
           ],
           "sequentialminus": [
            [
             0,
             "#0d0887"
            ],
            [
             0.1111111111111111,
             "#46039f"
            ],
            [
             0.2222222222222222,
             "#7201a8"
            ],
            [
             0.3333333333333333,
             "#9c179e"
            ],
            [
             0.4444444444444444,
             "#bd3786"
            ],
            [
             0.5555555555555556,
             "#d8576b"
            ],
            [
             0.6666666666666666,
             "#ed7953"
            ],
            [
             0.7777777777777778,
             "#fb9f3a"
            ],
            [
             0.8888888888888888,
             "#fdca26"
            ],
            [
             1,
             "#f0f921"
            ]
           ]
          },
          "colorway": [
           "#636efa",
           "#EF553B",
           "#00cc96",
           "#ab63fa",
           "#FFA15A",
           "#19d3f3",
           "#FF6692",
           "#B6E880",
           "#FF97FF",
           "#FECB52"
          ],
          "font": {
           "color": "#2a3f5f"
          },
          "geo": {
           "bgcolor": "white",
           "lakecolor": "white",
           "landcolor": "#E5ECF6",
           "showlakes": true,
           "showland": true,
           "subunitcolor": "white"
          },
          "hoverlabel": {
           "align": "left"
          },
          "hovermode": "closest",
          "mapbox": {
           "style": "light"
          },
          "paper_bgcolor": "white",
          "plot_bgcolor": "#E5ECF6",
          "polar": {
           "angularaxis": {
            "gridcolor": "white",
            "linecolor": "white",
            "ticks": ""
           },
           "bgcolor": "#E5ECF6",
           "radialaxis": {
            "gridcolor": "white",
            "linecolor": "white",
            "ticks": ""
           }
          },
          "scene": {
           "xaxis": {
            "backgroundcolor": "#E5ECF6",
            "gridcolor": "white",
            "gridwidth": 2,
            "linecolor": "white",
            "showbackground": true,
            "ticks": "",
            "zerolinecolor": "white"
           },
           "yaxis": {
            "backgroundcolor": "#E5ECF6",
            "gridcolor": "white",
            "gridwidth": 2,
            "linecolor": "white",
            "showbackground": true,
            "ticks": "",
            "zerolinecolor": "white"
           },
           "zaxis": {
            "backgroundcolor": "#E5ECF6",
            "gridcolor": "white",
            "gridwidth": 2,
            "linecolor": "white",
            "showbackground": true,
            "ticks": "",
            "zerolinecolor": "white"
           }
          },
          "shapedefaults": {
           "line": {
            "color": "#2a3f5f"
           }
          },
          "ternary": {
           "aaxis": {
            "gridcolor": "white",
            "linecolor": "white",
            "ticks": ""
           },
           "baxis": {
            "gridcolor": "white",
            "linecolor": "white",
            "ticks": ""
           },
           "bgcolor": "#E5ECF6",
           "caxis": {
            "gridcolor": "white",
            "linecolor": "white",
            "ticks": ""
           }
          },
          "title": {
           "x": 0.05
          },
          "xaxis": {
           "automargin": true,
           "gridcolor": "white",
           "linecolor": "white",
           "ticks": "",
           "title": {
            "standoff": 15
           },
           "zerolinecolor": "white",
           "zerolinewidth": 2
          },
          "yaxis": {
           "automargin": true,
           "gridcolor": "white",
           "linecolor": "white",
           "ticks": "",
           "title": {
            "standoff": 15
           },
           "zerolinecolor": "white",
           "zerolinewidth": 2
          }
         }
        },
        "title": {
         "text": "Samples with labels"
        },
        "width": 550,
        "xaxis": {
         "anchor": "y",
         "domain": [
          0,
          1
         ],
         "title": {
          "text": "x_0"
         }
        },
        "yaxis": {
         "anchor": "x",
         "domain": [
          0,
          1
         ],
         "title": {
          "text": "x_1"
         }
        }
       }
      }
     },
     "metadata": {},
     "output_type": "display_data"
    }
   ],
   "source": [
    "# Plot the sample df\n",
    "import math\n",
    "import plotly.express as px \n",
    "fig = px.scatter(sample_df, x=\"x_0\", y=\"x_1\", color=\"f_1\", width=550, height=525, title=\"Samples with labels\")\n",
    "fig.add_shape(type=\"circle\",\n",
    "    xref=\"x\", yref=\"y\",\n",
    "    opacity=0.1,\n",
    "    fillcolor=\"red\",\n",
    "    x0=-math.sqrt(2), y0=-math.sqrt(2), x1=math.sqrt(2), y1=math.sqrt(2),\n",
    "    line_color=\"red\",\n",
    ")\n",
    "fig.add_shape(type=\"circle\",\n",
    "    xref=\"x\", yref=\"y\",\n",
    "    opacity=0.2,\n",
    "    fillcolor=\"LightSeaGreen\",\n",
    "    x0=0, y0=0, x1=2, y1=2,\n",
    "    line_color=\"LightSeaGreen\",\n",
    ")\n",
    "fig.show()"
   ]
  },
  {
   "cell_type": "markdown",
   "metadata": {},
   "source": [
    "## Evaluate the classification model performance (outside of the optimization procedure)"
   ]
  },
  {
   "cell_type": "code",
   "execution_count": 163,
   "metadata": {},
   "outputs": [
    {
     "name": "stderr",
     "output_type": "stream",
     "text": [
      "c:\\ProgramData\\Anaconda3\\envs\\bofire-env\\lib\\site-packages\\botorch\\models\\model.py:230: RuntimeWarning:\n",
      "\n",
      "Could not update `train_inputs` with transformed inputs since _MLPEnsemble does not have a `train_inputs` attribute. Make sure that the `input_transform` is applied to both the train inputs and test inputs.\n",
      "\n",
      "c:\\ProgramData\\Anaconda3\\envs\\bofire-env\\lib\\site-packages\\botorch\\models\\model.py:230: RuntimeWarning:\n",
      "\n",
      "Could not update `train_inputs` with transformed inputs since _MLPEnsemble does not have a `train_inputs` attribute. Make sure that the `input_transform` is applied to both the train inputs and test inputs.\n",
      "\n",
      "c:\\ProgramData\\Anaconda3\\envs\\bofire-env\\lib\\site-packages\\botorch\\models\\model.py:230: RuntimeWarning:\n",
      "\n",
      "Could not update `train_inputs` with transformed inputs since _MLPEnsemble does not have a `train_inputs` attribute. Make sure that the `input_transform` is applied to both the train inputs and test inputs.\n",
      "\n",
      "c:\\ProgramData\\Anaconda3\\envs\\bofire-env\\lib\\site-packages\\botorch\\models\\model.py:230: RuntimeWarning:\n",
      "\n",
      "Could not update `train_inputs` with transformed inputs since _MLPEnsemble does not have a `train_inputs` attribute. Make sure that the `input_transform` is applied to both the train inputs and test inputs.\n",
      "\n",
      "c:\\ProgramData\\Anaconda3\\envs\\bofire-env\\lib\\site-packages\\botorch\\models\\model.py:230: RuntimeWarning:\n",
      "\n",
      "Could not update `train_inputs` with transformed inputs since _MLPEnsemble does not have a `train_inputs` attribute. Make sure that the `input_transform` is applied to both the train inputs and test inputs.\n",
      "\n",
      "c:\\ProgramData\\Anaconda3\\envs\\bofire-env\\lib\\site-packages\\botorch\\models\\model.py:230: RuntimeWarning:\n",
      "\n",
      "Could not update `train_inputs` with transformed inputs since _MLPEnsemble does not have a `train_inputs` attribute. Make sure that the `input_transform` is applied to both the train inputs and test inputs.\n",
      "\n"
     ]
    }
   ],
   "source": [
    "# Import packages\n",
    "import bofire.surrogates.api as surrogates\n",
    "from bofire.data_models.surrogates.api import ClassificationMLPEnsemble\n",
    "from bofire.surrogates.diagnostics import ClassificationMetricsEnum\n",
    "\n",
    "# Instantiate the surrogate model \n",
    "model = ClassificationMLPEnsemble(inputs=domain1.inputs, outputs=Outputs(features=[domain1.outputs.get_by_key(\"f_1\")]), lr=0.03, n_epochs=100, hidden_layer_sizes=(4,2,), weight_decay=0.0, batch_size=10, activation=\"tanh\")\n",
    "surrogate = surrogates.map(model)\n",
    "\n",
    "# Fit the model to the classification data\n",
    "cv_df = sample_df.drop([\"f_0\", \"f_2\"], axis=1)\n",
    "cv_df[\"valid_f_1\"] = 1\n",
    "cv = surrogate.cross_validate(cv_df, folds=3)\n"
   ]
  },
  {
   "cell_type": "code",
   "execution_count": 164,
   "metadata": {},
   "outputs": [
    {
     "data": {
      "text/html": [
       "<div>\n",
       "<style scoped>\n",
       "    .dataframe tbody tr th:only-of-type {\n",
       "        vertical-align: middle;\n",
       "    }\n",
       "\n",
       "    .dataframe tbody tr th {\n",
       "        vertical-align: top;\n",
       "    }\n",
       "\n",
       "    .dataframe thead th {\n",
       "        text-align: right;\n",
       "    }\n",
       "</style>\n",
       "<table border=\"1\" class=\"dataframe\">\n",
       "  <thead>\n",
       "    <tr style=\"text-align: right;\">\n",
       "      <th></th>\n",
       "      <th>ACCURACY</th>\n",
       "      <th>F1</th>\n",
       "    </tr>\n",
       "  </thead>\n",
       "  <tbody>\n",
       "    <tr>\n",
       "      <th>0</th>\n",
       "      <td>0.68</td>\n",
       "      <td>0.68</td>\n",
       "    </tr>\n",
       "  </tbody>\n",
       "</table>\n",
       "</div>"
      ],
      "text/plain": [
       "   ACCURACY    F1\n",
       "0      0.68  0.68"
      ]
     },
     "execution_count": 164,
     "metadata": {},
     "output_type": "execute_result"
    }
   ],
   "source": [
    "# Print results\n",
    "cv[0].get_metrics(metrics=ClassificationMetricsEnum, combine_folds=True) # print training set performance"
   ]
  },
  {
   "cell_type": "code",
   "execution_count": 165,
   "metadata": {},
   "outputs": [
    {
     "data": {
      "text/html": [
       "<div>\n",
       "<style scoped>\n",
       "    .dataframe tbody tr th:only-of-type {\n",
       "        vertical-align: middle;\n",
       "    }\n",
       "\n",
       "    .dataframe tbody tr th {\n",
       "        vertical-align: top;\n",
       "    }\n",
       "\n",
       "    .dataframe thead th {\n",
       "        text-align: right;\n",
       "    }\n",
       "</style>\n",
       "<table border=\"1\" class=\"dataframe\">\n",
       "  <thead>\n",
       "    <tr style=\"text-align: right;\">\n",
       "      <th></th>\n",
       "      <th>ACCURACY</th>\n",
       "      <th>F1</th>\n",
       "    </tr>\n",
       "  </thead>\n",
       "  <tbody>\n",
       "    <tr>\n",
       "      <th>0</th>\n",
       "      <td>0.54</td>\n",
       "      <td>0.54</td>\n",
       "    </tr>\n",
       "  </tbody>\n",
       "</table>\n",
       "</div>"
      ],
      "text/plain": [
       "   ACCURACY    F1\n",
       "0      0.54  0.54"
      ]
     },
     "execution_count": 165,
     "metadata": {},
     "output_type": "execute_result"
    }
   ],
   "source": [
    "cv[1].get_metrics(metrics=ClassificationMetricsEnum, combine_folds=True) # print test set performance"
   ]
  },
  {
   "cell_type": "markdown",
   "metadata": {},
   "source": [
    "## Setup strategy and ask for candidates\n",
    "\n"
   ]
  },
  {
   "cell_type": "code",
   "execution_count": 166,
   "metadata": {},
   "outputs": [],
   "source": [
    "from bofire.data_models.acquisition_functions.api import qEI\n",
    "from bofire.data_models.strategies.api import SoboStrategy\n",
    "from bofire.data_models.surrogates.api import BotorchSurrogates, ClassificationMLPEnsemble, MixedSingleTaskGPSurrogate\n",
    "from bofire.data_models.domain.api import Outputs\n",
    "\n",
    "strategy_data = SoboStrategy(domain=domain1, \n",
    "                             acquisition_function=qEI(), \n",
    "                             surrogate_specs=BotorchSurrogates(surrogates=\n",
    "                                    [\n",
    "                                        ClassificationMLPEnsemble(inputs=domain1.inputs, outputs=Outputs(features=[domain1.outputs.get_by_key(\"f_1\")]), lr=0.03, n_epochs=100, hidden_layer_sizes=(4,2,), weight_decay=0.0, batch_size=10, activation=\"tanh\"),\n",
    "                                        MixedSingleTaskGPSurrogate(inputs=domain1.inputs, outputs=Outputs(features=[domain1.outputs.get_by_key(\"f_2\")]))\n",
    "                                    ]\n",
    "                                )\n",
    "                            )\n",
    "\n",
    "strategy = strategies.map(strategy_data)\n",
    "\n",
    "strategy.tell(sample_df)"
   ]
  },
  {
   "cell_type": "code",
   "execution_count": 167,
   "metadata": {},
   "outputs": [
    {
     "name": "stderr",
     "output_type": "stream",
     "text": [
      "c:\\ProgramData\\Anaconda3\\envs\\bofire-env\\lib\\site-packages\\botorch\\models\\model.py:230: RuntimeWarning:\n",
      "\n",
      "Could not update `train_inputs` with transformed inputs since _MLPEnsemble does not have a `train_inputs` attribute. Make sure that the `input_transform` is applied to both the train inputs and test inputs.\n",
      "\n",
      "c:\\ProgramData\\Anaconda3\\envs\\bofire-env\\lib\\site-packages\\botorch\\models\\model.py:230: RuntimeWarning:\n",
      "\n",
      "Could not update `train_inputs` with transformed inputs since _MLPEnsemble does not have a `train_inputs` attribute. Make sure that the `input_transform` is applied to both the train inputs and test inputs.\n",
      "\n",
      "c:\\ProgramData\\Anaconda3\\envs\\bofire-env\\lib\\site-packages\\botorch\\models\\model.py:230: RuntimeWarning:\n",
      "\n",
      "Could not update `train_inputs` with transformed inputs since _MLPEnsemble does not have a `train_inputs` attribute. Make sure that the `input_transform` is applied to both the train inputs and test inputs.\n",
      "\n"
     ]
    },
    {
     "data": {
      "text/html": [
       "<div>\n",
       "<style scoped>\n",
       "    .dataframe tbody tr th:only-of-type {\n",
       "        vertical-align: middle;\n",
       "    }\n",
       "\n",
       "    .dataframe tbody tr th {\n",
       "        vertical-align: top;\n",
       "    }\n",
       "\n",
       "    .dataframe thead th {\n",
       "        text-align: right;\n",
       "    }\n",
       "</style>\n",
       "<table border=\"1\" class=\"dataframe\">\n",
       "  <thead>\n",
       "    <tr style=\"text-align: right;\">\n",
       "      <th></th>\n",
       "      <th>x_0</th>\n",
       "      <th>x_1</th>\n",
       "      <th>x_3</th>\n",
       "      <th>f_1_pred</th>\n",
       "      <th>f_1_sd</th>\n",
       "      <th>f_0_pred</th>\n",
       "      <th>f_2_pred</th>\n",
       "      <th>f_1_unacceptable_prob</th>\n",
       "      <th>f_1_acceptable_prob</th>\n",
       "      <th>f_1_ideal_prob</th>\n",
       "      <th>f_0_sd</th>\n",
       "      <th>f_2_sd</th>\n",
       "      <th>f_1_unacceptable_sd</th>\n",
       "      <th>f_1_acceptable_sd</th>\n",
       "      <th>f_1_ideal_sd</th>\n",
       "      <th>f_0_des</th>\n",
       "      <th>f_2_des</th>\n",
       "      <th>f_1_des</th>\n",
       "    </tr>\n",
       "  </thead>\n",
       "  <tbody>\n",
       "    <tr>\n",
       "      <th>0</th>\n",
       "      <td>0.403369</td>\n",
       "      <td>0.161374</td>\n",
       "      <td>0</td>\n",
       "      <td>acceptable</td>\n",
       "      <td>0.0</td>\n",
       "      <td>0.092455</td>\n",
       "      <td>0.004524</td>\n",
       "      <td>0.399619</td>\n",
       "      <td>0.599358</td>\n",
       "      <td>0.001023</td>\n",
       "      <td>2.192848</td>\n",
       "      <td>0.002932</td>\n",
       "      <td>0.542024</td>\n",
       "      <td>0.541092</td>\n",
       "      <td>0.001150</td>\n",
       "      <td>-0.092455</td>\n",
       "      <td>0.499435</td>\n",
       "      <td>0.600381</td>\n",
       "    </tr>\n",
       "    <tr>\n",
       "      <th>1</th>\n",
       "      <td>0.291096</td>\n",
       "      <td>0.091716</td>\n",
       "      <td>1</td>\n",
       "      <td>acceptable</td>\n",
       "      <td>0.0</td>\n",
       "      <td>0.338534</td>\n",
       "      <td>1.005305</td>\n",
       "      <td>0.112541</td>\n",
       "      <td>0.886353</td>\n",
       "      <td>0.001106</td>\n",
       "      <td>2.772511</td>\n",
       "      <td>0.002915</td>\n",
       "      <td>0.197303</td>\n",
       "      <td>0.196632</td>\n",
       "      <td>0.001800</td>\n",
       "      <td>-0.338534</td>\n",
       "      <td>0.376918</td>\n",
       "      <td>0.887459</td>\n",
       "    </tr>\n",
       "    <tr>\n",
       "      <th>2</th>\n",
       "      <td>1.319030</td>\n",
       "      <td>1.750000</td>\n",
       "      <td>1</td>\n",
       "      <td>unacceptable</td>\n",
       "      <td>0.0</td>\n",
       "      <td>-2.338611</td>\n",
       "      <td>1.003526</td>\n",
       "      <td>0.688225</td>\n",
       "      <td>0.110699</td>\n",
       "      <td>0.201075</td>\n",
       "      <td>4.714258</td>\n",
       "      <td>0.003410</td>\n",
       "      <td>0.449328</td>\n",
       "      <td>0.240964</td>\n",
       "      <td>0.445632</td>\n",
       "      <td>2.338611</td>\n",
       "      <td>0.377126</td>\n",
       "      <td>0.311775</td>\n",
       "    </tr>\n",
       "    <tr>\n",
       "      <th>3</th>\n",
       "      <td>0.086516</td>\n",
       "      <td>-0.000797</td>\n",
       "      <td>0</td>\n",
       "      <td>acceptable</td>\n",
       "      <td>0.0</td>\n",
       "      <td>0.900832</td>\n",
       "      <td>0.004706</td>\n",
       "      <td>0.398625</td>\n",
       "      <td>0.600412</td>\n",
       "      <td>0.000963</td>\n",
       "      <td>2.342997</td>\n",
       "      <td>0.002935</td>\n",
       "      <td>0.542560</td>\n",
       "      <td>0.541685</td>\n",
       "      <td>0.001131</td>\n",
       "      <td>-0.900832</td>\n",
       "      <td>0.499412</td>\n",
       "      <td>0.601375</td>\n",
       "    </tr>\n",
       "    <tr>\n",
       "      <th>4</th>\n",
       "      <td>-0.228315</td>\n",
       "      <td>0.046514</td>\n",
       "      <td>0</td>\n",
       "      <td>acceptable</td>\n",
       "      <td>0.0</td>\n",
       "      <td>1.500286</td>\n",
       "      <td>0.004834</td>\n",
       "      <td>0.397428</td>\n",
       "      <td>0.601626</td>\n",
       "      <td>0.000946</td>\n",
       "      <td>2.390450</td>\n",
       "      <td>0.002935</td>\n",
       "      <td>0.541194</td>\n",
       "      <td>0.540336</td>\n",
       "      <td>0.001115</td>\n",
       "      <td>-1.500286</td>\n",
       "      <td>0.499396</td>\n",
       "      <td>0.602572</td>\n",
       "    </tr>\n",
       "    <tr>\n",
       "      <th>5</th>\n",
       "      <td>0.076667</td>\n",
       "      <td>-0.004871</td>\n",
       "      <td>1</td>\n",
       "      <td>acceptable</td>\n",
       "      <td>0.0</td>\n",
       "      <td>0.979306</td>\n",
       "      <td>1.005360</td>\n",
       "      <td>0.198561</td>\n",
       "      <td>0.800833</td>\n",
       "      <td>0.000606</td>\n",
       "      <td>2.372284</td>\n",
       "      <td>0.002916</td>\n",
       "      <td>0.237685</td>\n",
       "      <td>0.237178</td>\n",
       "      <td>0.000844</td>\n",
       "      <td>-0.979306</td>\n",
       "      <td>0.376911</td>\n",
       "      <td>0.801439</td>\n",
       "    </tr>\n",
       "    <tr>\n",
       "      <th>6</th>\n",
       "      <td>0.308219</td>\n",
       "      <td>0.087674</td>\n",
       "      <td>0</td>\n",
       "      <td>acceptable</td>\n",
       "      <td>0.0</td>\n",
       "      <td>0.222725</td>\n",
       "      <td>0.004599</td>\n",
       "      <td>0.399124</td>\n",
       "      <td>0.599887</td>\n",
       "      <td>0.000989</td>\n",
       "      <td>2.834773</td>\n",
       "      <td>0.002933</td>\n",
       "      <td>0.542427</td>\n",
       "      <td>0.541527</td>\n",
       "      <td>0.001137</td>\n",
       "      <td>-0.222725</td>\n",
       "      <td>0.499425</td>\n",
       "      <td>0.600876</td>\n",
       "    </tr>\n",
       "    <tr>\n",
       "      <th>7</th>\n",
       "      <td>0.829716</td>\n",
       "      <td>0.681121</td>\n",
       "      <td>0</td>\n",
       "      <td>unacceptable</td>\n",
       "      <td>0.0</td>\n",
       "      <td>-0.348330</td>\n",
       "      <td>0.003866</td>\n",
       "      <td>0.510435</td>\n",
       "      <td>0.418242</td>\n",
       "      <td>0.071323</td>\n",
       "      <td>1.065240</td>\n",
       "      <td>0.002941</td>\n",
       "      <td>0.496067</td>\n",
       "      <td>0.425085</td>\n",
       "      <td>0.157438</td>\n",
       "      <td>0.348330</td>\n",
       "      <td>0.499517</td>\n",
       "      <td>0.489565</td>\n",
       "    </tr>\n",
       "    <tr>\n",
       "      <th>8</th>\n",
       "      <td>-0.219844</td>\n",
       "      <td>0.044418</td>\n",
       "      <td>1</td>\n",
       "      <td>acceptable</td>\n",
       "      <td>0.0</td>\n",
       "      <td>1.494160</td>\n",
       "      <td>1.005372</td>\n",
       "      <td>0.239904</td>\n",
       "      <td>0.759543</td>\n",
       "      <td>0.000553</td>\n",
       "      <td>2.332408</td>\n",
       "      <td>0.002915</td>\n",
       "      <td>0.304143</td>\n",
       "      <td>0.303688</td>\n",
       "      <td>0.000761</td>\n",
       "      <td>-1.494160</td>\n",
       "      <td>0.376910</td>\n",
       "      <td>0.760096</td>\n",
       "    </tr>\n",
       "    <tr>\n",
       "      <th>9</th>\n",
       "      <td>-0.063892</td>\n",
       "      <td>0.013738</td>\n",
       "      <td>0</td>\n",
       "      <td>acceptable</td>\n",
       "      <td>0.0</td>\n",
       "      <td>1.097156</td>\n",
       "      <td>0.004757</td>\n",
       "      <td>0.398289</td>\n",
       "      <td>0.600757</td>\n",
       "      <td>0.000954</td>\n",
       "      <td>1.653161</td>\n",
       "      <td>0.002935</td>\n",
       "      <td>0.542274</td>\n",
       "      <td>0.541407</td>\n",
       "      <td>0.001125</td>\n",
       "      <td>-1.097156</td>\n",
       "      <td>0.499405</td>\n",
       "      <td>0.601711</td>\n",
       "    </tr>\n",
       "  </tbody>\n",
       "</table>\n",
       "</div>"
      ],
      "text/plain": [
       "        x_0       x_1 x_3      f_1_pred  f_1_sd  f_0_pred  f_2_pred  \\\n",
       "0  0.403369  0.161374   0    acceptable     0.0  0.092455  0.004524   \n",
       "1  0.291096  0.091716   1    acceptable     0.0  0.338534  1.005305   \n",
       "2  1.319030  1.750000   1  unacceptable     0.0 -2.338611  1.003526   \n",
       "3  0.086516 -0.000797   0    acceptable     0.0  0.900832  0.004706   \n",
       "4 -0.228315  0.046514   0    acceptable     0.0  1.500286  0.004834   \n",
       "5  0.076667 -0.004871   1    acceptable     0.0  0.979306  1.005360   \n",
       "6  0.308219  0.087674   0    acceptable     0.0  0.222725  0.004599   \n",
       "7  0.829716  0.681121   0  unacceptable     0.0 -0.348330  0.003866   \n",
       "8 -0.219844  0.044418   1    acceptable     0.0  1.494160  1.005372   \n",
       "9 -0.063892  0.013738   0    acceptable     0.0  1.097156  0.004757   \n",
       "\n",
       "   f_1_unacceptable_prob  f_1_acceptable_prob  f_1_ideal_prob    f_0_sd  \\\n",
       "0               0.399619             0.599358        0.001023  2.192848   \n",
       "1               0.112541             0.886353        0.001106  2.772511   \n",
       "2               0.688225             0.110699        0.201075  4.714258   \n",
       "3               0.398625             0.600412        0.000963  2.342997   \n",
       "4               0.397428             0.601626        0.000946  2.390450   \n",
       "5               0.198561             0.800833        0.000606  2.372284   \n",
       "6               0.399124             0.599887        0.000989  2.834773   \n",
       "7               0.510435             0.418242        0.071323  1.065240   \n",
       "8               0.239904             0.759543        0.000553  2.332408   \n",
       "9               0.398289             0.600757        0.000954  1.653161   \n",
       "\n",
       "     f_2_sd  f_1_unacceptable_sd  f_1_acceptable_sd  f_1_ideal_sd   f_0_des  \\\n",
       "0  0.002932             0.542024           0.541092      0.001150 -0.092455   \n",
       "1  0.002915             0.197303           0.196632      0.001800 -0.338534   \n",
       "2  0.003410             0.449328           0.240964      0.445632  2.338611   \n",
       "3  0.002935             0.542560           0.541685      0.001131 -0.900832   \n",
       "4  0.002935             0.541194           0.540336      0.001115 -1.500286   \n",
       "5  0.002916             0.237685           0.237178      0.000844 -0.979306   \n",
       "6  0.002933             0.542427           0.541527      0.001137 -0.222725   \n",
       "7  0.002941             0.496067           0.425085      0.157438  0.348330   \n",
       "8  0.002915             0.304143           0.303688      0.000761 -1.494160   \n",
       "9  0.002935             0.542274           0.541407      0.001125 -1.097156   \n",
       "\n",
       "    f_2_des   f_1_des  \n",
       "0  0.499435  0.600381  \n",
       "1  0.376918  0.887459  \n",
       "2  0.377126  0.311775  \n",
       "3  0.499412  0.601375  \n",
       "4  0.499396  0.602572  \n",
       "5  0.376911  0.801439  \n",
       "6  0.499425  0.600876  \n",
       "7  0.499517  0.489565  \n",
       "8  0.376910  0.760096  \n",
       "9  0.499405  0.601711  "
      ]
     },
     "execution_count": 167,
     "metadata": {},
     "output_type": "execute_result"
    }
   ],
   "source": [
    "candidates = strategy.ask(10)\n",
    "candidates"
   ]
  },
  {
   "cell_type": "markdown",
   "metadata": {},
   "source": [
    "## Check classification of proposed candidates\n",
    "\n",
    "Use the logic from above to verify the classification values"
   ]
  },
  {
   "cell_type": "code",
   "execution_count": 168,
   "metadata": {},
   "outputs": [],
   "source": [
    "# Append to the candidates\n",
    "candidates[\"f_1_true\"] = constraints(x=candidates)"
   ]
  },
  {
   "cell_type": "code",
   "execution_count": 169,
   "metadata": {},
   "outputs": [
    {
     "data": {
      "text/html": [
       "<div>\n",
       "<style scoped>\n",
       "    .dataframe tbody tr th:only-of-type {\n",
       "        vertical-align: middle;\n",
       "    }\n",
       "\n",
       "    .dataframe tbody tr th {\n",
       "        vertical-align: top;\n",
       "    }\n",
       "\n",
       "    .dataframe thead th {\n",
       "        text-align: right;\n",
       "    }\n",
       "</style>\n",
       "<table border=\"1\" class=\"dataframe\">\n",
       "  <thead>\n",
       "    <tr style=\"text-align: right;\">\n",
       "      <th></th>\n",
       "      <th>f_1_pred</th>\n",
       "      <th>f_1_true</th>\n",
       "    </tr>\n",
       "  </thead>\n",
       "  <tbody>\n",
       "    <tr>\n",
       "      <th>0</th>\n",
       "      <td>acceptable</td>\n",
       "      <td>acceptable</td>\n",
       "    </tr>\n",
       "    <tr>\n",
       "      <th>1</th>\n",
       "      <td>acceptable</td>\n",
       "      <td>acceptable</td>\n",
       "    </tr>\n",
       "    <tr>\n",
       "      <th>2</th>\n",
       "      <td>unacceptable</td>\n",
       "      <td>unacceptable</td>\n",
       "    </tr>\n",
       "    <tr>\n",
       "      <th>3</th>\n",
       "      <td>acceptable</td>\n",
       "      <td>acceptable</td>\n",
       "    </tr>\n",
       "    <tr>\n",
       "      <th>4</th>\n",
       "      <td>acceptable</td>\n",
       "      <td>acceptable</td>\n",
       "    </tr>\n",
       "    <tr>\n",
       "      <th>5</th>\n",
       "      <td>acceptable</td>\n",
       "      <td>acceptable</td>\n",
       "    </tr>\n",
       "    <tr>\n",
       "      <th>6</th>\n",
       "      <td>acceptable</td>\n",
       "      <td>acceptable</td>\n",
       "    </tr>\n",
       "    <tr>\n",
       "      <th>7</th>\n",
       "      <td>unacceptable</td>\n",
       "      <td>ideal</td>\n",
       "    </tr>\n",
       "    <tr>\n",
       "      <th>8</th>\n",
       "      <td>acceptable</td>\n",
       "      <td>acceptable</td>\n",
       "    </tr>\n",
       "    <tr>\n",
       "      <th>9</th>\n",
       "      <td>acceptable</td>\n",
       "      <td>acceptable</td>\n",
       "    </tr>\n",
       "  </tbody>\n",
       "</table>\n",
       "</div>"
      ],
      "text/plain": [
       "       f_1_pred      f_1_true\n",
       "0    acceptable    acceptable\n",
       "1    acceptable    acceptable\n",
       "2  unacceptable  unacceptable\n",
       "3    acceptable    acceptable\n",
       "4    acceptable    acceptable\n",
       "5    acceptable    acceptable\n",
       "6    acceptable    acceptable\n",
       "7  unacceptable         ideal\n",
       "8    acceptable    acceptable\n",
       "9    acceptable    acceptable"
      ]
     },
     "execution_count": 169,
     "metadata": {},
     "output_type": "execute_result"
    }
   ],
   "source": [
    "# Print results\n",
    "candidates[[\"f_1_pred\", \"f_1_true\"]]"
   ]
  }
 ],
 "metadata": {
  "kernelspec": {
   "display_name": "bofire",
   "language": "python",
   "name": "python3"
  },
  "language_info": {
   "codemirror_mode": {
    "name": "ipython",
    "version": 3
   },
   "file_extension": ".py",
   "mimetype": "text/x-python",
   "name": "python",
   "nbconvert_exporter": "python",
   "pygments_lexer": "ipython3",
   "version": "3.9.0"
  },
  "orig_nbformat": 4,
  "vscode": {
   "interpreter": {
    "hash": "6f21737eef49beedf03d74399b47fe38d73eff760737ca33d38b9fe616638e91"
   }
  }
 },
 "nbformat": 4,
 "nbformat_minor": 2
}
