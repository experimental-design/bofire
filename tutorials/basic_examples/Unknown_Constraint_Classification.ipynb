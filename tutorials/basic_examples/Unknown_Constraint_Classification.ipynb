{
 "cells": [
  {
   "cell_type": "markdown",
   "id": "0",
   "metadata": {
    "papermill": {
     "duration": 0.005873,
     "end_time": "2024-10-10T20:34:32.182482",
     "exception": false,
     "start_time": "2024-10-10T20:34:32.176609",
     "status": "completed"
    },
    "tags": []
   },
   "source": [
    "# Classification Surrogate Tests\n",
    "\n",
    "We are interested in testing whether or not a surrogate model can correctly identify unknown constraints based on categorical criteria with classification surrogates. Essentially, we want to account for scenarios where specialists can look at a set of experiments and label outcomes as 'acceptable', 'unacceptable', 'ideal', etc. \n",
    "\n",
    "This involves new models that produce `CategoricalOutput`'s rather than continuous outputs. Mathematically, if $g_{\\theta}:\\mathbb{R}^d\\to[0,1]^c$ represents the function governed by learnable parameters $\\theta$ which outputs a probability vector over $c$ potential classes (i.e. for input $x\\in\\mathbb{R}^d$, $g_{\\theta}(x)^\\top\\mathbf{1}=1$ where $\\mathbf{1}$ is the vector of all 1's) and we have acceptibility criteria for the corresponding classes given by $a\\in\\{0,1\\}^c$, we can compute the scalar output $g_{\\theta}(x)^\\top a\\in[0,1]$ which represents the expected value of acceptance as an objective value to be passed in as a constrained function.\n",
    "\n",
    "In this script, we look at the [Rosenbrock function constrained to a disk](https://en.wikipedia.org/wiki/Test_functions_for_optimization#cite_note-12) which attains a global minima at $(x_0^*,x_1^*)=(1.0, 1.0)$. To facilitate testing the functionality offered by BoFire, we label all points inside of the circle $x_0^2+x_1^2\\le2$ as 'acceptable' and further label anything inside of the intersection of this circle and the circle $(x_0-1)^2+(x_1-1)^2\\le1.0$ as 'ideal'; points lying outside of these two locations are labeled as \"unacceptable.\""
   ]
  },
  {
   "cell_type": "code",
   "execution_count": null,
   "id": "1",
   "metadata": {
    "papermill": {
     "duration": 2.996427,
     "end_time": "2024-10-10T20:34:35.182910",
     "exception": false,
     "start_time": "2024-10-10T20:34:32.186483",
     "status": "completed"
    },
    "tags": []
   },
   "outputs": [],
   "source": [
    "# Import packages\n",
    "import pandas as pd\n",
    "\n",
    "import bofire.strategies.api as strategies\n",
    "from bofire.data_models.api import Domain, Inputs, Outputs\n",
    "from bofire.data_models.features.api import (\n",
    "    CategoricalInput,\n",
    "    CategoricalOutput,\n",
    "    ContinuousInput,\n",
    "    ContinuousOutput,\n",
    ")\n",
    "from bofire.data_models.objectives.api import (\n",
    "    ConstrainedCategoricalObjective,\n",
    "    MinimizeObjective,\n",
    ")"
   ]
  },
  {
   "attachments": {},
   "cell_type": "markdown",
   "id": "2",
   "metadata": {
    "papermill": {
     "duration": 0.001646,
     "end_time": "2024-10-10T20:34:35.186389",
     "exception": false,
     "start_time": "2024-10-10T20:34:35.184743",
     "status": "completed"
    },
    "tags": []
   },
   "source": [
    "## Manual setup of the optimization domain\n",
    "\n",
    "The following cells show how to manually setup the optimization problem in BoFire for didactic purposes."
   ]
  },
  {
   "cell_type": "code",
   "execution_count": null,
   "id": "3",
   "metadata": {
    "papermill": {
     "duration": 0.005827,
     "end_time": "2024-10-10T20:34:35.193653",
     "exception": false,
     "start_time": "2024-10-10T20:34:35.187826",
     "status": "completed"
    },
    "tags": []
   },
   "outputs": [],
   "source": [
    "# Write helper functions which give the objective and the constraints\n",
    "def rosenbrock(x: pd.Series) -> pd.Series:\n",
    "    assert \"x_0\" in x.columns\n",
    "    assert \"x_1\" in x.columns\n",
    "    return (1 - x[\"x_0\"]) ** 2 + 100 * (x[\"x_1\"] - x[\"x_0\"] ** 2) ** 2\n",
    "\n",
    "\n",
    "def constraints(x: pd.Series) -> pd.Series:\n",
    "    assert \"x_0\" in x.columns\n",
    "    assert \"x_1\" in x.columns\n",
    "    feasiblity_vector = []\n",
    "    for _, row in x.iterrows():\n",
    "        if (row[\"x_0\"] ** 2 + row[\"x_1\"] ** 2 <= 2.0) and (\n",
    "            (row[\"x_0\"] - 1.0) ** 2 + (row[\"x_1\"] - 1.0) ** 2 <= 1.0\n",
    "        ):\n",
    "            feasiblity_vector.append(\"ideal\")\n",
    "        elif row[\"x_0\"] ** 2 + row[\"x_1\"] ** 2 <= 2.0:\n",
    "            feasiblity_vector.append(\"acceptable\")\n",
    "        else:\n",
    "            feasiblity_vector.append(\"unacceptable\")\n",
    "    return feasiblity_vector"
   ]
  },
  {
   "cell_type": "code",
   "execution_count": null,
   "id": "4",
   "metadata": {
    "papermill": {
     "duration": 0.01961,
     "end_time": "2024-10-10T20:34:35.214891",
     "exception": false,
     "start_time": "2024-10-10T20:34:35.195281",
     "status": "completed"
    },
    "tags": []
   },
   "outputs": [
    {
     "data": {
      "text/html": [
       "<div>\n",
       "<style scoped>\n",
       "    .dataframe tbody tr th:only-of-type {\n",
       "        vertical-align: middle;\n",
       "    }\n",
       "\n",
       "    .dataframe tbody tr th {\n",
       "        vertical-align: top;\n",
       "    }\n",
       "\n",
       "    .dataframe thead th {\n",
       "        text-align: right;\n",
       "    }\n",
       "</style>\n",
       "<table border=\"1\" class=\"dataframe\">\n",
       "  <thead>\n",
       "    <tr style=\"text-align: right;\">\n",
       "      <th></th>\n",
       "      <th>x_0</th>\n",
       "      <th>x_1</th>\n",
       "      <th>x_3</th>\n",
       "      <th>f_0</th>\n",
       "      <th>f_1</th>\n",
       "    </tr>\n",
       "  </thead>\n",
       "  <tbody>\n",
       "    <tr>\n",
       "      <th>0</th>\n",
       "      <td>1.099949</td>\n",
       "      <td>1.336708</td>\n",
       "      <td>1</td>\n",
       "      <td>1.618309</td>\n",
       "      <td>unacceptable</td>\n",
       "    </tr>\n",
       "    <tr>\n",
       "      <th>1</th>\n",
       "      <td>0.950826</td>\n",
       "      <td>-1.417155</td>\n",
       "      <td>1</td>\n",
       "      <td>538.811012</td>\n",
       "      <td>unacceptable</td>\n",
       "    </tr>\n",
       "    <tr>\n",
       "      <th>2</th>\n",
       "      <td>-0.105881</td>\n",
       "      <td>-0.842408</td>\n",
       "      <td>1</td>\n",
       "      <td>74.089432</td>\n",
       "      <td>acceptable</td>\n",
       "    </tr>\n",
       "    <tr>\n",
       "      <th>3</th>\n",
       "      <td>-1.316266</td>\n",
       "      <td>0.064464</td>\n",
       "      <td>0</td>\n",
       "      <td>283.618091</td>\n",
       "      <td>acceptable</td>\n",
       "    </tr>\n",
       "    <tr>\n",
       "      <th>4</th>\n",
       "      <td>-1.274571</td>\n",
       "      <td>0.474821</td>\n",
       "      <td>0</td>\n",
       "      <td>137.357028</td>\n",
       "      <td>acceptable</td>\n",
       "    </tr>\n",
       "  </tbody>\n",
       "</table>\n",
       "</div>"
      ],
      "text/plain": [
       "        x_0       x_1 x_3         f_0           f_1\n",
       "0  1.099949  1.336708   1    1.618309  unacceptable\n",
       "1  0.950826 -1.417155   1  538.811012  unacceptable\n",
       "2 -0.105881 -0.842408   1   74.089432    acceptable\n",
       "3 -1.316266  0.064464   0  283.618091    acceptable\n",
       "4 -1.274571  0.474821   0  137.357028    acceptable"
      ]
     },
     "execution_count": null,
     "metadata": {},
     "output_type": "execute_result"
    }
   ],
   "source": [
    "# Set-up the inputs and outputs, use categorical domain just as an example\n",
    "input_features = Inputs(\n",
    "    features=[ContinuousInput(key=f\"x_{i}\", bounds=(-1.75, 1.75)) for i in range(2)]\n",
    "    + [CategoricalInput(key=\"x_3\", categories=[\"0\", \"1\"], allowed=[True, True])],\n",
    ")\n",
    "\n",
    "# here the minimize objective is used, if you want to maximize you have to use the maximize objective.\n",
    "output_features = Outputs(\n",
    "    features=[\n",
    "        ContinuousOutput(key=\"f_0\", objective=MinimizeObjective(w=1.0)),\n",
    "        CategoricalOutput(\n",
    "            key=\"f_1\",\n",
    "            categories=[\"unacceptable\", \"acceptable\", \"ideal\"],\n",
    "            objective=ConstrainedCategoricalObjective(\n",
    "                categories=[\"unacceptable\", \"acceptable\", \"ideal\"],\n",
    "                desirability=[False, True, True],\n",
    "            ),\n",
    "        ),  # This function will be associated with learning the categories\n",
    "    ],\n",
    ")\n",
    "\n",
    "# Create domain\n",
    "domain1 = Domain(inputs=input_features, outputs=output_features)\n",
    "\n",
    "# Sample random points\n",
    "sample_df = domain1.inputs.sample(100)\n",
    "\n",
    "# Write a function which outputs one continuous variable and another discrete based on some logic\n",
    "sample_df[\"f_0\"] = rosenbrock(x=sample_df)\n",
    "sample_df[\"f_1\"] = constraints(x=sample_df)\n",
    "\n",
    "sample_df.head(5)"
   ]
  },
  {
   "cell_type": "code",
   "execution_count": null,
   "id": "5",
   "metadata": {
    "papermill": {
     "duration": 0.600439,
     "end_time": "2024-10-10T20:34:35.816921",
     "exception": false,
     "start_time": "2024-10-10T20:34:35.216482",
     "status": "completed"
    },
    "tags": []
   },
   "outputs": [
    {
     "data": {
      "application/vnd.plotly.v1+json": {
       "config": {
        "plotlyServerURL": "https://plot.ly"
       },
       "data": [
        {
         "hovertemplate": "f_1=unacceptable<br>x_0=%{x}<br>x_1=%{y}<extra></extra>",
         "legendgroup": "unacceptable",
         "marker": {
          "color": "#636efa",
          "symbol": "circle"
         },
         "mode": "markers",
         "name": "unacceptable",
         "orientation": "v",
         "showlegend": true,
         "type": "scatter",
         "x": [
          1.0999493410822265,
          0.9508258153398406,
          -0.6131503619369401,
          -0.794982237193679,
          -1.2877723347029826,
          0.06461856797653565,
          -1.4514199955285243,
          1.4288009673582462,
          1.3150678606666704,
          -1.1261539829351985,
          1.1924524051238405,
          -1.711577781927146,
          1.595534873091684,
          1.6479524902069254,
          1.1891881006448939,
          -1.645451758976012,
          1.4467994893557399,
          0.9743201189990502,
          1.4363766239272726,
          1.6420913397503432,
          -1.4890126869374813,
          1.1814498387929047,
          0.35623671716648886,
          -0.9983780080753896,
          0.9276684775013608,
          -0.9947900050612453,
          0.0003858423177167669,
          -0.17092688359005637,
          -1.5110072557247958,
          -1.513652810579327,
          1.6265522674851827,
          0.6444539206024125,
          1.426287858475484,
          -1.447558782913611,
          -1.049001555265582,
          -1.2970147879201075,
          0.35937050334377707,
          1.2493190793268676,
          1.6957632459748258,
          -0.8812259460951102,
          -0.9282268585544813,
          -1.2237833073446802,
          0.9988634974708321,
          -1.7100734988217514,
          -1.4995461334279967,
          -1.5784014019806243,
          -0.02990317199095549,
          0.7469831381576997
         ],
         "xaxis": "x",
         "y": [
          1.3367080632199655,
          -1.4171553628399407,
          -1.5049246952596353,
          1.746304106468,
          1.4773277354170244,
          1.5431172168750433,
          0.9648143346394233,
          -0.04194020262377807,
          -0.9883489624969758,
          -1.0765535849958403,
          1.6921275340083493,
          1.4931080786351307,
          1.4659829908558737,
          -0.14252165830660934,
          -1.4740715292622368,
          -1.6580693961109843,
          -1.5560483651434107,
          1.4882432391781384,
          -0.1553210410832293,
          -0.217631681004806,
          1.4577751378159043,
          1.3119594417760778,
          1.426771478370787,
          -1.0464326584389827,
          1.1542328188433206,
          1.3150615558972993,
          -1.4959186045881439,
          -1.6627684460312868,
          0.9766806853824379,
          0.9049797476877011,
          -1.2418965401226292,
          1.3339983768761883,
          0.04517394871179681,
          -1.6548782260369297,
          -1.2421886388121195,
          0.8164656582858596,
          1.3798722464934854,
          -0.7762554290390353,
          -0.02534218227183449,
          -1.5774451593968601,
          -1.109330013287947,
          1.1891215332950118,
          -1.4453384754273055,
          1.131059433330671,
          -1.7193026974285037,
          1.6259967335560397,
          1.7162799340970176,
          -1.7314762655640359
         ],
         "yaxis": "y"
        },
        {
         "hovertemplate": "f_1=acceptable<br>x_0=%{x}<br>x_1=%{y}<extra></extra>",
         "legendgroup": "acceptable",
         "marker": {
          "color": "#EF553B",
          "symbol": "circle"
         },
         "mode": "markers",
         "name": "acceptable",
         "orientation": "v",
         "showlegend": true,
         "type": "scatter",
         "x": [
          -0.10588091777577646,
          -1.3162657284114452,
          -1.27457112929773,
          -0.8353572253987648,
          -0.8066251353243394,
          0.3667785439430329,
          -1.2526240013319647,
          -1.1303072041946507,
          -1.1089802723183113,
          1.206606735958506,
          0.20294132785411656,
          -1.1213071596141164,
          0.5857763955516457,
          -0.04776874356555272,
          -1.0023921907485838,
          1.0586373129127216,
          -0.04375626899486562,
          0.8444043327186694,
          -0.2597432367407082,
          0.7678754985924181,
          0.9714504833627644,
          -0.5521817369782269,
          -0.8061618750587152,
          -0.27105537943537894,
          -0.17719036216411155,
          -0.9018915646099562,
          -1.3066882594172187,
          -0.8549250665767427,
          0.236717302278024,
          -0.4276747387707225,
          0.4031936961493492,
          -0.5104846009752202,
          -1.2647178212179941,
          0.9308354506960601,
          0.3048333873603579,
          -0.7200165769736879
         ],
         "xaxis": "x",
         "y": [
          -0.8424077582576185,
          0.06446373087992785,
          0.47482136374234996,
          0.8026934999939104,
          0.8942563950363072,
          -0.075115794997763,
          0.45160594153621414,
          0.8488735126918168,
          0.19755758984238314,
          -0.68621146804333,
          -1.2061055920223307,
          0.6891056334790107,
          -0.6581572998230476,
          1.3612069660799548,
          0.08682808152575183,
          -0.04032253790165563,
          -0.41006796540722634,
          -0.14641183949271763,
          -1.2370579624244094,
          -0.6278725352757668,
          -0.537293948504288,
          -0.8646682804560379,
          -1.127230301637201,
          0.7792761823218712,
          -0.6669715966725593,
          0.35336722698923806,
          -0.5382190111159306,
          0.054581781980639565,
          0.3229998701531409,
          -0.8561396904554048,
          -1.2763029005288367,
          -1.167292516173203,
          -0.5732842789840462,
          -0.04269825010489292,
          -0.38988322239553796,
          -0.3478910115454439
         ],
         "yaxis": "y"
        },
        {
         "hovertemplate": "f_1=ideal<br>x_0=%{x}<br>x_1=%{y}<extra></extra>",
         "legendgroup": "ideal",
         "marker": {
          "color": "#00cc96",
          "symbol": "circle"
         },
         "mode": "markers",
         "name": "ideal",
         "orientation": "v",
         "showlegend": true,
         "type": "scatter",
         "x": [
          0.11349611195693643,
          0.10223385735833368,
          0.24958646555843766,
          1.1482891995756241,
          1.2661503553112206,
          1.0554153807868167,
          1.0083382857615133,
          0.9298643180191202,
          0.9557847509764748,
          0.6887942276997587,
          0.1152189245870272,
          0.12310686286699113,
          0.9275787412142233,
          0.8753389207257496,
          1.1245098619487899,
          0.7016030643173803
         ],
         "xaxis": "x",
         "y": [
          0.5503577168513503,
          0.7510295679695975,
          0.9035721340374723,
          0.676368942514574,
          0.3912876941844088,
          0.8633391799414247,
          0.8566296122592014,
          0.5685388549889896,
          0.9471301885105476,
          0.22816806371703313,
          0.899212528554937,
          0.8572255175856442,
          0.44769729057409524,
          0.6613583469275168,
          0.39136830782555476,
          0.5423320052361587
         ],
         "yaxis": "y"
        }
       ],
       "layout": {
        "height": 525,
        "legend": {
         "title": {
          "text": "f_1"
         },
         "tracegroupgap": 0
        },
        "shapes": [
         {
          "fillcolor": "red",
          "line": {
           "color": "red"
          },
          "opacity": 0.1,
          "type": "circle",
          "x0": -1.4142135623730951,
          "x1": 1.4142135623730951,
          "xref": "x",
          "y0": -1.4142135623730951,
          "y1": 1.4142135623730951,
          "yref": "y"
         },
         {
          "fillcolor": "LightSeaGreen",
          "line": {
           "color": "LightSeaGreen"
          },
          "opacity": 0.2,
          "type": "circle",
          "x0": 0,
          "x1": 2,
          "xref": "x",
          "y0": 0,
          "y1": 2,
          "yref": "y"
         }
        ],
        "template": {
         "data": {
          "bar": [
           {
            "error_x": {
             "color": "#2a3f5f"
            },
            "error_y": {
             "color": "#2a3f5f"
            },
            "marker": {
             "line": {
              "color": "#E5ECF6",
              "width": 0.5
             },
             "pattern": {
              "fillmode": "overlay",
              "size": 10,
              "solidity": 0.2
             }
            },
            "type": "bar"
           }
          ],
          "barpolar": [
           {
            "marker": {
             "line": {
              "color": "#E5ECF6",
              "width": 0.5
             },
             "pattern": {
              "fillmode": "overlay",
              "size": 10,
              "solidity": 0.2
             }
            },
            "type": "barpolar"
           }
          ],
          "carpet": [
           {
            "aaxis": {
             "endlinecolor": "#2a3f5f",
             "gridcolor": "white",
             "linecolor": "white",
             "minorgridcolor": "white",
             "startlinecolor": "#2a3f5f"
            },
            "baxis": {
             "endlinecolor": "#2a3f5f",
             "gridcolor": "white",
             "linecolor": "white",
             "minorgridcolor": "white",
             "startlinecolor": "#2a3f5f"
            },
            "type": "carpet"
           }
          ],
          "choropleth": [
           {
            "colorbar": {
             "outlinewidth": 0,
             "ticks": ""
            },
            "type": "choropleth"
           }
          ],
          "contour": [
           {
            "colorbar": {
             "outlinewidth": 0,
             "ticks": ""
            },
            "colorscale": [
             [
              0,
              "#0d0887"
             ],
             [
              0.1111111111111111,
              "#46039f"
             ],
             [
              0.2222222222222222,
              "#7201a8"
             ],
             [
              0.3333333333333333,
              "#9c179e"
             ],
             [
              0.4444444444444444,
              "#bd3786"
             ],
             [
              0.5555555555555556,
              "#d8576b"
             ],
             [
              0.6666666666666666,
              "#ed7953"
             ],
             [
              0.7777777777777778,
              "#fb9f3a"
             ],
             [
              0.8888888888888888,
              "#fdca26"
             ],
             [
              1,
              "#f0f921"
             ]
            ],
            "type": "contour"
           }
          ],
          "contourcarpet": [
           {
            "colorbar": {
             "outlinewidth": 0,
             "ticks": ""
            },
            "type": "contourcarpet"
           }
          ],
          "heatmap": [
           {
            "colorbar": {
             "outlinewidth": 0,
             "ticks": ""
            },
            "colorscale": [
             [
              0,
              "#0d0887"
             ],
             [
              0.1111111111111111,
              "#46039f"
             ],
             [
              0.2222222222222222,
              "#7201a8"
             ],
             [
              0.3333333333333333,
              "#9c179e"
             ],
             [
              0.4444444444444444,
              "#bd3786"
             ],
             [
              0.5555555555555556,
              "#d8576b"
             ],
             [
              0.6666666666666666,
              "#ed7953"
             ],
             [
              0.7777777777777778,
              "#fb9f3a"
             ],
             [
              0.8888888888888888,
              "#fdca26"
             ],
             [
              1,
              "#f0f921"
             ]
            ],
            "type": "heatmap"
           }
          ],
          "heatmapgl": [
           {
            "colorbar": {
             "outlinewidth": 0,
             "ticks": ""
            },
            "colorscale": [
             [
              0,
              "#0d0887"
             ],
             [
              0.1111111111111111,
              "#46039f"
             ],
             [
              0.2222222222222222,
              "#7201a8"
             ],
             [
              0.3333333333333333,
              "#9c179e"
             ],
             [
              0.4444444444444444,
              "#bd3786"
             ],
             [
              0.5555555555555556,
              "#d8576b"
             ],
             [
              0.6666666666666666,
              "#ed7953"
             ],
             [
              0.7777777777777778,
              "#fb9f3a"
             ],
             [
              0.8888888888888888,
              "#fdca26"
             ],
             [
              1,
              "#f0f921"
             ]
            ],
            "type": "heatmapgl"
           }
          ],
          "histogram": [
           {
            "marker": {
             "pattern": {
              "fillmode": "overlay",
              "size": 10,
              "solidity": 0.2
             }
            },
            "type": "histogram"
           }
          ],
          "histogram2d": [
           {
            "colorbar": {
             "outlinewidth": 0,
             "ticks": ""
            },
            "colorscale": [
             [
              0,
              "#0d0887"
             ],
             [
              0.1111111111111111,
              "#46039f"
             ],
             [
              0.2222222222222222,
              "#7201a8"
             ],
             [
              0.3333333333333333,
              "#9c179e"
             ],
             [
              0.4444444444444444,
              "#bd3786"
             ],
             [
              0.5555555555555556,
              "#d8576b"
             ],
             [
              0.6666666666666666,
              "#ed7953"
             ],
             [
              0.7777777777777778,
              "#fb9f3a"
             ],
             [
              0.8888888888888888,
              "#fdca26"
             ],
             [
              1,
              "#f0f921"
             ]
            ],
            "type": "histogram2d"
           }
          ],
          "histogram2dcontour": [
           {
            "colorbar": {
             "outlinewidth": 0,
             "ticks": ""
            },
            "colorscale": [
             [
              0,
              "#0d0887"
             ],
             [
              0.1111111111111111,
              "#46039f"
             ],
             [
              0.2222222222222222,
              "#7201a8"
             ],
             [
              0.3333333333333333,
              "#9c179e"
             ],
             [
              0.4444444444444444,
              "#bd3786"
             ],
             [
              0.5555555555555556,
              "#d8576b"
             ],
             [
              0.6666666666666666,
              "#ed7953"
             ],
             [
              0.7777777777777778,
              "#fb9f3a"
             ],
             [
              0.8888888888888888,
              "#fdca26"
             ],
             [
              1,
              "#f0f921"
             ]
            ],
            "type": "histogram2dcontour"
           }
          ],
          "mesh3d": [
           {
            "colorbar": {
             "outlinewidth": 0,
             "ticks": ""
            },
            "type": "mesh3d"
           }
          ],
          "parcoords": [
           {
            "line": {
             "colorbar": {
              "outlinewidth": 0,
              "ticks": ""
             }
            },
            "type": "parcoords"
           }
          ],
          "pie": [
           {
            "automargin": true,
            "type": "pie"
           }
          ],
          "scatter": [
           {
            "fillpattern": {
             "fillmode": "overlay",
             "size": 10,
             "solidity": 0.2
            },
            "type": "scatter"
           }
          ],
          "scatter3d": [
           {
            "line": {
             "colorbar": {
              "outlinewidth": 0,
              "ticks": ""
             }
            },
            "marker": {
             "colorbar": {
              "outlinewidth": 0,
              "ticks": ""
             }
            },
            "type": "scatter3d"
           }
          ],
          "scattercarpet": [
           {
            "marker": {
             "colorbar": {
              "outlinewidth": 0,
              "ticks": ""
             }
            },
            "type": "scattercarpet"
           }
          ],
          "scattergeo": [
           {
            "marker": {
             "colorbar": {
              "outlinewidth": 0,
              "ticks": ""
             }
            },
            "type": "scattergeo"
           }
          ],
          "scattergl": [
           {
            "marker": {
             "colorbar": {
              "outlinewidth": 0,
              "ticks": ""
             }
            },
            "type": "scattergl"
           }
          ],
          "scattermapbox": [
           {
            "marker": {
             "colorbar": {
              "outlinewidth": 0,
              "ticks": ""
             }
            },
            "type": "scattermapbox"
           }
          ],
          "scatterpolar": [
           {
            "marker": {
             "colorbar": {
              "outlinewidth": 0,
              "ticks": ""
             }
            },
            "type": "scatterpolar"
           }
          ],
          "scatterpolargl": [
           {
            "marker": {
             "colorbar": {
              "outlinewidth": 0,
              "ticks": ""
             }
            },
            "type": "scatterpolargl"
           }
          ],
          "scatterternary": [
           {
            "marker": {
             "colorbar": {
              "outlinewidth": 0,
              "ticks": ""
             }
            },
            "type": "scatterternary"
           }
          ],
          "surface": [
           {
            "colorbar": {
             "outlinewidth": 0,
             "ticks": ""
            },
            "colorscale": [
             [
              0,
              "#0d0887"
             ],
             [
              0.1111111111111111,
              "#46039f"
             ],
             [
              0.2222222222222222,
              "#7201a8"
             ],
             [
              0.3333333333333333,
              "#9c179e"
             ],
             [
              0.4444444444444444,
              "#bd3786"
             ],
             [
              0.5555555555555556,
              "#d8576b"
             ],
             [
              0.6666666666666666,
              "#ed7953"
             ],
             [
              0.7777777777777778,
              "#fb9f3a"
             ],
             [
              0.8888888888888888,
              "#fdca26"
             ],
             [
              1,
              "#f0f921"
             ]
            ],
            "type": "surface"
           }
          ],
          "table": [
           {
            "cells": {
             "fill": {
              "color": "#EBF0F8"
             },
             "line": {
              "color": "white"
             }
            },
            "header": {
             "fill": {
              "color": "#C8D4E3"
             },
             "line": {
              "color": "white"
             }
            },
            "type": "table"
           }
          ]
         },
         "layout": {
          "annotationdefaults": {
           "arrowcolor": "#2a3f5f",
           "arrowhead": 0,
           "arrowwidth": 1
          },
          "autotypenumbers": "strict",
          "coloraxis": {
           "colorbar": {
            "outlinewidth": 0,
            "ticks": ""
           }
          },
          "colorscale": {
           "diverging": [
            [
             0,
             "#8e0152"
            ],
            [
             0.1,
             "#c51b7d"
            ],
            [
             0.2,
             "#de77ae"
            ],
            [
             0.3,
             "#f1b6da"
            ],
            [
             0.4,
             "#fde0ef"
            ],
            [
             0.5,
             "#f7f7f7"
            ],
            [
             0.6,
             "#e6f5d0"
            ],
            [
             0.7,
             "#b8e186"
            ],
            [
             0.8,
             "#7fbc41"
            ],
            [
             0.9,
             "#4d9221"
            ],
            [
             1,
             "#276419"
            ]
           ],
           "sequential": [
            [
             0,
             "#0d0887"
            ],
            [
             0.1111111111111111,
             "#46039f"
            ],
            [
             0.2222222222222222,
             "#7201a8"
            ],
            [
             0.3333333333333333,
             "#9c179e"
            ],
            [
             0.4444444444444444,
             "#bd3786"
            ],
            [
             0.5555555555555556,
             "#d8576b"
            ],
            [
             0.6666666666666666,
             "#ed7953"
            ],
            [
             0.7777777777777778,
             "#fb9f3a"
            ],
            [
             0.8888888888888888,
             "#fdca26"
            ],
            [
             1,
             "#f0f921"
            ]
           ],
           "sequentialminus": [
            [
             0,
             "#0d0887"
            ],
            [
             0.1111111111111111,
             "#46039f"
            ],
            [
             0.2222222222222222,
             "#7201a8"
            ],
            [
             0.3333333333333333,
             "#9c179e"
            ],
            [
             0.4444444444444444,
             "#bd3786"
            ],
            [
             0.5555555555555556,
             "#d8576b"
            ],
            [
             0.6666666666666666,
             "#ed7953"
            ],
            [
             0.7777777777777778,
             "#fb9f3a"
            ],
            [
             0.8888888888888888,
             "#fdca26"
            ],
            [
             1,
             "#f0f921"
            ]
           ]
          },
          "colorway": [
           "#636efa",
           "#EF553B",
           "#00cc96",
           "#ab63fa",
           "#FFA15A",
           "#19d3f3",
           "#FF6692",
           "#B6E880",
           "#FF97FF",
           "#FECB52"
          ],
          "font": {
           "color": "#2a3f5f"
          },
          "geo": {
           "bgcolor": "white",
           "lakecolor": "white",
           "landcolor": "#E5ECF6",
           "showlakes": true,
           "showland": true,
           "subunitcolor": "white"
          },
          "hoverlabel": {
           "align": "left"
          },
          "hovermode": "closest",
          "mapbox": {
           "style": "light"
          },
          "paper_bgcolor": "white",
          "plot_bgcolor": "#E5ECF6",
          "polar": {
           "angularaxis": {
            "gridcolor": "white",
            "linecolor": "white",
            "ticks": ""
           },
           "bgcolor": "#E5ECF6",
           "radialaxis": {
            "gridcolor": "white",
            "linecolor": "white",
            "ticks": ""
           }
          },
          "scene": {
           "xaxis": {
            "backgroundcolor": "#E5ECF6",
            "gridcolor": "white",
            "gridwidth": 2,
            "linecolor": "white",
            "showbackground": true,
            "ticks": "",
            "zerolinecolor": "white"
           },
           "yaxis": {
            "backgroundcolor": "#E5ECF6",
            "gridcolor": "white",
            "gridwidth": 2,
            "linecolor": "white",
            "showbackground": true,
            "ticks": "",
            "zerolinecolor": "white"
           },
           "zaxis": {
            "backgroundcolor": "#E5ECF6",
            "gridcolor": "white",
            "gridwidth": 2,
            "linecolor": "white",
            "showbackground": true,
            "ticks": "",
            "zerolinecolor": "white"
           }
          },
          "shapedefaults": {
           "line": {
            "color": "#2a3f5f"
           }
          },
          "ternary": {
           "aaxis": {
            "gridcolor": "white",
            "linecolor": "white",
            "ticks": ""
           },
           "baxis": {
            "gridcolor": "white",
            "linecolor": "white",
            "ticks": ""
           },
           "bgcolor": "#E5ECF6",
           "caxis": {
            "gridcolor": "white",
            "linecolor": "white",
            "ticks": ""
           }
          },
          "title": {
           "x": 0.05
          },
          "xaxis": {
           "automargin": true,
           "gridcolor": "white",
           "linecolor": "white",
           "ticks": "",
           "title": {
            "standoff": 15
           },
           "zerolinecolor": "white",
           "zerolinewidth": 2
          },
          "yaxis": {
           "automargin": true,
           "gridcolor": "white",
           "linecolor": "white",
           "ticks": "",
           "title": {
            "standoff": 15
           },
           "zerolinecolor": "white",
           "zerolinewidth": 2
          }
         }
        },
        "title": {
         "text": "Samples with labels"
        },
        "width": 550,
        "xaxis": {
         "anchor": "y",
         "domain": [
          0,
          1
         ],
         "title": {
          "text": "x_0"
         }
        },
        "yaxis": {
         "anchor": "x",
         "domain": [
          0,
          1
         ],
         "title": {
          "text": "x_1"
         }
        }
       }
      }
     },
     "metadata": {},
     "output_type": "display_data"
    }
   ],
   "source": [
    "# Plot the sample df\n",
    "import math\n",
    "\n",
    "import plotly.express as px\n",
    "\n",
    "\n",
    "fig = px.scatter(\n",
    "    sample_df,\n",
    "    x=\"x_0\",\n",
    "    y=\"x_1\",\n",
    "    color=\"f_1\",\n",
    "    width=550,\n",
    "    height=525,\n",
    "    title=\"Samples with labels\",\n",
    ")\n",
    "fig.add_shape(\n",
    "    type=\"circle\",\n",
    "    xref=\"x\",\n",
    "    yref=\"y\",\n",
    "    opacity=0.1,\n",
    "    fillcolor=\"red\",\n",
    "    x0=-math.sqrt(2),\n",
    "    y0=-math.sqrt(2),\n",
    "    x1=math.sqrt(2),\n",
    "    y1=math.sqrt(2),\n",
    "    line_color=\"red\",\n",
    ")\n",
    "fig.add_shape(\n",
    "    type=\"circle\",\n",
    "    xref=\"x\",\n",
    "    yref=\"y\",\n",
    "    opacity=0.2,\n",
    "    fillcolor=\"LightSeaGreen\",\n",
    "    x0=0,\n",
    "    y0=0,\n",
    "    x1=2,\n",
    "    y1=2,\n",
    "    line_color=\"LightSeaGreen\",\n",
    ")\n",
    "fig.show()"
   ]
  },
  {
   "cell_type": "markdown",
   "id": "6",
   "metadata": {
    "papermill": {
     "duration": 0.023509,
     "end_time": "2024-10-10T20:34:35.866206",
     "exception": false,
     "start_time": "2024-10-10T20:34:35.842697",
     "status": "completed"
    },
    "tags": []
   },
   "source": [
    "## Evaluate the classification model performance (outside of the optimization procedure)"
   ]
  },
  {
   "cell_type": "code",
   "execution_count": null,
   "id": "7",
   "metadata": {
    "papermill": {
     "duration": 0.208408,
     "end_time": "2024-10-10T20:34:36.095990",
     "exception": true,
     "start_time": "2024-10-10T20:34:35.887582",
     "status": "failed"
    },
    "tags": []
   },
   "outputs": [],
   "source": [
    "# Import packages\n",
    "import bofire.surrogates.api as surrogates\n",
    "from bofire.data_models.surrogates.api import ClassificationMLPEnsemble\n",
    "from bofire.surrogates.diagnostics import ClassificationMetricsEnum\n",
    "\n",
    "\n",
    "# Instantiate the surrogate data model\n",
    "surrogate_data = ClassificationMLPEnsemble(\n",
    "    inputs=domain1.inputs,\n",
    "    outputs=Outputs(features=[domain1.outputs.get_by_key(\"f_1\")]),\n",
    "    lr=0.03,\n",
    "    n_epochs=100,\n",
    "    hidden_layer_sizes=(\n",
    "        4,\n",
    "        2,\n",
    "    ),\n",
    "    weight_decay=0.0,\n",
    "    batch_size=10,\n",
    "    activation=\"tanh\",\n",
    ")\n",
    "surrogate = surrogates.map(surrogate_data)\n",
    "\n",
    "# Fit the surrogate to the classification data\n",
    "cv_df = sample_df.drop([\"f_0\"], axis=1)\n",
    "cv_df[\"valid_f_1\"] = 1\n",
    "cv_train, cv_test, _ = surrogate.cross_validate(cv_df, folds=3)"
   ]
  },
  {
   "cell_type": "code",
   "execution_count": null,
   "id": "8",
   "metadata": {
    "papermill": {
     "duration": null,
     "end_time": null,
     "exception": null,
     "start_time": null,
     "status": "pending"
    },
    "tags": []
   },
   "outputs": [
    {
     "data": {
      "text/html": [
       "<div>\n",
       "<style scoped>\n",
       "    .dataframe tbody tr th:only-of-type {\n",
       "        vertical-align: middle;\n",
       "    }\n",
       "\n",
       "    .dataframe tbody tr th {\n",
       "        vertical-align: top;\n",
       "    }\n",
       "\n",
       "    .dataframe thead th {\n",
       "        text-align: right;\n",
       "    }\n",
       "</style>\n",
       "<table border=\"1\" class=\"dataframe\">\n",
       "  <thead>\n",
       "    <tr style=\"text-align: right;\">\n",
       "      <th></th>\n",
       "      <th>ACCURACY</th>\n",
       "      <th>F1</th>\n",
       "    </tr>\n",
       "  </thead>\n",
       "  <tbody>\n",
       "    <tr>\n",
       "      <th>0</th>\n",
       "      <td>0.875</td>\n",
       "      <td>0.875</td>\n",
       "    </tr>\n",
       "  </tbody>\n",
       "</table>\n",
       "</div>"
      ],
      "text/plain": [
       "   ACCURACY     F1\n",
       "0     0.875  0.875"
      ]
     },
     "execution_count": null,
     "metadata": {},
     "output_type": "execute_result"
    }
   ],
   "source": [
    "# Print training performance\n",
    "cv_train.get_metrics(\n",
    "    metrics=ClassificationMetricsEnum,\n",
    "    combine_folds=True,\n",
    ")"
   ]
  },
  {
   "cell_type": "code",
   "execution_count": null,
   "id": "9",
   "metadata": {
    "papermill": {
     "duration": null,
     "end_time": null,
     "exception": null,
     "start_time": null,
     "status": "pending"
    },
    "tags": []
   },
   "outputs": [
    {
     "data": {
      "text/html": [
       "<div>\n",
       "<style scoped>\n",
       "    .dataframe tbody tr th:only-of-type {\n",
       "        vertical-align: middle;\n",
       "    }\n",
       "\n",
       "    .dataframe tbody tr th {\n",
       "        vertical-align: top;\n",
       "    }\n",
       "\n",
       "    .dataframe thead th {\n",
       "        text-align: right;\n",
       "    }\n",
       "</style>\n",
       "<table border=\"1\" class=\"dataframe\">\n",
       "  <thead>\n",
       "    <tr style=\"text-align: right;\">\n",
       "      <th></th>\n",
       "      <th>ACCURACY</th>\n",
       "      <th>F1</th>\n",
       "    </tr>\n",
       "  </thead>\n",
       "  <tbody>\n",
       "    <tr>\n",
       "      <th>0</th>\n",
       "      <td>0.7</td>\n",
       "      <td>0.7</td>\n",
       "    </tr>\n",
       "  </tbody>\n",
       "</table>\n",
       "</div>"
      ],
      "text/plain": [
       "   ACCURACY   F1\n",
       "0       0.7  0.7"
      ]
     },
     "execution_count": null,
     "metadata": {},
     "output_type": "execute_result"
    }
   ],
   "source": [
    "# Print test performance\n",
    "cv_test.get_metrics(\n",
    "    metrics=ClassificationMetricsEnum,\n",
    "    combine_folds=True,\n",
    ")"
   ]
  },
  {
   "cell_type": "markdown",
   "id": "10",
   "metadata": {
    "papermill": {
     "duration": null,
     "end_time": null,
     "exception": null,
     "start_time": null,
     "status": "pending"
    },
    "tags": []
   },
   "source": [
    "## Setup strategy and ask for candidates\n",
    "\n",
    "Now we setup a `SoboStrategy` for generating candidates, the categorical output is modelled using the surrogate from above. The categorical output is modelled as an output constraint in the acquistion function optimization (constrained expected improvement). For more details have a look at this notebook: https://github.com/pytorch/botorch/blob/main/notebooks_community/clf_constrained_bo.ipynb and/or this paper: https://arxiv.org/abs/2402.07692.\n"
   ]
  },
  {
   "cell_type": "code",
   "execution_count": null,
   "id": "11",
   "metadata": {
    "papermill": {
     "duration": null,
     "end_time": null,
     "exception": null,
     "start_time": null,
     "status": "pending"
    },
    "tags": []
   },
   "outputs": [],
   "source": [
    "from bofire.data_models.acquisition_functions.api import qLogEI\n",
    "from bofire.data_models.strategies.api import SoboStrategy\n",
    "from bofire.data_models.surrogates.api import BotorchSurrogates\n",
    "\n",
    "\n",
    "strategy_data = SoboStrategy(\n",
    "    domain=domain1,\n",
    "    acquisition_function=qLogEI(),\n",
    "    surrogate_specs=BotorchSurrogates(\n",
    "        surrogates=[surrogate_data],\n",
    "    ),\n",
    ")\n",
    "\n",
    "strategy = strategies.map(strategy_data)\n",
    "\n",
    "strategy.tell(sample_df)"
   ]
  },
  {
   "cell_type": "code",
   "execution_count": null,
   "id": "12",
   "metadata": {
    "papermill": {
     "duration": null,
     "end_time": null,
     "exception": null,
     "start_time": null,
     "status": "pending"
    },
    "tags": []
   },
   "outputs": [
    {
     "name": "stderr",
     "output_type": "stream",
     "text": [
      "/Users/j30607/sandbox/botorch/botorch/optim/optimize.py:652: RuntimeWarning:\n",
      "\n",
      "Optimization failed in `gen_candidates_scipy` with the following warning(s):\n",
      "[OptimizationWarning('Optimization failed within `scipy.optimize.minimize` with status 2 and message ABNORMAL_TERMINATION_IN_LNSRCH.')]\n",
      "Trying again with a new set of initial conditions.\n",
      "\n"
     ]
    },
    {
     "data": {
      "text/html": [
       "<div>\n",
       "<style scoped>\n",
       "    .dataframe tbody tr th:only-of-type {\n",
       "        vertical-align: middle;\n",
       "    }\n",
       "\n",
       "    .dataframe tbody tr th {\n",
       "        vertical-align: top;\n",
       "    }\n",
       "\n",
       "    .dataframe thead th {\n",
       "        text-align: right;\n",
       "    }\n",
       "</style>\n",
       "<table border=\"1\" class=\"dataframe\">\n",
       "  <thead>\n",
       "    <tr style=\"text-align: right;\">\n",
       "      <th></th>\n",
       "      <th>x_0</th>\n",
       "      <th>x_1</th>\n",
       "      <th>x_3</th>\n",
       "      <th>f_1_pred</th>\n",
       "      <th>f_1_sd</th>\n",
       "      <th>f_1_unacceptable_prob</th>\n",
       "      <th>f_1_acceptable_prob</th>\n",
       "      <th>f_1_ideal_prob</th>\n",
       "      <th>f_0_pred</th>\n",
       "      <th>f_1_unacceptable_sd</th>\n",
       "      <th>f_1_acceptable_sd</th>\n",
       "      <th>f_1_ideal_sd</th>\n",
       "      <th>f_0_sd</th>\n",
       "      <th>f_0_des</th>\n",
       "      <th>f_1_des</th>\n",
       "    </tr>\n",
       "  </thead>\n",
       "  <tbody>\n",
       "    <tr>\n",
       "      <th>0</th>\n",
       "      <td>-0.440780</td>\n",
       "      <td>0.191191</td>\n",
       "      <td>0</td>\n",
       "      <td>ideal</td>\n",
       "      <td>0.0</td>\n",
       "      <td>0.839229</td>\n",
       "      <td>0.098724</td>\n",
       "      <td>0.901083</td>\n",
       "      <td>0.000194</td>\n",
       "      <td>9.291584</td>\n",
       "      <td>0.203003</td>\n",
       "      <td>0.202908</td>\n",
       "      <td>0.000249</td>\n",
       "      <td>-0.000194</td>\n",
       "      <td>0.999806</td>\n",
       "    </tr>\n",
       "    <tr>\n",
       "      <th>1</th>\n",
       "      <td>-0.124262</td>\n",
       "      <td>0.037185</td>\n",
       "      <td>0</td>\n",
       "      <td>ideal</td>\n",
       "      <td>0.0</td>\n",
       "      <td>0.310786</td>\n",
       "      <td>0.100112</td>\n",
       "      <td>0.899684</td>\n",
       "      <td>0.000204</td>\n",
       "      <td>6.989385</td>\n",
       "      <td>0.202408</td>\n",
       "      <td>0.202312</td>\n",
       "      <td>0.000261</td>\n",
       "      <td>-0.000204</td>\n",
       "      <td>0.999796</td>\n",
       "    </tr>\n",
       "    <tr>\n",
       "      <th>2</th>\n",
       "      <td>0.528477</td>\n",
       "      <td>0.287229</td>\n",
       "      <td>1</td>\n",
       "      <td>ideal</td>\n",
       "      <td>0.0</td>\n",
       "      <td>0.328823</td>\n",
       "      <td>0.044223</td>\n",
       "      <td>0.422612</td>\n",
       "      <td>0.533165</td>\n",
       "      <td>5.849975</td>\n",
       "      <td>0.080326</td>\n",
       "      <td>0.514594</td>\n",
       "      <td>0.492027</td>\n",
       "      <td>-0.533165</td>\n",
       "      <td>0.466835</td>\n",
       "    </tr>\n",
       "    <tr>\n",
       "      <th>3</th>\n",
       "      <td>1.336751</td>\n",
       "      <td>1.750000</td>\n",
       "      <td>1</td>\n",
       "      <td>acceptable</td>\n",
       "      <td>0.0</td>\n",
       "      <td>0.604687</td>\n",
       "      <td>0.606031</td>\n",
       "      <td>0.002018</td>\n",
       "      <td>0.391951</td>\n",
       "      <td>8.187463</td>\n",
       "      <td>0.537966</td>\n",
       "      <td>0.004308</td>\n",
       "      <td>0.535448</td>\n",
       "      <td>-0.391951</td>\n",
       "      <td>0.608049</td>\n",
       "    </tr>\n",
       "    <tr>\n",
       "      <th>4</th>\n",
       "      <td>-0.584689</td>\n",
       "      <td>0.359022</td>\n",
       "      <td>0</td>\n",
       "      <td>unacceptable</td>\n",
       "      <td>0.0</td>\n",
       "      <td>1.484078</td>\n",
       "      <td>0.099049</td>\n",
       "      <td>0.900751</td>\n",
       "      <td>0.000200</td>\n",
       "      <td>8.914246</td>\n",
       "      <td>0.203335</td>\n",
       "      <td>0.203237</td>\n",
       "      <td>0.000258</td>\n",
       "      <td>-0.000200</td>\n",
       "      <td>0.999800</td>\n",
       "    </tr>\n",
       "    <tr>\n",
       "      <th>5</th>\n",
       "      <td>0.098145</td>\n",
       "      <td>-0.021054</td>\n",
       "      <td>0</td>\n",
       "      <td>ideal</td>\n",
       "      <td>0.0</td>\n",
       "      <td>0.481963</td>\n",
       "      <td>0.140105</td>\n",
       "      <td>0.859511</td>\n",
       "      <td>0.000384</td>\n",
       "      <td>5.748780</td>\n",
       "      <td>0.207016</td>\n",
       "      <td>0.207099</td>\n",
       "      <td>0.000598</td>\n",
       "      <td>-0.000384</td>\n",
       "      <td>0.999616</td>\n",
       "    </tr>\n",
       "    <tr>\n",
       "      <th>6</th>\n",
       "      <td>-0.258972</td>\n",
       "      <td>0.066109</td>\n",
       "      <td>0</td>\n",
       "      <td>ideal</td>\n",
       "      <td>0.0</td>\n",
       "      <td>0.406384</td>\n",
       "      <td>0.098858</td>\n",
       "      <td>0.900948</td>\n",
       "      <td>0.000194</td>\n",
       "      <td>8.132467</td>\n",
       "      <td>0.202901</td>\n",
       "      <td>0.202808</td>\n",
       "      <td>0.000248</td>\n",
       "      <td>-0.000194</td>\n",
       "      <td>0.999806</td>\n",
       "    </tr>\n",
       "    <tr>\n",
       "      <th>7</th>\n",
       "      <td>0.803090</td>\n",
       "      <td>0.651708</td>\n",
       "      <td>1</td>\n",
       "      <td>acceptable</td>\n",
       "      <td>0.0</td>\n",
       "      <td>0.205122</td>\n",
       "      <td>0.217384</td>\n",
       "      <td>0.197362</td>\n",
       "      <td>0.585254</td>\n",
       "      <td>4.479931</td>\n",
       "      <td>0.433316</td>\n",
       "      <td>0.413672</td>\n",
       "      <td>0.530183</td>\n",
       "      <td>-0.585254</td>\n",
       "      <td>0.414746</td>\n",
       "    </tr>\n",
       "    <tr>\n",
       "      <th>8</th>\n",
       "      <td>0.151093</td>\n",
       "      <td>0.004787</td>\n",
       "      <td>1</td>\n",
       "      <td>ideal</td>\n",
       "      <td>0.0</td>\n",
       "      <td>0.806973</td>\n",
       "      <td>0.098383</td>\n",
       "      <td>0.901426</td>\n",
       "      <td>0.000191</td>\n",
       "      <td>5.392008</td>\n",
       "      <td>0.202613</td>\n",
       "      <td>0.202520</td>\n",
       "      <td>0.000245</td>\n",
       "      <td>-0.000191</td>\n",
       "      <td>0.999809</td>\n",
       "    </tr>\n",
       "    <tr>\n",
       "      <th>9</th>\n",
       "      <td>0.333958</td>\n",
       "      <td>0.113097</td>\n",
       "      <td>1</td>\n",
       "      <td>ideal</td>\n",
       "      <td>0.0</td>\n",
       "      <td>0.659254</td>\n",
       "      <td>0.102805</td>\n",
       "      <td>0.896970</td>\n",
       "      <td>0.000226</td>\n",
       "      <td>4.785143</td>\n",
       "      <td>0.212465</td>\n",
       "      <td>0.212368</td>\n",
       "      <td>0.000276</td>\n",
       "      <td>-0.000226</td>\n",
       "      <td>0.999774</td>\n",
       "    </tr>\n",
       "  </tbody>\n",
       "</table>\n",
       "</div>"
      ],
      "text/plain": [
       "        x_0       x_1 x_3      f_1_pred  f_1_sd  f_1_unacceptable_prob  \\\n",
       "0 -0.440780  0.191191   0         ideal     0.0               0.839229   \n",
       "1 -0.124262  0.037185   0         ideal     0.0               0.310786   \n",
       "2  0.528477  0.287229   1         ideal     0.0               0.328823   \n",
       "3  1.336751  1.750000   1    acceptable     0.0               0.604687   \n",
       "4 -0.584689  0.359022   0  unacceptable     0.0               1.484078   \n",
       "5  0.098145 -0.021054   0         ideal     0.0               0.481963   \n",
       "6 -0.258972  0.066109   0         ideal     0.0               0.406384   \n",
       "7  0.803090  0.651708   1    acceptable     0.0               0.205122   \n",
       "8  0.151093  0.004787   1         ideal     0.0               0.806973   \n",
       "9  0.333958  0.113097   1         ideal     0.0               0.659254   \n",
       "\n",
       "   f_1_acceptable_prob  f_1_ideal_prob  f_0_pred  f_1_unacceptable_sd  \\\n",
       "0             0.098724        0.901083  0.000194             9.291584   \n",
       "1             0.100112        0.899684  0.000204             6.989385   \n",
       "2             0.044223        0.422612  0.533165             5.849975   \n",
       "3             0.606031        0.002018  0.391951             8.187463   \n",
       "4             0.099049        0.900751  0.000200             8.914246   \n",
       "5             0.140105        0.859511  0.000384             5.748780   \n",
       "6             0.098858        0.900948  0.000194             8.132467   \n",
       "7             0.217384        0.197362  0.585254             4.479931   \n",
       "8             0.098383        0.901426  0.000191             5.392008   \n",
       "9             0.102805        0.896970  0.000226             4.785143   \n",
       "\n",
       "   f_1_acceptable_sd  f_1_ideal_sd    f_0_sd   f_0_des   f_1_des  \n",
       "0           0.203003      0.202908  0.000249 -0.000194  0.999806  \n",
       "1           0.202408      0.202312  0.000261 -0.000204  0.999796  \n",
       "2           0.080326      0.514594  0.492027 -0.533165  0.466835  \n",
       "3           0.537966      0.004308  0.535448 -0.391951  0.608049  \n",
       "4           0.203335      0.203237  0.000258 -0.000200  0.999800  \n",
       "5           0.207016      0.207099  0.000598 -0.000384  0.999616  \n",
       "6           0.202901      0.202808  0.000248 -0.000194  0.999806  \n",
       "7           0.433316      0.413672  0.530183 -0.585254  0.414746  \n",
       "8           0.202613      0.202520  0.000245 -0.000191  0.999809  \n",
       "9           0.212465      0.212368  0.000276 -0.000226  0.999774  "
      ]
     },
     "execution_count": null,
     "metadata": {},
     "output_type": "execute_result"
    }
   ],
   "source": [
    "candidates = strategy.ask(10)\n",
    "candidates"
   ]
  },
  {
   "cell_type": "markdown",
   "id": "13",
   "metadata": {
    "papermill": {
     "duration": null,
     "end_time": null,
     "exception": null,
     "start_time": null,
     "status": "pending"
    },
    "tags": []
   },
   "source": [
    "## Check classification of proposed candidates\n",
    "\n",
    "Use the logic from above to verify the classification values"
   ]
  },
  {
   "cell_type": "code",
   "execution_count": null,
   "id": "14",
   "metadata": {
    "papermill": {
     "duration": null,
     "end_time": null,
     "exception": null,
     "start_time": null,
     "status": "pending"
    },
    "tags": []
   },
   "outputs": [],
   "source": [
    "# Append to the candidates\n",
    "candidates[\"f_1_true\"] = constraints(x=candidates)"
   ]
  },
  {
   "cell_type": "code",
   "execution_count": null,
   "id": "15",
   "metadata": {
    "papermill": {
     "duration": null,
     "end_time": null,
     "exception": null,
     "start_time": null,
     "status": "pending"
    },
    "tags": []
   },
   "outputs": [
    {
     "data": {
      "text/html": [
       "<div>\n",
       "<style scoped>\n",
       "    .dataframe tbody tr th:only-of-type {\n",
       "        vertical-align: middle;\n",
       "    }\n",
       "\n",
       "    .dataframe tbody tr th {\n",
       "        vertical-align: top;\n",
       "    }\n",
       "\n",
       "    .dataframe thead th {\n",
       "        text-align: right;\n",
       "    }\n",
       "</style>\n",
       "<table border=\"1\" class=\"dataframe\">\n",
       "  <thead>\n",
       "    <tr style=\"text-align: right;\">\n",
       "      <th></th>\n",
       "      <th>x_0</th>\n",
       "      <th>x_1</th>\n",
       "      <th>f_1_pred</th>\n",
       "      <th>f_1_true</th>\n",
       "    </tr>\n",
       "  </thead>\n",
       "  <tbody>\n",
       "    <tr>\n",
       "      <th>0</th>\n",
       "      <td>-0.440780</td>\n",
       "      <td>0.191191</td>\n",
       "      <td>ideal</td>\n",
       "      <td>acceptable</td>\n",
       "    </tr>\n",
       "    <tr>\n",
       "      <th>1</th>\n",
       "      <td>-0.124262</td>\n",
       "      <td>0.037185</td>\n",
       "      <td>ideal</td>\n",
       "      <td>acceptable</td>\n",
       "    </tr>\n",
       "    <tr>\n",
       "      <th>2</th>\n",
       "      <td>0.528477</td>\n",
       "      <td>0.287229</td>\n",
       "      <td>ideal</td>\n",
       "      <td>ideal</td>\n",
       "    </tr>\n",
       "    <tr>\n",
       "      <th>3</th>\n",
       "      <td>1.336751</td>\n",
       "      <td>1.750000</td>\n",
       "      <td>acceptable</td>\n",
       "      <td>unacceptable</td>\n",
       "    </tr>\n",
       "    <tr>\n",
       "      <th>4</th>\n",
       "      <td>-0.584689</td>\n",
       "      <td>0.359022</td>\n",
       "      <td>unacceptable</td>\n",
       "      <td>acceptable</td>\n",
       "    </tr>\n",
       "    <tr>\n",
       "      <th>5</th>\n",
       "      <td>0.098145</td>\n",
       "      <td>-0.021054</td>\n",
       "      <td>ideal</td>\n",
       "      <td>acceptable</td>\n",
       "    </tr>\n",
       "    <tr>\n",
       "      <th>6</th>\n",
       "      <td>-0.258972</td>\n",
       "      <td>0.066109</td>\n",
       "      <td>ideal</td>\n",
       "      <td>acceptable</td>\n",
       "    </tr>\n",
       "    <tr>\n",
       "      <th>7</th>\n",
       "      <td>0.803090</td>\n",
       "      <td>0.651708</td>\n",
       "      <td>acceptable</td>\n",
       "      <td>ideal</td>\n",
       "    </tr>\n",
       "    <tr>\n",
       "      <th>8</th>\n",
       "      <td>0.151093</td>\n",
       "      <td>0.004787</td>\n",
       "      <td>ideal</td>\n",
       "      <td>acceptable</td>\n",
       "    </tr>\n",
       "    <tr>\n",
       "      <th>9</th>\n",
       "      <td>0.333958</td>\n",
       "      <td>0.113097</td>\n",
       "      <td>ideal</td>\n",
       "      <td>acceptable</td>\n",
       "    </tr>\n",
       "  </tbody>\n",
       "</table>\n",
       "</div>"
      ],
      "text/plain": [
       "        x_0       x_1      f_1_pred      f_1_true\n",
       "0 -0.440780  0.191191         ideal    acceptable\n",
       "1 -0.124262  0.037185         ideal    acceptable\n",
       "2  0.528477  0.287229         ideal         ideal\n",
       "3  1.336751  1.750000    acceptable  unacceptable\n",
       "4 -0.584689  0.359022  unacceptable    acceptable\n",
       "5  0.098145 -0.021054         ideal    acceptable\n",
       "6 -0.258972  0.066109         ideal    acceptable\n",
       "7  0.803090  0.651708    acceptable         ideal\n",
       "8  0.151093  0.004787         ideal    acceptable\n",
       "9  0.333958  0.113097         ideal    acceptable"
      ]
     },
     "execution_count": null,
     "metadata": {},
     "output_type": "execute_result"
    }
   ],
   "source": [
    "# Print results\n",
    "candidates[[\"x_0\", \"x_1\", \"f_1_pred\", \"f_1_true\"]]"
   ]
  }
 ],
 "metadata": {
  "kernelspec": {
   "display_name": "bofire-2",
   "language": "python",
   "name": "python3"
  },
  "language_info": {
   "codemirror_mode": {
    "name": "ipython",
    "version": 3
   },
   "file_extension": ".py",
   "mimetype": "text/x-python",
   "name": "python",
   "nbconvert_exporter": "python",
   "pygments_lexer": "ipython3",
   "version": "3.10.12"
  },
  "papermill": {
   "default_parameters": {},
   "duration": 5.540047,
   "end_time": "2024-10-10T20:34:36.838633",
   "environment_variables": {},
   "exception": true,
   "parameters": {},
   "start_time": "2024-10-10T20:34:31.298586",
   "version": "2.6.0"
  }
 },
 "nbformat": 4,
 "nbformat_minor": 5
}
