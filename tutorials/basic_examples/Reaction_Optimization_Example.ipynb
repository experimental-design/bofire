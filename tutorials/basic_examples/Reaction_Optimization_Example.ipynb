{
 "cells": [
  {
   "cell_type": "markdown",
   "id": "3b13e196-3cf7-4496-8ed1-1a7589c14ca8",
   "metadata": {},
   "source": [
    "# Getting started by Example: Optimization of Reaction Conditions\n",
    "\n",
    "In this example we take on a reaction condition optimization problem:\n",
    "Suppose you have some simple reaction where two ingredients $A$ and $B$ react to $C$ as\n",
    "\n",
    "$$\n",
    "A + B  \\rightarrow C\n",
    "$$\n",
    "\n",
    "Our reactors can be temperature controlled, and we can use different solvents. Furthermore, we can dilute our reaction mixture by using a different solvent volume. \n",
    "parameters like the **temperature** or the **solvent volume** are **continuous paramters**, where we have to set our ranges\n",
    "$$\n",
    "0 \\, ^{\\circ} \\text{C}  \\, \\le T \\le \\,  60 \\, ^{\\circ} \\text{C} \n",
    "$$\n",
    "$$\n",
    "20 \\, \\text{ml} \\le V_{solvent} \\le 90 \\,\\text{ml} \n",
    "$$\n",
    "\n",
    "Parameters like the use of **which solvent**, where there's a choice of either this or that, are **categorical parameters**\n",
    "$$\n",
    "\\text{Solvent} \\, S \\,  \\in  \\, \\{ \\text{MeOH, THF, Dioxane} \\}\n",
    "$$\n",
    "\n",
    "\n",
    "For now we only wish top optimize the Reaction yield, making this a **single objective optimization problem**.\n",
    "\n",
    "$$\n",
    "\\max _{T,V,S} \\text{ReactionYield}(T,V,S)\n",
    "$$\n",
    "\n",
    "Below we'll see how to perform such an optimization using bofire, Utilizing a **Single Objective Bayesian Optimization (SOBO)** Strategy "
   ]
  },
  {
   "cell_type": "code",
   "execution_count": 1,
   "id": "e129aecf-a983-4da7-af73-9e3614142cb6",
   "metadata": {},
   "outputs": [
    {
     "name": "stdout",
     "output_type": "stream",
     "text": [
      "SMOKE_TEST: None\n"
     ]
    }
   ],
   "source": [
    "# python imports we'll need in this notebook\n",
    "from pprint import pprint as pp\n",
    "import pandas as pd\n",
    "import matplotlib.pyplot as plt\n",
    "import numpy as np\n",
    "import time\n",
    "import os\n",
    "\n",
    "SMOKE_TEST = os.environ.get(\"SMOKE_TEST\")\n",
    "print(f'SMOKE_TEST: {SMOKE_TEST}')"
   ]
  },
  {
   "cell_type": "markdown",
   "id": "912f3ad0-b2e1-43b9-8bf5-05b6ca923c31",
   "metadata": {},
   "source": [
    "## Setting up the optimization problem as a **Reaction Domain**"
   ]
  },
  {
   "cell_type": "code",
   "execution_count": 2,
   "id": "eb8fc687-219e-4ddf-b82e-64df06cf3cbf",
   "metadata": {},
   "outputs": [],
   "source": [
    "from bofire.data_models.domain.api import Domain\n",
    "from bofire.data_models.domain.api import Inputs, Outputs\n",
    "from bofire.data_models.features.api import ContinuousInput, ContinuousOutput, CategoricalInput, CategoricalDescriptorInput  # we won't need all of those."
   ]
  },
  {
   "cell_type": "code",
   "execution_count": 3,
   "id": "2ce468a7-b6dd-478b-a1f7-d0c9a51ecdef",
   "metadata": {},
   "outputs": [],
   "source": [
    "# We wish the temperature of the reaction to be between 0 and 60 °C\n",
    "temperature_feature = ContinuousInput(key='Temperature', bounds = [0.0, 60.0], unit='°C')\n",
    "\n",
    "# Solvent Amount\n",
    "solvent_amount_feature = ContinuousInput(key='Solvent Volume', bounds=[20,90])\n",
    "\n",
    "# we have a couple of solvents in stock, which we'd liek to use\n",
    "solvent_type_feature = CategoricalInput(key = 'Solvent Type', categories = ['MeOH','THF','Dioxane'])\n",
    "\n",
    "\n",
    "# gather all individual features\n",
    "input_features = Inputs(\n",
    "    features = [\n",
    "        temperature_feature,\n",
    "        solvent_type_feature, \n",
    "        solvent_amount_feature,\n",
    "    ]\n",
    ")"
   ]
  },
  {
   "cell_type": "code",
   "execution_count": 4,
   "id": "3ace0feb-9051-4074-b361-dc6424f57d80",
   "metadata": {},
   "outputs": [],
   "source": [
    "# outputs: we wish to maximize the Yield\n",
    "# import Maximize Objective to tell the optimizer you wish to optimize\n",
    "from bofire.data_models.objectives.api import MaximizeObjective\n",
    "\n",
    "objective = MaximizeObjective(\n",
    "    w=1.0,\n",
    ")\n",
    "yield_feature = ContinuousOutput(key=\"Yield\", objective=objective)\n",
    "# create an output feature\n",
    "output_features = Outputs(features=[yield_feature])"
   ]
  },
  {
   "cell_type": "code",
   "execution_count": 5,
   "id": "cfcc28e9-9e3e-4ec4-a095-e759db19c68e",
   "metadata": {},
   "outputs": [
    {
     "data": {
      "text/plain": [
       "MaximizeObjective(type='MaximizeObjective', w=1.0, bounds=(0, 1))"
      ]
     },
     "execution_count": 5,
     "metadata": {},
     "output_type": "execute_result"
    }
   ],
   "source": [
    "objective"
   ]
  },
  {
   "cell_type": "code",
   "execution_count": 6,
   "id": "4380f5d7-bd61-41c5-a3a5-0c28a369b12a",
   "metadata": {},
   "outputs": [
    {
     "name": "stdout",
     "output_type": "stream",
     "text": [
      "input_features: type='Inputs' features=[ContinuousInput(type='ContinuousInput', key='Temperature', unit='°C', bounds=(0.0, 60.0), stepsize=None), CategoricalInput(type='CategoricalInput', key='Solvent Type', categories=['MeOH', 'THF', 'Dioxane'], allowed=[True, True, True]), ContinuousInput(type='ContinuousInput', key='Solvent Volume', unit=None, bounds=(20.0, 90.0), stepsize=None)]\n",
      "output_features: type='Outputs' features=[ContinuousOutput(type='ContinuousOutput', key='Yield', unit=None, objective=MaximizeObjective(type='MaximizeObjective', w=1.0, bounds=(0, 1)))]\n"
     ]
    }
   ],
   "source": [
    "# we now have\n",
    "print('input_features:', input_features)\n",
    "print('output_features:', output_features)"
   ]
  },
  {
   "cell_type": "code",
   "execution_count": 7,
   "id": "b2752d5a-8eba-4378-9de0-b1610dd678fb",
   "metadata": {},
   "outputs": [],
   "source": [
    "# The domain is now the object that holds the entire optimization problem / problem definition.\n",
    "domain = Domain(\n",
    "    inputs = input_features,\n",
    "    outputs = output_features,\n",
    ")"
   ]
  },
  {
   "cell_type": "code",
   "execution_count": 8,
   "id": "8dd9ab91-d84e-4bc2-bbd4-176d2a5d73de",
   "metadata": {},
   "outputs": [
    {
     "data": {
      "text/html": [
       "<div>\n",
       "<style scoped>\n",
       "    .dataframe tbody tr th:only-of-type {\n",
       "        vertical-align: middle;\n",
       "    }\n",
       "\n",
       "    .dataframe tbody tr th {\n",
       "        vertical-align: top;\n",
       "    }\n",
       "\n",
       "    .dataframe thead th {\n",
       "        text-align: right;\n",
       "    }\n",
       "</style>\n",
       "<table border=\"1\" class=\"dataframe\">\n",
       "  <thead>\n",
       "    <tr style=\"text-align: right;\">\n",
       "      <th></th>\n",
       "      <th>Type</th>\n",
       "      <th>Description</th>\n",
       "    </tr>\n",
       "  </thead>\n",
       "  <tbody>\n",
       "    <tr>\n",
       "      <th>Solvent Volume</th>\n",
       "      <td>ContinuousInput</td>\n",
       "      <td>[20.0,90.0]</td>\n",
       "    </tr>\n",
       "    <tr>\n",
       "      <th>Temperature</th>\n",
       "      <td>ContinuousInput</td>\n",
       "      <td>[0.0,60.0]</td>\n",
       "    </tr>\n",
       "    <tr>\n",
       "      <th>Solvent Type</th>\n",
       "      <td>CategoricalInput</td>\n",
       "      <td>3 categories</td>\n",
       "    </tr>\n",
       "    <tr>\n",
       "      <th>Yield</th>\n",
       "      <td>ContinuousOutput</td>\n",
       "      <td>ContinuousOutputFeature</td>\n",
       "    </tr>\n",
       "  </tbody>\n",
       "</table>\n",
       "</div>"
      ],
      "text/plain": [
       "                            Type              Description\n",
       "Solvent Volume   ContinuousInput              [20.0,90.0]\n",
       "Temperature      ContinuousInput               [0.0,60.0]\n",
       "Solvent Type    CategoricalInput             3 categories\n",
       "Yield           ContinuousOutput  ContinuousOutputFeature"
      ]
     },
     "execution_count": 8,
     "metadata": {},
     "output_type": "execute_result"
    }
   ],
   "source": [
    "# you can now have a pretty printout of your domain via\n",
    "domain.get_feature_reps_df()"
   ]
  },
  {
   "cell_type": "code",
   "execution_count": 9,
   "id": "3ec6a44b-6a89-4700-bead-6a5cbe7a071c",
   "metadata": {},
   "outputs": [
    {
     "name": "stdout",
     "output_type": "stream",
     "text": [
      "Solvent Volume | [20.0,90.0]\n",
      "Temperature | [0.0,60.0]\n",
      "Solvent Type | 3 categories\n"
     ]
    }
   ],
   "source": [
    "# and you can access your domain features via \n",
    "for feature_key in  domain.inputs.get_keys(): # this will get all the feature names and loop over them\n",
    "    input_feature = domain.inputs.get_by_key(feature_key) # we can extract the individual feature object by asking for it by name\n",
    "    print(feature_key, '|',  input_feature)"
   ]
  },
  {
   "cell_type": "code",
   "execution_count": 10,
   "id": "b1338ead-3f90-4fa6-973c-41088c3a04b3",
   "metadata": {},
   "outputs": [
    {
     "name": "stdout",
     "output_type": "stream",
     "text": [
      "Yield  |  ContinuousOutput(type='ContinuousOutput', key='Yield', unit=None, objective=MaximizeObjective(type='MaximizeObjective', w=1.0, bounds=(0, 1)))\n"
     ]
    }
   ],
   "source": [
    "# as well as the output features as\n",
    "# and you can access your domain features via \n",
    "for feature_key in  domain.outputs.get_keys(): # this will get all the feature names and loop over them\n",
    "    output_feature = domain.outputs.get_by_key(feature_key) # we can extract the individual feature object by asking for it by name\n",
    "    print(feature_key, ' | ',  output_feature.__repr__())"
   ]
  },
  {
   "cell_type": "code",
   "execution_count": 11,
   "id": "26ff44cd-db3f-465c-8181-47617b363360",
   "metadata": {},
   "outputs": [
    {
     "data": {
      "text/html": [
       "<div>\n",
       "<style scoped>\n",
       "    .dataframe tbody tr th:only-of-type {\n",
       "        vertical-align: middle;\n",
       "    }\n",
       "\n",
       "    .dataframe tbody tr th {\n",
       "        vertical-align: top;\n",
       "    }\n",
       "\n",
       "    .dataframe thead th {\n",
       "        text-align: right;\n",
       "    }\n",
       "</style>\n",
       "<table border=\"1\" class=\"dataframe\">\n",
       "  <thead>\n",
       "    <tr style=\"text-align: right;\">\n",
       "      <th></th>\n",
       "      <th>Type</th>\n",
       "      <th>Description</th>\n",
       "    </tr>\n",
       "  </thead>\n",
       "  <tbody>\n",
       "    <tr>\n",
       "      <th>Solvent Volume</th>\n",
       "      <td>ContinuousInput</td>\n",
       "      <td>[20.0,90.0]</td>\n",
       "    </tr>\n",
       "    <tr>\n",
       "      <th>Temperature</th>\n",
       "      <td>ContinuousInput</td>\n",
       "      <td>[0.0,60.0]</td>\n",
       "    </tr>\n",
       "    <tr>\n",
       "      <th>Solvent Type</th>\n",
       "      <td>CategoricalInput</td>\n",
       "      <td>3 categories</td>\n",
       "    </tr>\n",
       "    <tr>\n",
       "      <th>Yield</th>\n",
       "      <td>ContinuousOutput</td>\n",
       "      <td>ContinuousOutputFeature</td>\n",
       "    </tr>\n",
       "  </tbody>\n",
       "</table>\n",
       "</div>"
      ],
      "text/plain": [
       "                            Type              Description\n",
       "Solvent Volume   ContinuousInput              [20.0,90.0]\n",
       "Temperature      ContinuousInput               [0.0,60.0]\n",
       "Solvent Type    CategoricalInput             3 categories\n",
       "Yield           ContinuousOutput  ContinuousOutputFeature"
      ]
     },
     "execution_count": 11,
     "metadata": {},
     "output_type": "execute_result"
    }
   ],
   "source": [
    "domain.get_feature_reps_df()"
   ]
  },
  {
   "cell_type": "markdown",
   "id": "70e7bd9d-3d9c-44d2-83e6-3ef63415437a",
   "metadata": {},
   "source": [
    "### Import a toy Reaction to play around with\n",
    "We've prepared a reaction emulator, which you can use to emulate a real experiment, and we're going to import and test it here."
   ]
  },
  {
   "cell_type": "code",
   "execution_count": 12,
   "id": "3b0e3708-e8aa-480e-8414-c5a577322e06",
   "metadata": {},
   "outputs": [],
   "source": [
    "from util import evaluate_candidates, create_candidates"
   ]
  },
  {
   "cell_type": "code",
   "execution_count": 13,
   "id": "d06f13a7-f1d4-413d-9460-04b3fbe9ff6b",
   "metadata": {},
   "outputs": [],
   "source": [
    "# create some trial experiments (at unitform random)\n",
    "candidates = create_candidates(domain, nsamples=4)"
   ]
  },
  {
   "cell_type": "code",
   "execution_count": 14,
   "id": "6444f3bb-ccf5-4871-a960-03cdd153e246",
   "metadata": {},
   "outputs": [
    {
     "data": {
      "text/html": [
       "<div>\n",
       "<style scoped>\n",
       "    .dataframe tbody tr th:only-of-type {\n",
       "        vertical-align: middle;\n",
       "    }\n",
       "\n",
       "    .dataframe tbody tr th {\n",
       "        vertical-align: top;\n",
       "    }\n",
       "\n",
       "    .dataframe thead th {\n",
       "        text-align: right;\n",
       "    }\n",
       "</style>\n",
       "<table border=\"1\" class=\"dataframe\">\n",
       "  <thead>\n",
       "    <tr style=\"text-align: right;\">\n",
       "      <th></th>\n",
       "      <th>Temperature</th>\n",
       "      <th>Solvent Volume</th>\n",
       "      <th>Solvent Type</th>\n",
       "    </tr>\n",
       "  </thead>\n",
       "  <tbody>\n",
       "    <tr>\n",
       "      <th>0</th>\n",
       "      <td>46.476136</td>\n",
       "      <td>45.589189</td>\n",
       "      <td>THF</td>\n",
       "    </tr>\n",
       "    <tr>\n",
       "      <th>1</th>\n",
       "      <td>48.599309</td>\n",
       "      <td>73.343809</td>\n",
       "      <td>THF</td>\n",
       "    </tr>\n",
       "    <tr>\n",
       "      <th>2</th>\n",
       "      <td>26.448091</td>\n",
       "      <td>26.457470</td>\n",
       "      <td>THF</td>\n",
       "    </tr>\n",
       "    <tr>\n",
       "      <th>3</th>\n",
       "      <td>47.344757</td>\n",
       "      <td>69.614845</td>\n",
       "      <td>THF</td>\n",
       "    </tr>\n",
       "  </tbody>\n",
       "</table>\n",
       "</div>"
      ],
      "text/plain": [
       "   Temperature  Solvent Volume Solvent Type\n",
       "0    46.476136       45.589189          THF\n",
       "1    48.599309       73.343809          THF\n",
       "2    26.448091       26.457470          THF\n",
       "3    47.344757       69.614845          THF"
      ]
     },
     "execution_count": 14,
     "metadata": {},
     "output_type": "execute_result"
    }
   ],
   "source": [
    "candidates"
   ]
  },
  {
   "cell_type": "code",
   "execution_count": 15,
   "id": "d1d5c9c2-13ac-4839-b544-d85bccc5a448",
   "metadata": {},
   "outputs": [],
   "source": [
    "# we can evaluate the yield of those candidates \n",
    "experiments = evaluate_candidates(domain,candidates)"
   ]
  },
  {
   "cell_type": "code",
   "execution_count": 16,
   "id": "757ec10d-14f3-48c6-a96d-2eff2c474b1b",
   "metadata": {},
   "outputs": [
    {
     "data": {
      "text/html": [
       "<div>\n",
       "<style scoped>\n",
       "    .dataframe tbody tr th:only-of-type {\n",
       "        vertical-align: middle;\n",
       "    }\n",
       "\n",
       "    .dataframe tbody tr th {\n",
       "        vertical-align: top;\n",
       "    }\n",
       "\n",
       "    .dataframe thead th {\n",
       "        text-align: right;\n",
       "    }\n",
       "</style>\n",
       "<table border=\"1\" class=\"dataframe\">\n",
       "  <thead>\n",
       "    <tr style=\"text-align: right;\">\n",
       "      <th></th>\n",
       "      <th>Temperature</th>\n",
       "      <th>Solvent Volume</th>\n",
       "      <th>Yield</th>\n",
       "      <th>Solvent Type</th>\n",
       "      <th>valid_Yield</th>\n",
       "    </tr>\n",
       "  </thead>\n",
       "  <tbody>\n",
       "    <tr>\n",
       "      <th>0</th>\n",
       "      <td>46.476136</td>\n",
       "      <td>45.589189</td>\n",
       "      <td>30.909160</td>\n",
       "      <td>THF</td>\n",
       "      <td>1.0</td>\n",
       "    </tr>\n",
       "    <tr>\n",
       "      <th>1</th>\n",
       "      <td>48.599309</td>\n",
       "      <td>73.343809</td>\n",
       "      <td>36.929578</td>\n",
       "      <td>THF</td>\n",
       "      <td>1.0</td>\n",
       "    </tr>\n",
       "    <tr>\n",
       "      <th>2</th>\n",
       "      <td>26.448091</td>\n",
       "      <td>26.457470</td>\n",
       "      <td>18.109151</td>\n",
       "      <td>THF</td>\n",
       "      <td>1.0</td>\n",
       "    </tr>\n",
       "    <tr>\n",
       "      <th>3</th>\n",
       "      <td>47.344757</td>\n",
       "      <td>69.614845</td>\n",
       "      <td>34.572035</td>\n",
       "      <td>THF</td>\n",
       "      <td>1.0</td>\n",
       "    </tr>\n",
       "  </tbody>\n",
       "</table>\n",
       "</div>"
      ],
      "text/plain": [
       "   Temperature  Solvent Volume      Yield Solvent Type  valid_Yield\n",
       "0    46.476136       45.589189  30.909160          THF          1.0\n",
       "1    48.599309       73.343809  36.929578          THF          1.0\n",
       "2    26.448091       26.457470  18.109151          THF          1.0\n",
       "3    47.344757       69.614845  34.572035          THF          1.0"
      ]
     },
     "execution_count": 16,
     "metadata": {},
     "output_type": "execute_result"
    }
   ],
   "source": [
    "experiments"
   ]
  },
  {
   "cell_type": "markdown",
   "id": "6cd2fc1a-b2fa-42a2-8bac-05aa85444e7b",
   "metadata": {},
   "source": [
    "# Strategy Setup\n",
    "a BO Strategy requires a choice of an acquisition function in order to evaluate the quality of new trial candidates. \n",
    "\n",
    "In this example we'll use the popular **Expected Improvement (EI)** acqf, which can evaluate the expectation value for obtaining a better function value compared to the current best value by utilizing the regression models' prediction of botht the function value as well as the variance at that point. "
   ]
  },
  {
   "cell_type": "code",
   "execution_count": 17,
   "id": "efc381df-750a-472b-a5c0-2b7fa62ba48e",
   "metadata": {},
   "outputs": [
    {
     "name": "stderr",
     "output_type": "stream",
     "text": [
      "/opt/homebrew/Caskroom/miniforge/base/envs/bofire/lib/python3.10/site-packages/tqdm/auto.py:22: TqdmWarning: IProgress not found. Please update jupyter and ipywidgets. See https://ipywidgets.readthedocs.io/en/stable/user_install.html\n",
      "  from .autonotebook import tqdm as notebook_tqdm\n"
     ]
    }
   ],
   "source": [
    "from bofire.data_models.strategies.api import SoboStrategy\n",
    "from bofire.data_models.acquisition_functions.api import qEI\n",
    "\n",
    "import bofire.strategies.api as strategies"
   ]
  },
  {
   "cell_type": "code",
   "execution_count": 18,
   "id": "c45a62f3-2423-4bfb-addf-2aba2c9f08dd",
   "metadata": {},
   "outputs": [],
   "source": [
    "# a single objective BO strategy\n",
    "\n",
    "qExpectedImprovement = qEI()\n",
    "sobo_strategy_data_model = SoboStrategy(\n",
    "    domain=domain,\n",
    "    acquisition_function=qExpectedImprovement,\n",
    ")\n",
    "\n",
    "# map the strategy data model to the actual strategy that has functionality\n",
    "sobo_strategy = strategies.map(sobo_strategy_data_model)\n"
   ]
  },
  {
   "cell_type": "code",
   "execution_count": 19,
   "id": "642c30b6-8ee4-416d-9f1f-270f24212f84",
   "metadata": {},
   "outputs": [],
   "source": [
    "# first we fit the model of the strategy\n",
    "\n",
    "sobo_strategy.tell(experiments)"
   ]
  },
  {
   "cell_type": "markdown",
   "id": "f8bf760e-ad85-4695-83db-483015b7866b",
   "metadata": {},
   "source": [
    "Each implemented strategy has a `strategy.ask(n)` method implemented, where new experiment candidates can be fetched from.  "
   ]
  },
  {
   "cell_type": "code",
   "execution_count": 20,
   "id": "ca0317a8-4bdb-42e5-b216-5cb2a4e15c92",
   "metadata": {},
   "outputs": [],
   "source": [
    "# uncomment and run me to see what's happening!\n",
    "# sobo_strategy.ask(1) "
   ]
  },
  {
   "cell_type": "markdown",
   "id": "3de8bb69-0671-48f6-bad5-f9309c6ed7f9",
   "metadata": {},
   "source": [
    "Since a BO strategy requries an underlying regression model for predictions, it requires a certain amount of initial experiments for it to be able to build such a model.\n",
    "\n",
    "In order to obtain initial experiments, one way is to (pseudo)randomly sample candidate points in the reaction domain. This can e.g. be done by the RandomStrategy. "
   ]
  },
  {
   "cell_type": "code",
   "execution_count": 21,
   "id": "40eae194-3486-4bcd-a69f-c2f37d944325",
   "metadata": {},
   "outputs": [],
   "source": [
    "# a random strategy \n",
    "from bofire.data_models.strategies.api import RandomStrategy as RandomStrategyModel\n",
    "random_strategy_model = RandomStrategyModel(domain=domain)\n",
    "# we have to provide the strategy with our optimization problem so it knows where to sample from.\n",
    "random_strategy = strategies.map(random_strategy_model)"
   ]
  },
  {
   "cell_type": "code",
   "execution_count": 22,
   "id": "9670bdbb-9d79-4695-bb14-d7be9bbe24b9",
   "metadata": {},
   "outputs": [
    {
     "data": {
      "text/plain": [
       "Domain(type='Domain', inputs=Inputs(type='Inputs', features=[ContinuousInput(type='ContinuousInput', key='Temperature', unit='°C', bounds=(0.0, 60.0), stepsize=None), CategoricalInput(type='CategoricalInput', key='Solvent Type', categories=['MeOH', 'THF', 'Dioxane'], allowed=[True, True, True]), ContinuousInput(type='ContinuousInput', key='Solvent Volume', unit=None, bounds=(20.0, 90.0), stepsize=None)]), outputs=Outputs(type='Outputs', features=[ContinuousOutput(type='ContinuousOutput', key='Yield', unit=None, objective=MaximizeObjective(type='MaximizeObjective', w=1.0, bounds=(0, 1)))]), constraints=Constraints(type='Constraints', constraints=[]))"
      ]
     },
     "execution_count": 22,
     "metadata": {},
     "output_type": "execute_result"
    }
   ],
   "source": [
    "domain"
   ]
  },
  {
   "cell_type": "code",
   "execution_count": 23,
   "id": "5d8bfd4f-390f-4ef0-81f4-1d17b9e67c7f",
   "metadata": {},
   "outputs": [],
   "source": [
    "# let's ask for five random sets of conditions\n",
    "candidates = random_strategy.ask(5)"
   ]
  },
  {
   "cell_type": "markdown",
   "id": "5e26985d-950c-4219-b0cb-6352e94ae3b9",
   "metadata": {},
   "source": [
    "you can have a look at the candidates"
   ]
  },
  {
   "cell_type": "code",
   "execution_count": 24,
   "id": "89b0052c-194e-4c0d-8b6e-d874c8f1f8da",
   "metadata": {},
   "outputs": [
    {
     "data": {
      "text/html": [
       "<div>\n",
       "<style scoped>\n",
       "    .dataframe tbody tr th:only-of-type {\n",
       "        vertical-align: middle;\n",
       "    }\n",
       "\n",
       "    .dataframe tbody tr th {\n",
       "        vertical-align: top;\n",
       "    }\n",
       "\n",
       "    .dataframe thead th {\n",
       "        text-align: right;\n",
       "    }\n",
       "</style>\n",
       "<table border=\"1\" class=\"dataframe\">\n",
       "  <thead>\n",
       "    <tr style=\"text-align: right;\">\n",
       "      <th></th>\n",
       "      <th>Solvent Volume</th>\n",
       "      <th>Temperature</th>\n",
       "      <th>Solvent Type</th>\n",
       "    </tr>\n",
       "  </thead>\n",
       "  <tbody>\n",
       "    <tr>\n",
       "      <th>0</th>\n",
       "      <td>86.168081</td>\n",
       "      <td>20.871481</td>\n",
       "      <td>THF</td>\n",
       "    </tr>\n",
       "    <tr>\n",
       "      <th>1</th>\n",
       "      <td>22.871903</td>\n",
       "      <td>20.757238</td>\n",
       "      <td>Dioxane</td>\n",
       "    </tr>\n",
       "    <tr>\n",
       "      <th>2</th>\n",
       "      <td>83.777708</td>\n",
       "      <td>20.294037</td>\n",
       "      <td>Dioxane</td>\n",
       "    </tr>\n",
       "    <tr>\n",
       "      <th>3</th>\n",
       "      <td>40.435307</td>\n",
       "      <td>20.615611</td>\n",
       "      <td>MeOH</td>\n",
       "    </tr>\n",
       "    <tr>\n",
       "      <th>4</th>\n",
       "      <td>23.309146</td>\n",
       "      <td>35.368664</td>\n",
       "      <td>Dioxane</td>\n",
       "    </tr>\n",
       "  </tbody>\n",
       "</table>\n",
       "</div>"
      ],
      "text/plain": [
       "   Solvent Volume  Temperature Solvent Type\n",
       "0       86.168081    20.871481          THF\n",
       "1       22.871903    20.757238      Dioxane\n",
       "2       83.777708    20.294037      Dioxane\n",
       "3       40.435307    20.615611         MeOH\n",
       "4       23.309146    35.368664      Dioxane"
      ]
     },
     "execution_count": 24,
     "metadata": {},
     "output_type": "execute_result"
    }
   ],
   "source": [
    "candidates"
   ]
  },
  {
   "cell_type": "markdown",
   "id": "0d5d9432-7590-4899-83aa-cf358b642ff7",
   "metadata": {},
   "source": [
    "In order to use those experiments as data foundation of the bo strategy above, the output values of these candidates have to be provided. Herein we'll use a dummy function to evaluate some more or less realistic yields given the proposed input candidates as."
   ]
  },
  {
   "cell_type": "code",
   "execution_count": 25,
   "id": "1e246d1b-9ccc-4cb1-a397-9082661bd305",
   "metadata": {},
   "outputs": [],
   "source": [
    "experiments = evaluate_candidates(domain, candidates)"
   ]
  },
  {
   "cell_type": "code",
   "execution_count": 26,
   "id": "f444423c-4360-4446-9133-34e4d6d4e73d",
   "metadata": {},
   "outputs": [
    {
     "data": {
      "text/html": [
       "<div>\n",
       "<style scoped>\n",
       "    .dataframe tbody tr th:only-of-type {\n",
       "        vertical-align: middle;\n",
       "    }\n",
       "\n",
       "    .dataframe tbody tr th {\n",
       "        vertical-align: top;\n",
       "    }\n",
       "\n",
       "    .dataframe thead th {\n",
       "        text-align: right;\n",
       "    }\n",
       "</style>\n",
       "<table border=\"1\" class=\"dataframe\">\n",
       "  <thead>\n",
       "    <tr style=\"text-align: right;\">\n",
       "      <th></th>\n",
       "      <th>Temperature</th>\n",
       "      <th>Solvent Volume</th>\n",
       "      <th>Yield</th>\n",
       "      <th>Solvent Type</th>\n",
       "      <th>valid_Yield</th>\n",
       "    </tr>\n",
       "  </thead>\n",
       "  <tbody>\n",
       "    <tr>\n",
       "      <th>0</th>\n",
       "      <td>20.871481</td>\n",
       "      <td>86.168081</td>\n",
       "      <td>18.772107</td>\n",
       "      <td>THF</td>\n",
       "      <td>1.0</td>\n",
       "    </tr>\n",
       "    <tr>\n",
       "      <th>1</th>\n",
       "      <td>20.757238</td>\n",
       "      <td>22.871903</td>\n",
       "      <td>12.878850</td>\n",
       "      <td>Dioxane</td>\n",
       "      <td>1.0</td>\n",
       "    </tr>\n",
       "    <tr>\n",
       "      <th>2</th>\n",
       "      <td>20.294037</td>\n",
       "      <td>83.777708</td>\n",
       "      <td>14.520040</td>\n",
       "      <td>Dioxane</td>\n",
       "      <td>1.0</td>\n",
       "    </tr>\n",
       "    <tr>\n",
       "      <th>3</th>\n",
       "      <td>20.615611</td>\n",
       "      <td>40.435307</td>\n",
       "      <td>17.001957</td>\n",
       "      <td>MeOH</td>\n",
       "      <td>1.0</td>\n",
       "    </tr>\n",
       "    <tr>\n",
       "      <th>4</th>\n",
       "      <td>35.368664</td>\n",
       "      <td>23.309146</td>\n",
       "      <td>19.364257</td>\n",
       "      <td>Dioxane</td>\n",
       "      <td>1.0</td>\n",
       "    </tr>\n",
       "  </tbody>\n",
       "</table>\n",
       "</div>"
      ],
      "text/plain": [
       "   Temperature  Solvent Volume      Yield Solvent Type  valid_Yield\n",
       "0    20.871481       86.168081  18.772107          THF          1.0\n",
       "1    20.757238       22.871903  12.878850      Dioxane          1.0\n",
       "2    20.294037       83.777708  14.520040      Dioxane          1.0\n",
       "3    20.615611       40.435307  17.001957         MeOH          1.0\n",
       "4    35.368664       23.309146  19.364257      Dioxane          1.0"
      ]
     },
     "execution_count": 26,
     "metadata": {},
     "output_type": "execute_result"
    }
   ],
   "source": [
    "experiments"
   ]
  },
  {
   "cell_type": "markdown",
   "id": "cd7c074e-7369-4543-926f-be162c4a4f36",
   "metadata": {},
   "source": [
    "note, that the columns `Yield` and `valid_Yield` have been added. `Yield` contains the actual output, whereas `valid_Yield` labels the experiment as valid w.r.t. this respective measured output. "
   ]
  },
  {
   "cell_type": "markdown",
   "id": "0dce79c0-09a2-4720-9f0d-437c4f21bd97",
   "metadata": {},
   "source": [
    "This info can now be given to the bo strategy so it can use it to fit the underlying regression model it utilizes via the `strategy.tell()` method."
   ]
  },
  {
   "cell_type": "code",
   "execution_count": 27,
   "id": "8b88124b-4359-4ffe-a082-872f50e04ff3",
   "metadata": {},
   "outputs": [
    {
     "name": "stdout",
     "output_type": "stream",
     "text": [
      "fit took 0.11 seconds\n"
     ]
    }
   ],
   "source": [
    "t1 = time.time()\n",
    "sobo_strategy.tell(experiments, replace=True, retrain=True) \n",
    "print(f'fit took {(time.time()-t1):.2f} seconds')"
   ]
  },
  {
   "cell_type": "markdown",
   "id": "dd42339e-bda4-4704-ab56-c8110b0815bb",
   "metadata": {},
   "source": [
    "Using this data we can now get a proposal for a next point to evaluate via the `sobo_strategy.ask(1)` method."
   ]
  },
  {
   "cell_type": "code",
   "execution_count": 28,
   "id": "4d67eb95-c797-4787-95d4-7cfafc6c769f",
   "metadata": {},
   "outputs": [
    {
     "name": "stdout",
     "output_type": "stream",
     "text": [
      "SOBO step took 5.00 seconds\n"
     ]
    }
   ],
   "source": [
    "t1 = time.time()\n",
    "new_candidate = sobo_strategy.ask(1)\n",
    "print(f'SOBO step took {(time.time()-t1):.2f} seconds')"
   ]
  },
  {
   "cell_type": "markdown",
   "id": "2d331066-b658-4625-abed-c9989801d08f",
   "metadata": {},
   "source": [
    "This ask call now takes way longer, since first a GP model is fitted to the data, and the acquisition function **EI** is optimized to obtain the new proposed candidiates. Note that the predictied yield and standard deviation, as well as desirability function value (the underlying value the optimizer sees) are provided in the new_candidate dataframe."
   ]
  },
  {
   "cell_type": "code",
   "execution_count": 29,
   "id": "b4497026-cc6a-4d85-aec0-90a4b2f5a0dd",
   "metadata": {},
   "outputs": [
    {
     "data": {
      "text/html": [
       "<div>\n",
       "<style scoped>\n",
       "    .dataframe tbody tr th:only-of-type {\n",
       "        vertical-align: middle;\n",
       "    }\n",
       "\n",
       "    .dataframe tbody tr th {\n",
       "        vertical-align: top;\n",
       "    }\n",
       "\n",
       "    .dataframe thead th {\n",
       "        text-align: right;\n",
       "    }\n",
       "</style>\n",
       "<table border=\"1\" class=\"dataframe\">\n",
       "  <thead>\n",
       "    <tr style=\"text-align: right;\">\n",
       "      <th></th>\n",
       "      <th>Solvent Volume</th>\n",
       "      <th>Temperature</th>\n",
       "      <th>Solvent Type</th>\n",
       "      <th>Yield_pred</th>\n",
       "      <th>Yield_sd</th>\n",
       "      <th>Yield_des</th>\n",
       "    </tr>\n",
       "  </thead>\n",
       "  <tbody>\n",
       "    <tr>\n",
       "      <th>0</th>\n",
       "      <td>81.465304</td>\n",
       "      <td>36.001689</td>\n",
       "      <td>Dioxane</td>\n",
       "      <td>18.603615</td>\n",
       "      <td>1.746688</td>\n",
       "      <td>18.603615</td>\n",
       "    </tr>\n",
       "  </tbody>\n",
       "</table>\n",
       "</div>"
      ],
      "text/plain": [
       "   Solvent Volume  Temperature Solvent Type  Yield_pred  Yield_sd  Yield_des\n",
       "0       81.465304    36.001689      Dioxane   18.603615  1.746688  18.603615"
      ]
     },
     "execution_count": 29,
     "metadata": {},
     "output_type": "execute_result"
    }
   ],
   "source": [
    "new_candidate"
   ]
  },
  {
   "cell_type": "markdown",
   "id": "3538958c-859f-45eb-a1c8-d46dc872f355",
   "metadata": {},
   "source": [
    "## Optimization Loop\n",
    "With this `strategy.ask()` and `strategy.tell()` we can now do our optimization loop, where after each new proposal, the conditions obtained from `ask` are evaluated and added to the known datapoints via `tell`. This requires to refit the underling model in each step.\n"
   ]
  },
  {
   "cell_type": "code",
   "execution_count": 30,
   "id": "302ad31a-320c-4bab-bf3f-fedb3c3341bb",
   "metadata": {},
   "outputs": [],
   "source": [
    "experimental_budget = 10\n",
    "i = 0\n",
    "done=False if SMOKE_TEST is False else True # in case of smoke_test we don't run the actual optimization loop ... \n",
    "\n",
    "while not done:\n",
    "    i += 1\n",
    "    t1 = time.time()\n",
    "    # ask for a new experiment\n",
    "    new_candidate = sobo_strategy.ask(1)\n",
    "    new_experiment = evaluate_candidates(domain, new_candidate)\n",
    "    sobo_strategy.tell(new_experiment)\n",
    "    print(f'Iteration took {(time.time()-t1):.2f} seconds')\n",
    "    # inform the strategy about the new experiment\n",
    "    # experiments = pd.concat([experiments,new_experiment],ignore_index=True)\n",
    "    if i > experimental_budget:\n",
    "        done = True\n",
    "    "
   ]
  },
  {
   "cell_type": "markdown",
   "id": "00bfc0c5-a403-42ea-89f4-3e49145d2665",
   "metadata": {},
   "source": [
    "### investigating results"
   ]
  },
  {
   "cell_type": "code",
   "execution_count": 31,
   "id": "a1092c38-dfe4-4e5e-9675-796f8a4fc8fb",
   "metadata": {},
   "outputs": [
    {
     "data": {
      "text/html": [
       "<div>\n",
       "<style scoped>\n",
       "    .dataframe tbody tr th:only-of-type {\n",
       "        vertical-align: middle;\n",
       "    }\n",
       "\n",
       "    .dataframe tbody tr th {\n",
       "        vertical-align: top;\n",
       "    }\n",
       "\n",
       "    .dataframe thead th {\n",
       "        text-align: right;\n",
       "    }\n",
       "</style>\n",
       "<table border=\"1\" class=\"dataframe\">\n",
       "  <thead>\n",
       "    <tr style=\"text-align: right;\">\n",
       "      <th></th>\n",
       "      <th>Temperature</th>\n",
       "      <th>Solvent Volume</th>\n",
       "      <th>Yield</th>\n",
       "      <th>Solvent Type</th>\n",
       "      <th>valid_Yield</th>\n",
       "    </tr>\n",
       "  </thead>\n",
       "  <tbody>\n",
       "    <tr>\n",
       "      <th>0</th>\n",
       "      <td>20.871481</td>\n",
       "      <td>86.168081</td>\n",
       "      <td>18.772107</td>\n",
       "      <td>THF</td>\n",
       "      <td>1.0</td>\n",
       "    </tr>\n",
       "    <tr>\n",
       "      <th>1</th>\n",
       "      <td>20.757238</td>\n",
       "      <td>22.871903</td>\n",
       "      <td>12.878850</td>\n",
       "      <td>Dioxane</td>\n",
       "      <td>1.0</td>\n",
       "    </tr>\n",
       "    <tr>\n",
       "      <th>2</th>\n",
       "      <td>20.294037</td>\n",
       "      <td>83.777708</td>\n",
       "      <td>14.520040</td>\n",
       "      <td>Dioxane</td>\n",
       "      <td>1.0</td>\n",
       "    </tr>\n",
       "    <tr>\n",
       "      <th>3</th>\n",
       "      <td>20.615611</td>\n",
       "      <td>40.435307</td>\n",
       "      <td>17.001957</td>\n",
       "      <td>MeOH</td>\n",
       "      <td>1.0</td>\n",
       "    </tr>\n",
       "    <tr>\n",
       "      <th>4</th>\n",
       "      <td>35.368664</td>\n",
       "      <td>23.309146</td>\n",
       "      <td>19.364257</td>\n",
       "      <td>Dioxane</td>\n",
       "      <td>1.0</td>\n",
       "    </tr>\n",
       "  </tbody>\n",
       "</table>\n",
       "</div>"
      ],
      "text/plain": [
       "   Temperature  Solvent Volume      Yield Solvent Type  valid_Yield\n",
       "0    20.871481       86.168081  18.772107          THF          1.0\n",
       "1    20.757238       22.871903  12.878850      Dioxane          1.0\n",
       "2    20.294037       83.777708  14.520040      Dioxane          1.0\n",
       "3    20.615611       40.435307  17.001957         MeOH          1.0\n",
       "4    35.368664       23.309146  19.364257      Dioxane          1.0"
      ]
     },
     "execution_count": 31,
     "metadata": {},
     "output_type": "execute_result"
    }
   ],
   "source": [
    "# you have access to the experiments here\n",
    "sobo_strategy.experiments "
   ]
  },
  {
   "cell_type": "code",
   "execution_count": 32,
   "id": "1e073b2c-6672-4471-8201-e23b764d57d7",
   "metadata": {},
   "outputs": [
    {
     "data": {
      "text/plain": [
       "<Axes: >"
      ]
     },
     "execution_count": 32,
     "metadata": {},
     "output_type": "execute_result"
    },
    {
     "data": {
      "image/png": "[encoded data removed]",
      "text/plain": [
       "<Figure size 640x480 with 1 Axes>"
      ]
     },
     "metadata": {},
     "output_type": "display_data"
    }
   ],
   "source": [
    "# quick plot of yield vs. Iteration\n",
    "sobo_strategy.experiments['Yield'].plot()"
   ]
  },
  {
   "cell_type": "markdown",
   "id": "c045013e-e109-4b8a-afdd-684b194af6f8",
   "metadata": {},
   "source": [
    "### Exercises: \n",
    "* further analyze of the experiments. \n",
    "    * plot of Iteration vs. Y and best observed Y\n",
    "    * evaluation of final model w.r.t. Optimal conditions\n",
    "    * plot of final models' mean and variance as a function of the input parameters, perhaps different plots for each solvent, or in 3d as slices"
   ]
  },
  {
   "cell_type": "code",
   "execution_count": null,
   "id": "8fbf517d-088a-420a-a2bc-4450262bc720",
   "metadata": {},
   "outputs": [],
   "source": []
  }
 ],
 "metadata": {
  "kernelspec": {
   "display_name": "bofire_devel",
   "language": "python",
   "name": "python3"
  },
  "language_info": {
   "codemirror_mode": {
    "name": "ipython",
    "version": 3
   },
   "file_extension": ".py",
   "mimetype": "text/x-python",
   "name": "python",
   "nbconvert_exporter": "python",
   "pygments_lexer": "ipython3",
   "version": "3.10.9"
  },
  "vscode": {
   "interpreter": {
    "hash": "b9bdc9e617e457afdaedd2563eddde9c04c87768cb2f63795a1786b83528ca68"
   }
  }
 },
 "nbformat": 4,
 "nbformat_minor": 5
}
