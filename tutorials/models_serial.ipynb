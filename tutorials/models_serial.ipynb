{
 "cells": [
  {
   "attachments": {},
   "cell_type": "markdown",
   "metadata": {},
   "source": [
    "# Model Building with BoFire\n",
    "\n",
    "This notebooks shows how to setup and analyze models trained with BoFire. It is stil WIP."
   ]
  },
  {
   "attachments": {},
   "cell_type": "markdown",
   "metadata": {},
   "source": [
    "## Imports"
   ]
  },
  {
   "cell_type": "code",
   "execution_count": 1,
   "metadata": {},
   "outputs": [
    {
     "name": "stderr",
     "output_type": "stream",
     "text": [
      "/opt/homebrew/Caskroom/miniforge/base/envs/bofire/lib/python3.10/site-packages/tqdm/auto.py:22: TqdmWarning: IProgress not found. Please update jupyter and ipywidgets. See https://ipywidgets.readthedocs.io/en/stable/user_install.html\n",
      "  from .autonotebook import tqdm as notebook_tqdm\n"
     ]
    }
   ],
   "source": [
    "from bofire.data_models.features.api import (\n",
    "    ContinuousInput,\n",
    "    ContinuousOutput,\n",
    ")\n",
    "from bofire.data_models.domain.api import Inputs, Outputs\n",
    "from bofire.data_models.surrogates.api import SingleTaskGPSurrogate, RandomForestSurrogate, MixedSingleTaskGPSurrogate, AnySurrogate, RandomForestSurrogate\n",
    "from bofire.benchmarks.single import Himmelblau\n",
    "from bofire.benchmarks.multi import CrossCoupling\n",
    "import bofire.surrogates.api as surrogates\n",
    "import json\n",
    "from bofire.data_models.enum import CategoricalEncodingEnum\n",
    "\n",
    "from pydantic import parse_obj_as"
   ]
  },
  {
   "attachments": {},
   "cell_type": "markdown",
   "metadata": {},
   "source": [
    "## Problem Setup\n",
    "\n",
    "For didactic purposes, we sample data from a Himmelblau benchmark function and use them to train a SingleTaskGP."
   ]
  },
  {
   "cell_type": "code",
   "execution_count": 4,
   "metadata": {},
   "outputs": [
    {
     "data": {
      "text/html": [
       "<div>\n",
       "<style scoped>\n",
       "    .dataframe tbody tr th:only-of-type {\n",
       "        vertical-align: middle;\n",
       "    }\n",
       "\n",
       "    .dataframe tbody tr th {\n",
       "        vertical-align: top;\n",
       "    }\n",
       "\n",
       "    .dataframe thead th {\n",
       "        text-align: right;\n",
       "    }\n",
       "</style>\n",
       "<table border=\"1\" class=\"dataframe\">\n",
       "  <thead>\n",
       "    <tr style=\"text-align: right;\">\n",
       "      <th></th>\n",
       "      <th>x_1</th>\n",
       "      <th>x_2</th>\n",
       "      <th>y</th>\n",
       "      <th>valid_y</th>\n",
       "    </tr>\n",
       "  </thead>\n",
       "  <tbody>\n",
       "    <tr>\n",
       "      <th>0</th>\n",
       "      <td>-0.503564</td>\n",
       "      <td>-2.530529</td>\n",
       "      <td>177.487428</td>\n",
       "      <td>1</td>\n",
       "    </tr>\n",
       "    <tr>\n",
       "      <th>1</th>\n",
       "      <td>-1.524027</td>\n",
       "      <td>-3.366221</td>\n",
       "      <td>152.928940</td>\n",
       "      <td>1</td>\n",
       "    </tr>\n",
       "    <tr>\n",
       "      <th>2</th>\n",
       "      <td>0.642145</td>\n",
       "      <td>2.663061</td>\n",
       "      <td>63.337918</td>\n",
       "      <td>1</td>\n",
       "    </tr>\n",
       "    <tr>\n",
       "      <th>3</th>\n",
       "      <td>-2.909026</td>\n",
       "      <td>3.811943</td>\n",
       "      <td>22.985851</td>\n",
       "      <td>1</td>\n",
       "    </tr>\n",
       "    <tr>\n",
       "      <th>4</th>\n",
       "      <td>0.096535</td>\n",
       "      <td>-3.248111</td>\n",
       "      <td>216.042024</td>\n",
       "      <td>1</td>\n",
       "    </tr>\n",
       "    <tr>\n",
       "      <th>5</th>\n",
       "      <td>2.994917</td>\n",
       "      <td>-0.071841</td>\n",
       "      <td>20.419082</td>\n",
       "      <td>1</td>\n",
       "    </tr>\n",
       "    <tr>\n",
       "      <th>6</th>\n",
       "      <td>-1.949467</td>\n",
       "      <td>-1.314282</td>\n",
       "      <td>124.644996</td>\n",
       "      <td>1</td>\n",
       "    </tr>\n",
       "    <tr>\n",
       "      <th>7</th>\n",
       "      <td>0.730300</td>\n",
       "      <td>1.864153</td>\n",
       "      <td>81.813120</td>\n",
       "      <td>1</td>\n",
       "    </tr>\n",
       "    <tr>\n",
       "      <th>8</th>\n",
       "      <td>-3.196244</td>\n",
       "      <td>-3.284751</td>\n",
       "      <td>16.906965</td>\n",
       "      <td>1</td>\n",
       "    </tr>\n",
       "    <tr>\n",
       "      <th>9</th>\n",
       "      <td>-2.487994</td>\n",
       "      <td>3.537119</td>\n",
       "      <td>10.759791</td>\n",
       "      <td>1</td>\n",
       "    </tr>\n",
       "  </tbody>\n",
       "</table>\n",
       "</div>"
      ],
      "text/plain": [
       "        x_1       x_2           y  valid_y\n",
       "0 -0.503564 -2.530529  177.487428        1\n",
       "1 -1.524027 -3.366221  152.928940        1\n",
       "2  0.642145  2.663061   63.337918        1\n",
       "3 -2.909026  3.811943   22.985851        1\n",
       "4  0.096535 -3.248111  216.042024        1\n",
       "5  2.994917 -0.071841   20.419082        1\n",
       "6 -1.949467 -1.314282  124.644996        1\n",
       "7  0.730300  1.864153   81.813120        1\n",
       "8 -3.196244 -3.284751   16.906965        1\n",
       "9 -2.487994  3.537119   10.759791        1"
      ]
     },
     "execution_count": 4,
     "metadata": {},
     "output_type": "execute_result"
    }
   ],
   "source": [
    "benchmark = Himmelblau()\n",
    "samples = benchmark.domain.inputs.sample(n=50)\n",
    "experiments = benchmark.f(samples, return_complete=True)\n",
    "\n",
    "experiments.head(10)"
   ]
  },
  {
   "attachments": {},
   "cell_type": "markdown",
   "metadata": {},
   "source": [
    "## Model Fitting\n"
   ]
  },
  {
   "cell_type": "code",
   "execution_count": 5,
   "metadata": {},
   "outputs": [],
   "source": [
    "input_features = benchmark.domain.input_features\n",
    "output_features = benchmark.domain.output_features"
   ]
  },
  {
   "cell_type": "code",
   "execution_count": 6,
   "metadata": {},
   "outputs": [
    {
     "data": {
      "text/plain": [
       "'{\"type\": \"Inputs\", \"features\": [{\"type\": \"ContinuousInput\", \"key\": \"x_1\", \"lower_bound\": -4.0, \"upper_bound\": 4.0}, {\"type\": \"ContinuousInput\", \"key\": \"x_2\", \"lower_bound\": -4.0, \"upper_bound\": 4.0}]}'"
      ]
     },
     "execution_count": 6,
     "metadata": {},
     "output_type": "execute_result"
    }
   ],
   "source": [
    "input_features.json()"
   ]
  },
  {
   "cell_type": "code",
   "execution_count": 7,
   "metadata": {},
   "outputs": [
    {
     "data": {
      "text/plain": [
       "'{\"type\": \"Outputs\", \"features\": [{\"type\": \"ContinuousOutput\", \"key\": \"y\", \"objective\": {\"type\": \"MaximizeObjective\", \"w\": 1.0, \"lower_bound\": 0, \"upper_bound\": 1}}]}'"
      ]
     },
     "execution_count": 7,
     "metadata": {},
     "output_type": "execute_result"
    }
   ],
   "source": [
    "output_features.json()"
   ]
  },
  {
   "attachments": {},
   "cell_type": "markdown",
   "metadata": {},
   "source": [
    "### Single Task GP\n",
    "\n",
    "Generate the json spec"
   ]
  },
  {
   "cell_type": "code",
   "execution_count": 8,
   "metadata": {},
   "outputs": [
    {
     "data": {
      "text/plain": [
       "'{\"type\": \"SingleTaskGPSurrogate\", \"input_features\": {\"type\": \"Inputs\", \"features\": [{\"type\": \"ContinuousInput\", \"key\": \"x_1\", \"lower_bound\": -4.0, \"upper_bound\": 4.0}, {\"type\": \"ContinuousInput\", \"key\": \"x_2\", \"lower_bound\": -4.0, \"upper_bound\": 4.0}]}, \"output_features\": {\"type\": \"Outputs\", \"features\": [{\"type\": \"ContinuousOutput\", \"key\": \"y\", \"objective\": {\"type\": \"MaximizeObjective\", \"w\": 1.0, \"lower_bound\": 0, \"upper_bound\": 1}}]}, \"input_preprocessing_specs\": {}, \"kernel\": {\"type\": \"ScaleKernel\", \"base_kernel\": {\"type\": \"MaternKernel\", \"ard\": true, \"nu\": 2.5, \"lengthscale_prior\": {\"type\": \"GammaPrior\", \"concentration\": 3.0, \"rate\": 6.0}}, \"outputscale_prior\": {\"type\": \"GammaPrior\", \"concentration\": 2.0, \"rate\": 0.15}}, \"scaler\": \"NORMALIZE\"}'"
      ]
     },
     "execution_count": 8,
     "metadata": {},
     "output_type": "execute_result"
    }
   ],
   "source": [
    "# we setup the data model, here a Single Task GP\n",
    "surrogate_data = SingleTaskGPSurrogate(\n",
    "    input_features=input_features,\n",
    "    output_features=output_features\n",
    ")\n",
    "\n",
    "# we generate the json spec\n",
    "jspec = surrogate_data.json()\n",
    "\n",
    "jspec"
   ]
  },
  {
   "attachments": {},
   "cell_type": "markdown",
   "metadata": {},
   "source": [
    "Load it from the spec"
   ]
  },
  {
   "cell_type": "code",
   "execution_count": 42,
   "metadata": {},
   "outputs": [],
   "source": [
    "surrogate_data = parse_obj_as(AnySurrogate, json.loads(jspec))"
   ]
  },
  {
   "attachments": {},
   "cell_type": "markdown",
   "metadata": {},
   "source": [
    "Map it "
   ]
  },
  {
   "cell_type": "code",
   "execution_count": 32,
   "metadata": {},
   "outputs": [],
   "source": [
    "surrogate = surrogates.map(surrogate_data)"
   ]
  },
  {
   "attachments": {},
   "cell_type": "markdown",
   "metadata": {},
   "source": [
    "Fit it. This is not 100% finished. In the future we will call here hyperfit which will return the CV results etc. This has to be finished. So ignore this for now and just call fit."
   ]
  },
  {
   "cell_type": "code",
   "execution_count": 8,
   "metadata": {},
   "outputs": [],
   "source": [
    "surrogate.fit(experiments=experiments)"
   ]
  },
  {
   "attachments": {},
   "cell_type": "markdown",
   "metadata": {},
   "source": [
    "Dump it."
   ]
  },
  {
   "cell_type": "code",
   "execution_count": 9,
   "metadata": {},
   "outputs": [],
   "source": [
    "# dump it\n",
    "dump = surrogate.dumps()"
   ]
  },
  {
   "attachments": {},
   "cell_type": "markdown",
   "metadata": {},
   "source": [
    "Make predictions."
   ]
  },
  {
   "cell_type": "code",
   "execution_count": 10,
   "metadata": {},
   "outputs": [],
   "source": [
    "# predict with it\n",
    "df_predictions = surrogate.predict(experiments)\n",
    "# transform to spec\n",
    "predictions = surrogate.to_predictions(predictions=df_predictions)"
   ]
  },
  {
   "attachments": {},
   "cell_type": "markdown",
   "metadata": {},
   "source": [
    "Load again from spec and dump and make predictions."
   ]
  },
  {
   "cell_type": "code",
   "execution_count": 34,
   "metadata": {},
   "outputs": [],
   "source": [
    "surrogate_data = parse_obj_as(AnySurrogate, json.loads(jspec))\n",
    "surrogate = surrogates.map(surrogate_data)\n",
    "surrogate.loads(dump)\n",
    "\n",
    "# predict with it\n",
    "df_predictions2 = surrogate.predict(experiments)\n",
    "# transform to spec\n",
    "predictions2 = surrogate.to_predictions(predictions=df_predictions2)\n",
    "\n",
    "# check for equality\n",
    "predictions==predictions2\n"
   ]
  },
  {
   "attachments": {},
   "cell_type": "markdown",
   "metadata": {},
   "source": [
    "### Random Forest\n",
    "\n",
    "Generate the json spec"
   ]
  },
  {
   "cell_type": "code",
   "execution_count": 48,
   "metadata": {},
   "outputs": [
    {
     "data": {
      "text/plain": [
       "'{\"type\": \"RandomForestSurrogate\", \"input_features\": {\"type\": \"Inputs\", \"features\": [{\"type\": \"ContinuousInput\", \"key\": \"x_1\", \"lower_bound\": -4.0, \"upper_bound\": 4.0}, {\"type\": \"ContinuousInput\", \"key\": \"x_2\", \"lower_bound\": -4.0, \"upper_bound\": 4.0}]}, \"output_features\": {\"type\": \"Outputs\", \"features\": [{\"type\": \"ContinuousOutput\", \"key\": \"y\", \"objective\": {\"type\": \"MaximizeObjective\", \"w\": 1.0, \"lower_bound\": 0, \"upper_bound\": 1}}]}, \"input_preprocessing_specs\": {}, \"n_estimators\": 100, \"criterion\": \"squared_error\", \"max_depth\": null, \"min_samples_split\": 2, \"min_samples_leaf\": 1, \"min_weight_fraction_leaf\": 0.0, \"max_features\": 1.0, \"max_leaf_nodes\": null, \"min_impurity_decrease\": 0.0, \"bootstrap\": true, \"oob_score\": false, \"random_state\": 42, \"ccp_alpha\": 0.0, \"max_samples\": null}'"
      ]
     },
     "execution_count": 48,
     "metadata": {},
     "output_type": "execute_result"
    }
   ],
   "source": [
    "# we setup the data model, here a Single Task GP\n",
    "surrogate_data = RandomForestSurrogate(\n",
    "    input_features=input_features,\n",
    "    output_features=output_features,\n",
    "    random_state=42\n",
    ")\n",
    "\n",
    "# we generate the json spec\n",
    "jspec = surrogate_data.json()\n",
    "\n",
    "jspec"
   ]
  },
  {
   "cell_type": "code",
   "execution_count": 49,
   "metadata": {},
   "outputs": [],
   "source": [
    "# Load it from the spec\n",
    "surrogate_data = parse_obj_as(AnySurrogate, json.loads(jspec))\n",
    "# Map it \n",
    "surrogate = surrogates.map(surrogate_data)\n",
    "# Fit it\n",
    "surrogate.fit(experiments=experiments)\n",
    "# dump it\n",
    "dump = surrogate.dumps()\n",
    "# predict with it\n",
    "df_predictions = surrogate.predict(experiments)\n",
    "# transform to spec\n",
    "predictions = surrogate.to_predictions(predictions=df_predictions)"
   ]
  },
  {
   "cell_type": "code",
   "execution_count": 50,
   "metadata": {},
   "outputs": [
    {
     "data": {
      "text/plain": [
       "True"
      ]
     },
     "execution_count": 50,
     "metadata": {},
     "output_type": "execute_result"
    }
   ],
   "source": [
    "surrogate_data = parse_obj_as(AnySurrogate, json.loads(jspec))\n",
    "surrogate = surrogates.map(surrogate_data)\n",
    "surrogate.loads(dump)\n",
    "\n",
    "# predict with it\n",
    "df_predictions2 = surrogate.predict(experiments)\n",
    "# transform to spec\n",
    "predictions2 = surrogate.to_predictions(predictions=df_predictions2)\n",
    "\n",
    "# check for equality\n",
    "predictions==predictions2"
   ]
  },
  {
   "attachments": {},
   "cell_type": "markdown",
   "metadata": {},
   "source": [
    "### Mixed GP\n",
    "\n",
    "Generate the json spec"
   ]
  },
  {
   "cell_type": "code",
   "execution_count": 9,
   "metadata": {},
   "outputs": [
    {
     "ename": "ValidationError",
     "evalue": "1 validation error for MixedSingleTaskGPSurrogate\ninput_preprocessing_specs\n  MixedSingleTaskGPSurrogate can only be used if at least one one-hot encoded categorical feature is present. (type=value_error)",
     "output_type": "error",
     "traceback": [
      "\u001b[0;31m---------------------------------------------------------------------------\u001b[0m",
      "\u001b[0;31mValidationError\u001b[0m                           Traceback (most recent call last)",
      "Cell \u001b[0;32mIn[9], line 2\u001b[0m\n\u001b[1;32m      1\u001b[0m \u001b[39m# we setup the data model, here a Single Task GP\u001b[39;00m\n\u001b[0;32m----> 2\u001b[0m surrogate_data \u001b[39m=\u001b[39m MixedSingleTaskGPSurrogate(\n\u001b[1;32m      3\u001b[0m     input_features\u001b[39m=\u001b[39;49minput_features,\n\u001b[1;32m      4\u001b[0m     output_features\u001b[39m=\u001b[39;49moutput_features,\n\u001b[1;32m      5\u001b[0m )\n\u001b[1;32m      7\u001b[0m \u001b[39m# we generate the json spec\u001b[39;00m\n\u001b[1;32m      8\u001b[0m jspec \u001b[39m=\u001b[39m surrogate_data\u001b[39m.\u001b[39mjson()\n",
      "File \u001b[0;32m/opt/homebrew/Caskroom/miniforge/base/envs/bofire/lib/python3.10/site-packages/pydantic/main.py:342\u001b[0m, in \u001b[0;36mpydantic.main.BaseModel.__init__\u001b[0;34m()\u001b[0m\n",
      "\u001b[0;31mValidationError\u001b[0m: 1 validation error for MixedSingleTaskGPSurrogate\ninput_preprocessing_specs\n  MixedSingleTaskGPSurrogate can only be used if at least one one-hot encoded categorical feature is present. (type=value_error)"
     ]
    }
   ],
   "source": [
    "# we setup the data model, here a Single Task GP\n",
    "surrogate_data = MixedSingleTaskGPSurrogate(\n",
    "    input_features=input_features,\n",
    "    output_features=output_features,\n",
    ")\n",
    "\n",
    "# we generate the json spec\n",
    "jspec = surrogate_data.json()\n",
    "\n",
    "jspec"
   ]
  },
  {
   "attachments": {},
   "cell_type": "markdown",
   "metadata": {},
   "source": [
    "As expected this fails, as we do not have any categorical feature in the dataset. So we have to setup another problem."
   ]
  },
  {
   "cell_type": "code",
   "execution_count": 10,
   "metadata": {},
   "outputs": [
    {
     "data": {
      "text/html": [
       "<div>\n",
       "<style scoped>\n",
       "    .dataframe tbody tr th:only-of-type {\n",
       "        vertical-align: middle;\n",
       "    }\n",
       "\n",
       "    .dataframe tbody tr th {\n",
       "        vertical-align: top;\n",
       "    }\n",
       "\n",
       "    .dataframe thead th {\n",
       "        text-align: right;\n",
       "    }\n",
       "</style>\n",
       "<table border=\"1\" class=\"dataframe\">\n",
       "  <thead>\n",
       "    <tr style=\"text-align: right;\">\n",
       "      <th></th>\n",
       "      <th>base_eq</th>\n",
       "      <th>t_res</th>\n",
       "      <th>temperature</th>\n",
       "      <th>base</th>\n",
       "      <th>catalyst</th>\n",
       "      <th>yield</th>\n",
       "      <th>cost</th>\n",
       "      <th>valid_cost</th>\n",
       "      <th>valid_yield</th>\n",
       "    </tr>\n",
       "  </thead>\n",
       "  <tbody>\n",
       "    <tr>\n",
       "      <th>0</th>\n",
       "      <td>1.108878</td>\n",
       "      <td>561.134791</td>\n",
       "      <td>58.990544</td>\n",
       "      <td>DBU</td>\n",
       "      <td>tBuXPhos</td>\n",
       "      <td>0.412899</td>\n",
       "      <td>0.249450</td>\n",
       "      <td>1</td>\n",
       "      <td>1</td>\n",
       "    </tr>\n",
       "    <tr>\n",
       "      <th>1</th>\n",
       "      <td>1.119897</td>\n",
       "      <td>1638.626700</td>\n",
       "      <td>38.141564</td>\n",
       "      <td>TEA</td>\n",
       "      <td>tBuBrettPhos</td>\n",
       "      <td>0.114862</td>\n",
       "      <td>0.278678</td>\n",
       "      <td>1</td>\n",
       "      <td>1</td>\n",
       "    </tr>\n",
       "    <tr>\n",
       "      <th>2</th>\n",
       "      <td>1.025228</td>\n",
       "      <td>1152.919137</td>\n",
       "      <td>33.574324</td>\n",
       "      <td>DBU</td>\n",
       "      <td>AlPhos</td>\n",
       "      <td>0.931872</td>\n",
       "      <td>0.420131</td>\n",
       "      <td>1</td>\n",
       "      <td>1</td>\n",
       "    </tr>\n",
       "    <tr>\n",
       "      <th>3</th>\n",
       "      <td>2.398088</td>\n",
       "      <td>276.503577</td>\n",
       "      <td>82.572749</td>\n",
       "      <td>BTMG</td>\n",
       "      <td>tBuBrettPhos</td>\n",
       "      <td>1.003118</td>\n",
       "      <td>0.383019</td>\n",
       "      <td>1</td>\n",
       "      <td>1</td>\n",
       "    </tr>\n",
       "    <tr>\n",
       "      <th>4</th>\n",
       "      <td>2.108768</td>\n",
       "      <td>716.139937</td>\n",
       "      <td>55.254079</td>\n",
       "      <td>TMG</td>\n",
       "      <td>tBuXPhos</td>\n",
       "      <td>0.114621</td>\n",
       "      <td>0.248316</td>\n",
       "      <td>1</td>\n",
       "      <td>1</td>\n",
       "    </tr>\n",
       "    <tr>\n",
       "      <th>5</th>\n",
       "      <td>1.131651</td>\n",
       "      <td>383.878986</td>\n",
       "      <td>35.294437</td>\n",
       "      <td>BTMG</td>\n",
       "      <td>AlPhos</td>\n",
       "      <td>0.955243</td>\n",
       "      <td>0.468442</td>\n",
       "      <td>1</td>\n",
       "      <td>1</td>\n",
       "    </tr>\n",
       "    <tr>\n",
       "      <th>6</th>\n",
       "      <td>1.422897</td>\n",
       "      <td>1476.426426</td>\n",
       "      <td>44.983435</td>\n",
       "      <td>TMG</td>\n",
       "      <td>AlPhos</td>\n",
       "      <td>0.194928</td>\n",
       "      <td>0.419063</td>\n",
       "      <td>1</td>\n",
       "      <td>1</td>\n",
       "    </tr>\n",
       "    <tr>\n",
       "      <th>7</th>\n",
       "      <td>1.784293</td>\n",
       "      <td>972.424187</td>\n",
       "      <td>85.569375</td>\n",
       "      <td>BTMG</td>\n",
       "      <td>tBuBrettPhos</td>\n",
       "      <td>1.030528</td>\n",
       "      <td>0.356208</td>\n",
       "      <td>1</td>\n",
       "      <td>1</td>\n",
       "    </tr>\n",
       "    <tr>\n",
       "      <th>8</th>\n",
       "      <td>2.259056</td>\n",
       "      <td>1325.443448</td>\n",
       "      <td>83.484574</td>\n",
       "      <td>TMG</td>\n",
       "      <td>AlPhos</td>\n",
       "      <td>0.724812</td>\n",
       "      <td>0.419093</td>\n",
       "      <td>1</td>\n",
       "      <td>1</td>\n",
       "    </tr>\n",
       "    <tr>\n",
       "      <th>9</th>\n",
       "      <td>1.811428</td>\n",
       "      <td>264.567154</td>\n",
       "      <td>47.612658</td>\n",
       "      <td>TMG</td>\n",
       "      <td>tBuBrettPhos</td>\n",
       "      <td>-0.022759</td>\n",
       "      <td>0.278336</td>\n",
       "      <td>1</td>\n",
       "      <td>1</td>\n",
       "    </tr>\n",
       "  </tbody>\n",
       "</table>\n",
       "</div>"
      ],
      "text/plain": [
       "    base_eq        t_res  temperature  base      catalyst     yield      cost  \\\n",
       "0  1.108878   561.134791    58.990544   DBU      tBuXPhos  0.412899  0.249450   \n",
       "1  1.119897  1638.626700    38.141564   TEA  tBuBrettPhos  0.114862  0.278678   \n",
       "2  1.025228  1152.919137    33.574324   DBU        AlPhos  0.931872  0.420131   \n",
       "3  2.398088   276.503577    82.572749  BTMG  tBuBrettPhos  1.003118  0.383019   \n",
       "4  2.108768   716.139937    55.254079   TMG      tBuXPhos  0.114621  0.248316   \n",
       "5  1.131651   383.878986    35.294437  BTMG        AlPhos  0.955243  0.468442   \n",
       "6  1.422897  1476.426426    44.983435   TMG        AlPhos  0.194928  0.419063   \n",
       "7  1.784293   972.424187    85.569375  BTMG  tBuBrettPhos  1.030528  0.356208   \n",
       "8  2.259056  1325.443448    83.484574   TMG        AlPhos  0.724812  0.419093   \n",
       "9  1.811428   264.567154    47.612658   TMG  tBuBrettPhos -0.022759  0.278336   \n",
       "\n",
       "   valid_cost  valid_yield  \n",
       "0           1            1  \n",
       "1           1            1  \n",
       "2           1            1  \n",
       "3           1            1  \n",
       "4           1            1  \n",
       "5           1            1  \n",
       "6           1            1  \n",
       "7           1            1  \n",
       "8           1            1  \n",
       "9           1            1  "
      ]
     },
     "execution_count": 10,
     "metadata": {},
     "output_type": "execute_result"
    }
   ],
   "source": [
    "benchmark = CrossCoupling()\n",
    "samples = benchmark.domain.inputs.sample(n=50)\n",
    "experiments = benchmark.f(samples, return_complete=True)\n",
    "\n",
    "experiments.head(10)"
   ]
  },
  {
   "cell_type": "code",
   "execution_count": 13,
   "metadata": {},
   "outputs": [
    {
     "data": {
      "text/plain": [
       "'{\"type\": \"MixedSingleTaskGPSurrogate\", \"input_features\": {\"type\": \"Inputs\", \"features\": [{\"type\": \"CategoricalDescriptorInput\", \"key\": \"catalyst\", \"categories\": [\"tBuXPhos\", \"tBuBrettPhos\", \"AlPhos\"], \"allowed\": [true, true, true], \"descriptors\": [\"area_cat\", \"M2_cat\"], \"values\": [[460.7543, 67.2057], [518.8408, 89.8738], [819.933, 129.0808]]}, {\"type\": \"CategoricalDescriptorInput\", \"key\": \"base\", \"categories\": [\"TEA\", \"TMG\", \"BTMG\", \"DBU\"], \"allowed\": [true, true, true, true], \"descriptors\": [\"area\", \"M2\"], \"values\": [[162.2992, 25.8165], [165.5447, 81.4847], [227.3523, 30.554], [192.4693, 59.8367]]}, {\"type\": \"ContinuousInput\", \"key\": \"base_eq\", \"lower_bound\": 1.0, \"upper_bound\": 2.5}, {\"type\": \"ContinuousInput\", \"key\": \"temperature\", \"lower_bound\": 30.0, \"upper_bound\": 100.0}, {\"type\": \"ContinuousInput\", \"key\": \"t_res\", \"lower_bound\": 60.0, \"upper_bound\": 1800.0}]}, \"output_features\": {\"type\": \"Outputs\", \"features\": [{\"type\": \"ContinuousOutput\", \"key\": \"yield\", \"objective\": {\"type\": \"MaximizeObjective\", \"w\": 1.0, \"lower_bound\": 0.0, \"upper_bound\": 1.0}}]}, \"input_preprocessing_specs\": {\"catalyst\": \"ONE_HOT\", \"base\": \"DESCRIPTOR\"}, \"continuous_kernel\": {\"type\": \"MaternKernel\", \"ard\": true, \"nu\": 2.5, \"lengthscale_prior\": null}, \"categorical_kernel\": {\"type\": \"HammondDistanceKernel\", \"ard\": true}, \"scaler\": \"NORMALIZE\"}'"
      ]
     },
     "execution_count": 13,
     "metadata": {},
     "output_type": "execute_result"
    }
   ],
   "source": [
    "# we setup the data model, here a Single Task GP\n",
    "surrogate_data = MixedSingleTaskGPSurrogate(\n",
    "    input_features=benchmark.domain.input_features,\n",
    "    output_features=Outputs(features=[benchmark.domain.output_features.features[0]]),\n",
    "    input_preprocessing_specs={\"catalyst\": CategoricalEncodingEnum.ONE_HOT}\n",
    ")\n",
    "\n",
    "# we generate the json spec\n",
    "jspec = surrogate_data.json()\n",
    "\n",
    "jspec"
   ]
  },
  {
   "cell_type": "code",
   "execution_count": 14,
   "metadata": {},
   "outputs": [],
   "source": [
    "# Load it from the spec\n",
    "surrogate_data = parse_obj_as(AnySurrogate, json.loads(jspec))\n",
    "# Map it \n",
    "surrogate = surrogates.map(surrogate_data)\n",
    "# Fit it\n",
    "surrogate.fit(experiments=experiments)\n",
    "# dump it\n",
    "dump = surrogate.dumps()\n",
    "# predict with it\n",
    "df_predictions = surrogate.predict(experiments)\n",
    "# transform to spec\n",
    "predictions = surrogate.to_predictions(predictions=df_predictions)"
   ]
  },
  {
   "cell_type": "code",
   "execution_count": 15,
   "metadata": {},
   "outputs": [
    {
     "data": {
      "text/plain": [
       "True"
      ]
     },
     "execution_count": 15,
     "metadata": {},
     "output_type": "execute_result"
    }
   ],
   "source": [
    "surrogate_data = parse_obj_as(AnySurrogate, json.loads(jspec))\n",
    "surrogate = surrogates.map(surrogate_data)\n",
    "surrogate.loads(dump)\n",
    "\n",
    "# predict with it\n",
    "df_predictions2 = surrogate.predict(experiments)\n",
    "# transform to spec\n",
    "predictions2 = surrogate.to_predictions(predictions=df_predictions2)\n",
    "\n",
    "# check for equality\n",
    "predictions==predictions2"
   ]
  }
 ],
 "metadata": {
  "kernelspec": {
   "display_name": "bofire",
   "language": "python",
   "name": "python3"
  },
  "language_info": {
   "codemirror_mode": {
    "name": "ipython",
    "version": 3
   },
   "file_extension": ".py",
   "mimetype": "text/x-python",
   "name": "python",
   "nbconvert_exporter": "python",
   "pygments_lexer": "ipython3",
   "version": "3.10.9"
  },
  "orig_nbformat": 4,
  "vscode": {
   "interpreter": {
    "hash": "6f21737eef49beedf03d74399b47fe38d73eff760737ca33d38b9fe616638e91"
   }
  }
 },
 "nbformat": 4,
 "nbformat_minor": 2
}
