{
 "cells": [
  {
   "attachments": {},
   "cell_type": "markdown",
   "metadata": {},
   "source": [
    "# Model Building with BoFire\n",
    "\n",
    "This notebooks shows how to setup and analyze models trained with BoFire. It is stil WIP."
   ]
  },
  {
   "attachments": {},
   "cell_type": "markdown",
   "metadata": {},
   "source": [
    "## Imports"
   ]
  },
  {
   "cell_type": "code",
   "execution_count": 6,
   "metadata": {},
   "outputs": [],
   "source": [
    "from bofire.domain.features import (\n",
    "    ContinuousInput,\n",
    "    ContinuousOutput,\n",
    "    InputFeatures,\n",
    "    OutputFeatures,\n",
    ")\n",
    "from bofire.models.torch_models import SingleTaskGPModel\n",
    "from bofire.utils.enum import RegressionMetricsEnum"
   ]
  },
  {
   "attachments": {},
   "cell_type": "markdown",
   "metadata": {},
   "source": [
    "## Problem Setup\n",
    "\n",
    "For didactic purposes, we sample data from a Himmelblau benchmark function and use them to train a SingleTaskGP."
   ]
  },
  {
   "cell_type": "code",
   "execution_count": 7,
   "metadata": {},
   "outputs": [],
   "source": [
    "# Todo: replace this after JDs PR is ready.\n",
    "input_features = InputFeatures(\n",
    "        features=[\n",
    "            ContinuousInput(key=f\"x_{i+1}\", lower_bound=-4, upper_bound=4)\n",
    "            for i in range(2)\n",
    "        ]\n",
    "    )\n",
    "output_features = OutputFeatures(features=[ContinuousOutput(key=\"y\")])\n",
    "experiments = input_features.sample(n=50)\n",
    "experiments.eval(\"y=((x_1**2 + x_2 - 11)**2+(x_1 + x_2**2 -7)**2)\", inplace=True)\n",
    "experiments[\"valid_y\"] = 1"
   ]
  },
  {
   "attachments": {},
   "cell_type": "markdown",
   "metadata": {},
   "source": [
    "## Cross Validation\n",
    "### Run the cross validation"
   ]
  },
  {
   "cell_type": "code",
   "execution_count": 8,
   "metadata": {},
   "outputs": [],
   "source": [
    "model = SingleTaskGPModel(\n",
    "    input_features=input_features,\n",
    "    output_features=output_features,\n",
    ")\n",
    "train_cv, test_cv = model.cross_validate(experiments, folds=5)"
   ]
  },
  {
   "cell_type": "markdown",
   "metadata": {},
   "source": [
    "### Analyze the cross validation\n",
    "\n",
    "Plots are added in a future PR."
   ]
  },
  {
   "cell_type": "code",
   "execution_count": 4,
   "metadata": {},
   "outputs": [
    {
     "data": {
      "text/html": [
       "<div>\n",
       "<style scoped>\n",
       "    .dataframe tbody tr th:only-of-type {\n",
       "        vertical-align: middle;\n",
       "    }\n",
       "\n",
       "    .dataframe tbody tr th {\n",
       "        vertical-align: top;\n",
       "    }\n",
       "\n",
       "    .dataframe thead th {\n",
       "        text-align: right;\n",
       "    }\n",
       "</style>\n",
       "<table border=\"1\" class=\"dataframe\">\n",
       "  <thead>\n",
       "    <tr style=\"text-align: right;\">\n",
       "      <th></th>\n",
       "      <th>MAE</th>\n",
       "      <th>MSD</th>\n",
       "      <th>R2</th>\n",
       "      <th>MAPE</th>\n",
       "      <th>PEARSON</th>\n",
       "      <th>SPEARMAN</th>\n",
       "      <th>FISHER</th>\n",
       "    </tr>\n",
       "  </thead>\n",
       "  <tbody>\n",
       "    <tr>\n",
       "      <th>0</th>\n",
       "      <td>7.0017</td>\n",
       "      <td>147.061554</td>\n",
       "      <td>0.943717</td>\n",
       "      <td>0.156511</td>\n",
       "      <td>0.97159</td>\n",
       "      <td>0.97916</td>\n",
       "      <td>4.952116e-12</td>\n",
       "    </tr>\n",
       "  </tbody>\n",
       "</table>\n",
       "</div>"
      ],
      "text/plain": [
       "      MAE         MSD        R2      MAPE  PEARSON  SPEARMAN        FISHER\n",
       "0  7.0017  147.061554  0.943717  0.156511  0.97159   0.97916  4.952116e-12"
      ]
     },
     "execution_count": 4,
     "metadata": {},
     "output_type": "execute_result"
    }
   ],
   "source": [
    "# Performance on test sets\n",
    "test_cv.get_metrics(combine_folds=True)"
   ]
  },
  {
   "cell_type": "code",
   "execution_count": 5,
   "metadata": {},
   "outputs": [
    {
     "data": {
      "text/html": [
       "<div>\n",
       "<style scoped>\n",
       "    .dataframe tbody tr th:only-of-type {\n",
       "        vertical-align: middle;\n",
       "    }\n",
       "\n",
       "    .dataframe tbody tr th {\n",
       "        vertical-align: top;\n",
       "    }\n",
       "\n",
       "    .dataframe thead th {\n",
       "        text-align: right;\n",
       "    }\n",
       "</style>\n",
       "<table border=\"1\" class=\"dataframe\">\n",
       "  <thead>\n",
       "    <tr style=\"text-align: right;\">\n",
       "      <th></th>\n",
       "      <th>MAE</th>\n",
       "      <th>MSD</th>\n",
       "      <th>R2</th>\n",
       "      <th>MAPE</th>\n",
       "      <th>PEARSON</th>\n",
       "      <th>SPEARMAN</th>\n",
       "      <th>FISHER</th>\n",
       "    </tr>\n",
       "  </thead>\n",
       "  <tbody>\n",
       "    <tr>\n",
       "      <th>0</th>\n",
       "      <td>10.339322</td>\n",
       "      <td>364.933979</td>\n",
       "      <td>0.892727</td>\n",
       "      <td>0.118647</td>\n",
       "      <td>0.972169</td>\n",
       "      <td>1.000000</td>\n",
       "      <td>0.003968</td>\n",
       "    </tr>\n",
       "    <tr>\n",
       "      <th>1</th>\n",
       "      <td>4.478753</td>\n",
       "      <td>34.141282</td>\n",
       "      <td>0.990493</td>\n",
       "      <td>0.299760</td>\n",
       "      <td>0.995986</td>\n",
       "      <td>1.000000</td>\n",
       "      <td>0.003968</td>\n",
       "    </tr>\n",
       "    <tr>\n",
       "      <th>2</th>\n",
       "      <td>6.422695</td>\n",
       "      <td>93.220180</td>\n",
       "      <td>0.942858</td>\n",
       "      <td>0.070685</td>\n",
       "      <td>0.976744</td>\n",
       "      <td>0.866667</td>\n",
       "      <td>0.103175</td>\n",
       "    </tr>\n",
       "    <tr>\n",
       "      <th>3</th>\n",
       "      <td>3.264905</td>\n",
       "      <td>38.618496</td>\n",
       "      <td>0.974880</td>\n",
       "      <td>0.094516</td>\n",
       "      <td>0.989166</td>\n",
       "      <td>0.963636</td>\n",
       "      <td>0.003968</td>\n",
       "    </tr>\n",
       "    <tr>\n",
       "      <th>4</th>\n",
       "      <td>10.502826</td>\n",
       "      <td>204.393833</td>\n",
       "      <td>0.902698</td>\n",
       "      <td>0.198947</td>\n",
       "      <td>0.978679</td>\n",
       "      <td>0.963636</td>\n",
       "      <td>0.003968</td>\n",
       "    </tr>\n",
       "  </tbody>\n",
       "</table>\n",
       "</div>"
      ],
      "text/plain": [
       "         MAE         MSD        R2      MAPE   PEARSON  SPEARMAN    FISHER\n",
       "0  10.339322  364.933979  0.892727  0.118647  0.972169  1.000000  0.003968\n",
       "1   4.478753   34.141282  0.990493  0.299760  0.995986  1.000000  0.003968\n",
       "2   6.422695   93.220180  0.942858  0.070685  0.976744  0.866667  0.103175\n",
       "3   3.264905   38.618496  0.974880  0.094516  0.989166  0.963636  0.003968\n",
       "4  10.502826  204.393833  0.902698  0.198947  0.978679  0.963636  0.003968"
      ]
     },
     "metadata": {},
     "output_type": "display_data"
    },
    {
     "data": {
      "text/html": [
       "<div>\n",
       "<style scoped>\n",
       "    .dataframe tbody tr th:only-of-type {\n",
       "        vertical-align: middle;\n",
       "    }\n",
       "\n",
       "    .dataframe tbody tr th {\n",
       "        vertical-align: top;\n",
       "    }\n",
       "\n",
       "    .dataframe thead th {\n",
       "        text-align: right;\n",
       "    }\n",
       "</style>\n",
       "<table border=\"1\" class=\"dataframe\">\n",
       "  <thead>\n",
       "    <tr style=\"text-align: right;\">\n",
       "      <th></th>\n",
       "      <th>MAE</th>\n",
       "      <th>MSD</th>\n",
       "      <th>R2</th>\n",
       "      <th>MAPE</th>\n",
       "      <th>PEARSON</th>\n",
       "      <th>SPEARMAN</th>\n",
       "      <th>FISHER</th>\n",
       "    </tr>\n",
       "  </thead>\n",
       "  <tbody>\n",
       "    <tr>\n",
       "      <th>count</th>\n",
       "      <td>5.000000</td>\n",
       "      <td>5.000000</td>\n",
       "      <td>5.000000</td>\n",
       "      <td>5.000000</td>\n",
       "      <td>5.000000</td>\n",
       "      <td>5.000000</td>\n",
       "      <td>5.000000</td>\n",
       "    </tr>\n",
       "    <tr>\n",
       "      <th>mean</th>\n",
       "      <td>7.001700</td>\n",
       "      <td>147.061554</td>\n",
       "      <td>0.940731</td>\n",
       "      <td>0.156511</td>\n",
       "      <td>0.982549</td>\n",
       "      <td>0.958788</td>\n",
       "      <td>0.023810</td>\n",
       "    </tr>\n",
       "    <tr>\n",
       "      <th>std</th>\n",
       "      <td>3.318951</td>\n",
       "      <td>139.790166</td>\n",
       "      <td>0.043005</td>\n",
       "      <td>0.093494</td>\n",
       "      <td>0.009756</td>\n",
       "      <td>0.054613</td>\n",
       "      <td>0.044366</td>\n",
       "    </tr>\n",
       "    <tr>\n",
       "      <th>min</th>\n",
       "      <td>3.264905</td>\n",
       "      <td>34.141282</td>\n",
       "      <td>0.892727</td>\n",
       "      <td>0.070685</td>\n",
       "      <td>0.972169</td>\n",
       "      <td>0.866667</td>\n",
       "      <td>0.003968</td>\n",
       "    </tr>\n",
       "    <tr>\n",
       "      <th>25%</th>\n",
       "      <td>4.478753</td>\n",
       "      <td>38.618496</td>\n",
       "      <td>0.902698</td>\n",
       "      <td>0.094516</td>\n",
       "      <td>0.976744</td>\n",
       "      <td>0.963636</td>\n",
       "      <td>0.003968</td>\n",
       "    </tr>\n",
       "    <tr>\n",
       "      <th>50%</th>\n",
       "      <td>6.422695</td>\n",
       "      <td>93.220180</td>\n",
       "      <td>0.942858</td>\n",
       "      <td>0.118647</td>\n",
       "      <td>0.978679</td>\n",
       "      <td>0.963636</td>\n",
       "      <td>0.003968</td>\n",
       "    </tr>\n",
       "    <tr>\n",
       "      <th>75%</th>\n",
       "      <td>10.339322</td>\n",
       "      <td>204.393833</td>\n",
       "      <td>0.974880</td>\n",
       "      <td>0.198947</td>\n",
       "      <td>0.989166</td>\n",
       "      <td>1.000000</td>\n",
       "      <td>0.003968</td>\n",
       "    </tr>\n",
       "    <tr>\n",
       "      <th>max</th>\n",
       "      <td>10.502826</td>\n",
       "      <td>364.933979</td>\n",
       "      <td>0.990493</td>\n",
       "      <td>0.299760</td>\n",
       "      <td>0.995986</td>\n",
       "      <td>1.000000</td>\n",
       "      <td>0.103175</td>\n",
       "    </tr>\n",
       "  </tbody>\n",
       "</table>\n",
       "</div>"
      ],
      "text/plain": [
       "             MAE         MSD        R2      MAPE   PEARSON  SPEARMAN    FISHER\n",
       "count   5.000000    5.000000  5.000000  5.000000  5.000000  5.000000  5.000000\n",
       "mean    7.001700  147.061554  0.940731  0.156511  0.982549  0.958788  0.023810\n",
       "std     3.318951  139.790166  0.043005  0.093494  0.009756  0.054613  0.044366\n",
       "min     3.264905   34.141282  0.892727  0.070685  0.972169  0.866667  0.003968\n",
       "25%     4.478753   38.618496  0.902698  0.094516  0.976744  0.963636  0.003968\n",
       "50%     6.422695   93.220180  0.942858  0.118647  0.978679  0.963636  0.003968\n",
       "75%    10.339322  204.393833  0.974880  0.198947  0.989166  1.000000  0.003968\n",
       "max    10.502826  364.933979  0.990493  0.299760  0.995986  1.000000  0.103175"
      ]
     },
     "metadata": {},
     "output_type": "display_data"
    }
   ],
   "source": [
    "display(test_cv.get_metrics(combine_folds=False))\n",
    "display(test_cv.get_metrics(combine_folds=False).describe())"
   ]
  }
 ],
 "metadata": {
  "kernelspec": {
   "display_name": "Python 3.8.12 ('everest_env')",
   "language": "python",
   "name": "python3"
  },
  "language_info": {
   "codemirror_mode": {
    "name": "ipython",
    "version": 3
   },
   "file_extension": ".py",
   "mimetype": "text/x-python",
   "name": "python",
   "nbconvert_exporter": "python",
   "pygments_lexer": "ipython3",
   "version": "3.8.12"
  },
  "orig_nbformat": 4,
  "vscode": {
   "interpreter": {
    "hash": "50077122d83430e029bf2362124cf3928cfea0c9d2b42539f789dcb8b3dbe07c"
   }
  }
 },
 "nbformat": 4,
 "nbformat_minor": 2
}
