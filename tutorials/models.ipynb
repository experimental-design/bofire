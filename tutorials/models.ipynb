{
 "cells": [
  {
   "attachments": {},
   "cell_type": "markdown",
   "metadata": {},
   "source": [
    "# Model Building with BoFire\n",
    "\n",
    "This notebooks shows how to setup and analyze models trained with BoFire. It is stil WIP."
   ]
  },
  {
   "attachments": {},
   "cell_type": "markdown",
   "metadata": {},
   "source": [
    "## Imports"
   ]
  },
  {
   "cell_type": "code",
   "execution_count": 9,
   "metadata": {},
   "outputs": [],
   "source": [
    "from bofire.domain.features import (\n",
    "    ContinuousInput,\n",
    "    ContinuousOutput,\n",
    "    InputFeatures,\n",
    "    OutputFeatures,\n",
    ")\n",
    "from bofire.models.torch_models import SingleTaskGPModel\n",
    "from bofire.utils.enum import RegressionMetricsEnum"
   ]
  },
  {
   "attachments": {},
   "cell_type": "markdown",
   "metadata": {},
   "source": [
    "## Problem Setup\n",
    "\n",
    "For didactic purposes, we sample data from a Himmelblau benchmark function and use them to train a SingleTaskGP."
   ]
  },
  {
   "cell_type": "code",
   "execution_count": 5,
   "metadata": {},
   "outputs": [],
   "source": [
    "# Todo: replace this after JDs PR is ready.\n",
    "input_features = InputFeatures(\n",
    "        features=[\n",
    "            ContinuousInput(key=f\"x_{i+1}\", lower_bound=-4, upper_bound=4)\n",
    "            for i in range(2)\n",
    "        ]\n",
    "    )\n",
    "output_features = OutputFeatures(features=[ContinuousOutput(key=\"y\")])\n",
    "experiments = input_features.sample(n=20)\n",
    "experiments.eval(\"y=((x_1**2 + x_2 - 11)**2+(x_1 + x_2**2 -7)**2)\", inplace=True)\n",
    "experiments[\"valid_y\"] = 1"
   ]
  },
  {
   "attachments": {},
   "cell_type": "markdown",
   "metadata": {},
   "source": [
    "## Cross Validation\n",
    "### Run the cross validation"
   ]
  },
  {
   "cell_type": "code",
   "execution_count": 6,
   "metadata": {},
   "outputs": [],
   "source": [
    "model = SingleTaskGPModel(\n",
    "    input_features=input_features,\n",
    "    output_features=output_features,\n",
    ")\n",
    "train_cv, test_cv = model.cross_validate(experiments, folds=5)"
   ]
  },
  {
   "cell_type": "markdown",
   "metadata": {},
   "source": [
    "### Analyze the cross validation\n",
    "\n",
    "Plots are added in a future PR."
   ]
  },
  {
   "cell_type": "code",
   "execution_count": 7,
   "metadata": {},
   "outputs": [
    {
     "data": {
      "text/html": [
       "<div>\n",
       "<style scoped>\n",
       "    .dataframe tbody tr th:only-of-type {\n",
       "        vertical-align: middle;\n",
       "    }\n",
       "\n",
       "    .dataframe tbody tr th {\n",
       "        vertical-align: top;\n",
       "    }\n",
       "\n",
       "    .dataframe thead th {\n",
       "        text-align: right;\n",
       "    }\n",
       "</style>\n",
       "<table border=\"1\" class=\"dataframe\">\n",
       "  <thead>\n",
       "    <tr style=\"text-align: right;\">\n",
       "      <th></th>\n",
       "      <th>MAE</th>\n",
       "      <th>MSD</th>\n",
       "      <th>R2</th>\n",
       "      <th>MAPE</th>\n",
       "    </tr>\n",
       "  </thead>\n",
       "  <tbody>\n",
       "    <tr>\n",
       "      <th>count</th>\n",
       "      <td>5.000000</td>\n",
       "      <td>5.000000</td>\n",
       "      <td>5.000000</td>\n",
       "      <td>5.000000</td>\n",
       "    </tr>\n",
       "    <tr>\n",
       "      <th>mean</th>\n",
       "      <td>29.124766</td>\n",
       "      <td>1674.292235</td>\n",
       "      <td>0.440958</td>\n",
       "      <td>2.397575</td>\n",
       "    </tr>\n",
       "    <tr>\n",
       "      <th>std</th>\n",
       "      <td>15.145197</td>\n",
       "      <td>1311.399571</td>\n",
       "      <td>0.766225</td>\n",
       "      <td>2.789861</td>\n",
       "    </tr>\n",
       "    <tr>\n",
       "      <th>min</th>\n",
       "      <td>11.724305</td>\n",
       "      <td>181.399644</td>\n",
       "      <td>-0.890757</td>\n",
       "      <td>0.101864</td>\n",
       "    </tr>\n",
       "    <tr>\n",
       "      <th>25%</th>\n",
       "      <td>17.023108</td>\n",
       "      <td>428.744328</td>\n",
       "      <td>0.479727</td>\n",
       "      <td>0.329180</td>\n",
       "    </tr>\n",
       "    <tr>\n",
       "      <th>50%</th>\n",
       "      <td>28.610077</td>\n",
       "      <td>1994.265951</td>\n",
       "      <td>0.780428</td>\n",
       "      <td>0.670958</td>\n",
       "    </tr>\n",
       "    <tr>\n",
       "      <th>75%</th>\n",
       "      <td>41.174075</td>\n",
       "      <td>2693.678985</td>\n",
       "      <td>0.875046</td>\n",
       "      <td>5.276980</td>\n",
       "    </tr>\n",
       "    <tr>\n",
       "      <th>max</th>\n",
       "      <td>47.092267</td>\n",
       "      <td>3073.372269</td>\n",
       "      <td>0.960345</td>\n",
       "      <td>5.608895</td>\n",
       "    </tr>\n",
       "  </tbody>\n",
       "</table>\n",
       "</div>"
      ],
      "text/plain": [
       "             MAE          MSD        R2      MAPE\n",
       "count   5.000000     5.000000  5.000000  5.000000\n",
       "mean   29.124766  1674.292235  0.440958  2.397575\n",
       "std    15.145197  1311.399571  0.766225  2.789861\n",
       "min    11.724305   181.399644 -0.890757  0.101864\n",
       "25%    17.023108   428.744328  0.479727  0.329180\n",
       "50%    28.610077  1994.265951  0.780428  0.670958\n",
       "75%    41.174075  2693.678985  0.875046  5.276980\n",
       "max    47.092267  3073.372269  0.960345  5.608895"
      ]
     },
     "execution_count": 7,
     "metadata": {},
     "output_type": "execute_result"
    }
   ],
   "source": [
    "# Performance on test sets\n",
    "test_cv.get_metrics().describe()"
   ]
  },
  {
   "cell_type": "code",
   "execution_count": 12,
   "metadata": {},
   "outputs": [
    {
     "data": {
      "text/html": [
       "<div>\n",
       "<style scoped>\n",
       "    .dataframe tbody tr th:only-of-type {\n",
       "        vertical-align: middle;\n",
       "    }\n",
       "\n",
       "    .dataframe tbody tr th {\n",
       "        vertical-align: top;\n",
       "    }\n",
       "\n",
       "    .dataframe thead th {\n",
       "        text-align: right;\n",
       "    }\n",
       "</style>\n",
       "<table border=\"1\" class=\"dataframe\">\n",
       "  <thead>\n",
       "    <tr style=\"text-align: right;\">\n",
       "      <th></th>\n",
       "      <th>MAE</th>\n",
       "      <th>MSD</th>\n",
       "      <th>R2</th>\n",
       "      <th>MAPE</th>\n",
       "    </tr>\n",
       "  </thead>\n",
       "  <tbody>\n",
       "    <tr>\n",
       "      <th>count</th>\n",
       "      <td>5.000000</td>\n",
       "      <td>5.000000</td>\n",
       "      <td>5.000000</td>\n",
       "      <td>5.000000</td>\n",
       "    </tr>\n",
       "    <tr>\n",
       "      <th>mean</th>\n",
       "      <td>9.652885</td>\n",
       "      <td>227.462662</td>\n",
       "      <td>0.957520</td>\n",
       "      <td>0.480095</td>\n",
       "    </tr>\n",
       "    <tr>\n",
       "      <th>std</th>\n",
       "      <td>6.789277</td>\n",
       "      <td>212.505371</td>\n",
       "      <td>0.037240</td>\n",
       "      <td>0.344671</td>\n",
       "    </tr>\n",
       "    <tr>\n",
       "      <th>min</th>\n",
       "      <td>0.045506</td>\n",
       "      <td>0.004077</td>\n",
       "      <td>0.915696</td>\n",
       "      <td>0.007622</td>\n",
       "    </tr>\n",
       "    <tr>\n",
       "      <th>25%</th>\n",
       "      <td>5.827419</td>\n",
       "      <td>53.026206</td>\n",
       "      <td>0.930102</td>\n",
       "      <td>0.247965</td>\n",
       "    </tr>\n",
       "    <tr>\n",
       "      <th>50%</th>\n",
       "      <td>10.898191</td>\n",
       "      <td>194.222770</td>\n",
       "      <td>0.949882</td>\n",
       "      <td>0.638519</td>\n",
       "    </tr>\n",
       "    <tr>\n",
       "      <th>75%</th>\n",
       "      <td>14.845984</td>\n",
       "      <td>408.338510</td>\n",
       "      <td>0.991920</td>\n",
       "      <td>0.644041</td>\n",
       "    </tr>\n",
       "    <tr>\n",
       "      <th>max</th>\n",
       "      <td>16.647322</td>\n",
       "      <td>481.721748</td>\n",
       "      <td>0.999999</td>\n",
       "      <td>0.862325</td>\n",
       "    </tr>\n",
       "  </tbody>\n",
       "</table>\n",
       "</div>"
      ],
      "text/plain": [
       "             MAE         MSD        R2      MAPE\n",
       "count   5.000000    5.000000  5.000000  5.000000\n",
       "mean    9.652885  227.462662  0.957520  0.480095\n",
       "std     6.789277  212.505371  0.037240  0.344671\n",
       "min     0.045506    0.004077  0.915696  0.007622\n",
       "25%     5.827419   53.026206  0.930102  0.247965\n",
       "50%    10.898191  194.222770  0.949882  0.638519\n",
       "75%    14.845984  408.338510  0.991920  0.644041\n",
       "max    16.647322  481.721748  0.999999  0.862325"
      ]
     },
     "execution_count": 12,
     "metadata": {},
     "output_type": "execute_result"
    }
   ],
   "source": [
    "# performance on train sets\n",
    "train_cv.get_metrics().describe()"
   ]
  }
 ],
 "metadata": {
  "kernelspec": {
   "display_name": "Python 3.8.12 ('everest_env')",
   "language": "python",
   "name": "python3"
  },
  "language_info": {
   "codemirror_mode": {
    "name": "ipython",
    "version": 3
   },
   "file_extension": ".py",
   "mimetype": "text/x-python",
   "name": "python",
   "nbconvert_exporter": "python",
   "pygments_lexer": "ipython3",
   "version": "3.8.12"
  },
  "orig_nbformat": 4,
  "vscode": {
   "interpreter": {
    "hash": "50077122d83430e029bf2362124cf3928cfea0c9d2b42539f789dcb8b3dbe07c"
   }
  }
 },
 "nbformat": 4,
 "nbformat_minor": 2
}
