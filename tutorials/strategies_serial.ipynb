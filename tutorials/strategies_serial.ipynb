{
 "cells": [
  {
   "cell_type": "markdown",
   "metadata": {},
   "source": [
    "# Strategy Serialization with BoFire"
   ]
  },
  {
   "attachments": {},
   "cell_type": "markdown",
   "metadata": {},
   "source": [
    "## Imports"
   ]
  },
  {
   "cell_type": "code",
   "execution_count": 1,
   "metadata": {},
   "outputs": [
    {
     "name": "stderr",
     "output_type": "stream",
     "text": [
      "/opt/homebrew/Caskroom/miniforge/base/envs/bofire/lib/python3.10/site-packages/tqdm/auto.py:22: TqdmWarning: IProgress not found. Please update jupyter and ipywidgets. See https://ipywidgets.readthedocs.io/en/stable/user_install.html\n",
      "  from .autonotebook import tqdm as notebook_tqdm\n"
     ]
    }
   ],
   "source": [
    "import json\n",
    "from pydantic import parse_obj_as\n",
    "\n",
    "\n",
    "from bofire.data_models.domain.api import Domain, Outputs\n",
    "from bofire.benchmarks.single import Himmelblau\n",
    "from bofire.benchmarks.multi import DTLZ2\n",
    "from bofire.data_models.strategies.api import SoboStrategy as SoboStrategyDataModel\n",
    "from bofire.data_models.strategies.api import QnehviStrategy as QnehviStrategyDataModel\n",
    "from bofire.data_models.strategies.api import RandomStrategy as RandomStrategyDataModel\n",
    "from bofire.data_models.strategies.api import AnyStrategy\n",
    "from bofire.data_models.acquisition_functions.api import qNEI\n",
    "import bofire.strategies.api as stategies\n",
    "from bofire.data_models.surrogates.api import BotorchSurrogates, SingleTaskGPSurrogate\n",
    "from bofire.data_models.kernels.api import ScaleKernel, RBFKernel\n",
    "from bofire.surrogates.trainable import TrainableSurrogate\n",
    "from bofire.surrogates.diagnostics import CvResults2CrossValidationValues\n",
    "\n",
    "\n"
   ]
  },
  {
   "attachments": {},
   "cell_type": "markdown",
   "metadata": {},
   "source": [
    "## Single Objective Problem Setup"
   ]
  },
  {
   "cell_type": "code",
   "execution_count": 2,
   "metadata": {},
   "outputs": [],
   "source": [
    "benchmark = Himmelblau()\n",
    "samples = benchmark.domain.inputs.sample(n=10)\n",
    "\n",
    "# this is the training data\n",
    "experiments = benchmark.f(samples, return_complete=True)\n",
    "\n",
    "# this are the pending candidates\n",
    "pending_candidates = benchmark.domain.inputs.sample(2)\n",
    "\n"
   ]
  },
  {
   "attachments": {},
   "cell_type": "markdown",
   "metadata": {},
   "source": [
    "## Random Strategy\n",
    "\n",
    "The random strategy and other strategies that just inherit from `Strategy` and not `PredictiveStrategy` are special as they do not need defined output features in the domain and they do not need a call to `tell` before the `ask`. Furthermore they online provide input features in the candidates and no predictions for output features."
   ]
  },
  {
   "cell_type": "code",
   "execution_count": 3,
   "metadata": {},
   "outputs": [
    {
     "data": {
      "text/plain": [
       "'{\"type\": \"RandomStrategy\", \"domain\": {\"type\": \"Domain\", \"inputs\": {\"type\": \"Inputs\", \"features\": [{\"type\": \"ContinuousInput\", \"key\": \"x_1\", \"unit\": null, \"bounds\": [-6.0, 6.0], \"stepsize\": null}, {\"type\": \"ContinuousInput\", \"key\": \"x_2\", \"unit\": null, \"bounds\": [-6.0, 6.0], \"stepsize\": null}]}, \"outputs\": {\"type\": \"Outputs\", \"features\": []}, \"constraints\": {\"type\": \"Constraints\", \"constraints\": []}}, \"seed\": null}'"
      ]
     },
     "execution_count": 3,
     "metadata": {},
     "output_type": "execute_result"
    }
   ],
   "source": [
    "# setup the data model\n",
    "domain = Domain(inputs=benchmark.domain.inputs)\n",
    "strategy_data = RandomStrategyDataModel(domain=domain)\n",
    "\n",
    "# we generate the json spec\n",
    "jspec = strategy_data.json()\n",
    "\n",
    "jspec"
   ]
  },
  {
   "cell_type": "code",
   "execution_count": 4,
   "metadata": {},
   "outputs": [
    {
     "data": {
      "text/plain": [
       "[Candidate(inputValues={'x_1': InputValue(value=5.915408998829129), 'x_2': InputValue(value=3.8295447360002854)}, outputValues=None),\n",
       " Candidate(inputValues={'x_1': InputValue(value=2.16334840965789), 'x_2': InputValue(value=0.4058598910946323)}, outputValues=None),\n",
       " Candidate(inputValues={'x_1': InputValue(value=4.039471773229058), 'x_2': InputValue(value=5.531466507514837)}, outputValues=None),\n",
       " Candidate(inputValues={'x_1': InputValue(value=-1.783237287627132), 'x_2': InputValue(value=3.483195651684438)}, outputValues=None),\n",
       " Candidate(inputValues={'x_1': InputValue(value=1.89108688339689), 'x_2': InputValue(value=4.218035162071792)}, outputValues=None)]"
      ]
     },
     "execution_count": 4,
     "metadata": {},
     "output_type": "execute_result"
    }
   ],
   "source": [
    "# load it\n",
    "strategy_data = parse_obj_as(AnyStrategy, json.loads(jspec))\n",
    "\n",
    "# map it\n",
    "strategy = stategies.map(strategy_data)\n",
    "\n",
    "# ask it\n",
    "df_candidates = strategy.ask(candidate_count=5)\n",
    "\n",
    "# transform to spec\n",
    "candidates = strategy.to_candidates(df_candidates)\n",
    "\n",
    "candidates"
   ]
  },
  {
   "attachments": {},
   "cell_type": "markdown",
   "metadata": {},
   "source": [
    "## SOBO Strategy"
   ]
  },
  {
   "attachments": {},
   "cell_type": "markdown",
   "metadata": {},
   "source": [
    "Setup the strategies data model."
   ]
  },
  {
   "cell_type": "code",
   "execution_count": 5,
   "metadata": {},
   "outputs": [
    {
     "data": {
      "text/plain": [
       "'{\"type\": \"SoboStrategy\", \"domain\": {\"type\": \"Domain\", \"inputs\": {\"type\": \"Inputs\", \"features\": [{\"type\": \"ContinuousInput\", \"key\": \"x_1\", \"unit\": null, \"bounds\": [-6.0, 6.0], \"stepsize\": null}, {\"type\": \"ContinuousInput\", \"key\": \"x_2\", \"unit\": null, \"bounds\": [-6.0, 6.0], \"stepsize\": null}]}, \"outputs\": {\"type\": \"Outputs\", \"features\": [{\"type\": \"ContinuousOutput\", \"key\": \"y\", \"unit\": null, \"objective\": {\"type\": \"MinimizeObjective\", \"w\": 1.0, \"bounds\": [0, 1]}}]}, \"constraints\": {\"type\": \"Constraints\", \"constraints\": []}}, \"seed\": null, \"num_sobol_samples\": 512, \"num_restarts\": 8, \"num_raw_samples\": 1024, \"descriptor_method\": \"EXHAUSTIVE\", \"categorical_method\": \"EXHAUSTIVE\", \"discrete_method\": \"EXHAUSTIVE\", \"surrogate_specs\": {\"surrogates\": [{\"hyperconfig\": {\"type\": \"SingleTaskGPHyperconfig\", \"hyperstrategy\": \"FactorialStrategy\", \"inputs\": {\"type\": \"Inputs\", \"features\": [{\"type\": \"CategoricalInput\", \"key\": \"kernel\", \"categories\": [\"rbf\", \"matern_1.5\", \"matern_2.5\"], \"allowed\": [true, true, true]}, {\"type\": \"CategoricalInput\", \"key\": \"prior\", \"categories\": [\"mbo\", \"botorch\"], \"allowed\": [true, true]}, {\"type\": \"CategoricalInput\", \"key\": \"ard\", \"categories\": [\"True\", \"False\"], \"allowed\": [true, true]}]}, \"n_iterations\": null, \"target_metric\": \"MAE\"}, \"aggregations\": null, \"type\": \"SingleTaskGPSurrogate\", \"inputs\": {\"type\": \"Inputs\", \"features\": [{\"type\": \"ContinuousInput\", \"key\": \"x_1\", \"unit\": null, \"bounds\": [-6.0, 6.0], \"stepsize\": null}, {\"type\": \"ContinuousInput\", \"key\": \"x_2\", \"unit\": null, \"bounds\": [-6.0, 6.0], \"stepsize\": null}]}, \"outputs\": {\"type\": \"Outputs\", \"features\": [{\"type\": \"ContinuousOutput\", \"key\": \"y\", \"unit\": null, \"objective\": {\"type\": \"MinimizeObjective\", \"w\": 1.0, \"bounds\": [0, 1]}}]}, \"input_preprocessing_specs\": {}, \"dump\": null, \"kernel\": {\"type\": \"ScaleKernel\", \"base_kernel\": {\"type\": \"MaternKernel\", \"ard\": true, \"nu\": 2.5, \"lengthscale_prior\": {\"type\": \"GammaPrior\", \"concentration\": 3.0, \"rate\": 6.0}}, \"outputscale_prior\": {\"type\": \"GammaPrior\", \"concentration\": 2.0, \"rate\": 0.15}}, \"noise_prior\": {\"type\": \"GammaPrior\", \"concentration\": 1.1, \"rate\": 0.05}, \"scaler\": \"NORMALIZE\"}]}, \"outlier_detection_specs\": null, \"min_experiments_before_outlier_check\": 1, \"frequency_check\": 1, \"frequency_hyperopt\": 0, \"folds\": 5, \"acquisition_function\": {\"type\": \"qNEI\"}}'"
      ]
     },
     "execution_count": 5,
     "metadata": {},
     "output_type": "execute_result"
    }
   ],
   "source": [
    "# setup the data model\n",
    "strategy_data = SoboStrategyDataModel(domain=benchmark.domain, acquisition_function=qNEI())\n",
    "\n",
    "# we generate the json spec\n",
    "jspec = strategy_data.json()\n",
    "\n",
    "jspec"
   ]
  },
  {
   "attachments": {},
   "cell_type": "markdown",
   "metadata": {},
   "source": [
    "As SOBO is a predictive strategy, training data has to be provided before candidated can be requested. "
   ]
  },
  {
   "cell_type": "code",
   "execution_count": 6,
   "metadata": {},
   "outputs": [
    {
     "data": {
      "text/plain": [
       "[Candidate(inputValues={'x_1': InputValue(value=2.761549413905569), 'x_2': InputValue(value=0.6996718005451535)}, outputValues={'y': OutputValue(predictedValue=-299.9235749427238, standardDeviation=482.01269786145133, objective=299.9235749427238)}),\n",
       " Candidate(inputValues={'x_1': InputValue(value=1.43396385228208), 'x_2': InputValue(value=2.686897099761646)}, outputValues={'y': OutputValue(predictedValue=-321.26193726367933, standardDeviation=410.6722034209191, objective=321.26193726367933)})]"
      ]
     },
     "execution_count": 6,
     "metadata": {},
     "output_type": "execute_result"
    }
   ],
   "source": [
    "# load it\n",
    "strategy_data = parse_obj_as(AnyStrategy, json.loads(jspec))\n",
    "\n",
    "# map it\n",
    "strategy = stategies.map(strategy_data)\n",
    "\n",
    "# tell it the pending candidates if present\n",
    "if pending_candidates is not None:\n",
    "    strategy.add_candidates(pending_candidates)\n",
    "\n",
    "# tell it\n",
    "strategy.tell(experiments=experiments)\n",
    "\n",
    "# ask it\n",
    "df_candidates = strategy.ask(candidate_count=2)\n",
    "\n",
    "# transform to spec\n",
    "candidates = strategy.to_candidates(df_candidates)\n",
    "\n",
    "candidates"
   ]
  },
  {
   "attachments": {},
   "cell_type": "markdown",
   "metadata": {},
   "source": [
    "We can also save the trained models of the strategy, for more info look at the `model_serial.ipynb` notebook. It could be that the `dumps` command fails here. But this is already fixed in the main branch of the `linear_operator` package, and if not yet, it should be available in main soon."
   ]
  },
  {
   "cell_type": "code",
   "execution_count": 7,
   "metadata": {},
   "outputs": [],
   "source": [
    "jsurrogate_spec = strategy_data.surrogate_specs.surrogates[0].json()\n",
    "dump = strategy.surrogates.surrogates[0].dumps()"
   ]
  },
  {
   "attachments": {},
   "cell_type": "markdown",
   "metadata": {},
   "source": [
    "## MOBO Strategy\n",
    "\n",
    "As example for a multiobjective strategy we are using here the Qnehvi stratey. Related strategies would be Qparego, MultiplicativeSobo etc. To use it, we have to first generate a multiobjective domain."
   ]
  },
  {
   "cell_type": "code",
   "execution_count": 8,
   "metadata": {},
   "outputs": [],
   "source": [
    "benchmark = DTLZ2(dim=6)\n",
    "samples = benchmark.domain.inputs.sample(n=20)\n",
    "experiments = benchmark.f(samples, return_complete=True)\n",
    "pending_candidates = benchmark.domain.inputs.sample(2)\n"
   ]
  },
  {
   "attachments": {},
   "cell_type": "markdown",
   "metadata": {},
   "source": [
    "Now the strategy spec is setup. Note that we can define there exactly which model to use."
   ]
  },
  {
   "cell_type": "code",
   "execution_count": 9,
   "metadata": {},
   "outputs": [
    {
     "data": {
      "text/plain": [
       "'{\"type\": \"QnehviStrategy\", \"domain\": {\"type\": \"Domain\", \"inputs\": {\"type\": \"Inputs\", \"features\": [{\"type\": \"ContinuousInput\", \"key\": \"x_0\", \"unit\": null, \"bounds\": [0.0, 1.0], \"stepsize\": null}, {\"type\": \"ContinuousInput\", \"key\": \"x_1\", \"unit\": null, \"bounds\": [0.0, 1.0], \"stepsize\": null}, {\"type\": \"ContinuousInput\", \"key\": \"x_2\", \"unit\": null, \"bounds\": [0.0, 1.0], \"stepsize\": null}, {\"type\": \"ContinuousInput\", \"key\": \"x_3\", \"unit\": null, \"bounds\": [0.0, 1.0], \"stepsize\": null}, {\"type\": \"ContinuousInput\", \"key\": \"x_4\", \"unit\": null, \"bounds\": [0.0, 1.0], \"stepsize\": null}, {\"type\": \"ContinuousInput\", \"key\": \"x_5\", \"unit\": null, \"bounds\": [0.0, 1.0], \"stepsize\": null}]}, \"outputs\": {\"type\": \"Outputs\", \"features\": [{\"type\": \"ContinuousOutput\", \"key\": \"f_0\", \"unit\": null, \"objective\": {\"type\": \"MinimizeObjective\", \"w\": 1.0, \"bounds\": [0, 1]}}, {\"type\": \"ContinuousOutput\", \"key\": \"f_1\", \"unit\": null, \"objective\": {\"type\": \"MinimizeObjective\", \"w\": 1.0, \"bounds\": [0, 1]}}]}, \"constraints\": {\"type\": \"Constraints\", \"constraints\": []}}, \"seed\": null, \"num_sobol_samples\": 512, \"num_restarts\": 8, \"num_raw_samples\": 1024, \"descriptor_method\": \"EXHAUSTIVE\", \"categorical_method\": \"EXHAUSTIVE\", \"discrete_method\": \"EXHAUSTIVE\", \"surrogate_specs\": {\"surrogates\": [{\"hyperconfig\": {\"type\": \"SingleTaskGPHyperconfig\", \"hyperstrategy\": \"FactorialStrategy\", \"inputs\": {\"type\": \"Inputs\", \"features\": [{\"type\": \"CategoricalInput\", \"key\": \"kernel\", \"categories\": [\"rbf\", \"matern_1.5\", \"matern_2.5\"], \"allowed\": [true, true, true]}, {\"type\": \"CategoricalInput\", \"key\": \"prior\", \"categories\": [\"mbo\", \"botorch\"], \"allowed\": [true, true]}, {\"type\": \"CategoricalInput\", \"key\": \"ard\", \"categories\": [\"True\", \"False\"], \"allowed\": [true, true]}]}, \"n_iterations\": null, \"target_metric\": \"MAE\"}, \"aggregations\": null, \"type\": \"SingleTaskGPSurrogate\", \"inputs\": {\"type\": \"Inputs\", \"features\": [{\"type\": \"ContinuousInput\", \"key\": \"x_0\", \"unit\": null, \"bounds\": [0.0, 1.0], \"stepsize\": null}, {\"type\": \"ContinuousInput\", \"key\": \"x_1\", \"unit\": null, \"bounds\": [0.0, 1.0], \"stepsize\": null}, {\"type\": \"ContinuousInput\", \"key\": \"x_2\", \"unit\": null, \"bounds\": [0.0, 1.0], \"stepsize\": null}, {\"type\": \"ContinuousInput\", \"key\": \"x_3\", \"unit\": null, \"bounds\": [0.0, 1.0], \"stepsize\": null}, {\"type\": \"ContinuousInput\", \"key\": \"x_4\", \"unit\": null, \"bounds\": [0.0, 1.0], \"stepsize\": null}, {\"type\": \"ContinuousInput\", \"key\": \"x_5\", \"unit\": null, \"bounds\": [0.0, 1.0], \"stepsize\": null}]}, \"outputs\": {\"type\": \"Outputs\", \"features\": [{\"type\": \"ContinuousOutput\", \"key\": \"f_0\", \"unit\": null, \"objective\": {\"type\": \"MinimizeObjective\", \"w\": 1.0, \"bounds\": [0, 1]}}]}, \"input_preprocessing_specs\": {}, \"dump\": null, \"kernel\": {\"type\": \"ScaleKernel\", \"base_kernel\": {\"type\": \"RBFKernel\", \"ard\": false, \"lengthscale_prior\": null}, \"outputscale_prior\": null}, \"noise_prior\": {\"type\": \"GammaPrior\", \"concentration\": 1.1, \"rate\": 0.05}, \"scaler\": \"NORMALIZE\"}, {\"hyperconfig\": {\"type\": \"SingleTaskGPHyperconfig\", \"hyperstrategy\": \"FactorialStrategy\", \"inputs\": {\"type\": \"Inputs\", \"features\": [{\"type\": \"CategoricalInput\", \"key\": \"kernel\", \"categories\": [\"rbf\", \"matern_1.5\", \"matern_2.5\"], \"allowed\": [true, true, true]}, {\"type\": \"CategoricalInput\", \"key\": \"prior\", \"categories\": [\"mbo\", \"botorch\"], \"allowed\": [true, true]}, {\"type\": \"CategoricalInput\", \"key\": \"ard\", \"categories\": [\"True\", \"False\"], \"allowed\": [true, true]}]}, \"n_iterations\": null, \"target_metric\": \"MAE\"}, \"aggregations\": null, \"type\": \"SingleTaskGPSurrogate\", \"inputs\": {\"type\": \"Inputs\", \"features\": [{\"type\": \"ContinuousInput\", \"key\": \"x_0\", \"unit\": null, \"bounds\": [0.0, 1.0], \"stepsize\": null}, {\"type\": \"ContinuousInput\", \"key\": \"x_1\", \"unit\": null, \"bounds\": [0.0, 1.0], \"stepsize\": null}, {\"type\": \"ContinuousInput\", \"key\": \"x_2\", \"unit\": null, \"bounds\": [0.0, 1.0], \"stepsize\": null}, {\"type\": \"ContinuousInput\", \"key\": \"x_3\", \"unit\": null, \"bounds\": [0.0, 1.0], \"stepsize\": null}, {\"type\": \"ContinuousInput\", \"key\": \"x_4\", \"unit\": null, \"bounds\": [0.0, 1.0], \"stepsize\": null}, {\"type\": \"ContinuousInput\", \"key\": \"x_5\", \"unit\": null, \"bounds\": [0.0, 1.0], \"stepsize\": null}]}, \"outputs\": {\"type\": \"Outputs\", \"features\": [{\"type\": \"ContinuousOutput\", \"key\": \"f_1\", \"unit\": null, \"objective\": {\"type\": \"MinimizeObjective\", \"w\": 1.0, \"bounds\": [0, 1]}}]}, \"input_preprocessing_specs\": {}, \"dump\": null, \"kernel\": {\"type\": \"ScaleKernel\", \"base_kernel\": {\"type\": \"MaternKernel\", \"ard\": true, \"nu\": 2.5, \"lengthscale_prior\": {\"type\": \"GammaPrior\", \"concentration\": 3.0, \"rate\": 6.0}}, \"outputscale_prior\": {\"type\": \"GammaPrior\", \"concentration\": 2.0, \"rate\": 0.15}}, \"noise_prior\": {\"type\": \"GammaPrior\", \"concentration\": 1.1, \"rate\": 0.05}, \"scaler\": \"NORMALIZE\"}]}, \"outlier_detection_specs\": null, \"min_experiments_before_outlier_check\": 1, \"frequency_check\": 1, \"frequency_hyperopt\": 0, \"folds\": 5, \"ref_point\": null, \"alpha\": 0.0}'"
      ]
     },
     "execution_count": 9,
     "metadata": {},
     "output_type": "execute_result"
    }
   ],
   "source": [
    "# setup the data model\n",
    "strategy_data = QnehviStrategyDataModel(\n",
    "    domain=benchmark.domain,\n",
    "    surrogate_specs=BotorchSurrogates(\n",
    "        surrogates=[\n",
    "            SingleTaskGPSurrogate(\n",
    "                inputs=benchmark.domain.inputs,\n",
    "                outputs=Outputs(features=[benchmark.domain.outputs[0]]),\n",
    "                kernel=ScaleKernel(base_kernel=RBFKernel(ard=False))\n",
    "            )\n",
    "        ]\n",
    "    )\n",
    ")\n",
    "\n",
    "# we generate the json spec\n",
    "jspec = strategy_data.json()\n",
    "\n",
    "jspec"
   ]
  },
  {
   "attachments": {},
   "cell_type": "markdown",
   "metadata": {},
   "source": [
    "Generate the candidates."
   ]
  },
  {
   "cell_type": "code",
   "execution_count": 10,
   "metadata": {},
   "outputs": [
    {
     "data": {
      "text/plain": [
       "[Candidate(inputValues={'x_0': InputValue(value=1.0), 'x_1': InputValue(value=0.41791626265227944), 'x_2': InputValue(value=0.24511743692538823), 'x_3': InputValue(value=0.8373427510871627), 'x_4': InputValue(value=0.5999227288919193), 'x_5': InputValue(value=0.2274593719111656)}, outputValues={'f_0': OutputValue(predictedValue=0.16971265416997772, standardDeviation=0.14554309452460695, objective=-0.16971265416997772), 'f_1': OutputValue(predictedValue=1.0293363218546256, standardDeviation=0.2456146332167214, objective=-1.0293363218546256)})]"
      ]
     },
     "execution_count": 10,
     "metadata": {},
     "output_type": "execute_result"
    }
   ],
   "source": [
    "# load it\n",
    "strategy_data = parse_obj_as(AnyStrategy, json.loads(jspec))\n",
    "\n",
    "# map it\n",
    "strategy = stategies.map(strategy_data)\n",
    "\n",
    "# tell it the pending candidates if available\n",
    "if pending_candidates is not None:\n",
    "    strategy.add_candidates(pending_candidates)\n",
    "\n",
    "# tell it\n",
    "strategy.tell(experiments=experiments)\n",
    "\n",
    "# ask it\n",
    "df_candidates = strategy.ask(candidate_count=1)\n",
    "\n",
    "# transform to spec\n",
    "candidates = strategy.to_candidates(df_candidates)\n",
    "\n",
    "candidates"
   ]
  },
  {
   "attachments": {},
   "cell_type": "markdown",
   "metadata": {},
   "source": [
    "To fill the model info section accordingly, the following snippet has to be executed for every surrogate, incldung saving the actual models."
   ]
  },
  {
   "cell_type": "code",
   "execution_count": 11,
   "metadata": {},
   "outputs": [],
   "source": [
    "from pydantic import BaseModel\n",
    "from typing import Literal\n",
    "\n",
    "class TestMethod(BaseModel):\n",
    "    type: str\n",
    "\n",
    "class CrossValidation(TestMethod):\n",
    "    type: Literal[\"CrossValidation\"] = \"CrossValidation\"\n",
    "    foldCount: int\n",
    "\n",
    "\n",
    "for i in range(len(strategy_data.surrogate_specs.surrogates)):\n",
    "    surrogate_data = strategy.surrogate_specs.surrogates[i]\n",
    "    surrogate = strategy.surrogates.surrogates[i]\n",
    "    # get the spec\n",
    "    jsurrogate_spec = surrogate_data.json()\n",
    "    # get the dump\n",
    "    dump = surrogate.dumps()\n",
    "    # do the cross validation, only if we have a trainable model under the hood\n",
    "    if isinstance(surrogate,TrainableSurrogate):\n",
    "        cv_train, cv_test, _ = surrogate.cross_validate(strategy.experiments, folds=5)\n",
    "        # transform the bofire objects to the backend objects\n",
    "        testMethod = CrossValidation(foldCount=5)\n",
    "        cvResultsTrain = CvResults2CrossValidationValues(cv_train)\n",
    "        cvResultsTest = CvResults2CrossValidationValues(cv_test)\n",
    "        metricsTrain = {surrogate.outputs[0].key: cv_train.get_metrics(combine_folds=False).describe().loc[\"mean\"].to_dict()}\n",
    "        metricsTest = {surrogate.outputs[0].key: cv_test.get_metrics(combine_folds=True).describe().loc[\"mean\"].to_dict()}\n",
    "        # save to backend\n",
    "        # - jsurrogate_spec\n",
    "        # - dump\n",
    "        # - testMethod\n",
    "        # - cvResultsTrain\n",
    "        # - cvResultsTest\n",
    "        # - metricsTrain\n",
    "        # - metricsTest"
   ]
  },
  {
   "cell_type": "code",
   "execution_count": null,
   "metadata": {},
   "outputs": [],
   "source": []
  }
 ],
 "metadata": {
  "kernelspec": {
   "display_name": "bofire_devel",
   "language": "python",
   "name": "python3"
  },
  "language_info": {
   "codemirror_mode": {
    "name": "ipython",
    "version": 3
   },
   "file_extension": ".py",
   "mimetype": "text/x-python",
   "name": "python",
   "nbconvert_exporter": "python",
   "pygments_lexer": "ipython3",
   "version": "3.10.9"
  },
  "orig_nbformat": 4,
  "vscode": {
   "interpreter": {
    "hash": "b9bdc9e617e457afdaedd2563eddde9c04c87768cb2f63795a1786b83528ca68"
   }
  }
 },
 "nbformat": 4,
 "nbformat_minor": 2
}
