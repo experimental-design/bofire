{
 "cells": [
  {
   "cell_type": "markdown",
   "metadata": {},
   "source": [
    "# Strategy Serialization with BoFire"
   ]
  },
  {
   "attachments": {},
   "cell_type": "markdown",
   "metadata": {},
   "source": [
    "## Imports"
   ]
  },
  {
   "cell_type": "code",
   "execution_count": 1,
   "metadata": {},
   "outputs": [
    {
     "name": "stderr",
     "output_type": "stream",
     "text": [
      "/opt/homebrew/Caskroom/miniforge/base/envs/bofire/lib/python3.10/site-packages/tqdm/auto.py:22: TqdmWarning: IProgress not found. Please update jupyter and ipywidgets. See https://ipywidgets.readthedocs.io/en/stable/user_install.html\n",
      "  from .autonotebook import tqdm as notebook_tqdm\n"
     ]
    }
   ],
   "source": [
    "import json\n",
    "from pydantic import parse_obj_as\n",
    "\n",
    "\n",
    "from bofire.data_models.domain.api import Inputs, Outputs, Domain\n",
    "from bofire.benchmarks.single import Himmelblau\n",
    "from bofire.benchmarks.multi import CrossCoupling\n",
    "from bofire.data_models.strategies.api import SoboStrategy as SoboStrategyDataModel\n",
    "from bofire.data_models.strategies.api import QnehviStrategy as QnehviStrategyDataModel\n",
    "from bofire.data_models.strategies.api import RandomStrategy as RandomStrategyDataModel\n",
    "from bofire.data_models.strategies.api import AnyStrategy\n",
    "from bofire.data_models.acquisition_functions.api import qNEI\n",
    "import bofire.strategies.api as stategies\n",
    "\n",
    "\n"
   ]
  },
  {
   "attachments": {},
   "cell_type": "markdown",
   "metadata": {},
   "source": [
    "## Single Objective Problem Setup"
   ]
  },
  {
   "cell_type": "code",
   "execution_count": 2,
   "metadata": {},
   "outputs": [],
   "source": [
    "benchmark = Himmelblau()\n",
    "samples = benchmark.domain.inputs.sample(n=10)\n",
    "experiments = benchmark.f(samples, return_complete=True)"
   ]
  },
  {
   "cell_type": "markdown",
   "metadata": {},
   "source": [
    "## Random Strategy"
   ]
  },
  {
   "cell_type": "code",
   "execution_count": 3,
   "metadata": {},
   "outputs": [
    {
     "data": {
      "text/plain": [
       "'{\"type\": \"RandomStrategy\", \"domain\": {\"type\": \"Domain\", \"input_features\": {\"type\": \"Inputs\", \"features\": [{\"type\": \"ContinuousInput\", \"key\": \"x_1\", \"lower_bound\": -4.0, \"upper_bound\": 4.0}, {\"type\": \"ContinuousInput\", \"key\": \"x_2\", \"lower_bound\": -4.0, \"upper_bound\": 4.0}]}, \"output_features\": {\"type\": \"Outputs\", \"features\": []}, \"constraints\": {\"type\": \"Constraints\", \"constraints\": []}}, \"seed\": 279}'"
      ]
     },
     "execution_count": 3,
     "metadata": {},
     "output_type": "execute_result"
    }
   ],
   "source": [
    "# setup the data model\n",
    "domain = Domain(input_features=benchmark.domain.input_features)\n",
    "strategy_data = RandomStrategyDataModel(domain=domain)\n",
    "\n",
    "# we generate the json spec\n",
    "jspec = strategy_data.json()\n",
    "\n",
    "jspec"
   ]
  },
  {
   "cell_type": "code",
   "execution_count": 4,
   "metadata": {},
   "outputs": [
    {
     "data": {
      "text/plain": [
       "[Candidate(inputValues={'x_1': InputValue(value=-3.744742482549616), 'x_2': InputValue(value=3.4578032920821746)}, outputValues=None),\n",
       " Candidate(inputValues={'x_1': InputValue(value=-3.152299000916403), 'x_2': InputValue(value=2.188805709088892)}, outputValues=None),\n",
       " Candidate(inputValues={'x_1': InputValue(value=2.378973293392475), 'x_2': InputValue(value=1.5645555272201932)}, outputValues=None),\n",
       " Candidate(inputValues={'x_1': InputValue(value=-1.138877235330762), 'x_2': InputValue(value=-2.345015446113318)}, outputValues=None),\n",
       " Candidate(inputValues={'x_1': InputValue(value=-0.4336374168749888), 'x_2': InputValue(value=-0.4229157761068656)}, outputValues=None)]"
      ]
     },
     "execution_count": 4,
     "metadata": {},
     "output_type": "execute_result"
    }
   ],
   "source": [
    "# load it\n",
    "strategy_data = parse_obj_as(AnyStrategy, json.loads(jspec))\n",
    "\n",
    "# map it\n",
    "stategy = stategies.map(strategy_data)\n",
    "\n",
    "# ask it\n",
    "df_candidates = stategy.ask(candidate_count=5)\n",
    "\n",
    "# transform to spec\n",
    "candidates = stategy.to_candidates(df_candidates)\n",
    "\n",
    "candidates"
   ]
  },
  {
   "attachments": {},
   "cell_type": "markdown",
   "metadata": {},
   "source": [
    "## SOBO Strategy"
   ]
  },
  {
   "attachments": {},
   "cell_type": "markdown",
   "metadata": {},
   "source": [
    "This will fail as SOBO is a predictive strategy which needs also output feature definitions, which is missing in the domain from before."
   ]
  },
  {
   "cell_type": "code",
   "execution_count": 24,
   "metadata": {},
   "outputs": [
    {
     "ename": "ValidationError",
     "evalue": "1 validation error for SoboStrategy\ndomain\n  no output feature specified (type=value_error)",
     "output_type": "error",
     "traceback": [
      "\u001b[0;31m---------------------------------------------------------------------------\u001b[0m",
      "\u001b[0;31mValidationError\u001b[0m                           Traceback (most recent call last)",
      "Cell \u001b[0;32mIn[24], line 2\u001b[0m\n\u001b[1;32m      1\u001b[0m \u001b[39m# setup the data model\u001b[39;00m\n\u001b[0;32m----> 2\u001b[0m strategy_data \u001b[39m=\u001b[39m SoboStrategyDataModel(domain\u001b[39m=\u001b[39;49mdomain, acquisition_function\u001b[39m=\u001b[39;49mqNEI())\n\u001b[1;32m      4\u001b[0m \u001b[39m# we generate the json spec\u001b[39;00m\n\u001b[1;32m      5\u001b[0m jspec \u001b[39m=\u001b[39m strategy_data\u001b[39m.\u001b[39mjson()\n",
      "File \u001b[0;32m/opt/homebrew/Caskroom/miniforge/base/envs/bofire/lib/python3.10/site-packages/pydantic/main.py:342\u001b[0m, in \u001b[0;36mpydantic.main.BaseModel.__init__\u001b[0;34m()\u001b[0m\n",
      "\u001b[0;31mValidationError\u001b[0m: 1 validation error for SoboStrategy\ndomain\n  no output feature specified (type=value_error)"
     ]
    }
   ],
   "source": [
    "# setup the data model\n",
    "strategy_data = SoboStrategyDataModel(domain=domain, acquisition_function=qNEI())\n",
    "\n",
    "# we generate the json spec\n",
    "jspec = strategy_data.json()\n",
    "\n",
    "jspec"
   ]
  },
  {
   "attachments": {},
   "cell_type": "markdown",
   "metadata": {},
   "source": [
    "Next try with a correct domain:"
   ]
  },
  {
   "cell_type": "code",
   "execution_count": 3,
   "metadata": {},
   "outputs": [
    {
     "name": "stdout",
     "output_type": "stream",
     "text": [
      "[] ['y']\n",
      "[SingleTaskGPSurrogate(type='SingleTaskGPSurrogate', input_features=Inputs(type='Inputs', features=[ContinuousInput(type='ContinuousInput', key='x_1', lower_bound=-4.0, upper_bound=4.0), ContinuousInput(type='ContinuousInput', key='x_2', lower_bound=-4.0, upper_bound=4.0)]), output_features=Outputs(type='Outputs', features=[ContinuousOutput(type='ContinuousOutput', key='y', objective=MaximizeObjective(type='MaximizeObjective', w=1.0, lower_bound=0, upper_bound=1))]), input_preprocessing_specs={}, kernel=ScaleKernel(type='ScaleKernel', base_kernel=MaternKernel(type='MaternKernel', ard=True, nu=2.5, lengthscale_prior=GammaPrior(type='GammaPrior', concentration=3.0, rate=6.0)), outputscale_prior=GammaPrior(type='GammaPrior', concentration=2.0, rate=0.15)), scaler=<ScalerEnum.NORMALIZE: 'NORMALIZE'>)]\n",
      "surrogates=[SingleTaskGPSurrogate(type='SingleTaskGPSurrogate', input_features=Inputs(type='Inputs', features=[ContinuousInput(type='ContinuousInput', key='x_1', lower_bound=-4.0, upper_bound=4.0), ContinuousInput(type='ContinuousInput', key='x_2', lower_bound=-4.0, upper_bound=4.0)]), output_features=Outputs(type='Outputs', features=[ContinuousOutput(type='ContinuousOutput', key='y', objective=MaximizeObjective(type='MaximizeObjective', w=1.0, lower_bound=0, upper_bound=1))]), input_preprocessing_specs={}, kernel=ScaleKernel(type='ScaleKernel', base_kernel=MaternKernel(type='MaternKernel', ard=True, nu=2.5, lengthscale_prior=GammaPrior(type='GammaPrior', concentration=3.0, rate=6.0)), outputscale_prior=GammaPrior(type='GammaPrior', concentration=2.0, rate=0.15)), scaler=<ScalerEnum.NORMALIZE: 'NORMALIZE'>)]\n"
     ]
    },
    {
     "data": {
      "text/plain": [
       "'{\"type\": \"SoboStrategy\", \"domain\": {\"type\": \"Domain\", \"input_features\": {\"type\": \"Inputs\", \"features\": [{\"type\": \"ContinuousInput\", \"key\": \"x_1\", \"lower_bound\": -4.0, \"upper_bound\": 4.0}, {\"type\": \"ContinuousInput\", \"key\": \"x_2\", \"lower_bound\": -4.0, \"upper_bound\": 4.0}]}, \"output_features\": {\"type\": \"Outputs\", \"features\": [{\"type\": \"ContinuousOutput\", \"key\": \"y\", \"objective\": {\"type\": \"MaximizeObjective\", \"w\": 1.0, \"lower_bound\": 0, \"upper_bound\": 1}}]}, \"constraints\": {\"type\": \"Constraints\", \"constraints\": []}}, \"seed\": 100, \"num_sobol_samples\": 512, \"num_restarts\": 8, \"num_raw_samples\": 1024, \"descriptor_method\": \"EXHAUSTIVE\", \"categorical_method\": \"EXHAUSTIVE\", \"discrete_method\": \"EXHAUSTIVE\", \"surrogate_specs\": {\"surrogates\": [{\"type\": \"SingleTaskGPSurrogate\", \"input_features\": {\"type\": \"Inputs\", \"features\": [{\"type\": \"ContinuousInput\", \"key\": \"x_1\", \"lower_bound\": -4.0, \"upper_bound\": 4.0}, {\"type\": \"ContinuousInput\", \"key\": \"x_2\", \"lower_bound\": -4.0, \"upper_bound\": 4.0}]}, \"output_features\": {\"type\": \"Outputs\", \"features\": [{\"type\": \"ContinuousOutput\", \"key\": \"y\", \"objective\": {\"type\": \"MaximizeObjective\", \"w\": 1.0, \"lower_bound\": 0, \"upper_bound\": 1}}]}, \"input_preprocessing_specs\": {}, \"kernel\": {\"type\": \"ScaleKernel\", \"base_kernel\": {\"type\": \"MaternKernel\", \"ard\": true, \"nu\": 2.5, \"lengthscale_prior\": {\"type\": \"GammaPrior\", \"concentration\": 3.0, \"rate\": 6.0}}, \"outputscale_prior\": {\"type\": \"GammaPrior\", \"concentration\": 2.0, \"rate\": 0.15}}, \"scaler\": \"NORMALIZE\"}]}, \"acquisition_function\": {\"type\": \"qNEI\"}}'"
      ]
     },
     "execution_count": 3,
     "metadata": {},
     "output_type": "execute_result"
    }
   ],
   "source": [
    "# setup the data model\n",
    "strategy_data = SoboStrategyDataModel(domain=benchmark.domain, acquisition_function=qNEI())\n",
    "\n",
    "# we generate the json spec\n",
    "jspec = strategy_data.json()\n",
    "\n",
    "jspec"
   ]
  },
  {
   "cell_type": "code",
   "execution_count": 4,
   "metadata": {},
   "outputs": [
    {
     "data": {
      "text/plain": [
       "BotorchSurrogates(surrogates=[SingleTaskGPSurrogate(type='SingleTaskGPSurrogate', input_features=Inputs(type='Inputs', features=[ContinuousInput(type='ContinuousInput', key='x_1', lower_bound=-4.0, upper_bound=4.0), ContinuousInput(type='ContinuousInput', key='x_2', lower_bound=-4.0, upper_bound=4.0)]), output_features=Outputs(type='Outputs', features=[ContinuousOutput(type='ContinuousOutput', key='y', objective=MaximizeObjective(type='MaximizeObjective', w=1.0, lower_bound=0, upper_bound=1))]), input_preprocessing_specs={}, kernel=ScaleKernel(type='ScaleKernel', base_kernel=MaternKernel(type='MaternKernel', ard=True, nu=2.5, lengthscale_prior=GammaPrior(type='GammaPrior', concentration=3.0, rate=6.0)), outputscale_prior=GammaPrior(type='GammaPrior', concentration=2.0, rate=0.15)), scaler=<ScalerEnum.NORMALIZE: 'NORMALIZE'>)])"
      ]
     },
     "execution_count": 4,
     "metadata": {},
     "output_type": "execute_result"
    }
   ],
   "source": [
    "strategy_data.surrogate_specs"
   ]
  },
  {
   "cell_type": "code",
   "execution_count": 5,
   "metadata": {},
   "outputs": [
    {
     "name": "stdout",
     "output_type": "stream",
     "text": [
      "['y'] []\n",
      "[BotorchSurrogate(type='SingleTaskGPSurrogate', input_features=Inputs(type='Inputs', features=[ContinuousInput(type='ContinuousInput', key='x_1', lower_bound=-4.0, upper_bound=4.0), ContinuousInput(type='ContinuousInput', key='x_2', lower_bound=-4.0, upper_bound=4.0)]), output_features=Outputs(type='Outputs', features=[ContinuousOutput(type='ContinuousOutput', key='y', objective=MaximizeObjective(type='MaximizeObjective', w=1.0, lower_bound=0.0, upper_bound=1.0))]), input_preprocessing_specs={})]\n",
      "surrogates=[BotorchSurrogate(type='SingleTaskGPSurrogate', input_features=Inputs(type='Inputs', features=[ContinuousInput(type='ContinuousInput', key='x_1', lower_bound=-4.0, upper_bound=4.0), ContinuousInput(type='ContinuousInput', key='x_2', lower_bound=-4.0, upper_bound=4.0)]), output_features=Outputs(type='Outputs', features=[ContinuousOutput(type='ContinuousOutput', key='y', objective=MaximizeObjective(type='MaximizeObjective', w=1.0, lower_bound=0.0, upper_bound=1.0))]), input_preprocessing_specs={})]\n"
     ]
    }
   ],
   "source": [
    "# load it\n",
    "strategy_data = parse_obj_as(AnyStrategy, json.loads(jspec))\n",
    "\n",
    "# map it\n",
    "#stategy = stategies.map(strategy_data)\n",
    "\n",
    "# ask it\n",
    "#df_candidates = stategy.ask(candidate_count=5)\n",
    "\n",
    "# transform to spec\n",
    "#candidates = stategy.to_candidates(df_candidates)\n",
    "\n",
    "#candidates"
   ]
  },
  {
   "cell_type": "code",
   "execution_count": 9,
   "metadata": {},
   "outputs": [
    {
     "data": {
      "text/plain": [
       "BotorchSurrogates(surrogates=[BotorchSurrogate(type='SingleTaskGPSurrogate', input_features=Inputs(type='Inputs', features=[ContinuousInput(type='ContinuousInput', key='x_1', lower_bound=-4.0, upper_bound=4.0), ContinuousInput(type='ContinuousInput', key='x_2', lower_bound=-4.0, upper_bound=4.0)]), output_features=Outputs(type='Outputs', features=[ContinuousOutput(type='ContinuousOutput', key='y', objective=MaximizeObjective(type='MaximizeObjective', w=1.0, lower_bound=0.0, upper_bound=1.0))]), input_preprocessing_specs={})])"
      ]
     },
     "execution_count": 9,
     "metadata": {},
     "output_type": "execute_result"
    }
   ],
   "source": [
    "strategy_data.surrogate_specs"
   ]
  },
  {
   "cell_type": "code",
   "execution_count": null,
   "metadata": {},
   "outputs": [],
   "source": []
  }
 ],
 "metadata": {
  "kernelspec": {
   "display_name": "bofire",
   "language": "python",
   "name": "python3"
  },
  "language_info": {
   "codemirror_mode": {
    "name": "ipython",
    "version": 3
   },
   "file_extension": ".py",
   "mimetype": "text/x-python",
   "name": "python",
   "nbconvert_exporter": "python",
   "pygments_lexer": "ipython3",
   "version": "3.10.9"
  },
  "orig_nbformat": 4
 },
 "nbformat": 4,
 "nbformat_minor": 2
}
